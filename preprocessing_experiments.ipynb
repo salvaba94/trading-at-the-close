{
 "cells": [
  {
   "cell_type": "markdown",
   "metadata": {
    "id": "YgyeUA40aslE"
   },
   "source": [
    "# Trading at the Close - Feature Engineering\n",
    "-----------------------\n",
    "-----------------------"
   ]
  },
  {
   "cell_type": "markdown",
   "metadata": {
    "id": "Optzx97aahnJ"
   },
   "source": [
    "Feature selection involves picking the set of features that are most relevant to the target variable. This helps in reducing the complexity of the model, as well as minimizing the resources required for training and inference. This has greater effect in production models where one maybe dealing with terabytes of data or serving millions of requests.\n",
    "\n",
    "Most of the modules will come from [scikit-learn](https://scikit-learn.org/stable/), one of the most commonly used machine learning libraries. It features various machine learning algorithms and has built-in implementations of different feature selection methods. Using these, you will be able to compare which method works best for this particular dataset."
   ]
  },
  {
   "cell_type": "markdown",
   "metadata": {},
   "source": [
    "## Installs\n",
    "-----------"
   ]
  },
  {
   "cell_type": "code",
   "execution_count": 1,
   "metadata": {},
   "outputs": [
    {
     "name": "stdout",
     "output_type": "stream",
     "text": [
      "Looking in indexes: https://pypi.org/simple, https://pypi.ngc.nvidia.com\n",
      "Requirement already satisfied: pandas>=2.1.1 in c:\\users\\salva\\onedrive\\documentos\\python projects\\trading-at-the-close\\.venv\\lib\\site-packages (from -r requirements.txt (line 1)) (2.1.1)\n",
      "Requirement already satisfied: seaborn>=0.13.0 in c:\\users\\salva\\onedrive\\documentos\\python projects\\trading-at-the-close\\.venv\\lib\\site-packages (from -r requirements.txt (line 2)) (0.13.0)\n",
      "Requirement already satisfied: numpy>=1.26.0 in c:\\users\\salva\\onedrive\\documentos\\python projects\\trading-at-the-close\\.venv\\lib\\site-packages (from -r requirements.txt (line 3)) (1.26.0)\n",
      "Requirement already satisfied: xgboost>=2.0.0 in c:\\users\\salva\\onedrive\\documentos\\python projects\\trading-at-the-close\\.venv\\lib\\site-packages (from -r requirements.txt (line 4)) (2.0.0)\n",
      "Requirement already satisfied: lightgbm>=4.1.0 in c:\\users\\salva\\onedrive\\documentos\\python projects\\trading-at-the-close\\.venv\\lib\\site-packages (from -r requirements.txt (line 5)) (4.1.0)\n",
      "Requirement already satisfied: catboost>=1.2.2 in c:\\users\\salva\\onedrive\\documentos\\python projects\\trading-at-the-close\\.venv\\lib\\site-packages (from -r requirements.txt (line 6)) (1.2.2)\n",
      "Requirement already satisfied: scikit-learn>=1.3.1 in c:\\users\\salva\\onedrive\\documentos\\python projects\\trading-at-the-close\\.venv\\lib\\site-packages (from -r requirements.txt (line 7)) (1.3.1)\n",
      "Requirement already satisfied: fastparquet>=2023.8.0 in c:\\users\\salva\\onedrive\\documentos\\python projects\\trading-at-the-close\\.venv\\lib\\site-packages (from -r requirements.txt (line 8)) (2023.8.0)\n",
      "Requirement already satisfied: ray[tune]>=2.7.0 in c:\\users\\salva\\onedrive\\documentos\\python projects\\trading-at-the-close\\.venv\\lib\\site-packages (from -r requirements.txt (line 9)) (2.7.0)\n",
      "Requirement already satisfied: optuna>=3.3.0 in c:\\users\\salva\\onedrive\\documentos\\python projects\\trading-at-the-close\\.venv\\lib\\site-packages (from -r requirements.txt (line 10)) (3.3.0)\n",
      "Requirement already satisfied: optuna-dashboard>=0.12.0 in c:\\users\\salva\\onedrive\\documentos\\python projects\\trading-at-the-close\\.venv\\lib\\site-packages (from -r requirements.txt (line 11)) (0.12.0)\n",
      "Requirement already satisfied: loguru>=0.7.2 in c:\\users\\salva\\onedrive\\documentos\\python projects\\trading-at-the-close\\.venv\\lib\\site-packages (from -r requirements.txt (line 12)) (0.7.2)\n",
      "Requirement already satisfied: nbformat>=5.9.2 in c:\\users\\salva\\onedrive\\documentos\\python projects\\trading-at-the-close\\.venv\\lib\\site-packages (from -r requirements.txt (line 13)) (5.9.2)\n",
      "Requirement already satisfied: python-dateutil>=2.8.2 in c:\\users\\salva\\onedrive\\documentos\\python projects\\trading-at-the-close\\.venv\\lib\\site-packages (from pandas>=2.1.1->-r requirements.txt (line 1)) (2.8.2)\n",
      "Requirement already satisfied: pytz>=2020.1 in c:\\users\\salva\\onedrive\\documentos\\python projects\\trading-at-the-close\\.venv\\lib\\site-packages (from pandas>=2.1.1->-r requirements.txt (line 1)) (2023.3.post1)\n",
      "Requirement already satisfied: tzdata>=2022.1 in c:\\users\\salva\\onedrive\\documentos\\python projects\\trading-at-the-close\\.venv\\lib\\site-packages (from pandas>=2.1.1->-r requirements.txt (line 1)) (2023.3)\n",
      "Requirement already satisfied: matplotlib!=3.6.1,>=3.3 in c:\\users\\salva\\onedrive\\documentos\\python projects\\trading-at-the-close\\.venv\\lib\\site-packages (from seaborn>=0.13.0->-r requirements.txt (line 2)) (3.8.0)\n",
      "Requirement already satisfied: scipy in c:\\users\\salva\\onedrive\\documentos\\python projects\\trading-at-the-close\\.venv\\lib\\site-packages (from xgboost>=2.0.0->-r requirements.txt (line 4)) (1.11.3)\n",
      "Requirement already satisfied: graphviz in c:\\users\\salva\\onedrive\\documentos\\python projects\\trading-at-the-close\\.venv\\lib\\site-packages (from catboost>=1.2.2->-r requirements.txt (line 6)) (0.20.1)\n",
      "Requirement already satisfied: plotly in c:\\users\\salva\\onedrive\\documentos\\python projects\\trading-at-the-close\\.venv\\lib\\site-packages (from catboost>=1.2.2->-r requirements.txt (line 6)) (5.17.0)\n",
      "Requirement already satisfied: six in c:\\users\\salva\\onedrive\\documentos\\python projects\\trading-at-the-close\\.venv\\lib\\site-packages (from catboost>=1.2.2->-r requirements.txt (line 6)) (1.16.0)\n",
      "Requirement already satisfied: joblib>=1.1.1 in c:\\users\\salva\\onedrive\\documentos\\python projects\\trading-at-the-close\\.venv\\lib\\site-packages (from scikit-learn>=1.3.1->-r requirements.txt (line 7)) (1.3.2)\n",
      "Requirement already satisfied: threadpoolctl>=2.0.0 in c:\\users\\salva\\onedrive\\documentos\\python projects\\trading-at-the-close\\.venv\\lib\\site-packages (from scikit-learn>=1.3.1->-r requirements.txt (line 7)) (3.2.0)\n",
      "Requirement already satisfied: cramjam>=2.3 in c:\\users\\salva\\onedrive\\documentos\\python projects\\trading-at-the-close\\.venv\\lib\\site-packages (from fastparquet>=2023.8.0->-r requirements.txt (line 8)) (2.7.0)\n",
      "Requirement already satisfied: fsspec in c:\\users\\salva\\onedrive\\documentos\\python projects\\trading-at-the-close\\.venv\\lib\\site-packages (from fastparquet>=2023.8.0->-r requirements.txt (line 8)) (2023.9.2)\n",
      "Requirement already satisfied: packaging in c:\\users\\salva\\onedrive\\documentos\\python projects\\trading-at-the-close\\.venv\\lib\\site-packages (from fastparquet>=2023.8.0->-r requirements.txt (line 8)) (23.1)\n",
      "Requirement already satisfied: click>=7.0 in c:\\users\\salva\\onedrive\\documentos\\python projects\\trading-at-the-close\\.venv\\lib\\site-packages (from ray[tune]>=2.7.0->-r requirements.txt (line 9)) (8.1.7)\n",
      "Requirement already satisfied: filelock in c:\\users\\salva\\onedrive\\documentos\\python projects\\trading-at-the-close\\.venv\\lib\\site-packages (from ray[tune]>=2.7.0->-r requirements.txt (line 9)) (3.12.4)\n",
      "Requirement already satisfied: jsonschema in c:\\users\\salva\\onedrive\\documentos\\python projects\\trading-at-the-close\\.venv\\lib\\site-packages (from ray[tune]>=2.7.0->-r requirements.txt (line 9)) (4.19.1)\n",
      "Requirement already satisfied: msgpack<2.0.0,>=1.0.0 in c:\\users\\salva\\onedrive\\documentos\\python projects\\trading-at-the-close\\.venv\\lib\\site-packages (from ray[tune]>=2.7.0->-r requirements.txt (line 9)) (1.0.7)\n",
      "Requirement already satisfied: protobuf!=3.19.5,>=3.15.3 in c:\\users\\salva\\onedrive\\documentos\\python projects\\trading-at-the-close\\.venv\\lib\\site-packages (from ray[tune]>=2.7.0->-r requirements.txt (line 9)) (4.24.3)\n",
      "Requirement already satisfied: pyyaml in c:\\users\\salva\\onedrive\\documentos\\python projects\\trading-at-the-close\\.venv\\lib\\site-packages (from ray[tune]>=2.7.0->-r requirements.txt (line 9)) (6.0.1)\n",
      "Requirement already satisfied: aiosignal in c:\\users\\salva\\onedrive\\documentos\\python projects\\trading-at-the-close\\.venv\\lib\\site-packages (from ray[tune]>=2.7.0->-r requirements.txt (line 9)) (1.3.1)\n",
      "Requirement already satisfied: frozenlist in c:\\users\\salva\\onedrive\\documentos\\python projects\\trading-at-the-close\\.venv\\lib\\site-packages (from ray[tune]>=2.7.0->-r requirements.txt (line 9)) (1.4.0)\n",
      "Requirement already satisfied: requests in c:\\users\\salva\\onedrive\\documentos\\python projects\\trading-at-the-close\\.venv\\lib\\site-packages (from ray[tune]>=2.7.0->-r requirements.txt (line 9)) (2.31.0)\n",
      "Requirement already satisfied: tensorboardX>=1.9 in c:\\users\\salva\\onedrive\\documentos\\python projects\\trading-at-the-close\\.venv\\lib\\site-packages (from ray[tune]>=2.7.0->-r requirements.txt (line 9)) (2.6.2.2)\n",
      "Requirement already satisfied: pyarrow<7.0.0,>=6.0.1 in c:\\users\\salva\\onedrive\\documentos\\python projects\\trading-at-the-close\\.venv\\lib\\site-packages (from ray[tune]>=2.7.0->-r requirements.txt (line 9)) (6.0.1)\n",
      "Requirement already satisfied: alembic>=1.5.0 in c:\\users\\salva\\onedrive\\documentos\\python projects\\trading-at-the-close\\.venv\\lib\\site-packages (from optuna>=3.3.0->-r requirements.txt (line 10)) (1.12.0)\n",
      "Requirement already satisfied: cmaes>=0.10.0 in c:\\users\\salva\\onedrive\\documentos\\python projects\\trading-at-the-close\\.venv\\lib\\site-packages (from optuna>=3.3.0->-r requirements.txt (line 10)) (0.10.0)\n",
      "Requirement already satisfied: colorlog in c:\\users\\salva\\onedrive\\documentos\\python projects\\trading-at-the-close\\.venv\\lib\\site-packages (from optuna>=3.3.0->-r requirements.txt (line 10)) (6.7.0)\n",
      "Requirement already satisfied: sqlalchemy>=1.3.0 in c:\\users\\salva\\onedrive\\documentos\\python projects\\trading-at-the-close\\.venv\\lib\\site-packages (from optuna>=3.3.0->-r requirements.txt (line 10)) (2.0.21)\n",
      "Requirement already satisfied: tqdm in c:\\users\\salva\\onedrive\\documentos\\python projects\\trading-at-the-close\\.venv\\lib\\site-packages (from optuna>=3.3.0->-r requirements.txt (line 10)) (4.66.1)\n",
      "Requirement already satisfied: bottle in c:\\users\\salva\\onedrive\\documentos\\python projects\\trading-at-the-close\\.venv\\lib\\site-packages (from optuna-dashboard>=0.12.0->-r requirements.txt (line 11)) (0.12.25)\n",
      "Requirement already satisfied: colorama>=0.3.4 in c:\\users\\salva\\onedrive\\documentos\\python projects\\trading-at-the-close\\.venv\\lib\\site-packages (from loguru>=0.7.2->-r requirements.txt (line 12)) (0.4.6)\n",
      "Requirement already satisfied: win32-setctime>=1.0.0 in c:\\users\\salva\\onedrive\\documentos\\python projects\\trading-at-the-close\\.venv\\lib\\site-packages (from loguru>=0.7.2->-r requirements.txt (line 12)) (1.1.0)\n",
      "Requirement already satisfied: fastjsonschema in c:\\users\\salva\\onedrive\\documentos\\python projects\\trading-at-the-close\\.venv\\lib\\site-packages (from nbformat>=5.9.2->-r requirements.txt (line 13)) (2.18.1)\n",
      "Requirement already satisfied: jupyter-core in c:\\users\\salva\\onedrive\\documentos\\python projects\\trading-at-the-close\\.venv\\lib\\site-packages (from nbformat>=5.9.2->-r requirements.txt (line 13)) (5.3.2)\n",
      "Requirement already satisfied: traitlets>=5.1 in c:\\users\\salva\\onedrive\\documentos\\python projects\\trading-at-the-close\\.venv\\lib\\site-packages (from nbformat>=5.9.2->-r requirements.txt (line 13)) (5.10.1)\n",
      "Requirement already satisfied: Mako in c:\\users\\salva\\onedrive\\documentos\\python projects\\trading-at-the-close\\.venv\\lib\\site-packages (from alembic>=1.5.0->optuna>=3.3.0->-r requirements.txt (line 10)) (1.2.4)\n",
      "Requirement already satisfied: typing-extensions>=4 in c:\\users\\salva\\onedrive\\documentos\\python projects\\trading-at-the-close\\.venv\\lib\\site-packages (from alembic>=1.5.0->optuna>=3.3.0->-r requirements.txt (line 10)) (4.8.0)\n",
      "Requirement already satisfied: attrs>=22.2.0 in c:\\users\\salva\\onedrive\\documentos\\python projects\\trading-at-the-close\\.venv\\lib\\site-packages (from jsonschema->ray[tune]>=2.7.0->-r requirements.txt (line 9)) (23.1.0)\n",
      "Requirement already satisfied: jsonschema-specifications>=2023.03.6 in c:\\users\\salva\\onedrive\\documentos\\python projects\\trading-at-the-close\\.venv\\lib\\site-packages (from jsonschema->ray[tune]>=2.7.0->-r requirements.txt (line 9)) (2023.7.1)\n",
      "Requirement already satisfied: referencing>=0.28.4 in c:\\users\\salva\\onedrive\\documentos\\python projects\\trading-at-the-close\\.venv\\lib\\site-packages (from jsonschema->ray[tune]>=2.7.0->-r requirements.txt (line 9)) (0.30.2)\n",
      "Requirement already satisfied: rpds-py>=0.7.1 in c:\\users\\salva\\onedrive\\documentos\\python projects\\trading-at-the-close\\.venv\\lib\\site-packages (from jsonschema->ray[tune]>=2.7.0->-r requirements.txt (line 9)) (0.10.3)\n",
      "Requirement already satisfied: contourpy>=1.0.1 in c:\\users\\salva\\onedrive\\documentos\\python projects\\trading-at-the-close\\.venv\\lib\\site-packages (from matplotlib!=3.6.1,>=3.3->seaborn>=0.13.0->-r requirements.txt (line 2)) (1.1.1)\n",
      "Requirement already satisfied: cycler>=0.10 in c:\\users\\salva\\onedrive\\documentos\\python projects\\trading-at-the-close\\.venv\\lib\\site-packages (from matplotlib!=3.6.1,>=3.3->seaborn>=0.13.0->-r requirements.txt (line 2)) (0.12.0)\n",
      "Requirement already satisfied: fonttools>=4.22.0 in c:\\users\\salva\\onedrive\\documentos\\python projects\\trading-at-the-close\\.venv\\lib\\site-packages (from matplotlib!=3.6.1,>=3.3->seaborn>=0.13.0->-r requirements.txt (line 2)) (4.43.0)\n",
      "Requirement already satisfied: kiwisolver>=1.0.1 in c:\\users\\salva\\onedrive\\documentos\\python projects\\trading-at-the-close\\.venv\\lib\\site-packages (from matplotlib!=3.6.1,>=3.3->seaborn>=0.13.0->-r requirements.txt (line 2)) (1.4.5)\n",
      "Requirement already satisfied: pillow>=6.2.0 in c:\\users\\salva\\onedrive\\documentos\\python projects\\trading-at-the-close\\.venv\\lib\\site-packages (from matplotlib!=3.6.1,>=3.3->seaborn>=0.13.0->-r requirements.txt (line 2)) (10.0.1)\n",
      "Requirement already satisfied: pyparsing>=2.3.1 in c:\\users\\salva\\onedrive\\documentos\\python projects\\trading-at-the-close\\.venv\\lib\\site-packages (from matplotlib!=3.6.1,>=3.3->seaborn>=0.13.0->-r requirements.txt (line 2)) (3.1.1)\n",
      "Requirement already satisfied: greenlet!=0.4.17 in c:\\users\\salva\\onedrive\\documentos\\python projects\\trading-at-the-close\\.venv\\lib\\site-packages (from sqlalchemy>=1.3.0->optuna>=3.3.0->-r requirements.txt (line 10)) (3.0.0)\n",
      "Requirement already satisfied: platformdirs>=2.5 in c:\\users\\salva\\onedrive\\documentos\\python projects\\trading-at-the-close\\.venv\\lib\\site-packages (from jupyter-core->nbformat>=5.9.2->-r requirements.txt (line 13)) (3.10.0)\n",
      "Requirement already satisfied: pywin32>=300 in c:\\users\\salva\\onedrive\\documentos\\python projects\\trading-at-the-close\\.venv\\lib\\site-packages (from jupyter-core->nbformat>=5.9.2->-r requirements.txt (line 13)) (306)\n",
      "Requirement already satisfied: tenacity>=6.2.0 in c:\\users\\salva\\onedrive\\documentos\\python projects\\trading-at-the-close\\.venv\\lib\\site-packages (from plotly->catboost>=1.2.2->-r requirements.txt (line 6)) (8.2.3)\n",
      "Requirement already satisfied: charset-normalizer<4,>=2 in c:\\users\\salva\\onedrive\\documentos\\python projects\\trading-at-the-close\\.venv\\lib\\site-packages (from requests->ray[tune]>=2.7.0->-r requirements.txt (line 9)) (3.2.0)\n",
      "Requirement already satisfied: idna<4,>=2.5 in c:\\users\\salva\\onedrive\\documentos\\python projects\\trading-at-the-close\\.venv\\lib\\site-packages (from requests->ray[tune]>=2.7.0->-r requirements.txt (line 9)) (3.4)\n",
      "Requirement already satisfied: urllib3<3,>=1.21.1 in c:\\users\\salva\\onedrive\\documentos\\python projects\\trading-at-the-close\\.venv\\lib\\site-packages (from requests->ray[tune]>=2.7.0->-r requirements.txt (line 9)) (2.0.5)\n",
      "Requirement already satisfied: certifi>=2017.4.17 in c:\\users\\salva\\onedrive\\documentos\\python projects\\trading-at-the-close\\.venv\\lib\\site-packages (from requests->ray[tune]>=2.7.0->-r requirements.txt (line 9)) (2023.7.22)\n",
      "Requirement already satisfied: MarkupSafe>=0.9.2 in c:\\users\\salva\\onedrive\\documentos\\python projects\\trading-at-the-close\\.venv\\lib\\site-packages (from Mako->alembic>=1.5.0->optuna>=3.3.0->-r requirements.txt (line 10)) (2.1.3)\n",
      "Note: you may need to restart the kernel to use updated packages.\n"
     ]
    },
    {
     "name": "stderr",
     "output_type": "stream",
     "text": [
      "\n",
      "[notice] A new release of pip is available: 23.2.1 -> 23.3\n",
      "[notice] To update, run: python.exe -m pip install --upgrade pip\n"
     ]
    }
   ],
   "source": [
    "%pip install -r requirements.txt"
   ]
  },
  {
   "cell_type": "markdown",
   "metadata": {
    "id": "ZEnMK4DRNV1O"
   },
   "source": [
    "## Imports\n",
    "------------------\n",
    "\n"
   ]
  },
  {
   "cell_type": "code",
   "execution_count": 2,
   "metadata": {
    "id": "ZersTw6TH1Zj"
   },
   "outputs": [],
   "source": [
    "# for data processing and manipulation\n",
    "import pandas as pd\n",
    "import numpy as np\n",
    "from pathlib import Path\n",
    "\n",
    "\n",
    "# scikit-learn modules for feature selection and model evaluation\n",
    "from sklearn.feature_selection import RFE, SelectFromModel\n",
    "from sklearn.model_selection import train_test_split\n",
    "from sklearn.metrics import mean_absolute_error \n",
    "from sklearn.metrics import mean_squared_error\n",
    "from sklearn.metrics import mean_absolute_percentage_error\n",
    "from sklearn.preprocessing import StandardScaler\n",
    "from lightgbm import LGBMRegressor\n",
    "import lightgbm as lgb\n",
    "from loguru import logger\n",
    "from pprint import pformat, pprint\n",
    "\n",
    "# libraries for visualization\n",
    "import seaborn as sns\n",
    "import matplotlib\n",
    "import matplotlib.pyplot as plt\n",
    "\n",
    "sns.set_style(\"ticks\")"
   ]
  },
  {
   "cell_type": "markdown",
   "metadata": {},
   "source": [
    "## Define the Configuration"
   ]
  },
  {
   "cell_type": "markdown",
   "metadata": {},
   "source": [
    "This cell defines the configuration to use throughout this notebook for feature selection."
   ]
  },
  {
   "cell_type": "code",
   "execution_count": 3,
   "metadata": {},
   "outputs": [],
   "source": [
    "class CFG:\n",
    "    JOBS_PATH = Path(\".\", \"job_artifacts\")\n",
    "    JOB_NAME = \"optiver-feature_selection\"\n",
    "    TRAINING_PATH = Path(\".\", \"train_files\", \"train.csv\")\n",
    "    SELECTED_FEATURES = \"feature_names.json\"\n",
    "    TRAIN_STATS = \"train_stats.csv\"\n",
    "    RANDOM_STATE = 123\n",
    "    N_FOLDS = 5\n",
    "    N_JOBS = 4\n",
    "    USE_GPU = False\n",
    "    SCALE = False # Tree-based models are invariant to feature scaling (this is not necessary)\n",
    "    SCALER = StandardScaler\n",
    "    STRATIFY = False # Not convenient in time series\n",
    "    TIME_AWARE_SPLIT = True # Not convenient in time series\n",
    "    MODEL = LGBMRegressor\n",
    "    RFE_FEAT_COUNT = 15\n",
    "    FEAT_FIMPORT_COUNT= 50"
   ]
  },
  {
   "cell_type": "code",
   "execution_count": 4,
   "metadata": {},
   "outputs": [],
   "source": [
    "def lgbm_params():\n",
    "    \"\"\"Returns algorithm parameters.\"\"\"\n",
    "\n",
    "    params = {\n",
    "        \"device\"            : \"gpu\" if CFG.USE_GPU else \"cpu\",\n",
    "        \"objective\"         : \"mae\",\n",
    "        \"boosting_type\"     : \"gbdt\",\n",
    "        \"random_state\"      : CFG.RANDOM_STATE,\n",
    "        \"n_jobs\"            : CFG.N_JOBS\n",
    "    }\n",
    "\n",
    "    return params\n",
    "\n",
    "\n",
    "MODEL_CFG = {\n",
    "    LGBMRegressor.__name__ : {\n",
    "        \"params_func\": lgbm_params,\n",
    "        \"callbacks\": [lgb.early_stopping(50)]\n",
    "    }\n",
    "}"
   ]
  },
  {
   "cell_type": "markdown",
   "metadata": {},
   "source": [
    "Create the artifacts folder tree incrementally. Each run will correspond to a different folder."
   ]
  },
  {
   "cell_type": "code",
   "execution_count": 5,
   "metadata": {},
   "outputs": [],
   "source": [
    "CFG.JOBS_PATH.mkdir(exist_ok=True, parents=True)\n",
    "\n",
    "for i in range(1, 10000):\n",
    "    CFG.JOB_PATH = CFG.JOBS_PATH.joinpath(CFG.JOB_NAME + \"-\" +  str(i).zfill(4))\n",
    "    try:\n",
    "        CFG.JOB_PATH.mkdir()\n",
    "        break\n",
    "    except:\n",
    "        continue"
   ]
  },
  {
   "cell_type": "markdown",
   "metadata": {},
   "source": [
    "## Define Helper Functions"
   ]
  },
  {
   "cell_type": "markdown",
   "metadata": {},
   "source": [
    "The following cells define helper functions for feature creation and selection."
   ]
  },
  {
   "cell_type": "code",
   "execution_count": 6,
   "metadata": {},
   "outputs": [
    {
     "name": "stdout",
     "output_type": "stream",
     "text": [
      "Overwriting utils/featurizers.py\n"
     ]
    }
   ],
   "source": [
    "%%writefile utils/featurizers.py\n",
    "\n",
    "import numpy as np\n",
    "import csv\n",
    "import pandas as pd\n",
    "from itertools import combinations\n",
    "from pathlib import Path\n",
    "from typing import List\n",
    "\n",
    "try:\n",
    "    from loguru import logger\n",
    "except:\n",
    "    import logging\n",
    "    logger = logging.getLogger(\"__main__\")\n",
    "\n",
    "from .compression import downcast\n",
    "\n",
    "\n",
    "# Realized return\n",
    "def realized_return(wap):\n",
    "    return np.sqrt(((np.log(wap).diff())**2).sum())\n",
    "\n",
    "# Log return\n",
    "def log_return(series):\n",
    "    return np.log(series).diff()\n",
    "\n",
    "\n",
    "def featurize(df: pd.DataFrame, features: List[str] = None, reduce_memory: bool = True) -> None:\n",
    "    '''This function creates new features for analysis. Works fully in memory'''\n",
    "\n",
    "    logger.info(\"Creating additional features...\")\n",
    "\n",
    "    # Median volume, low and high volumes flag\n",
    "    #median_vol = df.groupby(\"stock_id\")[\"bid_size\"].median() + \\\n",
    "    #            df.groupby(\"stock_id\")[\"ask_size\"].median()\n",
    "    #df[\"median_volume\"] = df[\"stock_id\"].map(median_vol.to_dict())\n",
    "\n",
    "    df[\"imb_s1\"] = df.eval(\"(bid_size - ask_size)/(bid_size + ask_size)\")\n",
    "    df[\"imb_s2\"] = df.eval(\"(imbalance_size - matched_size)/(matched_size + imbalance_size)\")\n",
    "    \n",
    "    df[\"ask_volume\"] = df.eval(\"ask_size * ask_price\")\n",
    "    df[\"bid_volume\"] = df.eval(\"bid_size * bid_price\")\n",
    "    df[\"volume\"] = df.eval(\"ask_volume + bid_volume\")\n",
    "    df[\"size_spread\"] = df[\"ask_size\"] - df[\"bid_size\"] \n",
    "    df[\"volumes_spread\"] = df[\"ask_volume\"] - df[\"bid_volume\"] \n",
    "    df[\"bid_size_over_ask_size\"] = df[\"bid_size\"].div(df[\"ask_size\"])\n",
    "    df[\"bid_price_over_ask_price\"] = df[\"bid_price\"].div(df[\"ask_price\"])\n",
    "\n",
    "    # Imbalance features\n",
    "    df[\"imb_ratio\"] = df[\"imbalance_size\"] / df[\"matched_size\"]\n",
    "    df[\"imb_s1\"] = df.eval(\"(bid_size - ask_size)/(bid_size + ask_size)\")\n",
    "    df[\"imb_s2\"] = df.eval(\"(imbalance_size - matched_size)/(matched_size + imbalance_size)\")\n",
    "\n",
    "    df[\"log_return\"] = df.groupby([\"time_id\"])[\"wap\"].apply(log_return).reset_index()[\"wap\"]\n",
    "\n",
    "    # Date features\n",
    "    df[\"date_id_sin\"] = np.sin(2. * np.pi * df[\"date_id\"]/5.)\n",
    "    df[\"date_id_cos\"] = np.cos(2. * np.pi * df[\"date_id\"]/5.)\n",
    "    df.drop(columns=[\"date_id\"], inplace=True, errors=\"ignore\")\n",
    "\n",
    "    # Combinations of price variables\n",
    "    prices = [\"reference_price\", \"far_price\", \"near_price\", \"ask_price\", \"bid_price\", \"wap\"]\n",
    "\n",
    "    for c in combinations(prices, 2):\n",
    "        df[f\"{c[0]}_minus_{c[1]}\"] = (df[f\"{c[0]}\"] - df[f\"{c[1]}\"])\n",
    "        df[f\"{c[0]}_times_{c[1]}\"] = (df[f\"{c[0]}\"] * df[f\"{c[1]}\"])\n",
    "        df[f\"{c[0]}_{c[1]}_imb1\"] = df.eval(f\"({c[0]}-{c[1]})/({c[0]}+{c[1]})\")\n",
    "\n",
    "    for c in combinations(prices, 3):\n",
    "        max_ = df[list(c)].max(axis=1)\n",
    "        min_ = df[list(c)].min(axis=1)\n",
    "        mid_ = df[list(c)].sum(axis=1) - min_ - max_\n",
    "\n",
    "        df[f\"{c[0]}_{c[1]}_{c[2]}_imb2\"] = (max_ - mid_)/(mid_ - min_)\n",
    "\n",
    "    df.drop(columns=[\"row_id\", \"time_id\"], inplace=True, errors=\"ignore\")\n",
    "\n",
    "    if features is not None:\n",
    "        logger.info(\"Dropping unnecesary features...\")\n",
    "        df.drop(columns=[elem for elem in df.columns if elem not in features], inplace=True)\n",
    "\n",
    "    if reduce_memory:\n",
    "        logger.info(\"Reducing data memory footprint...\")\n",
    "        downcast(df)"
   ]
  },
  {
   "cell_type": "markdown",
   "metadata": {
    "id": "TvMpn0VaazcC"
   },
   "source": [
    "## Load the dataset\n",
    "\n",
    "The following cell loads a memory optimized version of the training dataset and saves it to Parquet format for better IO operations."
   ]
  },
  {
   "cell_type": "code",
   "execution_count": 7,
   "metadata": {
    "id": "DspE2DYYPpRp"
   },
   "outputs": [
    {
     "data": {
      "text/html": [
       "<div>\n",
       "<style scoped>\n",
       "    .dataframe tbody tr th:only-of-type {\n",
       "        vertical-align: middle;\n",
       "    }\n",
       "\n",
       "    .dataframe tbody tr th {\n",
       "        vertical-align: top;\n",
       "    }\n",
       "\n",
       "    .dataframe thead th {\n",
       "        text-align: right;\n",
       "    }\n",
       "</style>\n",
       "<table border=\"1\" class=\"dataframe\">\n",
       "  <thead>\n",
       "    <tr style=\"text-align: right;\">\n",
       "      <th></th>\n",
       "      <th>stock_id</th>\n",
       "      <th>date_id</th>\n",
       "      <th>seconds_in_bucket</th>\n",
       "      <th>imbalance_size</th>\n",
       "      <th>imbalance_buy_sell_flag</th>\n",
       "      <th>reference_price</th>\n",
       "      <th>matched_size</th>\n",
       "      <th>far_price</th>\n",
       "      <th>near_price</th>\n",
       "      <th>bid_price</th>\n",
       "      <th>bid_size</th>\n",
       "      <th>ask_price</th>\n",
       "      <th>ask_size</th>\n",
       "      <th>wap</th>\n",
       "      <th>target</th>\n",
       "      <th>time_id</th>\n",
       "      <th>row_id</th>\n",
       "    </tr>\n",
       "  </thead>\n",
       "  <tbody>\n",
       "    <tr>\n",
       "      <th>count</th>\n",
       "      <td>5.237980e+06</td>\n",
       "      <td>5.237980e+06</td>\n",
       "      <td>5.237980e+06</td>\n",
       "      <td>5.237760e+06</td>\n",
       "      <td>5.237980e+06</td>\n",
       "      <td>5.237760e+06</td>\n",
       "      <td>5.237760e+06</td>\n",
       "      <td>2.343638e+06</td>\n",
       "      <td>2.380800e+06</td>\n",
       "      <td>5.237760e+06</td>\n",
       "      <td>5.237980e+06</td>\n",
       "      <td>5.237760e+06</td>\n",
       "      <td>5.237980e+06</td>\n",
       "      <td>5.237760e+06</td>\n",
       "      <td>5.237892e+06</td>\n",
       "      <td>5.237980e+06</td>\n",
       "      <td>5237980</td>\n",
       "    </tr>\n",
       "    <tr>\n",
       "      <th>unique</th>\n",
       "      <td>NaN</td>\n",
       "      <td>NaN</td>\n",
       "      <td>NaN</td>\n",
       "      <td>NaN</td>\n",
       "      <td>NaN</td>\n",
       "      <td>NaN</td>\n",
       "      <td>NaN</td>\n",
       "      <td>NaN</td>\n",
       "      <td>NaN</td>\n",
       "      <td>NaN</td>\n",
       "      <td>NaN</td>\n",
       "      <td>NaN</td>\n",
       "      <td>NaN</td>\n",
       "      <td>NaN</td>\n",
       "      <td>NaN</td>\n",
       "      <td>NaN</td>\n",
       "      <td>5237980</td>\n",
       "    </tr>\n",
       "    <tr>\n",
       "      <th>top</th>\n",
       "      <td>NaN</td>\n",
       "      <td>NaN</td>\n",
       "      <td>NaN</td>\n",
       "      <td>NaN</td>\n",
       "      <td>NaN</td>\n",
       "      <td>NaN</td>\n",
       "      <td>NaN</td>\n",
       "      <td>NaN</td>\n",
       "      <td>NaN</td>\n",
       "      <td>NaN</td>\n",
       "      <td>NaN</td>\n",
       "      <td>NaN</td>\n",
       "      <td>NaN</td>\n",
       "      <td>NaN</td>\n",
       "      <td>NaN</td>\n",
       "      <td>NaN</td>\n",
       "      <td>0_0_0</td>\n",
       "    </tr>\n",
       "    <tr>\n",
       "      <th>freq</th>\n",
       "      <td>NaN</td>\n",
       "      <td>NaN</td>\n",
       "      <td>NaN</td>\n",
       "      <td>NaN</td>\n",
       "      <td>NaN</td>\n",
       "      <td>NaN</td>\n",
       "      <td>NaN</td>\n",
       "      <td>NaN</td>\n",
       "      <td>NaN</td>\n",
       "      <td>NaN</td>\n",
       "      <td>NaN</td>\n",
       "      <td>NaN</td>\n",
       "      <td>NaN</td>\n",
       "      <td>NaN</td>\n",
       "      <td>NaN</td>\n",
       "      <td>NaN</td>\n",
       "      <td>1</td>\n",
       "    </tr>\n",
       "    <tr>\n",
       "      <th>mean</th>\n",
       "      <td>9.928856e+01</td>\n",
       "      <td>2.415100e+02</td>\n",
       "      <td>2.700000e+02</td>\n",
       "      <td>5.715293e+06</td>\n",
       "      <td>-1.189619e-02</td>\n",
       "      <td>9.999955e-01</td>\n",
       "      <td>4.510025e+07</td>\n",
       "      <td>1.001713e+00</td>\n",
       "      <td>9.996601e-01</td>\n",
       "      <td>9.997263e-01</td>\n",
       "      <td>5.181359e+04</td>\n",
       "      <td>1.000264e+00</td>\n",
       "      <td>5.357568e+04</td>\n",
       "      <td>9.999920e-01</td>\n",
       "      <td>-4.756125e-02</td>\n",
       "      <td>1.331005e+04</td>\n",
       "      <td>NaN</td>\n",
       "    </tr>\n",
       "    <tr>\n",
       "      <th>std</th>\n",
       "      <td>5.787176e+01</td>\n",
       "      <td>1.385319e+02</td>\n",
       "      <td>1.587451e+02</td>\n",
       "      <td>2.051591e+07</td>\n",
       "      <td>8.853374e-01</td>\n",
       "      <td>2.532497e-03</td>\n",
       "      <td>1.398413e+08</td>\n",
       "      <td>7.214705e-01</td>\n",
       "      <td>1.216920e-02</td>\n",
       "      <td>2.499345e-03</td>\n",
       "      <td>1.114214e+05</td>\n",
       "      <td>2.510042e-03</td>\n",
       "      <td>1.293554e+05</td>\n",
       "      <td>2.497509e-03</td>\n",
       "      <td>9.452860e+00</td>\n",
       "      <td>7.619271e+03</td>\n",
       "      <td>NaN</td>\n",
       "    </tr>\n",
       "    <tr>\n",
       "      <th>min</th>\n",
       "      <td>0.000000e+00</td>\n",
       "      <td>0.000000e+00</td>\n",
       "      <td>0.000000e+00</td>\n",
       "      <td>0.000000e+00</td>\n",
       "      <td>-1.000000e+00</td>\n",
       "      <td>9.352850e-01</td>\n",
       "      <td>4.316610e+03</td>\n",
       "      <td>7.700000e-05</td>\n",
       "      <td>7.869880e-01</td>\n",
       "      <td>9.349150e-01</td>\n",
       "      <td>0.000000e+00</td>\n",
       "      <td>9.398270e-01</td>\n",
       "      <td>0.000000e+00</td>\n",
       "      <td>9.380080e-01</td>\n",
       "      <td>-3.852898e+02</td>\n",
       "      <td>0.000000e+00</td>\n",
       "      <td>NaN</td>\n",
       "    </tr>\n",
       "    <tr>\n",
       "      <th>25%</th>\n",
       "      <td>4.900000e+01</td>\n",
       "      <td>1.220000e+02</td>\n",
       "      <td>1.300000e+02</td>\n",
       "      <td>8.453415e+04</td>\n",
       "      <td>-1.000000e+00</td>\n",
       "      <td>9.987630e-01</td>\n",
       "      <td>5.279575e+06</td>\n",
       "      <td>9.963320e-01</td>\n",
       "      <td>9.971000e-01</td>\n",
       "      <td>9.985290e-01</td>\n",
       "      <td>7.374720e+03</td>\n",
       "      <td>9.990290e-01</td>\n",
       "      <td>7.823700e+03</td>\n",
       "      <td>9.987810e-01</td>\n",
       "      <td>-4.559755e+00</td>\n",
       "      <td>6.729000e+03</td>\n",
       "      <td>NaN</td>\n",
       "    </tr>\n",
       "    <tr>\n",
       "      <th>50%</th>\n",
       "      <td>9.900000e+01</td>\n",
       "      <td>2.420000e+02</td>\n",
       "      <td>2.700000e+02</td>\n",
       "      <td>1.113604e+06</td>\n",
       "      <td>0.000000e+00</td>\n",
       "      <td>9.999670e-01</td>\n",
       "      <td>1.288264e+07</td>\n",
       "      <td>9.998830e-01</td>\n",
       "      <td>9.998890e-01</td>\n",
       "      <td>9.997280e-01</td>\n",
       "      <td>2.196900e+04</td>\n",
       "      <td>1.000207e+00</td>\n",
       "      <td>2.301792e+04</td>\n",
       "      <td>9.999970e-01</td>\n",
       "      <td>-6.020069e-02</td>\n",
       "      <td>1.334500e+04</td>\n",
       "      <td>NaN</td>\n",
       "    </tr>\n",
       "    <tr>\n",
       "      <th>75%</th>\n",
       "      <td>1.490000e+02</td>\n",
       "      <td>3.610000e+02</td>\n",
       "      <td>4.100000e+02</td>\n",
       "      <td>4.190951e+06</td>\n",
       "      <td>1.000000e+00</td>\n",
       "      <td>1.001174e+00</td>\n",
       "      <td>3.270013e+07</td>\n",
       "      <td>1.003318e+00</td>\n",
       "      <td>1.002590e+00</td>\n",
       "      <td>1.000905e+00</td>\n",
       "      <td>5.583168e+04</td>\n",
       "      <td>1.001414e+00</td>\n",
       "      <td>5.787841e+04</td>\n",
       "      <td>1.001149e+00</td>\n",
       "      <td>4.409552e+00</td>\n",
       "      <td>1.990700e+04</td>\n",
       "      <td>NaN</td>\n",
       "    </tr>\n",
       "    <tr>\n",
       "      <th>max</th>\n",
       "      <td>1.990000e+02</td>\n",
       "      <td>4.800000e+02</td>\n",
       "      <td>5.400000e+02</td>\n",
       "      <td>2.982028e+09</td>\n",
       "      <td>1.000000e+00</td>\n",
       "      <td>1.077488e+00</td>\n",
       "      <td>7.713682e+09</td>\n",
       "      <td>4.379531e+02</td>\n",
       "      <td>1.309732e+00</td>\n",
       "      <td>1.077488e+00</td>\n",
       "      <td>3.028784e+07</td>\n",
       "      <td>1.077836e+00</td>\n",
       "      <td>5.440500e+07</td>\n",
       "      <td>1.077675e+00</td>\n",
       "      <td>4.460704e+02</td>\n",
       "      <td>2.645400e+04</td>\n",
       "      <td>NaN</td>\n",
       "    </tr>\n",
       "  </tbody>\n",
       "</table>\n",
       "</div>"
      ],
      "text/plain": [
       "            stock_id       date_id  seconds_in_bucket  imbalance_size  \\\n",
       "count   5.237980e+06  5.237980e+06       5.237980e+06    5.237760e+06   \n",
       "unique           NaN           NaN                NaN             NaN   \n",
       "top              NaN           NaN                NaN             NaN   \n",
       "freq             NaN           NaN                NaN             NaN   \n",
       "mean    9.928856e+01  2.415100e+02       2.700000e+02    5.715293e+06   \n",
       "std     5.787176e+01  1.385319e+02       1.587451e+02    2.051591e+07   \n",
       "min     0.000000e+00  0.000000e+00       0.000000e+00    0.000000e+00   \n",
       "25%     4.900000e+01  1.220000e+02       1.300000e+02    8.453415e+04   \n",
       "50%     9.900000e+01  2.420000e+02       2.700000e+02    1.113604e+06   \n",
       "75%     1.490000e+02  3.610000e+02       4.100000e+02    4.190951e+06   \n",
       "max     1.990000e+02  4.800000e+02       5.400000e+02    2.982028e+09   \n",
       "\n",
       "        imbalance_buy_sell_flag  reference_price  matched_size     far_price  \\\n",
       "count              5.237980e+06     5.237760e+06  5.237760e+06  2.343638e+06   \n",
       "unique                      NaN              NaN           NaN           NaN   \n",
       "top                         NaN              NaN           NaN           NaN   \n",
       "freq                        NaN              NaN           NaN           NaN   \n",
       "mean              -1.189619e-02     9.999955e-01  4.510025e+07  1.001713e+00   \n",
       "std                8.853374e-01     2.532497e-03  1.398413e+08  7.214705e-01   \n",
       "min               -1.000000e+00     9.352850e-01  4.316610e+03  7.700000e-05   \n",
       "25%               -1.000000e+00     9.987630e-01  5.279575e+06  9.963320e-01   \n",
       "50%                0.000000e+00     9.999670e-01  1.288264e+07  9.998830e-01   \n",
       "75%                1.000000e+00     1.001174e+00  3.270013e+07  1.003318e+00   \n",
       "max                1.000000e+00     1.077488e+00  7.713682e+09  4.379531e+02   \n",
       "\n",
       "          near_price     bid_price      bid_size     ask_price      ask_size  \\\n",
       "count   2.380800e+06  5.237760e+06  5.237980e+06  5.237760e+06  5.237980e+06   \n",
       "unique           NaN           NaN           NaN           NaN           NaN   \n",
       "top              NaN           NaN           NaN           NaN           NaN   \n",
       "freq             NaN           NaN           NaN           NaN           NaN   \n",
       "mean    9.996601e-01  9.997263e-01  5.181359e+04  1.000264e+00  5.357568e+04   \n",
       "std     1.216920e-02  2.499345e-03  1.114214e+05  2.510042e-03  1.293554e+05   \n",
       "min     7.869880e-01  9.349150e-01  0.000000e+00  9.398270e-01  0.000000e+00   \n",
       "25%     9.971000e-01  9.985290e-01  7.374720e+03  9.990290e-01  7.823700e+03   \n",
       "50%     9.998890e-01  9.997280e-01  2.196900e+04  1.000207e+00  2.301792e+04   \n",
       "75%     1.002590e+00  1.000905e+00  5.583168e+04  1.001414e+00  5.787841e+04   \n",
       "max     1.309732e+00  1.077488e+00  3.028784e+07  1.077836e+00  5.440500e+07   \n",
       "\n",
       "                 wap        target       time_id   row_id  \n",
       "count   5.237760e+06  5.237892e+06  5.237980e+06  5237980  \n",
       "unique           NaN           NaN           NaN  5237980  \n",
       "top              NaN           NaN           NaN    0_0_0  \n",
       "freq             NaN           NaN           NaN        1  \n",
       "mean    9.999920e-01 -4.756125e-02  1.331005e+04      NaN  \n",
       "std     2.497509e-03  9.452860e+00  7.619271e+03      NaN  \n",
       "min     9.380080e-01 -3.852898e+02  0.000000e+00      NaN  \n",
       "25%     9.987810e-01 -4.559755e+00  6.729000e+03      NaN  \n",
       "50%     9.999970e-01 -6.020069e-02  1.334500e+04      NaN  \n",
       "75%     1.001149e+00  4.409552e+00  1.990700e+04      NaN  \n",
       "max     1.077675e+00  4.460704e+02  2.645400e+04      NaN  "
      ]
     },
     "execution_count": 7,
     "metadata": {},
     "output_type": "execute_result"
    }
   ],
   "source": [
    "df = pd.read_csv(CFG.TRAINING_PATH)\n",
    "\n",
    "# Describe data statistics\n",
    "df.describe(include=\"all\")"
   ]
  },
  {
   "cell_type": "markdown",
   "metadata": {},
   "source": [
    "## Create Features"
   ]
  },
  {
   "cell_type": "markdown",
   "metadata": {},
   "source": [
    "Create new features that are combination of others. These will be analysed during the feature selection process to end up with the most relevant ones."
   ]
  },
  {
   "cell_type": "code",
   "execution_count": 8,
   "metadata": {},
   "outputs": [
    {
     "name": "stderr",
     "output_type": "stream",
     "text": [
      "\u001b[32m2023-10-15 21:08:14.726\u001b[0m | \u001b[1mINFO    \u001b[0m | \u001b[36mutils.featurizers\u001b[0m:\u001b[36mfeaturize\u001b[0m:\u001b[36m30\u001b[0m - \u001b[1mCreating additional features...\u001b[0m\n",
      "\u001b[32m2023-10-15 21:09:32.631\u001b[0m | \u001b[1mINFO    \u001b[0m | \u001b[36mutils.featurizers\u001b[0m:\u001b[36mfeaturize\u001b[0m:\u001b[36m82\u001b[0m - \u001b[1mReducing data memory footprint...\u001b[0m\n",
      "\u001b[32m2023-10-15 21:09:32.639\u001b[0m | \u001b[1mINFO    \u001b[0m | \u001b[36mutils.compression\u001b[0m:\u001b[36mdowncast\u001b[0m:\u001b[36m16\u001b[0m - \u001b[1mMemory usage of dataframe is 3676.56 MB\u001b[0m\n",
      "\u001b[32m2023-10-15 21:10:25.188\u001b[0m | \u001b[1mINFO    \u001b[0m | \u001b[36mutils.compression\u001b[0m:\u001b[36mdowncast\u001b[0m:\u001b[36m25\u001b[0m - \u001b[1mMemory usage after optimization is: 2402.75 MB\u001b[0m\n",
      "\u001b[32m2023-10-15 21:10:25.257\u001b[0m | \u001b[1mINFO    \u001b[0m | \u001b[36mutils.compression\u001b[0m:\u001b[36mdowncast\u001b[0m:\u001b[36m27\u001b[0m - \u001b[1mDecreased by 34.65%\u001b[0m\n"
     ]
    },
    {
     "data": {
      "text/plain": [
       "stock_id                                 int16\n",
       "seconds_in_bucket                        int16\n",
       "imbalance_size                         float64\n",
       "imbalance_buy_sell_flag                   int8\n",
       "reference_price                        float32\n",
       "                                        ...   \n",
       "far_price_bid_price_wap_imb2           float64\n",
       "near_price_ask_price_bid_price_imb2    float64\n",
       "near_price_ask_price_wap_imb2          float64\n",
       "near_price_bid_price_wap_imb2          float64\n",
       "ask_price_bid_price_wap_imb2           float64\n",
       "Length: 92, dtype: object"
      ]
     },
     "execution_count": 8,
     "metadata": {},
     "output_type": "execute_result"
    }
   ],
   "source": [
    "from utils.featurizers import featurize\n",
    "\n",
    "# Call only after analyzing the default features, this is a bit of a killer\n",
    "featurize(df)\n",
    "\n",
    "df.dtypes"
   ]
  },
  {
   "cell_type": "markdown",
   "metadata": {
    "id": "nkXWz0WnbEPd"
   },
   "source": [
    "## Remove Unwanted Features\n",
    "\n",
    "You can remove features that are not needed when making predictions. The `row_id` is just an string assigned to records and has nothing to do with the target. It is a composition of other columns to uniquely identify the record. The `time_id` column is highly correlated with `date_id`, therefore it is also going to be removed."
   ]
  },
  {
   "cell_type": "code",
   "execution_count": 9,
   "metadata": {
    "id": "73EVqL6_N2-T"
   },
   "outputs": [
    {
     "data": {
      "text/plain": [
       "stock_id                                 0\n",
       "seconds_in_bucket                        0\n",
       "imbalance_size                         220\n",
       "imbalance_buy_sell_flag                  0\n",
       "reference_price                        220\n",
       "                                      ... \n",
       "far_price_bid_price_wap_imb2           433\n",
       "near_price_ask_price_bid_price_imb2    220\n",
       "near_price_ask_price_wap_imb2          421\n",
       "near_price_bid_price_wap_imb2          442\n",
       "ask_price_bid_price_wap_imb2           220\n",
       "Length: 92, dtype: int64"
      ]
     },
     "execution_count": 9,
     "metadata": {},
     "output_type": "execute_result"
    }
   ],
   "source": [
    "# Check if there are null values in any of the columns.\n",
    "df.isna().sum()"
   ]
  },
  {
   "cell_type": "code",
   "execution_count": 10,
   "metadata": {
    "id": "G4l4BzTbZfTO"
   },
   "outputs": [
    {
     "data": {
      "text/html": [
       "<div>\n",
       "<style scoped>\n",
       "    .dataframe tbody tr th:only-of-type {\n",
       "        vertical-align: middle;\n",
       "    }\n",
       "\n",
       "    .dataframe tbody tr th {\n",
       "        vertical-align: top;\n",
       "    }\n",
       "\n",
       "    .dataframe thead th {\n",
       "        text-align: right;\n",
       "    }\n",
       "</style>\n",
       "<table border=\"1\" class=\"dataframe\">\n",
       "  <thead>\n",
       "    <tr style=\"text-align: right;\">\n",
       "      <th></th>\n",
       "      <th>stock_id</th>\n",
       "      <th>seconds_in_bucket</th>\n",
       "      <th>imbalance_size</th>\n",
       "      <th>imbalance_buy_sell_flag</th>\n",
       "      <th>reference_price</th>\n",
       "      <th>matched_size</th>\n",
       "      <th>far_price</th>\n",
       "      <th>near_price</th>\n",
       "      <th>bid_price</th>\n",
       "      <th>bid_size</th>\n",
       "      <th>...</th>\n",
       "      <th>far_price_near_price_ask_price_imb2</th>\n",
       "      <th>far_price_near_price_bid_price_imb2</th>\n",
       "      <th>far_price_near_price_wap_imb2</th>\n",
       "      <th>far_price_ask_price_bid_price_imb2</th>\n",
       "      <th>far_price_ask_price_wap_imb2</th>\n",
       "      <th>far_price_bid_price_wap_imb2</th>\n",
       "      <th>near_price_ask_price_bid_price_imb2</th>\n",
       "      <th>near_price_ask_price_wap_imb2</th>\n",
       "      <th>near_price_bid_price_wap_imb2</th>\n",
       "      <th>ask_price_bid_price_wap_imb2</th>\n",
       "    </tr>\n",
       "  </thead>\n",
       "  <tbody>\n",
       "    <tr>\n",
       "      <th>0</th>\n",
       "      <td>0</td>\n",
       "      <td>0</td>\n",
       "      <td>3180602.69</td>\n",
       "      <td>1</td>\n",
       "      <td>0.999812</td>\n",
       "      <td>13380276.64</td>\n",
       "      <td>NaN</td>\n",
       "      <td>NaN</td>\n",
       "      <td>0.999812</td>\n",
       "      <td>60651.50</td>\n",
       "      <td>...</td>\n",
       "      <td>-1.0</td>\n",
       "      <td>-1.0</td>\n",
       "      <td>-1.0</td>\n",
       "      <td>-1.000214</td>\n",
       "      <td>-1.000026</td>\n",
       "      <td>-1.000188</td>\n",
       "      <td>-1.000214</td>\n",
       "      <td>-1.000026</td>\n",
       "      <td>-1.000188</td>\n",
       "      <td>0.138298</td>\n",
       "    </tr>\n",
       "    <tr>\n",
       "      <th>1</th>\n",
       "      <td>1</td>\n",
       "      <td>0</td>\n",
       "      <td>166603.91</td>\n",
       "      <td>-1</td>\n",
       "      <td>0.999896</td>\n",
       "      <td>1642214.25</td>\n",
       "      <td>NaN</td>\n",
       "      <td>NaN</td>\n",
       "      <td>0.999896</td>\n",
       "      <td>3233.04</td>\n",
       "      <td>...</td>\n",
       "      <td>-1.0</td>\n",
       "      <td>-1.0</td>\n",
       "      <td>-1.0</td>\n",
       "      <td>-1.000764</td>\n",
       "      <td>-1.000660</td>\n",
       "      <td>-1.000104</td>\n",
       "      <td>-1.000764</td>\n",
       "      <td>-1.000660</td>\n",
       "      <td>-1.000104</td>\n",
       "      <td>6.346154</td>\n",
       "    </tr>\n",
       "    <tr>\n",
       "      <th>2</th>\n",
       "      <td>2</td>\n",
       "      <td>0</td>\n",
       "      <td>302879.87</td>\n",
       "      <td>-1</td>\n",
       "      <td>0.999561</td>\n",
       "      <td>1819368.03</td>\n",
       "      <td>NaN</td>\n",
       "      <td>NaN</td>\n",
       "      <td>0.999403</td>\n",
       "      <td>37956.00</td>\n",
       "      <td>...</td>\n",
       "      <td>-1.0</td>\n",
       "      <td>-1.0</td>\n",
       "      <td>-1.0</td>\n",
       "      <td>-1.000896</td>\n",
       "      <td>-1.000298</td>\n",
       "      <td>-1.000597</td>\n",
       "      <td>-1.000896</td>\n",
       "      <td>-1.000298</td>\n",
       "      <td>-1.000597</td>\n",
       "      <td>0.499162</td>\n",
       "    </tr>\n",
       "    <tr>\n",
       "      <th>3</th>\n",
       "      <td>3</td>\n",
       "      <td>0</td>\n",
       "      <td>11917682.27</td>\n",
       "      <td>-1</td>\n",
       "      <td>1.000171</td>\n",
       "      <td>18389745.62</td>\n",
       "      <td>NaN</td>\n",
       "      <td>NaN</td>\n",
       "      <td>0.999999</td>\n",
       "      <td>2324.90</td>\n",
       "      <td>...</td>\n",
       "      <td>-1.0</td>\n",
       "      <td>-1.0</td>\n",
       "      <td>-1.0</td>\n",
       "      <td>-1.000215</td>\n",
       "      <td>-1.000214</td>\n",
       "      <td>-1.000001</td>\n",
       "      <td>-1.000215</td>\n",
       "      <td>-1.000214</td>\n",
       "      <td>-1.000001</td>\n",
       "      <td>214.000000</td>\n",
       "    </tr>\n",
       "    <tr>\n",
       "      <th>4</th>\n",
       "      <td>4</td>\n",
       "      <td>0</td>\n",
       "      <td>447549.96</td>\n",
       "      <td>-1</td>\n",
       "      <td>0.999532</td>\n",
       "      <td>17860614.95</td>\n",
       "      <td>NaN</td>\n",
       "      <td>NaN</td>\n",
       "      <td>0.999394</td>\n",
       "      <td>16485.54</td>\n",
       "      <td>...</td>\n",
       "      <td>-1.0</td>\n",
       "      <td>-1.0</td>\n",
       "      <td>-1.0</td>\n",
       "      <td>-1.000622</td>\n",
       "      <td>-1.000016</td>\n",
       "      <td>-1.000606</td>\n",
       "      <td>-1.000622</td>\n",
       "      <td>-1.000016</td>\n",
       "      <td>-1.000606</td>\n",
       "      <td>0.026403</td>\n",
       "    </tr>\n",
       "  </tbody>\n",
       "</table>\n",
       "<p>5 rows × 92 columns</p>\n",
       "</div>"
      ],
      "text/plain": [
       "   stock_id  seconds_in_bucket  imbalance_size  imbalance_buy_sell_flag  \\\n",
       "0         0                  0      3180602.69                        1   \n",
       "1         1                  0       166603.91                       -1   \n",
       "2         2                  0       302879.87                       -1   \n",
       "3         3                  0     11917682.27                       -1   \n",
       "4         4                  0       447549.96                       -1   \n",
       "\n",
       "   reference_price  matched_size  far_price  near_price  bid_price  bid_size  \\\n",
       "0         0.999812   13380276.64        NaN         NaN   0.999812  60651.50   \n",
       "1         0.999896    1642214.25        NaN         NaN   0.999896   3233.04   \n",
       "2         0.999561    1819368.03        NaN         NaN   0.999403  37956.00   \n",
       "3         1.000171   18389745.62        NaN         NaN   0.999999   2324.90   \n",
       "4         0.999532   17860614.95        NaN         NaN   0.999394  16485.54   \n",
       "\n",
       "   ...  far_price_near_price_ask_price_imb2  \\\n",
       "0  ...                                 -1.0   \n",
       "1  ...                                 -1.0   \n",
       "2  ...                                 -1.0   \n",
       "3  ...                                 -1.0   \n",
       "4  ...                                 -1.0   \n",
       "\n",
       "   far_price_near_price_bid_price_imb2  far_price_near_price_wap_imb2  \\\n",
       "0                                 -1.0                           -1.0   \n",
       "1                                 -1.0                           -1.0   \n",
       "2                                 -1.0                           -1.0   \n",
       "3                                 -1.0                           -1.0   \n",
       "4                                 -1.0                           -1.0   \n",
       "\n",
       "   far_price_ask_price_bid_price_imb2  far_price_ask_price_wap_imb2  \\\n",
       "0                           -1.000214                     -1.000026   \n",
       "1                           -1.000764                     -1.000660   \n",
       "2                           -1.000896                     -1.000298   \n",
       "3                           -1.000215                     -1.000214   \n",
       "4                           -1.000622                     -1.000016   \n",
       "\n",
       "   far_price_bid_price_wap_imb2  near_price_ask_price_bid_price_imb2  \\\n",
       "0                     -1.000188                            -1.000214   \n",
       "1                     -1.000104                            -1.000764   \n",
       "2                     -1.000597                            -1.000896   \n",
       "3                     -1.000001                            -1.000215   \n",
       "4                     -1.000606                            -1.000622   \n",
       "\n",
       "   near_price_ask_price_wap_imb2  near_price_bid_price_wap_imb2  \\\n",
       "0                      -1.000026                      -1.000188   \n",
       "1                      -1.000660                      -1.000104   \n",
       "2                      -1.000298                      -1.000597   \n",
       "3                      -1.000214                      -1.000001   \n",
       "4                      -1.000016                      -1.000606   \n",
       "\n",
       "   ask_price_bid_price_wap_imb2  \n",
       "0                      0.138298  \n",
       "1                      6.346154  \n",
       "2                      0.499162  \n",
       "3                    214.000000  \n",
       "4                      0.026403  \n",
       "\n",
       "[5 rows x 92 columns]"
      ]
     },
     "execution_count": 10,
     "metadata": {},
     "output_type": "execute_result"
    }
   ],
   "source": [
    "# Remove \"row_id\" and \"time_id\", it is unnecessary\n",
    "df.drop(columns=[\"row_id\", \"time_id\"], inplace=True, errors=\"ignore\")\n",
    "\n",
    "# Check that the columns are indeed dropped\n",
    "df.head()"
   ]
  },
  {
   "cell_type": "markdown",
   "metadata": {},
   "source": [
    "## Remove Rows with Invalid Dependent Variable"
   ]
  },
  {
   "cell_type": "markdown",
   "metadata": {},
   "source": [
    "Most decision tree-based algorithms are robust to invalid (NaN) values in input features, but having an invalid dependent variable is useless in this case. This is why rows with invalid `target` are dropped. Apart from this, the decision tree will fail in the presence of an infinity value."
   ]
  },
  {
   "cell_type": "code",
   "execution_count": 11,
   "metadata": {},
   "outputs": [
    {
     "data": {
      "text/plain": [
       "stock_id                                 0\n",
       "seconds_in_bucket                        0\n",
       "imbalance_size                         132\n",
       "imbalance_buy_sell_flag                  0\n",
       "reference_price                        132\n",
       "                                      ... \n",
       "far_price_bid_price_wap_imb2           345\n",
       "near_price_ask_price_bid_price_imb2    132\n",
       "near_price_ask_price_wap_imb2          333\n",
       "near_price_bid_price_wap_imb2          354\n",
       "ask_price_bid_price_wap_imb2           132\n",
       "Length: 92, dtype: int64"
      ]
     },
     "execution_count": 11,
     "metadata": {},
     "output_type": "execute_result"
    }
   ],
   "source": [
    "df.dropna(subset=\"target\", inplace=True)\n",
    "\n",
    "# Check if there are null values in any of the columns. Target (which is the dependent variable) should display 0 now.\n",
    "df.isna().sum()"
   ]
  },
  {
   "cell_type": "markdown",
   "metadata": {
    "id": "s08Owp2kb0SB"
   },
   "source": [
    "## Model Performance"
   ]
  },
  {
   "cell_type": "markdown",
   "metadata": {
    "id": "5vQK6ipnbmf8"
   },
   "source": [
    "Next, split the dataset into feature vectors `X` and target vector `Y` to fit a [LightGBM](https://lightgbm.readthedocs.io/en/stable/) regressor. This is done to compare the performance of each feature selection technique, using [Mean Absolute Error](https://scikit-learn.org/stable/modules/generated/sklearn.metrics.mean_absolute_error.html), [Mean Squared Error](https://scikit-learn.org/stable/modules/generated/sklearn.metrics.mean_squared_error.html), [Mean Absolute Percentage Error (MAPE)](https://scikit-learn.org/stable/modules/generated/sklearn.metrics.mean_absolute_percentage_error.html) and Symmetric Mean Absolute Percentage Error (SMAPE) as evaluation metrics."
   ]
  },
  {
   "cell_type": "code",
   "execution_count": 12,
   "metadata": {
    "id": "lTuyLttI5h0w"
   },
   "outputs": [],
   "source": [
    "# Split feature and target vectors\n",
    "Y = df[\"target\"]\n",
    "X = df.drop(columns=[\"target\"])"
   ]
  },
  {
   "cell_type": "markdown",
   "metadata": {
    "id": "2uULmswIiThX"
   },
   "source": [
    "### Fit the Model and Calculate Metrics\n",
    "\n",
    "You will define helper functions to train your model and use the scikit-learn modules to evaluate your results."
   ]
  },
  {
   "cell_type": "code",
   "execution_count": 13,
   "metadata": {
    "id": "9JVl3UGpq7_I"
   },
   "outputs": [],
   "source": [
    "def fit_model(x, y, eval_data=None):\n",
    "    '''Fit model to data.'''\n",
    "\n",
    "    params = MODEL_CFG[CFG.MODEL.__name__][\"params_func\"]()\n",
    "    callbacks = MODEL_CFG[CFG.MODEL.__name__][\"callbacks\"]\n",
    "\n",
    "    # define the model to use\n",
    "    model = CFG.MODEL(**params)\n",
    "\n",
    "    # Train the model\n",
    "    model.fit(x, y, eval_set=eval_data, callbacks=callbacks)\n",
    "    \n",
    "    return model"
   ]
  },
  {
   "cell_type": "code",
   "execution_count": 14,
   "metadata": {
    "id": "Fg-QoSiErLgv"
   },
   "outputs": [],
   "source": [
    "def symmetric_mean_absolute_percentage_error(A, F):\n",
    "    '''Calculate symmetric MAPE metric'''\n",
    "    tmp = 2 * np.abs(F - A) / (np.abs(A) + np.abs(F))\n",
    "    len_ = np.count_nonzero(~np.isnan(tmp))\n",
    "    if len_ == 0 and np.nansum(tmp) == 0: # Deals with a special case\n",
    "        return 100\n",
    "    return 100 / len_ * np.nansum(tmp)\n",
    "\n",
    "\n",
    "def calculate_metrics(model, x, y_gt):\n",
    "    '''Get model evaluation metrics on the test set.'''\n",
    "\n",
    "    # Get model predictions\n",
    "    y_pred= model.predict(x)\n",
    "    \n",
    "    # Calculate evaluation metrics for assesing performance of the model.\n",
    "    mae = mean_absolute_error(y_gt, y_pred)\n",
    "    mse = mean_squared_error(y_gt, y_pred)\n",
    "    mape = mean_absolute_percentage_error(y_gt, y_pred)\n",
    "    smape = symmetric_mean_absolute_percentage_error(y_gt, y_pred)\n",
    "    \n",
    "    return mae, mse, mape, smape"
   ]
  },
  {
   "cell_type": "code",
   "execution_count": 15,
   "metadata": {
    "id": "F06PrANXrLrL"
   },
   "outputs": [],
   "source": [
    "def train_and_get_metrics(x, y):\n",
    "    '''Train a Random Forest Classifier and get evaluation metrics'''\n",
    "\n",
    "    # Since y is numerical, stratification in train-test split needs from binning target variable\n",
    "    if CFG.STRATIFY:\n",
    "        logger.info(\"Stratifying data...\")\n",
    "        bins = np.linspace(np.floor(y.min()), np.ceil(y.max()), 10)\n",
    "        y_binned = np.digitize(y, bins)\n",
    "    else:\n",
    "        y_binned = None\n",
    "\n",
    "    logger.info(\"Performing data split...\")\n",
    "    x_train, x_val, y_train, y_val = train_test_split(x, y, test_size=1./CFG.N_FOLDS, stratify=y_binned, random_state=CFG.RANDOM_STATE, shuffle=not CFG.TIME_AWARE_SPLIT)\n",
    "\n",
    "    # All features of dataset are float values. You normalize all features of the train and test dataset here (not necessary with decission trees)\n",
    "    if CFG.SCALE:\n",
    "        logger.info(\"Scaling features...\")\n",
    "        scaler = CFG.SCALER()\n",
    "        scaler = scaler.fit(x_train)\n",
    "        x_train = scaler.transform(x_train)\n",
    "        x_val = scaler.transform(x_val)\n",
    "\n",
    "    logger.info(\"Fitting model...\")\n",
    "\n",
    "    # Call the fit model function to train the model on the normalized features and the diagnosis values\n",
    "    model = fit_model(x_train, y_train, eval_data=(x_val, y_val))\n",
    "\n",
    "    logger.info(\"Calculating metrics...\")\n",
    "\n",
    "    # Make predictions on test dataset and calculate metrics.\n",
    "    mae, mse, mape, smape = calculate_metrics(model, x_val, y_val)\n",
    "\n",
    "    return mae, mse, mape, smape"
   ]
  },
  {
   "cell_type": "code",
   "execution_count": 16,
   "metadata": {
    "id": "xdOOXiqSmH6p"
   },
   "outputs": [],
   "source": [
    "def evaluate_model_on_features(x, y):\n",
    "    '''Train model and display evaluation metrics.'''\n",
    "    \n",
    "    # Train the model, predict values and get metrics\n",
    "    mae, mse, _, smape = train_and_get_metrics(x, y)\n",
    "\n",
    "    # Construct a dataframe to display metrics.\n",
    "    display_df = pd.DataFrame([[mae, mse, smape, x.shape[1]]], columns=[\"MAE\", \"MSE\", \"SMAPE\", \"Feature Count\"])\n",
    "    \n",
    "    return display_df"
   ]
  },
  {
   "cell_type": "markdown",
   "metadata": {
    "id": "k8A0pEIZiZka"
   },
   "source": [
    "Now you can train the model with all features included then calculate the metrics. This will be your baseline and you will compare this to the next outputs when you do feature selection."
   ]
  },
  {
   "cell_type": "code",
   "execution_count": 17,
   "metadata": {
    "id": "7sXRVKV-nlwR"
   },
   "outputs": [
    {
     "name": "stderr",
     "output_type": "stream",
     "text": [
      "\u001b[32m2023-10-15 21:10:32.455\u001b[0m | \u001b[1mINFO    \u001b[0m | \u001b[36m__main__\u001b[0m:\u001b[36mtrain_and_get_metrics\u001b[0m:\u001b[36m12\u001b[0m - \u001b[1mPerforming data split...\u001b[0m\n",
      "\u001b[32m2023-10-15 21:10:34.776\u001b[0m | \u001b[1mINFO    \u001b[0m | \u001b[36m__main__\u001b[0m:\u001b[36mtrain_and_get_metrics\u001b[0m:\u001b[36m23\u001b[0m - \u001b[1mFitting model...\u001b[0m\n"
     ]
    },
    {
     "name": "stdout",
     "output_type": "stream",
     "text": [
      "[LightGBM] [Info] Auto-choosing col-wise multi-threading, the overhead of testing was 1.569451 seconds.\n",
      "You can set `force_col_wise=true` to remove the overhead.\n",
      "[LightGBM] [Info] Total Bins 22264\n",
      "[LightGBM] [Info] Number of data points in the train set: 4190313, number of used features: 91\n",
      "[LightGBM] [Info] Start training from score -0.069737\n",
      "Training until validation scores don't improve for 50 rounds\n"
     ]
    },
    {
     "name": "stderr",
     "output_type": "stream",
     "text": [
      "\u001b[32m2023-10-15 21:12:04.307\u001b[0m | \u001b[1mINFO    \u001b[0m | \u001b[36m__main__\u001b[0m:\u001b[36mtrain_and_get_metrics\u001b[0m:\u001b[36m28\u001b[0m - \u001b[1mCalculating metrics...\u001b[0m\n"
     ]
    },
    {
     "name": "stdout",
     "output_type": "stream",
     "text": [
      "Did not meet early stopping. Best iteration is:\n",
      "[98]\tvalid_0's l1: 5.95421\n"
     ]
    },
    {
     "data": {
      "text/html": [
       "<div>\n",
       "<style scoped>\n",
       "    .dataframe tbody tr th:only-of-type {\n",
       "        vertical-align: middle;\n",
       "    }\n",
       "\n",
       "    .dataframe tbody tr th {\n",
       "        vertical-align: top;\n",
       "    }\n",
       "\n",
       "    .dataframe thead th {\n",
       "        text-align: right;\n",
       "    }\n",
       "</style>\n",
       "<table border=\"1\" class=\"dataframe\">\n",
       "  <thead>\n",
       "    <tr style=\"text-align: right;\">\n",
       "      <th></th>\n",
       "      <th>MAE</th>\n",
       "      <th>MSE</th>\n",
       "      <th>SMAPE</th>\n",
       "      <th>Feature Count</th>\n",
       "    </tr>\n",
       "  </thead>\n",
       "  <tbody>\n",
       "    <tr>\n",
       "      <th>All features</th>\n",
       "      <td>5.954209</td>\n",
       "      <td>78.792456</td>\n",
       "      <td>163.905306</td>\n",
       "      <td>91</td>\n",
       "    </tr>\n",
       "  </tbody>\n",
       "</table>\n",
       "</div>"
      ],
      "text/plain": [
       "                   MAE        MSE       SMAPE  Feature Count\n",
       "All features  5.954209  78.792456  163.905306             91"
      ]
     },
     "execution_count": 17,
     "metadata": {},
     "output_type": "execute_result"
    }
   ],
   "source": [
    "# Calculate evaluation metrics\n",
    "all_features_eval_df = evaluate_model_on_features(X, Y)\n",
    "all_features_eval_df.index = [\"All features\"]\n",
    "\n",
    "# Initialize results dataframe\n",
    "results = all_features_eval_df\n",
    "\n",
    "# Check the metrics\n",
    "results.head()"
   ]
  },
  {
   "cell_type": "markdown",
   "metadata": {
    "id": "g--wIHmFBjgr"
   },
   "source": [
    "## Correlation Matrix"
   ]
  },
  {
   "cell_type": "markdown",
   "metadata": {
    "id": "5ui-8O8Li7dY"
   },
   "source": [
    "It is a good idea to calculate and visualize the correlation matrix of a data frame to see which features have high correlation. You can do that with just a few lines as shown below. The Pandas [corr()](https://pandas.pydata.org/pandas-docs/stable/reference/api/pandas.DataFrame.corr.html) method computes the Pearson correlation by default and you will plot it with Matlab PyPlot and Seaborn. The darker blue boxes show features with high positive correlation while white ones indicate high negative correlation. The diagonals will have 1's because the feature is mapped on to itself."
   ]
  },
  {
   "cell_type": "code",
   "execution_count": 18,
   "metadata": {
    "id": "T8rBZqEfw45p"
   },
   "outputs": [
    {
     "data": {
      "text/plain": [
       "'\\n# Set figure size\\nplt.figure(figsize=(20, 20))\\n\\n# Calculate correlation matrix\\ncor = df.corr() \\n\\n# Plot the correlation matrix\\nsns.heatmap(cor, annot=True, cmap=plt.cm.PuBu)\\nplt.show()\\n'"
      ]
     },
     "execution_count": 18,
     "metadata": {},
     "output_type": "execute_result"
    }
   ],
   "source": [
    "\"\"\"\n",
    "# Set figure size\n",
    "plt.figure(figsize=(20, 20))\n",
    "\n",
    "# Calculate correlation matrix\n",
    "cor = df.corr() \n",
    "\n",
    "# Plot the correlation matrix\n",
    "sns.heatmap(cor, annot=True, cmap=plt.cm.PuBu)\n",
    "plt.show()\n",
    "\"\"\""
   ]
  },
  {
   "cell_type": "markdown",
   "metadata": {
    "id": "5ZHg3wdKjDWX"
   },
   "source": [
    "## Filter Methods\n",
    "\n",
    "Let's start feature selection with filter methods. This type of feature selection uses statistical methods to rank a given set of features. Moreover, it does this ranking regardless of the model you will be training on (i.e. you only need the feature values). When using these, it is important to note the types of features and target variable you have. Here are a few examples:\n",
    "\n",
    "* Pearson Correlation (numeric features - numeric target, *exception: when target is 0/1 coded*)\n",
    "* ANOVA f-test (numeric features - categorical target, not the case in here)\n",
    "* Chi-squared (categorical features - categorical target, not the case in here)\n",
    "\n",
    "Let's the Pearson Correlation analysis in the following cells. "
   ]
  },
  {
   "cell_type": "markdown",
   "metadata": {},
   "source": [
    "### Correlation with the target variable\n",
    "\n",
    "Let's start by determining which features are strongly correlated with the target. Since we have numeric features and our target, we can use Pearson correlation to compute the scores for each feature. This is also categorized as *supervised* feature selection because we're taking into account the relationship of each feature with the target variable. Moreover, since only one variable's relationship to the target is taken at a time, this falls under *univariate feature selection*.\n",
    "\n",
    "The problem in here is that no feature looks to correlate enough with the target."
   ]
  },
  {
   "cell_type": "code",
   "execution_count": 19,
   "metadata": {
    "id": "1m34lMYEy9MK"
   },
   "outputs": [
    {
     "data": {
      "text/plain": [
       "'\\n# Get the absolute value of the correlation\\ncor_target = abs(cor[\"target\"])\\n\\n# Select highly correlated features (thresold = 1e-6). Select all because none seems to be correlated.\\nrelevant_features = cor_target[cor_target > 1e-6]\\n\\n# Collect the names of the features\\nnames = [index for index, value in relevant_features.items()]\\n\\n# Drop the target variable from the results\\nnames.remove(\"target\")\\n\\n# Display the results\\nlogger.info(names)\\n'"
      ]
     },
     "execution_count": 19,
     "metadata": {},
     "output_type": "execute_result"
    }
   ],
   "source": [
    "\"\"\"\n",
    "# Get the absolute value of the correlation\n",
    "cor_target = abs(cor[\"target\"])\n",
    "\n",
    "# Select highly correlated features (thresold = 1e-6). Select all because none seems to be correlated.\n",
    "relevant_features = cor_target[cor_target > 1e-6]\n",
    "\n",
    "# Collect the names of the features\n",
    "names = [index for index, value in relevant_features.items()]\n",
    "\n",
    "# Drop the target variable from the results\n",
    "names.remove(\"target\")\n",
    "\n",
    "# Display the results\n",
    "logger.info(names)\n",
    "\"\"\""
   ]
  },
  {
   "cell_type": "markdown",
   "metadata": {
    "id": "hBoG4iMfjKzp"
   },
   "source": [
    "Now try training the model again but only with the features in the columns you just gathered. You can observe that there is an improvement in the metrics compared to the model you trained earlier."
   ]
  },
  {
   "cell_type": "code",
   "execution_count": 20,
   "metadata": {
    "id": "OiHBfYEc8Wqb"
   },
   "outputs": [
    {
     "data": {
      "text/plain": [
       "'\\n# Evaluate the model with new features\\nstrong_features_eval_df = evaluate_model_on_features(df[names], Y)\\nstrong_features_eval_df.index = [\"Strong features\"]\\n\\n# Append to results and display\\nresults = pd.concat([results, strong_features_eval_df])\\nresults.head()\\n'"
      ]
     },
     "execution_count": 20,
     "metadata": {},
     "output_type": "execute_result"
    }
   ],
   "source": [
    "\"\"\"\n",
    "# Evaluate the model with new features\n",
    "strong_features_eval_df = evaluate_model_on_features(df[names], Y)\n",
    "strong_features_eval_df.index = [\"Strong features\"]\n",
    "\n",
    "# Append to results and display\n",
    "results = pd.concat([results, strong_features_eval_df])\n",
    "results.head()\n",
    "\"\"\""
   ]
  },
  {
   "cell_type": "markdown",
   "metadata": {
    "id": "W6q3QJIrje2S"
   },
   "source": [
    "### Correlation with other features\n",
    "\n",
    "You will now eliminate features which are highly correlated with each other. This helps remove redundant features thus resulting in a simpler model. Since the scores are calculated regardless of the target variable, this can be categorized under *unsupervised* feature selection.\n",
    "\n",
    "For this, you will plot the correlation matrix of the features selected previously. Let's first visualize the correlation matrix again."
   ]
  },
  {
   "cell_type": "code",
   "execution_count": 21,
   "metadata": {
    "id": "0yIfyep00eQb"
   },
   "outputs": [
    {
     "data": {
      "text/plain": [
       "'\\n# Set figure size\\nplt.figure(figsize=(20, 20))\\n\\n# Calculate the correlation matrix for target relevant features that you previously determined\\nnew_corr = df[names].corr()\\n\\n# Visualize the correlation matrix\\nsns.heatmap(new_corr, annot=True, cmap=plt.cm.Blues)\\nplt.show()\\n'"
      ]
     },
     "execution_count": 21,
     "metadata": {},
     "output_type": "execute_result"
    }
   ],
   "source": [
    "\"\"\"\n",
    "# Set figure size\n",
    "plt.figure(figsize=(20, 20))\n",
    "\n",
    "# Calculate the correlation matrix for target relevant features that you previously determined\n",
    "new_corr = df[names].corr()\n",
    "\n",
    "# Visualize the correlation matrix\n",
    "sns.heatmap(new_corr, annot=True, cmap=plt.cm.Blues)\n",
    "plt.show()\n",
    "\"\"\""
   ]
  },
  {
   "cell_type": "markdown",
   "metadata": {},
   "source": [
    "You will see that `wap` is highly correlated to `reference_price`, `bid_price`, and `ask_price`. You can retain any of these and remove the rest of the features highly correlated to it.\n"
   ]
  },
  {
   "cell_type": "markdown",
   "metadata": {
    "id": "rTXGrmiqkS-b"
   },
   "source": [
    "This is a more magnified view of the features that are highly correlated to each other."
   ]
  },
  {
   "cell_type": "code",
   "execution_count": 22,
   "metadata": {
    "id": "yrzX3gpwwfKB"
   },
   "outputs": [
    {
     "data": {
      "text/plain": [
       "'\\n# Set figure size\\nplt.figure(figsize=(12, 10))\\n\\n# Select a subset of features\\nnew_corr = df[[\"stock_id\", \"date_id\", \"seconds_in_bucket\", \"imbalance_size\", \"imbalance_buy_sell_flag\", \"matched_size\", \"far_price\", \"near_price\",\\n               \"bid_size\", \"ask_size\", \"wap\"]].corr()\\n\\n# Visualize the correlation matrix\\nsns.heatmap(new_corr, annot=True, cmap=plt.cm.Blues)\\nplt.show()\\n'"
      ]
     },
     "execution_count": 22,
     "metadata": {},
     "output_type": "execute_result"
    }
   ],
   "source": [
    "\"\"\"\n",
    "# Set figure size\n",
    "plt.figure(figsize=(12, 10))\n",
    "\n",
    "# Select a subset of features\n",
    "new_corr = df[[\"stock_id\", \"date_id\", \"seconds_in_bucket\", \"imbalance_size\", \"imbalance_buy_sell_flag\", \"matched_size\", \"far_price\", \"near_price\",\n",
    "               \"bid_size\", \"ask_size\", \"wap\"]].corr()\n",
    "\n",
    "# Visualize the correlation matrix\n",
    "sns.heatmap(new_corr, annot=True, cmap=plt.cm.Blues)\n",
    "plt.show()\n",
    "\"\"\""
   ]
  },
  {
   "cell_type": "markdown",
   "metadata": {
    "id": "NSCK7aYOkZNf"
   },
   "source": [
    "You will now evaluate the model on the features selected based on your observations. You can see that the metrics show the same values as when it was using 25 features. This indicates that you can get the same model performance even if you reduce the number of features. In other words, the 4 features you removed were indeed redundant and you only needed the ones you retained."
   ]
  },
  {
   "cell_type": "code",
   "execution_count": 23,
   "metadata": {
    "id": "SlDWwAZi8LPi"
   },
   "outputs": [
    {
     "data": {
      "text/plain": [
       "'\\n# Remove the features with high correlation to other features\\nsubset_feature_corr_names = [x for x in names if x not in [\"reference_price\", \"bid_price\", \"ask_price\"]]\\n\\n# Calculate and check evaluation metrics\\nsubset_feature_eval_df = evaluate_model_on_features(df[subset_feature_corr_names], Y)\\nsubset_feature_eval_df.index = [\"Subset features\"]\\n\\n# Append to results and display\\nresults = pd.concat([results, subset_feature_eval_df])\\nresults.head(n=10)\\n'"
      ]
     },
     "execution_count": 23,
     "metadata": {},
     "output_type": "execute_result"
    }
   ],
   "source": [
    "\"\"\"\n",
    "# Remove the features with high correlation to other features\n",
    "subset_feature_corr_names = [x for x in names if x not in [\"reference_price\", \"bid_price\", \"ask_price\"]]\n",
    "\n",
    "# Calculate and check evaluation metrics\n",
    "subset_feature_eval_df = evaluate_model_on_features(df[subset_feature_corr_names], Y)\n",
    "subset_feature_eval_df.index = [\"Subset features\"]\n",
    "\n",
    "# Append to results and display\n",
    "results = pd.concat([results, subset_feature_eval_df])\n",
    "results.head(n=10)\n",
    "\"\"\""
   ]
  },
  {
   "cell_type": "markdown",
   "metadata": {
    "id": "t--zb4h3AOeM"
   },
   "source": [
    "## Wrapper Methods\n",
    "\n",
    "Wrapper methods use a model to measure the effectiveness of a particular subset of features. One approach is to remove or add features sequentially. You can either start with 1 feature and gradually add until no improvement is made (forward selection), or do the reverse (backward selection). That can be done with the [SequentialFeatureSelector](https://scikit-learn.org/stable/modules/generated/sklearn.feature_selection.SequentialFeatureSelector.html#sklearn.feature_selection.SequentialFeatureSelector) class which uses k-fold cross validation scores to decide which features to add or remove. [Recursive Feature Elimination](https://scikit-learn.org/stable/modules/generated/sklearn.feature_selection.RFE.html) is similar to backwards elimination but uses feature importance scores to prune the number of features. You can also specify how many features to remove at each iteration of the recursion. Let's use this as the wrapper for our model below."
   ]
  },
  {
   "cell_type": "markdown",
   "metadata": {
    "id": "n8eoK3htz1Jc"
   },
   "source": [
    "### Recursive Feature Elimination\n",
    "\n",
    "You used the **LGBMRegressor** as the model algorithm for which features should be selected. Now, it is high time to use **Recursive Feature Elimination**, which wraps around the selected model to perform feature selection. This time, you can repeat the same task of selecting the top 10 features using RFE."
   ]
  },
  {
   "cell_type": "code",
   "execution_count": 24,
   "metadata": {
    "id": "g6PGlE5gM8ca"
   },
   "outputs": [],
   "source": [
    "def run_rfe(x, y):\n",
    "    \n",
    "    # Since y is numerical, stratification in train-test split needs from binning target variable\n",
    "    if CFG.STRATIFY:\n",
    "        logger.info(\"Stratifying data...\")\n",
    "        bins = np.linspace(np.floor(y.min()), np.ceil(y.max()), 10)\n",
    "        y_binned = np.digitize(y, bins)\n",
    "    else:\n",
    "        y_binned = None\n",
    "\n",
    "    logger.info(\"Preparing data splits...\")\n",
    "    x_train, x_val, y_train, y_val = train_test_split(x, y, test_size=1./CFG.N_FOLDS, stratify=y_binned, random_state=CFG.RANDOM_STATE, shuffle=not CFG.TIME_AWARE_SPLIT)\n",
    "\n",
    "\n",
    "    # All features of dataset are float values. You normalize all features of the train and test dataset here (not necessary with decission trees)\n",
    "    if CFG.SCALE:\n",
    "        logger.info(\"Scaling features...\")\n",
    "        scaler = CFG.SCALER()\n",
    "        scaler = scaler.fit(x_train)\n",
    "        x_train = scaler.transform(x_train)\n",
    "        x_val = scaler.transform(x_val)\n",
    "\n",
    "    params = MODEL_CFG[CFG.MODEL.__name__][\"params_func\"]()\n",
    "    callbacks = MODEL_CFG[CFG.MODEL.__name__][\"callbacks\"]\n",
    "\n",
    "    logger.info(\"Performing Recursive Feature Elimination (RFE)...\")\n",
    "    # Define the model\n",
    "    model = CFG.MODEL(**params)\n",
    "    \n",
    "    # Wrap RFE around the model\n",
    "    rfe = RFE(model, n_features_to_select=CFG.RFE_FEAT_COUNT)\n",
    "\n",
    "    # Fit RFE\n",
    "    rfe = rfe.fit(x_train, y_train, eval_set=(x_val, y_val), callbacks=callbacks)\n",
    "    feature_names = df.drop(columns=[\"target\"]).columns[rfe.get_support()]\n",
    "    \n",
    "    return feature_names"
   ]
  },
  {
   "cell_type": "code",
   "execution_count": 25,
   "metadata": {},
   "outputs": [],
   "source": [
    "#rfe_feature_names = run_rfe(X, Y)"
   ]
  },
  {
   "cell_type": "markdown",
   "metadata": {
    "id": "Wx6HZR2wlTGI"
   },
   "source": [
    "Now it is high time to evaluate the **LGBMRegressor** on the features selected by RFE. In this case, you will see that there is a slight performance increase compared to the previous approaches."
   ]
  },
  {
   "cell_type": "code",
   "execution_count": 26,
   "metadata": {
    "id": "H-p-YdDuOD1B"
   },
   "outputs": [
    {
     "data": {
      "text/plain": [
       "'\\n# Calculate and check model metrics\\nrfe_eval_df = evaluate_model_on_features(df[rfe_feature_names], Y)\\nrfe_eval_df.index = [\"RFE\"]\\n\\n# Append to results and display\\nresults = pd.concat([results, rfe_eval_df])\\nresults.head(n=10)\\n'"
      ]
     },
     "execution_count": 26,
     "metadata": {},
     "output_type": "execute_result"
    }
   ],
   "source": [
    "\"\"\"\n",
    "# Calculate and check model metrics\n",
    "rfe_eval_df = evaluate_model_on_features(df[rfe_feature_names], Y)\n",
    "rfe_eval_df.index = [\"RFE\"]\n",
    "\n",
    "# Append to results and display\n",
    "results = pd.concat([results, rfe_eval_df])\n",
    "results.head(n=10)\n",
    "\"\"\""
   ]
  },
  {
   "cell_type": "code",
   "execution_count": 27,
   "metadata": {},
   "outputs": [
    {
     "data": {
      "text/plain": [
       "'\\nlogger.info(\"RFE feature names is: \")\\npprint(rfe_feature_names)\\n'"
      ]
     },
     "execution_count": 27,
     "metadata": {},
     "output_type": "execute_result"
    }
   ],
   "source": [
    "\"\"\"\n",
    "logger.info(\"RFE feature names is: \")\n",
    "pprint(rfe_feature_names)\n",
    "\"\"\""
   ]
  },
  {
   "cell_type": "markdown",
   "metadata": {},
   "source": [
    "## Embedded Methods\n",
    "\n",
    "Some models already have intrinsic properties that select the best features when it is constructed. With that, you can simply access these properties to get the scores for each feature. Let's look at some examples in the following sections."
   ]
  },
  {
   "cell_type": "markdown",
   "metadata": {
    "id": "A262FCClADGK"
   },
   "source": [
    "### Feature Importances\n",
    "\n",
    "**Feature importance** is already built-in in scikit-learn’s tree based models like **RandomForestClassifier** and typical gradient boosting algorithms such as **LGBMRegressor**. Once the model is fit, the feature importance is available as a property named **feature_importances_**.\n",
    "\n",
    "One can simply use [SelectFromModel](https://scikit-learn.org/stable/modules/generated/sklearn.feature_selection.SelectFromModel.html) to select features from the trained model based on a given threshold."
   ]
  },
  {
   "cell_type": "code",
   "execution_count": 28,
   "metadata": {
    "id": "ey_Qr2a89yxL"
   },
   "outputs": [
    {
     "name": "stderr",
     "output_type": "stream",
     "text": [
      "\u001b[32m2023-10-15 21:12:07.643\u001b[0m | \u001b[1mINFO    \u001b[0m | \u001b[36m__main__\u001b[0m:\u001b[36mfeature_importances_from_tree_based_model\u001b[0m:\u001b[36m11\u001b[0m - \u001b[1mPerforming data split...\u001b[0m\n"
     ]
    },
    {
     "name": "stderr",
     "output_type": "stream",
     "text": [
      "\u001b[32m2023-10-15 21:12:13.247\u001b[0m | \u001b[1mINFO    \u001b[0m | \u001b[36m__main__\u001b[0m:\u001b[36mfeature_importances_from_tree_based_model\u001b[0m:\u001b[36m23\u001b[0m - \u001b[1mFitting model...\u001b[0m\n"
     ]
    },
    {
     "name": "stdout",
     "output_type": "stream",
     "text": [
      "[LightGBM] [Info] Auto-choosing col-wise multi-threading, the overhead of testing was 1.848344 seconds.\n",
      "You can set `force_col_wise=true` to remove the overhead.\n",
      "[LightGBM] [Info] Total Bins 22264\n",
      "[LightGBM] [Info] Number of data points in the train set: 4190313, number of used features: 91\n",
      "[LightGBM] [Info] Start training from score -0.069737\n",
      "Training until validation scores don't improve for 50 rounds\n",
      "Did not meet early stopping. Best iteration is:\n",
      "[98]\tvalid_0's l1: 5.95421\n"
     ]
    },
    {
     "data": {
      "image/png": "[encoded data removed]",
      "text/plain": [
       "<Figure size 1000x1200 with 1 Axes>"
      ]
     },
     "metadata": {},
     "output_type": "display_data"
    }
   ],
   "source": [
    "def feature_importances_from_tree_based_model(x, y):\n",
    "    \n",
    "    # Since y is binned, stratification in train-test split needs from binning target variable\n",
    "    if CFG.STRATIFY:\n",
    "        logger.info(\"Stratifying data...\")\n",
    "        bins = np.linspace(np.floor(y.min()), np.ceil(y.max()), 10)\n",
    "        y_binned = np.digitize(y, bins)\n",
    "    else:\n",
    "        y_binned = None\n",
    "\n",
    "    logger.info(\"Performing data split...\")\n",
    "    x_train, x_val, y_train, y_val = train_test_split(x, y, test_size=1./CFG.N_FOLDS, stratify=y_binned, random_state=CFG.RANDOM_STATE, shuffle=not CFG.TIME_AWARE_SPLIT)\n",
    "\n",
    "    # All features of dataset are float values. You normalize all features of the train and test dataset here (not necessary with decission trees)\n",
    "    if CFG.SCALE:\n",
    "        logger.info(\"Scaling features...\")\n",
    "        scaler = CFG.SCALER()\n",
    "        scaler = scaler.fit(x_train)\n",
    "        x_train = scaler.transform(x_train)\n",
    "        x_val = scaler.transform(x_val)\n",
    "    \n",
    "\n",
    "    logger.info(\"Fitting model...\")\n",
    "    # Make sure the configured model supports feature importance or this will fail\n",
    "    model = fit_model(x_train, y_train, eval_data=(x_val, y_val))\n",
    "    \n",
    "    # Plot feature importance\n",
    "    plt.figure(figsize=(10, 12))\n",
    "    feat_importances = pd.Series(model.feature_importances_, index=x.columns)\n",
    "    feat_importances.sort_values(ascending=False).plot(kind='barh')\n",
    "    plt.show()\n",
    "    \n",
    "    return model\n",
    "\n",
    "\n",
    "def select_features_from_model(model):\n",
    "    \n",
    "    model = SelectFromModel(model, prefit=True, max_features=CFG.FEAT_FIMPORT_COUNT, threshold=-np.inf)\n",
    "    feature_idx = model.get_support()\n",
    "    feature_names = df.drop(columns=[\"target\"]).columns[feature_idx]\n",
    "        \n",
    "    return feature_names\n",
    "\n",
    "model = feature_importances_from_tree_based_model(X, Y)\n",
    "feature_imp_feature_names = select_features_from_model(model)"
   ]
  },
  {
   "cell_type": "code",
   "execution_count": 29,
   "metadata": {
    "id": "xqNy8BXD4mOk"
   },
   "outputs": [
    {
     "name": "stderr",
     "output_type": "stream",
     "text": [
      "\u001b[32m2023-10-15 21:13:34.215\u001b[0m | \u001b[1mINFO    \u001b[0m | \u001b[36m__main__\u001b[0m:\u001b[36mtrain_and_get_metrics\u001b[0m:\u001b[36m12\u001b[0m - \u001b[1mPerforming data split...\u001b[0m\n",
      "\u001b[32m2023-10-15 21:13:35.527\u001b[0m | \u001b[1mINFO    \u001b[0m | \u001b[36m__main__\u001b[0m:\u001b[36mtrain_and_get_metrics\u001b[0m:\u001b[36m23\u001b[0m - \u001b[1mFitting model...\u001b[0m\n"
     ]
    },
    {
     "name": "stdout",
     "output_type": "stream",
     "text": [
      "[LightGBM] [Info] Auto-choosing col-wise multi-threading, the overhead of testing was 0.902884 seconds.\n",
      "You can set `force_col_wise=true` to remove the overhead.\n",
      "[LightGBM] [Info] Total Bins 12060\n",
      "[LightGBM] [Info] Number of data points in the train set: 4190313, number of used features: 50\n",
      "[LightGBM] [Info] Start training from score -0.069737\n",
      "Training until validation scores don't improve for 50 rounds\n"
     ]
    },
    {
     "name": "stderr",
     "output_type": "stream",
     "text": [
      "\u001b[32m2023-10-15 21:14:20.748\u001b[0m | \u001b[1mINFO    \u001b[0m | \u001b[36m__main__\u001b[0m:\u001b[36mtrain_and_get_metrics\u001b[0m:\u001b[36m28\u001b[0m - \u001b[1mCalculating metrics...\u001b[0m\n"
     ]
    },
    {
     "name": "stdout",
     "output_type": "stream",
     "text": [
      "Did not meet early stopping. Best iteration is:\n",
      "[100]\tvalid_0's l1: 5.95342\n"
     ]
    },
    {
     "data": {
      "text/html": [
       "<div>\n",
       "<style scoped>\n",
       "    .dataframe tbody tr th:only-of-type {\n",
       "        vertical-align: middle;\n",
       "    }\n",
       "\n",
       "    .dataframe tbody tr th {\n",
       "        vertical-align: top;\n",
       "    }\n",
       "\n",
       "    .dataframe thead th {\n",
       "        text-align: right;\n",
       "    }\n",
       "</style>\n",
       "<table border=\"1\" class=\"dataframe\">\n",
       "  <thead>\n",
       "    <tr style=\"text-align: right;\">\n",
       "      <th></th>\n",
       "      <th>MAE</th>\n",
       "      <th>MSE</th>\n",
       "      <th>SMAPE</th>\n",
       "      <th>Feature Count</th>\n",
       "    </tr>\n",
       "  </thead>\n",
       "  <tbody>\n",
       "    <tr>\n",
       "      <th>All features</th>\n",
       "      <td>5.954209</td>\n",
       "      <td>78.792456</td>\n",
       "      <td>163.905306</td>\n",
       "      <td>91</td>\n",
       "    </tr>\n",
       "    <tr>\n",
       "      <th>Feature Importance</th>\n",
       "      <td>5.953419</td>\n",
       "      <td>78.764266</td>\n",
       "      <td>163.876203</td>\n",
       "      <td>50</td>\n",
       "    </tr>\n",
       "  </tbody>\n",
       "</table>\n",
       "</div>"
      ],
      "text/plain": [
       "                         MAE        MSE       SMAPE  Feature Count\n",
       "All features        5.954209  78.792456  163.905306             91\n",
       "Feature Importance  5.953419  78.764266  163.876203             50"
      ]
     },
     "execution_count": 29,
     "metadata": {},
     "output_type": "execute_result"
    }
   ],
   "source": [
    "# Calculate and check model metrics\n",
    "feat_imp_eval_df = evaluate_model_on_features(df[feature_imp_feature_names], Y)\n",
    "feat_imp_eval_df.index = [\"Feature Importance\"]\n",
    "\n",
    "# Append to results and display\n",
    "results = pd.concat([results, feat_imp_eval_df])\n",
    "results.head(n=10)"
   ]
  },
  {
   "cell_type": "code",
   "execution_count": 30,
   "metadata": {},
   "outputs": [
    {
     "name": "stderr",
     "output_type": "stream",
     "text": [
      "\u001b[32m2023-10-15 21:14:23.154\u001b[0m | \u001b[1mINFO    \u001b[0m | \u001b[36m__main__\u001b[0m:\u001b[36m<module>\u001b[0m:\u001b[36m1\u001b[0m - \u001b[1mFeature importance features are: \u001b[0m\n"
     ]
    },
    {
     "name": "stdout",
     "output_type": "stream",
     "text": [
      "Index(['stock_id', 'seconds_in_bucket', 'imbalance_size',\n",
      "       'imbalance_buy_sell_flag', 'reference_price', 'matched_size',\n",
      "       'far_price', 'bid_price', 'bid_size', 'ask_price', 'ask_size', 'wap',\n",
      "       'imb_s1', 'imb_s2', 'ask_volume', 'bid_volume', 'volume', 'size_spread',\n",
      "       'volumes_spread', 'bid_size_over_ask_size', 'bid_price_over_ask_price',\n",
      "       'imb_ratio', 'log_return', 'date_id_sin',\n",
      "       'reference_price_minus_ask_price', 'reference_price_ask_price_imb1',\n",
      "       'reference_price_minus_bid_price', 'reference_price_bid_price_imb1',\n",
      "       'reference_price_minus_wap', 'reference_price_wap_imb1',\n",
      "       'far_price_times_bid_price', 'near_price_minus_ask_price',\n",
      "       'near_price_ask_price_imb1', 'near_price_minus_bid_price',\n",
      "       'near_price_bid_price_imb1', 'near_price_minus_wap',\n",
      "       'near_price_wap_imb1', 'ask_price_minus_wap', 'ask_price_wap_imb1',\n",
      "       'bid_price_minus_wap', 'bid_price_wap_imb1',\n",
      "       'reference_price_far_price_near_price_imb2',\n",
      "       'reference_price_far_price_ask_price_imb2',\n",
      "       'reference_price_near_price_bid_price_imb2',\n",
      "       'reference_price_ask_price_bid_price_imb2',\n",
      "       'reference_price_ask_price_wap_imb2',\n",
      "       'far_price_near_price_bid_price_imb2',\n",
      "       'near_price_ask_price_bid_price_imb2', 'near_price_ask_price_wap_imb2',\n",
      "       'ask_price_bid_price_wap_imb2'],\n",
      "      dtype='object')\n"
     ]
    }
   ],
   "source": [
    "logger.info(\"Feature importance features are: \")\n",
    "pprint(feature_imp_feature_names)"
   ]
  },
  {
   "cell_type": "markdown",
   "metadata": {},
   "source": [
    "With these results and also domain knowledge, one can decide which set of features to use to train on the entire dataset, and withted methods. Due to its robustness to outliers and invariance to dependent variable magnitude, the decision will be based on the MAE metric. "
   ]
  },
  {
   "cell_type": "code",
   "execution_count": 31,
   "metadata": {},
   "outputs": [
    {
     "name": "stderr",
     "output_type": "stream",
     "text": [
      "\u001b[32m2023-10-15 21:14:23.184\u001b[0m | \u001b[1mINFO    \u001b[0m | \u001b[36m__main__\u001b[0m:\u001b[36m<module>\u001b[0m:\u001b[36m9\u001b[0m - \u001b[1mSelected features are: \u001b[0m\n"
     ]
    },
    {
     "name": "stdout",
     "output_type": "stream",
     "text": [
      "['stock_id',\n",
      " 'seconds_in_bucket',\n",
      " 'imbalance_size',\n",
      " 'imbalance_buy_sell_flag',\n",
      " 'reference_price',\n",
      " 'matched_size',\n",
      " 'far_price',\n",
      " 'bid_price',\n",
      " 'bid_size',\n",
      " 'ask_price',\n",
      " 'ask_size',\n",
      " 'wap',\n",
      " 'imb_s1',\n",
      " 'imb_s2',\n",
      " 'ask_volume',\n",
      " 'bid_volume',\n",
      " 'volume',\n",
      " 'size_spread',\n",
      " 'volumes_spread',\n",
      " 'bid_size_over_ask_size',\n",
      " 'bid_price_over_ask_price',\n",
      " 'imb_ratio',\n",
      " 'log_return',\n",
      " 'date_id_sin',\n",
      " 'reference_price_minus_ask_price',\n",
      " 'reference_price_ask_price_imb1',\n",
      " 'reference_price_minus_bid_price',\n",
      " 'reference_price_bid_price_imb1',\n",
      " 'reference_price_minus_wap',\n",
      " 'reference_price_wap_imb1',\n",
      " 'far_price_times_bid_price',\n",
      " 'near_price_minus_ask_price',\n",
      " 'near_price_ask_price_imb1',\n",
      " 'near_price_minus_bid_price',\n",
      " 'near_price_bid_price_imb1',\n",
      " 'near_price_minus_wap',\n",
      " 'near_price_wap_imb1',\n",
      " 'ask_price_minus_wap',\n",
      " 'ask_price_wap_imb1',\n",
      " 'bid_price_minus_wap',\n",
      " 'bid_price_wap_imb1',\n",
      " 'reference_price_far_price_near_price_imb2',\n",
      " 'reference_price_far_price_ask_price_imb2',\n",
      " 'reference_price_near_price_bid_price_imb2',\n",
      " 'reference_price_ask_price_bid_price_imb2',\n",
      " 'reference_price_ask_price_wap_imb2',\n",
      " 'far_price_near_price_bid_price_imb2',\n",
      " 'near_price_ask_price_bid_price_imb2',\n",
      " 'near_price_ask_price_wap_imb2',\n",
      " 'ask_price_bid_price_wap_imb2',\n",
      " 'target']\n"
     ]
    }
   ],
   "source": [
    "from utils.files import dump_json\n",
    "\n",
    "selected_features = list(feature_imp_feature_names) # Select the desired results\n",
    "\n",
    "# Add essential features if not in the selected features\n",
    "selected_features.extend([\"target\", \"stock_id\", \"seconds_in_bucket\"])\n",
    "selected_features = list(dict.fromkeys(selected_features))\n",
    "\n",
    "logger.info(\"Selected features are: \")\n",
    "pprint(selected_features)\n",
    "\n",
    "selected_features_dict = {\"selected_features\": selected_features}\n",
    "dump_json(CFG.JOB_PATH.joinpath(CFG.SELECTED_FEATURES), selected_features_dict, indent=4)"
   ]
  },
  {
   "cell_type": "code",
   "execution_count": 32,
   "metadata": {},
   "outputs": [
    {
     "name": "stderr",
     "output_type": "stream",
     "text": [
      "\u001b[32m2023-10-15 21:14:32.992\u001b[0m | \u001b[1mINFO    \u001b[0m | \u001b[36mutils.featurizers\u001b[0m:\u001b[36mfeaturize\u001b[0m:\u001b[36m30\u001b[0m - \u001b[1mCreating additional features...\u001b[0m\n",
      "\u001b[32m2023-10-15 21:15:57.630\u001b[0m | \u001b[1mINFO    \u001b[0m | \u001b[36mutils.featurizers\u001b[0m:\u001b[36mfeaturize\u001b[0m:\u001b[36m78\u001b[0m - \u001b[1mDropping unnecesary features...\u001b[0m\n",
      "\u001b[32m2023-10-15 21:15:58.716\u001b[0m | \u001b[1mINFO    \u001b[0m | \u001b[36mutils.featurizers\u001b[0m:\u001b[36mfeaturize\u001b[0m:\u001b[36m82\u001b[0m - \u001b[1mReducing data memory footprint...\u001b[0m\n",
      "\u001b[32m2023-10-15 21:15:58.720\u001b[0m | \u001b[1mINFO    \u001b[0m | \u001b[36mutils.compression\u001b[0m:\u001b[36mdowncast\u001b[0m:\u001b[36m16\u001b[0m - \u001b[1mMemory usage of dataframe is 2038.09 MB\u001b[0m\n",
      "\u001b[32m2023-10-15 21:16:10.555\u001b[0m | \u001b[1mINFO    \u001b[0m | \u001b[36mutils.compression\u001b[0m:\u001b[36mdowncast\u001b[0m:\u001b[36m25\u001b[0m - \u001b[1mMemory usage after optimization is: 1363.72 MB\u001b[0m\n",
      "\u001b[32m2023-10-15 21:16:10.556\u001b[0m | \u001b[1mINFO    \u001b[0m | \u001b[36mutils.compression\u001b[0m:\u001b[36mdowncast\u001b[0m:\u001b[36m27\u001b[0m - \u001b[1mDecreased by 33.09%\u001b[0m\n"
     ]
    },
    {
     "data": {
      "text/html": [
       "<div>\n",
       "<style scoped>\n",
       "    .dataframe tbody tr th:only-of-type {\n",
       "        vertical-align: middle;\n",
       "    }\n",
       "\n",
       "    .dataframe tbody tr th {\n",
       "        vertical-align: top;\n",
       "    }\n",
       "\n",
       "    .dataframe thead th {\n",
       "        text-align: right;\n",
       "    }\n",
       "</style>\n",
       "<table border=\"1\" class=\"dataframe\">\n",
       "  <thead>\n",
       "    <tr style=\"text-align: right;\">\n",
       "      <th></th>\n",
       "      <th>stock_id</th>\n",
       "      <th>seconds_in_bucket</th>\n",
       "      <th>imbalance_size</th>\n",
       "      <th>imbalance_buy_sell_flag</th>\n",
       "      <th>reference_price</th>\n",
       "      <th>matched_size</th>\n",
       "      <th>far_price</th>\n",
       "      <th>bid_price</th>\n",
       "      <th>bid_size</th>\n",
       "      <th>ask_price</th>\n",
       "      <th>...</th>\n",
       "      <th>bid_price_wap_imb1</th>\n",
       "      <th>reference_price_far_price_near_price_imb2</th>\n",
       "      <th>reference_price_far_price_ask_price_imb2</th>\n",
       "      <th>reference_price_near_price_bid_price_imb2</th>\n",
       "      <th>reference_price_ask_price_bid_price_imb2</th>\n",
       "      <th>reference_price_ask_price_wap_imb2</th>\n",
       "      <th>far_price_near_price_bid_price_imb2</th>\n",
       "      <th>near_price_ask_price_bid_price_imb2</th>\n",
       "      <th>near_price_ask_price_wap_imb2</th>\n",
       "      <th>ask_price_bid_price_wap_imb2</th>\n",
       "    </tr>\n",
       "  </thead>\n",
       "  <tbody>\n",
       "    <tr>\n",
       "      <th>0</th>\n",
       "      <td>0</td>\n",
       "      <td>0</td>\n",
       "      <td>3180602.69</td>\n",
       "      <td>1</td>\n",
       "      <td>0.999812</td>\n",
       "      <td>13380276.64</td>\n",
       "      <td>NaN</td>\n",
       "      <td>0.999812</td>\n",
       "      <td>60651.50</td>\n",
       "      <td>1.000026</td>\n",
       "      <td>...</td>\n",
       "      <td>-9.400884e-05</td>\n",
       "      <td>-1.0</td>\n",
       "      <td>-1.000214</td>\n",
       "      <td>-1.000000</td>\n",
       "      <td>-1.927541e+12</td>\n",
       "      <td>0.138298</td>\n",
       "      <td>-1.0</td>\n",
       "      <td>-1.000214</td>\n",
       "      <td>-1.000026</td>\n",
       "      <td>0.138298</td>\n",
       "    </tr>\n",
       "    <tr>\n",
       "      <th>1</th>\n",
       "      <td>1</td>\n",
       "      <td>0</td>\n",
       "      <td>166603.91</td>\n",
       "      <td>-1</td>\n",
       "      <td>0.999896</td>\n",
       "      <td>1642214.25</td>\n",
       "      <td>NaN</td>\n",
       "      <td>0.999896</td>\n",
       "      <td>3233.04</td>\n",
       "      <td>1.000660</td>\n",
       "      <td>...</td>\n",
       "      <td>-5.200270e-05</td>\n",
       "      <td>-1.0</td>\n",
       "      <td>-1.000764</td>\n",
       "      <td>-1.000000</td>\n",
       "      <td>-6.881500e+12</td>\n",
       "      <td>6.346154</td>\n",
       "      <td>-1.0</td>\n",
       "      <td>-1.000764</td>\n",
       "      <td>-1.000660</td>\n",
       "      <td>6.346154</td>\n",
       "    </tr>\n",
       "    <tr>\n",
       "      <th>2</th>\n",
       "      <td>2</td>\n",
       "      <td>0</td>\n",
       "      <td>302879.87</td>\n",
       "      <td>-1</td>\n",
       "      <td>0.999561</td>\n",
       "      <td>1819368.03</td>\n",
       "      <td>NaN</td>\n",
       "      <td>0.999403</td>\n",
       "      <td>37956.00</td>\n",
       "      <td>1.000298</td>\n",
       "      <td>...</td>\n",
       "      <td>-2.985891e-04</td>\n",
       "      <td>-1.0</td>\n",
       "      <td>-1.000737</td>\n",
       "      <td>-1.000158</td>\n",
       "      <td>4.664557e+00</td>\n",
       "      <td>0.678815</td>\n",
       "      <td>-1.0</td>\n",
       "      <td>-1.000896</td>\n",
       "      <td>-1.000298</td>\n",
       "      <td>0.499162</td>\n",
       "    </tr>\n",
       "    <tr>\n",
       "      <th>3</th>\n",
       "      <td>3</td>\n",
       "      <td>0</td>\n",
       "      <td>11917682.27</td>\n",
       "      <td>-1</td>\n",
       "      <td>1.000171</td>\n",
       "      <td>18389745.62</td>\n",
       "      <td>NaN</td>\n",
       "      <td>0.999999</td>\n",
       "      <td>2324.90</td>\n",
       "      <td>1.000214</td>\n",
       "      <td>...</td>\n",
       "      <td>-5.000002e-07</td>\n",
       "      <td>-1.0</td>\n",
       "      <td>-1.000043</td>\n",
       "      <td>-1.000172</td>\n",
       "      <td>2.500000e-01</td>\n",
       "      <td>0.251462</td>\n",
       "      <td>-1.0</td>\n",
       "      <td>-1.000215</td>\n",
       "      <td>-1.000214</td>\n",
       "      <td>214.000000</td>\n",
       "    </tr>\n",
       "    <tr>\n",
       "      <th>4</th>\n",
       "      <td>4</td>\n",
       "      <td>0</td>\n",
       "      <td>447549.96</td>\n",
       "      <td>-1</td>\n",
       "      <td>0.999532</td>\n",
       "      <td>17860614.95</td>\n",
       "      <td>NaN</td>\n",
       "      <td>0.999394</td>\n",
       "      <td>16485.54</td>\n",
       "      <td>1.000016</td>\n",
       "      <td>...</td>\n",
       "      <td>-3.030918e-04</td>\n",
       "      <td>-1.0</td>\n",
       "      <td>-1.000484</td>\n",
       "      <td>-1.000138</td>\n",
       "      <td>3.507246e+00</td>\n",
       "      <td>0.034188</td>\n",
       "      <td>-1.0</td>\n",
       "      <td>-1.000622</td>\n",
       "      <td>-1.000016</td>\n",
       "      <td>0.026403</td>\n",
       "    </tr>\n",
       "  </tbody>\n",
       "</table>\n",
       "<p>5 rows × 51 columns</p>\n",
       "</div>"
      ],
      "text/plain": [
       "   stock_id  seconds_in_bucket  imbalance_size  imbalance_buy_sell_flag  \\\n",
       "0         0                  0      3180602.69                        1   \n",
       "1         1                  0       166603.91                       -1   \n",
       "2         2                  0       302879.87                       -1   \n",
       "3         3                  0     11917682.27                       -1   \n",
       "4         4                  0       447549.96                       -1   \n",
       "\n",
       "   reference_price  matched_size  far_price  bid_price  bid_size  ask_price  \\\n",
       "0         0.999812   13380276.64        NaN   0.999812  60651.50   1.000026   \n",
       "1         0.999896    1642214.25        NaN   0.999896   3233.04   1.000660   \n",
       "2         0.999561    1819368.03        NaN   0.999403  37956.00   1.000298   \n",
       "3         1.000171   18389745.62        NaN   0.999999   2324.90   1.000214   \n",
       "4         0.999532   17860614.95        NaN   0.999394  16485.54   1.000016   \n",
       "\n",
       "   ...  bid_price_wap_imb1  reference_price_far_price_near_price_imb2  \\\n",
       "0  ...       -9.400884e-05                                       -1.0   \n",
       "1  ...       -5.200270e-05                                       -1.0   \n",
       "2  ...       -2.985891e-04                                       -1.0   \n",
       "3  ...       -5.000002e-07                                       -1.0   \n",
       "4  ...       -3.030918e-04                                       -1.0   \n",
       "\n",
       "   reference_price_far_price_ask_price_imb2  \\\n",
       "0                                 -1.000214   \n",
       "1                                 -1.000764   \n",
       "2                                 -1.000737   \n",
       "3                                 -1.000043   \n",
       "4                                 -1.000484   \n",
       "\n",
       "   reference_price_near_price_bid_price_imb2  \\\n",
       "0                                  -1.000000   \n",
       "1                                  -1.000000   \n",
       "2                                  -1.000158   \n",
       "3                                  -1.000172   \n",
       "4                                  -1.000138   \n",
       "\n",
       "   reference_price_ask_price_bid_price_imb2  \\\n",
       "0                             -1.927541e+12   \n",
       "1                             -6.881500e+12   \n",
       "2                              4.664557e+00   \n",
       "3                              2.500000e-01   \n",
       "4                              3.507246e+00   \n",
       "\n",
       "   reference_price_ask_price_wap_imb2  far_price_near_price_bid_price_imb2  \\\n",
       "0                            0.138298                                 -1.0   \n",
       "1                            6.346154                                 -1.0   \n",
       "2                            0.678815                                 -1.0   \n",
       "3                            0.251462                                 -1.0   \n",
       "4                            0.034188                                 -1.0   \n",
       "\n",
       "   near_price_ask_price_bid_price_imb2  near_price_ask_price_wap_imb2  \\\n",
       "0                            -1.000214                      -1.000026   \n",
       "1                            -1.000764                      -1.000660   \n",
       "2                            -1.000896                      -1.000298   \n",
       "3                            -1.000215                      -1.000214   \n",
       "4                            -1.000622                      -1.000016   \n",
       "\n",
       "   ask_price_bid_price_wap_imb2  \n",
       "0                      0.138298  \n",
       "1                      6.346154  \n",
       "2                      0.499162  \n",
       "3                    214.000000  \n",
       "4                      0.026403  \n",
       "\n",
       "[5 rows x 51 columns]"
      ]
     },
     "execution_count": 32,
     "metadata": {},
     "output_type": "execute_result"
    }
   ],
   "source": [
    "from utils.featurizers import featurize\n",
    "from utils.files import read_json\n",
    "\n",
    "df = pd.read_csv(CFG.TRAINING_PATH)\n",
    "selected_features = read_json(CFG.JOB_PATH.joinpath(CFG.SELECTED_FEATURES))[\"selected_features\"]\n",
    "\n",
    "df_featurized = df.copy() \n",
    "\n",
    "# Call only after analyzing the default features\n",
    "featurize(df_featurized, features=selected_features)\n",
    "\n",
    "df_featurized.head()"
   ]
  },
  {
   "cell_type": "code",
   "execution_count": 33,
   "metadata": {},
   "outputs": [
    {
     "name": "stderr",
     "output_type": "stream",
     "text": [
      "c:\\Users\\salva\\OneDrive\\Documentos\\Python Projects\\trading-at-the-close\\.venv\\lib\\site-packages\\pandas\\core\\nanops.py:1010: RuntimeWarning: invalid value encountered in subtract\n",
      "  sqr = _ensure_numeric((avg - values) ** 2)\n",
      "c:\\Users\\salva\\OneDrive\\Documentos\\Python Projects\\trading-at-the-close\\.venv\\lib\\site-packages\\pandas\\core\\nanops.py:1010: RuntimeWarning: invalid value encountered in subtract\n",
      "  sqr = _ensure_numeric((avg - values) ** 2)\n",
      "c:\\Users\\salva\\OneDrive\\Documentos\\Python Projects\\trading-at-the-close\\.venv\\lib\\site-packages\\pandas\\core\\nanops.py:1010: RuntimeWarning: invalid value encountered in subtract\n",
      "  sqr = _ensure_numeric((avg - values) ** 2)\n",
      "c:\\Users\\salva\\OneDrive\\Documentos\\Python Projects\\trading-at-the-close\\.venv\\lib\\site-packages\\pandas\\core\\nanops.py:1010: RuntimeWarning: invalid value encountered in subtract\n",
      "  sqr = _ensure_numeric((avg - values) ** 2)\n",
      "c:\\Users\\salva\\OneDrive\\Documentos\\Python Projects\\trading-at-the-close\\.venv\\lib\\site-packages\\pandas\\core\\nanops.py:1010: RuntimeWarning: invalid value encountered in subtract\n",
      "  sqr = _ensure_numeric((avg - values) ** 2)\n",
      "c:\\Users\\salva\\OneDrive\\Documentos\\Python Projects\\trading-at-the-close\\.venv\\lib\\site-packages\\pandas\\core\\nanops.py:1010: RuntimeWarning: invalid value encountered in subtract\n",
      "  sqr = _ensure_numeric((avg - values) ** 2)\n",
      "c:\\Users\\salva\\OneDrive\\Documentos\\Python Projects\\trading-at-the-close\\.venv\\lib\\site-packages\\pandas\\core\\nanops.py:1010: RuntimeWarning: invalid value encountered in subtract\n",
      "  sqr = _ensure_numeric((avg - values) ** 2)\n",
      "c:\\Users\\salva\\OneDrive\\Documentos\\Python Projects\\trading-at-the-close\\.venv\\lib\\site-packages\\pandas\\core\\nanops.py:1010: RuntimeWarning: invalid value encountered in subtract\n",
      "  sqr = _ensure_numeric((avg - values) ** 2)\n",
      "c:\\Users\\salva\\OneDrive\\Documentos\\Python Projects\\trading-at-the-close\\.venv\\lib\\site-packages\\pandas\\core\\nanops.py:1010: RuntimeWarning: invalid value encountered in subtract\n",
      "  sqr = _ensure_numeric((avg - values) ** 2)\n"
     ]
    }
   ],
   "source": [
    "df_featurized.describe(include=\"all\").to_csv(CFG.JOB_PATH.joinpath(\"train_stats.csv\"))"
   ]
  },
  {
   "cell_type": "code",
   "execution_count": 34,
   "metadata": {},
   "outputs": [
    {
     "data": {
      "text/plain": [
       "'\\ngrouped = df_featurized.groupby([\"stock_id\", \"date_id\"])\\nfor elem in df_featurized.groupby([\"stock_id\", \"date_id\", \"seconds_in_bucket\"]):\\n    elem[1].drop(columns=[\"stock_id\", \"date_id\"], inplace=True)\\n    elem[1].rename(columns={column : column + \"_1\" for column in elem[1].columns}, inplace=True)\\n    break\\n'"
      ]
     },
     "execution_count": 34,
     "metadata": {},
     "output_type": "execute_result"
    }
   ],
   "source": [
    "## Test cell\n",
    "#window = 2\n",
    "\n",
    "#median_vol = df.groupby(\"stock_id\")[\"bid_size\"].median() + \\\n",
    "#                df.groupby(\"stock_id\")[\"ask_size\"].median()\n",
    "\n",
    "#print(df_featurized[[\"stock_id\", \"date_id\", \"seconds_in_bucket\"]])\n",
    "\n",
    "#for date_id, date_id_df in df_featurized.groupby(\"date_id\"):\n",
    "#    for secs_in_bucket, secs_in_bucket_df in reversed(date_id_df.groupby(\"seconds_in_bucket\")):\n",
    "#        print(str(secs_in_bucket) + \" \", end=\"\")\n",
    "'''\n",
    "grouped = df_featurized.groupby([\"stock_id\", \"date_id\"])\n",
    "for elem in df_featurized.groupby([\"stock_id\", \"date_id\", \"seconds_in_bucket\"]):\n",
    "    elem[1].drop(columns=[\"stock_id\", \"date_id\"], inplace=True)\n",
    "    elem[1].rename(columns={column : column + \"_1\" for column in elem[1].columns}, inplace=True)\n",
    "    break\n",
    "'''"
   ]
  },
  {
   "cell_type": "markdown",
   "metadata": {},
   "source": [
    "## Wrap Up\n",
    "\n",
    "That's it for this quick rundown of different feature selection methods applicable to regression problems such as the Trading-at-the-Close problem. As shown, you can do quick experiments with these because convenience modules are already available in libraries like sci-kit learn. It is a good idea to do this preprocessing step because not only will you save resources, you may even get better results than when you use all features."
   ]
  }
 ],
 "metadata": {
  "accelerator": "GPU",
  "colab": {
   "collapsed_sections": [],
   "include_colab_link": true,
   "name": "Copy of Feature Selection on Breast Cancer Dataset.ipynb",
   "provenance": [],
   "toc_visible": true
  },
  "kernelspec": {
   "display_name": "Python 3",
   "language": "python",
   "name": "python3"
  },
  "language_info": {
   "codemirror_mode": {
    "name": "ipython",
    "version": 3
   },
   "file_extension": ".py",
   "mimetype": "text/x-python",
   "name": "python",
   "nbconvert_exporter": "python",
   "pygments_lexer": "ipython3",
   "version": "3.10.4"
  }
 },
 "nbformat": 4,
 "nbformat_minor": 1
}
