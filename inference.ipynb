{
 "cells": [
  {
   "cell_type": "markdown",
   "id": "6675a9ce",
   "metadata": {
    "papermill": {
     "duration": 0.003312,
     "end_time": "2023-10-15T16:08:05.286505",
     "exception": false,
     "start_time": "2023-10-15T16:08:05.283193",
     "status": "completed"
    },
    "tags": []
   },
   "source": [
    "# Trading at the Close - Inference\n",
    "-----------------------\n",
    "-----------------------"
   ]
  },
  {
   "cell_type": "markdown",
   "id": "c322aff9",
   "metadata": {
    "papermill": {
     "duration": 0.002489,
     "end_time": "2023-10-15T16:08:05.293598",
     "exception": false,
     "start_time": "2023-10-15T16:08:05.291109",
     "status": "completed"
    },
    "tags": []
   },
   "source": [
    "## Imports\n",
    "-----------"
   ]
  },
  {
   "cell_type": "code",
   "execution_count": 1,
   "id": "a690d768",
   "metadata": {
    "_kg_hide-input": true,
    "execution": {
     "iopub.execute_input": "2023-10-15T16:08:05.300923Z",
     "iopub.status.busy": "2023-10-15T16:08:05.300510Z",
     "iopub.status.idle": "2023-10-15T16:08:05.685263Z",
     "shell.execute_reply": "2023-10-15T16:08:05.684125Z"
    },
    "papermill": {
     "duration": 0.391445,
     "end_time": "2023-10-15T16:08:05.687732",
     "exception": false,
     "start_time": "2023-10-15T16:08:05.296287",
     "status": "completed"
    },
    "tags": []
   },
   "outputs": [],
   "source": [
    "import sys\n",
    "import numpy as np\n",
    "from pathlib import Path\n",
    "import pandas as pd"
   ]
  },
  {
   "cell_type": "code",
   "execution_count": 2,
   "id": "ef98ce2c",
   "metadata": {
    "execution": {
     "iopub.execute_input": "2023-10-15T16:08:05.695112Z",
     "iopub.status.busy": "2023-10-15T16:08:05.694610Z",
     "iopub.status.idle": "2023-10-15T16:08:05.701183Z",
     "shell.execute_reply": "2023-10-15T16:08:05.699870Z"
    },
    "papermill": {
     "duration": 0.013523,
     "end_time": "2023-10-15T16:08:05.704159",
     "exception": false,
     "start_time": "2023-10-15T16:08:05.690636",
     "status": "completed"
    },
    "tags": []
   },
   "outputs": [
    {
     "name": "stdout",
     "output_type": "stream",
     "text": [
      "['/kaggle/input/optiver-inference-utils', '/kaggle/working', '/kaggle/lib/kagglegym', '/kaggle/lib', '/kaggle/input/optiver-trading-at-the-close', '/opt/conda/lib/python310.zip', '/opt/conda/lib/python3.10', '/opt/conda/lib/python3.10/lib-dynload', '', '/root/.local/lib/python3.10/site-packages', '/opt/conda/lib/python3.10/site-packages', '/root/src/BigQuery_Helper']\n"
     ]
    }
   ],
   "source": [
    "utils_path = Path(\"/\", \"kaggle\", \"input\", \"optiver-inference-utils\")\n",
    "if str(utils_path) not in sys.path:\n",
    "    sys.path = [str(utils_path),] + sys.path\n",
    "    \n",
    "print(sys.path)"
   ]
  },
  {
   "cell_type": "code",
   "execution_count": 3,
   "id": "bbcfe055",
   "metadata": {
    "execution": {
     "iopub.execute_input": "2023-10-15T16:08:05.711107Z",
     "iopub.status.busy": "2023-10-15T16:08:05.710781Z",
     "iopub.status.idle": "2023-10-15T16:08:05.716012Z",
     "shell.execute_reply": "2023-10-15T16:08:05.714923Z"
    },
    "papermill": {
     "duration": 0.011112,
     "end_time": "2023-10-15T16:08:05.718081",
     "exception": false,
     "start_time": "2023-10-15T16:08:05.706969",
     "status": "completed"
    },
    "tags": []
   },
   "outputs": [],
   "source": [
    "class CFG:\n",
    "    LOCAL = True\n",
    "    JOBS_PATH = Path(\"/\", \"kaggle\", \"input\", \"optiver-trained-artifacts\", \"job_artifacts\")\n",
    "    FEATURES_PATH = JOBS_PATH.joinpath(\"optiver-feature_selection-0002\")\n",
    "    FEATURES_NAME = \"feature_names.json\"\n",
    "    MODEL_PATH = JOBS_PATH.joinpath(\"optiver-tuning_lgbmregressor-0008\")"
   ]
  },
  {
   "cell_type": "markdown",
   "id": "21bf842d",
   "metadata": {
    "papermill": {
     "duration": 0.002372,
     "end_time": "2023-10-15T16:08:05.723299",
     "exception": false,
     "start_time": "2023-10-15T16:08:05.720927",
     "status": "completed"
    },
    "tags": []
   },
   "source": [
    "## Inference\n",
    "--------------"
   ]
  },
  {
   "cell_type": "code",
   "execution_count": 4,
   "id": "cd4774a7",
   "metadata": {
    "execution": {
     "iopub.execute_input": "2023-10-15T16:08:05.730096Z",
     "iopub.status.busy": "2023-10-15T16:08:05.729713Z",
     "iopub.status.idle": "2023-10-15T16:08:05.734994Z",
     "shell.execute_reply": "2023-10-15T16:08:05.733846Z"
    },
    "papermill": {
     "duration": 0.011263,
     "end_time": "2023-10-15T16:08:05.737129",
     "exception": false,
     "start_time": "2023-10-15T16:08:05.725866",
     "status": "completed"
    },
    "tags": []
   },
   "outputs": [],
   "source": [
    "def zero_sum(prices, volumes):\n",
    "    std_error = np.sqrt(volumes)\n",
    "    step = np.sum(prices)/np.sum(std_error)\n",
    "    out = prices - std_error * step\n",
    "\n",
    "    return out"
   ]
  },
  {
   "cell_type": "code",
   "execution_count": 5,
   "id": "73ddb965",
   "metadata": {
    "execution": {
     "iopub.execute_input": "2023-10-15T16:08:05.744853Z",
     "iopub.status.busy": "2023-10-15T16:08:05.744491Z",
     "iopub.status.idle": "2023-10-15T16:08:05.770719Z",
     "shell.execute_reply": "2023-10-15T16:08:05.769220Z"
    },
    "papermill": {
     "duration": 0.033168,
     "end_time": "2023-10-15T16:08:05.773237",
     "exception": false,
     "start_time": "2023-10-15T16:08:05.740069",
     "status": "completed"
    },
    "tags": []
   },
   "outputs": [],
   "source": [
    "import optiver2023\n",
    "\n",
    "env = optiver2023.make_env()\n",
    "iter_test = env.iter_test()"
   ]
  },
  {
   "cell_type": "code",
   "execution_count": 6,
   "id": "7fc48e42",
   "metadata": {
    "execution": {
     "iopub.execute_input": "2023-10-15T16:08:05.780569Z",
     "iopub.status.busy": "2023-10-15T16:08:05.780186Z",
     "iopub.status.idle": "2023-10-15T16:08:05.785998Z",
     "shell.execute_reply": "2023-10-15T16:08:05.784973Z"
    },
    "papermill": {
     "duration": 0.011937,
     "end_time": "2023-10-15T16:08:05.788117",
     "exception": false,
     "start_time": "2023-10-15T16:08:05.776180",
     "status": "completed"
    },
    "tags": []
   },
   "outputs": [],
   "source": [
    "def load_model(\n",
    "    model_type,\n",
    "    booster_file\n",
    "):\n",
    "    model = model_type(model_file=str(booster_file.with_suffix(\".txt\")))\n",
    "    \n",
    "    return model"
   ]
  },
  {
   "cell_type": "code",
   "execution_count": 7,
   "id": "225ac5bf",
   "metadata": {
    "execution": {
     "iopub.execute_input": "2023-10-15T16:08:05.795554Z",
     "iopub.status.busy": "2023-10-15T16:08:05.795184Z",
     "iopub.status.idle": "2023-10-15T16:08:53.052733Z",
     "shell.execute_reply": "2023-10-15T16:08:53.051619Z"
    },
    "papermill": {
     "duration": 47.264671,
     "end_time": "2023-10-15T16:08:53.055745",
     "exception": false,
     "start_time": "2023-10-15T16:08:05.791074",
     "status": "completed"
    },
    "tags": []
   },
   "outputs": [
    {
     "name": "stdout",
     "output_type": "stream",
     "text": [
      "This version of the API is not optimized and should not be used to estimate the runtime of your code on the hidden test set.\n"
     ]
    }
   ],
   "source": [
    "from utils.files import read_json\n",
    "from utils.features import make_features, select_features\n",
    "from lightgbm import Booster\n",
    "\n",
    "selected_features = read_json(CFG.FEATURES_PATH.joinpath(CFG.FEATURES_NAME))[\"selected_features\"]\n",
    "counter = 0\n",
    "predictions = []\n",
    "\n",
    "models_boosters = CFG.MODEL_PATH.glob(\"**/*.txt\")\n",
    "models = [load_model(Booster, path) for path in models_boosters]\n",
    "\n",
    "\n",
    "for (test, revealed_targets, sample_prediction) in iter_test:\n",
    "    feat = test.copy()\n",
    "    make_features(feat, reduce_memory=True)\n",
    "    select_features(feat, selected_features)\n",
    "\n",
    "    # Mean ensemble\n",
    "    prediction = 0\n",
    "    for model in models:\n",
    "        prediction += model.predict(feat)   \n",
    "    prediction /= len(models)\n",
    "\n",
    "    prediction = zero_sum(prediction, test.loc[:, \"bid_size\"] + test.loc[:, \"ask_size\"])\n",
    "    sample_prediction[\"target\"] = prediction\n",
    "    env.predict(sample_prediction)\n",
    "    counter += 1"
   ]
  },
  {
   "cell_type": "code",
   "execution_count": null,
   "id": "046d3c70",
   "metadata": {
    "papermill": {
     "duration": 0.003144,
     "end_time": "2023-10-15T16:08:53.062318",
     "exception": false,
     "start_time": "2023-10-15T16:08:53.059174",
     "status": "completed"
    },
    "tags": []
   },
   "outputs": [],
   "source": []
  }
 ],
 "metadata": {
  "kernelspec": {
   "display_name": "Python 3",
   "language": "python",
   "name": "python3"
  },
  "language_info": {
   "codemirror_mode": {
    "name": "ipython",
    "version": 3
   },
   "file_extension": ".py",
   "mimetype": "text/x-python",
   "name": "python",
   "nbconvert_exporter": "python",
   "pygments_lexer": "ipython3",
   "version": "3.10.4"
  },
  "papermill": {
   "default_parameters": {},
   "duration": 51.832865,
   "end_time": "2023-10-15T16:08:53.787762",
   "environment_variables": {},
   "exception": null,
   "input_path": "__notebook__.ipynb",
   "output_path": "__notebook__.ipynb",
   "parameters": {},
   "start_time": "2023-10-15T16:08:01.954897",
   "version": "2.4.0"
  }
 },
 "nbformat": 4,
 "nbformat_minor": 5
}
