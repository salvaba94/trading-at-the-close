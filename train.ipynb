{
 "cells": [
  {
   "cell_type": "markdown",
   "id": "31d2d631",
   "metadata": {
    "papermill": {
     "duration": 0.005498,
     "end_time": "2023-10-02T11:02:42.336807",
     "exception": false,
     "start_time": "2023-10-02T11:02:42.331309",
     "status": "completed"
    },
    "tags": []
   },
   "source": [
    "# Trading at the Close - Hyperparameter Optimization\n",
    "-----------------------\n",
    "-----------------------\n"
   ]
  },
  {
   "cell_type": "markdown",
   "id": "81622a9b",
   "metadata": {},
   "source": [
    "This notebook is intended to be run after the preprocessing notebook. Provided that LGBM does a good job in fitting this dataset, we'll use the LGBMRegressor and Optuna to find good hyperparameters."
   ]
  },
  {
   "cell_type": "markdown",
   "id": "dff3c249",
   "metadata": {},
   "source": [
    "## Installs\n",
    "-------------"
   ]
  },
  {
   "cell_type": "code",
   "execution_count": 1,
   "id": "b2ea70dd",
   "metadata": {
    "_kg_hide-input": true,
    "_kg_hide-output": true,
    "execution": {
     "iopub.execute_input": "2023-10-02T11:02:42.349100Z",
     "iopub.status.busy": "2023-10-02T11:02:42.348671Z",
     "iopub.status.idle": "2023-10-02T11:02:55.509808Z",
     "shell.execute_reply": "2023-10-02T11:02:55.508203Z"
    },
    "papermill": {
     "duration": 13.170868,
     "end_time": "2023-10-02T11:02:55.512735",
     "exception": false,
     "start_time": "2023-10-02T11:02:42.341867",
     "status": "completed"
    },
    "tags": []
   },
   "outputs": [
    {
     "name": "stdout",
     "output_type": "stream",
     "text": [
      "Looking in indexes: https://pypi.org/simple, https://pypi.ngc.nvidia.com\n",
      "Requirement already satisfied: pandas>=2.1.1 in c:\\users\\salva\\onedrive\\documentos\\python projects\\trading-at-the-close\\.venv\\lib\\site-packages (from -r requirements.txt (line 1)) (2.1.1)\n",
      "Requirement already satisfied: seaborn>=0.13.0 in c:\\users\\salva\\onedrive\\documentos\\python projects\\trading-at-the-close\\.venv\\lib\\site-packages (from -r requirements.txt (line 2)) (0.13.0)\n",
      "Requirement already satisfied: numpy>=1.26.0 in c:\\users\\salva\\onedrive\\documentos\\python projects\\trading-at-the-close\\.venv\\lib\\site-packages (from -r requirements.txt (line 3)) (1.26.0)\n",
      "Requirement already satisfied: xgboost>=2.0.0 in c:\\users\\salva\\onedrive\\documentos\\python projects\\trading-at-the-close\\.venv\\lib\\site-packages (from -r requirements.txt (line 4)) (2.0.0)\n",
      "Requirement already satisfied: lightgbm>=4.1.0 in c:\\users\\salva\\onedrive\\documentos\\python projects\\trading-at-the-close\\.venv\\lib\\site-packages (from -r requirements.txt (line 5)) (4.1.0)\n",
      "Requirement already satisfied: catboost>=1.2.2 in c:\\users\\salva\\onedrive\\documentos\\python projects\\trading-at-the-close\\.venv\\lib\\site-packages (from -r requirements.txt (line 6)) (1.2.2)\n",
      "Requirement already satisfied: scikit-learn>=1.3.1 in c:\\users\\salva\\onedrive\\documentos\\python projects\\trading-at-the-close\\.venv\\lib\\site-packages (from -r requirements.txt (line 7)) (1.3.1)\n",
      "Requirement already satisfied: fastparquet>=2023.8.0 in c:\\users\\salva\\onedrive\\documentos\\python projects\\trading-at-the-close\\.venv\\lib\\site-packages (from -r requirements.txt (line 8)) (2023.8.0)\n",
      "Requirement already satisfied: ray[tune]>=2.7.0 in c:\\users\\salva\\onedrive\\documentos\\python projects\\trading-at-the-close\\.venv\\lib\\site-packages (from -r requirements.txt (line 9)) (2.7.0)\n",
      "Requirement already satisfied: optuna>=3.3.0 in c:\\users\\salva\\onedrive\\documentos\\python projects\\trading-at-the-close\\.venv\\lib\\site-packages (from -r requirements.txt (line 10)) (3.3.0)\n",
      "Requirement already satisfied: optuna-dashboard>=0.12.0 in c:\\users\\salva\\onedrive\\documentos\\python projects\\trading-at-the-close\\.venv\\lib\\site-packages (from -r requirements.txt (line 11)) (0.12.0)\n",
      "Requirement already satisfied: loguru>=0.7.2 in c:\\users\\salva\\onedrive\\documentos\\python projects\\trading-at-the-close\\.venv\\lib\\site-packages (from -r requirements.txt (line 12)) (0.7.2)\n",
      "Requirement already satisfied: nbformat>=5.9.2 in c:\\users\\salva\\onedrive\\documentos\\python projects\\trading-at-the-close\\.venv\\lib\\site-packages (from -r requirements.txt (line 13)) (5.9.2)\n",
      "Requirement already satisfied: python-dateutil>=2.8.2 in c:\\users\\salva\\onedrive\\documentos\\python projects\\trading-at-the-close\\.venv\\lib\\site-packages (from pandas>=2.1.1->-r requirements.txt (line 1)) (2.8.2)\n",
      "Requirement already satisfied: pytz>=2020.1 in c:\\users\\salva\\onedrive\\documentos\\python projects\\trading-at-the-close\\.venv\\lib\\site-packages (from pandas>=2.1.1->-r requirements.txt (line 1)) (2023.3.post1)\n",
      "Requirement already satisfied: tzdata>=2022.1 in c:\\users\\salva\\onedrive\\documentos\\python projects\\trading-at-the-close\\.venv\\lib\\site-packages (from pandas>=2.1.1->-r requirements.txt (line 1)) (2023.3)\n",
      "Requirement already satisfied: matplotlib!=3.6.1,>=3.3 in c:\\users\\salva\\onedrive\\documentos\\python projects\\trading-at-the-close\\.venv\\lib\\site-packages (from seaborn>=0.13.0->-r requirements.txt (line 2)) (3.8.0)\n",
      "Requirement already satisfied: scipy in c:\\users\\salva\\onedrive\\documentos\\python projects\\trading-at-the-close\\.venv\\lib\\site-packages (from xgboost>=2.0.0->-r requirements.txt (line 4)) (1.11.3)\n",
      "Requirement already satisfied: graphviz in c:\\users\\salva\\onedrive\\documentos\\python projects\\trading-at-the-close\\.venv\\lib\\site-packages (from catboost>=1.2.2->-r requirements.txt (line 6)) (0.20.1)\n",
      "Requirement already satisfied: plotly in c:\\users\\salva\\onedrive\\documentos\\python projects\\trading-at-the-close\\.venv\\lib\\site-packages (from catboost>=1.2.2->-r requirements.txt (line 6)) (5.17.0)\n",
      "Requirement already satisfied: six in c:\\users\\salva\\onedrive\\documentos\\python projects\\trading-at-the-close\\.venv\\lib\\site-packages (from catboost>=1.2.2->-r requirements.txt (line 6)) (1.16.0)\n",
      "Requirement already satisfied: joblib>=1.1.1 in c:\\users\\salva\\onedrive\\documentos\\python projects\\trading-at-the-close\\.venv\\lib\\site-packages (from scikit-learn>=1.3.1->-r requirements.txt (line 7)) (1.3.2)\n",
      "Requirement already satisfied: threadpoolctl>=2.0.0 in c:\\users\\salva\\onedrive\\documentos\\python projects\\trading-at-the-close\\.venv\\lib\\site-packages (from scikit-learn>=1.3.1->-r requirements.txt (line 7)) (3.2.0)\n",
      "Requirement already satisfied: cramjam>=2.3 in c:\\users\\salva\\onedrive\\documentos\\python projects\\trading-at-the-close\\.venv\\lib\\site-packages (from fastparquet>=2023.8.0->-r requirements.txt (line 8)) (2.7.0)\n",
      "Requirement already satisfied: fsspec in c:\\users\\salva\\onedrive\\documentos\\python projects\\trading-at-the-close\\.venv\\lib\\site-packages (from fastparquet>=2023.8.0->-r requirements.txt (line 8)) (2023.9.2)\n",
      "Requirement already satisfied: packaging in c:\\users\\salva\\onedrive\\documentos\\python projects\\trading-at-the-close\\.venv\\lib\\site-packages (from fastparquet>=2023.8.0->-r requirements.txt (line 8)) (23.1)\n",
      "Requirement already satisfied: click>=7.0 in c:\\users\\salva\\onedrive\\documentos\\python projects\\trading-at-the-close\\.venv\\lib\\site-packages (from ray[tune]>=2.7.0->-r requirements.txt (line 9)) (8.1.7)\n",
      "Requirement already satisfied: filelock in c:\\users\\salva\\onedrive\\documentos\\python projects\\trading-at-the-close\\.venv\\lib\\site-packages (from ray[tune]>=2.7.0->-r requirements.txt (line 9)) (3.12.4)\n",
      "Requirement already satisfied: jsonschema in c:\\users\\salva\\onedrive\\documentos\\python projects\\trading-at-the-close\\.venv\\lib\\site-packages (from ray[tune]>=2.7.0->-r requirements.txt (line 9)) (4.19.1)\n",
      "Requirement already satisfied: msgpack<2.0.0,>=1.0.0 in c:\\users\\salva\\onedrive\\documentos\\python projects\\trading-at-the-close\\.venv\\lib\\site-packages (from ray[tune]>=2.7.0->-r requirements.txt (line 9)) (1.0.7)\n",
      "Requirement already satisfied: protobuf!=3.19.5,>=3.15.3 in c:\\users\\salva\\onedrive\\documentos\\python projects\\trading-at-the-close\\.venv\\lib\\site-packages (from ray[tune]>=2.7.0->-r requirements.txt (line 9)) (4.24.3)\n",
      "Requirement already satisfied: pyyaml in c:\\users\\salva\\onedrive\\documentos\\python projects\\trading-at-the-close\\.venv\\lib\\site-packages (from ray[tune]>=2.7.0->-r requirements.txt (line 9)) (6.0.1)\n",
      "Requirement already satisfied: aiosignal in c:\\users\\salva\\onedrive\\documentos\\python projects\\trading-at-the-close\\.venv\\lib\\site-packages (from ray[tune]>=2.7.0->-r requirements.txt (line 9)) (1.3.1)\n",
      "Requirement already satisfied: frozenlist in c:\\users\\salva\\onedrive\\documentos\\python projects\\trading-at-the-close\\.venv\\lib\\site-packages (from ray[tune]>=2.7.0->-r requirements.txt (line 9)) (1.4.0)\n",
      "Requirement already satisfied: requests in c:\\users\\salva\\onedrive\\documentos\\python projects\\trading-at-the-close\\.venv\\lib\\site-packages (from ray[tune]>=2.7.0->-r requirements.txt (line 9)) (2.31.0)\n",
      "Requirement already satisfied: tensorboardX>=1.9 in c:\\users\\salva\\onedrive\\documentos\\python projects\\trading-at-the-close\\.venv\\lib\\site-packages (from ray[tune]>=2.7.0->-r requirements.txt (line 9)) (2.6.2.2)\n",
      "Requirement already satisfied: pyarrow<7.0.0,>=6.0.1 in c:\\users\\salva\\onedrive\\documentos\\python projects\\trading-at-the-close\\.venv\\lib\\site-packages (from ray[tune]>=2.7.0->-r requirements.txt (line 9)) (6.0.1)\n",
      "Requirement already satisfied: alembic>=1.5.0 in c:\\users\\salva\\onedrive\\documentos\\python projects\\trading-at-the-close\\.venv\\lib\\site-packages (from optuna>=3.3.0->-r requirements.txt (line 10)) (1.12.0)\n",
      "Requirement already satisfied: cmaes>=0.10.0 in c:\\users\\salva\\onedrive\\documentos\\python projects\\trading-at-the-close\\.venv\\lib\\site-packages (from optuna>=3.3.0->-r requirements.txt (line 10)) (0.10.0)\n",
      "Requirement already satisfied: colorlog in c:\\users\\salva\\onedrive\\documentos\\python projects\\trading-at-the-close\\.venv\\lib\\site-packages (from optuna>=3.3.0->-r requirements.txt (line 10)) (6.7.0)\n",
      "Requirement already satisfied: sqlalchemy>=1.3.0 in c:\\users\\salva\\onedrive\\documentos\\python projects\\trading-at-the-close\\.venv\\lib\\site-packages (from optuna>=3.3.0->-r requirements.txt (line 10)) (2.0.21)\n",
      "Requirement already satisfied: tqdm in c:\\users\\salva\\onedrive\\documentos\\python projects\\trading-at-the-close\\.venv\\lib\\site-packages (from optuna>=3.3.0->-r requirements.txt (line 10)) (4.66.1)\n",
      "Requirement already satisfied: bottle in c:\\users\\salva\\onedrive\\documentos\\python projects\\trading-at-the-close\\.venv\\lib\\site-packages (from optuna-dashboard>=0.12.0->-r requirements.txt (line 11)) (0.12.25)\n",
      "Requirement already satisfied: colorama>=0.3.4 in c:\\users\\salva\\onedrive\\documentos\\python projects\\trading-at-the-close\\.venv\\lib\\site-packages (from loguru>=0.7.2->-r requirements.txt (line 12)) (0.4.6)\n",
      "Requirement already satisfied: win32-setctime>=1.0.0 in c:\\users\\salva\\onedrive\\documentos\\python projects\\trading-at-the-close\\.venv\\lib\\site-packages (from loguru>=0.7.2->-r requirements.txt (line 12)) (1.1.0)\n",
      "Requirement already satisfied: fastjsonschema in c:\\users\\salva\\onedrive\\documentos\\python projects\\trading-at-the-close\\.venv\\lib\\site-packages (from nbformat>=5.9.2->-r requirements.txt (line 13)) (2.18.1)\n",
      "Requirement already satisfied: jupyter-core in c:\\users\\salva\\onedrive\\documentos\\python projects\\trading-at-the-close\\.venv\\lib\\site-packages (from nbformat>=5.9.2->-r requirements.txt (line 13)) (5.3.2)\n",
      "Requirement already satisfied: traitlets>=5.1 in c:\\users\\salva\\onedrive\\documentos\\python projects\\trading-at-the-close\\.venv\\lib\\site-packages (from nbformat>=5.9.2->-r requirements.txt (line 13)) (5.10.1)\n",
      "Requirement already satisfied: Mako in c:\\users\\salva\\onedrive\\documentos\\python projects\\trading-at-the-close\\.venv\\lib\\site-packages (from alembic>=1.5.0->optuna>=3.3.0->-r requirements.txt (line 10)) (1.2.4)\n",
      "Requirement already satisfied: typing-extensions>=4 in c:\\users\\salva\\onedrive\\documentos\\python projects\\trading-at-the-close\\.venv\\lib\\site-packages (from alembic>=1.5.0->optuna>=3.3.0->-r requirements.txt (line 10)) (4.8.0)\n",
      "Requirement already satisfied: attrs>=22.2.0 in c:\\users\\salva\\onedrive\\documentos\\python projects\\trading-at-the-close\\.venv\\lib\\site-packages (from jsonschema->ray[tune]>=2.7.0->-r requirements.txt (line 9)) (23.1.0)\n",
      "Requirement already satisfied: jsonschema-specifications>=2023.03.6 in c:\\users\\salva\\onedrive\\documentos\\python projects\\trading-at-the-close\\.venv\\lib\\site-packages (from jsonschema->ray[tune]>=2.7.0->-r requirements.txt (line 9)) (2023.7.1)\n",
      "Requirement already satisfied: referencing>=0.28.4 in c:\\users\\salva\\onedrive\\documentos\\python projects\\trading-at-the-close\\.venv\\lib\\site-packages (from jsonschema->ray[tune]>=2.7.0->-r requirements.txt (line 9)) (0.30.2)\n",
      "Requirement already satisfied: rpds-py>=0.7.1 in c:\\users\\salva\\onedrive\\documentos\\python projects\\trading-at-the-close\\.venv\\lib\\site-packages (from jsonschema->ray[tune]>=2.7.0->-r requirements.txt (line 9)) (0.10.3)\n",
      "Requirement already satisfied: contourpy>=1.0.1 in c:\\users\\salva\\onedrive\\documentos\\python projects\\trading-at-the-close\\.venv\\lib\\site-packages (from matplotlib!=3.6.1,>=3.3->seaborn>=0.13.0->-r requirements.txt (line 2)) (1.1.1)\n",
      "Requirement already satisfied: cycler>=0.10 in c:\\users\\salva\\onedrive\\documentos\\python projects\\trading-at-the-close\\.venv\\lib\\site-packages (from matplotlib!=3.6.1,>=3.3->seaborn>=0.13.0->-r requirements.txt (line 2)) (0.12.0)\n",
      "Requirement already satisfied: fonttools>=4.22.0 in c:\\users\\salva\\onedrive\\documentos\\python projects\\trading-at-the-close\\.venv\\lib\\site-packages (from matplotlib!=3.6.1,>=3.3->seaborn>=0.13.0->-r requirements.txt (line 2)) (4.43.0)\n",
      "Requirement already satisfied: kiwisolver>=1.0.1 in c:\\users\\salva\\onedrive\\documentos\\python projects\\trading-at-the-close\\.venv\\lib\\site-packages (from matplotlib!=3.6.1,>=3.3->seaborn>=0.13.0->-r requirements.txt (line 2)) (1.4.5)\n",
      "Requirement already satisfied: pillow>=6.2.0 in c:\\users\\salva\\onedrive\\documentos\\python projects\\trading-at-the-close\\.venv\\lib\\site-packages (from matplotlib!=3.6.1,>=3.3->seaborn>=0.13.0->-r requirements.txt (line 2)) (10.0.1)\n",
      "Requirement already satisfied: pyparsing>=2.3.1 in c:\\users\\salva\\onedrive\\documentos\\python projects\\trading-at-the-close\\.venv\\lib\\site-packages (from matplotlib!=3.6.1,>=3.3->seaborn>=0.13.0->-r requirements.txt (line 2)) (3.1.1)\n",
      "Requirement already satisfied: greenlet!=0.4.17 in c:\\users\\salva\\onedrive\\documentos\\python projects\\trading-at-the-close\\.venv\\lib\\site-packages (from sqlalchemy>=1.3.0->optuna>=3.3.0->-r requirements.txt (line 10)) (3.0.0)\n",
      "Requirement already satisfied: platformdirs>=2.5 in c:\\users\\salva\\onedrive\\documentos\\python projects\\trading-at-the-close\\.venv\\lib\\site-packages (from jupyter-core->nbformat>=5.9.2->-r requirements.txt (line 13)) (3.10.0)\n",
      "Requirement already satisfied: pywin32>=300 in c:\\users\\salva\\onedrive\\documentos\\python projects\\trading-at-the-close\\.venv\\lib\\site-packages (from jupyter-core->nbformat>=5.9.2->-r requirements.txt (line 13)) (306)\n",
      "Requirement already satisfied: tenacity>=6.2.0 in c:\\users\\salva\\onedrive\\documentos\\python projects\\trading-at-the-close\\.venv\\lib\\site-packages (from plotly->catboost>=1.2.2->-r requirements.txt (line 6)) (8.2.3)\n",
      "Requirement already satisfied: charset-normalizer<4,>=2 in c:\\users\\salva\\onedrive\\documentos\\python projects\\trading-at-the-close\\.venv\\lib\\site-packages (from requests->ray[tune]>=2.7.0->-r requirements.txt (line 9)) (3.2.0)\n",
      "Requirement already satisfied: idna<4,>=2.5 in c:\\users\\salva\\onedrive\\documentos\\python projects\\trading-at-the-close\\.venv\\lib\\site-packages (from requests->ray[tune]>=2.7.0->-r requirements.txt (line 9)) (3.4)\n",
      "Requirement already satisfied: urllib3<3,>=1.21.1 in c:\\users\\salva\\onedrive\\documentos\\python projects\\trading-at-the-close\\.venv\\lib\\site-packages (from requests->ray[tune]>=2.7.0->-r requirements.txt (line 9)) (2.0.5)\n",
      "Requirement already satisfied: certifi>=2017.4.17 in c:\\users\\salva\\onedrive\\documentos\\python projects\\trading-at-the-close\\.venv\\lib\\site-packages (from requests->ray[tune]>=2.7.0->-r requirements.txt (line 9)) (2023.7.22)\n",
      "Requirement already satisfied: MarkupSafe>=0.9.2 in c:\\users\\salva\\onedrive\\documentos\\python projects\\trading-at-the-close\\.venv\\lib\\site-packages (from Mako->alembic>=1.5.0->optuna>=3.3.0->-r requirements.txt (line 10)) (2.1.3)\n",
      "Note: you may need to restart the kernel to use updated packages.\n"
     ]
    },
    {
     "name": "stderr",
     "output_type": "stream",
     "text": [
      "\n",
      "[notice] A new release of pip is available: 23.2.1 -> 23.3.1\n",
      "[notice] To update, run: python.exe -m pip install --upgrade pip\n"
     ]
    }
   ],
   "source": [
    "%pip install -r requirements.txt"
   ]
  },
  {
   "cell_type": "code",
   "execution_count": 2,
   "id": "5a9c81ff",
   "metadata": {
    "_kg_hide-input": true,
    "execution": {
     "iopub.execute_input": "2023-10-02T11:02:55.526290Z",
     "iopub.status.busy": "2023-10-02T11:02:55.525205Z",
     "iopub.status.idle": "2023-10-02T11:03:02.125249Z",
     "shell.execute_reply": "2023-10-02T11:03:02.123885Z"
    },
    "papermill": {
     "duration": 6.609425,
     "end_time": "2023-10-02T11:03:02.127754",
     "exception": false,
     "start_time": "2023-10-02T11:02:55.518329",
     "status": "completed"
    },
    "tags": []
   },
   "outputs": [
    {
     "name": "stderr",
     "output_type": "stream",
     "text": [
      "c:\\Users\\salva\\OneDrive\\Documentos\\Python Projects\\trading-at-the-close\\.venv\\lib\\site-packages\\tqdm\\auto.py:21: TqdmWarning: IProgress not found. Please update jupyter and ipywidgets. See https://ipywidgets.readthedocs.io/en/stable/user_install.html\n",
      "  from .autonotebook import tqdm as notebook_tqdm\n"
     ]
    }
   ],
   "source": [
    "import sys\n",
    "import numpy as np\n",
    "from pathlib import Path\n",
    "from loguru import logger\n",
    "from pprint import pformat\n",
    "import pandas as pd\n",
    "import json\n",
    "from sklearn.model_selection import train_test_split, TimeSeriesSplit, KFold\n",
    "from sklearn.metrics import mean_absolute_error\n",
    "from lightgbm import LGBMRegressor\n",
    "import lightgbm as lgb\n",
    "import matplotlib.pyplot as plt\n",
    "import seaborn as sns\n",
    "from timeit import default_timer as timer\n",
    "from IPython.display import clear_output\n",
    "import optuna\n",
    "from optuna.samplers import TPESampler, CmaEsSampler\n",
    "from optuna.pruners import MedianPruner, HyperbandPruner\n",
    "from optuna.visualization import (\n",
    "    plot_optimization_history,\n",
    "    plot_param_importances,\n",
    "    plot_parallel_coordinate,\n",
    ")\n",
    "\n",
    "from utils.validation import TrainTestSplit\n",
    "\n",
    "optuna.logging.set_verbosity(optuna.logging.WARNING)\n",
    "sns.set_style(\"ticks\")"
   ]
  },
  {
   "cell_type": "code",
   "execution_count": 3,
   "id": "f2f12d73",
   "metadata": {},
   "outputs": [],
   "source": [
    "class CFG:\n",
    "    JOBS_PATH = Path(\".\", \"job_artifacts\")\n",
    "    JOB_NAME = \"optiver-tuning_lgbmregressor\"\n",
    "    TRAINING_PATH = Path(\".\", \"train_files\", \"train.csv\")\n",
    "    FEATURES_PATH = JOBS_PATH.joinpath(\"optiver-feature_selection-0106\")\n",
    "    FEATURES_NAME = \"feature_names.json\"\n",
    "    BEST_PARAMS = \"best_params.json\"\n",
    "    RANDOM_STATE = 42\n",
    "    USE_GPU = False\n",
    "    MODEL = LGBMRegressor\n",
    "    SAMPLER = CmaEsSampler\n",
    "    PRUNER = HyperbandPruner\n",
    "    USE_BEST = True\n",
    "    JOB_PATH_BEST = JOBS_PATH.joinpath(\"optiver-tuning_lgbmregressor-0009\")\n",
    "    HYPERTUNE = True\n",
    "    PRELOAD_STUDY = False\n",
    "    TEST_SIZE = 45\n",
    "    N_FOLDS = 1\n",
    "    N_TRIALS = 50\n",
    "    N_JOBS = 4"
   ]
  },
  {
   "cell_type": "code",
   "execution_count": 4,
   "id": "d74a8e1e",
   "metadata": {},
   "outputs": [],
   "source": [
    "def lgbm_param_space(trial):\n",
    "    \"\"\"Returns the parameter space of a LGBMRegressor.\"\"\"\n",
    "    # num_leaves should be smaller than 2^{max_depth}\n",
    "    max_depth = trial.suggest_int(\"max_depth\", 5, 12)\n",
    "    num_leaves = trial.suggest_int(\"num_leaves\", 8, int((2**max_depth) * 0.75))\n",
    "    #num_leaves = trial.suggest_int(\"num_leaves\", 8, 64)\n",
    "\n",
    "    param_space = {\n",
    "        \"device\": trial.suggest_categorical(\"device\", [\"gpu\" if CFG.USE_GPU else \"cpu\"]),\n",
    "        \"verbose\": trial.suggest_categorical(\"verbose\", [-1]),\n",
    "        \"n_jobs\": trial.suggest_categorical(\"n_jobs\", [1]),\n",
    "        \"objective\": trial.suggest_categorical(\"objective\", [\"mae\"]),\n",
    "        \"n_estimators\": trial.suggest_categorical(\"n_estimators\", [750]), # automatically via early stopping\n",
    "        \"boosting_type\": trial.suggest_categorical(\"boosting_type\", [\"gbdt\"]),\n",
    "        \"subsample\": trial.suggest_float(\"subsample\", 0.5, 1.0),\n",
    "        \"min_child_samples\": trial.suggest_int(\"min_child_samples\", 1, 100),\n",
    "        \"colsample_bytree\": trial.suggest_float(\"colsample_bytree\", 0.4, 1.0),\n",
    "        \"reg_alpha\": trial.suggest_float(\"reg_alpha\", 1e-3, 10.0, log=True),\n",
    "        \"reg_lambda\": trial.suggest_float(\"reg_lambda\", 1e-3, 10.0, log=True),\n",
    "        \"learning_rate\": trial.suggest_float(\"learning_rate\", 0.01, 1.0, log=True),\n",
    "        \"num_leaves\": num_leaves,\n",
    "        \"max_depth\": max_depth\n",
    "    }\n",
    "\n",
    "    return param_space\n",
    "\n",
    "\n",
    "\n",
    "def lgbm_callbacks(trial):\n",
    "    \"\"\"Returns the callbacks for a LGBMRegressor.\"\"\"\n",
    "    optuna_prune = optuna.integration.LightGBMPruningCallback(trial, \"l1\", report_interval=100)\n",
    "    inner_early_stop = lgb.early_stopping(25, verbose=False)\n",
    "\n",
    "    return [inner_early_stop]\n",
    "    #return [optuna_prune, inner_early_stop]\n",
    "\n",
    "\n",
    "MODEL_CFG = {\n",
    "    LGBMRegressor.__name__ : {\n",
    "        \"param_space\": lgbm_param_space,\n",
    "        \"callbacks\": lgbm_callbacks\n",
    "    }\n",
    "}  "
   ]
  },
  {
   "cell_type": "code",
   "execution_count": 5,
   "id": "4b8288a3",
   "metadata": {},
   "outputs": [],
   "source": [
    "CFG.JOBS_PATH.mkdir(exist_ok=True, parents=True)\n",
    "\n",
    "for i in range(1, 10000):\n",
    "    CFG.JOB_PATH = CFG.JOBS_PATH.joinpath(CFG.JOB_NAME + \"-\" +  str(i).zfill(4))\n",
    "    try:\n",
    "        CFG.JOB_PATH.mkdir()\n",
    "        break\n",
    "    except:\n",
    "        continue"
   ]
  },
  {
   "cell_type": "markdown",
   "id": "65ac1e3e",
   "metadata": {
    "papermill": {
     "duration": 0.004759,
     "end_time": "2023-10-02T11:03:02.137906",
     "exception": false,
     "start_time": "2023-10-02T11:03:02.133147",
     "status": "completed"
    },
    "tags": []
   },
   "source": [
    "## Data Loading\n",
    "---------------\n",
    "\n",
    "In the next cell, we define code to load the data and to generate features with optional memory reduction. It uses functions that are written to file by running `%%writefile` in `preprocessing.ipynb`."
   ]
  },
  {
   "cell_type": "code",
   "execution_count": 6,
   "id": "9b85b6b1",
   "metadata": {
    "_kg_hide-input": true,
    "execution": {
     "iopub.execute_input": "2023-10-02T11:03:02.173881Z",
     "iopub.status.busy": "2023-10-02T11:03:02.173493Z",
     "iopub.status.idle": "2023-10-02T11:03:28.669708Z",
     "shell.execute_reply": "2023-10-02T11:03:28.667820Z"
    },
    "papermill": {
     "duration": 26.50526,
     "end_time": "2023-10-02T11:03:28.672058",
     "exception": false,
     "start_time": "2023-10-02T11:03:02.166798",
     "status": "completed"
    },
    "tags": []
   },
   "outputs": [
    {
     "name": "stderr",
     "output_type": "stream",
     "text": [
      "\u001b[32m2023-11-05 01:50:27.858\u001b[0m | \u001b[1mINFO    \u001b[0m | \u001b[36mutils.features\u001b[0m:\u001b[36mfeature_engineering\u001b[0m:\u001b[36m195\u001b[0m - \u001b[1mGenerating time features...\u001b[0m\n",
      "\u001b[32m2023-11-05 01:50:27.859\u001b[0m | \u001b[1mINFO    \u001b[0m | \u001b[36mutils.features\u001b[0m:\u001b[36mfeature_engineering\u001b[0m:\u001b[36m201\u001b[0m - \u001b[1mGenerating size features...\u001b[0m\n",
      "\u001b[32m2023-11-05 01:50:28.034\u001b[0m | \u001b[1mINFO    \u001b[0m | \u001b[36mutils.features\u001b[0m:\u001b[36mfeature_engineering\u001b[0m:\u001b[36m207\u001b[0m - \u001b[1mGenerating price features...\u001b[0m\n",
      "\u001b[32m2023-11-05 01:51:11.375\u001b[0m | \u001b[1mINFO    \u001b[0m | \u001b[36mutils.features\u001b[0m:\u001b[36mfeature_engineering\u001b[0m:\u001b[36m213\u001b[0m - \u001b[1mGenerating mixed features...\u001b[0m\n",
      "\u001b[32m2023-11-05 01:51:11.395\u001b[0m | \u001b[1mINFO    \u001b[0m | \u001b[36mutils.features\u001b[0m:\u001b[36mfeature_engineering\u001b[0m:\u001b[36m219\u001b[0m - \u001b[1mGenerating aggregated features...\u001b[0m\n",
      "\u001b[32m2023-11-05 01:54:38.988\u001b[0m | \u001b[1mINFO    \u001b[0m | \u001b[36mutils.features\u001b[0m:\u001b[36mfeature_engineering\u001b[0m:\u001b[36m225\u001b[0m - \u001b[1mGenerating rolling features...\u001b[0m\n",
      "\u001b[32m2023-11-05 01:54:39.529\u001b[0m | \u001b[1mINFO    \u001b[0m | \u001b[36mutils.features\u001b[0m:\u001b[36mfeature_engineering\u001b[0m:\u001b[36m235\u001b[0m - \u001b[1mReducing data memory footprint...\u001b[0m\n",
      "\u001b[32m2023-11-05 01:54:39.599\u001b[0m | \u001b[1mINFO    \u001b[0m | \u001b[36mutils.compression\u001b[0m:\u001b[36mdowncast\u001b[0m:\u001b[36m16\u001b[0m - \u001b[1mMemory usage of dataframe is 3596.64 MB\u001b[0m\n",
      "\u001b[32m2023-11-05 01:55:03.585\u001b[0m | \u001b[1mINFO    \u001b[0m | \u001b[36mutils.compression\u001b[0m:\u001b[36mdowncast\u001b[0m:\u001b[36m25\u001b[0m - \u001b[1mMemory usage after optimization is: 2342.81 MB\u001b[0m\n",
      "\u001b[32m2023-11-05 01:55:03.610\u001b[0m | \u001b[1mINFO    \u001b[0m | \u001b[36mutils.compression\u001b[0m:\u001b[36mdowncast\u001b[0m:\u001b[36m27\u001b[0m - \u001b[1mDecreased by 34.86%\u001b[0m\n",
      "\u001b[32m2023-11-05 01:55:04.173\u001b[0m | \u001b[1mINFO    \u001b[0m | \u001b[36mutils.features\u001b[0m:\u001b[36mclean_dataset\u001b[0m:\u001b[36m491\u001b[0m - \u001b[1mCleaning dataset...\u001b[0m\n",
      "\u001b[32m2023-11-05 01:55:06.379\u001b[0m | \u001b[1mINFO    \u001b[0m | \u001b[36mutils.features\u001b[0m:\u001b[36mselect_features\u001b[0m:\u001b[36m477\u001b[0m - \u001b[1mDropping unnecesary features...\u001b[0m\n"
     ]
    }
   ],
   "source": [
    "from utils.features import feature_engineering, clean_dataset, select_features\n",
    "from utils.files import read_json\n",
    "\n",
    "df = pd.read_csv(CFG.TRAINING_PATH)\n",
    "features = read_json(CFG.FEATURES_PATH.joinpath(CFG.FEATURES_NAME))\n",
    "selected_features = features[\"selected_features\"]\n",
    "stock_weights = np.array([\n",
    "    0.004, 0.001, 0.002, 0.006, 0.004, 0.004, 0.002, 0.006, 0.006, 0.002, 0.002, 0.008,\n",
    "    0.006, 0.002, 0.008, 0.006, 0.002, 0.006, 0.004, 0.002, 0.004, 0.001, 0.006, 0.004,\n",
    "    0.002, 0.002, 0.004, 0.002, 0.004, 0.004, 0.001, 0.001, 0.002, 0.002, 0.006, 0.004,\n",
    "    0.004, 0.004, 0.006, 0.002, 0.002, 0.04 , 0.002, 0.002, 0.004, 0.04 , 0.002, 0.001,\n",
    "    0.006, 0.004, 0.004, 0.006, 0.001, 0.004, 0.004, 0.002, 0.006, 0.004, 0.006, 0.004,\n",
    "    0.006, 0.004, 0.002, 0.001, 0.002, 0.004, 0.002, 0.008, 0.004, 0.004, 0.002, 0.004,\n",
    "    0.006, 0.002, 0.004, 0.004, 0.002, 0.004, 0.004, 0.004, 0.001, 0.002, 0.002, 0.008,\n",
    "    0.02 , 0.004, 0.006, 0.002, 0.02 , 0.002, 0.002, 0.006, 0.004, 0.002, 0.001, 0.02,\n",
    "    0.006, 0.001, 0.002, 0.004, 0.001, 0.002, 0.006, 0.006, 0.004, 0.006, 0.001, 0.002,\n",
    "    0.004, 0.006, 0.006, 0.001, 0.04 , 0.006, 0.002, 0.004, 0.002, 0.002, 0.006, 0.002,\n",
    "    0.002, 0.004, 0.006, 0.006, 0.002, 0.002, 0.008, 0.006, 0.004, 0.002, 0.006, 0.002,\n",
    "    0.004, 0.006, 0.002, 0.004, 0.001, 0.004, 0.002, 0.004, 0.008, 0.006, 0.008, 0.002,\n",
    "    0.004, 0.002, 0.001, 0.004, 0.004, 0.004, 0.006, 0.008, 0.004, 0.001, 0.001, 0.002,\n",
    "    0.006, 0.004, 0.001, 0.002, 0.006, 0.004, 0.006, 0.008, 0.002, 0.002, 0.004, 0.002,\n",
    "    0.04 , 0.002, 0.002, 0.004, 0.002, 0.002, 0.006, 0.02 , 0.004, 0.002, 0.006, 0.02,\n",
    "    0.001, 0.002, 0.006, 0.004, 0.006, 0.004, 0.004, 0.004, 0.004, 0.002, 0.004, 0.04,\n",
    "    0.002, 0.008, 0.002, 0.004, 0.001, 0.004, 0.006, 0.004,\n",
    "])\n",
    "\n",
    "# Do feature engineering\n",
    "df = feature_engineering(df, weights=stock_weights, reduce_memory=True)\n",
    "\n",
    "# Clean dataset\n",
    "clean_dataset(df)\n",
    "\n",
    "# Extract date ID\n",
    "date_id = df[\"date_id\"]\n",
    "\n",
    "# Select features\n",
    "df = select_features(df, selected_features, reduce_memory=False)\n",
    "\n",
    "\n",
    "Y = df[\"target\"]\n",
    "X = df.drop(columns=[\"target\"], errors=\"ignore\")\n",
    "\n",
    "del df"
   ]
  },
  {
   "cell_type": "markdown",
   "id": "009f1820",
   "metadata": {
    "papermill": {
     "duration": 0.005141,
     "end_time": "2023-10-02T11:03:28.683009",
     "exception": false,
     "start_time": "2023-10-02T11:03:28.677868",
     "status": "completed"
    },
    "tags": []
   },
   "source": [
    "## Hyperparameter Optimization\n",
    "-----------------------------------"
   ]
  },
  {
   "cell_type": "markdown",
   "id": "713576cb",
   "metadata": {
    "papermill": {
     "duration": 0.005066,
     "end_time": "2023-10-02T11:03:28.693358",
     "exception": false,
     "start_time": "2023-10-02T11:03:28.688292",
     "status": "completed"
    },
    "tags": []
   },
   "source": [
    "### Setup the evaluation process\n",
    "\n",
    "We have many options, but we'll stick with cross-validation schemes even though these are more expensive to tune. This is because it yields more robust estimations of mean absolute error.\n"
   ]
  },
  {
   "cell_type": "code",
   "execution_count": 7,
   "id": "2c528e2f",
   "metadata": {},
   "outputs": [],
   "source": [
    "from utils.validation import cross_validate"
   ]
  },
  {
   "cell_type": "markdown",
   "id": "49156428",
   "metadata": {
    "papermill": {
     "duration": 0.005047,
     "end_time": "2023-10-02T11:03:28.771186",
     "exception": false,
     "start_time": "2023-10-02T11:03:28.766139",
     "status": "completed"
    },
    "tags": []
   },
   "source": [
    "### Optimization specifics\n",
    "\n",
    "We define a convenience function `run_optimization`, that starts the optimization process given a objective function.\n",
    "\n",
    "The objective function is returned by the `get_objective_function` method. Inside this method, the parameter space is defined using the optuna `trial` object."
   ]
  },
  {
   "cell_type": "code",
   "execution_count": 8,
   "id": "b32c3119",
   "metadata": {
    "execution": {
     "iopub.execute_input": "2023-10-02T11:03:28.784018Z",
     "iopub.status.busy": "2023-10-02T11:03:28.783557Z",
     "iopub.status.idle": "2023-10-02T11:03:28.791751Z",
     "shell.execute_reply": "2023-10-02T11:03:28.790263Z"
    },
    "papermill": {
     "duration": 0.017202,
     "end_time": "2023-10-02T11:03:28.793731",
     "exception": false,
     "start_time": "2023-10-02T11:03:28.776529",
     "status": "completed"
    },
    "tags": []
   },
   "outputs": [],
   "source": [
    "# Optimization runner\n",
    "def run_optimization(objective, n_trials=100, sampler=TPESampler(), pruner=MedianPruner(), n_jobs=1, best_trial=None):\n",
    "    \"\"\"Run the given objective with Optuna and return the study results.\"\"\"\n",
    "\n",
    "    study_name = \"optuna-study\"\n",
    "    storage = \"sqlite:///\" + str(CFG.JOB_PATH.joinpath(study_name)) + \".sqlite3\"\n",
    "    logger.info(f\"Creating study...\")\n",
    "\n",
    "\n",
    "    if CFG.PRELOAD_STUDY:\n",
    "        study = optuna.load_study(\n",
    "            study_name=study_name, \n",
    "            sampler=sampler,\n",
    "            pruner=pruner,\n",
    "            storage=storage\n",
    "        )\n",
    "\n",
    "    else:\n",
    "        try:\n",
    "            optuna.study.delete_study(\n",
    "                study_name=study_name,\n",
    "                storage=storage\n",
    "            )\n",
    "        except:\n",
    "            logger.warning(f\"Study does not exist...\")\n",
    "\n",
    "        study = optuna.create_study(\n",
    "            study_name=study_name, \n",
    "            direction=\"minimize\", \n",
    "            sampler=sampler,\n",
    "            pruner=pruner,\n",
    "            storage=storage\n",
    "        )\n",
    "\n",
    "    if best_trial is not None:\n",
    "        logger.info(\"Enqueuing previous best trial ...\")\n",
    "        study.enqueue_trial(best_trial)\n",
    "\n",
    "    logger.info(f\"Running hyperparameter search...\")\n",
    "    study.optimize(objective, n_trials=n_trials, n_jobs=n_jobs, show_progress_bar=True)\n",
    "\n",
    "    logger.info(f\"Number of finished trials: {len(study.trials)}\")\n",
    "    logger.success(f\"Best MAE: {study.best_value:.4f}\")\n",
    "\n",
    "    logger.info(\"Parameters: \")\n",
    "    logger.info(\"=\" * 10)\n",
    "    logger.success(pformat(study.best_params, indent=4))\n",
    "\n",
    "    logger.info(f\"Saving best parameters...\")\n",
    "    with open(\"best_params.json\", \"w\") as f:\n",
    "        json.dump(study.best_params, f)\n",
    "    return study"
   ]
  },
  {
   "cell_type": "code",
   "execution_count": 9,
   "id": "9a339cf1",
   "metadata": {
    "execution": {
     "iopub.execute_input": "2023-10-02T11:03:28.807356Z",
     "iopub.status.busy": "2023-10-02T11:03:28.806585Z",
     "iopub.status.idle": "2023-10-02T11:03:28.818648Z",
     "shell.execute_reply": "2023-10-02T11:03:28.816994Z"
    },
    "papermill": {
     "duration": 0.021943,
     "end_time": "2023-10-02T11:03:28.821250",
     "exception": false,
     "start_time": "2023-10-02T11:03:28.799307",
     "status": "completed"
    },
    "tags": []
   },
   "outputs": [],
   "source": [
    "def get_objective_function(model_cls, param_func, x, y, date_id, cv=TimeSeriesSplit(), callbacks_func=None, *args, **kwargs):\n",
    "    \"\"\"Returns the objective function for optuna.\"\"\"\n",
    "        \n",
    "    def objective_function(trial):\n",
    "        \"\"\"Optimizes a model with cross-validation.\"\"\"\n",
    "\n",
    "        param_space = param_func(trial)\n",
    "        callbacks = callbacks_func(trial) if callbacks_func is not None else None  \n",
    "        scores, _ = cross_validate(model_cls, param_space, x, y, date_id=date_id, cv=cv, callbacks=callbacks, *args, **kwargs)\n",
    "        return scores.mean()\n",
    "\n",
    "    return objective_function"
   ]
  },
  {
   "cell_type": "markdown",
   "id": "e9b5f453",
   "metadata": {
    "papermill": {
     "duration": 0.005598,
     "end_time": "2023-10-02T11:03:28.832703",
     "exception": false,
     "start_time": "2023-10-02T11:03:28.827105",
     "status": "completed"
    },
    "tags": []
   },
   "source": [
    "### Start the optimization\n",
    "\n",
    "We can set these variables here:\n",
    "1. `run_optimization`: Whether to run the optimization or use already computed ones.\n",
    "2. `n_trials`: How many trials we want to sample.\n",
    "3. `cv`: the Split object.\n",
    "4. `best_trial`: whether to reuse a previously tuned best trial for this optimization.\n",
    "\n",
    "*Warning*: `evaluation='cross_validate'` takes very long!"
   ]
  },
  {
   "cell_type": "code",
   "execution_count": 10,
   "id": "8bd50b4c",
   "metadata": {
    "_kg_hide-input": true,
    "execution": {
     "iopub.execute_input": "2023-10-02T11:03:28.846579Z",
     "iopub.status.busy": "2023-10-02T11:03:28.846193Z",
     "iopub.status.idle": "2023-10-02T11:03:28.853087Z",
     "shell.execute_reply": "2023-10-02T11:03:28.851631Z"
    },
    "papermill": {
     "duration": 0.01693,
     "end_time": "2023-10-02T11:03:28.855878",
     "exception": false,
     "start_time": "2023-10-02T11:03:28.838948",
     "status": "completed"
    },
    "tags": []
   },
   "outputs": [],
   "source": [
    "from utils.files import read_json\n",
    "\n",
    "if CFG.USE_BEST:\n",
    "    best_params = read_json(CFG.JOB_PATH_BEST.joinpath(CFG.BEST_PARAMS))"
   ]
  },
  {
   "cell_type": "code",
   "execution_count": 11,
   "id": "aaa20787",
   "metadata": {
    "execution": {
     "iopub.execute_input": "2023-10-02T11:03:28.870450Z",
     "iopub.status.busy": "2023-10-02T11:03:28.870104Z",
     "iopub.status.idle": "2023-10-02T11:03:28.878252Z",
     "shell.execute_reply": "2023-10-02T11:03:28.876766Z"
    },
    "papermill": {
     "duration": 0.019469,
     "end_time": "2023-10-02T11:03:28.881471",
     "exception": false,
     "start_time": "2023-10-02T11:03:28.862002",
     "status": "completed"
    },
    "tags": []
   },
   "outputs": [
    {
     "name": "stderr",
     "output_type": "stream",
     "text": [
      "\u001b[32m2023-11-05 01:55:09.872\u001b[0m | \u001b[1mINFO    \u001b[0m | \u001b[36m__main__\u001b[0m:\u001b[36mrun_optimization\u001b[0m:\u001b[36m7\u001b[0m - \u001b[1mCreating study...\u001b[0m\n"
     ]
    },
    {
     "name": "stderr",
     "output_type": "stream",
     "text": [
      "\u001b[32m2023-11-05 01:55:10.892\u001b[0m | \u001b[33m\u001b[1mWARNING \u001b[0m | \u001b[36m__main__\u001b[0m:\u001b[36mrun_optimization\u001b[0m:\u001b[36m25\u001b[0m - \u001b[33m\u001b[1mStudy does not exist...\u001b[0m\n",
      "\u001b[32m2023-11-05 01:55:10.943\u001b[0m | \u001b[1mINFO    \u001b[0m | \u001b[36m__main__\u001b[0m:\u001b[36mrun_optimization\u001b[0m:\u001b[36m36\u001b[0m - \u001b[1mEnqueuing previous best trial ...\u001b[0m\n",
      "\u001b[32m2023-11-05 01:55:10.958\u001b[0m | \u001b[1mINFO    \u001b[0m | \u001b[36m__main__\u001b[0m:\u001b[36mrun_optimization\u001b[0m:\u001b[36m39\u001b[0m - \u001b[1mRunning hyperparameter search...\u001b[0m\n",
      "  0%|          | 0/50 [00:00<?, ?it/s]\u001b[32m2023-11-05 01:55:11.359\u001b[0m | \u001b[1mINFO    \u001b[0m | \u001b[36mutils.validation\u001b[0m:\u001b[36mcross_validate\u001b[0m:\u001b[36m81\u001b[0m - \u001b[1mStarting evaluation...\u001b[0m\n",
      "\u001b[32m2023-11-05 01:55:11.359\u001b[0m | \u001b[1mINFO    \u001b[0m | \u001b[36mutils.validation\u001b[0m:\u001b[36mcross_validate\u001b[0m:\u001b[36m82\u001b[0m - \u001b[1m==============================\u001b[0m\n",
      "\u001b[32m2023-11-05 01:55:12.001\u001b[0m | \u001b[1mINFO    \u001b[0m | \u001b[36mutils.validation\u001b[0m:\u001b[36mcross_validate\u001b[0m:\u001b[36m81\u001b[0m - \u001b[1mStarting evaluation...\u001b[0m\n",
      "\u001b[32m2023-11-05 01:55:12.002\u001b[0m | \u001b[1mINFO    \u001b[0m | \u001b[36mutils.validation\u001b[0m:\u001b[36mcross_validate\u001b[0m:\u001b[36m82\u001b[0m - \u001b[1m==============================\u001b[0m\n",
      "\u001b[32m2023-11-05 01:55:12.002\u001b[0m | \u001b[1mINFO    \u001b[0m | \u001b[36mutils.validation\u001b[0m:\u001b[36mcross_validate\u001b[0m:\u001b[36m81\u001b[0m - \u001b[1mStarting evaluation...\u001b[0m\n",
      "\u001b[32m2023-11-05 01:55:12.017\u001b[0m | \u001b[1mINFO    \u001b[0m | \u001b[36mutils.validation\u001b[0m:\u001b[36mcross_validate\u001b[0m:\u001b[36m82\u001b[0m - \u001b[1m==============================\u001b[0m\n",
      "\u001b[32m2023-11-05 01:55:12.037\u001b[0m | \u001b[1mINFO    \u001b[0m | \u001b[36mutils.validation\u001b[0m:\u001b[36mcross_validate\u001b[0m:\u001b[36m81\u001b[0m - \u001b[1mStarting evaluation...\u001b[0m\n",
      "\u001b[32m2023-11-05 01:55:12.052\u001b[0m | \u001b[1mINFO    \u001b[0m | \u001b[36mutils.validation\u001b[0m:\u001b[36mcross_validate\u001b[0m:\u001b[36m82\u001b[0m - \u001b[1m==============================\u001b[0m\n",
      "\u001b[32m2023-11-05 02:09:05.036\u001b[0m | \u001b[1mINFO    \u001b[0m | \u001b[36mutils.validation\u001b[0m:\u001b[36mcross_validate\u001b[0m:\u001b[36m109\u001b[0m - \u001b[1mFold 1: 5.8485 (took 808.02s)\u001b[0m\n",
      "\u001b[32m2023-11-05 02:09:05.065\u001b[0m | \u001b[1mINFO    \u001b[0m | \u001b[36mutils.validation\u001b[0m:\u001b[36mcross_validate\u001b[0m:\u001b[36m116\u001b[0m - \u001b[1m------------------------------\u001b[0m\n",
      "\u001b[32m2023-11-05 02:09:05.073\u001b[0m | \u001b[32m\u001b[1mSUCCESS \u001b[0m | \u001b[36mutils.validation\u001b[0m:\u001b[36mcross_validate\u001b[0m:\u001b[36m117\u001b[0m - \u001b[32m\u001b[1mAverage MAE = 5.8485 ± 0.00\u001b[0m\n",
      "\u001b[32m2023-11-05 02:09:05.074\u001b[0m | \u001b[1mINFO    \u001b[0m | \u001b[36mutils.validation\u001b[0m:\u001b[36mcross_validate\u001b[0m:\u001b[36m118\u001b[0m - \u001b[1m==============================\u001b[0m\n",
      "Best trial: 3. Best value: 5.8485:   2%|▏         | 1/50 [13:54<11:21:24, 834.37s/it]\u001b[32m2023-11-05 02:09:05.755\u001b[0m | \u001b[1mINFO    \u001b[0m | \u001b[36mutils.validation\u001b[0m:\u001b[36mcross_validate\u001b[0m:\u001b[36m81\u001b[0m - \u001b[1mStarting evaluation...\u001b[0m\n",
      "\u001b[32m2023-11-05 02:09:05.756\u001b[0m | \u001b[1mINFO    \u001b[0m | \u001b[36mutils.validation\u001b[0m:\u001b[36mcross_validate\u001b[0m:\u001b[36m82\u001b[0m - \u001b[1m==============================\u001b[0m\n",
      "\u001b[32m2023-11-05 02:11:36.565\u001b[0m | \u001b[1mINFO    \u001b[0m | \u001b[36mutils.validation\u001b[0m:\u001b[36mcross_validate\u001b[0m:\u001b[36m109\u001b[0m - \u001b[1mFold 1: 5.8725 (took 953.47s)\u001b[0m\n",
      "\u001b[32m2023-11-05 02:11:36.586\u001b[0m | \u001b[1mINFO    \u001b[0m | \u001b[36mutils.validation\u001b[0m:\u001b[36mcross_validate\u001b[0m:\u001b[36m116\u001b[0m - \u001b[1m------------------------------\u001b[0m\n",
      "\u001b[32m2023-11-05 02:11:36.586\u001b[0m | \u001b[32m\u001b[1mSUCCESS \u001b[0m | \u001b[36mutils.validation\u001b[0m:\u001b[36mcross_validate\u001b[0m:\u001b[36m117\u001b[0m - \u001b[32m\u001b[1mAverage MAE = 5.8725 ± 0.00\u001b[0m\n",
      "\u001b[32m2023-11-05 02:11:36.586\u001b[0m | \u001b[1mINFO    \u001b[0m | \u001b[36mutils.validation\u001b[0m:\u001b[36mcross_validate\u001b[0m:\u001b[36m118\u001b[0m - \u001b[1m==============================\u001b[0m\n",
      "Best trial: 3. Best value: 5.8485:   4%|▍         | 2/50 [16:25<5:46:05, 432.61s/it] \u001b[32m2023-11-05 02:11:37.080\u001b[0m | \u001b[1mINFO    \u001b[0m | \u001b[36mutils.validation\u001b[0m:\u001b[36mcross_validate\u001b[0m:\u001b[36m81\u001b[0m - \u001b[1mStarting evaluation...\u001b[0m\n",
      "\u001b[32m2023-11-05 02:11:37.082\u001b[0m | \u001b[1mINFO    \u001b[0m | \u001b[36mutils.validation\u001b[0m:\u001b[36mcross_validate\u001b[0m:\u001b[36m82\u001b[0m - \u001b[1m==============================\u001b[0m\n"
     ]
    },
    {
     "name": "stdout",
     "output_type": "stream",
     "text": [
      "[W 2023-11-05 02:11:36,968] The parameter 'num_leaves' in trial#5 is sampled independently by using `RandomSampler` instead of `CmaEsSampler` (optimization performance may be degraded). `CmaEsSampler` does not support dynamic search space or `CategoricalDistribution`. You can suppress this warning by setting `warn_independent_sampling` to `False` in the constructor of `CmaEsSampler`, if this independent sampling is intended behavior.\n"
     ]
    },
    {
     "name": "stderr",
     "output_type": "stream",
     "text": [
      "\u001b[32m2023-11-05 02:15:26.925\u001b[0m | \u001b[1mINFO    \u001b[0m | \u001b[36mutils.validation\u001b[0m:\u001b[36mcross_validate\u001b[0m:\u001b[36m109\u001b[0m - \u001b[1mFold 1: 5.8532 (took 216.08s)\u001b[0m\n",
      "\u001b[32m2023-11-05 02:15:26.947\u001b[0m | \u001b[1mINFO    \u001b[0m | \u001b[36mutils.validation\u001b[0m:\u001b[36mcross_validate\u001b[0m:\u001b[36m116\u001b[0m - \u001b[1m------------------------------\u001b[0m\n",
      "\u001b[32m2023-11-05 02:15:26.947\u001b[0m | \u001b[32m\u001b[1mSUCCESS \u001b[0m | \u001b[36mutils.validation\u001b[0m:\u001b[36mcross_validate\u001b[0m:\u001b[36m117\u001b[0m - \u001b[32m\u001b[1mAverage MAE = 5.8532 ± 0.00\u001b[0m\n",
      "\u001b[32m2023-11-05 02:15:26.947\u001b[0m | \u001b[1mINFO    \u001b[0m | \u001b[36mutils.validation\u001b[0m:\u001b[36mcross_validate\u001b[0m:\u001b[36m118\u001b[0m - \u001b[1m==============================\u001b[0m\n",
      "Best trial: 3. Best value: 5.8485:   6%|▌         | 3/50 [20:16<4:26:33, 340.28s/it]\u001b[32m2023-11-05 02:15:27.482\u001b[0m | \u001b[1mINFO    \u001b[0m | \u001b[36mutils.validation\u001b[0m:\u001b[36mcross_validate\u001b[0m:\u001b[36m81\u001b[0m - \u001b[1mStarting evaluation...\u001b[0m\n",
      "\u001b[32m2023-11-05 02:15:27.482\u001b[0m | \u001b[1mINFO    \u001b[0m | \u001b[36mutils.validation\u001b[0m:\u001b[36mcross_validate\u001b[0m:\u001b[36m82\u001b[0m - \u001b[1m==============================\u001b[0m\n"
     ]
    },
    {
     "name": "stdout",
     "output_type": "stream",
     "text": [
      "[W 2023-11-05 02:15:27,376] The parameter 'num_leaves' in trial#6 is sampled independently by using `RandomSampler` instead of `CmaEsSampler` (optimization performance may be degraded). `CmaEsSampler` does not support dynamic search space or `CategoricalDistribution`. You can suppress this warning by setting `warn_independent_sampling` to `False` in the constructor of `CmaEsSampler`, if this independent sampling is intended behavior.\n"
     ]
    },
    {
     "name": "stderr",
     "output_type": "stream",
     "text": [
      "\u001b[32m2023-11-05 02:19:59.625\u001b[0m | \u001b[1mINFO    \u001b[0m | \u001b[36mutils.validation\u001b[0m:\u001b[36mcross_validate\u001b[0m:\u001b[36m109\u001b[0m - \u001b[1mFold 1: 5.8456 (took 1420.23s)\u001b[0m\n",
      "\u001b[32m2023-11-05 02:19:59.647\u001b[0m | \u001b[1mINFO    \u001b[0m | \u001b[36mutils.validation\u001b[0m:\u001b[36mcross_validate\u001b[0m:\u001b[36m116\u001b[0m - \u001b[1m------------------------------\u001b[0m\n",
      "\u001b[32m2023-11-05 02:19:59.647\u001b[0m | \u001b[32m\u001b[1mSUCCESS \u001b[0m | \u001b[36mutils.validation\u001b[0m:\u001b[36mcross_validate\u001b[0m:\u001b[36m117\u001b[0m - \u001b[32m\u001b[1mAverage MAE = 5.8456 ± 0.00\u001b[0m\n",
      "\u001b[32m2023-11-05 02:19:59.647\u001b[0m | \u001b[1mINFO    \u001b[0m | \u001b[36mutils.validation\u001b[0m:\u001b[36mcross_validate\u001b[0m:\u001b[36m118\u001b[0m - \u001b[1m==============================\u001b[0m\n",
      "Best trial: 0. Best value: 5.84556:   8%|▊         | 4/50 [24:48<4:00:24, 313.58s/it]\u001b[32m2023-11-05 02:20:00.144\u001b[0m | \u001b[1mINFO    \u001b[0m | \u001b[36mutils.validation\u001b[0m:\u001b[36mcross_validate\u001b[0m:\u001b[36m81\u001b[0m - \u001b[1mStarting evaluation...\u001b[0m\n",
      "\u001b[32m2023-11-05 02:20:00.146\u001b[0m | \u001b[1mINFO    \u001b[0m | \u001b[36mutils.validation\u001b[0m:\u001b[36mcross_validate\u001b[0m:\u001b[36m82\u001b[0m - \u001b[1m==============================\u001b[0m\n"
     ]
    },
    {
     "name": "stdout",
     "output_type": "stream",
     "text": [
      "[W 2023-11-05 02:20:00,036] The parameter 'num_leaves' in trial#7 is sampled independently by using `RandomSampler` instead of `CmaEsSampler` (optimization performance may be degraded). `CmaEsSampler` does not support dynamic search space or `CategoricalDistribution`. You can suppress this warning by setting `warn_independent_sampling` to `False` in the constructor of `CmaEsSampler`, if this independent sampling is intended behavior.\n"
     ]
    },
    {
     "name": "stderr",
     "output_type": "stream",
     "text": [
      "\u001b[32m2023-11-05 02:21:10.084\u001b[0m | \u001b[1mINFO    \u001b[0m | \u001b[36mutils.validation\u001b[0m:\u001b[36mcross_validate\u001b[0m:\u001b[36m109\u001b[0m - \u001b[1mFold 1: 5.8492 (took 1484.67s)\u001b[0m\n",
      "\u001b[32m2023-11-05 02:21:10.103\u001b[0m | \u001b[1mINFO    \u001b[0m | \u001b[36mutils.validation\u001b[0m:\u001b[36mcross_validate\u001b[0m:\u001b[36m116\u001b[0m - \u001b[1m------------------------------\u001b[0m\n",
      "\u001b[32m2023-11-05 02:21:10.105\u001b[0m | \u001b[32m\u001b[1mSUCCESS \u001b[0m | \u001b[36mutils.validation\u001b[0m:\u001b[36mcross_validate\u001b[0m:\u001b[36m117\u001b[0m - \u001b[32m\u001b[1mAverage MAE = 5.8492 ± 0.00\u001b[0m\n",
      "\u001b[32m2023-11-05 02:21:10.105\u001b[0m | \u001b[1mINFO    \u001b[0m | \u001b[36mutils.validation\u001b[0m:\u001b[36mcross_validate\u001b[0m:\u001b[36m118\u001b[0m - \u001b[1m==============================\u001b[0m\n",
      "Best trial: 0. Best value: 5.84556:  10%|█         | 5/50 [25:59<2:49:25, 225.91s/it]"
     ]
    },
    {
     "name": "stdout",
     "output_type": "stream",
     "text": [
      "[W 2023-11-05 02:21:10,782] The parameter 'num_leaves' in trial#8 is sampled independently by using `RandomSampler` instead of `CmaEsSampler` (optimization performance may be degraded). `CmaEsSampler` does not support dynamic search space or `CategoricalDistribution`. You can suppress this warning by setting `warn_independent_sampling` to `False` in the constructor of `CmaEsSampler`, if this independent sampling is intended behavior.\n"
     ]
    },
    {
     "name": "stderr",
     "output_type": "stream",
     "text": [
      "\u001b[32m2023-11-05 02:21:11.163\u001b[0m | \u001b[1mINFO    \u001b[0m | \u001b[36mutils.validation\u001b[0m:\u001b[36mcross_validate\u001b[0m:\u001b[36m81\u001b[0m - \u001b[1mStarting evaluation...\u001b[0m\n",
      "\u001b[32m2023-11-05 02:21:11.165\u001b[0m | \u001b[1mINFO    \u001b[0m | \u001b[36mutils.validation\u001b[0m:\u001b[36mcross_validate\u001b[0m:\u001b[36m82\u001b[0m - \u001b[1m==============================\u001b[0m\n",
      "\u001b[32m2023-11-05 02:21:55.760\u001b[0m | \u001b[1mINFO    \u001b[0m | \u001b[36mutils.validation\u001b[0m:\u001b[36mcross_validate\u001b[0m:\u001b[36m109\u001b[0m - \u001b[1mFold 1: 5.8520 (took 366.91s)\u001b[0m\n",
      "\u001b[32m2023-11-05 02:21:55.784\u001b[0m | \u001b[1mINFO    \u001b[0m | \u001b[36mutils.validation\u001b[0m:\u001b[36mcross_validate\u001b[0m:\u001b[36m116\u001b[0m - \u001b[1m------------------------------\u001b[0m\n",
      "\u001b[32m2023-11-05 02:21:55.787\u001b[0m | \u001b[32m\u001b[1mSUCCESS \u001b[0m | \u001b[36mutils.validation\u001b[0m:\u001b[36mcross_validate\u001b[0m:\u001b[36m117\u001b[0m - \u001b[32m\u001b[1mAverage MAE = 5.8520 ± 0.00\u001b[0m\n",
      "\u001b[32m2023-11-05 02:21:55.787\u001b[0m | \u001b[1mINFO    \u001b[0m | \u001b[36mutils.validation\u001b[0m:\u001b[36mcross_validate\u001b[0m:\u001b[36m118\u001b[0m - \u001b[1m==============================\u001b[0m\n",
      "Best trial: 0. Best value: 5.84556:  12%|█▏        | 6/50 [26:45<2:00:45, 164.68s/it]\u001b[32m2023-11-05 02:21:56.482\u001b[0m | \u001b[1mINFO    \u001b[0m | \u001b[36mutils.validation\u001b[0m:\u001b[36mcross_validate\u001b[0m:\u001b[36m81\u001b[0m - \u001b[1mStarting evaluation...\u001b[0m\n",
      "\u001b[32m2023-11-05 02:21:56.482\u001b[0m | \u001b[1mINFO    \u001b[0m | \u001b[36mutils.validation\u001b[0m:\u001b[36mcross_validate\u001b[0m:\u001b[36m82\u001b[0m - \u001b[1m==============================\u001b[0m\n"
     ]
    },
    {
     "name": "stdout",
     "output_type": "stream",
     "text": [
      "[W 2023-11-05 02:21:56,331] The parameter 'num_leaves' in trial#9 is sampled independently by using `RandomSampler` instead of `CmaEsSampler` (optimization performance may be degraded). `CmaEsSampler` does not support dynamic search space or `CategoricalDistribution`. You can suppress this warning by setting `warn_independent_sampling` to `False` in the constructor of `CmaEsSampler`, if this independent sampling is intended behavior.\n"
     ]
    },
    {
     "name": "stderr",
     "output_type": "stream",
     "text": [
      "\u001b[32m2023-11-05 02:24:50.822\u001b[0m | \u001b[1mINFO    \u001b[0m | \u001b[36mutils.validation\u001b[0m:\u001b[36mcross_validate\u001b[0m:\u001b[36m109\u001b[0m - \u001b[1mFold 1: 5.8521 (took 207.29s)\u001b[0m\n",
      "\u001b[32m2023-11-05 02:24:50.844\u001b[0m | \u001b[1mINFO    \u001b[0m | \u001b[36mutils.validation\u001b[0m:\u001b[36mcross_validate\u001b[0m:\u001b[36m116\u001b[0m - \u001b[1m------------------------------\u001b[0m\n",
      "\u001b[32m2023-11-05 02:24:50.844\u001b[0m | \u001b[32m\u001b[1mSUCCESS \u001b[0m | \u001b[36mutils.validation\u001b[0m:\u001b[36mcross_validate\u001b[0m:\u001b[36m117\u001b[0m - \u001b[32m\u001b[1mAverage MAE = 5.8521 ± 0.00\u001b[0m\n",
      "\u001b[32m2023-11-05 02:24:50.844\u001b[0m | \u001b[1mINFO    \u001b[0m | \u001b[36mutils.validation\u001b[0m:\u001b[36mcross_validate\u001b[0m:\u001b[36m118\u001b[0m - \u001b[1m==============================\u001b[0m\n",
      "Best trial: 0. Best value: 5.84556:  14%|█▍        | 7/50 [29:40<2:00:26, 168.07s/it]"
     ]
    },
    {
     "name": "stdout",
     "output_type": "stream",
     "text": [
      "[W 2023-11-05 02:24:51,628] The parameter 'num_leaves' in trial#10 is sampled independently by using `RandomSampler` instead of `CmaEsSampler` (optimization performance may be degraded). `CmaEsSampler` does not support dynamic search space or `CategoricalDistribution`. You can suppress this warning by setting `warn_independent_sampling` to `False` in the constructor of `CmaEsSampler`, if this independent sampling is intended behavior.\n"
     ]
    },
    {
     "name": "stderr",
     "output_type": "stream",
     "text": [
      "\u001b[32m2023-11-05 02:24:52.082\u001b[0m | \u001b[1mINFO    \u001b[0m | \u001b[36mutils.validation\u001b[0m:\u001b[36mcross_validate\u001b[0m:\u001b[36m81\u001b[0m - \u001b[1mStarting evaluation...\u001b[0m\n",
      "\u001b[32m2023-11-05 02:24:52.084\u001b[0m | \u001b[1mINFO    \u001b[0m | \u001b[36mutils.validation\u001b[0m:\u001b[36mcross_validate\u001b[0m:\u001b[36m82\u001b[0m - \u001b[1m==============================\u001b[0m\n",
      "\u001b[32m2023-11-05 02:25:32.483\u001b[0m | \u001b[1mINFO    \u001b[0m | \u001b[36mutils.validation\u001b[0m:\u001b[36mcross_validate\u001b[0m:\u001b[36m109\u001b[0m - \u001b[1mFold 1: 5.8458 (took 927.66s)\u001b[0m\n",
      "\u001b[32m2023-11-05 02:25:32.513\u001b[0m | \u001b[1mINFO    \u001b[0m | \u001b[36mutils.validation\u001b[0m:\u001b[36mcross_validate\u001b[0m:\u001b[36m116\u001b[0m - \u001b[1m------------------------------\u001b[0m\n",
      "\u001b[32m2023-11-05 02:25:32.515\u001b[0m | \u001b[32m\u001b[1mSUCCESS \u001b[0m | \u001b[36mutils.validation\u001b[0m:\u001b[36mcross_validate\u001b[0m:\u001b[36m117\u001b[0m - \u001b[32m\u001b[1mAverage MAE = 5.8458 ± 0.00\u001b[0m\n",
      "\u001b[32m2023-11-05 02:25:32.516\u001b[0m | \u001b[1mINFO    \u001b[0m | \u001b[36mutils.validation\u001b[0m:\u001b[36mcross_validate\u001b[0m:\u001b[36m118\u001b[0m - \u001b[1m==============================\u001b[0m\n",
      "Best trial: 0. Best value: 5.84556:  16%|█▌        | 8/50 [30:22<1:29:29, 127.86s/it]\u001b[32m2023-11-05 02:25:33.222\u001b[0m | \u001b[1mINFO    \u001b[0m | \u001b[36mutils.validation\u001b[0m:\u001b[36mcross_validate\u001b[0m:\u001b[36m81\u001b[0m - \u001b[1mStarting evaluation...\u001b[0m\n",
      "\u001b[32m2023-11-05 02:25:33.223\u001b[0m | \u001b[1mINFO    \u001b[0m | \u001b[36mutils.validation\u001b[0m:\u001b[36mcross_validate\u001b[0m:\u001b[36m82\u001b[0m - \u001b[1m==============================\u001b[0m\n"
     ]
    },
    {
     "name": "stdout",
     "output_type": "stream",
     "text": [
      "[W 2023-11-05 02:25:33,122] The parameter 'num_leaves' in trial#11 is sampled independently by using `RandomSampler` instead of `CmaEsSampler` (optimization performance may be degraded). `CmaEsSampler` does not support dynamic search space or `CategoricalDistribution`. You can suppress this warning by setting `warn_independent_sampling` to `False` in the constructor of `CmaEsSampler`, if this independent sampling is intended behavior.\n"
     ]
    },
    {
     "name": "stderr",
     "output_type": "stream",
     "text": [
      "\u001b[32m2023-11-05 02:30:47.883\u001b[0m | \u001b[1mINFO    \u001b[0m | \u001b[36mutils.validation\u001b[0m:\u001b[36mcross_validate\u001b[0m:\u001b[36m109\u001b[0m - \u001b[1mFold 1: 5.8528 (took 339.48s)\u001b[0m\n",
      "\u001b[32m2023-11-05 02:30:47.904\u001b[0m | \u001b[1mINFO    \u001b[0m | \u001b[36mutils.validation\u001b[0m:\u001b[36mcross_validate\u001b[0m:\u001b[36m116\u001b[0m - \u001b[1m------------------------------\u001b[0m\n",
      "\u001b[32m2023-11-05 02:30:47.904\u001b[0m | \u001b[32m\u001b[1mSUCCESS \u001b[0m | \u001b[36mutils.validation\u001b[0m:\u001b[36mcross_validate\u001b[0m:\u001b[36m117\u001b[0m - \u001b[32m\u001b[1mAverage MAE = 5.8528 ± 0.00\u001b[0m\n",
      "\u001b[32m2023-11-05 02:30:47.911\u001b[0m | \u001b[1mINFO    \u001b[0m | \u001b[36mutils.validation\u001b[0m:\u001b[36mcross_validate\u001b[0m:\u001b[36m118\u001b[0m - \u001b[1m==============================\u001b[0m\n",
      "Best trial: 0. Best value: 5.84556:  18%|█▊        | 9/50 [35:37<2:07:23, 186.44s/it]\u001b[32m2023-11-05 02:30:48.480\u001b[0m | \u001b[1mINFO    \u001b[0m | \u001b[36mutils.validation\u001b[0m:\u001b[36mcross_validate\u001b[0m:\u001b[36m81\u001b[0m - \u001b[1mStarting evaluation...\u001b[0m\n",
      "\u001b[32m2023-11-05 02:30:48.481\u001b[0m | \u001b[1mINFO    \u001b[0m | \u001b[36mutils.validation\u001b[0m:\u001b[36mcross_validate\u001b[0m:\u001b[36m82\u001b[0m - \u001b[1m==============================\u001b[0m\n"
     ]
    },
    {
     "name": "stdout",
     "output_type": "stream",
     "text": [
      "[W 2023-11-05 02:30:48,371] The parameter 'num_leaves' in trial#12 is sampled independently by using `RandomSampler` instead of `CmaEsSampler` (optimization performance may be degraded). `CmaEsSampler` does not support dynamic search space or `CategoricalDistribution`. You can suppress this warning by setting `warn_independent_sampling` to `False` in the constructor of `CmaEsSampler`, if this independent sampling is intended behavior.\n"
     ]
    },
    {
     "name": "stderr",
     "output_type": "stream",
     "text": [
      "\u001b[32m2023-11-05 02:31:57.836\u001b[0m | \u001b[1mINFO    \u001b[0m | \u001b[36mutils.validation\u001b[0m:\u001b[36mcross_validate\u001b[0m:\u001b[36m109\u001b[0m - \u001b[1mFold 1: 5.8467 (took 566.55s)\u001b[0m\n",
      "\u001b[32m2023-11-05 02:31:57.857\u001b[0m | \u001b[1mINFO    \u001b[0m | \u001b[36mutils.validation\u001b[0m:\u001b[36mcross_validate\u001b[0m:\u001b[36m116\u001b[0m - \u001b[1m------------------------------\u001b[0m\n",
      "\u001b[32m2023-11-05 02:31:57.859\u001b[0m | \u001b[32m\u001b[1mSUCCESS \u001b[0m | \u001b[36mutils.validation\u001b[0m:\u001b[36mcross_validate\u001b[0m:\u001b[36m117\u001b[0m - \u001b[32m\u001b[1mAverage MAE = 5.8467 ± 0.00\u001b[0m\n",
      "\u001b[32m2023-11-05 02:31:57.860\u001b[0m | \u001b[1mINFO    \u001b[0m | \u001b[36mutils.validation\u001b[0m:\u001b[36mcross_validate\u001b[0m:\u001b[36m118\u001b[0m - \u001b[1m==============================\u001b[0m\n",
      "Best trial: 0. Best value: 5.84556:  20%|██        | 10/50 [36:47<1:40:19, 150.48s/it]\u001b[32m2023-11-05 02:31:58.432\u001b[0m | \u001b[1mINFO    \u001b[0m | \u001b[36mutils.validation\u001b[0m:\u001b[36mcross_validate\u001b[0m:\u001b[36m81\u001b[0m - \u001b[1mStarting evaluation...\u001b[0m\n",
      "\u001b[32m2023-11-05 02:31:58.432\u001b[0m | \u001b[1mINFO    \u001b[0m | \u001b[36mutils.validation\u001b[0m:\u001b[36mcross_validate\u001b[0m:\u001b[36m82\u001b[0m - \u001b[1m==============================\u001b[0m\n"
     ]
    },
    {
     "name": "stdout",
     "output_type": "stream",
     "text": [
      "[W 2023-11-05 02:31:58,327] The parameter 'num_leaves' in trial#13 is sampled independently by using `RandomSampler` instead of `CmaEsSampler` (optimization performance may be degraded). `CmaEsSampler` does not support dynamic search space or `CategoricalDistribution`. You can suppress this warning by setting `warn_independent_sampling` to `False` in the constructor of `CmaEsSampler`, if this independent sampling is intended behavior.\n"
     ]
    },
    {
     "name": "stderr",
     "output_type": "stream",
     "text": [
      "\u001b[32m2023-11-05 02:34:34.320\u001b[0m | \u001b[1mINFO    \u001b[0m | \u001b[36mutils.validation\u001b[0m:\u001b[36mcross_validate\u001b[0m:\u001b[36m109\u001b[0m - \u001b[1mFold 1: 5.8466 (took 515.70s)\u001b[0m\n",
      "\u001b[32m2023-11-05 02:34:34.348\u001b[0m | \u001b[1mINFO    \u001b[0m | \u001b[36mutils.validation\u001b[0m:\u001b[36mcross_validate\u001b[0m:\u001b[36m116\u001b[0m - \u001b[1m------------------------------\u001b[0m\n",
      "\u001b[32m2023-11-05 02:34:34.355\u001b[0m | \u001b[32m\u001b[1mSUCCESS \u001b[0m | \u001b[36mutils.validation\u001b[0m:\u001b[36mcross_validate\u001b[0m:\u001b[36m117\u001b[0m - \u001b[32m\u001b[1mAverage MAE = 5.8466 ± 0.00\u001b[0m\n",
      "\u001b[32m2023-11-05 02:34:34.356\u001b[0m | \u001b[1mINFO    \u001b[0m | \u001b[36mutils.validation\u001b[0m:\u001b[36mcross_validate\u001b[0m:\u001b[36m118\u001b[0m - \u001b[1m==============================\u001b[0m\n",
      "Best trial: 0. Best value: 5.84556:  22%|██▏       | 11/50 [39:23<1:39:00, 152.31s/it]\u001b[32m2023-11-05 02:34:34.916\u001b[0m | \u001b[1mINFO    \u001b[0m | \u001b[36mutils.validation\u001b[0m:\u001b[36mcross_validate\u001b[0m:\u001b[36m81\u001b[0m - \u001b[1mStarting evaluation...\u001b[0m\n",
      "\u001b[32m2023-11-05 02:34:34.918\u001b[0m | \u001b[1mINFO    \u001b[0m | \u001b[36mutils.validation\u001b[0m:\u001b[36mcross_validate\u001b[0m:\u001b[36m82\u001b[0m - \u001b[1m==============================\u001b[0m\n"
     ]
    },
    {
     "name": "stdout",
     "output_type": "stream",
     "text": [
      "[W 2023-11-05 02:34:34,806] The parameter 'num_leaves' in trial#14 is sampled independently by using `RandomSampler` instead of `CmaEsSampler` (optimization performance may be degraded). `CmaEsSampler` does not support dynamic search space or `CategoricalDistribution`. You can suppress this warning by setting `warn_independent_sampling` to `False` in the constructor of `CmaEsSampler`, if this independent sampling is intended behavior.\n"
     ]
    },
    {
     "name": "stderr",
     "output_type": "stream",
     "text": [
      "\u001b[32m2023-11-05 02:35:50.384\u001b[0m | \u001b[1mINFO    \u001b[0m | \u001b[36mutils.validation\u001b[0m:\u001b[36mcross_validate\u001b[0m:\u001b[36m109\u001b[0m - \u001b[1mFold 1: 5.8509 (took 912.63s)\u001b[0m\n",
      "\u001b[32m2023-11-05 02:35:50.411\u001b[0m | \u001b[1mINFO    \u001b[0m | \u001b[36mutils.validation\u001b[0m:\u001b[36mcross_validate\u001b[0m:\u001b[36m116\u001b[0m - \u001b[1m------------------------------\u001b[0m\n",
      "\u001b[32m2023-11-05 02:35:50.413\u001b[0m | \u001b[32m\u001b[1mSUCCESS \u001b[0m | \u001b[36mutils.validation\u001b[0m:\u001b[36mcross_validate\u001b[0m:\u001b[36m117\u001b[0m - \u001b[32m\u001b[1mAverage MAE = 5.8509 ± 0.00\u001b[0m\n",
      "\u001b[32m2023-11-05 02:35:50.414\u001b[0m | \u001b[1mINFO    \u001b[0m | \u001b[36mutils.validation\u001b[0m:\u001b[36mcross_validate\u001b[0m:\u001b[36m118\u001b[0m - \u001b[1m==============================\u001b[0m\n",
      "Best trial: 0. Best value: 5.84556:  24%|██▍       | 12/50 [40:39<1:21:46, 129.13s/it]\u001b[32m2023-11-05 02:35:51.007\u001b[0m | \u001b[1mINFO    \u001b[0m | \u001b[36mutils.validation\u001b[0m:\u001b[36mcross_validate\u001b[0m:\u001b[36m81\u001b[0m - \u001b[1mStarting evaluation...\u001b[0m\n",
      "\u001b[32m2023-11-05 02:35:51.007\u001b[0m | \u001b[1mINFO    \u001b[0m | \u001b[36mutils.validation\u001b[0m:\u001b[36mcross_validate\u001b[0m:\u001b[36m82\u001b[0m - \u001b[1m==============================\u001b[0m\n"
     ]
    },
    {
     "name": "stdout",
     "output_type": "stream",
     "text": [
      "[W 2023-11-05 02:35:50,898] The parameter 'num_leaves' in trial#15 is sampled independently by using `RandomSampler` instead of `CmaEsSampler` (optimization performance may be degraded). `CmaEsSampler` does not support dynamic search space or `CategoricalDistribution`. You can suppress this warning by setting `warn_independent_sampling` to `False` in the constructor of `CmaEsSampler`, if this independent sampling is intended behavior.\n"
     ]
    },
    {
     "name": "stderr",
     "output_type": "stream",
     "text": [
      "\u001b[32m2023-11-05 02:40:23.156\u001b[0m | \u001b[1mINFO    \u001b[0m | \u001b[36mutils.validation\u001b[0m:\u001b[36mcross_validate\u001b[0m:\u001b[36m109\u001b[0m - \u001b[1mFold 1: 5.8511 (took 480.83s)\u001b[0m\n",
      "\u001b[32m2023-11-05 02:40:23.180\u001b[0m | \u001b[1mINFO    \u001b[0m | \u001b[36mutils.validation\u001b[0m:\u001b[36mcross_validate\u001b[0m:\u001b[36m116\u001b[0m - \u001b[1m------------------------------\u001b[0m\n",
      "\u001b[32m2023-11-05 02:40:23.182\u001b[0m | \u001b[32m\u001b[1mSUCCESS \u001b[0m | \u001b[36mutils.validation\u001b[0m:\u001b[36mcross_validate\u001b[0m:\u001b[36m117\u001b[0m - \u001b[32m\u001b[1mAverage MAE = 5.8511 ± 0.00\u001b[0m\n",
      "\u001b[32m2023-11-05 02:40:23.183\u001b[0m | \u001b[1mINFO    \u001b[0m | \u001b[36mutils.validation\u001b[0m:\u001b[36mcross_validate\u001b[0m:\u001b[36m118\u001b[0m - \u001b[1m==============================\u001b[0m\n",
      "Best trial: 0. Best value: 5.84556:  26%|██▌       | 13/50 [45:12<1:46:27, 172.63s/it]\u001b[32m2023-11-05 02:40:23.754\u001b[0m | \u001b[1mINFO    \u001b[0m | \u001b[36mutils.validation\u001b[0m:\u001b[36mcross_validate\u001b[0m:\u001b[36m81\u001b[0m - \u001b[1mStarting evaluation...\u001b[0m\n",
      "\u001b[32m2023-11-05 02:40:23.756\u001b[0m | \u001b[1mINFO    \u001b[0m | \u001b[36mutils.validation\u001b[0m:\u001b[36mcross_validate\u001b[0m:\u001b[36m82\u001b[0m - \u001b[1m==============================\u001b[0m\n"
     ]
    },
    {
     "name": "stdout",
     "output_type": "stream",
     "text": [
      "[W 2023-11-05 02:40:23,618] The parameter 'num_leaves' in trial#16 is sampled independently by using `RandomSampler` instead of `CmaEsSampler` (optimization performance may be degraded). `CmaEsSampler` does not support dynamic search space or `CategoricalDistribution`. You can suppress this warning by setting `warn_independent_sampling` to `False` in the constructor of `CmaEsSampler`, if this independent sampling is intended behavior.\n"
     ]
    },
    {
     "name": "stderr",
     "output_type": "stream",
     "text": [
      "\u001b[32m2023-11-05 02:46:15.749\u001b[0m | \u001b[1mINFO    \u001b[0m | \u001b[36mutils.validation\u001b[0m:\u001b[36mcross_validate\u001b[0m:\u001b[36m109\u001b[0m - \u001b[1mFold 1: 5.8491 (took 669.57s)\u001b[0m\n",
      "\u001b[32m2023-11-05 02:46:15.771\u001b[0m | \u001b[1mINFO    \u001b[0m | \u001b[36mutils.validation\u001b[0m:\u001b[36mcross_validate\u001b[0m:\u001b[36m116\u001b[0m - \u001b[1m------------------------------\u001b[0m\n",
      "\u001b[32m2023-11-05 02:46:15.772\u001b[0m | \u001b[32m\u001b[1mSUCCESS \u001b[0m | \u001b[36mutils.validation\u001b[0m:\u001b[36mcross_validate\u001b[0m:\u001b[36m117\u001b[0m - \u001b[32m\u001b[1mAverage MAE = 5.8491 ± 0.00\u001b[0m\n",
      "\u001b[32m2023-11-05 02:46:15.774\u001b[0m | \u001b[1mINFO    \u001b[0m | \u001b[36mutils.validation\u001b[0m:\u001b[36mcross_validate\u001b[0m:\u001b[36m118\u001b[0m - \u001b[1m==============================\u001b[0m\n",
      "Best trial: 0. Best value: 5.84556:  28%|██▊       | 14/50 [51:05<2:16:11, 226.99s/it]\u001b[32m2023-11-05 02:46:16.366\u001b[0m | \u001b[1mINFO    \u001b[0m | \u001b[36mutils.validation\u001b[0m:\u001b[36mcross_validate\u001b[0m:\u001b[36m81\u001b[0m - \u001b[1mStarting evaluation...\u001b[0m\n",
      "\u001b[32m2023-11-05 02:46:16.366\u001b[0m | \u001b[1mINFO    \u001b[0m | \u001b[36mutils.validation\u001b[0m:\u001b[36mcross_validate\u001b[0m:\u001b[36m82\u001b[0m - \u001b[1m==============================\u001b[0m\n"
     ]
    },
    {
     "name": "stdout",
     "output_type": "stream",
     "text": [
      "[W 2023-11-05 02:46:16,261] The parameter 'num_leaves' in trial#17 is sampled independently by using `RandomSampler` instead of `CmaEsSampler` (optimization performance may be degraded). `CmaEsSampler` does not support dynamic search space or `CategoricalDistribution`. You can suppress this warning by setting `warn_independent_sampling` to `False` in the constructor of `CmaEsSampler`, if this independent sampling is intended behavior.\n"
     ]
    },
    {
     "name": "stderr",
     "output_type": "stream",
     "text": [
      "\u001b[32m2023-11-05 02:49:09.198\u001b[0m | \u001b[1mINFO    \u001b[0m | \u001b[36mutils.validation\u001b[0m:\u001b[36mcross_validate\u001b[0m:\u001b[36m109\u001b[0m - \u001b[1mFold 1: 5.8469 (took 1050.90s)\u001b[0m\n",
      "\u001b[32m2023-11-05 02:49:09.221\u001b[0m | \u001b[1mINFO    \u001b[0m | \u001b[36mutils.validation\u001b[0m:\u001b[36mcross_validate\u001b[0m:\u001b[36m116\u001b[0m - \u001b[1m------------------------------\u001b[0m\n",
      "\u001b[32m2023-11-05 02:49:09.222\u001b[0m | \u001b[32m\u001b[1mSUCCESS \u001b[0m | \u001b[36mutils.validation\u001b[0m:\u001b[36mcross_validate\u001b[0m:\u001b[36m117\u001b[0m - \u001b[32m\u001b[1mAverage MAE = 5.8469 ± 0.00\u001b[0m\n",
      "\u001b[32m2023-11-05 02:49:09.223\u001b[0m | \u001b[1mINFO    \u001b[0m | \u001b[36mutils.validation\u001b[0m:\u001b[36mcross_validate\u001b[0m:\u001b[36m118\u001b[0m - \u001b[1m==============================\u001b[0m\n",
      "Best trial: 0. Best value: 5.84556:  30%|███       | 15/50 [53:58<2:02:59, 210.85s/it]\u001b[32m2023-11-05 02:49:09.779\u001b[0m | \u001b[1mINFO    \u001b[0m | \u001b[36mutils.validation\u001b[0m:\u001b[36mcross_validate\u001b[0m:\u001b[36m81\u001b[0m - \u001b[1mStarting evaluation...\u001b[0m\n",
      "\u001b[32m2023-11-05 02:49:09.780\u001b[0m | \u001b[1mINFO    \u001b[0m | \u001b[36mutils.validation\u001b[0m:\u001b[36mcross_validate\u001b[0m:\u001b[36m82\u001b[0m - \u001b[1m==============================\u001b[0m\n"
     ]
    },
    {
     "name": "stdout",
     "output_type": "stream",
     "text": [
      "[W 2023-11-05 02:49:09,679] The parameter 'num_leaves' in trial#18 is sampled independently by using `RandomSampler` instead of `CmaEsSampler` (optimization performance may be degraded). `CmaEsSampler` does not support dynamic search space or `CategoricalDistribution`. You can suppress this warning by setting `warn_independent_sampling` to `False` in the constructor of `CmaEsSampler`, if this independent sampling is intended behavior.\n"
     ]
    },
    {
     "name": "stderr",
     "output_type": "stream",
     "text": [
      "\u001b[32m2023-11-05 02:51:26.219\u001b[0m | \u001b[1mINFO    \u001b[0m | \u001b[36mutils.validation\u001b[0m:\u001b[36mcross_validate\u001b[0m:\u001b[36m109\u001b[0m - \u001b[1mFold 1: 5.8514 (took 893.66s)\u001b[0m\n",
      "\u001b[32m2023-11-05 02:51:26.247\u001b[0m | \u001b[1mINFO    \u001b[0m | \u001b[36mutils.validation\u001b[0m:\u001b[36mcross_validate\u001b[0m:\u001b[36m116\u001b[0m - \u001b[1m------------------------------\u001b[0m\n",
      "\u001b[32m2023-11-05 02:51:26.249\u001b[0m | \u001b[32m\u001b[1mSUCCESS \u001b[0m | \u001b[36mutils.validation\u001b[0m:\u001b[36mcross_validate\u001b[0m:\u001b[36m117\u001b[0m - \u001b[32m\u001b[1mAverage MAE = 5.8514 ± 0.00\u001b[0m\n",
      "\u001b[32m2023-11-05 02:51:26.250\u001b[0m | \u001b[1mINFO    \u001b[0m | \u001b[36mutils.validation\u001b[0m:\u001b[36mcross_validate\u001b[0m:\u001b[36m118\u001b[0m - \u001b[1m==============================\u001b[0m\n",
      "Best trial: 0. Best value: 5.84556:  32%|███▏      | 16/50 [56:15<1:46:53, 188.63s/it]\u001b[32m2023-11-05 02:51:26.844\u001b[0m | \u001b[1mINFO    \u001b[0m | \u001b[36mutils.validation\u001b[0m:\u001b[36mcross_validate\u001b[0m:\u001b[36m81\u001b[0m - \u001b[1mStarting evaluation...\u001b[0m\n",
      "\u001b[32m2023-11-05 02:51:26.851\u001b[0m | \u001b[1mINFO    \u001b[0m | \u001b[36mutils.validation\u001b[0m:\u001b[36mcross_validate\u001b[0m:\u001b[36m82\u001b[0m - \u001b[1m==============================\u001b[0m\n"
     ]
    },
    {
     "name": "stdout",
     "output_type": "stream",
     "text": [
      "[W 2023-11-05 02:51:26,739] The parameter 'num_leaves' in trial#19 is sampled independently by using `RandomSampler` instead of `CmaEsSampler` (optimization performance may be degraded). `CmaEsSampler` does not support dynamic search space or `CategoricalDistribution`. You can suppress this warning by setting `warn_independent_sampling` to `False` in the constructor of `CmaEsSampler`, if this independent sampling is intended behavior.\n"
     ]
    },
    {
     "name": "stderr",
     "output_type": "stream",
     "text": [
      "\u001b[32m2023-11-05 02:52:09.956\u001b[0m | \u001b[1mINFO    \u001b[0m | \u001b[36mutils.validation\u001b[0m:\u001b[36mcross_validate\u001b[0m:\u001b[36m109\u001b[0m - \u001b[1mFold 1: 5.8479 (took 673.36s)\u001b[0m\n",
      "\u001b[32m2023-11-05 02:52:09.977\u001b[0m | \u001b[1mINFO    \u001b[0m | \u001b[36mutils.validation\u001b[0m:\u001b[36mcross_validate\u001b[0m:\u001b[36m116\u001b[0m - \u001b[1m------------------------------\u001b[0m\n",
      "\u001b[32m2023-11-05 02:52:09.979\u001b[0m | \u001b[32m\u001b[1mSUCCESS \u001b[0m | \u001b[36mutils.validation\u001b[0m:\u001b[36mcross_validate\u001b[0m:\u001b[36m117\u001b[0m - \u001b[32m\u001b[1mAverage MAE = 5.8479 ± 0.00\u001b[0m\n",
      "\u001b[32m2023-11-05 02:52:09.980\u001b[0m | \u001b[1mINFO    \u001b[0m | \u001b[36mutils.validation\u001b[0m:\u001b[36mcross_validate\u001b[0m:\u001b[36m118\u001b[0m - \u001b[1m==============================\u001b[0m\n",
      "Best trial: 0. Best value: 5.84556:  34%|███▍      | 17/50 [56:59<1:19:47, 145.07s/it]\u001b[32m2023-11-05 02:52:10.643\u001b[0m | \u001b[1mINFO    \u001b[0m | \u001b[36mutils.validation\u001b[0m:\u001b[36mcross_validate\u001b[0m:\u001b[36m81\u001b[0m - \u001b[1mStarting evaluation...\u001b[0m\n",
      "\u001b[32m2023-11-05 02:52:10.643\u001b[0m | \u001b[1mINFO    \u001b[0m | \u001b[36mutils.validation\u001b[0m:\u001b[36mcross_validate\u001b[0m:\u001b[36m82\u001b[0m - \u001b[1m==============================\u001b[0m\n"
     ]
    },
    {
     "name": "stdout",
     "output_type": "stream",
     "text": [
      "[W 2023-11-05 02:52:10,524] The parameter 'num_leaves' in trial#20 is sampled independently by using `RandomSampler` instead of `CmaEsSampler` (optimization performance may be degraded). `CmaEsSampler` does not support dynamic search space or `CategoricalDistribution`. You can suppress this warning by setting `warn_independent_sampling` to `False` in the constructor of `CmaEsSampler`, if this independent sampling is intended behavior.\n"
     ]
    },
    {
     "name": "stderr",
     "output_type": "stream",
     "text": [
      "\u001b[32m2023-11-05 02:58:56.972\u001b[0m | \u001b[1mINFO    \u001b[0m | \u001b[36mutils.validation\u001b[0m:\u001b[36mcross_validate\u001b[0m:\u001b[36m109\u001b[0m - \u001b[1mFold 1: 5.8498 (took 427.15s)\u001b[0m\n",
      "\u001b[32m2023-11-05 02:58:56.993\u001b[0m | \u001b[1mINFO    \u001b[0m | \u001b[36mutils.validation\u001b[0m:\u001b[36mcross_validate\u001b[0m:\u001b[36m116\u001b[0m - \u001b[1m------------------------------\u001b[0m\n",
      "\u001b[32m2023-11-05 02:58:56.995\u001b[0m | \u001b[32m\u001b[1mSUCCESS \u001b[0m | \u001b[36mutils.validation\u001b[0m:\u001b[36mcross_validate\u001b[0m:\u001b[36m117\u001b[0m - \u001b[32m\u001b[1mAverage MAE = 5.8498 ± 0.00\u001b[0m\n",
      "\u001b[32m2023-11-05 02:58:56.996\u001b[0m | \u001b[1mINFO    \u001b[0m | \u001b[36mutils.validation\u001b[0m:\u001b[36mcross_validate\u001b[0m:\u001b[36m118\u001b[0m - \u001b[1m==============================\u001b[0m\n",
      "Best trial: 0. Best value: 5.84556:  36%|███▌      | 18/50 [1:03:46<1:59:20, 223.76s/it]\u001b[32m2023-11-05 02:58:57.533\u001b[0m | \u001b[1mINFO    \u001b[0m | \u001b[36mutils.validation\u001b[0m:\u001b[36mcross_validate\u001b[0m:\u001b[36m81\u001b[0m - \u001b[1mStarting evaluation...\u001b[0m\n",
      "\u001b[32m2023-11-05 02:58:57.533\u001b[0m | \u001b[1mINFO    \u001b[0m | \u001b[36mutils.validation\u001b[0m:\u001b[36mcross_validate\u001b[0m:\u001b[36m82\u001b[0m - \u001b[1m==============================\u001b[0m\n"
     ]
    },
    {
     "name": "stdout",
     "output_type": "stream",
     "text": [
      "[W 2023-11-05 02:58:57,422] The parameter 'num_leaves' in trial#21 is sampled independently by using `RandomSampler` instead of `CmaEsSampler` (optimization performance may be degraded). `CmaEsSampler` does not support dynamic search space or `CategoricalDistribution`. You can suppress this warning by setting `warn_independent_sampling` to `False` in the constructor of `CmaEsSampler`, if this independent sampling is intended behavior.\n"
     ]
    },
    {
     "name": "stderr",
     "output_type": "stream",
     "text": [
      "\u001b[32m2023-11-05 03:04:21.756\u001b[0m | \u001b[1mINFO    \u001b[0m | \u001b[36mutils.validation\u001b[0m:\u001b[36mcross_validate\u001b[0m:\u001b[36m109\u001b[0m - \u001b[1mFold 1: 5.8455 (took 849.79s)\u001b[0m\n",
      "\u001b[32m2023-11-05 03:04:21.781\u001b[0m | \u001b[1mINFO    \u001b[0m | \u001b[36mutils.validation\u001b[0m:\u001b[36mcross_validate\u001b[0m:\u001b[36m116\u001b[0m - \u001b[1m------------------------------\u001b[0m\n",
      "\u001b[32m2023-11-05 03:04:21.782\u001b[0m | \u001b[32m\u001b[1mSUCCESS \u001b[0m | \u001b[36mutils.validation\u001b[0m:\u001b[36mcross_validate\u001b[0m:\u001b[36m117\u001b[0m - \u001b[32m\u001b[1mAverage MAE = 5.8455 ± 0.00\u001b[0m\n",
      "\u001b[32m2023-11-05 03:04:21.782\u001b[0m | \u001b[1mINFO    \u001b[0m | \u001b[36mutils.validation\u001b[0m:\u001b[36mcross_validate\u001b[0m:\u001b[36m118\u001b[0m - \u001b[1m==============================\u001b[0m\n",
      "Best trial: 18. Best value: 5.84552:  38%|███▊      | 19/50 [1:09:11<2:11:17, 254.11s/it]\u001b[32m2023-11-05 03:04:22.345\u001b[0m | \u001b[1mINFO    \u001b[0m | \u001b[36mutils.validation\u001b[0m:\u001b[36mcross_validate\u001b[0m:\u001b[36m81\u001b[0m - \u001b[1mStarting evaluation...\u001b[0m\n",
      "\u001b[32m2023-11-05 03:04:22.345\u001b[0m | \u001b[1mINFO    \u001b[0m | \u001b[36mutils.validation\u001b[0m:\u001b[36mcross_validate\u001b[0m:\u001b[36m82\u001b[0m - \u001b[1m==============================\u001b[0m\n"
     ]
    },
    {
     "name": "stdout",
     "output_type": "stream",
     "text": [
      "[W 2023-11-05 03:04:22,248] The parameter 'num_leaves' in trial#22 is sampled independently by using `RandomSampler` instead of `CmaEsSampler` (optimization performance may be degraded). `CmaEsSampler` does not support dynamic search space or `CategoricalDistribution`. You can suppress this warning by setting `warn_independent_sampling` to `False` in the constructor of `CmaEsSampler`, if this independent sampling is intended behavior.\n"
     ]
    },
    {
     "name": "stderr",
     "output_type": "stream",
     "text": [
      "\u001b[32m2023-11-05 03:07:11.704\u001b[0m | \u001b[1mINFO    \u001b[0m | \u001b[36mutils.validation\u001b[0m:\u001b[36mcross_validate\u001b[0m:\u001b[36m109\u001b[0m - \u001b[1mFold 1: 5.8495 (took 470.64s)\u001b[0m\n",
      "\u001b[32m2023-11-05 03:07:11.713\u001b[0m | \u001b[1mINFO    \u001b[0m | \u001b[36mutils.validation\u001b[0m:\u001b[36mcross_validate\u001b[0m:\u001b[36m116\u001b[0m - \u001b[1m------------------------------\u001b[0m\n",
      "\u001b[32m2023-11-05 03:07:11.714\u001b[0m | \u001b[32m\u001b[1mSUCCESS \u001b[0m | \u001b[36mutils.validation\u001b[0m:\u001b[36mcross_validate\u001b[0m:\u001b[36m117\u001b[0m - \u001b[32m\u001b[1mAverage MAE = 5.8495 ± 0.00\u001b[0m\n",
      "\u001b[32m2023-11-05 03:07:11.716\u001b[0m | \u001b[1mINFO    \u001b[0m | \u001b[36mutils.validation\u001b[0m:\u001b[36mcross_validate\u001b[0m:\u001b[36m118\u001b[0m - \u001b[1m==============================\u001b[0m\n",
      "Best trial: 18. Best value: 5.84552:  40%|████      | 20/50 [1:12:00<1:54:24, 228.81s/it]\u001b[32m2023-11-05 03:07:12.128\u001b[0m | \u001b[1mINFO    \u001b[0m | \u001b[36mutils.validation\u001b[0m:\u001b[36mcross_validate\u001b[0m:\u001b[36m81\u001b[0m - \u001b[1mStarting evaluation...\u001b[0m\n",
      "\u001b[32m2023-11-05 03:07:12.128\u001b[0m | \u001b[1mINFO    \u001b[0m | \u001b[36mutils.validation\u001b[0m:\u001b[36mcross_validate\u001b[0m:\u001b[36m82\u001b[0m - \u001b[1m==============================\u001b[0m\n"
     ]
    },
    {
     "name": "stdout",
     "output_type": "stream",
     "text": [
      "[W 2023-11-05 03:07:12,023] The parameter 'num_leaves' in trial#23 is sampled independently by using `RandomSampler` instead of `CmaEsSampler` (optimization performance may be degraded). `CmaEsSampler` does not support dynamic search space or `CategoricalDistribution`. You can suppress this warning by setting `warn_independent_sampling` to `False` in the constructor of `CmaEsSampler`, if this independent sampling is intended behavior.\n"
     ]
    },
    {
     "name": "stderr",
     "output_type": "stream",
     "text": [
      "\u001b[32m2023-11-05 03:10:01.842\u001b[0m | \u001b[1mINFO    \u001b[0m | \u001b[36mutils.validation\u001b[0m:\u001b[36mcross_validate\u001b[0m:\u001b[36m109\u001b[0m - \u001b[1mFold 1: 5.8482 (took 1367.87s)\u001b[0m\n",
      "\u001b[32m2023-11-05 03:10:01.859\u001b[0m | \u001b[1mINFO    \u001b[0m | \u001b[36mutils.validation\u001b[0m:\u001b[36mcross_validate\u001b[0m:\u001b[36m116\u001b[0m - \u001b[1m------------------------------\u001b[0m\n",
      "\u001b[32m2023-11-05 03:10:01.861\u001b[0m | \u001b[32m\u001b[1mSUCCESS \u001b[0m | \u001b[36mutils.validation\u001b[0m:\u001b[36mcross_validate\u001b[0m:\u001b[36m117\u001b[0m - \u001b[32m\u001b[1mAverage MAE = 5.8482 ± 0.00\u001b[0m\n",
      "\u001b[32m2023-11-05 03:10:01.862\u001b[0m | \u001b[1mINFO    \u001b[0m | \u001b[36mutils.validation\u001b[0m:\u001b[36mcross_validate\u001b[0m:\u001b[36m118\u001b[0m - \u001b[1m==============================\u001b[0m\n",
      "Best trial: 18. Best value: 5.84552:  42%|████▏     | 21/50 [1:14:51<1:42:05, 211.24s/it]"
     ]
    },
    {
     "name": "stdout",
     "output_type": "stream",
     "text": [
      "[W 2023-11-05 03:10:02,455] The parameter 'num_leaves' in trial#24 is sampled independently by using `RandomSampler` instead of `CmaEsSampler` (optimization performance may be degraded). `CmaEsSampler` does not support dynamic search space or `CategoricalDistribution`. You can suppress this warning by setting `warn_independent_sampling` to `False` in the constructor of `CmaEsSampler`, if this independent sampling is intended behavior.\n"
     ]
    },
    {
     "name": "stderr",
     "output_type": "stream",
     "text": [
      "\u001b[32m2023-11-05 03:10:02.724\u001b[0m | \u001b[1mINFO    \u001b[0m | \u001b[36mutils.validation\u001b[0m:\u001b[36mcross_validate\u001b[0m:\u001b[36m81\u001b[0m - \u001b[1mStarting evaluation...\u001b[0m\n",
      "\u001b[32m2023-11-05 03:10:02.724\u001b[0m | \u001b[1mINFO    \u001b[0m | \u001b[36mutils.validation\u001b[0m:\u001b[36mcross_validate\u001b[0m:\u001b[36m82\u001b[0m - \u001b[1m==============================\u001b[0m\n",
      "\u001b[32m2023-11-05 03:12:17.381\u001b[0m | \u001b[1mINFO    \u001b[0m | \u001b[36mutils.validation\u001b[0m:\u001b[36mcross_validate\u001b[0m:\u001b[36m109\u001b[0m - \u001b[1mFold 1: 5.8538 (took 1152.92s)\u001b[0m\n",
      "\u001b[32m2023-11-05 03:12:17.404\u001b[0m | \u001b[1mINFO    \u001b[0m | \u001b[36mutils.validation\u001b[0m:\u001b[36mcross_validate\u001b[0m:\u001b[36m116\u001b[0m - \u001b[1m------------------------------\u001b[0m\n",
      "\u001b[32m2023-11-05 03:12:17.404\u001b[0m | \u001b[32m\u001b[1mSUCCESS \u001b[0m | \u001b[36mutils.validation\u001b[0m:\u001b[36mcross_validate\u001b[0m:\u001b[36m117\u001b[0m - \u001b[32m\u001b[1mAverage MAE = 5.8538 ± 0.00\u001b[0m\n",
      "\u001b[32m2023-11-05 03:12:17.404\u001b[0m | \u001b[1mINFO    \u001b[0m | \u001b[36mutils.validation\u001b[0m:\u001b[36mcross_validate\u001b[0m:\u001b[36m118\u001b[0m - \u001b[1m==============================\u001b[0m\n",
      "Best trial: 18. Best value: 5.84552:  44%|████▍     | 22/50 [1:17:06<1:27:58, 188.52s/it]\u001b[32m2023-11-05 03:12:17.988\u001b[0m | \u001b[1mINFO    \u001b[0m | \u001b[36mutils.validation\u001b[0m:\u001b[36mcross_validate\u001b[0m:\u001b[36m81\u001b[0m - \u001b[1mStarting evaluation...\u001b[0m\n",
      "\u001b[32m2023-11-05 03:12:17.988\u001b[0m | \u001b[1mINFO    \u001b[0m | \u001b[36mutils.validation\u001b[0m:\u001b[36mcross_validate\u001b[0m:\u001b[36m82\u001b[0m - \u001b[1m==============================\u001b[0m\n"
     ]
    },
    {
     "name": "stdout",
     "output_type": "stream",
     "text": [
      "[W 2023-11-05 03:12:17,880] The parameter 'num_leaves' in trial#25 is sampled independently by using `RandomSampler` instead of `CmaEsSampler` (optimization performance may be degraded). `CmaEsSampler` does not support dynamic search space or `CategoricalDistribution`. You can suppress this warning by setting `warn_independent_sampling` to `False` in the constructor of `CmaEsSampler`, if this independent sampling is intended behavior.\n"
     ]
    },
    {
     "name": "stderr",
     "output_type": "stream",
     "text": [
      "\u001b[32m2023-11-05 03:18:14.486\u001b[0m | \u001b[1mINFO    \u001b[0m | \u001b[36mutils.validation\u001b[0m:\u001b[36mcross_validate\u001b[0m:\u001b[36m109\u001b[0m - \u001b[1mFold 1: 5.8485 (took 335.01s)\u001b[0m\n",
      "\u001b[32m2023-11-05 03:18:14.514\u001b[0m | \u001b[1mINFO    \u001b[0m | \u001b[36mutils.validation\u001b[0m:\u001b[36mcross_validate\u001b[0m:\u001b[36m116\u001b[0m - \u001b[1m------------------------------\u001b[0m\n",
      "\u001b[32m2023-11-05 03:18:14.516\u001b[0m | \u001b[32m\u001b[1mSUCCESS \u001b[0m | \u001b[36mutils.validation\u001b[0m:\u001b[36mcross_validate\u001b[0m:\u001b[36m117\u001b[0m - \u001b[32m\u001b[1mAverage MAE = 5.8485 ± 0.00\u001b[0m\n",
      "\u001b[32m2023-11-05 03:18:14.517\u001b[0m | \u001b[1mINFO    \u001b[0m | \u001b[36mutils.validation\u001b[0m:\u001b[36mcross_validate\u001b[0m:\u001b[36m118\u001b[0m - \u001b[1m==============================\u001b[0m\n",
      "Best trial: 18. Best value: 5.84552:  46%|████▌     | 23/50 [1:23:03<1:47:35, 239.10s/it]\u001b[32m2023-11-05 03:18:15.069\u001b[0m | \u001b[1mINFO    \u001b[0m | \u001b[36mutils.validation\u001b[0m:\u001b[36mcross_validate\u001b[0m:\u001b[36m81\u001b[0m - \u001b[1mStarting evaluation...\u001b[0m\n",
      "\u001b[32m2023-11-05 03:18:15.071\u001b[0m | \u001b[1mINFO    \u001b[0m | \u001b[36mutils.validation\u001b[0m:\u001b[36mcross_validate\u001b[0m:\u001b[36m82\u001b[0m - \u001b[1m==============================\u001b[0m\n"
     ]
    },
    {
     "name": "stdout",
     "output_type": "stream",
     "text": [
      "[W 2023-11-05 03:18:14,959] The parameter 'num_leaves' in trial#26 is sampled independently by using `RandomSampler` instead of `CmaEsSampler` (optimization performance may be degraded). `CmaEsSampler` does not support dynamic search space or `CategoricalDistribution`. You can suppress this warning by setting `warn_independent_sampling` to `False` in the constructor of `CmaEsSampler`, if this independent sampling is intended behavior.\n"
     ]
    },
    {
     "name": "stderr",
     "output_type": "stream",
     "text": [
      "\u001b[32m2023-11-05 03:20:25.176\u001b[0m | \u001b[1mINFO    \u001b[0m | \u001b[36mutils.validation\u001b[0m:\u001b[36mcross_validate\u001b[0m:\u001b[36m109\u001b[0m - \u001b[1mFold 1: 5.8458 (took 908.03s)\u001b[0m\n",
      "\u001b[32m2023-11-05 03:20:25.199\u001b[0m | \u001b[1mINFO    \u001b[0m | \u001b[36mutils.validation\u001b[0m:\u001b[36mcross_validate\u001b[0m:\u001b[36m116\u001b[0m - \u001b[1m------------------------------\u001b[0m\n",
      "\u001b[32m2023-11-05 03:20:25.201\u001b[0m | \u001b[32m\u001b[1mSUCCESS \u001b[0m | \u001b[36mutils.validation\u001b[0m:\u001b[36mcross_validate\u001b[0m:\u001b[36m117\u001b[0m - \u001b[32m\u001b[1mAverage MAE = 5.8458 ± 0.00\u001b[0m\n",
      "\u001b[32m2023-11-05 03:20:25.202\u001b[0m | \u001b[1mINFO    \u001b[0m | \u001b[36mutils.validation\u001b[0m:\u001b[36mcross_validate\u001b[0m:\u001b[36m118\u001b[0m - \u001b[1m==============================\u001b[0m\n",
      "Best trial: 18. Best value: 5.84552:  48%|████▊     | 24/50 [1:25:14<1:29:31, 206.58s/it]\u001b[32m2023-11-05 03:20:25.777\u001b[0m | \u001b[1mINFO    \u001b[0m | \u001b[36mutils.validation\u001b[0m:\u001b[36mcross_validate\u001b[0m:\u001b[36m81\u001b[0m - \u001b[1mStarting evaluation...\u001b[0m\n",
      "\u001b[32m2023-11-05 03:20:25.778\u001b[0m | \u001b[1mINFO    \u001b[0m | \u001b[36mutils.validation\u001b[0m:\u001b[36mcross_validate\u001b[0m:\u001b[36m82\u001b[0m - \u001b[1m==============================\u001b[0m\n"
     ]
    },
    {
     "name": "stdout",
     "output_type": "stream",
     "text": [
      "[W 2023-11-05 03:20:25,663] The parameter 'num_leaves' in trial#27 is sampled independently by using `RandomSampler` instead of `CmaEsSampler` (optimization performance may be degraded). `CmaEsSampler` does not support dynamic search space or `CategoricalDistribution`. You can suppress this warning by setting `warn_independent_sampling` to `False` in the constructor of `CmaEsSampler`, if this independent sampling is intended behavior.\n"
     ]
    },
    {
     "name": "stderr",
     "output_type": "stream",
     "text": [
      "\u001b[32m2023-11-05 03:26:07.992\u001b[0m | \u001b[1mINFO    \u001b[0m | \u001b[36mutils.validation\u001b[0m:\u001b[36mcross_validate\u001b[0m:\u001b[36m109\u001b[0m - \u001b[1mFold 1: 5.8472 (took 1070.04s)\u001b[0m\n",
      "\u001b[32m2023-11-05 03:26:08.015\u001b[0m | \u001b[1mINFO    \u001b[0m | \u001b[36mutils.validation\u001b[0m:\u001b[36mcross_validate\u001b[0m:\u001b[36m116\u001b[0m - \u001b[1m------------------------------\u001b[0m\n",
      "\u001b[32m2023-11-05 03:26:08.017\u001b[0m | \u001b[32m\u001b[1mSUCCESS \u001b[0m | \u001b[36mutils.validation\u001b[0m:\u001b[36mcross_validate\u001b[0m:\u001b[36m117\u001b[0m - \u001b[32m\u001b[1mAverage MAE = 5.8472 ± 0.00\u001b[0m\n",
      "\u001b[32m2023-11-05 03:26:08.018\u001b[0m | \u001b[1mINFO    \u001b[0m | \u001b[36mutils.validation\u001b[0m:\u001b[36mcross_validate\u001b[0m:\u001b[36m118\u001b[0m - \u001b[1m==============================\u001b[0m\n",
      "Best trial: 18. Best value: 5.84552:  50%|█████     | 25/50 [1:30:57<1:43:06, 247.46s/it]\u001b[32m2023-11-05 03:26:08.645\u001b[0m | \u001b[1mINFO    \u001b[0m | \u001b[36mutils.validation\u001b[0m:\u001b[36mcross_validate\u001b[0m:\u001b[36m81\u001b[0m - \u001b[1mStarting evaluation...\u001b[0m\n",
      "\u001b[32m2023-11-05 03:26:08.645\u001b[0m | \u001b[1mINFO    \u001b[0m | \u001b[36mutils.validation\u001b[0m:\u001b[36mcross_validate\u001b[0m:\u001b[36m82\u001b[0m - \u001b[1m==============================\u001b[0m\n"
     ]
    },
    {
     "name": "stdout",
     "output_type": "stream",
     "text": [
      "[W 2023-11-05 03:26:08,522] The parameter 'num_leaves' in trial#28 is sampled independently by using `RandomSampler` instead of `CmaEsSampler` (optimization performance may be degraded). `CmaEsSampler` does not support dynamic search space or `CategoricalDistribution`. You can suppress this warning by setting `warn_independent_sampling` to `False` in the constructor of `CmaEsSampler`, if this independent sampling is intended behavior.\n"
     ]
    },
    {
     "name": "stderr",
     "output_type": "stream",
     "text": [
      "\u001b[32m2023-11-05 03:30:21.823\u001b[0m | \u001b[1mINFO    \u001b[0m | \u001b[36mutils.validation\u001b[0m:\u001b[36mcross_validate\u001b[0m:\u001b[36m109\u001b[0m - \u001b[1mFold 1: 5.8606 (took 1176.00s)\u001b[0m\n",
      "\u001b[32m2023-11-05 03:30:21.833\u001b[0m | \u001b[1mINFO    \u001b[0m | \u001b[36mutils.validation\u001b[0m:\u001b[36mcross_validate\u001b[0m:\u001b[36m116\u001b[0m - \u001b[1m------------------------------\u001b[0m\n",
      "\u001b[32m2023-11-05 03:30:21.837\u001b[0m | \u001b[32m\u001b[1mSUCCESS \u001b[0m | \u001b[36mutils.validation\u001b[0m:\u001b[36mcross_validate\u001b[0m:\u001b[36m117\u001b[0m - \u001b[32m\u001b[1mAverage MAE = 5.8606 ± 0.00\u001b[0m\n",
      "\u001b[32m2023-11-05 03:30:21.838\u001b[0m | \u001b[1mINFO    \u001b[0m | \u001b[36mutils.validation\u001b[0m:\u001b[36mcross_validate\u001b[0m:\u001b[36m118\u001b[0m - \u001b[1m==============================\u001b[0m\n",
      "Best trial: 18. Best value: 5.84552:  52%|█████▏    | 26/50 [1:35:11<1:39:43, 249.33s/it]\u001b[32m2023-11-05 03:30:22.234\u001b[0m | \u001b[1mINFO    \u001b[0m | \u001b[36mutils.validation\u001b[0m:\u001b[36mcross_validate\u001b[0m:\u001b[36m81\u001b[0m - \u001b[1mStarting evaluation...\u001b[0m\n",
      "\u001b[32m2023-11-05 03:30:22.234\u001b[0m | \u001b[1mINFO    \u001b[0m | \u001b[36mutils.validation\u001b[0m:\u001b[36mcross_validate\u001b[0m:\u001b[36m82\u001b[0m - \u001b[1m==============================\u001b[0m\n"
     ]
    },
    {
     "name": "stdout",
     "output_type": "stream",
     "text": [
      "[W 2023-11-05 03:30:22,136] The parameter 'num_leaves' in trial#29 is sampled independently by using `RandomSampler` instead of `CmaEsSampler` (optimization performance may be degraded). `CmaEsSampler` does not support dynamic search space or `CategoricalDistribution`. You can suppress this warning by setting `warn_independent_sampling` to `False` in the constructor of `CmaEsSampler`, if this independent sampling is intended behavior.\n"
     ]
    },
    {
     "name": "stderr",
     "output_type": "stream",
     "text": [
      "\u001b[32m2023-11-05 03:32:38.844\u001b[0m | \u001b[1mINFO    \u001b[0m | \u001b[36mutils.validation\u001b[0m:\u001b[36mcross_validate\u001b[0m:\u001b[36m109\u001b[0m - \u001b[1mFold 1: 5.8531 (took 823.97s)\u001b[0m\n",
      "\u001b[32m2023-11-05 03:32:38.864\u001b[0m | \u001b[1mINFO    \u001b[0m | \u001b[36mutils.validation\u001b[0m:\u001b[36mcross_validate\u001b[0m:\u001b[36m116\u001b[0m - \u001b[1m------------------------------\u001b[0m\n",
      "\u001b[32m2023-11-05 03:32:38.871\u001b[0m | \u001b[32m\u001b[1mSUCCESS \u001b[0m | \u001b[36mutils.validation\u001b[0m:\u001b[36mcross_validate\u001b[0m:\u001b[36m117\u001b[0m - \u001b[32m\u001b[1mAverage MAE = 5.8531 ± 0.00\u001b[0m\n",
      "\u001b[32m2023-11-05 03:32:38.872\u001b[0m | \u001b[1mINFO    \u001b[0m | \u001b[36mutils.validation\u001b[0m:\u001b[36mcross_validate\u001b[0m:\u001b[36m118\u001b[0m - \u001b[1m==============================\u001b[0m\n",
      "Best trial: 18. Best value: 5.84552:  54%|█████▍    | 27/50 [1:37:28<1:22:40, 215.67s/it]"
     ]
    },
    {
     "name": "stdout",
     "output_type": "stream",
     "text": [
      "[W 2023-11-05 03:32:39,663] The parameter 'num_leaves' in trial#30 is sampled independently by using `RandomSampler` instead of `CmaEsSampler` (optimization performance may be degraded). `CmaEsSampler` does not support dynamic search space or `CategoricalDistribution`. You can suppress this warning by setting `warn_independent_sampling` to `False` in the constructor of `CmaEsSampler`, if this independent sampling is intended behavior.\n"
     ]
    },
    {
     "name": "stderr",
     "output_type": "stream",
     "text": [
      "\u001b[32m2023-11-05 03:32:40.108\u001b[0m | \u001b[1mINFO    \u001b[0m | \u001b[36mutils.validation\u001b[0m:\u001b[36mcross_validate\u001b[0m:\u001b[36m81\u001b[0m - \u001b[1mStarting evaluation...\u001b[0m\n",
      "\u001b[32m2023-11-05 03:32:40.115\u001b[0m | \u001b[1mINFO    \u001b[0m | \u001b[36mutils.validation\u001b[0m:\u001b[36mcross_validate\u001b[0m:\u001b[36m82\u001b[0m - \u001b[1m==============================\u001b[0m\n",
      "\u001b[32m2023-11-05 03:34:33.102\u001b[0m | \u001b[1mINFO    \u001b[0m | \u001b[36mutils.validation\u001b[0m:\u001b[36mcross_validate\u001b[0m:\u001b[36m109\u001b[0m - \u001b[1mFold 1: 5.8482 (took 811.54s)\u001b[0m\n",
      "\u001b[32m2023-11-05 03:34:33.122\u001b[0m | \u001b[1mINFO    \u001b[0m | \u001b[36mutils.validation\u001b[0m:\u001b[36mcross_validate\u001b[0m:\u001b[36m116\u001b[0m - \u001b[1m------------------------------\u001b[0m\n",
      "\u001b[32m2023-11-05 03:34:33.124\u001b[0m | \u001b[32m\u001b[1mSUCCESS \u001b[0m | \u001b[36mutils.validation\u001b[0m:\u001b[36mcross_validate\u001b[0m:\u001b[36m117\u001b[0m - \u001b[32m\u001b[1mAverage MAE = 5.8482 ± 0.00\u001b[0m\n",
      "\u001b[32m2023-11-05 03:34:33.125\u001b[0m | \u001b[1mINFO    \u001b[0m | \u001b[36mutils.validation\u001b[0m:\u001b[36mcross_validate\u001b[0m:\u001b[36m118\u001b[0m - \u001b[1m==============================\u001b[0m\n",
      "Best trial: 18. Best value: 5.84552:  56%|█████▌    | 28/50 [1:39:22<1:07:55, 185.25s/it]\u001b[32m2023-11-05 03:34:33.778\u001b[0m | \u001b[1mINFO    \u001b[0m | \u001b[36mutils.validation\u001b[0m:\u001b[36mcross_validate\u001b[0m:\u001b[36m81\u001b[0m - \u001b[1mStarting evaluation...\u001b[0m\n",
      "\u001b[32m2023-11-05 03:34:33.778\u001b[0m | \u001b[1mINFO    \u001b[0m | \u001b[36mutils.validation\u001b[0m:\u001b[36mcross_validate\u001b[0m:\u001b[36m82\u001b[0m - \u001b[1m==============================\u001b[0m\n"
     ]
    },
    {
     "name": "stdout",
     "output_type": "stream",
     "text": [
      "[W 2023-11-05 03:34:33,662] The parameter 'num_leaves' in trial#31 is sampled independently by using `RandomSampler` instead of `CmaEsSampler` (optimization performance may be degraded). `CmaEsSampler` does not support dynamic search space or `CategoricalDistribution`. You can suppress this warning by setting `warn_independent_sampling` to `False` in the constructor of `CmaEsSampler`, if this independent sampling is intended behavior.\n"
     ]
    },
    {
     "name": "stderr",
     "output_type": "stream",
     "text": [
      "\u001b[32m2023-11-05 03:39:07.763\u001b[0m | \u001b[1mINFO    \u001b[0m | \u001b[36mutils.validation\u001b[0m:\u001b[36mcross_validate\u001b[0m:\u001b[36m109\u001b[0m - \u001b[1mFold 1: 5.8469 (took 736.84s)\u001b[0m\n",
      "\u001b[32m2023-11-05 03:39:07.785\u001b[0m | \u001b[1mINFO    \u001b[0m | \u001b[36mutils.validation\u001b[0m:\u001b[36mcross_validate\u001b[0m:\u001b[36m116\u001b[0m - \u001b[1m------------------------------\u001b[0m\n",
      "\u001b[32m2023-11-05 03:39:07.785\u001b[0m | \u001b[32m\u001b[1mSUCCESS \u001b[0m | \u001b[36mutils.validation\u001b[0m:\u001b[36mcross_validate\u001b[0m:\u001b[36m117\u001b[0m - \u001b[32m\u001b[1mAverage MAE = 5.8469 ± 0.00\u001b[0m\n",
      "\u001b[32m2023-11-05 03:39:07.785\u001b[0m | \u001b[1mINFO    \u001b[0m | \u001b[36mutils.validation\u001b[0m:\u001b[36mcross_validate\u001b[0m:\u001b[36m118\u001b[0m - \u001b[1m==============================\u001b[0m\n",
      "Best trial: 18. Best value: 5.84552:  58%|█████▊    | 29/50 [1:43:57<1:14:13, 212.06s/it]\u001b[32m2023-11-05 03:39:08.348\u001b[0m | \u001b[1mINFO    \u001b[0m | \u001b[36mutils.validation\u001b[0m:\u001b[36mcross_validate\u001b[0m:\u001b[36m81\u001b[0m - \u001b[1mStarting evaluation...\u001b[0m\n",
      "\u001b[32m2023-11-05 03:39:08.348\u001b[0m | \u001b[1mINFO    \u001b[0m | \u001b[36mutils.validation\u001b[0m:\u001b[36mcross_validate\u001b[0m:\u001b[36m82\u001b[0m - \u001b[1m==============================\u001b[0m\n"
     ]
    },
    {
     "name": "stdout",
     "output_type": "stream",
     "text": [
      "[W 2023-11-05 03:39:08,245] The parameter 'num_leaves' in trial#32 is sampled independently by using `RandomSampler` instead of `CmaEsSampler` (optimization performance may be degraded). `CmaEsSampler` does not support dynamic search space or `CategoricalDistribution`. You can suppress this warning by setting `warn_independent_sampling` to `False` in the constructor of `CmaEsSampler`, if this independent sampling is intended behavior.\n"
     ]
    },
    {
     "name": "stderr",
     "output_type": "stream",
     "text": [
      "\u001b[32m2023-11-05 03:41:49.576\u001b[0m | \u001b[1mINFO    \u001b[0m | \u001b[36mutils.validation\u001b[0m:\u001b[36mcross_validate\u001b[0m:\u001b[36m109\u001b[0m - \u001b[1mFold 1: 5.8490 (took 408.73s)\u001b[0m\n",
      "\u001b[32m2023-11-05 03:41:49.612\u001b[0m | \u001b[1mINFO    \u001b[0m | \u001b[36mutils.validation\u001b[0m:\u001b[36mcross_validate\u001b[0m:\u001b[36m116\u001b[0m - \u001b[1m------------------------------\u001b[0m\n",
      "\u001b[32m2023-11-05 03:41:49.614\u001b[0m | \u001b[32m\u001b[1mSUCCESS \u001b[0m | \u001b[36mutils.validation\u001b[0m:\u001b[36mcross_validate\u001b[0m:\u001b[36m117\u001b[0m - \u001b[32m\u001b[1mAverage MAE = 5.8490 ± 0.00\u001b[0m\n",
      "\u001b[32m2023-11-05 03:41:49.615\u001b[0m | \u001b[1mINFO    \u001b[0m | \u001b[36mutils.validation\u001b[0m:\u001b[36mcross_validate\u001b[0m:\u001b[36m118\u001b[0m - \u001b[1m==============================\u001b[0m\n",
      "Best trial: 18. Best value: 5.84552:  60%|██████    | 30/50 [1:46:39<1:05:40, 197.00s/it]\u001b[32m2023-11-05 03:41:50.218\u001b[0m | \u001b[1mINFO    \u001b[0m | \u001b[36mutils.validation\u001b[0m:\u001b[36mcross_validate\u001b[0m:\u001b[36m81\u001b[0m - \u001b[1mStarting evaluation...\u001b[0m\n",
      "\u001b[32m2023-11-05 03:41:50.219\u001b[0m | \u001b[1mINFO    \u001b[0m | \u001b[36mutils.validation\u001b[0m:\u001b[36mcross_validate\u001b[0m:\u001b[36m82\u001b[0m - \u001b[1m==============================\u001b[0m\n"
     ]
    },
    {
     "name": "stdout",
     "output_type": "stream",
     "text": [
      "[W 2023-11-05 03:41:50,101] The parameter 'num_leaves' in trial#33 is sampled independently by using `RandomSampler` instead of `CmaEsSampler` (optimization performance may be degraded). `CmaEsSampler` does not support dynamic search space or `CategoricalDistribution`. You can suppress this warning by setting `warn_independent_sampling` to `False` in the constructor of `CmaEsSampler`, if this independent sampling is intended behavior.\n"
     ]
    },
    {
     "name": "stderr",
     "output_type": "stream",
     "text": [
      "\u001b[32m2023-11-05 03:44:45.154\u001b[0m | \u001b[1mINFO    \u001b[0m | \u001b[36mutils.validation\u001b[0m:\u001b[36mcross_validate\u001b[0m:\u001b[36m109\u001b[0m - \u001b[1mFold 1: 5.8485 (took 828.27s)\u001b[0m\n",
      "\u001b[32m2023-11-05 03:44:45.177\u001b[0m | \u001b[1mINFO    \u001b[0m | \u001b[36mutils.validation\u001b[0m:\u001b[36mcross_validate\u001b[0m:\u001b[36m116\u001b[0m - \u001b[1m------------------------------\u001b[0m\n",
      "\u001b[32m2023-11-05 03:44:45.179\u001b[0m | \u001b[32m\u001b[1mSUCCESS \u001b[0m | \u001b[36mutils.validation\u001b[0m:\u001b[36mcross_validate\u001b[0m:\u001b[36m117\u001b[0m - \u001b[32m\u001b[1mAverage MAE = 5.8485 ± 0.00\u001b[0m\n",
      "\u001b[32m2023-11-05 03:44:45.180\u001b[0m | \u001b[1mINFO    \u001b[0m | \u001b[36mutils.validation\u001b[0m:\u001b[36mcross_validate\u001b[0m:\u001b[36m118\u001b[0m - \u001b[1m==============================\u001b[0m\n",
      "Best trial: 18. Best value: 5.84552:  62%|██████▏   | 31/50 [1:49:34<1:00:20, 190.57s/it]\u001b[32m2023-11-05 03:44:45.756\u001b[0m | \u001b[1mINFO    \u001b[0m | \u001b[36mutils.validation\u001b[0m:\u001b[36mcross_validate\u001b[0m:\u001b[36m81\u001b[0m - \u001b[1mStarting evaluation...\u001b[0m\n",
      "\u001b[32m2023-11-05 03:44:45.756\u001b[0m | \u001b[1mINFO    \u001b[0m | \u001b[36mutils.validation\u001b[0m:\u001b[36mcross_validate\u001b[0m:\u001b[36m82\u001b[0m - \u001b[1m==============================\u001b[0m\n"
     ]
    },
    {
     "name": "stdout",
     "output_type": "stream",
     "text": [
      "[W 2023-11-05 03:44:45,646] The parameter 'num_leaves' in trial#34 is sampled independently by using `RandomSampler` instead of `CmaEsSampler` (optimization performance may be degraded). `CmaEsSampler` does not support dynamic search space or `CategoricalDistribution`. You can suppress this warning by setting `warn_independent_sampling` to `False` in the constructor of `CmaEsSampler`, if this independent sampling is intended behavior.\n"
     ]
    },
    {
     "name": "stderr",
     "output_type": "stream",
     "text": [
      "\u001b[32m2023-11-05 03:48:15.534\u001b[0m | \u001b[1mINFO    \u001b[0m | \u001b[36mutils.validation\u001b[0m:\u001b[36mcross_validate\u001b[0m:\u001b[36m109\u001b[0m - \u001b[1mFold 1: 5.8530 (took 901.42s)\u001b[0m\n",
      "\u001b[32m2023-11-05 03:48:15.561\u001b[0m | \u001b[1mINFO    \u001b[0m | \u001b[36mutils.validation\u001b[0m:\u001b[36mcross_validate\u001b[0m:\u001b[36m116\u001b[0m - \u001b[1m------------------------------\u001b[0m\n",
      "\u001b[32m2023-11-05 03:48:15.563\u001b[0m | \u001b[32m\u001b[1mSUCCESS \u001b[0m | \u001b[36mutils.validation\u001b[0m:\u001b[36mcross_validate\u001b[0m:\u001b[36m117\u001b[0m - \u001b[32m\u001b[1mAverage MAE = 5.8530 ± 0.00\u001b[0m\n",
      "\u001b[32m2023-11-05 03:48:15.564\u001b[0m | \u001b[1mINFO    \u001b[0m | \u001b[36mutils.validation\u001b[0m:\u001b[36mcross_validate\u001b[0m:\u001b[36m118\u001b[0m - \u001b[1m==============================\u001b[0m\n",
      "Best trial: 18. Best value: 5.84552:  64%|██████▍   | 32/50 [1:53:04<58:57, 196.51s/it]  \u001b[32m2023-11-05 03:48:16.123\u001b[0m | \u001b[1mINFO    \u001b[0m | \u001b[36mutils.validation\u001b[0m:\u001b[36mcross_validate\u001b[0m:\u001b[36m81\u001b[0m - \u001b[1mStarting evaluation...\u001b[0m\n",
      "\u001b[32m2023-11-05 03:48:16.123\u001b[0m | \u001b[1mINFO    \u001b[0m | \u001b[36mutils.validation\u001b[0m:\u001b[36mcross_validate\u001b[0m:\u001b[36m82\u001b[0m - \u001b[1m==============================\u001b[0m\n"
     ]
    },
    {
     "name": "stdout",
     "output_type": "stream",
     "text": [
      "[W 2023-11-05 03:48:16,019] The parameter 'num_leaves' in trial#35 is sampled independently by using `RandomSampler` instead of `CmaEsSampler` (optimization performance may be degraded). `CmaEsSampler` does not support dynamic search space or `CategoricalDistribution`. You can suppress this warning by setting `warn_independent_sampling` to `False` in the constructor of `CmaEsSampler`, if this independent sampling is intended behavior.\n"
     ]
    },
    {
     "name": "stderr",
     "output_type": "stream",
     "text": [
      "\u001b[32m2023-11-05 03:53:45.734\u001b[0m | \u001b[1mINFO    \u001b[0m | \u001b[36mutils.validation\u001b[0m:\u001b[36mcross_validate\u001b[0m:\u001b[36m109\u001b[0m - \u001b[1mFold 1: 5.8454 (took 818.18s)\u001b[0m\n",
      "\u001b[32m2023-11-05 03:53:45.760\u001b[0m | \u001b[1mINFO    \u001b[0m | \u001b[36mutils.validation\u001b[0m:\u001b[36mcross_validate\u001b[0m:\u001b[36m116\u001b[0m - \u001b[1m------------------------------\u001b[0m\n",
      "\u001b[32m2023-11-05 03:53:45.762\u001b[0m | \u001b[32m\u001b[1mSUCCESS \u001b[0m | \u001b[36mutils.validation\u001b[0m:\u001b[36mcross_validate\u001b[0m:\u001b[36m117\u001b[0m - \u001b[32m\u001b[1mAverage MAE = 5.8454 ± 0.00\u001b[0m\n",
      "\u001b[32m2023-11-05 03:53:45.763\u001b[0m | \u001b[1mINFO    \u001b[0m | \u001b[36mutils.validation\u001b[0m:\u001b[36mcross_validate\u001b[0m:\u001b[36m118\u001b[0m - \u001b[1m==============================\u001b[0m\n",
      "Best trial: 32. Best value: 5.84542:  66%|██████▌   | 33/50 [1:58:35<1:07:02, 236.62s/it]\u001b[32m2023-11-05 03:53:46.355\u001b[0m | \u001b[1mINFO    \u001b[0m | \u001b[36mutils.validation\u001b[0m:\u001b[36mcross_validate\u001b[0m:\u001b[36m81\u001b[0m - \u001b[1mStarting evaluation...\u001b[0m\n",
      "\u001b[32m2023-11-05 03:53:46.355\u001b[0m | \u001b[1mINFO    \u001b[0m | \u001b[36mutils.validation\u001b[0m:\u001b[36mcross_validate\u001b[0m:\u001b[36m82\u001b[0m - \u001b[1m==============================\u001b[0m\n"
     ]
    },
    {
     "name": "stdout",
     "output_type": "stream",
     "text": [
      "[W 2023-11-05 03:53:46,240] The parameter 'num_leaves' in trial#36 is sampled independently by using `RandomSampler` instead of `CmaEsSampler` (optimization performance may be degraded). `CmaEsSampler` does not support dynamic search space or `CategoricalDistribution`. You can suppress this warning by setting `warn_independent_sampling` to `False` in the constructor of `CmaEsSampler`, if this independent sampling is intended behavior.\n"
     ]
    },
    {
     "name": "stderr",
     "output_type": "stream",
     "text": [
      "\u001b[32m2023-11-05 03:53:49.257\u001b[0m | \u001b[1mINFO    \u001b[0m | \u001b[36mutils.validation\u001b[0m:\u001b[36mcross_validate\u001b[0m:\u001b[36m109\u001b[0m - \u001b[1mFold 1: 5.8511 (took 514.17s)\u001b[0m\n",
      "\u001b[32m2023-11-05 03:53:49.257\u001b[0m | \u001b[1mINFO    \u001b[0m | \u001b[36mutils.validation\u001b[0m:\u001b[36mcross_validate\u001b[0m:\u001b[36m116\u001b[0m - \u001b[1m------------------------------\u001b[0m\n",
      "\u001b[32m2023-11-05 03:53:49.257\u001b[0m | \u001b[32m\u001b[1mSUCCESS \u001b[0m | \u001b[36mutils.validation\u001b[0m:\u001b[36mcross_validate\u001b[0m:\u001b[36m117\u001b[0m - \u001b[32m\u001b[1mAverage MAE = 5.8511 ± 0.00\u001b[0m\n",
      "\u001b[32m2023-11-05 03:53:49.261\u001b[0m | \u001b[1mINFO    \u001b[0m | \u001b[36mutils.validation\u001b[0m:\u001b[36mcross_validate\u001b[0m:\u001b[36m118\u001b[0m - \u001b[1m==============================\u001b[0m\n",
      "Best trial: 32. Best value: 5.84542:  68%|██████▊   | 34/50 [1:58:38<44:26, 166.64s/it]  \u001b[32m2023-11-05 03:53:49.664\u001b[0m | \u001b[1mINFO    \u001b[0m | \u001b[36mutils.validation\u001b[0m:\u001b[36mcross_validate\u001b[0m:\u001b[36m81\u001b[0m - \u001b[1mStarting evaluation...\u001b[0m\n",
      "\u001b[32m2023-11-05 03:53:49.664\u001b[0m | \u001b[1mINFO    \u001b[0m | \u001b[36mutils.validation\u001b[0m:\u001b[36mcross_validate\u001b[0m:\u001b[36m82\u001b[0m - \u001b[1m==============================\u001b[0m\n"
     ]
    },
    {
     "name": "stdout",
     "output_type": "stream",
     "text": [
      "[W 2023-11-05 03:53:49,552] The parameter 'num_leaves' in trial#37 is sampled independently by using `RandomSampler` instead of `CmaEsSampler` (optimization performance may be degraded). `CmaEsSampler` does not support dynamic search space or `CategoricalDistribution`. You can suppress this warning by setting `warn_independent_sampling` to `False` in the constructor of `CmaEsSampler`, if this independent sampling is intended behavior.\n"
     ]
    },
    {
     "name": "stderr",
     "output_type": "stream",
     "text": [
      "\u001b[32m2023-11-05 04:02:24.993\u001b[0m | \u001b[1mINFO    \u001b[0m | \u001b[36mutils.validation\u001b[0m:\u001b[36mcross_validate\u001b[0m:\u001b[36m109\u001b[0m - \u001b[1mFold 1: 5.8463 (took 1163.27s)\u001b[0m\n",
      "\u001b[32m2023-11-05 04:02:25.020\u001b[0m | \u001b[1mINFO    \u001b[0m | \u001b[36mutils.validation\u001b[0m:\u001b[36mcross_validate\u001b[0m:\u001b[36m116\u001b[0m - \u001b[1m------------------------------\u001b[0m\n",
      "\u001b[32m2023-11-05 04:02:25.023\u001b[0m | \u001b[32m\u001b[1mSUCCESS \u001b[0m | \u001b[36mutils.validation\u001b[0m:\u001b[36mcross_validate\u001b[0m:\u001b[36m117\u001b[0m - \u001b[32m\u001b[1mAverage MAE = 5.8463 ± 0.00\u001b[0m\n",
      "\u001b[32m2023-11-05 04:02:25.023\u001b[0m | \u001b[1mINFO    \u001b[0m | \u001b[36mutils.validation\u001b[0m:\u001b[36mcross_validate\u001b[0m:\u001b[36m118\u001b[0m - \u001b[1m==============================\u001b[0m\n",
      "Best trial: 32. Best value: 5.84542:  70%|███████   | 35/50 [2:07:14<1:07:51, 271.43s/it]\u001b[32m2023-11-05 04:02:25.619\u001b[0m | \u001b[1mINFO    \u001b[0m | \u001b[36mutils.validation\u001b[0m:\u001b[36mcross_validate\u001b[0m:\u001b[36m81\u001b[0m - \u001b[1mStarting evaluation...\u001b[0m\n",
      "\u001b[32m2023-11-05 04:02:25.620\u001b[0m | \u001b[1mINFO    \u001b[0m | \u001b[36mutils.validation\u001b[0m:\u001b[36mcross_validate\u001b[0m:\u001b[36m82\u001b[0m - \u001b[1m==============================\u001b[0m\n"
     ]
    },
    {
     "name": "stdout",
     "output_type": "stream",
     "text": [
      "[W 2023-11-05 04:02:25,523] The parameter 'num_leaves' in trial#38 is sampled independently by using `RandomSampler` instead of `CmaEsSampler` (optimization performance may be degraded). `CmaEsSampler` does not support dynamic search space or `CategoricalDistribution`. You can suppress this warning by setting `warn_independent_sampling` to `False` in the constructor of `CmaEsSampler`, if this independent sampling is intended behavior.\n"
     ]
    },
    {
     "name": "stderr",
     "output_type": "stream",
     "text": [
      "\u001b[32m2023-11-05 04:06:20.380\u001b[0m | \u001b[1mINFO    \u001b[0m | \u001b[36mutils.validation\u001b[0m:\u001b[36mcross_validate\u001b[0m:\u001b[36m109\u001b[0m - \u001b[1mFold 1: 5.8512 (took 719.14s)\u001b[0m\n",
      "\u001b[32m2023-11-05 04:06:20.406\u001b[0m | \u001b[1mINFO    \u001b[0m | \u001b[36mutils.validation\u001b[0m:\u001b[36mcross_validate\u001b[0m:\u001b[36m116\u001b[0m - \u001b[1m------------------------------\u001b[0m\n",
      "\u001b[32m2023-11-05 04:06:20.407\u001b[0m | \u001b[32m\u001b[1mSUCCESS \u001b[0m | \u001b[36mutils.validation\u001b[0m:\u001b[36mcross_validate\u001b[0m:\u001b[36m117\u001b[0m - \u001b[32m\u001b[1mAverage MAE = 5.8512 ± 0.00\u001b[0m\n",
      "\u001b[32m2023-11-05 04:06:20.407\u001b[0m | \u001b[1mINFO    \u001b[0m | \u001b[36mutils.validation\u001b[0m:\u001b[36mcross_validate\u001b[0m:\u001b[36m118\u001b[0m - \u001b[1m==============================\u001b[0m\n",
      "Best trial: 32. Best value: 5.84542:  72%|███████▏  | 36/50 [2:11:09<1:00:48, 260.62s/it]\u001b[32m2023-11-05 04:06:21.033\u001b[0m | \u001b[1mINFO    \u001b[0m | \u001b[36mutils.validation\u001b[0m:\u001b[36mcross_validate\u001b[0m:\u001b[36m81\u001b[0m - \u001b[1mStarting evaluation...\u001b[0m\n",
      "\u001b[32m2023-11-05 04:06:21.033\u001b[0m | \u001b[1mINFO    \u001b[0m | \u001b[36mutils.validation\u001b[0m:\u001b[36mcross_validate\u001b[0m:\u001b[36m82\u001b[0m - \u001b[1m==============================\u001b[0m\n"
     ]
    },
    {
     "name": "stdout",
     "output_type": "stream",
     "text": [
      "[W 2023-11-05 04:06:20,920] The parameter 'num_leaves' in trial#39 is sampled independently by using `RandomSampler` instead of `CmaEsSampler` (optimization performance may be degraded). `CmaEsSampler` does not support dynamic search space or `CategoricalDistribution`. You can suppress this warning by setting `warn_independent_sampling` to `False` in the constructor of `CmaEsSampler`, if this independent sampling is intended behavior.\n"
     ]
    },
    {
     "name": "stderr",
     "output_type": "stream",
     "text": [
      "\u001b[32m2023-11-05 04:10:15.135\u001b[0m | \u001b[1mINFO    \u001b[0m | \u001b[36mutils.validation\u001b[0m:\u001b[36mcross_validate\u001b[0m:\u001b[36m109\u001b[0m - \u001b[1mFold 1: 5.8461 (took 1209.23s)\u001b[0m\n",
      "\u001b[32m2023-11-05 04:10:15.136\u001b[0m | \u001b[1mINFO    \u001b[0m | \u001b[36mutils.validation\u001b[0m:\u001b[36mcross_validate\u001b[0m:\u001b[36m116\u001b[0m - \u001b[1m------------------------------\u001b[0m\n",
      "\u001b[32m2023-11-05 04:10:15.136\u001b[0m | \u001b[32m\u001b[1mSUCCESS \u001b[0m | \u001b[36mutils.validation\u001b[0m:\u001b[36mcross_validate\u001b[0m:\u001b[36m117\u001b[0m - \u001b[32m\u001b[1mAverage MAE = 5.8461 ± 0.00\u001b[0m\n",
      "\u001b[32m2023-11-05 04:10:15.136\u001b[0m | \u001b[1mINFO    \u001b[0m | \u001b[36mutils.validation\u001b[0m:\u001b[36mcross_validate\u001b[0m:\u001b[36m118\u001b[0m - \u001b[1m==============================\u001b[0m\n",
      "Best trial: 32. Best value: 5.84542:  74%|███████▍  | 37/50 [2:15:04<54:46, 252.81s/it]  \u001b[32m2023-11-05 04:10:15.602\u001b[0m | \u001b[1mINFO    \u001b[0m | \u001b[36mutils.validation\u001b[0m:\u001b[36mcross_validate\u001b[0m:\u001b[36m81\u001b[0m - \u001b[1mStarting evaluation...\u001b[0m\n",
      "\u001b[32m2023-11-05 04:10:15.603\u001b[0m | \u001b[1mINFO    \u001b[0m | \u001b[36mutils.validation\u001b[0m:\u001b[36mcross_validate\u001b[0m:\u001b[36m82\u001b[0m - \u001b[1m==============================\u001b[0m\n"
     ]
    },
    {
     "name": "stdout",
     "output_type": "stream",
     "text": [
      "[W 2023-11-05 04:10:15,483] The parameter 'num_leaves' in trial#40 is sampled independently by using `RandomSampler` instead of `CmaEsSampler` (optimization performance may be degraded). `CmaEsSampler` does not support dynamic search space or `CategoricalDistribution`. You can suppress this warning by setting `warn_independent_sampling` to `False` in the constructor of `CmaEsSampler`, if this independent sampling is intended behavior.\n"
     ]
    },
    {
     "name": "stderr",
     "output_type": "stream",
     "text": [
      "\u001b[32m2023-11-05 04:13:26.094\u001b[0m | \u001b[1mINFO    \u001b[0m | \u001b[36mutils.validation\u001b[0m:\u001b[36mcross_validate\u001b[0m:\u001b[36m109\u001b[0m - \u001b[1mFold 1: 5.8450 (took 1104.91s)\u001b[0m\n",
      "\u001b[32m2023-11-05 04:13:26.115\u001b[0m | \u001b[1mINFO    \u001b[0m | \u001b[36mutils.validation\u001b[0m:\u001b[36mcross_validate\u001b[0m:\u001b[36m116\u001b[0m - \u001b[1m------------------------------\u001b[0m\n",
      "\u001b[32m2023-11-05 04:13:26.117\u001b[0m | \u001b[32m\u001b[1mSUCCESS \u001b[0m | \u001b[36mutils.validation\u001b[0m:\u001b[36mcross_validate\u001b[0m:\u001b[36m117\u001b[0m - \u001b[32m\u001b[1mAverage MAE = 5.8450 ± 0.00\u001b[0m\n",
      "\u001b[32m2023-11-05 04:13:26.118\u001b[0m | \u001b[1mINFO    \u001b[0m | \u001b[36mutils.validation\u001b[0m:\u001b[36mcross_validate\u001b[0m:\u001b[36m118\u001b[0m - \u001b[1m==============================\u001b[0m\n",
      "Best trial: 37. Best value: 5.84497:  76%|███████▌  | 38/50 [2:18:15<46:51, 234.29s/it]"
     ]
    },
    {
     "name": "stdout",
     "output_type": "stream",
     "text": [
      "[W 2023-11-05 04:13:26,744] The parameter 'num_leaves' in trial#41 is sampled independently by using `RandomSampler` instead of `CmaEsSampler` (optimization performance may be degraded). `CmaEsSampler` does not support dynamic search space or `CategoricalDistribution`. You can suppress this warning by setting `warn_independent_sampling` to `False` in the constructor of `CmaEsSampler`, if this independent sampling is intended behavior.\n"
     ]
    },
    {
     "name": "stderr",
     "output_type": "stream",
     "text": [
      "\u001b[32m2023-11-05 04:13:27.055\u001b[0m | \u001b[1mINFO    \u001b[0m | \u001b[36mutils.validation\u001b[0m:\u001b[36mcross_validate\u001b[0m:\u001b[36m81\u001b[0m - \u001b[1mStarting evaluation...\u001b[0m\n",
      "\u001b[32m2023-11-05 04:13:27.056\u001b[0m | \u001b[1mINFO    \u001b[0m | \u001b[36mutils.validation\u001b[0m:\u001b[36mcross_validate\u001b[0m:\u001b[36m82\u001b[0m - \u001b[1m==============================\u001b[0m\n",
      "\u001b[32m2023-11-05 04:20:26.924\u001b[0m | \u001b[1mINFO    \u001b[0m | \u001b[36mutils.validation\u001b[0m:\u001b[36mcross_validate\u001b[0m:\u001b[36m109\u001b[0m - \u001b[1mFold 1: 5.8497 (took 393.33s)\u001b[0m\n",
      "\u001b[32m2023-11-05 04:20:26.946\u001b[0m | \u001b[1mINFO    \u001b[0m | \u001b[36mutils.validation\u001b[0m:\u001b[36mcross_validate\u001b[0m:\u001b[36m116\u001b[0m - \u001b[1m------------------------------\u001b[0m\n",
      "\u001b[32m2023-11-05 04:20:26.946\u001b[0m | \u001b[32m\u001b[1mSUCCESS \u001b[0m | \u001b[36mutils.validation\u001b[0m:\u001b[36mcross_validate\u001b[0m:\u001b[36m117\u001b[0m - \u001b[32m\u001b[1mAverage MAE = 5.8497 ± 0.00\u001b[0m\n",
      "\u001b[32m2023-11-05 04:20:26.946\u001b[0m | \u001b[1mINFO    \u001b[0m | \u001b[36mutils.validation\u001b[0m:\u001b[36mcross_validate\u001b[0m:\u001b[36m118\u001b[0m - \u001b[1m==============================\u001b[0m\n",
      "Best trial: 37. Best value: 5.84497:  78%|███████▊  | 39/50 [2:25:16<53:12, 290.27s/it]\u001b[32m2023-11-05 04:20:27.577\u001b[0m | \u001b[1mINFO    \u001b[0m | \u001b[36mutils.validation\u001b[0m:\u001b[36mcross_validate\u001b[0m:\u001b[36m81\u001b[0m - \u001b[1mStarting evaluation...\u001b[0m\n",
      "\u001b[32m2023-11-05 04:20:27.578\u001b[0m | \u001b[1mINFO    \u001b[0m | \u001b[36mutils.validation\u001b[0m:\u001b[36mcross_validate\u001b[0m:\u001b[36m82\u001b[0m - \u001b[1m==============================\u001b[0m\n"
     ]
    },
    {
     "name": "stdout",
     "output_type": "stream",
     "text": [
      "[W 2023-11-05 04:20:27,477] The parameter 'num_leaves' in trial#42 is sampled independently by using `RandomSampler` instead of `CmaEsSampler` (optimization performance may be degraded). `CmaEsSampler` does not support dynamic search space or `CategoricalDistribution`. You can suppress this warning by setting `warn_independent_sampling` to `False` in the constructor of `CmaEsSampler`, if this independent sampling is intended behavior.\n"
     ]
    },
    {
     "name": "stderr",
     "output_type": "stream",
     "text": [
      "\u001b[32m2023-11-05 04:21:39.103\u001b[0m | \u001b[1mINFO    \u001b[0m | \u001b[36mutils.validation\u001b[0m:\u001b[36mcross_validate\u001b[0m:\u001b[36m109\u001b[0m - \u001b[1mFold 1: 5.8469 (took 1086.06s)\u001b[0m\n",
      "\u001b[32m2023-11-05 04:21:39.126\u001b[0m | \u001b[1mINFO    \u001b[0m | \u001b[36mutils.validation\u001b[0m:\u001b[36mcross_validate\u001b[0m:\u001b[36m116\u001b[0m - \u001b[1m------------------------------\u001b[0m\n",
      "\u001b[32m2023-11-05 04:21:39.126\u001b[0m | \u001b[32m\u001b[1mSUCCESS \u001b[0m | \u001b[36mutils.validation\u001b[0m:\u001b[36mcross_validate\u001b[0m:\u001b[36m117\u001b[0m - \u001b[32m\u001b[1mAverage MAE = 5.8469 ± 0.00\u001b[0m\n",
      "\u001b[32m2023-11-05 04:21:39.126\u001b[0m | \u001b[1mINFO    \u001b[0m | \u001b[36mutils.validation\u001b[0m:\u001b[36mcross_validate\u001b[0m:\u001b[36m118\u001b[0m - \u001b[1m==============================\u001b[0m\n",
      "Best trial: 37. Best value: 5.84497:  80%|████████  | 40/50 [2:26:28<37:28, 224.84s/it]"
     ]
    },
    {
     "name": "stdout",
     "output_type": "stream",
     "text": [
      "[W 2023-11-05 04:21:39,959] The parameter 'num_leaves' in trial#43 is sampled independently by using `RandomSampler` instead of `CmaEsSampler` (optimization performance may be degraded). `CmaEsSampler` does not support dynamic search space or `CategoricalDistribution`. You can suppress this warning by setting `warn_independent_sampling` to `False` in the constructor of `CmaEsSampler`, if this independent sampling is intended behavior.\n"
     ]
    },
    {
     "name": "stderr",
     "output_type": "stream",
     "text": [
      "\u001b[32m2023-11-05 04:21:40.392\u001b[0m | \u001b[1mINFO    \u001b[0m | \u001b[36mutils.validation\u001b[0m:\u001b[36mcross_validate\u001b[0m:\u001b[36m81\u001b[0m - \u001b[1mStarting evaluation...\u001b[0m\n",
      "\u001b[32m2023-11-05 04:21:40.394\u001b[0m | \u001b[1mINFO    \u001b[0m | \u001b[36mutils.validation\u001b[0m:\u001b[36mcross_validate\u001b[0m:\u001b[36m82\u001b[0m - \u001b[1m==============================\u001b[0m\n",
      "\u001b[32m2023-11-05 04:30:50.277\u001b[0m | \u001b[1mINFO    \u001b[0m | \u001b[36mutils.validation\u001b[0m:\u001b[36mcross_validate\u001b[0m:\u001b[36m109\u001b[0m - \u001b[1mFold 1: 5.8444 (took 1353.01s)\u001b[0m\n",
      "\u001b[32m2023-11-05 04:30:50.301\u001b[0m | \u001b[1mINFO    \u001b[0m | \u001b[36mutils.validation\u001b[0m:\u001b[36mcross_validate\u001b[0m:\u001b[36m116\u001b[0m - \u001b[1m------------------------------\u001b[0m\n",
      "\u001b[32m2023-11-05 04:30:50.303\u001b[0m | \u001b[32m\u001b[1mSUCCESS \u001b[0m | \u001b[36mutils.validation\u001b[0m:\u001b[36mcross_validate\u001b[0m:\u001b[36m117\u001b[0m - \u001b[32m\u001b[1mAverage MAE = 5.8444 ± 0.00\u001b[0m\n",
      "\u001b[32m2023-11-05 04:30:50.304\u001b[0m | \u001b[1mINFO    \u001b[0m | \u001b[36mutils.validation\u001b[0m:\u001b[36mcross_validate\u001b[0m:\u001b[36m118\u001b[0m - \u001b[1m==============================\u001b[0m\n",
      "Best trial: 39. Best value: 5.84439:  82%|████████▏ | 41/50 [2:35:39<48:24, 322.72s/it]\u001b[32m2023-11-05 04:30:50.910\u001b[0m | \u001b[1mINFO    \u001b[0m | \u001b[36mutils.validation\u001b[0m:\u001b[36mcross_validate\u001b[0m:\u001b[36m81\u001b[0m - \u001b[1mStarting evaluation...\u001b[0m\n",
      "\u001b[32m2023-11-05 04:30:50.911\u001b[0m | \u001b[1mINFO    \u001b[0m | \u001b[36mutils.validation\u001b[0m:\u001b[36mcross_validate\u001b[0m:\u001b[36m82\u001b[0m - \u001b[1m==============================\u001b[0m\n"
     ]
    },
    {
     "name": "stdout",
     "output_type": "stream",
     "text": [
      "[W 2023-11-05 04:30:50,793] The parameter 'num_leaves' in trial#44 is sampled independently by using `RandomSampler` instead of `CmaEsSampler` (optimization performance may be degraded). `CmaEsSampler` does not support dynamic search space or `CategoricalDistribution`. You can suppress this warning by setting `warn_independent_sampling` to `False` in the constructor of `CmaEsSampler`, if this independent sampling is intended behavior.\n"
     ]
    },
    {
     "name": "stderr",
     "output_type": "stream",
     "text": [
      "\u001b[32m2023-11-05 04:32:09.387\u001b[0m | \u001b[1mINFO    \u001b[0m | \u001b[36mutils.validation\u001b[0m:\u001b[36mcross_validate\u001b[0m:\u001b[36m109\u001b[0m - \u001b[1mFold 1: 5.8475 (took 1220.00s)\u001b[0m\n",
      "\u001b[32m2023-11-05 04:32:09.408\u001b[0m | \u001b[1mINFO    \u001b[0m | \u001b[36mutils.validation\u001b[0m:\u001b[36mcross_validate\u001b[0m:\u001b[36m116\u001b[0m - \u001b[1m------------------------------\u001b[0m\n",
      "\u001b[32m2023-11-05 04:32:09.408\u001b[0m | \u001b[32m\u001b[1mSUCCESS \u001b[0m | \u001b[36mutils.validation\u001b[0m:\u001b[36mcross_validate\u001b[0m:\u001b[36m117\u001b[0m - \u001b[32m\u001b[1mAverage MAE = 5.8475 ± 0.00\u001b[0m\n",
      "\u001b[32m2023-11-05 04:32:09.415\u001b[0m | \u001b[1mINFO    \u001b[0m | \u001b[36mutils.validation\u001b[0m:\u001b[36mcross_validate\u001b[0m:\u001b[36m118\u001b[0m - \u001b[1m==============================\u001b[0m\n",
      "Best trial: 39. Best value: 5.84439:  84%|████████▍ | 42/50 [2:36:58<33:17, 249.65s/it]\u001b[32m2023-11-05 04:32:10.026\u001b[0m | \u001b[1mINFO    \u001b[0m | \u001b[36mutils.validation\u001b[0m:\u001b[36mcross_validate\u001b[0m:\u001b[36m81\u001b[0m - \u001b[1mStarting evaluation...\u001b[0m\n",
      "\u001b[32m2023-11-05 04:32:10.026\u001b[0m | \u001b[1mINFO    \u001b[0m | \u001b[36mutils.validation\u001b[0m:\u001b[36mcross_validate\u001b[0m:\u001b[36m82\u001b[0m - \u001b[1m==============================\u001b[0m\n"
     ]
    },
    {
     "name": "stdout",
     "output_type": "stream",
     "text": [
      "[W 2023-11-05 04:32:09,919] The parameter 'num_leaves' in trial#45 is sampled independently by using `RandomSampler` instead of `CmaEsSampler` (optimization performance may be degraded). `CmaEsSampler` does not support dynamic search space or `CategoricalDistribution`. You can suppress this warning by setting `warn_independent_sampling` to `False` in the constructor of `CmaEsSampler`, if this independent sampling is intended behavior.\n"
     ]
    },
    {
     "name": "stderr",
     "output_type": "stream",
     "text": [
      "\u001b[32m2023-11-05 04:42:20.662\u001b[0m | \u001b[1mINFO    \u001b[0m | \u001b[36mutils.validation\u001b[0m:\u001b[36mcross_validate\u001b[0m:\u001b[36m109\u001b[0m - \u001b[1mFold 1: 5.8452 (took 1217.30s)\u001b[0m\n",
      "\u001b[32m2023-11-05 04:42:20.683\u001b[0m | \u001b[1mINFO    \u001b[0m | \u001b[36mutils.validation\u001b[0m:\u001b[36mcross_validate\u001b[0m:\u001b[36m116\u001b[0m - \u001b[1m------------------------------\u001b[0m\n",
      "\u001b[32m2023-11-05 04:42:20.683\u001b[0m | \u001b[32m\u001b[1mSUCCESS \u001b[0m | \u001b[36mutils.validation\u001b[0m:\u001b[36mcross_validate\u001b[0m:\u001b[36m117\u001b[0m - \u001b[32m\u001b[1mAverage MAE = 5.8452 ± 0.00\u001b[0m\n",
      "\u001b[32m2023-11-05 04:42:20.690\u001b[0m | \u001b[1mINFO    \u001b[0m | \u001b[36mutils.validation\u001b[0m:\u001b[36mcross_validate\u001b[0m:\u001b[36m118\u001b[0m - \u001b[1m==============================\u001b[0m\n",
      "Best trial: 39. Best value: 5.84439:  86%|████████▌ | 43/50 [2:47:10<41:46, 358.13s/it]\u001b[32m2023-11-05 04:42:21.315\u001b[0m | \u001b[1mINFO    \u001b[0m | \u001b[36mutils.validation\u001b[0m:\u001b[36mcross_validate\u001b[0m:\u001b[36m81\u001b[0m - \u001b[1mStarting evaluation...\u001b[0m\n",
      "\u001b[32m2023-11-05 04:42:21.316\u001b[0m | \u001b[1mINFO    \u001b[0m | \u001b[36mutils.validation\u001b[0m:\u001b[36mcross_validate\u001b[0m:\u001b[36m82\u001b[0m - \u001b[1m==============================\u001b[0m\n"
     ]
    },
    {
     "name": "stdout",
     "output_type": "stream",
     "text": [
      "[W 2023-11-05 04:42:21,203] The parameter 'num_leaves' in trial#46 is sampled independently by using `RandomSampler` instead of `CmaEsSampler` (optimization performance may be degraded). `CmaEsSampler` does not support dynamic search space or `CategoricalDistribution`. You can suppress this warning by setting `warn_independent_sampling` to `False` in the constructor of `CmaEsSampler`, if this independent sampling is intended behavior.\n"
     ]
    },
    {
     "name": "stderr",
     "output_type": "stream",
     "text": [
      "\u001b[32m2023-11-05 04:44:48.352\u001b[0m | \u001b[1mINFO    \u001b[0m | \u001b[36mutils.validation\u001b[0m:\u001b[36mcross_validate\u001b[0m:\u001b[36m109\u001b[0m - \u001b[1mFold 1: 5.8545 (took 1328.81s)\u001b[0m\n",
      "\u001b[32m2023-11-05 04:44:48.374\u001b[0m | \u001b[1mINFO    \u001b[0m | \u001b[36mutils.validation\u001b[0m:\u001b[36mcross_validate\u001b[0m:\u001b[36m116\u001b[0m - \u001b[1m------------------------------\u001b[0m\n",
      "\u001b[32m2023-11-05 04:44:48.377\u001b[0m | \u001b[32m\u001b[1mSUCCESS \u001b[0m | \u001b[36mutils.validation\u001b[0m:\u001b[36mcross_validate\u001b[0m:\u001b[36m117\u001b[0m - \u001b[32m\u001b[1mAverage MAE = 5.8545 ± 0.00\u001b[0m\n",
      "\u001b[32m2023-11-05 04:44:48.378\u001b[0m | \u001b[1mINFO    \u001b[0m | \u001b[36mutils.validation\u001b[0m:\u001b[36mcross_validate\u001b[0m:\u001b[36m118\u001b[0m - \u001b[1m==============================\u001b[0m\n",
      "Best trial: 39. Best value: 5.84439:  88%|████████▊ | 44/50 [2:49:38<29:30, 295.01s/it]"
     ]
    },
    {
     "name": "stdout",
     "output_type": "stream",
     "text": [
      "[W 2023-11-05 04:44:49,162] The parameter 'num_leaves' in trial#47 is sampled independently by using `RandomSampler` instead of `CmaEsSampler` (optimization performance may be degraded). `CmaEsSampler` does not support dynamic search space or `CategoricalDistribution`. You can suppress this warning by setting `warn_independent_sampling` to `False` in the constructor of `CmaEsSampler`, if this independent sampling is intended behavior.\n"
     ]
    },
    {
     "name": "stderr",
     "output_type": "stream",
     "text": [
      "\u001b[32m2023-11-05 04:44:49.585\u001b[0m | \u001b[1mINFO    \u001b[0m | \u001b[36mutils.validation\u001b[0m:\u001b[36mcross_validate\u001b[0m:\u001b[36m81\u001b[0m - \u001b[1mStarting evaluation...\u001b[0m\n",
      "\u001b[32m2023-11-05 04:44:49.585\u001b[0m | \u001b[1mINFO    \u001b[0m | \u001b[36mutils.validation\u001b[0m:\u001b[36mcross_validate\u001b[0m:\u001b[36m82\u001b[0m - \u001b[1m==============================\u001b[0m\n",
      "\u001b[32m2023-11-05 04:49:10.247\u001b[0m | \u001b[1mINFO    \u001b[0m | \u001b[36mutils.validation\u001b[0m:\u001b[36mcross_validate\u001b[0m:\u001b[36m109\u001b[0m - \u001b[1mFold 1: 5.8462 (took 949.43s)\u001b[0m\n",
      "\u001b[32m2023-11-05 04:49:10.277\u001b[0m | \u001b[1mINFO    \u001b[0m | \u001b[36mutils.validation\u001b[0m:\u001b[36mcross_validate\u001b[0m:\u001b[36m116\u001b[0m - \u001b[1m------------------------------\u001b[0m\n",
      "\u001b[32m2023-11-05 04:49:10.279\u001b[0m | \u001b[32m\u001b[1mSUCCESS \u001b[0m | \u001b[36mutils.validation\u001b[0m:\u001b[36mcross_validate\u001b[0m:\u001b[36m117\u001b[0m - \u001b[32m\u001b[1mAverage MAE = 5.8462 ± 0.00\u001b[0m\n",
      "\u001b[32m2023-11-05 04:49:10.280\u001b[0m | \u001b[1mINFO    \u001b[0m | \u001b[36mutils.validation\u001b[0m:\u001b[36mcross_validate\u001b[0m:\u001b[36m118\u001b[0m - \u001b[1m==============================\u001b[0m\n",
      "Best trial: 39. Best value: 5.84439:  90%|█████████ | 45/50 [2:53:59<23:45, 285.06s/it]\u001b[32m2023-11-05 04:49:10.837\u001b[0m | \u001b[1mINFO    \u001b[0m | \u001b[36mutils.validation\u001b[0m:\u001b[36mcross_validate\u001b[0m:\u001b[36m81\u001b[0m - \u001b[1mStarting evaluation...\u001b[0m\n",
      "\u001b[32m2023-11-05 04:49:10.838\u001b[0m | \u001b[1mINFO    \u001b[0m | \u001b[36mutils.validation\u001b[0m:\u001b[36mcross_validate\u001b[0m:\u001b[36m82\u001b[0m - \u001b[1m==============================\u001b[0m\n"
     ]
    },
    {
     "name": "stdout",
     "output_type": "stream",
     "text": [
      "[W 2023-11-05 04:49:10,732] The parameter 'num_leaves' in trial#48 is sampled independently by using `RandomSampler` instead of `CmaEsSampler` (optimization performance may be degraded). `CmaEsSampler` does not support dynamic search space or `CategoricalDistribution`. You can suppress this warning by setting `warn_independent_sampling` to `False` in the constructor of `CmaEsSampler`, if this independent sampling is intended behavior.\n"
     ]
    },
    {
     "name": "stderr",
     "output_type": "stream",
     "text": [
      "\u001b[32m2023-11-05 04:53:57.635\u001b[0m | \u001b[1mINFO    \u001b[0m | \u001b[36mutils.validation\u001b[0m:\u001b[36mcross_validate\u001b[0m:\u001b[36m109\u001b[0m - \u001b[1mFold 1: 5.8467 (took 662.71s)\u001b[0m\n",
      "\u001b[32m2023-11-05 04:53:57.662\u001b[0m | \u001b[1mINFO    \u001b[0m | \u001b[36mutils.validation\u001b[0m:\u001b[36mcross_validate\u001b[0m:\u001b[36m116\u001b[0m - \u001b[1m------------------------------\u001b[0m\n",
      "\u001b[32m2023-11-05 04:53:57.663\u001b[0m | \u001b[32m\u001b[1mSUCCESS \u001b[0m | \u001b[36mutils.validation\u001b[0m:\u001b[36mcross_validate\u001b[0m:\u001b[36m117\u001b[0m - \u001b[32m\u001b[1mAverage MAE = 5.8467 ± 0.00\u001b[0m\n",
      "\u001b[32m2023-11-05 04:53:57.663\u001b[0m | \u001b[1mINFO    \u001b[0m | \u001b[36mutils.validation\u001b[0m:\u001b[36mcross_validate\u001b[0m:\u001b[36m118\u001b[0m - \u001b[1m==============================\u001b[0m\n",
      "Best trial: 39. Best value: 5.84439:  92%|█████████▏| 46/50 [2:58:47<19:03, 285.75s/it]\u001b[32m2023-11-05 04:53:58.203\u001b[0m | \u001b[1mINFO    \u001b[0m | \u001b[36mutils.validation\u001b[0m:\u001b[36mcross_validate\u001b[0m:\u001b[36m81\u001b[0m - \u001b[1mStarting evaluation...\u001b[0m\n",
      "\u001b[32m2023-11-05 04:53:58.203\u001b[0m | \u001b[1mINFO    \u001b[0m | \u001b[36mutils.validation\u001b[0m:\u001b[36mcross_validate\u001b[0m:\u001b[36m82\u001b[0m - \u001b[1m==============================\u001b[0m\n"
     ]
    },
    {
     "name": "stdout",
     "output_type": "stream",
     "text": [
      "[W 2023-11-05 04:53:58,104] The parameter 'num_leaves' in trial#49 is sampled independently by using `RandomSampler` instead of `CmaEsSampler` (optimization performance may be degraded). `CmaEsSampler` does not support dynamic search space or `CategoricalDistribution`. You can suppress this warning by setting `warn_independent_sampling` to `False` in the constructor of `CmaEsSampler`, if this independent sampling is intended behavior.\n"
     ]
    },
    {
     "name": "stderr",
     "output_type": "stream",
     "text": [
      "\u001b[32m2023-11-05 05:00:30.043\u001b[0m | \u001b[1mINFO    \u001b[0m | \u001b[36mutils.validation\u001b[0m:\u001b[36mcross_validate\u001b[0m:\u001b[36m109\u001b[0m - \u001b[1mFold 1: 5.8460 (took 1692.53s)\u001b[0m\n",
      "\u001b[32m2023-11-05 05:00:30.070\u001b[0m | \u001b[1mINFO    \u001b[0m | \u001b[36mutils.validation\u001b[0m:\u001b[36mcross_validate\u001b[0m:\u001b[36m116\u001b[0m - \u001b[1m------------------------------\u001b[0m\n",
      "\u001b[32m2023-11-05 05:00:30.072\u001b[0m | \u001b[32m\u001b[1mSUCCESS \u001b[0m | \u001b[36mutils.validation\u001b[0m:\u001b[36mcross_validate\u001b[0m:\u001b[36m117\u001b[0m - \u001b[32m\u001b[1mAverage MAE = 5.8460 ± 0.00\u001b[0m\n",
      "\u001b[32m2023-11-05 05:00:30.073\u001b[0m | \u001b[1mINFO    \u001b[0m | \u001b[36mutils.validation\u001b[0m:\u001b[36mcross_validate\u001b[0m:\u001b[36m118\u001b[0m - \u001b[1m==============================\u001b[0m\n",
      "Best trial: 39. Best value: 5.84439:  94%|█████████▍| 47/50 [3:05:19<15:53, 317.76s/it]\u001b[32m2023-11-05 05:01:46.744\u001b[0m | \u001b[1mINFO    \u001b[0m | \u001b[36mutils.validation\u001b[0m:\u001b[36mcross_validate\u001b[0m:\u001b[36m109\u001b[0m - \u001b[1mFold 1: 5.8468 (took 957.04s)\u001b[0m\n",
      "\u001b[32m2023-11-05 05:01:46.750\u001b[0m | \u001b[1mINFO    \u001b[0m | \u001b[36mutils.validation\u001b[0m:\u001b[36mcross_validate\u001b[0m:\u001b[36m116\u001b[0m - \u001b[1m------------------------------\u001b[0m\n",
      "\u001b[32m2023-11-05 05:01:46.751\u001b[0m | \u001b[32m\u001b[1mSUCCESS \u001b[0m | \u001b[36mutils.validation\u001b[0m:\u001b[36mcross_validate\u001b[0m:\u001b[36m117\u001b[0m - \u001b[32m\u001b[1mAverage MAE = 5.8468 ± 0.00\u001b[0m\n",
      "\u001b[32m2023-11-05 05:01:46.752\u001b[0m | \u001b[1mINFO    \u001b[0m | \u001b[36mutils.validation\u001b[0m:\u001b[36mcross_validate\u001b[0m:\u001b[36m118\u001b[0m - \u001b[1m==============================\u001b[0m\n",
      "Best trial: 39. Best value: 5.84439:  96%|█████████▌| 48/50 [3:06:35<08:10, 245.40s/it]\u001b[32m2023-11-05 05:07:10.999\u001b[0m | \u001b[1mINFO    \u001b[0m | \u001b[36mutils.validation\u001b[0m:\u001b[36mcross_validate\u001b[0m:\u001b[36m109\u001b[0m - \u001b[1mFold 1: 5.8465 (took 738.85s)\u001b[0m\n",
      "\u001b[32m2023-11-05 05:07:11.013\u001b[0m | \u001b[1mINFO    \u001b[0m | \u001b[36mutils.validation\u001b[0m:\u001b[36mcross_validate\u001b[0m:\u001b[36m116\u001b[0m - \u001b[1m------------------------------\u001b[0m\n",
      "\u001b[32m2023-11-05 05:07:11.014\u001b[0m | \u001b[32m\u001b[1mSUCCESS \u001b[0m | \u001b[36mutils.validation\u001b[0m:\u001b[36mcross_validate\u001b[0m:\u001b[36m117\u001b[0m - \u001b[32m\u001b[1mAverage MAE = 5.8465 ± 0.00\u001b[0m\n",
      "\u001b[32m2023-11-05 05:07:11.015\u001b[0m | \u001b[1mINFO    \u001b[0m | \u001b[36mutils.validation\u001b[0m:\u001b[36mcross_validate\u001b[0m:\u001b[36m118\u001b[0m - \u001b[1m==============================\u001b[0m\n",
      "Best trial: 39. Best value: 5.84439:  98%|█████████▊| 49/50 [3:12:00<04:29, 269.06s/it]\u001b[32m2023-11-05 05:18:12.747\u001b[0m | \u001b[1mINFO    \u001b[0m | \u001b[36mutils.validation\u001b[0m:\u001b[36mcross_validate\u001b[0m:\u001b[36m109\u001b[0m - \u001b[1mFold 1: 5.8449 (took 1639.81s)\u001b[0m\n",
      "\u001b[32m2023-11-05 05:18:12.747\u001b[0m | \u001b[1mINFO    \u001b[0m | \u001b[36mutils.validation\u001b[0m:\u001b[36mcross_validate\u001b[0m:\u001b[36m116\u001b[0m - \u001b[1m------------------------------\u001b[0m\n",
      "\u001b[32m2023-11-05 05:18:12.747\u001b[0m | \u001b[32m\u001b[1mSUCCESS \u001b[0m | \u001b[36mutils.validation\u001b[0m:\u001b[36mcross_validate\u001b[0m:\u001b[36m117\u001b[0m - \u001b[32m\u001b[1mAverage MAE = 5.8449 ± 0.00\u001b[0m\n",
      "\u001b[32m2023-11-05 05:18:12.747\u001b[0m | \u001b[1mINFO    \u001b[0m | \u001b[36mutils.validation\u001b[0m:\u001b[36mcross_validate\u001b[0m:\u001b[36m118\u001b[0m - \u001b[1m==============================\u001b[0m\n",
      "Best trial: 39. Best value: 5.84439: 100%|██████████| 50/50 [3:23:01<00:00, 243.64s/it]\n",
      "\u001b[32m2023-11-05 05:18:12.941\u001b[0m | \u001b[1mINFO    \u001b[0m | \u001b[36m__main__\u001b[0m:\u001b[36mrun_optimization\u001b[0m:\u001b[36m42\u001b[0m - \u001b[1mNumber of finished trials: 50\u001b[0m\n",
      "\u001b[32m2023-11-05 05:18:12.948\u001b[0m | \u001b[32m\u001b[1mSUCCESS \u001b[0m | \u001b[36m__main__\u001b[0m:\u001b[36mrun_optimization\u001b[0m:\u001b[36m43\u001b[0m - \u001b[32m\u001b[1mBest MAE: 5.8444\u001b[0m\n",
      "\u001b[32m2023-11-05 05:18:12.948\u001b[0m | \u001b[1mINFO    \u001b[0m | \u001b[36m__main__\u001b[0m:\u001b[36mrun_optimization\u001b[0m:\u001b[36m45\u001b[0m - \u001b[1mParameters: \u001b[0m\n",
      "\u001b[32m2023-11-05 05:18:12.948\u001b[0m | \u001b[1mINFO    \u001b[0m | \u001b[36m__main__\u001b[0m:\u001b[36mrun_optimization\u001b[0m:\u001b[36m46\u001b[0m - \u001b[1m==========\u001b[0m\n",
      "\u001b[32m2023-11-05 05:18:12.962\u001b[0m | \u001b[32m\u001b[1mSUCCESS \u001b[0m | \u001b[36m__main__\u001b[0m:\u001b[36mrun_optimization\u001b[0m:\u001b[36m47\u001b[0m - \u001b[32m\u001b[1m{   'boosting_type': 'gbdt',\n",
      "    'colsample_bytree': 0.4754840392673484,\n",
      "    'device': 'cpu',\n",
      "    'learning_rate': 0.0163498470535577,\n",
      "    'max_depth': 11,\n",
      "    'min_child_samples': 32,\n",
      "    'n_estimators': 750,\n",
      "    'n_jobs': 1,\n",
      "    'num_leaves': 549,\n",
      "    'objective': 'mae',\n",
      "    'reg_alpha': 0.04346660307856414,\n",
      "    'reg_lambda': 0.016866656426520493,\n",
      "    'subsample': 0.5958952693003629,\n",
      "    'verbose': -1}\u001b[0m\n",
      "\u001b[32m2023-11-05 05:18:12.962\u001b[0m | \u001b[1mINFO    \u001b[0m | \u001b[36m__main__\u001b[0m:\u001b[36mrun_optimization\u001b[0m:\u001b[36m49\u001b[0m - \u001b[1mSaving best parameters...\u001b[0m\n"
     ]
    }
   ],
   "source": [
    "from utils.files import dump_json\n",
    "\n",
    "model_cls = CFG.MODEL\n",
    "model_cfg = MODEL_CFG[CFG.MODEL.__name__]\n",
    "param_space_func = model_cfg[\"param_space\"]\n",
    "callbacks_func = model_cfg[\"callbacks\"]\n",
    "best_trial = best_params if CFG.USE_BEST else None\n",
    "\n",
    "clear_output(wait=True) # clears output before rerunning optimization\n",
    "\n",
    "if CFG.HYPERTUNE:\n",
    "    objective = get_objective_function(\n",
    "        model_cls, \n",
    "        param_space_func, \n",
    "        X, Y, \n",
    "        date_id=date_id,\n",
    "        cv=TrainTestSplit(test_size=CFG.TEST_SIZE, n_splits=CFG.N_FOLDS),\n",
    "        categorical_feature=[\"imbalance_buy_sell_flag\"],\n",
    "        callbacks_func=callbacks_func\n",
    "    )\n",
    "    study = run_optimization(\n",
    "        objective, \n",
    "        sampler=CFG.SAMPLER(), \n",
    "        pruner=CFG.PRUNER(), \n",
    "        n_trials=CFG.N_TRIALS, \n",
    "        n_jobs=CFG.N_JOBS, \n",
    "        best_trial=best_trial\n",
    "    )\n",
    "    best_params = study.best_params\n",
    "    dump_json(CFG.JOB_PATH.joinpath(CFG.BEST_PARAMS), best_params, indent=4)"
   ]
  },
  {
   "cell_type": "markdown",
   "id": "96cf9c28",
   "metadata": {},
   "source": [
    "### Ploting Hyperparameter Tuning Results"
   ]
  },
  {
   "cell_type": "code",
   "execution_count": 12,
   "id": "9924b1e4",
   "metadata": {},
   "outputs": [
    {
     "data": {
      "application/vnd.plotly.v1+json": {
       "config": {
        "plotlyServerURL": "https://plot.ly"
       },
       "data": [
        {
         "mode": "markers",
         "name": "Objective Value",
         "type": "scatter",
         "x": [
          0,
          1,
          2,
          3,
          4,
          5,
          6,
          7,
          8,
          9,
          10,
          11,
          12,
          13,
          14,
          15,
          16,
          17,
          18,
          19,
          20,
          21,
          22,
          23,
          24,
          25,
          26,
          27,
          28,
          29,
          30,
          31,
          32,
          33,
          34,
          35,
          36,
          37,
          38,
          39,
          40,
          41,
          42,
          43,
          44,
          45,
          46,
          47,
          48,
          49
         ],
         "y": [
          5.845559271822774,
          5.849187441709591,
          5.8724698160218765,
          5.848503546334222,
          5.84583769074853,
          5.8531642588136,
          5.8520062741591365,
          5.850881745511952,
          5.8520572447602195,
          5.846679525680681,
          5.852834170219478,
          5.846555666023778,
          5.846920406587444,
          5.851078310185349,
          5.84906457999185,
          5.851368693616795,
          5.847885324985673,
          5.848218096812811,
          5.845516925225771,
          5.849759356834005,
          5.853789230758541,
          5.84946114768163,
          5.845803314948763,
          5.847162924154572,
          5.8605578159956835,
          5.848484728057845,
          5.853075273665977,
          5.848203832194818,
          5.846880540652192,
          5.848469532876889,
          5.852959101303816,
          5.848957980342066,
          5.845422282895454,
          5.846338599294964,
          5.851089819996131,
          5.846065227512427,
          5.851153594459384,
          5.84496828583105,
          5.8468605898787285,
          5.844393922119475,
          5.8475468337020216,
          5.849680724501985,
          5.845174278741871,
          5.854484230399412,
          5.846041440369863,
          5.8462294962979655,
          5.846696570078888,
          5.846824315064672,
          5.844935128391093,
          5.846466918641927
         ]
        },
        {
         "mode": "lines",
         "name": "Best Value",
         "type": "scatter",
         "x": [
          0,
          1,
          2,
          3,
          4,
          5,
          6,
          7,
          8,
          9,
          10,
          11,
          12,
          13,
          14,
          15,
          16,
          17,
          18,
          19,
          20,
          21,
          22,
          23,
          24,
          25,
          26,
          27,
          28,
          29,
          30,
          31,
          32,
          33,
          34,
          35,
          36,
          37,
          38,
          39,
          40,
          41,
          42,
          43,
          44,
          45,
          46,
          47,
          48,
          49
         ],
         "y": [
          5.845559271822774,
          5.845559271822774,
          5.845559271822774,
          5.845559271822774,
          5.845559271822774,
          5.845559271822774,
          5.845559271822774,
          5.845559271822774,
          5.845559271822774,
          5.845559271822774,
          5.845559271822774,
          5.845559271822774,
          5.845559271822774,
          5.845559271822774,
          5.845559271822774,
          5.845559271822774,
          5.845559271822774,
          5.845559271822774,
          5.845516925225771,
          5.845516925225771,
          5.845516925225771,
          5.845516925225771,
          5.845516925225771,
          5.845516925225771,
          5.845516925225771,
          5.845516925225771,
          5.845516925225771,
          5.845516925225771,
          5.845516925225771,
          5.845516925225771,
          5.845516925225771,
          5.845516925225771,
          5.845422282895454,
          5.845422282895454,
          5.845422282895454,
          5.845422282895454,
          5.845422282895454,
          5.84496828583105,
          5.84496828583105,
          5.844393922119475,
          5.844393922119475,
          5.844393922119475,
          5.844393922119475,
          5.844393922119475,
          5.844393922119475,
          5.844393922119475,
          5.844393922119475,
          5.844393922119475,
          5.844393922119475,
          5.844393922119475
         ]
        },
        {
         "marker": {
          "color": "#cccccc"
         },
         "mode": "markers",
         "name": "Infeasible Trial",
         "showlegend": false,
         "type": "scatter",
         "x": [],
         "y": []
        }
       ],
       "layout": {
        "template": {
         "data": {
          "bar": [
           {
            "error_x": {
             "color": "#2a3f5f"
            },
            "error_y": {
             "color": "#2a3f5f"
            },
            "marker": {
             "line": {
              "color": "#E5ECF6",
              "width": 0.5
             },
             "pattern": {
              "fillmode": "overlay",
              "size": 10,
              "solidity": 0.2
             }
            },
            "type": "bar"
           }
          ],
          "barpolar": [
           {
            "marker": {
             "line": {
              "color": "#E5ECF6",
              "width": 0.5
             },
             "pattern": {
              "fillmode": "overlay",
              "size": 10,
              "solidity": 0.2
             }
            },
            "type": "barpolar"
           }
          ],
          "carpet": [
           {
            "aaxis": {
             "endlinecolor": "#2a3f5f",
             "gridcolor": "white",
             "linecolor": "white",
             "minorgridcolor": "white",
             "startlinecolor": "#2a3f5f"
            },
            "baxis": {
             "endlinecolor": "#2a3f5f",
             "gridcolor": "white",
             "linecolor": "white",
             "minorgridcolor": "white",
             "startlinecolor": "#2a3f5f"
            },
            "type": "carpet"
           }
          ],
          "choropleth": [
           {
            "colorbar": {
             "outlinewidth": 0,
             "ticks": ""
            },
            "type": "choropleth"
           }
          ],
          "contour": [
           {
            "colorbar": {
             "outlinewidth": 0,
             "ticks": ""
            },
            "colorscale": [
             [
              0,
              "#0d0887"
             ],
             [
              0.1111111111111111,
              "#46039f"
             ],
             [
              0.2222222222222222,
              "#7201a8"
             ],
             [
              0.3333333333333333,
              "#9c179e"
             ],
             [
              0.4444444444444444,
              "#bd3786"
             ],
             [
              0.5555555555555556,
              "#d8576b"
             ],
             [
              0.6666666666666666,
              "#ed7953"
             ],
             [
              0.7777777777777778,
              "#fb9f3a"
             ],
             [
              0.8888888888888888,
              "#fdca26"
             ],
             [
              1,
              "#f0f921"
             ]
            ],
            "type": "contour"
           }
          ],
          "contourcarpet": [
           {
            "colorbar": {
             "outlinewidth": 0,
             "ticks": ""
            },
            "type": "contourcarpet"
           }
          ],
          "heatmap": [
           {
            "colorbar": {
             "outlinewidth": 0,
             "ticks": ""
            },
            "colorscale": [
             [
              0,
              "#0d0887"
             ],
             [
              0.1111111111111111,
              "#46039f"
             ],
             [
              0.2222222222222222,
              "#7201a8"
             ],
             [
              0.3333333333333333,
              "#9c179e"
             ],
             [
              0.4444444444444444,
              "#bd3786"
             ],
             [
              0.5555555555555556,
              "#d8576b"
             ],
             [
              0.6666666666666666,
              "#ed7953"
             ],
             [
              0.7777777777777778,
              "#fb9f3a"
             ],
             [
              0.8888888888888888,
              "#fdca26"
             ],
             [
              1,
              "#f0f921"
             ]
            ],
            "type": "heatmap"
           }
          ],
          "heatmapgl": [
           {
            "colorbar": {
             "outlinewidth": 0,
             "ticks": ""
            },
            "colorscale": [
             [
              0,
              "#0d0887"
             ],
             [
              0.1111111111111111,
              "#46039f"
             ],
             [
              0.2222222222222222,
              "#7201a8"
             ],
             [
              0.3333333333333333,
              "#9c179e"
             ],
             [
              0.4444444444444444,
              "#bd3786"
             ],
             [
              0.5555555555555556,
              "#d8576b"
             ],
             [
              0.6666666666666666,
              "#ed7953"
             ],
             [
              0.7777777777777778,
              "#fb9f3a"
             ],
             [
              0.8888888888888888,
              "#fdca26"
             ],
             [
              1,
              "#f0f921"
             ]
            ],
            "type": "heatmapgl"
           }
          ],
          "histogram": [
           {
            "marker": {
             "pattern": {
              "fillmode": "overlay",
              "size": 10,
              "solidity": 0.2
             }
            },
            "type": "histogram"
           }
          ],
          "histogram2d": [
           {
            "colorbar": {
             "outlinewidth": 0,
             "ticks": ""
            },
            "colorscale": [
             [
              0,
              "#0d0887"
             ],
             [
              0.1111111111111111,
              "#46039f"
             ],
             [
              0.2222222222222222,
              "#7201a8"
             ],
             [
              0.3333333333333333,
              "#9c179e"
             ],
             [
              0.4444444444444444,
              "#bd3786"
             ],
             [
              0.5555555555555556,
              "#d8576b"
             ],
             [
              0.6666666666666666,
              "#ed7953"
             ],
             [
              0.7777777777777778,
              "#fb9f3a"
             ],
             [
              0.8888888888888888,
              "#fdca26"
             ],
             [
              1,
              "#f0f921"
             ]
            ],
            "type": "histogram2d"
           }
          ],
          "histogram2dcontour": [
           {
            "colorbar": {
             "outlinewidth": 0,
             "ticks": ""
            },
            "colorscale": [
             [
              0,
              "#0d0887"
             ],
             [
              0.1111111111111111,
              "#46039f"
             ],
             [
              0.2222222222222222,
              "#7201a8"
             ],
             [
              0.3333333333333333,
              "#9c179e"
             ],
             [
              0.4444444444444444,
              "#bd3786"
             ],
             [
              0.5555555555555556,
              "#d8576b"
             ],
             [
              0.6666666666666666,
              "#ed7953"
             ],
             [
              0.7777777777777778,
              "#fb9f3a"
             ],
             [
              0.8888888888888888,
              "#fdca26"
             ],
             [
              1,
              "#f0f921"
             ]
            ],
            "type": "histogram2dcontour"
           }
          ],
          "mesh3d": [
           {
            "colorbar": {
             "outlinewidth": 0,
             "ticks": ""
            },
            "type": "mesh3d"
           }
          ],
          "parcoords": [
           {
            "line": {
             "colorbar": {
              "outlinewidth": 0,
              "ticks": ""
             }
            },
            "type": "parcoords"
           }
          ],
          "pie": [
           {
            "automargin": true,
            "type": "pie"
           }
          ],
          "scatter": [
           {
            "fillpattern": {
             "fillmode": "overlay",
             "size": 10,
             "solidity": 0.2
            },
            "type": "scatter"
           }
          ],
          "scatter3d": [
           {
            "line": {
             "colorbar": {
              "outlinewidth": 0,
              "ticks": ""
             }
            },
            "marker": {
             "colorbar": {
              "outlinewidth": 0,
              "ticks": ""
             }
            },
            "type": "scatter3d"
           }
          ],
          "scattercarpet": [
           {
            "marker": {
             "colorbar": {
              "outlinewidth": 0,
              "ticks": ""
             }
            },
            "type": "scattercarpet"
           }
          ],
          "scattergeo": [
           {
            "marker": {
             "colorbar": {
              "outlinewidth": 0,
              "ticks": ""
             }
            },
            "type": "scattergeo"
           }
          ],
          "scattergl": [
           {
            "marker": {
             "colorbar": {
              "outlinewidth": 0,
              "ticks": ""
             }
            },
            "type": "scattergl"
           }
          ],
          "scattermapbox": [
           {
            "marker": {
             "colorbar": {
              "outlinewidth": 0,
              "ticks": ""
             }
            },
            "type": "scattermapbox"
           }
          ],
          "scatterpolar": [
           {
            "marker": {
             "colorbar": {
              "outlinewidth": 0,
              "ticks": ""
             }
            },
            "type": "scatterpolar"
           }
          ],
          "scatterpolargl": [
           {
            "marker": {
             "colorbar": {
              "outlinewidth": 0,
              "ticks": ""
             }
            },
            "type": "scatterpolargl"
           }
          ],
          "scatterternary": [
           {
            "marker": {
             "colorbar": {
              "outlinewidth": 0,
              "ticks": ""
             }
            },
            "type": "scatterternary"
           }
          ],
          "surface": [
           {
            "colorbar": {
             "outlinewidth": 0,
             "ticks": ""
            },
            "colorscale": [
             [
              0,
              "#0d0887"
             ],
             [
              0.1111111111111111,
              "#46039f"
             ],
             [
              0.2222222222222222,
              "#7201a8"
             ],
             [
              0.3333333333333333,
              "#9c179e"
             ],
             [
              0.4444444444444444,
              "#bd3786"
             ],
             [
              0.5555555555555556,
              "#d8576b"
             ],
             [
              0.6666666666666666,
              "#ed7953"
             ],
             [
              0.7777777777777778,
              "#fb9f3a"
             ],
             [
              0.8888888888888888,
              "#fdca26"
             ],
             [
              1,
              "#f0f921"
             ]
            ],
            "type": "surface"
           }
          ],
          "table": [
           {
            "cells": {
             "fill": {
              "color": "#EBF0F8"
             },
             "line": {
              "color": "white"
             }
            },
            "header": {
             "fill": {
              "color": "#C8D4E3"
             },
             "line": {
              "color": "white"
             }
            },
            "type": "table"
           }
          ]
         },
         "layout": {
          "annotationdefaults": {
           "arrowcolor": "#2a3f5f",
           "arrowhead": 0,
           "arrowwidth": 1
          },
          "autotypenumbers": "strict",
          "coloraxis": {
           "colorbar": {
            "outlinewidth": 0,
            "ticks": ""
           }
          },
          "colorscale": {
           "diverging": [
            [
             0,
             "#8e0152"
            ],
            [
             0.1,
             "#c51b7d"
            ],
            [
             0.2,
             "#de77ae"
            ],
            [
             0.3,
             "#f1b6da"
            ],
            [
             0.4,
             "#fde0ef"
            ],
            [
             0.5,
             "#f7f7f7"
            ],
            [
             0.6,
             "#e6f5d0"
            ],
            [
             0.7,
             "#b8e186"
            ],
            [
             0.8,
             "#7fbc41"
            ],
            [
             0.9,
             "#4d9221"
            ],
            [
             1,
             "#276419"
            ]
           ],
           "sequential": [
            [
             0,
             "#0d0887"
            ],
            [
             0.1111111111111111,
             "#46039f"
            ],
            [
             0.2222222222222222,
             "#7201a8"
            ],
            [
             0.3333333333333333,
             "#9c179e"
            ],
            [
             0.4444444444444444,
             "#bd3786"
            ],
            [
             0.5555555555555556,
             "#d8576b"
            ],
            [
             0.6666666666666666,
             "#ed7953"
            ],
            [
             0.7777777777777778,
             "#fb9f3a"
            ],
            [
             0.8888888888888888,
             "#fdca26"
            ],
            [
             1,
             "#f0f921"
            ]
           ],
           "sequentialminus": [
            [
             0,
             "#0d0887"
            ],
            [
             0.1111111111111111,
             "#46039f"
            ],
            [
             0.2222222222222222,
             "#7201a8"
            ],
            [
             0.3333333333333333,
             "#9c179e"
            ],
            [
             0.4444444444444444,
             "#bd3786"
            ],
            [
             0.5555555555555556,
             "#d8576b"
            ],
            [
             0.6666666666666666,
             "#ed7953"
            ],
            [
             0.7777777777777778,
             "#fb9f3a"
            ],
            [
             0.8888888888888888,
             "#fdca26"
            ],
            [
             1,
             "#f0f921"
            ]
           ]
          },
          "colorway": [
           "#636efa",
           "#EF553B",
           "#00cc96",
           "#ab63fa",
           "#FFA15A",
           "#19d3f3",
           "#FF6692",
           "#B6E880",
           "#FF97FF",
           "#FECB52"
          ],
          "font": {
           "color": "#2a3f5f"
          },
          "geo": {
           "bgcolor": "white",
           "lakecolor": "white",
           "landcolor": "#E5ECF6",
           "showlakes": true,
           "showland": true,
           "subunitcolor": "white"
          },
          "hoverlabel": {
           "align": "left"
          },
          "hovermode": "closest",
          "mapbox": {
           "style": "light"
          },
          "paper_bgcolor": "white",
          "plot_bgcolor": "#E5ECF6",
          "polar": {
           "angularaxis": {
            "gridcolor": "white",
            "linecolor": "white",
            "ticks": ""
           },
           "bgcolor": "#E5ECF6",
           "radialaxis": {
            "gridcolor": "white",
            "linecolor": "white",
            "ticks": ""
           }
          },
          "scene": {
           "xaxis": {
            "backgroundcolor": "#E5ECF6",
            "gridcolor": "white",
            "gridwidth": 2,
            "linecolor": "white",
            "showbackground": true,
            "ticks": "",
            "zerolinecolor": "white"
           },
           "yaxis": {
            "backgroundcolor": "#E5ECF6",
            "gridcolor": "white",
            "gridwidth": 2,
            "linecolor": "white",
            "showbackground": true,
            "ticks": "",
            "zerolinecolor": "white"
           },
           "zaxis": {
            "backgroundcolor": "#E5ECF6",
            "gridcolor": "white",
            "gridwidth": 2,
            "linecolor": "white",
            "showbackground": true,
            "ticks": "",
            "zerolinecolor": "white"
           }
          },
          "shapedefaults": {
           "line": {
            "color": "#2a3f5f"
           }
          },
          "ternary": {
           "aaxis": {
            "gridcolor": "white",
            "linecolor": "white",
            "ticks": ""
           },
           "baxis": {
            "gridcolor": "white",
            "linecolor": "white",
            "ticks": ""
           },
           "bgcolor": "#E5ECF6",
           "caxis": {
            "gridcolor": "white",
            "linecolor": "white",
            "ticks": ""
           }
          },
          "title": {
           "x": 0.05
          },
          "xaxis": {
           "automargin": true,
           "gridcolor": "white",
           "linecolor": "white",
           "ticks": "",
           "title": {
            "standoff": 15
           },
           "zerolinecolor": "white",
           "zerolinewidth": 2
          },
          "yaxis": {
           "automargin": true,
           "gridcolor": "white",
           "linecolor": "white",
           "ticks": "",
           "title": {
            "standoff": 15
           },
           "zerolinecolor": "white",
           "zerolinewidth": 2
          }
         }
        },
        "title": {
         "text": "Optimization History Plot"
        },
        "xaxis": {
         "title": {
          "text": "Trial"
         }
        },
        "yaxis": {
         "title": {
          "text": "Objective Value"
         }
        }
       }
      }
     },
     "metadata": {},
     "output_type": "display_data"
    },
    {
     "data": {
      "application/vnd.plotly.v1+json": {
       "config": {
        "plotlyServerURL": "https://plot.ly"
       },
       "data": [
        {
         "cliponaxis": false,
         "hovertemplate": [
          "boosting_type (CategoricalDistribution): 0.0<extra></extra>",
          "device (CategoricalDistribution): 0.0<extra></extra>",
          "n_estimators (CategoricalDistribution): 0.0<extra></extra>",
          "n_jobs (CategoricalDistribution): 0.0<extra></extra>",
          "objective (CategoricalDistribution): 0.0<extra></extra>",
          "verbose (CategoricalDistribution): 0.0<extra></extra>",
          "reg_lambda (FloatDistribution): 0.0015599346293494161<extra></extra>",
          "reg_alpha (FloatDistribution): 0.0018997767482851723<extra></extra>",
          "subsample (FloatDistribution): 0.005828262300688525<extra></extra>",
          "min_child_samples (IntDistribution): 0.05239520208608487<extra></extra>",
          "learning_rate (FloatDistribution): 0.07098696172711189<extra></extra>",
          "colsample_bytree (FloatDistribution): 0.2505267220094492<extra></extra>",
          "max_depth (IntDistribution): 0.6168031404990311<extra></extra>"
         ],
         "marker": {
          "color": "rgb(66,146,198)"
         },
         "orientation": "h",
         "text": [
          "<0.01",
          "<0.01",
          "<0.01",
          "<0.01",
          "<0.01",
          "<0.01",
          "<0.01",
          "<0.01",
          "<0.01",
          "0.05",
          "0.07",
          "0.25",
          "0.62"
         ],
         "textposition": "outside",
         "type": "bar",
         "x": [
          0,
          0,
          0,
          0,
          0,
          0,
          0.0015599346293494161,
          0.0018997767482851723,
          0.005828262300688525,
          0.05239520208608487,
          0.07098696172711189,
          0.2505267220094492,
          0.6168031404990311
         ],
         "y": [
          "boosting_type",
          "device",
          "n_estimators",
          "n_jobs",
          "objective",
          "verbose",
          "reg_lambda",
          "reg_alpha",
          "subsample",
          "min_child_samples",
          "learning_rate",
          "colsample_bytree",
          "max_depth"
         ]
        }
       ],
       "layout": {
        "showlegend": false,
        "template": {
         "data": {
          "bar": [
           {
            "error_x": {
             "color": "#2a3f5f"
            },
            "error_y": {
             "color": "#2a3f5f"
            },
            "marker": {
             "line": {
              "color": "#E5ECF6",
              "width": 0.5
             },
             "pattern": {
              "fillmode": "overlay",
              "size": 10,
              "solidity": 0.2
             }
            },
            "type": "bar"
           }
          ],
          "barpolar": [
           {
            "marker": {
             "line": {
              "color": "#E5ECF6",
              "width": 0.5
             },
             "pattern": {
              "fillmode": "overlay",
              "size": 10,
              "solidity": 0.2
             }
            },
            "type": "barpolar"
           }
          ],
          "carpet": [
           {
            "aaxis": {
             "endlinecolor": "#2a3f5f",
             "gridcolor": "white",
             "linecolor": "white",
             "minorgridcolor": "white",
             "startlinecolor": "#2a3f5f"
            },
            "baxis": {
             "endlinecolor": "#2a3f5f",
             "gridcolor": "white",
             "linecolor": "white",
             "minorgridcolor": "white",
             "startlinecolor": "#2a3f5f"
            },
            "type": "carpet"
           }
          ],
          "choropleth": [
           {
            "colorbar": {
             "outlinewidth": 0,
             "ticks": ""
            },
            "type": "choropleth"
           }
          ],
          "contour": [
           {
            "colorbar": {
             "outlinewidth": 0,
             "ticks": ""
            },
            "colorscale": [
             [
              0,
              "#0d0887"
             ],
             [
              0.1111111111111111,
              "#46039f"
             ],
             [
              0.2222222222222222,
              "#7201a8"
             ],
             [
              0.3333333333333333,
              "#9c179e"
             ],
             [
              0.4444444444444444,
              "#bd3786"
             ],
             [
              0.5555555555555556,
              "#d8576b"
             ],
             [
              0.6666666666666666,
              "#ed7953"
             ],
             [
              0.7777777777777778,
              "#fb9f3a"
             ],
             [
              0.8888888888888888,
              "#fdca26"
             ],
             [
              1,
              "#f0f921"
             ]
            ],
            "type": "contour"
           }
          ],
          "contourcarpet": [
           {
            "colorbar": {
             "outlinewidth": 0,
             "ticks": ""
            },
            "type": "contourcarpet"
           }
          ],
          "heatmap": [
           {
            "colorbar": {
             "outlinewidth": 0,
             "ticks": ""
            },
            "colorscale": [
             [
              0,
              "#0d0887"
             ],
             [
              0.1111111111111111,
              "#46039f"
             ],
             [
              0.2222222222222222,
              "#7201a8"
             ],
             [
              0.3333333333333333,
              "#9c179e"
             ],
             [
              0.4444444444444444,
              "#bd3786"
             ],
             [
              0.5555555555555556,
              "#d8576b"
             ],
             [
              0.6666666666666666,
              "#ed7953"
             ],
             [
              0.7777777777777778,
              "#fb9f3a"
             ],
             [
              0.8888888888888888,
              "#fdca26"
             ],
             [
              1,
              "#f0f921"
             ]
            ],
            "type": "heatmap"
           }
          ],
          "heatmapgl": [
           {
            "colorbar": {
             "outlinewidth": 0,
             "ticks": ""
            },
            "colorscale": [
             [
              0,
              "#0d0887"
             ],
             [
              0.1111111111111111,
              "#46039f"
             ],
             [
              0.2222222222222222,
              "#7201a8"
             ],
             [
              0.3333333333333333,
              "#9c179e"
             ],
             [
              0.4444444444444444,
              "#bd3786"
             ],
             [
              0.5555555555555556,
              "#d8576b"
             ],
             [
              0.6666666666666666,
              "#ed7953"
             ],
             [
              0.7777777777777778,
              "#fb9f3a"
             ],
             [
              0.8888888888888888,
              "#fdca26"
             ],
             [
              1,
              "#f0f921"
             ]
            ],
            "type": "heatmapgl"
           }
          ],
          "histogram": [
           {
            "marker": {
             "pattern": {
              "fillmode": "overlay",
              "size": 10,
              "solidity": 0.2
             }
            },
            "type": "histogram"
           }
          ],
          "histogram2d": [
           {
            "colorbar": {
             "outlinewidth": 0,
             "ticks": ""
            },
            "colorscale": [
             [
              0,
              "#0d0887"
             ],
             [
              0.1111111111111111,
              "#46039f"
             ],
             [
              0.2222222222222222,
              "#7201a8"
             ],
             [
              0.3333333333333333,
              "#9c179e"
             ],
             [
              0.4444444444444444,
              "#bd3786"
             ],
             [
              0.5555555555555556,
              "#d8576b"
             ],
             [
              0.6666666666666666,
              "#ed7953"
             ],
             [
              0.7777777777777778,
              "#fb9f3a"
             ],
             [
              0.8888888888888888,
              "#fdca26"
             ],
             [
              1,
              "#f0f921"
             ]
            ],
            "type": "histogram2d"
           }
          ],
          "histogram2dcontour": [
           {
            "colorbar": {
             "outlinewidth": 0,
             "ticks": ""
            },
            "colorscale": [
             [
              0,
              "#0d0887"
             ],
             [
              0.1111111111111111,
              "#46039f"
             ],
             [
              0.2222222222222222,
              "#7201a8"
             ],
             [
              0.3333333333333333,
              "#9c179e"
             ],
             [
              0.4444444444444444,
              "#bd3786"
             ],
             [
              0.5555555555555556,
              "#d8576b"
             ],
             [
              0.6666666666666666,
              "#ed7953"
             ],
             [
              0.7777777777777778,
              "#fb9f3a"
             ],
             [
              0.8888888888888888,
              "#fdca26"
             ],
             [
              1,
              "#f0f921"
             ]
            ],
            "type": "histogram2dcontour"
           }
          ],
          "mesh3d": [
           {
            "colorbar": {
             "outlinewidth": 0,
             "ticks": ""
            },
            "type": "mesh3d"
           }
          ],
          "parcoords": [
           {
            "line": {
             "colorbar": {
              "outlinewidth": 0,
              "ticks": ""
             }
            },
            "type": "parcoords"
           }
          ],
          "pie": [
           {
            "automargin": true,
            "type": "pie"
           }
          ],
          "scatter": [
           {
            "fillpattern": {
             "fillmode": "overlay",
             "size": 10,
             "solidity": 0.2
            },
            "type": "scatter"
           }
          ],
          "scatter3d": [
           {
            "line": {
             "colorbar": {
              "outlinewidth": 0,
              "ticks": ""
             }
            },
            "marker": {
             "colorbar": {
              "outlinewidth": 0,
              "ticks": ""
             }
            },
            "type": "scatter3d"
           }
          ],
          "scattercarpet": [
           {
            "marker": {
             "colorbar": {
              "outlinewidth": 0,
              "ticks": ""
             }
            },
            "type": "scattercarpet"
           }
          ],
          "scattergeo": [
           {
            "marker": {
             "colorbar": {
              "outlinewidth": 0,
              "ticks": ""
             }
            },
            "type": "scattergeo"
           }
          ],
          "scattergl": [
           {
            "marker": {
             "colorbar": {
              "outlinewidth": 0,
              "ticks": ""
             }
            },
            "type": "scattergl"
           }
          ],
          "scattermapbox": [
           {
            "marker": {
             "colorbar": {
              "outlinewidth": 0,
              "ticks": ""
             }
            },
            "type": "scattermapbox"
           }
          ],
          "scatterpolar": [
           {
            "marker": {
             "colorbar": {
              "outlinewidth": 0,
              "ticks": ""
             }
            },
            "type": "scatterpolar"
           }
          ],
          "scatterpolargl": [
           {
            "marker": {
             "colorbar": {
              "outlinewidth": 0,
              "ticks": ""
             }
            },
            "type": "scatterpolargl"
           }
          ],
          "scatterternary": [
           {
            "marker": {
             "colorbar": {
              "outlinewidth": 0,
              "ticks": ""
             }
            },
            "type": "scatterternary"
           }
          ],
          "surface": [
           {
            "colorbar": {
             "outlinewidth": 0,
             "ticks": ""
            },
            "colorscale": [
             [
              0,
              "#0d0887"
             ],
             [
              0.1111111111111111,
              "#46039f"
             ],
             [
              0.2222222222222222,
              "#7201a8"
             ],
             [
              0.3333333333333333,
              "#9c179e"
             ],
             [
              0.4444444444444444,
              "#bd3786"
             ],
             [
              0.5555555555555556,
              "#d8576b"
             ],
             [
              0.6666666666666666,
              "#ed7953"
             ],
             [
              0.7777777777777778,
              "#fb9f3a"
             ],
             [
              0.8888888888888888,
              "#fdca26"
             ],
             [
              1,
              "#f0f921"
             ]
            ],
            "type": "surface"
           }
          ],
          "table": [
           {
            "cells": {
             "fill": {
              "color": "#EBF0F8"
             },
             "line": {
              "color": "white"
             }
            },
            "header": {
             "fill": {
              "color": "#C8D4E3"
             },
             "line": {
              "color": "white"
             }
            },
            "type": "table"
           }
          ]
         },
         "layout": {
          "annotationdefaults": {
           "arrowcolor": "#2a3f5f",
           "arrowhead": 0,
           "arrowwidth": 1
          },
          "autotypenumbers": "strict",
          "coloraxis": {
           "colorbar": {
            "outlinewidth": 0,
            "ticks": ""
           }
          },
          "colorscale": {
           "diverging": [
            [
             0,
             "#8e0152"
            ],
            [
             0.1,
             "#c51b7d"
            ],
            [
             0.2,
             "#de77ae"
            ],
            [
             0.3,
             "#f1b6da"
            ],
            [
             0.4,
             "#fde0ef"
            ],
            [
             0.5,
             "#f7f7f7"
            ],
            [
             0.6,
             "#e6f5d0"
            ],
            [
             0.7,
             "#b8e186"
            ],
            [
             0.8,
             "#7fbc41"
            ],
            [
             0.9,
             "#4d9221"
            ],
            [
             1,
             "#276419"
            ]
           ],
           "sequential": [
            [
             0,
             "#0d0887"
            ],
            [
             0.1111111111111111,
             "#46039f"
            ],
            [
             0.2222222222222222,
             "#7201a8"
            ],
            [
             0.3333333333333333,
             "#9c179e"
            ],
            [
             0.4444444444444444,
             "#bd3786"
            ],
            [
             0.5555555555555556,
             "#d8576b"
            ],
            [
             0.6666666666666666,
             "#ed7953"
            ],
            [
             0.7777777777777778,
             "#fb9f3a"
            ],
            [
             0.8888888888888888,
             "#fdca26"
            ],
            [
             1,
             "#f0f921"
            ]
           ],
           "sequentialminus": [
            [
             0,
             "#0d0887"
            ],
            [
             0.1111111111111111,
             "#46039f"
            ],
            [
             0.2222222222222222,
             "#7201a8"
            ],
            [
             0.3333333333333333,
             "#9c179e"
            ],
            [
             0.4444444444444444,
             "#bd3786"
            ],
            [
             0.5555555555555556,
             "#d8576b"
            ],
            [
             0.6666666666666666,
             "#ed7953"
            ],
            [
             0.7777777777777778,
             "#fb9f3a"
            ],
            [
             0.8888888888888888,
             "#fdca26"
            ],
            [
             1,
             "#f0f921"
            ]
           ]
          },
          "colorway": [
           "#636efa",
           "#EF553B",
           "#00cc96",
           "#ab63fa",
           "#FFA15A",
           "#19d3f3",
           "#FF6692",
           "#B6E880",
           "#FF97FF",
           "#FECB52"
          ],
          "font": {
           "color": "#2a3f5f"
          },
          "geo": {
           "bgcolor": "white",
           "lakecolor": "white",
           "landcolor": "#E5ECF6",
           "showlakes": true,
           "showland": true,
           "subunitcolor": "white"
          },
          "hoverlabel": {
           "align": "left"
          },
          "hovermode": "closest",
          "mapbox": {
           "style": "light"
          },
          "paper_bgcolor": "white",
          "plot_bgcolor": "#E5ECF6",
          "polar": {
           "angularaxis": {
            "gridcolor": "white",
            "linecolor": "white",
            "ticks": ""
           },
           "bgcolor": "#E5ECF6",
           "radialaxis": {
            "gridcolor": "white",
            "linecolor": "white",
            "ticks": ""
           }
          },
          "scene": {
           "xaxis": {
            "backgroundcolor": "#E5ECF6",
            "gridcolor": "white",
            "gridwidth": 2,
            "linecolor": "white",
            "showbackground": true,
            "ticks": "",
            "zerolinecolor": "white"
           },
           "yaxis": {
            "backgroundcolor": "#E5ECF6",
            "gridcolor": "white",
            "gridwidth": 2,
            "linecolor": "white",
            "showbackground": true,
            "ticks": "",
            "zerolinecolor": "white"
           },
           "zaxis": {
            "backgroundcolor": "#E5ECF6",
            "gridcolor": "white",
            "gridwidth": 2,
            "linecolor": "white",
            "showbackground": true,
            "ticks": "",
            "zerolinecolor": "white"
           }
          },
          "shapedefaults": {
           "line": {
            "color": "#2a3f5f"
           }
          },
          "ternary": {
           "aaxis": {
            "gridcolor": "white",
            "linecolor": "white",
            "ticks": ""
           },
           "baxis": {
            "gridcolor": "white",
            "linecolor": "white",
            "ticks": ""
           },
           "bgcolor": "#E5ECF6",
           "caxis": {
            "gridcolor": "white",
            "linecolor": "white",
            "ticks": ""
           }
          },
          "title": {
           "x": 0.05
          },
          "xaxis": {
           "automargin": true,
           "gridcolor": "white",
           "linecolor": "white",
           "ticks": "",
           "title": {
            "standoff": 15
           },
           "zerolinecolor": "white",
           "zerolinewidth": 2
          },
          "yaxis": {
           "automargin": true,
           "gridcolor": "white",
           "linecolor": "white",
           "ticks": "",
           "title": {
            "standoff": 15
           },
           "zerolinecolor": "white",
           "zerolinewidth": 2
          }
         }
        },
        "title": {
         "text": "Hyperparameter Importances"
        },
        "xaxis": {
         "title": {
          "text": "Importance for Objective Value"
         }
        },
        "yaxis": {
         "title": {
          "text": "Hyperparameter"
         }
        }
       }
      }
     },
     "metadata": {},
     "output_type": "display_data"
    },
    {
     "data": {
      "application/vnd.plotly.v1+json": {
       "config": {
        "plotlyServerURL": "https://plot.ly"
       },
       "data": [
        {
         "dimensions": [
          {
           "label": "Objective Value",
           "range": [
            5.844393922119475,
            5.8724698160218765
           ],
           "values": [
            5.845559271822774,
            5.849187441709591,
            5.8724698160218765,
            5.848503546334222,
            5.84583769074853,
            5.8531642588136,
            5.8520062741591365,
            5.850881745511952,
            5.8520572447602195,
            5.846679525680681,
            5.852834170219478,
            5.846555666023778,
            5.846920406587444,
            5.851078310185349,
            5.84906457999185,
            5.851368693616795,
            5.847885324985673,
            5.848218096812811,
            5.845516925225771,
            5.849759356834005,
            5.853789230758541,
            5.84946114768163,
            5.845803314948763,
            5.847162924154572,
            5.8605578159956835,
            5.848484728057845,
            5.853075273665977,
            5.848203832194818,
            5.846880540652192,
            5.848469532876889,
            5.852959101303816,
            5.848957980342066,
            5.845422282895454,
            5.846338599294964,
            5.851089819996131,
            5.846065227512427,
            5.851153594459384,
            5.84496828583105,
            5.8468605898787285,
            5.844393922119475,
            5.8475468337020216,
            5.849680724501985,
            5.845174278741871,
            5.854484230399412,
            5.846041440369863,
            5.8462294962979655,
            5.846696570078888,
            5.846824315064672,
            5.844935128391093,
            5.846466918641927
           ]
          },
          {
           "label": "colsample_bytree",
           "range": [
            0.40085620550938567,
            0.9049854226715727
           ],
           "values": [
            0.6605652916348981,
            0.6687817767342983,
            0.42481845616523667,
            0.9049854226715727,
            0.5527952859170946,
            0.7016073270862848,
            0.6901833458360302,
            0.6681848360192735,
            0.5999680045207758,
            0.693603336435042,
            0.8887728050135162,
            0.7951992956245485,
            0.7321113526347096,
            0.7853553226190161,
            0.7133021541444513,
            0.6885835241291183,
            0.7302550833969075,
            0.8115405483120028,
            0.5231472206137423,
            0.7283791540845261,
            0.6401330698337315,
            0.8636178031830315,
            0.618173192713971,
            0.49308482150836225,
            0.7384997227957413,
            0.727310702993236,
            0.6286022835522194,
            0.7601001609766374,
            0.7146244654953428,
            0.690521753106022,
            0.7702772368045152,
            0.6274526996189383,
            0.49852153799099574,
            0.5840785302987553,
            0.7511978059251967,
            0.40085620550938567,
            0.6495504431441631,
            0.5917507278658888,
            0.6578451580945383,
            0.4754840392673484,
            0.49806220230874954,
            0.6655005689897238,
            0.5289301088091755,
            0.7132568684550107,
            0.7513498721423124,
            0.48563106678037676,
            0.7504076361104846,
            0.6774299984976875,
            0.5947436600222827,
            0.5343726602647914
           ]
          },
          {
           "label": "learning_rate",
           "range": [
            -1.9653601388503699,
            -0.7376809992658434
           ],
           "ticktext": [
            "0.0108",
            "0.1",
            "0.183"
           ],
           "tickvals": [
            -1.9653601388503699,
            -1,
            -0.7376809992658434
           ],
           "values": [
            -1.6335020092161339,
            -1.780674965806,
            -1.753896309220869,
            -1.3087973980690675,
            -1.4542975923564307,
            -0.8771134498986758,
            -0.8539633344798776,
            -1.4114364458770288,
            -0.7376809992658434,
            -1.1891332955237888,
            -0.9784095301659661,
            -1.194721232016088,
            -1.437760369203323,
            -1.1736290179356288,
            -1.4032802514563147,
            -1.4429998346984674,
            -1.2452174705354966,
            -1.6719667068625625,
            -1.537138172818785,
            -1.1458041039222435,
            -1.841440523412977,
            -1.0320364923935321,
            -1.5408632635060175,
            -1.6325617327667983,
            -1.9112845277700432,
            -0.9959845546703887,
            -1.4987856800319501,
            -1.5424449036521084,
            -1.4616034107040734,
            -1.4004003784854229,
            -1.3696535951739486,
            -1.1367178620796976,
            -1.5582854147040242,
            -1.6913389623294584,
            -1.1787415402425925,
            -1.8101052151003323,
            -1.4170528926987742,
            -1.6507955280618236,
            -1.6615788060456909,
            -1.7864863056401845,
            -1.8053017703216976,
            -1.1258848632645253,
            -1.7452335610233547,
            -1.9251362993950614,
            -1.8580197985059732,
            -1.5746654702693563,
            -1.4061242640080898,
            -1.602352894776433,
            -1.9653601388503699,
            -1.4849543031089656
           ]
          },
          {
           "label": "max_depth",
           "range": [
            5,
            12
           ],
           "values": [
            9,
            8,
            5,
            9,
            9,
            10,
            6,
            7,
            8,
            8,
            7,
            9,
            8,
            7,
            9,
            6,
            11,
            8,
            11,
            8,
            8,
            8,
            9,
            8,
            6,
            10,
            7,
            9,
            9,
            9,
            6,
            9,
            11,
            9,
            12,
            10,
            9,
            11,
            9,
            11,
            9,
            9,
            10,
            9,
            11,
            9,
            9,
            10,
            12,
            11
           ]
          },
          {
           "label": "min_child_samples",
           "range": [
            1,
            81
           ],
           "values": [
            55,
            67,
            47,
            76,
            49,
            81,
            53,
            36,
            30,
            24,
            58,
            61,
            56,
            36,
            52,
            48,
            35,
            39,
            62,
            47,
            35,
            68,
            51,
            31,
            78,
            37,
            38,
            23,
            50,
            50,
            31,
            45,
            35,
            41,
            74,
            49,
            38,
            59,
            41,
            32,
            53,
            36,
            45,
            56,
            21,
            35,
            75,
            19,
            66,
            1
           ]
          },
          {
           "label": "num_leaves",
           "range": [
            8,
            2567
           ],
           "values": [
            319,
            143,
            8,
            332,
            159,
            214,
            38,
            34,
            106,
            150,
            42,
            160,
            94,
            53,
            67,
            34,
            45,
            99,
            952,
            174,
            54,
            153,
            232,
            148,
            36,
            131,
            30,
            171,
            346,
            51,
            22,
            117,
            1066,
            311,
            2567,
            488,
            47,
            1288,
            217,
            549,
            234,
            311,
            638,
            62,
            236,
            310,
            275,
            185,
            787,
            1213
           ]
          }
         ],
         "labelangle": 30,
         "labelside": "bottom",
         "line": {
          "color": [
           5.845559271822774,
           5.849187441709591,
           5.8724698160218765,
           5.848503546334222,
           5.84583769074853,
           5.8531642588136,
           5.8520062741591365,
           5.850881745511952,
           5.8520572447602195,
           5.846679525680681,
           5.852834170219478,
           5.846555666023778,
           5.846920406587444,
           5.851078310185349,
           5.84906457999185,
           5.851368693616795,
           5.847885324985673,
           5.848218096812811,
           5.845516925225771,
           5.849759356834005,
           5.853789230758541,
           5.84946114768163,
           5.845803314948763,
           5.847162924154572,
           5.8605578159956835,
           5.848484728057845,
           5.853075273665977,
           5.848203832194818,
           5.846880540652192,
           5.848469532876889,
           5.852959101303816,
           5.848957980342066,
           5.845422282895454,
           5.846338599294964,
           5.851089819996131,
           5.846065227512427,
           5.851153594459384,
           5.84496828583105,
           5.8468605898787285,
           5.844393922119475,
           5.8475468337020216,
           5.849680724501985,
           5.845174278741871,
           5.854484230399412,
           5.846041440369863,
           5.8462294962979655,
           5.846696570078888,
           5.846824315064672,
           5.844935128391093,
           5.846466918641927
          ],
          "colorbar": {
           "title": {
            "text": "Objective Value"
           }
          },
          "colorscale": [
           [
            0,
            "rgb(247,251,255)"
           ],
           [
            0.125,
            "rgb(222,235,247)"
           ],
           [
            0.25,
            "rgb(198,219,239)"
           ],
           [
            0.375,
            "rgb(158,202,225)"
           ],
           [
            0.5,
            "rgb(107,174,214)"
           ],
           [
            0.625,
            "rgb(66,146,198)"
           ],
           [
            0.75,
            "rgb(33,113,181)"
           ],
           [
            0.875,
            "rgb(8,81,156)"
           ],
           [
            1,
            "rgb(8,48,107)"
           ]
          ],
          "reversescale": true,
          "showscale": true
         },
         "type": "parcoords"
        }
       ],
       "layout": {
        "template": {
         "data": {
          "bar": [
           {
            "error_x": {
             "color": "#2a3f5f"
            },
            "error_y": {
             "color": "#2a3f5f"
            },
            "marker": {
             "line": {
              "color": "#E5ECF6",
              "width": 0.5
             },
             "pattern": {
              "fillmode": "overlay",
              "size": 10,
              "solidity": 0.2
             }
            },
            "type": "bar"
           }
          ],
          "barpolar": [
           {
            "marker": {
             "line": {
              "color": "#E5ECF6",
              "width": 0.5
             },
             "pattern": {
              "fillmode": "overlay",
              "size": 10,
              "solidity": 0.2
             }
            },
            "type": "barpolar"
           }
          ],
          "carpet": [
           {
            "aaxis": {
             "endlinecolor": "#2a3f5f",
             "gridcolor": "white",
             "linecolor": "white",
             "minorgridcolor": "white",
             "startlinecolor": "#2a3f5f"
            },
            "baxis": {
             "endlinecolor": "#2a3f5f",
             "gridcolor": "white",
             "linecolor": "white",
             "minorgridcolor": "white",
             "startlinecolor": "#2a3f5f"
            },
            "type": "carpet"
           }
          ],
          "choropleth": [
           {
            "colorbar": {
             "outlinewidth": 0,
             "ticks": ""
            },
            "type": "choropleth"
           }
          ],
          "contour": [
           {
            "colorbar": {
             "outlinewidth": 0,
             "ticks": ""
            },
            "colorscale": [
             [
              0,
              "#0d0887"
             ],
             [
              0.1111111111111111,
              "#46039f"
             ],
             [
              0.2222222222222222,
              "#7201a8"
             ],
             [
              0.3333333333333333,
              "#9c179e"
             ],
             [
              0.4444444444444444,
              "#bd3786"
             ],
             [
              0.5555555555555556,
              "#d8576b"
             ],
             [
              0.6666666666666666,
              "#ed7953"
             ],
             [
              0.7777777777777778,
              "#fb9f3a"
             ],
             [
              0.8888888888888888,
              "#fdca26"
             ],
             [
              1,
              "#f0f921"
             ]
            ],
            "type": "contour"
           }
          ],
          "contourcarpet": [
           {
            "colorbar": {
             "outlinewidth": 0,
             "ticks": ""
            },
            "type": "contourcarpet"
           }
          ],
          "heatmap": [
           {
            "colorbar": {
             "outlinewidth": 0,
             "ticks": ""
            },
            "colorscale": [
             [
              0,
              "#0d0887"
             ],
             [
              0.1111111111111111,
              "#46039f"
             ],
             [
              0.2222222222222222,
              "#7201a8"
             ],
             [
              0.3333333333333333,
              "#9c179e"
             ],
             [
              0.4444444444444444,
              "#bd3786"
             ],
             [
              0.5555555555555556,
              "#d8576b"
             ],
             [
              0.6666666666666666,
              "#ed7953"
             ],
             [
              0.7777777777777778,
              "#fb9f3a"
             ],
             [
              0.8888888888888888,
              "#fdca26"
             ],
             [
              1,
              "#f0f921"
             ]
            ],
            "type": "heatmap"
           }
          ],
          "heatmapgl": [
           {
            "colorbar": {
             "outlinewidth": 0,
             "ticks": ""
            },
            "colorscale": [
             [
              0,
              "#0d0887"
             ],
             [
              0.1111111111111111,
              "#46039f"
             ],
             [
              0.2222222222222222,
              "#7201a8"
             ],
             [
              0.3333333333333333,
              "#9c179e"
             ],
             [
              0.4444444444444444,
              "#bd3786"
             ],
             [
              0.5555555555555556,
              "#d8576b"
             ],
             [
              0.6666666666666666,
              "#ed7953"
             ],
             [
              0.7777777777777778,
              "#fb9f3a"
             ],
             [
              0.8888888888888888,
              "#fdca26"
             ],
             [
              1,
              "#f0f921"
             ]
            ],
            "type": "heatmapgl"
           }
          ],
          "histogram": [
           {
            "marker": {
             "pattern": {
              "fillmode": "overlay",
              "size": 10,
              "solidity": 0.2
             }
            },
            "type": "histogram"
           }
          ],
          "histogram2d": [
           {
            "colorbar": {
             "outlinewidth": 0,
             "ticks": ""
            },
            "colorscale": [
             [
              0,
              "#0d0887"
             ],
             [
              0.1111111111111111,
              "#46039f"
             ],
             [
              0.2222222222222222,
              "#7201a8"
             ],
             [
              0.3333333333333333,
              "#9c179e"
             ],
             [
              0.4444444444444444,
              "#bd3786"
             ],
             [
              0.5555555555555556,
              "#d8576b"
             ],
             [
              0.6666666666666666,
              "#ed7953"
             ],
             [
              0.7777777777777778,
              "#fb9f3a"
             ],
             [
              0.8888888888888888,
              "#fdca26"
             ],
             [
              1,
              "#f0f921"
             ]
            ],
            "type": "histogram2d"
           }
          ],
          "histogram2dcontour": [
           {
            "colorbar": {
             "outlinewidth": 0,
             "ticks": ""
            },
            "colorscale": [
             [
              0,
              "#0d0887"
             ],
             [
              0.1111111111111111,
              "#46039f"
             ],
             [
              0.2222222222222222,
              "#7201a8"
             ],
             [
              0.3333333333333333,
              "#9c179e"
             ],
             [
              0.4444444444444444,
              "#bd3786"
             ],
             [
              0.5555555555555556,
              "#d8576b"
             ],
             [
              0.6666666666666666,
              "#ed7953"
             ],
             [
              0.7777777777777778,
              "#fb9f3a"
             ],
             [
              0.8888888888888888,
              "#fdca26"
             ],
             [
              1,
              "#f0f921"
             ]
            ],
            "type": "histogram2dcontour"
           }
          ],
          "mesh3d": [
           {
            "colorbar": {
             "outlinewidth": 0,
             "ticks": ""
            },
            "type": "mesh3d"
           }
          ],
          "parcoords": [
           {
            "line": {
             "colorbar": {
              "outlinewidth": 0,
              "ticks": ""
             }
            },
            "type": "parcoords"
           }
          ],
          "pie": [
           {
            "automargin": true,
            "type": "pie"
           }
          ],
          "scatter": [
           {
            "fillpattern": {
             "fillmode": "overlay",
             "size": 10,
             "solidity": 0.2
            },
            "type": "scatter"
           }
          ],
          "scatter3d": [
           {
            "line": {
             "colorbar": {
              "outlinewidth": 0,
              "ticks": ""
             }
            },
            "marker": {
             "colorbar": {
              "outlinewidth": 0,
              "ticks": ""
             }
            },
            "type": "scatter3d"
           }
          ],
          "scattercarpet": [
           {
            "marker": {
             "colorbar": {
              "outlinewidth": 0,
              "ticks": ""
             }
            },
            "type": "scattercarpet"
           }
          ],
          "scattergeo": [
           {
            "marker": {
             "colorbar": {
              "outlinewidth": 0,
              "ticks": ""
             }
            },
            "type": "scattergeo"
           }
          ],
          "scattergl": [
           {
            "marker": {
             "colorbar": {
              "outlinewidth": 0,
              "ticks": ""
             }
            },
            "type": "scattergl"
           }
          ],
          "scattermapbox": [
           {
            "marker": {
             "colorbar": {
              "outlinewidth": 0,
              "ticks": ""
             }
            },
            "type": "scattermapbox"
           }
          ],
          "scatterpolar": [
           {
            "marker": {
             "colorbar": {
              "outlinewidth": 0,
              "ticks": ""
             }
            },
            "type": "scatterpolar"
           }
          ],
          "scatterpolargl": [
           {
            "marker": {
             "colorbar": {
              "outlinewidth": 0,
              "ticks": ""
             }
            },
            "type": "scatterpolargl"
           }
          ],
          "scatterternary": [
           {
            "marker": {
             "colorbar": {
              "outlinewidth": 0,
              "ticks": ""
             }
            },
            "type": "scatterternary"
           }
          ],
          "surface": [
           {
            "colorbar": {
             "outlinewidth": 0,
             "ticks": ""
            },
            "colorscale": [
             [
              0,
              "#0d0887"
             ],
             [
              0.1111111111111111,
              "#46039f"
             ],
             [
              0.2222222222222222,
              "#7201a8"
             ],
             [
              0.3333333333333333,
              "#9c179e"
             ],
             [
              0.4444444444444444,
              "#bd3786"
             ],
             [
              0.5555555555555556,
              "#d8576b"
             ],
             [
              0.6666666666666666,
              "#ed7953"
             ],
             [
              0.7777777777777778,
              "#fb9f3a"
             ],
             [
              0.8888888888888888,
              "#fdca26"
             ],
             [
              1,
              "#f0f921"
             ]
            ],
            "type": "surface"
           }
          ],
          "table": [
           {
            "cells": {
             "fill": {
              "color": "#EBF0F8"
             },
             "line": {
              "color": "white"
             }
            },
            "header": {
             "fill": {
              "color": "#C8D4E3"
             },
             "line": {
              "color": "white"
             }
            },
            "type": "table"
           }
          ]
         },
         "layout": {
          "annotationdefaults": {
           "arrowcolor": "#2a3f5f",
           "arrowhead": 0,
           "arrowwidth": 1
          },
          "autotypenumbers": "strict",
          "coloraxis": {
           "colorbar": {
            "outlinewidth": 0,
            "ticks": ""
           }
          },
          "colorscale": {
           "diverging": [
            [
             0,
             "#8e0152"
            ],
            [
             0.1,
             "#c51b7d"
            ],
            [
             0.2,
             "#de77ae"
            ],
            [
             0.3,
             "#f1b6da"
            ],
            [
             0.4,
             "#fde0ef"
            ],
            [
             0.5,
             "#f7f7f7"
            ],
            [
             0.6,
             "#e6f5d0"
            ],
            [
             0.7,
             "#b8e186"
            ],
            [
             0.8,
             "#7fbc41"
            ],
            [
             0.9,
             "#4d9221"
            ],
            [
             1,
             "#276419"
            ]
           ],
           "sequential": [
            [
             0,
             "#0d0887"
            ],
            [
             0.1111111111111111,
             "#46039f"
            ],
            [
             0.2222222222222222,
             "#7201a8"
            ],
            [
             0.3333333333333333,
             "#9c179e"
            ],
            [
             0.4444444444444444,
             "#bd3786"
            ],
            [
             0.5555555555555556,
             "#d8576b"
            ],
            [
             0.6666666666666666,
             "#ed7953"
            ],
            [
             0.7777777777777778,
             "#fb9f3a"
            ],
            [
             0.8888888888888888,
             "#fdca26"
            ],
            [
             1,
             "#f0f921"
            ]
           ],
           "sequentialminus": [
            [
             0,
             "#0d0887"
            ],
            [
             0.1111111111111111,
             "#46039f"
            ],
            [
             0.2222222222222222,
             "#7201a8"
            ],
            [
             0.3333333333333333,
             "#9c179e"
            ],
            [
             0.4444444444444444,
             "#bd3786"
            ],
            [
             0.5555555555555556,
             "#d8576b"
            ],
            [
             0.6666666666666666,
             "#ed7953"
            ],
            [
             0.7777777777777778,
             "#fb9f3a"
            ],
            [
             0.8888888888888888,
             "#fdca26"
            ],
            [
             1,
             "#f0f921"
            ]
           ]
          },
          "colorway": [
           "#636efa",
           "#EF553B",
           "#00cc96",
           "#ab63fa",
           "#FFA15A",
           "#19d3f3",
           "#FF6692",
           "#B6E880",
           "#FF97FF",
           "#FECB52"
          ],
          "font": {
           "color": "#2a3f5f"
          },
          "geo": {
           "bgcolor": "white",
           "lakecolor": "white",
           "landcolor": "#E5ECF6",
           "showlakes": true,
           "showland": true,
           "subunitcolor": "white"
          },
          "hoverlabel": {
           "align": "left"
          },
          "hovermode": "closest",
          "mapbox": {
           "style": "light"
          },
          "paper_bgcolor": "white",
          "plot_bgcolor": "#E5ECF6",
          "polar": {
           "angularaxis": {
            "gridcolor": "white",
            "linecolor": "white",
            "ticks": ""
           },
           "bgcolor": "#E5ECF6",
           "radialaxis": {
            "gridcolor": "white",
            "linecolor": "white",
            "ticks": ""
           }
          },
          "scene": {
           "xaxis": {
            "backgroundcolor": "#E5ECF6",
            "gridcolor": "white",
            "gridwidth": 2,
            "linecolor": "white",
            "showbackground": true,
            "ticks": "",
            "zerolinecolor": "white"
           },
           "yaxis": {
            "backgroundcolor": "#E5ECF6",
            "gridcolor": "white",
            "gridwidth": 2,
            "linecolor": "white",
            "showbackground": true,
            "ticks": "",
            "zerolinecolor": "white"
           },
           "zaxis": {
            "backgroundcolor": "#E5ECF6",
            "gridcolor": "white",
            "gridwidth": 2,
            "linecolor": "white",
            "showbackground": true,
            "ticks": "",
            "zerolinecolor": "white"
           }
          },
          "shapedefaults": {
           "line": {
            "color": "#2a3f5f"
           }
          },
          "ternary": {
           "aaxis": {
            "gridcolor": "white",
            "linecolor": "white",
            "ticks": ""
           },
           "baxis": {
            "gridcolor": "white",
            "linecolor": "white",
            "ticks": ""
           },
           "bgcolor": "#E5ECF6",
           "caxis": {
            "gridcolor": "white",
            "linecolor": "white",
            "ticks": ""
           }
          },
          "title": {
           "x": 0.05
          },
          "xaxis": {
           "automargin": true,
           "gridcolor": "white",
           "linecolor": "white",
           "ticks": "",
           "title": {
            "standoff": 15
           },
           "zerolinecolor": "white",
           "zerolinewidth": 2
          },
          "yaxis": {
           "automargin": true,
           "gridcolor": "white",
           "linecolor": "white",
           "ticks": "",
           "title": {
            "standoff": 15
           },
           "zerolinecolor": "white",
           "zerolinewidth": 2
          }
         }
        },
        "title": {
         "text": "Parallel Coordinate Plot"
        }
       }
      }
     },
     "metadata": {},
     "output_type": "display_data"
    }
   ],
   "source": [
    "if CFG.HYPERTUNE:\n",
    "    plot_optimization_history(study).show()\n",
    "    if CFG.N_TRIALS > 1:\n",
    "        plot_param_importances(study).show()\n",
    "        plot_parallel_coordinate(\n",
    "            study, \n",
    "            params=[\"max_depth\", \"num_leaves\", \"learning_rate\", \"colsample_bytree\", \"min_child_samples\"]\n",
    "        ).show()"
   ]
  },
  {
   "cell_type": "markdown",
   "id": "11eb35c6",
   "metadata": {
    "papermill": {
     "duration": 0.005694,
     "end_time": "2023-10-02T11:03:28.894504",
     "exception": false,
     "start_time": "2023-10-02T11:03:28.888810",
     "status": "completed"
    },
    "tags": []
   },
   "source": [
    "## Reevaluation and training\n",
    "--------------------"
   ]
  },
  {
   "cell_type": "markdown",
   "id": "fd940642",
   "metadata": {
    "papermill": {
     "duration": 0.006779,
     "end_time": "2023-10-02T11:03:28.930889",
     "exception": false,
     "start_time": "2023-10-02T11:03:28.924110",
     "status": "completed"
    },
    "tags": []
   },
   "source": [
    "Reevaluation and Retraining of the Model on Different Random States"
   ]
  },
  {
   "cell_type": "code",
   "execution_count": 13,
   "id": "2b32ca52",
   "metadata": {
    "execution": {
     "iopub.execute_input": "2023-10-02T11:03:28.945951Z",
     "iopub.status.busy": "2023-10-02T11:03:28.945590Z",
     "iopub.status.idle": "2023-10-02T11:10:17.335766Z",
     "shell.execute_reply": "2023-10-02T11:10:17.334543Z"
    },
    "papermill": {
     "duration": 408.400866,
     "end_time": "2023-10-02T11:10:17.338582",
     "exception": false,
     "start_time": "2023-10-02T11:03:28.937716",
     "status": "completed"
    },
    "tags": []
   },
   "outputs": [
    {
     "name": "stderr",
     "output_type": "stream",
     "text": [
      "\u001b[32m2023-11-05 05:18:14.824\u001b[0m | \u001b[1mINFO    \u001b[0m | \u001b[36mutils.validation\u001b[0m:\u001b[36mcross_validate\u001b[0m:\u001b[36m81\u001b[0m - \u001b[1mStarting evaluation...\u001b[0m\n",
      "\u001b[32m2023-11-05 05:18:14.825\u001b[0m | \u001b[1mINFO    \u001b[0m | \u001b[36mutils.validation\u001b[0m:\u001b[36mcross_validate\u001b[0m:\u001b[36m82\u001b[0m - \u001b[1m==============================\u001b[0m\n"
     ]
    },
    {
     "name": "stdout",
     "output_type": "stream",
     "text": [
      "Training until validation scores don't improve for 25 rounds\n",
      "Did not meet early stopping. Best iteration is:\n",
      "[732]\tvalid_0's l1: 5.84439\n"
     ]
    },
    {
     "name": "stderr",
     "output_type": "stream",
     "text": [
      "\u001b[32m2023-11-05 05:37:35.313\u001b[0m | \u001b[1mINFO    \u001b[0m | \u001b[36mutils.validation\u001b[0m:\u001b[36mcross_validate\u001b[0m:\u001b[36m109\u001b[0m - \u001b[1mFold 1: 5.8444 (took 1077.30s)\u001b[0m\n",
      "\u001b[32m2023-11-05 05:37:35.314\u001b[0m | \u001b[1mINFO    \u001b[0m | \u001b[36mutils.validation\u001b[0m:\u001b[36mcross_validate\u001b[0m:\u001b[36m116\u001b[0m - \u001b[1m------------------------------\u001b[0m\n",
      "\u001b[32m2023-11-05 05:37:35.315\u001b[0m | \u001b[32m\u001b[1mSUCCESS \u001b[0m | \u001b[36mutils.validation\u001b[0m:\u001b[36mcross_validate\u001b[0m:\u001b[36m117\u001b[0m - \u001b[32m\u001b[1mAverage MAE = 5.8444 ± 0.00\u001b[0m\n",
      "\u001b[32m2023-11-05 05:37:35.315\u001b[0m | \u001b[1mINFO    \u001b[0m | \u001b[36mutils.validation\u001b[0m:\u001b[36mcross_validate\u001b[0m:\u001b[36m118\u001b[0m - \u001b[1m==============================\u001b[0m\n"
     ]
    }
   ],
   "source": [
    "scores, trained_models = cross_validate(\n",
    "    model_type=CFG.MODEL,\n",
    "    model_params=best_params,\n",
    "    x=X,\n",
    "    y=Y,\n",
    "    date_id=date_id,\n",
    "    scorer=mean_absolute_error,\n",
    "    cv=TrainTestSplit(CFG.TEST_SIZE, n_splits=CFG.N_FOLDS),\n",
    "    categorical_feature=[\"imbalance_buy_sell_flag\"],\n",
    "    callbacks=[lgb.early_stopping(25)],\n",
    ")"
   ]
  },
  {
   "cell_type": "code",
   "execution_count": 14,
   "metadata": {},
   "outputs": [
    {
     "name": "stderr",
     "output_type": "stream",
     "text": [
      "\u001b[32m2023-11-05 05:37:35.668\u001b[0m | \u001b[1mINFO    \u001b[0m | \u001b[36mutils.validation\u001b[0m:\u001b[36mcross_validate\u001b[0m:\u001b[36m81\u001b[0m - \u001b[1mStarting evaluation...\u001b[0m\n",
      "\u001b[32m2023-11-05 05:37:35.670\u001b[0m | \u001b[1mINFO    \u001b[0m | \u001b[36mutils.validation\u001b[0m:\u001b[36mcross_validate\u001b[0m:\u001b[36m82\u001b[0m - \u001b[1m==============================\u001b[0m\n",
      "\u001b[32m2023-11-05 05:59:20.688\u001b[0m | \u001b[1mINFO    \u001b[0m | \u001b[36mutils.validation\u001b[0m:\u001b[36mcross_validate\u001b[0m:\u001b[36m109\u001b[0m - \u001b[1mFold 1: 0.0000 (took 1301.15s)\u001b[0m\n",
      "\u001b[32m2023-11-05 05:59:24.319\u001b[0m | \u001b[1mINFO    \u001b[0m | \u001b[36mutils.validation\u001b[0m:\u001b[36mcross_validate\u001b[0m:\u001b[36m116\u001b[0m - \u001b[1m------------------------------\u001b[0m\n",
      "\u001b[32m2023-11-05 05:59:24.322\u001b[0m | \u001b[32m\u001b[1mSUCCESS \u001b[0m | \u001b[36mutils.validation\u001b[0m:\u001b[36mcross_validate\u001b[0m:\u001b[36m117\u001b[0m - \u001b[32m\u001b[1mAverage MAE = 0.0000 ± 0.00\u001b[0m\n",
      "\u001b[32m2023-11-05 05:59:24.322\u001b[0m | \u001b[1mINFO    \u001b[0m | \u001b[36mutils.validation\u001b[0m:\u001b[36mcross_validate\u001b[0m:\u001b[36m118\u001b[0m - \u001b[1m==============================\u001b[0m\n"
     ]
    }
   ],
   "source": [
    "model_params = best_params\n",
    "model_params[\"n_estimators\"] = int(1.2 * sum([model.best_iteration_ for model in trained_models])/len(trained_models))\n",
    "\n",
    "scores, trained_models = cross_validate(\n",
    "    model_type=CFG.MODEL,\n",
    "    model_params=model_params,\n",
    "    x=X,\n",
    "    y=Y,\n",
    "    date_id=date_id,\n",
    "    scorer=mean_absolute_error,\n",
    "    cv=TrainTestSplit(test_size=0, n_splits=CFG.N_FOLDS),\n",
    "    categorical_feature=[\"imbalance_buy_sell_flag\"],\n",
    "    job_path=CFG.JOB_PATH\n",
    ")"
   ]
  },
  {
   "cell_type": "code",
   "execution_count": 15,
   "id": "39d289fd",
   "metadata": {
    "execution": {
     "iopub.execute_input": "2023-10-02T11:17:32.839669Z",
     "iopub.status.busy": "2023-10-02T11:17:32.839008Z",
     "iopub.status.idle": "2023-10-02T11:17:33.361587Z",
     "shell.execute_reply": "2023-10-02T11:17:33.360396Z"
    },
    "papermill": {
     "duration": 0.535399,
     "end_time": "2023-10-02T11:17:33.365073",
     "exception": false,
     "start_time": "2023-10-02T11:17:32.829674",
     "status": "completed"
    },
    "tags": []
   },
   "outputs": [
    {
     "data": {
      "text/plain": [
       "<Axes: >"
      ]
     },
     "execution_count": 15,
     "metadata": {},
     "output_type": "execute_result"
    },
    {
     "data": {
      "image/png": "[encoded data removed]",
      "text/plain": [
       "<Figure size 1000x2000 with 1 Axes>"
      ]
     },
     "metadata": {},
     "output_type": "display_data"
    }
   ],
   "source": [
    "agreggated_feature_importances = (sum([model.booster_.feature_importance(importance_type=\"gain\") \\\n",
    "                                       for model in trained_models])/len(trained_models)).astype(np.int32)\n",
    "\n",
    "agreggated_feature_importances = pd.Series(agreggated_feature_importances, index=X.columns).sort_values(ascending=False)\n",
    "\n",
    "plt.figure(figsize=(10, 20))\n",
    "agreggated_feature_importances.plot(kind='barh')"
   ]
  }
 ],
 "metadata": {
  "kernelspec": {
   "display_name": "Python 3",
   "language": "python",
   "name": "python3"
  },
  "language_info": {
   "codemirror_mode": {
    "name": "ipython",
    "version": 3
   },
   "file_extension": ".py",
   "mimetype": "text/x-python",
   "name": "python",
   "nbconvert_exporter": "python",
   "pygments_lexer": "ipython3",
   "version": "3.10.4"
  },
  "papermill": {
   "default_parameters": {},
   "duration": 896.353412,
   "end_time": "2023-10-02T11:17:34.919827",
   "environment_variables": {},
   "exception": null,
   "input_path": "__notebook__.ipynb",
   "output_path": "__notebook__.ipynb",
   "parameters": {},
   "start_time": "2023-10-02T11:02:38.566415",
   "version": "2.4.0"
  }
 },
 "nbformat": 4,
 "nbformat_minor": 5
}
