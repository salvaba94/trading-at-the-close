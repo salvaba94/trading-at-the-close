{
 "cells": [
  {
   "cell_type": "markdown",
   "id": "31d2d631",
   "metadata": {
    "papermill": {
     "duration": 0.005498,
     "end_time": "2023-10-02T11:02:42.336807",
     "exception": false,
     "start_time": "2023-10-02T11:02:42.331309",
     "status": "completed"
    },
    "tags": []
   },
   "source": [
    "# Trading at the Close - Hyperparameter Optimization\n",
    "-----------------------\n",
    "-----------------------\n"
   ]
  },
  {
   "cell_type": "markdown",
   "id": "81622a9b",
   "metadata": {},
   "source": [
    "This notebook is intended to be run after the preprocessing notebook. In here,  However, the XGBoost model does not provide a good objective for the mean absolute error. LGBM does a better job in this regard. Therefore, we'll use the LGBMRegressor and Optuna to find good hyperparameters.\n",
    "\n",
    "We'll also use `loguru` for colored logging :)"
   ]
  },
  {
   "cell_type": "markdown",
   "id": "dff3c249",
   "metadata": {},
   "source": [
    "## Installs\n",
    "-------------"
   ]
  },
  {
   "cell_type": "code",
   "execution_count": 1,
   "id": "b2ea70dd",
   "metadata": {
    "_kg_hide-input": true,
    "_kg_hide-output": true,
    "execution": {
     "iopub.execute_input": "2023-10-02T11:02:42.349100Z",
     "iopub.status.busy": "2023-10-02T11:02:42.348671Z",
     "iopub.status.idle": "2023-10-02T11:02:55.509808Z",
     "shell.execute_reply": "2023-10-02T11:02:55.508203Z"
    },
    "papermill": {
     "duration": 13.170868,
     "end_time": "2023-10-02T11:02:55.512735",
     "exception": false,
     "start_time": "2023-10-02T11:02:42.341867",
     "status": "completed"
    },
    "tags": []
   },
   "outputs": [
    {
     "name": "stdout",
     "output_type": "stream",
     "text": [
      "Looking in indexes: https://pypi.org/simple, https://pypi.ngc.nvidia.com\n",
      "Requirement already satisfied: pandas>=2.1.1 in c:\\users\\salva\\onedrive\\documentos\\python projects\\trading-at-the-close\\.venv\\lib\\site-packages (from -r requirements.txt (line 1)) (2.1.1)\n",
      "Requirement already satisfied: seaborn>=0.13.0 in c:\\users\\salva\\onedrive\\documentos\\python projects\\trading-at-the-close\\.venv\\lib\\site-packages (from -r requirements.txt (line 2)) (0.13.0)\n",
      "Requirement already satisfied: numpy>=1.26.0 in c:\\users\\salva\\onedrive\\documentos\\python projects\\trading-at-the-close\\.venv\\lib\\site-packages (from -r requirements.txt (line 3)) (1.26.0)\n",
      "Requirement already satisfied: xgboost>=2.0.0 in c:\\users\\salva\\onedrive\\documentos\\python projects\\trading-at-the-close\\.venv\\lib\\site-packages (from -r requirements.txt (line 4)) (2.0.0)\n",
      "Requirement already satisfied: lightgbm>=4.1.0 in c:\\users\\salva\\onedrive\\documentos\\python projects\\trading-at-the-close\\.venv\\lib\\site-packages (from -r requirements.txt (line 5)) (4.1.0)\n",
      "Requirement already satisfied: catboost>=1.2.2 in c:\\users\\salva\\onedrive\\documentos\\python projects\\trading-at-the-close\\.venv\\lib\\site-packages (from -r requirements.txt (line 6)) (1.2.2)\n",
      "Requirement already satisfied: scikit-learn>=1.3.1 in c:\\users\\salva\\onedrive\\documentos\\python projects\\trading-at-the-close\\.venv\\lib\\site-packages (from -r requirements.txt (line 7)) (1.3.1)\n",
      "Requirement already satisfied: fastparquet>=2023.8.0 in c:\\users\\salva\\onedrive\\documentos\\python projects\\trading-at-the-close\\.venv\\lib\\site-packages (from -r requirements.txt (line 8)) (2023.8.0)\n",
      "Requirement already satisfied: ray[tune]>=2.7.0 in c:\\users\\salva\\onedrive\\documentos\\python projects\\trading-at-the-close\\.venv\\lib\\site-packages (from -r requirements.txt (line 9)) (2.7.0)\n",
      "Requirement already satisfied: optuna>=3.3.0 in c:\\users\\salva\\onedrive\\documentos\\python projects\\trading-at-the-close\\.venv\\lib\\site-packages (from -r requirements.txt (line 10)) (3.3.0)\n",
      "Requirement already satisfied: optuna-dashboard>=0.12.0 in c:\\users\\salva\\onedrive\\documentos\\python projects\\trading-at-the-close\\.venv\\lib\\site-packages (from -r requirements.txt (line 11)) (0.12.0)\n",
      "Requirement already satisfied: loguru>=0.7.2 in c:\\users\\salva\\onedrive\\documentos\\python projects\\trading-at-the-close\\.venv\\lib\\site-packages (from -r requirements.txt (line 12)) (0.7.2)\n",
      "Requirement already satisfied: nbformat>=5.9.2 in c:\\users\\salva\\onedrive\\documentos\\python projects\\trading-at-the-close\\.venv\\lib\\site-packages (from -r requirements.txt (line 13)) (5.9.2)\n",
      "Requirement already satisfied: python-dateutil>=2.8.2 in c:\\users\\salva\\onedrive\\documentos\\python projects\\trading-at-the-close\\.venv\\lib\\site-packages (from pandas>=2.1.1->-r requirements.txt (line 1)) (2.8.2)\n",
      "Requirement already satisfied: pytz>=2020.1 in c:\\users\\salva\\onedrive\\documentos\\python projects\\trading-at-the-close\\.venv\\lib\\site-packages (from pandas>=2.1.1->-r requirements.txt (line 1)) (2023.3.post1)\n",
      "Requirement already satisfied: tzdata>=2022.1 in c:\\users\\salva\\onedrive\\documentos\\python projects\\trading-at-the-close\\.venv\\lib\\site-packages (from pandas>=2.1.1->-r requirements.txt (line 1)) (2023.3)\n",
      "Requirement already satisfied: matplotlib!=3.6.1,>=3.3 in c:\\users\\salva\\onedrive\\documentos\\python projects\\trading-at-the-close\\.venv\\lib\\site-packages (from seaborn>=0.13.0->-r requirements.txt (line 2)) (3.8.0)\n",
      "Requirement already satisfied: scipy in c:\\users\\salva\\onedrive\\documentos\\python projects\\trading-at-the-close\\.venv\\lib\\site-packages (from xgboost>=2.0.0->-r requirements.txt (line 4)) (1.11.3)\n",
      "Requirement already satisfied: graphviz in c:\\users\\salva\\onedrive\\documentos\\python projects\\trading-at-the-close\\.venv\\lib\\site-packages (from catboost>=1.2.2->-r requirements.txt (line 6)) (0.20.1)\n",
      "Requirement already satisfied: plotly in c:\\users\\salva\\onedrive\\documentos\\python projects\\trading-at-the-close\\.venv\\lib\\site-packages (from catboost>=1.2.2->-r requirements.txt (line 6)) (5.17.0)\n",
      "Requirement already satisfied: six in c:\\users\\salva\\onedrive\\documentos\\python projects\\trading-at-the-close\\.venv\\lib\\site-packages (from catboost>=1.2.2->-r requirements.txt (line 6)) (1.16.0)\n",
      "Requirement already satisfied: joblib>=1.1.1 in c:\\users\\salva\\onedrive\\documentos\\python projects\\trading-at-the-close\\.venv\\lib\\site-packages (from scikit-learn>=1.3.1->-r requirements.txt (line 7)) (1.3.2)\n",
      "Requirement already satisfied: threadpoolctl>=2.0.0 in c:\\users\\salva\\onedrive\\documentos\\python projects\\trading-at-the-close\\.venv\\lib\\site-packages (from scikit-learn>=1.3.1->-r requirements.txt (line 7)) (3.2.0)\n",
      "Requirement already satisfied: cramjam>=2.3 in c:\\users\\salva\\onedrive\\documentos\\python projects\\trading-at-the-close\\.venv\\lib\\site-packages (from fastparquet>=2023.8.0->-r requirements.txt (line 8)) (2.7.0)\n",
      "Requirement already satisfied: fsspec in c:\\users\\salva\\onedrive\\documentos\\python projects\\trading-at-the-close\\.venv\\lib\\site-packages (from fastparquet>=2023.8.0->-r requirements.txt (line 8)) (2023.9.2)\n",
      "Requirement already satisfied: packaging in c:\\users\\salva\\onedrive\\documentos\\python projects\\trading-at-the-close\\.venv\\lib\\site-packages (from fastparquet>=2023.8.0->-r requirements.txt (line 8)) (23.1)\n",
      "Requirement already satisfied: click>=7.0 in c:\\users\\salva\\onedrive\\documentos\\python projects\\trading-at-the-close\\.venv\\lib\\site-packages (from ray[tune]>=2.7.0->-r requirements.txt (line 9)) (8.1.7)\n",
      "Requirement already satisfied: filelock in c:\\users\\salva\\onedrive\\documentos\\python projects\\trading-at-the-close\\.venv\\lib\\site-packages (from ray[tune]>=2.7.0->-r requirements.txt (line 9)) (3.12.4)\n",
      "Requirement already satisfied: jsonschema in c:\\users\\salva\\onedrive\\documentos\\python projects\\trading-at-the-close\\.venv\\lib\\site-packages (from ray[tune]>=2.7.0->-r requirements.txt (line 9)) (4.19.1)\n",
      "Requirement already satisfied: msgpack<2.0.0,>=1.0.0 in c:\\users\\salva\\onedrive\\documentos\\python projects\\trading-at-the-close\\.venv\\lib\\site-packages (from ray[tune]>=2.7.0->-r requirements.txt (line 9)) (1.0.7)\n",
      "Requirement already satisfied: protobuf!=3.19.5,>=3.15.3 in c:\\users\\salva\\onedrive\\documentos\\python projects\\trading-at-the-close\\.venv\\lib\\site-packages (from ray[tune]>=2.7.0->-r requirements.txt (line 9)) (4.24.3)\n",
      "Requirement already satisfied: pyyaml in c:\\users\\salva\\onedrive\\documentos\\python projects\\trading-at-the-close\\.venv\\lib\\site-packages (from ray[tune]>=2.7.0->-r requirements.txt (line 9)) (6.0.1)\n",
      "Requirement already satisfied: aiosignal in c:\\users\\salva\\onedrive\\documentos\\python projects\\trading-at-the-close\\.venv\\lib\\site-packages (from ray[tune]>=2.7.0->-r requirements.txt (line 9)) (1.3.1)\n",
      "Requirement already satisfied: frozenlist in c:\\users\\salva\\onedrive\\documentos\\python projects\\trading-at-the-close\\.venv\\lib\\site-packages (from ray[tune]>=2.7.0->-r requirements.txt (line 9)) (1.4.0)\n",
      "Requirement already satisfied: requests in c:\\users\\salva\\onedrive\\documentos\\python projects\\trading-at-the-close\\.venv\\lib\\site-packages (from ray[tune]>=2.7.0->-r requirements.txt (line 9)) (2.31.0)\n",
      "Requirement already satisfied: tensorboardX>=1.9 in c:\\users\\salva\\onedrive\\documentos\\python projects\\trading-at-the-close\\.venv\\lib\\site-packages (from ray[tune]>=2.7.0->-r requirements.txt (line 9)) (2.6.2.2)\n",
      "Requirement already satisfied: pyarrow<7.0.0,>=6.0.1 in c:\\users\\salva\\onedrive\\documentos\\python projects\\trading-at-the-close\\.venv\\lib\\site-packages (from ray[tune]>=2.7.0->-r requirements.txt (line 9)) (6.0.1)\n",
      "Requirement already satisfied: alembic>=1.5.0 in c:\\users\\salva\\onedrive\\documentos\\python projects\\trading-at-the-close\\.venv\\lib\\site-packages (from optuna>=3.3.0->-r requirements.txt (line 10)) (1.12.0)\n",
      "Requirement already satisfied: cmaes>=0.10.0 in c:\\users\\salva\\onedrive\\documentos\\python projects\\trading-at-the-close\\.venv\\lib\\site-packages (from optuna>=3.3.0->-r requirements.txt (line 10)) (0.10.0)\n",
      "Requirement already satisfied: colorlog in c:\\users\\salva\\onedrive\\documentos\\python projects\\trading-at-the-close\\.venv\\lib\\site-packages (from optuna>=3.3.0->-r requirements.txt (line 10)) (6.7.0)\n",
      "Requirement already satisfied: sqlalchemy>=1.3.0 in c:\\users\\salva\\onedrive\\documentos\\python projects\\trading-at-the-close\\.venv\\lib\\site-packages (from optuna>=3.3.0->-r requirements.txt (line 10)) (2.0.21)\n",
      "Requirement already satisfied: tqdm in c:\\users\\salva\\onedrive\\documentos\\python projects\\trading-at-the-close\\.venv\\lib\\site-packages (from optuna>=3.3.0->-r requirements.txt (line 10)) (4.66.1)\n",
      "Requirement already satisfied: bottle in c:\\users\\salva\\onedrive\\documentos\\python projects\\trading-at-the-close\\.venv\\lib\\site-packages (from optuna-dashboard>=0.12.0->-r requirements.txt (line 11)) (0.12.25)\n",
      "Requirement already satisfied: colorama>=0.3.4 in c:\\users\\salva\\onedrive\\documentos\\python projects\\trading-at-the-close\\.venv\\lib\\site-packages (from loguru>=0.7.2->-r requirements.txt (line 12)) (0.4.6)\n",
      "Requirement already satisfied: win32-setctime>=1.0.0 in c:\\users\\salva\\onedrive\\documentos\\python projects\\trading-at-the-close\\.venv\\lib\\site-packages (from loguru>=0.7.2->-r requirements.txt (line 12)) (1.1.0)\n",
      "Requirement already satisfied: fastjsonschema in c:\\users\\salva\\onedrive\\documentos\\python projects\\trading-at-the-close\\.venv\\lib\\site-packages (from nbformat>=5.9.2->-r requirements.txt (line 13)) (2.18.1)\n",
      "Requirement already satisfied: jupyter-core in c:\\users\\salva\\onedrive\\documentos\\python projects\\trading-at-the-close\\.venv\\lib\\site-packages (from nbformat>=5.9.2->-r requirements.txt (line 13)) (5.3.2)\n",
      "Requirement already satisfied: traitlets>=5.1 in c:\\users\\salva\\onedrive\\documentos\\python projects\\trading-at-the-close\\.venv\\lib\\site-packages (from nbformat>=5.9.2->-r requirements.txt (line 13)) (5.10.1)\n",
      "Requirement already satisfied: Mako in c:\\users\\salva\\onedrive\\documentos\\python projects\\trading-at-the-close\\.venv\\lib\\site-packages (from alembic>=1.5.0->optuna>=3.3.0->-r requirements.txt (line 10)) (1.2.4)\n",
      "Requirement already satisfied: typing-extensions>=4 in c:\\users\\salva\\onedrive\\documentos\\python projects\\trading-at-the-close\\.venv\\lib\\site-packages (from alembic>=1.5.0->optuna>=3.3.0->-r requirements.txt (line 10)) (4.8.0)\n",
      "Requirement already satisfied: attrs>=22.2.0 in c:\\users\\salva\\onedrive\\documentos\\python projects\\trading-at-the-close\\.venv\\lib\\site-packages (from jsonschema->ray[tune]>=2.7.0->-r requirements.txt (line 9)) (23.1.0)\n",
      "Requirement already satisfied: jsonschema-specifications>=2023.03.6 in c:\\users\\salva\\onedrive\\documentos\\python projects\\trading-at-the-close\\.venv\\lib\\site-packages (from jsonschema->ray[tune]>=2.7.0->-r requirements.txt (line 9)) (2023.7.1)\n",
      "Requirement already satisfied: referencing>=0.28.4 in c:\\users\\salva\\onedrive\\documentos\\python projects\\trading-at-the-close\\.venv\\lib\\site-packages (from jsonschema->ray[tune]>=2.7.0->-r requirements.txt (line 9)) (0.30.2)\n",
      "Requirement already satisfied: rpds-py>=0.7.1 in c:\\users\\salva\\onedrive\\documentos\\python projects\\trading-at-the-close\\.venv\\lib\\site-packages (from jsonschema->ray[tune]>=2.7.0->-r requirements.txt (line 9)) (0.10.3)\n",
      "Requirement already satisfied: contourpy>=1.0.1 in c:\\users\\salva\\onedrive\\documentos\\python projects\\trading-at-the-close\\.venv\\lib\\site-packages (from matplotlib!=3.6.1,>=3.3->seaborn>=0.13.0->-r requirements.txt (line 2)) (1.1.1)\n",
      "Requirement already satisfied: cycler>=0.10 in c:\\users\\salva\\onedrive\\documentos\\python projects\\trading-at-the-close\\.venv\\lib\\site-packages (from matplotlib!=3.6.1,>=3.3->seaborn>=0.13.0->-r requirements.txt (line 2)) (0.12.0)\n",
      "Requirement already satisfied: fonttools>=4.22.0 in c:\\users\\salva\\onedrive\\documentos\\python projects\\trading-at-the-close\\.venv\\lib\\site-packages (from matplotlib!=3.6.1,>=3.3->seaborn>=0.13.0->-r requirements.txt (line 2)) (4.43.0)\n",
      "Requirement already satisfied: kiwisolver>=1.0.1 in c:\\users\\salva\\onedrive\\documentos\\python projects\\trading-at-the-close\\.venv\\lib\\site-packages (from matplotlib!=3.6.1,>=3.3->seaborn>=0.13.0->-r requirements.txt (line 2)) (1.4.5)\n",
      "Requirement already satisfied: pillow>=6.2.0 in c:\\users\\salva\\onedrive\\documentos\\python projects\\trading-at-the-close\\.venv\\lib\\site-packages (from matplotlib!=3.6.1,>=3.3->seaborn>=0.13.0->-r requirements.txt (line 2)) (10.0.1)\n",
      "Requirement already satisfied: pyparsing>=2.3.1 in c:\\users\\salva\\onedrive\\documentos\\python projects\\trading-at-the-close\\.venv\\lib\\site-packages (from matplotlib!=3.6.1,>=3.3->seaborn>=0.13.0->-r requirements.txt (line 2)) (3.1.1)\n",
      "Requirement already satisfied: greenlet!=0.4.17 in c:\\users\\salva\\onedrive\\documentos\\python projects\\trading-at-the-close\\.venv\\lib\\site-packages (from sqlalchemy>=1.3.0->optuna>=3.3.0->-r requirements.txt (line 10)) (3.0.0)\n",
      "Requirement already satisfied: platformdirs>=2.5 in c:\\users\\salva\\onedrive\\documentos\\python projects\\trading-at-the-close\\.venv\\lib\\site-packages (from jupyter-core->nbformat>=5.9.2->-r requirements.txt (line 13)) (3.10.0)\n",
      "Requirement already satisfied: pywin32>=300 in c:\\users\\salva\\onedrive\\documentos\\python projects\\trading-at-the-close\\.venv\\lib\\site-packages (from jupyter-core->nbformat>=5.9.2->-r requirements.txt (line 13)) (306)\n",
      "Requirement already satisfied: tenacity>=6.2.0 in c:\\users\\salva\\onedrive\\documentos\\python projects\\trading-at-the-close\\.venv\\lib\\site-packages (from plotly->catboost>=1.2.2->-r requirements.txt (line 6)) (8.2.3)\n",
      "Requirement already satisfied: charset-normalizer<4,>=2 in c:\\users\\salva\\onedrive\\documentos\\python projects\\trading-at-the-close\\.venv\\lib\\site-packages (from requests->ray[tune]>=2.7.0->-r requirements.txt (line 9)) (3.2.0)\n",
      "Requirement already satisfied: idna<4,>=2.5 in c:\\users\\salva\\onedrive\\documentos\\python projects\\trading-at-the-close\\.venv\\lib\\site-packages (from requests->ray[tune]>=2.7.0->-r requirements.txt (line 9)) (3.4)\n",
      "Requirement already satisfied: urllib3<3,>=1.21.1 in c:\\users\\salva\\onedrive\\documentos\\python projects\\trading-at-the-close\\.venv\\lib\\site-packages (from requests->ray[tune]>=2.7.0->-r requirements.txt (line 9)) (2.0.5)\n",
      "Requirement already satisfied: certifi>=2017.4.17 in c:\\users\\salva\\onedrive\\documentos\\python projects\\trading-at-the-close\\.venv\\lib\\site-packages (from requests->ray[tune]>=2.7.0->-r requirements.txt (line 9)) (2023.7.22)\n",
      "Requirement already satisfied: MarkupSafe>=0.9.2 in c:\\users\\salva\\onedrive\\documentos\\python projects\\trading-at-the-close\\.venv\\lib\\site-packages (from Mako->alembic>=1.5.0->optuna>=3.3.0->-r requirements.txt (line 10)) (2.1.3)\n",
      "Note: you may need to restart the kernel to use updated packages.\n"
     ]
    }
   ],
   "source": [
    "%pip install -r requirements.txt"
   ]
  },
  {
   "cell_type": "code",
   "execution_count": 2,
   "id": "5a9c81ff",
   "metadata": {
    "_kg_hide-input": true,
    "execution": {
     "iopub.execute_input": "2023-10-02T11:02:55.526290Z",
     "iopub.status.busy": "2023-10-02T11:02:55.525205Z",
     "iopub.status.idle": "2023-10-02T11:03:02.125249Z",
     "shell.execute_reply": "2023-10-02T11:03:02.123885Z"
    },
    "papermill": {
     "duration": 6.609425,
     "end_time": "2023-10-02T11:03:02.127754",
     "exception": false,
     "start_time": "2023-10-02T11:02:55.518329",
     "status": "completed"
    },
    "tags": []
   },
   "outputs": [
    {
     "name": "stderr",
     "output_type": "stream",
     "text": [
      "c:\\Users\\salva\\OneDrive\\Documentos\\Python Projects\\trading-at-the-close\\.venv\\lib\\site-packages\\tqdm\\auto.py:21: TqdmWarning: IProgress not found. Please update jupyter and ipywidgets. See https://ipywidgets.readthedocs.io/en/stable/user_install.html\n",
      "  from .autonotebook import tqdm as notebook_tqdm\n"
     ]
    }
   ],
   "source": [
    "import sys\n",
    "import numpy as np\n",
    "from pathlib import Path\n",
    "from loguru import logger\n",
    "from pprint import pformat\n",
    "import pandas as pd\n",
    "import json\n",
    "from sklearn.model_selection import train_test_split, TimeSeriesSplit\n",
    "from sklearn.metrics import mean_absolute_error\n",
    "from lightgbm import LGBMRegressor\n",
    "import lightgbm as lgb\n",
    "import matplotlib.pyplot as plt\n",
    "import seaborn as sns\n",
    "from timeit import default_timer as timer\n",
    "from IPython.display import clear_output\n",
    "import optuna\n",
    "from optuna.samplers import TPESampler, CmaEsSampler\n",
    "from optuna.pruners import MedianPruner, HyperbandPruner\n",
    "from optuna.visualization import (\n",
    "    plot_optimization_history,\n",
    "    plot_param_importances,\n",
    "    plot_parallel_coordinate,\n",
    ")\n",
    "\n",
    "optuna.logging.set_verbosity(optuna.logging.WARNING)\n",
    "sns.set_style(\"ticks\")"
   ]
  },
  {
   "cell_type": "code",
   "execution_count": 17,
   "id": "f2f12d73",
   "metadata": {},
   "outputs": [],
   "source": [
    "class CFG:\n",
    "    JOBS_PATH = Path(\".\", \"job_artifacts\")\n",
    "    JOB_NAME = \"optiver-tuning_lgbmregressor\"\n",
    "    TRAINING_PATH = Path(\".\", \"train_files\", \"train.csv\")\n",
    "    FEATURES_PATH = JOBS_PATH.joinpath(\"optiver-feature_selection-0002\")\n",
    "    FEATURES_NAME = \"feature_names.json\"\n",
    "    BEST_PARAMS = \"best_params.json\"\n",
    "    RANDOM_STATE = 123\n",
    "    USE_GPU = False\n",
    "    MODEL = LGBMRegressor\n",
    "    CROSSVAL = TimeSeriesSplit\n",
    "    SAMPLER = CmaEsSampler\n",
    "    PRUNER = HyperbandPruner\n",
    "    USE_BEST = True\n",
    "    JOB_PATH_BEST = JOBS_PATH.joinpath(\"optiver-tuning_lgbmregressor-0006\")\n",
    "    HYPERTUNE = True\n",
    "    PRELOAD_STUDY = False\n",
    "    N_FOLDS = 5\n",
    "    N_TRIALS = 200\n",
    "    N_JOBS = 4"
   ]
  },
  {
   "cell_type": "code",
   "execution_count": 4,
   "id": "d74a8e1e",
   "metadata": {},
   "outputs": [],
   "source": [
    "def lgbm_param_space(trial):\n",
    "    \"\"\"Returns the parameter space of a LGBMRegressor.\"\"\"\n",
    "    # num_leaves should be smaller than 2^{max_depth}\n",
    "    max_depth = trial.suggest_int(\"max_depth\", 5, 12)\n",
    "    num_leaves = trial.suggest_int(\"num_leaves\", 20, int((2**max_depth) * 0.75))\n",
    "\n",
    "    param_space = {\n",
    "        \"device\": trial.suggest_categorical(\"device\", [\"gpu\" if CFG.USE_GPU else \"cpu\"]),\n",
    "        \"verbose\": trial.suggest_categorical(\"verbose\", [-1]),\n",
    "        \"n_jobs\": trial.suggest_categorical(\"n_jobs\", [1]),\n",
    "        #\"random_state\": trial.suggest_categorical(\"random_state\", [CFG.RANDOM_STATE]),\n",
    "        \"objective\": trial.suggest_categorical(\"objective\", [\"mae\"]),\n",
    "        \"n_estimators\": trial.suggest_categorical(\"n_estimators\", [750]), # automatically via early stopping\n",
    "        \"boosting_type\": trial.suggest_categorical(\"boosting_type\", [\"gbdt\"]),\n",
    "        \"min_child_samples\": trial.suggest_int(\"min_child_samples\", 400, 2000),\n",
    "        \"subsample\": trial.suggest_float(\"subsample\", 0.4, 1.0),\n",
    "        \"subsample_freq\": trial.suggest_categorical(\"subsample_freq\", [0, 1]),\n",
    "        \"subsample_for_bin\": trial.suggest_int(\"subsample_for_bin\", 100000, 600000),\n",
    "        \"colsample_bytree\": trial.suggest_float(\"colsample_bytree\", 0.4, 1.0),\n",
    "        #\"reg_alpha\": trial.suggest_float(\"reg_alpha\", 1e-3, 2.0, log=True),\n",
    "        \"reg_lambda\": trial.suggest_float(\"reg_lambda\", 5e-1, 3.0, log=True),\n",
    "        \"learning_rate\": trial.suggest_float(\"learning_rate\", 0.001, 0.12, log=False),\n",
    "        \"num_leaves\": num_leaves,\n",
    "        \"max_depth\": max_depth,\n",
    "        \"min_split_gain\": trial.suggest_float(\"min_split_gain\", 0, 3),\n",
    "    }\n",
    "\n",
    "    return param_space\n",
    "\n",
    "\n",
    "\n",
    "def lgbm_callbacks(trial):\n",
    "    \"\"\"Returns the callbacks for a LGBMRegressor.\"\"\"\n",
    "    optuna_prune = optuna.integration.LightGBMPruningCallback(trial, \"l1\", report_interval=100)\n",
    "    inner_early_stop = lgb.early_stopping(25, verbose=False)\n",
    "\n",
    "    return [inner_early_stop]\n",
    "    #return [optuna_prune, inner_early_stop]\n",
    "\n",
    "\n",
    "MODEL_CFG = {\n",
    "    LGBMRegressor.__name__ : {\n",
    "        \"param_space\": lgbm_param_space,\n",
    "        \"callbacks\": lgbm_callbacks\n",
    "    }\n",
    "}  "
   ]
  },
  {
   "cell_type": "code",
   "execution_count": 5,
   "id": "4b8288a3",
   "metadata": {},
   "outputs": [],
   "source": [
    "CFG.JOBS_PATH.mkdir(exist_ok=True, parents=True)\n",
    "\n",
    "for i in range(1, 10000):\n",
    "    CFG.JOB_PATH = CFG.JOBS_PATH.joinpath(CFG.JOB_NAME + \"-\" +  str(i).zfill(4))\n",
    "    try:\n",
    "        CFG.JOB_PATH.mkdir()\n",
    "        break\n",
    "    except:\n",
    "        continue"
   ]
  },
  {
   "cell_type": "markdown",
   "id": "65ac1e3e",
   "metadata": {
    "papermill": {
     "duration": 0.004759,
     "end_time": "2023-10-02T11:03:02.137906",
     "exception": false,
     "start_time": "2023-10-02T11:03:02.133147",
     "status": "completed"
    },
    "tags": []
   },
   "source": [
    "## Data Loading\n",
    "---------------\n",
    "\n",
    "In the next cell, I define code to load the data and to generate features with optional memory reduction. I write these two functions in a file called `preprocess.py` with the cell magi `%%writefile`, so that I can import it with `from preprocess import load_data`. With this, my other notebooks can do the same thing without having to redefine these functions. In case I make changes, all notebooks automatically use the same updated version."
   ]
  },
  {
   "cell_type": "code",
   "execution_count": 6,
   "id": "9b85b6b1",
   "metadata": {
    "_kg_hide-input": true,
    "execution": {
     "iopub.execute_input": "2023-10-02T11:03:02.173881Z",
     "iopub.status.busy": "2023-10-02T11:03:02.173493Z",
     "iopub.status.idle": "2023-10-02T11:03:28.669708Z",
     "shell.execute_reply": "2023-10-02T11:03:28.667820Z"
    },
    "papermill": {
     "duration": 26.50526,
     "end_time": "2023-10-02T11:03:28.672058",
     "exception": false,
     "start_time": "2023-10-02T11:03:02.166798",
     "status": "completed"
    },
    "tags": []
   },
   "outputs": [
    {
     "name": "stderr",
     "output_type": "stream",
     "text": [
      "\u001b[32m2023-10-12 15:00:00.402\u001b[0m | \u001b[1mINFO    \u001b[0m | \u001b[36mutils.featurizers\u001b[0m:\u001b[36mfeaturize\u001b[0m:\u001b[36m16\u001b[0m - \u001b[1mCreating additional features...\u001b[0m\n",
      "\u001b[32m2023-10-12 15:00:46.440\u001b[0m | \u001b[1mINFO    \u001b[0m | \u001b[36mutils.featurizers\u001b[0m:\u001b[36mfeaturize\u001b[0m:\u001b[36m64\u001b[0m - \u001b[1mDropping unnecesary features...\u001b[0m\n",
      "\u001b[32m2023-10-12 15:00:46.845\u001b[0m | \u001b[1mINFO    \u001b[0m | \u001b[36mutils.featurizers\u001b[0m:\u001b[36mfeaturize\u001b[0m:\u001b[36m68\u001b[0m - \u001b[1mReducing data memory footprint...\u001b[0m\n",
      "\u001b[32m2023-10-12 15:00:46.845\u001b[0m | \u001b[1mINFO    \u001b[0m | \u001b[36mutils.compression\u001b[0m:\u001b[36mdowncast\u001b[0m:\u001b[36m11\u001b[0m - \u001b[1mMemory usage of dataframe is 639.40 MB\u001b[0m\n",
      "\u001b[32m2023-10-12 15:00:50.096\u001b[0m | \u001b[1mINFO    \u001b[0m | \u001b[36mutils.compression\u001b[0m:\u001b[36mdowncast\u001b[0m:\u001b[36m20\u001b[0m - \u001b[1mMemory usage after optimization is: 394.63 MB\u001b[0m\n",
      "\u001b[32m2023-10-12 15:00:50.096\u001b[0m | \u001b[1mINFO    \u001b[0m | \u001b[36mutils.compression\u001b[0m:\u001b[36mdowncast\u001b[0m:\u001b[36m22\u001b[0m - \u001b[1mDecreased by 38.28%\u001b[0m\n"
     ]
    }
   ],
   "source": [
    "from utils.featurizers import featurize\n",
    "from utils.files import read_json\n",
    "\n",
    "df = pd.read_csv(CFG.TRAINING_PATH)\n",
    "selected_features = read_json(CFG.FEATURES_PATH.joinpath(CFG.FEATURES_NAME))[\"selected_features\"]\n",
    "\n",
    "# Get features\n",
    "featurize(df, selected_features)\n",
    "\n",
    "# Clean entries with no predictive value\n",
    "df.dropna(subset=\"target\", inplace=True)\n",
    "\n",
    "# Separate features from dependent variable\n",
    "Y = df[\"target\"]\n",
    "X = df.drop(columns=[\"target\"])\n",
    "\n",
    "del df"
   ]
  },
  {
   "cell_type": "markdown",
   "id": "009f1820",
   "metadata": {
    "papermill": {
     "duration": 0.005141,
     "end_time": "2023-10-02T11:03:28.683009",
     "exception": false,
     "start_time": "2023-10-02T11:03:28.677868",
     "status": "completed"
    },
    "tags": []
   },
   "source": [
    "# Hyperparameter Optimization"
   ]
  },
  {
   "cell_type": "markdown",
   "id": "713576cb",
   "metadata": {
    "papermill": {
     "duration": 0.005066,
     "end_time": "2023-10-02T11:03:28.693358",
     "exception": false,
     "start_time": "2023-10-02T11:03:28.688292",
     "status": "completed"
    },
    "tags": []
   },
   "source": [
    "## Setup the evaluation process\n",
    "\n",
    "We have two options:\n",
    "1. Use a simple train-test split for evaluation\n",
    "2. Use a Cross-Validation with TimeSeriesSplit for more robust evaluation\n",
    "\n",
    "The second option is much more expensive to tune, but it yields more robust estimations of mean absolute error.\n",
    "We define functions for both and then try them out!"
   ]
  },
  {
   "cell_type": "markdown",
   "id": "219cb6e4",
   "metadata": {
    "papermill": {
     "duration": 0.004951,
     "end_time": "2023-10-02T11:03:28.703572",
     "exception": false,
     "start_time": "2023-10-02T11:03:28.698621",
     "status": "completed"
    },
    "tags": []
   },
   "source": [
    "### Evaluation via Cross Validation with TimeSeriesSplit"
   ]
  },
  {
   "cell_type": "code",
   "execution_count": 7,
   "id": "aaf04b27",
   "metadata": {
    "execution": {
     "iopub.execute_input": "2023-10-02T11:03:28.717267Z",
     "iopub.status.busy": "2023-10-02T11:03:28.716389Z",
     "iopub.status.idle": "2023-10-02T11:03:28.726074Z",
     "shell.execute_reply": "2023-10-02T11:03:28.724813Z"
    },
    "papermill": {
     "duration": 0.019196,
     "end_time": "2023-10-02T11:03:28.728344",
     "exception": false,
     "start_time": "2023-10-02T11:03:28.709148",
     "status": "completed"
    },
    "tags": []
   },
   "outputs": [],
   "source": [
    "def cross_validate(model, x, y, cv=TimeSeriesSplit(), scorer=mean_absolute_error, callbacks=None):\n",
    "    scores = np.zeros(cv.n_splits)\n",
    "    \n",
    "    logger.info(f\"Starting evaluation...\")\n",
    "    logger.info(\"=\" * 30)\n",
    "    for i, (train_index, val_index) in enumerate(cv.split(x)):\n",
    "        \n",
    "        x_train, x_val = x.iloc[train_index], x.iloc[val_index]\n",
    "        y_train, y_val = y.iloc[train_index], y.iloc[val_index]\n",
    "\n",
    "        start = timer()\n",
    "        model.fit(x_train, y_train, eval_set=[(x_val, y_val)], callbacks=callbacks)\n",
    "        end = timer()\n",
    "        \n",
    "        y_pred = model.predict(x_val)\n",
    "        scores[i] = scorer(y_pred, y_val)\n",
    "        logger.info(f\"Fold {i + 1}: {scores[i]:.4f} (took {end - start:.2f}s)\")\n",
    "        \n",
    "    logger.info(\"-\" * 30)\n",
    "    logger.success(f\"Average MAE = {scores.mean():.4f} ± {scores.std():.2f}\")\n",
    "    logger.info(\"=\" * 30)\n",
    "    \n",
    "    return scores"
   ]
  },
  {
   "cell_type": "markdown",
   "id": "49156428",
   "metadata": {
    "papermill": {
     "duration": 0.005047,
     "end_time": "2023-10-02T11:03:28.771186",
     "exception": false,
     "start_time": "2023-10-02T11:03:28.766139",
     "status": "completed"
    },
    "tags": []
   },
   "source": [
    "## Optimization specifics\n",
    "\n",
    "We define a convenience function `run_optimization`, that starts the optimization process with sane defaults, given a objective function.\n",
    "\n",
    "The objective function is returned by the `get_objective_function` method, which configures the logging and evaluation process (\"simple\" or \"cross_validate\").\n",
    "Inside this method, the parameter space is defined using the optuna `trial` object."
   ]
  },
  {
   "cell_type": "code",
   "execution_count": 18,
   "id": "b32c3119",
   "metadata": {
    "execution": {
     "iopub.execute_input": "2023-10-02T11:03:28.784018Z",
     "iopub.status.busy": "2023-10-02T11:03:28.783557Z",
     "iopub.status.idle": "2023-10-02T11:03:28.791751Z",
     "shell.execute_reply": "2023-10-02T11:03:28.790263Z"
    },
    "papermill": {
     "duration": 0.017202,
     "end_time": "2023-10-02T11:03:28.793731",
     "exception": false,
     "start_time": "2023-10-02T11:03:28.776529",
     "status": "completed"
    },
    "tags": []
   },
   "outputs": [],
   "source": [
    "# Optimization runner\n",
    "def run_optimization(objective, n_trials=100, sampler=TPESampler(), pruner=MedianPruner(), n_jobs=1, best_trial=None):\n",
    "    \"\"\"Run the given objective with Optuna and return the study results.\"\"\"\n",
    "\n",
    "    study_name = \"optuna-study\"\n",
    "    storage = \"sqlite:///\" + str(CFG.JOB_PATH.joinpath(study_name)) + \".sqlite3\"\n",
    "    logger.info(f\"Creating study...\")\n",
    "\n",
    "\n",
    "    if CFG.PRELOAD_STUDY:\n",
    "        study = optuna.load_study(\n",
    "            study_name=study_name, \n",
    "            direction=\"minimize\", \n",
    "            sampler=sampler,\n",
    "            pruner=pruner,\n",
    "            storage=storage\n",
    "        )\n",
    "\n",
    "    else:\n",
    "        try:\n",
    "            optuna.study.delete_study(\n",
    "                study_name=study_name,\n",
    "                storage=storage\n",
    "            )\n",
    "        except:\n",
    "            logger.warning(f\"Study does not exist...\")\n",
    "\n",
    "        study = optuna.create_study(\n",
    "            study_name=study_name, \n",
    "            direction=\"minimize\", \n",
    "            sampler=sampler,\n",
    "            pruner=pruner,\n",
    "            storage=storage\n",
    "        )\n",
    "\n",
    "        if best_trial is not None:\n",
    "            logger.info(\"Enqueuing previous best trial ...\")\n",
    "            study.enqueue_trial(best_trial)\n",
    "\n",
    "        logger.info(f\"Running hyperparameter search...\")\n",
    "        study.optimize(objective, n_trials=n_trials, n_jobs=n_jobs, show_progress_bar=True)\n",
    "\n",
    "    logger.info(f\"Number of finished trials: {len(study.trials)}\")\n",
    "    logger.success(f\"Best MAE: {study.best_value:.4f}\")\n",
    "\n",
    "    logger.info(\"Parameters: \")\n",
    "    logger.info(\"=\" * 10)\n",
    "    logger.success(pformat(study.best_params, indent=4))\n",
    "\n",
    "    logger.info(f\"Saving best parameters...\")\n",
    "    with open(\"best_params.json\", \"w\") as f:\n",
    "        json.dump(study.best_params, f)\n",
    "    return study"
   ]
  },
  {
   "cell_type": "code",
   "execution_count": 9,
   "id": "9a339cf1",
   "metadata": {
    "execution": {
     "iopub.execute_input": "2023-10-02T11:03:28.807356Z",
     "iopub.status.busy": "2023-10-02T11:03:28.806585Z",
     "iopub.status.idle": "2023-10-02T11:03:28.818648Z",
     "shell.execute_reply": "2023-10-02T11:03:28.816994Z"
    },
    "papermill": {
     "duration": 0.021943,
     "end_time": "2023-10-02T11:03:28.821250",
     "exception": false,
     "start_time": "2023-10-02T11:03:28.799307",
     "status": "completed"
    },
    "tags": []
   },
   "outputs": [],
   "source": [
    "def get_objective_function(model_cls, param_func, x, y, cv=TimeSeriesSplit(), callbacks_func=None):\n",
    "    \"\"\"Returns the objective function for optuna.\"\"\"\n",
    "        \n",
    "    def objective_function(trial):\n",
    "        \"\"\"Optimizes a model with cross-validation.\"\"\"\n",
    "\n",
    "        param_space = param_func(trial)\n",
    "        callbacks = callbacks_func(trial) if callbacks_func is not None else None\n",
    "        model = model_cls(**param_space)    \n",
    "        scores = cross_validate(model, x, y, cv=cv, callbacks=callbacks)\n",
    "        return scores.mean()\n",
    "\n",
    "    return objective_function"
   ]
  },
  {
   "cell_type": "markdown",
   "id": "e9b5f453",
   "metadata": {
    "papermill": {
     "duration": 0.005598,
     "end_time": "2023-10-02T11:03:28.832703",
     "exception": false,
     "start_time": "2023-10-02T11:03:28.827105",
     "status": "completed"
    },
    "tags": []
   },
   "source": [
    "### Start the optimization\n",
    "\n",
    "We can set these variables here:\n",
    "1. `run_lgbm_optimization`: Whether to run the optimization or use already computed ones.\n",
    "2. `n_trials`: How many trials we want to sample.\n",
    "3. `logging_level`: Configures the logging level inside evaluation functions (use either `'info'` or `'success'`)\n",
    "4. `evaluation`: Use either 'simple' for simple train-test split or 'cross_validate' for cross validation using TimeSeriesSplit.\n",
    "5. `cv`: the Split object\n",
    "6. `reuse_best_trial`: whether to reuse a previously tuned best trial for this optimization\n",
    "\n",
    "*Warning*: `evaluation='cross_validate'` takes very long!"
   ]
  },
  {
   "cell_type": "code",
   "execution_count": 19,
   "id": "8bd50b4c",
   "metadata": {
    "_kg_hide-input": true,
    "execution": {
     "iopub.execute_input": "2023-10-02T11:03:28.846579Z",
     "iopub.status.busy": "2023-10-02T11:03:28.846193Z",
     "iopub.status.idle": "2023-10-02T11:03:28.853087Z",
     "shell.execute_reply": "2023-10-02T11:03:28.851631Z"
    },
    "papermill": {
     "duration": 0.01693,
     "end_time": "2023-10-02T11:03:28.855878",
     "exception": false,
     "start_time": "2023-10-02T11:03:28.838948",
     "status": "completed"
    },
    "tags": []
   },
   "outputs": [],
   "source": [
    "from utils.files import read_json\n",
    "\n",
    "if CFG.USE_BEST:\n",
    "    best_params = read_json(CFG.JOB_PATH_BEST.joinpath(CFG.BEST_PARAMS))"
   ]
  },
  {
   "cell_type": "code",
   "execution_count": 22,
   "id": "aaa20787",
   "metadata": {
    "execution": {
     "iopub.execute_input": "2023-10-02T11:03:28.870450Z",
     "iopub.status.busy": "2023-10-02T11:03:28.870104Z",
     "iopub.status.idle": "2023-10-02T11:03:28.878252Z",
     "shell.execute_reply": "2023-10-02T11:03:28.876766Z"
    },
    "papermill": {
     "duration": 0.019469,
     "end_time": "2023-10-02T11:03:28.881471",
     "exception": false,
     "start_time": "2023-10-02T11:03:28.862002",
     "status": "completed"
    },
    "tags": []
   },
   "outputs": [
    {
     "name": "stderr",
     "output_type": "stream",
     "text": [
      "\u001b[32m2023-10-12 16:26:42.865\u001b[0m | \u001b[1mINFO    \u001b[0m | \u001b[36m__main__\u001b[0m:\u001b[36mrun_optimization\u001b[0m:\u001b[36m7\u001b[0m - \u001b[1mCreating study...\u001b[0m\n",
      "\u001b[32m2023-10-12 16:26:43.846\u001b[0m | \u001b[1mINFO    \u001b[0m | \u001b[36m__main__\u001b[0m:\u001b[36mrun_optimization\u001b[0m:\u001b[36m37\u001b[0m - \u001b[1mEnqueuing previous best trial ...\u001b[0m\n",
      "\u001b[32m2023-10-12 16:26:43.865\u001b[0m | \u001b[1mINFO    \u001b[0m | \u001b[36m__main__\u001b[0m:\u001b[36mrun_optimization\u001b[0m:\u001b[36m40\u001b[0m - \u001b[1mRunning hyperparameter search...\u001b[0m\n",
      "  0%|          | 0/200 [00:00<?, ?it/s]\u001b[32m2023-10-12 16:26:44.396\u001b[0m | \u001b[1mINFO    \u001b[0m | \u001b[36m__main__\u001b[0m:\u001b[36mcross_validate\u001b[0m:\u001b[36m4\u001b[0m - \u001b[1mStarting evaluation...\u001b[0m\n",
      "\u001b[32m2023-10-12 16:26:44.399\u001b[0m | \u001b[1mINFO    \u001b[0m | \u001b[36m__main__\u001b[0m:\u001b[36mcross_validate\u001b[0m:\u001b[36m5\u001b[0m - \u001b[1m==============================\u001b[0m\n",
      "\u001b[32m2023-10-12 16:26:44.985\u001b[0m | \u001b[1mINFO    \u001b[0m | \u001b[36m__main__\u001b[0m:\u001b[36mcross_validate\u001b[0m:\u001b[36m4\u001b[0m - \u001b[1mStarting evaluation...\u001b[0m\n",
      "\u001b[32m2023-10-12 16:26:44.985\u001b[0m | \u001b[1mINFO    \u001b[0m | \u001b[36m__main__\u001b[0m:\u001b[36mcross_validate\u001b[0m:\u001b[36m5\u001b[0m - \u001b[1m==============================\u001b[0m\n",
      "\u001b[32m2023-10-12 16:26:45.363\u001b[0m | \u001b[1mINFO    \u001b[0m | \u001b[36m__main__\u001b[0m:\u001b[36mcross_validate\u001b[0m:\u001b[36m4\u001b[0m - \u001b[1mStarting evaluation...\u001b[0m\n",
      "\u001b[32m2023-10-12 16:26:45.363\u001b[0m | \u001b[1mINFO    \u001b[0m | \u001b[36m__main__\u001b[0m:\u001b[36mcross_validate\u001b[0m:\u001b[36m5\u001b[0m - \u001b[1m==============================\u001b[0m\n",
      "\u001b[32m2023-10-12 16:26:45.394\u001b[0m | \u001b[1mINFO    \u001b[0m | \u001b[36m__main__\u001b[0m:\u001b[36mcross_validate\u001b[0m:\u001b[36m4\u001b[0m - \u001b[1mStarting evaluation...\u001b[0m\n",
      "\u001b[32m2023-10-12 16:26:45.401\u001b[0m | \u001b[1mINFO    \u001b[0m | \u001b[36m__main__\u001b[0m:\u001b[36mcross_validate\u001b[0m:\u001b[36m5\u001b[0m - \u001b[1m==============================\u001b[0m\n",
      "\u001b[32m2023-10-12 16:26:45.459\u001b[0m | \u001b[1mINFO    \u001b[0m | \u001b[36m__main__\u001b[0m:\u001b[36mcross_validate\u001b[0m:\u001b[36m4\u001b[0m - \u001b[1mStarting evaluation...\u001b[0m\n",
      "\u001b[32m2023-10-12 16:26:45.462\u001b[0m | \u001b[1mINFO    \u001b[0m | \u001b[36m__main__\u001b[0m:\u001b[36mcross_validate\u001b[0m:\u001b[36m5\u001b[0m - \u001b[1m==============================\u001b[0m\n",
      "\u001b[32m2023-10-12 16:27:09.799\u001b[0m | \u001b[1mINFO    \u001b[0m | \u001b[36m__main__\u001b[0m:\u001b[36mcross_validate\u001b[0m:\u001b[36m17\u001b[0m - \u001b[1mFold 1: 7.2914 (took 17.74s)\u001b[0m\n",
      "\u001b[32m2023-10-12 16:27:31.797\u001b[0m | \u001b[1mINFO    \u001b[0m | \u001b[36m__main__\u001b[0m:\u001b[36mcross_validate\u001b[0m:\u001b[36m17\u001b[0m - \u001b[1mFold 1: 7.2865 (took 30.88s)\u001b[0m\n",
      "\u001b[32m2023-10-12 16:27:33.266\u001b[0m | \u001b[1mINFO    \u001b[0m | \u001b[36m__main__\u001b[0m:\u001b[36mcross_validate\u001b[0m:\u001b[36m17\u001b[0m - \u001b[1mFold 1: 7.2879 (took 32.48s)\u001b[0m\n",
      "\u001b[32m2023-10-12 16:27:37.454\u001b[0m | \u001b[1mINFO    \u001b[0m | \u001b[36m__main__\u001b[0m:\u001b[36mcross_validate\u001b[0m:\u001b[36m17\u001b[0m - \u001b[1mFold 1: 7.2873 (took 35.31s)\u001b[0m\n",
      "\u001b[32m2023-10-12 16:28:00.565\u001b[0m | \u001b[1mINFO    \u001b[0m | \u001b[36m__main__\u001b[0m:\u001b[36mcross_validate\u001b[0m:\u001b[36m17\u001b[0m - \u001b[1mFold 2: 6.7704 (took 38.25s)\u001b[0m\n",
      "c:\\Users\\salva\\OneDrive\\Documentos\\Python Projects\\trading-at-the-close\\.venv\\lib\\site-packages\\optuna\\trial\\_trial.py:494: UserWarning:\n",
      "\n",
      "The reported value is ignored because this `step` 99 is already reported.\n",
      "\n",
      "\u001b[32m2023-10-12 16:28:46.328\u001b[0m | \u001b[1mINFO    \u001b[0m | \u001b[36m__main__\u001b[0m:\u001b[36mcross_validate\u001b[0m:\u001b[36m17\u001b[0m - \u001b[1mFold 3: 6.1005 (took 39.62s)\u001b[0m\n",
      "\u001b[32m2023-10-12 16:28:54.757\u001b[0m | \u001b[1mINFO    \u001b[0m | \u001b[36m__main__\u001b[0m:\u001b[36mcross_validate\u001b[0m:\u001b[36m17\u001b[0m - \u001b[1mFold 1: 7.2857 (took 74.16s)\u001b[0m\n",
      "\u001b[32m2023-10-12 16:28:55.549\u001b[0m | \u001b[1mINFO    \u001b[0m | \u001b[36m__main__\u001b[0m:\u001b[36mcross_validate\u001b[0m:\u001b[36m17\u001b[0m - \u001b[1mFold 2: 6.7679 (took 61.17s)\u001b[0m\n",
      "\u001b[32m2023-10-12 16:29:24.274\u001b[0m | \u001b[1mINFO    \u001b[0m | \u001b[36m__main__\u001b[0m:\u001b[36mcross_validate\u001b[0m:\u001b[36m17\u001b[0m - \u001b[1mFold 2: 6.7640 (took 83.99s)\u001b[0m\n",
      "c:\\Users\\salva\\OneDrive\\Documentos\\Python Projects\\trading-at-the-close\\.venv\\lib\\site-packages\\optuna\\trial\\_trial.py:494: UserWarning:\n",
      "\n",
      "The reported value is ignored because this `step` 99 is already reported.\n",
      "\n",
      "\u001b[32m2023-10-12 16:29:44.488\u001b[0m | \u001b[1mINFO    \u001b[0m | \u001b[36m__main__\u001b[0m:\u001b[36mcross_validate\u001b[0m:\u001b[36m17\u001b[0m - \u001b[1mFold 4: 6.3225 (took 51.70s)\u001b[0m\n",
      "\u001b[32m2023-10-12 16:29:52.240\u001b[0m | \u001b[1mINFO    \u001b[0m | \u001b[36m__main__\u001b[0m:\u001b[36mcross_validate\u001b[0m:\u001b[36m17\u001b[0m - \u001b[1mFold 2: 6.7645 (took 98.60s)\u001b[0m\n",
      "c:\\Users\\salva\\OneDrive\\Documentos\\Python Projects\\trading-at-the-close\\.venv\\lib\\site-packages\\optuna\\trial\\_trial.py:494: UserWarning:\n",
      "\n",
      "The reported value is ignored because this `step` 199 is already reported.\n",
      "\n",
      "\u001b[32m2023-10-12 16:30:10.728\u001b[0m | \u001b[1mINFO    \u001b[0m | \u001b[36m__main__\u001b[0m:\u001b[36mcross_validate\u001b[0m:\u001b[36m17\u001b[0m - \u001b[1mFold 3: 6.1001 (took 64.25s)\u001b[0m\n",
      "c:\\Users\\salva\\OneDrive\\Documentos\\Python Projects\\trading-at-the-close\\.venv\\lib\\site-packages\\optuna\\trial\\_trial.py:494: UserWarning:\n",
      "\n",
      "The reported value is ignored because this `step` 99 is already reported.\n",
      "\n",
      "c:\\Users\\salva\\OneDrive\\Documentos\\Python Projects\\trading-at-the-close\\.venv\\lib\\site-packages\\optuna\\trial\\_trial.py:494: UserWarning:\n",
      "\n",
      "The reported value is ignored because this `step` 299 is already reported.\n",
      "\n",
      "c:\\Users\\salva\\OneDrive\\Documentos\\Python Projects\\trading-at-the-close\\.venv\\lib\\site-packages\\optuna\\trial\\_trial.py:494: UserWarning:\n",
      "\n",
      "The reported value is ignored because this `step` 399 is already reported.\n",
      "\n",
      "\u001b[32m2023-10-12 16:31:13.303\u001b[0m | \u001b[1mINFO    \u001b[0m | \u001b[36m__main__\u001b[0m:\u001b[36mcross_validate\u001b[0m:\u001b[36m17\u001b[0m - \u001b[1mFold 3: 6.0969 (took 92.86s)\u001b[0m\n",
      "\u001b[32m2023-10-12 16:31:15.152\u001b[0m | \u001b[1mINFO    \u001b[0m | \u001b[36m__main__\u001b[0m:\u001b[36mcross_validate\u001b[0m:\u001b[36m17\u001b[0m - \u001b[1mFold 5: 5.8841 (took 80.96s)\u001b[0m\n",
      "\u001b[32m2023-10-12 16:31:15.153\u001b[0m | \u001b[1mINFO    \u001b[0m | \u001b[36m__main__\u001b[0m:\u001b[36mcross_validate\u001b[0m:\u001b[36m19\u001b[0m - \u001b[1m------------------------------\u001b[0m\n",
      "\u001b[32m2023-10-12 16:31:15.153\u001b[0m | \u001b[32m\u001b[1mSUCCESS \u001b[0m | \u001b[36m__main__\u001b[0m:\u001b[36mcross_validate\u001b[0m:\u001b[36m20\u001b[0m - \u001b[32m\u001b[1mAverage MAE = 6.4738 ± 0.50\u001b[0m\n",
      "\u001b[32m2023-10-12 16:31:15.154\u001b[0m | \u001b[1mINFO    \u001b[0m | \u001b[36m__main__\u001b[0m:\u001b[36mcross_validate\u001b[0m:\u001b[36m21\u001b[0m - \u001b[1m==============================\u001b[0m\n",
      "Best trial: 1. Best value: 6.47378:   0%|          | 1/200 [04:31<14:59:57, 271.34s/it]\u001b[32m2023-10-12 16:31:15.460\u001b[0m | \u001b[1mINFO    \u001b[0m | \u001b[36m__main__\u001b[0m:\u001b[36mcross_validate\u001b[0m:\u001b[36m4\u001b[0m - \u001b[1mStarting evaluation...\u001b[0m\n",
      "\u001b[32m2023-10-12 16:31:15.462\u001b[0m | \u001b[1mINFO    \u001b[0m | \u001b[36m__main__\u001b[0m:\u001b[36mcross_validate\u001b[0m:\u001b[36m5\u001b[0m - \u001b[1m==============================\u001b[0m\n",
      "c:\\Users\\salva\\OneDrive\\Documentos\\Python Projects\\trading-at-the-close\\.venv\\lib\\site-packages\\optuna\\trial\\_trial.py:494: UserWarning:\n",
      "\n",
      "The reported value is ignored because this `step` 99 is already reported.\n",
      "\n",
      "Best trial: 1. Best value: 6.47378:   1%|          | 2/200 [04:45<6:36:03, 120.02s/it] \u001b[32m2023-10-12 16:31:29.587\u001b[0m | \u001b[1mINFO    \u001b[0m | \u001b[36m__main__\u001b[0m:\u001b[36mcross_validate\u001b[0m:\u001b[36m4\u001b[0m - \u001b[1mStarting evaluation...\u001b[0m\n",
      "\u001b[32m2023-10-12 16:31:29.588\u001b[0m | \u001b[1mINFO    \u001b[0m | \u001b[36m__main__\u001b[0m:\u001b[36mcross_validate\u001b[0m:\u001b[36m5\u001b[0m - \u001b[1m==============================\u001b[0m\n",
      "c:\\Users\\salva\\OneDrive\\Documentos\\Python Projects\\trading-at-the-close\\.venv\\lib\\site-packages\\optuna\\trial\\_trial.py:494: UserWarning:\n",
      "\n",
      "The reported value is ignored because this `step` 199 is already reported.\n",
      "\n",
      "\u001b[32m2023-10-12 16:31:52.250\u001b[0m | \u001b[1mINFO    \u001b[0m | \u001b[36m__main__\u001b[0m:\u001b[36mcross_validate\u001b[0m:\u001b[36m17\u001b[0m - \u001b[1mFold 4: 6.3204 (took 86.51s)\u001b[0m\n",
      "\u001b[32m2023-10-12 16:31:54.314\u001b[0m | \u001b[1mINFO    \u001b[0m | \u001b[36m__main__\u001b[0m:\u001b[36mcross_validate\u001b[0m:\u001b[36m17\u001b[0m - \u001b[1mFold 1: 7.2870 (took 17.74s)\u001b[0m\n",
      "\u001b[32m2023-10-12 16:31:55.080\u001b[0m | \u001b[1mINFO    \u001b[0m | \u001b[36m__main__\u001b[0m:\u001b[36mcross_validate\u001b[0m:\u001b[36m17\u001b[0m - \u001b[1mFold 3: 6.0959 (took 99.78s)\u001b[0m\n",
      "c:\\Users\\salva\\OneDrive\\Documentos\\Python Projects\\trading-at-the-close\\.venv\\lib\\site-packages\\optuna\\trial\\_trial.py:494: UserWarning:\n",
      "\n",
      "The reported value is ignored because this `step` 99 is already reported.\n",
      "\n",
      "\u001b[32m2023-10-12 16:32:25.462\u001b[0m | \u001b[1mINFO    \u001b[0m | \u001b[36m__main__\u001b[0m:\u001b[36mcross_validate\u001b[0m:\u001b[36m17\u001b[0m - \u001b[1mFold 2: 6.7739 (took 25.51s)\u001b[0m\n",
      "c:\\Users\\salva\\OneDrive\\Documentos\\Python Projects\\trading-at-the-close\\.venv\\lib\\site-packages\\optuna\\trial\\_trial.py:494: UserWarning:\n",
      "\n",
      "The reported value is ignored because this `step` 99 is already reported.\n",
      "\n",
      "\u001b[32m2023-10-12 16:32:54.575\u001b[0m | \u001b[1mINFO    \u001b[0m | \u001b[36m__main__\u001b[0m:\u001b[36mcross_validate\u001b[0m:\u001b[36m17\u001b[0m - \u001b[1mFold 2: 6.7641 (took 170.70s)\u001b[0m\n",
      "c:\\Users\\salva\\OneDrive\\Documentos\\Python Projects\\trading-at-the-close\\.venv\\lib\\site-packages\\optuna\\trial\\_trial.py:494: UserWarning:\n",
      "\n",
      "The reported value is ignored because this `step` 99 is already reported.\n",
      "\n",
      "c:\\Users\\salva\\OneDrive\\Documentos\\Python Projects\\trading-at-the-close\\.venv\\lib\\site-packages\\optuna\\trial\\_trial.py:494: UserWarning:\n",
      "\n",
      "The reported value is ignored because this `step` 99 is already reported.\n",
      "\n",
      "\u001b[32m2023-10-12 16:33:09.769\u001b[0m | \u001b[1mINFO    \u001b[0m | \u001b[36m__main__\u001b[0m:\u001b[36mcross_validate\u001b[0m:\u001b[36m17\u001b[0m - \u001b[1mFold 4: 6.3208 (took 101.00s)\u001b[0m\n",
      "\u001b[32m2023-10-12 16:33:10.127\u001b[0m | \u001b[1mINFO    \u001b[0m | \u001b[36m__main__\u001b[0m:\u001b[36mcross_validate\u001b[0m:\u001b[36m17\u001b[0m - \u001b[1mFold 3: 6.1009 (took 38.03s)\u001b[0m\n",
      "c:\\Users\\salva\\OneDrive\\Documentos\\Python Projects\\trading-at-the-close\\.venv\\lib\\site-packages\\optuna\\trial\\_trial.py:494: UserWarning:\n",
      "\n",
      "The reported value is ignored because this `step` 99 is already reported.\n",
      "\n",
      "\u001b[32m2023-10-12 16:33:39.831\u001b[0m | \u001b[1mINFO    \u001b[0m | \u001b[36m__main__\u001b[0m:\u001b[36mcross_validate\u001b[0m:\u001b[36m17\u001b[0m - \u001b[1mFold 5: 5.8829 (took 93.74s)\u001b[0m\n",
      "\u001b[32m2023-10-12 16:33:39.837\u001b[0m | \u001b[1mINFO    \u001b[0m | \u001b[36m__main__\u001b[0m:\u001b[36mcross_validate\u001b[0m:\u001b[36m19\u001b[0m - \u001b[1m------------------------------\u001b[0m\n",
      "\u001b[32m2023-10-12 16:33:39.838\u001b[0m | \u001b[32m\u001b[1mSUCCESS \u001b[0m | \u001b[36m__main__\u001b[0m:\u001b[36mcross_validate\u001b[0m:\u001b[36m20\u001b[0m - \u001b[32m\u001b[1mAverage MAE = 6.4716 ± 0.50\u001b[0m\n",
      "\u001b[32m2023-10-12 16:33:39.838\u001b[0m | \u001b[1mINFO    \u001b[0m | \u001b[36m__main__\u001b[0m:\u001b[36mcross_validate\u001b[0m:\u001b[36m21\u001b[0m - \u001b[1m==============================\u001b[0m\n",
      "Best trial: 4. Best value: 6.47157:   2%|▏         | 3/200 [06:56<6:49:55, 124.85s/it]\u001b[32m2023-10-12 16:33:40.176\u001b[0m | \u001b[1mINFO    \u001b[0m | \u001b[36m__main__\u001b[0m:\u001b[36mcross_validate\u001b[0m:\u001b[36m4\u001b[0m - \u001b[1mStarting evaluation...\u001b[0m\n",
      "\u001b[32m2023-10-12 16:33:40.177\u001b[0m | \u001b[1mINFO    \u001b[0m | \u001b[36m__main__\u001b[0m:\u001b[36mcross_validate\u001b[0m:\u001b[36m5\u001b[0m - \u001b[1m==============================\u001b[0m\n",
      "c:\\Users\\salva\\OneDrive\\Documentos\\Python Projects\\trading-at-the-close\\.venv\\lib\\site-packages\\optuna\\trial\\_trial.py:494: UserWarning:\n",
      "\n",
      "The reported value is ignored because this `step` 99 is already reported.\n",
      "\n",
      "c:\\Users\\salva\\OneDrive\\Documentos\\Python Projects\\trading-at-the-close\\.venv\\lib\\site-packages\\optuna\\trial\\_trial.py:494: UserWarning:\n",
      "\n",
      "The reported value is ignored because this `step` 99 is already reported.\n",
      "\n",
      "\u001b[32m2023-10-12 16:33:58.653\u001b[0m | \u001b[1mINFO    \u001b[0m | \u001b[36m__main__\u001b[0m:\u001b[36mcross_validate\u001b[0m:\u001b[36m17\u001b[0m - \u001b[1mFold 1: 7.2916 (took 14.53s)\u001b[0m\n",
      "\u001b[32m2023-10-12 16:33:59.197\u001b[0m | \u001b[1mINFO    \u001b[0m | \u001b[36m__main__\u001b[0m:\u001b[36mcross_validate\u001b[0m:\u001b[36m17\u001b[0m - \u001b[1mFold 4: 6.3292 (took 44.13s)\u001b[0m\n",
      "\u001b[32m2023-10-12 16:34:10.456\u001b[0m | \u001b[1mINFO    \u001b[0m | \u001b[36m__main__\u001b[0m:\u001b[36mcross_validate\u001b[0m:\u001b[36m17\u001b[0m - \u001b[1mFold 4: 6.3195 (took 114.90s)\u001b[0m\n",
      "c:\\Users\\salva\\OneDrive\\Documentos\\Python Projects\\trading-at-the-close\\.venv\\lib\\site-packages\\optuna\\trial\\_trial.py:494: UserWarning:\n",
      "\n",
      "The reported value is ignored because this `step` 99 is already reported.\n",
      "\n",
      "c:\\Users\\salva\\OneDrive\\Documentos\\Python Projects\\trading-at-the-close\\.venv\\lib\\site-packages\\optuna\\trial\\_trial.py:494: UserWarning:\n",
      "\n",
      "The reported value is ignored because this `step` 199 is already reported.\n",
      "\n",
      "c:\\Users\\salva\\OneDrive\\Documentos\\Python Projects\\trading-at-the-close\\.venv\\lib\\site-packages\\optuna\\trial\\_trial.py:494: UserWarning:\n",
      "\n",
      "The reported value is ignored because this `step` 99 is already reported.\n",
      "\n",
      "\u001b[32m2023-10-12 16:34:54.173\u001b[0m | \u001b[1mINFO    \u001b[0m | \u001b[36m__main__\u001b[0m:\u001b[36mcross_validate\u001b[0m:\u001b[36m17\u001b[0m - \u001b[1mFold 2: 6.7695 (took 44.58s)\u001b[0m\n",
      "c:\\Users\\salva\\OneDrive\\Documentos\\Python Projects\\trading-at-the-close\\.venv\\lib\\site-packages\\optuna\\trial\\_trial.py:494: UserWarning:\n",
      "\n",
      "The reported value is ignored because this `step` 299 is already reported.\n",
      "\n",
      "\u001b[32m2023-10-12 16:35:16.386\u001b[0m | \u001b[1mINFO    \u001b[0m | \u001b[36m__main__\u001b[0m:\u001b[36mcross_validate\u001b[0m:\u001b[36m17\u001b[0m - \u001b[1mFold 5: 5.8909 (took 69.86s)\u001b[0m\n",
      "\u001b[32m2023-10-12 16:35:16.386\u001b[0m | \u001b[1mINFO    \u001b[0m | \u001b[36m__main__\u001b[0m:\u001b[36mcross_validate\u001b[0m:\u001b[36m19\u001b[0m - \u001b[1m------------------------------\u001b[0m\n",
      "\u001b[32m2023-10-12 16:35:16.386\u001b[0m | \u001b[32m\u001b[1mSUCCESS \u001b[0m | \u001b[36m__main__\u001b[0m:\u001b[36mcross_validate\u001b[0m:\u001b[36m20\u001b[0m - \u001b[32m\u001b[1mAverage MAE = 6.4764 ± 0.50\u001b[0m\n",
      "\u001b[32m2023-10-12 16:35:16.386\u001b[0m | \u001b[1mINFO    \u001b[0m | \u001b[36m__main__\u001b[0m:\u001b[36mcross_validate\u001b[0m:\u001b[36m21\u001b[0m - \u001b[1m==============================\u001b[0m\n",
      "Best trial: 4. Best value: 6.47157:   2%|▏         | 4/200 [08:32<6:11:21, 113.68s/it]\u001b[32m2023-10-12 16:35:16.858\u001b[0m | \u001b[1mINFO    \u001b[0m | \u001b[36m__main__\u001b[0m:\u001b[36mcross_validate\u001b[0m:\u001b[36m4\u001b[0m - \u001b[1mStarting evaluation...\u001b[0m\n",
      "\u001b[32m2023-10-12 16:35:16.858\u001b[0m | \u001b[1mINFO    \u001b[0m | \u001b[36m__main__\u001b[0m:\u001b[36mcross_validate\u001b[0m:\u001b[36m5\u001b[0m - \u001b[1m==============================\u001b[0m\n",
      "c:\\Users\\salva\\OneDrive\\Documentos\\Python Projects\\trading-at-the-close\\.venv\\lib\\site-packages\\optuna\\trial\\_trial.py:494: UserWarning:\n",
      "\n",
      "The reported value is ignored because this `step` 99 is already reported.\n",
      "\n",
      "Best trial: 4. Best value: 6.47157:   2%|▎         | 5/200 [08:48<4:14:55, 78.44s/it] \u001b[32m2023-10-12 16:35:32.698\u001b[0m | \u001b[1mINFO    \u001b[0m | \u001b[36m__main__\u001b[0m:\u001b[36mcross_validate\u001b[0m:\u001b[36m4\u001b[0m - \u001b[1mStarting evaluation...\u001b[0m\n",
      "\u001b[32m2023-10-12 16:35:32.699\u001b[0m | \u001b[1mINFO    \u001b[0m | \u001b[36m__main__\u001b[0m:\u001b[36mcross_validate\u001b[0m:\u001b[36m5\u001b[0m - \u001b[1m==============================\u001b[0m\n",
      "c:\\Users\\salva\\OneDrive\\Documentos\\Python Projects\\trading-at-the-close\\.venv\\lib\\site-packages\\optuna\\trial\\_trial.py:494: UserWarning:\n",
      "\n",
      "The reported value is ignored because this `step` 99 is already reported.\n",
      "\n",
      "\u001b[32m2023-10-12 16:35:42.357\u001b[0m | \u001b[1mINFO    \u001b[0m | \u001b[36m__main__\u001b[0m:\u001b[36mcross_validate\u001b[0m:\u001b[36m17\u001b[0m - \u001b[1mFold 3: 6.0988 (took 42.39s)\u001b[0m\n",
      "Best trial: 4. Best value: 6.47157:   3%|▎         | 6/200 [09:08<3:09:30, 58.61s/it]\u001b[32m2023-10-12 16:35:52.818\u001b[0m | \u001b[1mINFO    \u001b[0m | \u001b[36m__main__\u001b[0m:\u001b[36mcross_validate\u001b[0m:\u001b[36m4\u001b[0m - \u001b[1mStarting evaluation...\u001b[0m\n",
      "\u001b[32m2023-10-12 16:35:52.819\u001b[0m | \u001b[1mINFO    \u001b[0m | \u001b[36m__main__\u001b[0m:\u001b[36mcross_validate\u001b[0m:\u001b[36m5\u001b[0m - \u001b[1m==============================\u001b[0m\n",
      "\u001b[32m2023-10-12 16:36:08.740\u001b[0m | \u001b[1mINFO    \u001b[0m | \u001b[36m__main__\u001b[0m:\u001b[36mcross_validate\u001b[0m:\u001b[36m17\u001b[0m - \u001b[1mFold 5: 5.8816 (took 157.54s)\u001b[0m\n",
      "\u001b[32m2023-10-12 16:36:08.740\u001b[0m | \u001b[1mINFO    \u001b[0m | \u001b[36m__main__\u001b[0m:\u001b[36mcross_validate\u001b[0m:\u001b[36m19\u001b[0m - \u001b[1m------------------------------\u001b[0m\n",
      "\u001b[32m2023-10-12 16:36:08.740\u001b[0m | \u001b[32m\u001b[1mSUCCESS \u001b[0m | \u001b[36m__main__\u001b[0m:\u001b[36mcross_validate\u001b[0m:\u001b[36m20\u001b[0m - \u001b[32m\u001b[1mAverage MAE = 6.4702 ± 0.50\u001b[0m\n",
      "\u001b[32m2023-10-12 16:36:08.740\u001b[0m | \u001b[1mINFO    \u001b[0m | \u001b[36m__main__\u001b[0m:\u001b[36mcross_validate\u001b[0m:\u001b[36m21\u001b[0m - \u001b[1m==============================\u001b[0m\n",
      "Best trial: 3. Best value: 6.47025:   4%|▎         | 7/200 [09:24<2:24:02, 44.78s/it]\u001b[32m2023-10-12 16:36:09.093\u001b[0m | \u001b[1mINFO    \u001b[0m | \u001b[36m__main__\u001b[0m:\u001b[36mcross_validate\u001b[0m:\u001b[36m4\u001b[0m - \u001b[1mStarting evaluation...\u001b[0m\n",
      "\u001b[32m2023-10-12 16:36:09.095\u001b[0m | \u001b[1mINFO    \u001b[0m | \u001b[36m__main__\u001b[0m:\u001b[36mcross_validate\u001b[0m:\u001b[36m5\u001b[0m - \u001b[1m==============================\u001b[0m\n",
      "\u001b[32m2023-10-12 16:36:09.854\u001b[0m | \u001b[1mINFO    \u001b[0m | \u001b[36m__main__\u001b[0m:\u001b[36mcross_validate\u001b[0m:\u001b[36m17\u001b[0m - \u001b[1mFold 3: 6.0960 (took 153.62s)\u001b[0m\n",
      "\u001b[32m2023-10-12 16:36:19.093\u001b[0m | \u001b[1mINFO    \u001b[0m | \u001b[36m__main__\u001b[0m:\u001b[36mcross_validate\u001b[0m:\u001b[36m17\u001b[0m - \u001b[1mFold 1: 7.2902 (took 18.71s)\u001b[0m\n",
      "c:\\Users\\salva\\OneDrive\\Documentos\\Python Projects\\trading-at-the-close\\.venv\\lib\\site-packages\\optuna\\trial\\_trial.py:494: UserWarning:\n",
      "\n",
      "The reported value is ignored because this `step` 99 is already reported.\n",
      "\n",
      "Best trial: 3. Best value: 6.47025:   4%|▍         | 8/200 [09:43<1:56:52, 36.52s/it]\u001b[32m2023-10-12 16:36:27.961\u001b[0m | \u001b[1mINFO    \u001b[0m | \u001b[36m__main__\u001b[0m:\u001b[36mcross_validate\u001b[0m:\u001b[36m4\u001b[0m - \u001b[1mStarting evaluation...\u001b[0m\n",
      "\u001b[32m2023-10-12 16:36:27.961\u001b[0m | \u001b[1mINFO    \u001b[0m | \u001b[36m__main__\u001b[0m:\u001b[36mcross_validate\u001b[0m:\u001b[36m5\u001b[0m - \u001b[1m==============================\u001b[0m\n",
      "\u001b[32m2023-10-12 16:36:36.795\u001b[0m | \u001b[1mINFO    \u001b[0m | \u001b[36m__main__\u001b[0m:\u001b[36mcross_validate\u001b[0m:\u001b[36m17\u001b[0m - \u001b[1mFold 4: 6.3284 (took 49.22s)\u001b[0m\n",
      "c:\\Users\\salva\\OneDrive\\Documentos\\Python Projects\\trading-at-the-close\\.venv\\lib\\site-packages\\optuna\\trial\\_trial.py:494: UserWarning:\n",
      "\n",
      "The reported value is ignored because this `step` 199 is already reported.\n",
      "\n",
      "c:\\Users\\salva\\OneDrive\\Documentos\\Python Projects\\trading-at-the-close\\.venv\\lib\\site-packages\\optuna\\trial\\_trial.py:494: UserWarning:\n",
      "\n",
      "The reported value is ignored because this `step` 99 is already reported.\n",
      "\n",
      "\u001b[32m2023-10-12 16:36:57.716\u001b[0m | \u001b[1mINFO    \u001b[0m | \u001b[36m__main__\u001b[0m:\u001b[36mcross_validate\u001b[0m:\u001b[36m17\u001b[0m - \u001b[1mFold 1: 7.2902 (took 22.45s)\u001b[0m\n",
      "\u001b[32m2023-10-12 16:37:01.207\u001b[0m | \u001b[1mINFO    \u001b[0m | \u001b[36m__main__\u001b[0m:\u001b[36mcross_validate\u001b[0m:\u001b[36m17\u001b[0m - \u001b[1mFold 2: 6.7699 (took 33.68s)\u001b[0m\n",
      "c:\\Users\\salva\\OneDrive\\Documentos\\Python Projects\\trading-at-the-close\\.venv\\lib\\site-packages\\optuna\\trial\\_trial.py:494: UserWarning:\n",
      "\n",
      "The reported value is ignored because this `step` 99 is already reported.\n",
      "\n",
      "c:\\Users\\salva\\OneDrive\\Documentos\\Python Projects\\trading-at-the-close\\.venv\\lib\\site-packages\\optuna\\trial\\_trial.py:494: UserWarning:\n",
      "\n",
      "The reported value is ignored because this `step` 99 is already reported.\n",
      "\n",
      "\u001b[32m2023-10-12 16:37:38.680\u001b[0m | \u001b[1mINFO    \u001b[0m | \u001b[36m__main__\u001b[0m:\u001b[36mcross_validate\u001b[0m:\u001b[36m17\u001b[0m - \u001b[1mFold 3: 6.1000 (took 33.03s)\u001b[0m\n",
      "\u001b[32m2023-10-12 16:37:42.497\u001b[0m | \u001b[1mINFO    \u001b[0m | \u001b[36m__main__\u001b[0m:\u001b[36mcross_validate\u001b[0m:\u001b[36m17\u001b[0m - \u001b[1mFold 2: 6.7712 (took 37.04s)\u001b[0m\n",
      "\u001b[32m2023-10-12 16:37:46.683\u001b[0m | \u001b[1mINFO    \u001b[0m | \u001b[36m__main__\u001b[0m:\u001b[36mcross_validate\u001b[0m:\u001b[36m17\u001b[0m - \u001b[1mFold 5: 5.8813 (took 186.03s)\u001b[0m\n",
      "\u001b[32m2023-10-12 16:37:46.683\u001b[0m | \u001b[1mINFO    \u001b[0m | \u001b[36m__main__\u001b[0m:\u001b[36mcross_validate\u001b[0m:\u001b[36m19\u001b[0m - \u001b[1m------------------------------\u001b[0m\n",
      "\u001b[32m2023-10-12 16:37:46.683\u001b[0m | \u001b[32m\u001b[1mSUCCESS \u001b[0m | \u001b[36m__main__\u001b[0m:\u001b[36mcross_validate\u001b[0m:\u001b[36m20\u001b[0m - \u001b[32m\u001b[1mAverage MAE = 6.4697 ± 0.50\u001b[0m\n",
      "\u001b[32m2023-10-12 16:37:46.683\u001b[0m | \u001b[1mINFO    \u001b[0m | \u001b[36m__main__\u001b[0m:\u001b[36mcross_validate\u001b[0m:\u001b[36m21\u001b[0m - \u001b[1m==============================\u001b[0m\n",
      "Best trial: 0. Best value: 6.4697:   4%|▍         | 9/200 [11:02<2:38:35, 49.82s/it] \u001b[32m2023-10-12 16:37:46.997\u001b[0m | \u001b[1mINFO    \u001b[0m | \u001b[36m__main__\u001b[0m:\u001b[36mcross_validate\u001b[0m:\u001b[36m4\u001b[0m - \u001b[1mStarting evaluation...\u001b[0m\n",
      "\u001b[32m2023-10-12 16:37:46.998\u001b[0m | \u001b[1mINFO    \u001b[0m | \u001b[36m__main__\u001b[0m:\u001b[36mcross_validate\u001b[0m:\u001b[36m5\u001b[0m - \u001b[1m==============================\u001b[0m\n",
      "\u001b[32m2023-10-12 16:37:50.579\u001b[0m | \u001b[1mINFO    \u001b[0m | \u001b[36m__main__\u001b[0m:\u001b[36mcross_validate\u001b[0m:\u001b[36m17\u001b[0m - \u001b[1mFold 5: 5.8904 (took 67.63s)\u001b[0m\n",
      "\u001b[32m2023-10-12 16:37:50.579\u001b[0m | \u001b[1mINFO    \u001b[0m | \u001b[36m__main__\u001b[0m:\u001b[36mcross_validate\u001b[0m:\u001b[36m19\u001b[0m - \u001b[1m------------------------------\u001b[0m\n",
      "\u001b[32m2023-10-12 16:37:50.579\u001b[0m | \u001b[32m\u001b[1mSUCCESS \u001b[0m | \u001b[36m__main__\u001b[0m:\u001b[36mcross_validate\u001b[0m:\u001b[36m20\u001b[0m - \u001b[32m\u001b[1mAverage MAE = 6.4758 ± 0.50\u001b[0m\n",
      "\u001b[32m2023-10-12 16:37:50.586\u001b[0m | \u001b[1mINFO    \u001b[0m | \u001b[36m__main__\u001b[0m:\u001b[36mcross_validate\u001b[0m:\u001b[36m21\u001b[0m - \u001b[1m==============================\u001b[0m\n",
      "Best trial: 0. Best value: 6.4697:   5%|▌         | 10/200 [11:06<1:52:52, 35.64s/it]\u001b[32m2023-10-12 16:37:50.914\u001b[0m | \u001b[1mINFO    \u001b[0m | \u001b[36m__main__\u001b[0m:\u001b[36mcross_validate\u001b[0m:\u001b[36m4\u001b[0m - \u001b[1mStarting evaluation...\u001b[0m\n",
      "\u001b[32m2023-10-12 16:37:50.915\u001b[0m | \u001b[1mINFO    \u001b[0m | \u001b[36m__main__\u001b[0m:\u001b[36mcross_validate\u001b[0m:\u001b[36m5\u001b[0m - \u001b[1m==============================\u001b[0m\n",
      "c:\\Users\\salva\\OneDrive\\Documentos\\Python Projects\\trading-at-the-close\\.venv\\lib\\site-packages\\optuna\\trial\\_trial.py:494: UserWarning:\n",
      "\n",
      "The reported value is ignored because this `step` 199 is already reported.\n",
      "\n",
      "Best trial: 0. Best value: 6.4697:   6%|▌         | 11/200 [11:24<1:35:19, 30.26s/it]\u001b[32m2023-10-12 16:38:09.031\u001b[0m | \u001b[1mINFO    \u001b[0m | \u001b[36m__main__\u001b[0m:\u001b[36mcross_validate\u001b[0m:\u001b[36m4\u001b[0m - \u001b[1mStarting evaluation...\u001b[0m\n",
      "\u001b[32m2023-10-12 16:38:09.031\u001b[0m | \u001b[1mINFO    \u001b[0m | \u001b[36m__main__\u001b[0m:\u001b[36mcross_validate\u001b[0m:\u001b[36m5\u001b[0m - \u001b[1m==============================\u001b[0m\n",
      "\u001b[32m2023-10-12 16:38:22.023\u001b[0m | \u001b[1mINFO    \u001b[0m | \u001b[36m__main__\u001b[0m:\u001b[36mcross_validate\u001b[0m:\u001b[36m17\u001b[0m - \u001b[1mFold 4: 6.3227 (took 39.40s)\u001b[0m\n",
      "Best trial: 0. Best value: 6.4697:   6%|▌         | 12/200 [11:41<1:22:03, 26.19s/it]\u001b[32m2023-10-12 16:38:25.934\u001b[0m | \u001b[1mINFO    \u001b[0m | \u001b[36m__main__\u001b[0m:\u001b[36mcross_validate\u001b[0m:\u001b[36m4\u001b[0m - \u001b[1mStarting evaluation...\u001b[0m\n",
      "\u001b[32m2023-10-12 16:38:25.941\u001b[0m | \u001b[1mINFO    \u001b[0m | \u001b[36m__main__\u001b[0m:\u001b[36mcross_validate\u001b[0m:\u001b[36m5\u001b[0m - \u001b[1m==============================\u001b[0m\n",
      "\u001b[32m2023-10-12 16:38:32.267\u001b[0m | \u001b[1mINFO    \u001b[0m | \u001b[36m__main__\u001b[0m:\u001b[36mcross_validate\u001b[0m:\u001b[36m17\u001b[0m - \u001b[1mFold 3: 6.1003 (took 44.30s)\u001b[0m\n",
      "Best trial: 0. Best value: 6.4697:   6%|▋         | 13/200 [11:49<1:04:25, 20.67s/it]\u001b[32m2023-10-12 16:38:33.893\u001b[0m | \u001b[1mINFO    \u001b[0m | \u001b[36m__main__\u001b[0m:\u001b[36mcross_validate\u001b[0m:\u001b[36m4\u001b[0m - \u001b[1mStarting evaluation...\u001b[0m\n",
      "\u001b[32m2023-10-12 16:38:33.894\u001b[0m | \u001b[1mINFO    \u001b[0m | \u001b[36m__main__\u001b[0m:\u001b[36mcross_validate\u001b[0m:\u001b[36m5\u001b[0m - \u001b[1m==============================\u001b[0m\n",
      "Best trial: 0. Best value: 6.4697:   7%|▋         | 14/200 [12:02<56:19, 18.17s/it]  \u001b[32m2023-10-12 16:38:46.268\u001b[0m | \u001b[1mINFO    \u001b[0m | \u001b[36m__main__\u001b[0m:\u001b[36mcross_validate\u001b[0m:\u001b[36m4\u001b[0m - \u001b[1mStarting evaluation...\u001b[0m\n",
      "\u001b[32m2023-10-12 16:38:46.269\u001b[0m | \u001b[1mINFO    \u001b[0m | \u001b[36m__main__\u001b[0m:\u001b[36mcross_validate\u001b[0m:\u001b[36m5\u001b[0m - \u001b[1m==============================\u001b[0m\n",
      "c:\\Users\\salva\\OneDrive\\Documentos\\Python Projects\\trading-at-the-close\\.venv\\lib\\site-packages\\optuna\\trial\\_trial.py:494: UserWarning:\n",
      "\n",
      "The reported value is ignored because this `step` 299 is already reported.\n",
      "\n",
      "\u001b[32m2023-10-12 16:39:26.652\u001b[0m | \u001b[1mINFO    \u001b[0m | \u001b[36m__main__\u001b[0m:\u001b[36mcross_validate\u001b[0m:\u001b[36m17\u001b[0m - \u001b[1mFold 1: 7.2866 (took 34.28s)\u001b[0m\n",
      "\u001b[32m2023-10-12 16:39:28.314\u001b[0m | \u001b[1mINFO    \u001b[0m | \u001b[36m__main__\u001b[0m:\u001b[36mcross_validate\u001b[0m:\u001b[36m17\u001b[0m - \u001b[1mFold 4: 6.3241 (took 164.68s)\u001b[0m\n",
      "\u001b[32m2023-10-12 16:39:30.070\u001b[0m | \u001b[1mINFO    \u001b[0m | \u001b[36m__main__\u001b[0m:\u001b[36mcross_validate\u001b[0m:\u001b[36m17\u001b[0m - \u001b[1mFold 4: 6.3217 (took 52.83s)\u001b[0m\n",
      "c:\\Users\\salva\\OneDrive\\Documentos\\Python Projects\\trading-at-the-close\\.venv\\lib\\site-packages\\optuna\\trial\\_trial.py:494: UserWarning:\n",
      "\n",
      "The reported value is ignored because this `step` 99 is already reported.\n",
      "\n",
      "\u001b[32m2023-10-12 16:39:43.630\u001b[0m | \u001b[1mINFO    \u001b[0m | \u001b[36m__main__\u001b[0m:\u001b[36mcross_validate\u001b[0m:\u001b[36m17\u001b[0m - \u001b[1mFold 5: 5.8844 (took 72.39s)\u001b[0m\n",
      "\u001b[32m2023-10-12 16:39:43.631\u001b[0m | \u001b[1mINFO    \u001b[0m | \u001b[36m__main__\u001b[0m:\u001b[36mcross_validate\u001b[0m:\u001b[36m19\u001b[0m - \u001b[1m------------------------------\u001b[0m\n",
      "\u001b[32m2023-10-12 16:39:43.632\u001b[0m | \u001b[32m\u001b[1mSUCCESS \u001b[0m | \u001b[36m__main__\u001b[0m:\u001b[36mcross_validate\u001b[0m:\u001b[36m20\u001b[0m - \u001b[32m\u001b[1mAverage MAE = 6.4734 ± 0.50\u001b[0m\n",
      "\u001b[32m2023-10-12 16:39:43.633\u001b[0m | \u001b[1mINFO    \u001b[0m | \u001b[36m__main__\u001b[0m:\u001b[36mcross_validate\u001b[0m:\u001b[36m21\u001b[0m - \u001b[1m==============================\u001b[0m\n",
      "Best trial: 0. Best value: 6.4697:   8%|▊         | 15/200 [12:59<1:32:48, 30.10s/it]\u001b[32m2023-10-12 16:39:43.998\u001b[0m | \u001b[1mINFO    \u001b[0m | \u001b[36m__main__\u001b[0m:\u001b[36mcross_validate\u001b[0m:\u001b[36m4\u001b[0m - \u001b[1mStarting evaluation...\u001b[0m\n",
      "\u001b[32m2023-10-12 16:39:43.999\u001b[0m | \u001b[1mINFO    \u001b[0m | \u001b[36m__main__\u001b[0m:\u001b[36mcross_validate\u001b[0m:\u001b[36m5\u001b[0m - \u001b[1m==============================\u001b[0m\n",
      "\u001b[32m2023-10-12 16:39:48.473\u001b[0m | \u001b[1mINFO    \u001b[0m | \u001b[36m__main__\u001b[0m:\u001b[36mcross_validate\u001b[0m:\u001b[36m17\u001b[0m - \u001b[1mFold 1: 7.2870 (took 39.28s)\u001b[0m\n",
      "c:\\Users\\salva\\OneDrive\\Documentos\\Python Projects\\trading-at-the-close\\.venv\\lib\\site-packages\\optuna\\trial\\_trial.py:494: UserWarning:\n",
      "\n",
      "The reported value is ignored because this `step` 99 is already reported.\n",
      "\n",
      "Best trial: 0. Best value: 6.4697:   8%|▊         | 16/200 [13:24<1:27:43, 28.60s/it]\u001b[32m2023-10-12 16:40:09.159\u001b[0m | \u001b[1mINFO    \u001b[0m | \u001b[36m__main__\u001b[0m:\u001b[36mcross_validate\u001b[0m:\u001b[36m4\u001b[0m - \u001b[1mStarting evaluation...\u001b[0m\n",
      "\u001b[32m2023-10-12 16:40:09.160\u001b[0m | \u001b[1mINFO    \u001b[0m | \u001b[36m__main__\u001b[0m:\u001b[36mcross_validate\u001b[0m:\u001b[36m5\u001b[0m - \u001b[1m==============================\u001b[0m\n",
      "c:\\Users\\salva\\OneDrive\\Documentos\\Python Projects\\trading-at-the-close\\.venv\\lib\\site-packages\\optuna\\trial\\_trial.py:494: UserWarning:\n",
      "\n",
      "The reported value is ignored because this `step` 99 is already reported.\n",
      "\n",
      "Best trial: 0. Best value: 6.4697:   8%|▊         | 17/200 [13:50<1:24:02, 27.55s/it]\u001b[32m2023-10-12 16:40:34.266\u001b[0m | \u001b[1mINFO    \u001b[0m | \u001b[36m__main__\u001b[0m:\u001b[36mcross_validate\u001b[0m:\u001b[36m4\u001b[0m - \u001b[1mStarting evaluation...\u001b[0m\n",
      "\u001b[32m2023-10-12 16:40:34.267\u001b[0m | \u001b[1mINFO    \u001b[0m | \u001b[36m__main__\u001b[0m:\u001b[36mcross_validate\u001b[0m:\u001b[36m5\u001b[0m - \u001b[1m==============================\u001b[0m\n",
      "c:\\Users\\salva\\OneDrive\\Documentos\\Python Projects\\trading-at-the-close\\.venv\\lib\\site-packages\\optuna\\trial\\_trial.py:494: UserWarning:\n",
      "\n",
      "The reported value is ignored because this `step` 99 is already reported.\n",
      "\n",
      "\u001b[32m2023-10-12 16:40:52.428\u001b[0m | \u001b[1mINFO    \u001b[0m | \u001b[36m__main__\u001b[0m:\u001b[36mcross_validate\u001b[0m:\u001b[36m17\u001b[0m - \u001b[1mFold 5: 5.8860 (took 75.66s)\u001b[0m\n",
      "\u001b[32m2023-10-12 16:40:52.429\u001b[0m | \u001b[1mINFO    \u001b[0m | \u001b[36m__main__\u001b[0m:\u001b[36mcross_validate\u001b[0m:\u001b[36m19\u001b[0m - \u001b[1m------------------------------\u001b[0m\n",
      "\u001b[32m2023-10-12 16:40:52.430\u001b[0m | \u001b[32m\u001b[1mSUCCESS \u001b[0m | \u001b[36m__main__\u001b[0m:\u001b[36mcross_validate\u001b[0m:\u001b[36m20\u001b[0m - \u001b[32m\u001b[1mAverage MAE = 6.4739 ± 0.50\u001b[0m\n",
      "\u001b[32m2023-10-12 16:40:52.430\u001b[0m | \u001b[1mINFO    \u001b[0m | \u001b[36m__main__\u001b[0m:\u001b[36mcross_validate\u001b[0m:\u001b[36m21\u001b[0m - \u001b[1m==============================\u001b[0m\n",
      "Best trial: 0. Best value: 6.4697:   9%|▉         | 18/200 [14:08<1:15:22, 24.85s/it]\u001b[32m2023-10-12 16:40:52.813\u001b[0m | \u001b[1mINFO    \u001b[0m | \u001b[36m__main__\u001b[0m:\u001b[36mcross_validate\u001b[0m:\u001b[36m4\u001b[0m - \u001b[1mStarting evaluation...\u001b[0m\n",
      "\u001b[32m2023-10-12 16:40:52.815\u001b[0m | \u001b[1mINFO    \u001b[0m | \u001b[36m__main__\u001b[0m:\u001b[36mcross_validate\u001b[0m:\u001b[36m5\u001b[0m - \u001b[1m==============================\u001b[0m\n",
      "Best trial: 0. Best value: 6.4697:  10%|▉         | 19/200 [14:11<54:55, 18.21s/it]  \u001b[32m2023-10-12 16:40:55.531\u001b[0m | \u001b[1mINFO    \u001b[0m | \u001b[36m__main__\u001b[0m:\u001b[36mcross_validate\u001b[0m:\u001b[36m4\u001b[0m - \u001b[1mStarting evaluation...\u001b[0m\n",
      "\u001b[32m2023-10-12 16:40:55.532\u001b[0m | \u001b[1mINFO    \u001b[0m | \u001b[36m__main__\u001b[0m:\u001b[36mcross_validate\u001b[0m:\u001b[36m5\u001b[0m - \u001b[1m==============================\u001b[0m\n",
      "c:\\Users\\salva\\OneDrive\\Documentos\\Python Projects\\trading-at-the-close\\.venv\\lib\\site-packages\\optuna\\trial\\_trial.py:494: UserWarning:\n",
      "\n",
      "The reported value is ignored because this `step` 199 is already reported.\n",
      "\n",
      "\u001b[32m2023-10-12 16:41:01.682\u001b[0m | \u001b[1mINFO    \u001b[0m | \u001b[36m__main__\u001b[0m:\u001b[36mcross_validate\u001b[0m:\u001b[36m17\u001b[0m - \u001b[1mFold 2: 6.7666 (took 69.86s)\u001b[0m\n",
      "Best trial: 0. Best value: 6.4697:  10%|█         | 20/200 [14:30<55:26, 18.48s/it]\u001b[32m2023-10-12 16:41:14.675\u001b[0m | \u001b[1mINFO    \u001b[0m | \u001b[36m__main__\u001b[0m:\u001b[36mcross_validate\u001b[0m:\u001b[36m4\u001b[0m - \u001b[1mStarting evaluation...\u001b[0m\n",
      "\u001b[32m2023-10-12 16:41:14.676\u001b[0m | \u001b[1mINFO    \u001b[0m | \u001b[36m__main__\u001b[0m:\u001b[36mcross_validate\u001b[0m:\u001b[36m5\u001b[0m - \u001b[1m==============================\u001b[0m\n",
      "Best trial: 0. Best value: 6.4697:  10%|█         | 21/200 [14:30<39:00, 13.07s/it]\u001b[32m2023-10-12 16:41:15.162\u001b[0m | \u001b[1mINFO    \u001b[0m | \u001b[36m__main__\u001b[0m:\u001b[36mcross_validate\u001b[0m:\u001b[36m4\u001b[0m - \u001b[1mStarting evaluation...\u001b[0m\n",
      "\u001b[32m2023-10-12 16:41:15.162\u001b[0m | \u001b[1mINFO    \u001b[0m | \u001b[36m__main__\u001b[0m:\u001b[36mcross_validate\u001b[0m:\u001b[36m5\u001b[0m - \u001b[1m==============================\u001b[0m\n",
      "\u001b[32m2023-10-12 16:41:33.807\u001b[0m | \u001b[1mINFO    \u001b[0m | \u001b[36m__main__\u001b[0m:\u001b[36mcross_validate\u001b[0m:\u001b[36m17\u001b[0m - \u001b[1mFold 2: 6.7658 (took 77.54s)\u001b[0m\n",
      "Best trial: 0. Best value: 6.4697:  11%|█         | 22/200 [14:50<44:39, 15.06s/it]\u001b[32m2023-10-12 16:41:34.807\u001b[0m | \u001b[1mINFO    \u001b[0m | \u001b[36m__main__\u001b[0m:\u001b[36mcross_validate\u001b[0m:\u001b[36m4\u001b[0m - \u001b[1mStarting evaluation...\u001b[0m\n",
      "\u001b[32m2023-10-12 16:41:34.808\u001b[0m | \u001b[1mINFO    \u001b[0m | \u001b[36m__main__\u001b[0m:\u001b[36mcross_validate\u001b[0m:\u001b[36m5\u001b[0m - \u001b[1m==============================\u001b[0m\n",
      "Best trial: 0. Best value: 6.4697:  12%|█▏        | 23/200 [14:54<34:26, 11.68s/it]\u001b[32m2023-10-12 16:41:38.620\u001b[0m | \u001b[1mINFO    \u001b[0m | \u001b[36m__main__\u001b[0m:\u001b[36mcross_validate\u001b[0m:\u001b[36m4\u001b[0m - \u001b[1mStarting evaluation...\u001b[0m\n",
      "\u001b[32m2023-10-12 16:41:38.620\u001b[0m | \u001b[1mINFO    \u001b[0m | \u001b[36m__main__\u001b[0m:\u001b[36mcross_validate\u001b[0m:\u001b[36m5\u001b[0m - \u001b[1m==============================\u001b[0m\n",
      "c:\\Users\\salva\\OneDrive\\Documentos\\Python Projects\\trading-at-the-close\\.venv\\lib\\site-packages\\optuna\\trial\\_trial.py:494: UserWarning:\n",
      "\n",
      "The reported value is ignored because this `step` 199 is already reported.\n",
      "\n",
      "Best trial: 0. Best value: 6.4697:  12%|█▏        | 24/200 [15:12<39:34, 13.49s/it]\u001b[32m2023-10-12 16:41:56.336\u001b[0m | \u001b[1mINFO    \u001b[0m | \u001b[36m__main__\u001b[0m:\u001b[36mcross_validate\u001b[0m:\u001b[36m4\u001b[0m - \u001b[1mStarting evaluation...\u001b[0m\n",
      "\u001b[32m2023-10-12 16:41:56.342\u001b[0m | \u001b[1mINFO    \u001b[0m | \u001b[36m__main__\u001b[0m:\u001b[36mcross_validate\u001b[0m:\u001b[36m5\u001b[0m - \u001b[1m==============================\u001b[0m\n",
      "c:\\Users\\salva\\OneDrive\\Documentos\\Python Projects\\trading-at-the-close\\.venv\\lib\\site-packages\\optuna\\trial\\_trial.py:494: UserWarning:\n",
      "\n",
      "The reported value is ignored because this `step` 99 is already reported.\n",
      "\n",
      "Best trial: 0. Best value: 6.4697:  12%|█▎        | 25/200 [15:34<46:51, 16.07s/it]\u001b[32m2023-10-12 16:42:18.398\u001b[0m | \u001b[1mINFO    \u001b[0m | \u001b[36m__main__\u001b[0m:\u001b[36mcross_validate\u001b[0m:\u001b[36m4\u001b[0m - \u001b[1mStarting evaluation...\u001b[0m\n",
      "\u001b[32m2023-10-12 16:42:18.398\u001b[0m | \u001b[1mINFO    \u001b[0m | \u001b[36m__main__\u001b[0m:\u001b[36mcross_validate\u001b[0m:\u001b[36m5\u001b[0m - \u001b[1m==============================\u001b[0m\n",
      "\u001b[32m2023-10-12 16:42:21.654\u001b[0m | \u001b[1mINFO    \u001b[0m | \u001b[36m__main__\u001b[0m:\u001b[36mcross_validate\u001b[0m:\u001b[36m17\u001b[0m - \u001b[1mFold 1: 7.2856 (took 28.55s)\u001b[0m\n",
      "\u001b[32m2023-10-12 16:42:30.996\u001b[0m | \u001b[1mINFO    \u001b[0m | \u001b[36m__main__\u001b[0m:\u001b[36mcross_validate\u001b[0m:\u001b[36m17\u001b[0m - \u001b[1mFold 3: 6.0983 (took 73.17s)\u001b[0m\n",
      "c:\\Users\\salva\\OneDrive\\Documentos\\Python Projects\\trading-at-the-close\\.venv\\lib\\site-packages\\optuna\\trial\\_trial.py:494: UserWarning:\n",
      "\n",
      "The reported value is ignored because this `step` 99 is already reported.\n",
      "\n",
      "Best trial: 0. Best value: 6.4697:  13%|█▎        | 26/200 [16:02<57:09, 19.71s/it]\u001b[32m2023-10-12 16:42:46.617\u001b[0m | \u001b[1mINFO    \u001b[0m | \u001b[36m__main__\u001b[0m:\u001b[36mcross_validate\u001b[0m:\u001b[36m4\u001b[0m - \u001b[1mStarting evaluation...\u001b[0m\n",
      "\u001b[32m2023-10-12 16:42:46.618\u001b[0m | \u001b[1mINFO    \u001b[0m | \u001b[36m__main__\u001b[0m:\u001b[36mcross_validate\u001b[0m:\u001b[36m5\u001b[0m - \u001b[1m==============================\u001b[0m\n",
      "c:\\Users\\salva\\OneDrive\\Documentos\\Python Projects\\trading-at-the-close\\.venv\\lib\\site-packages\\optuna\\trial\\_trial.py:494: UserWarning:\n",
      "\n",
      "The reported value is ignored because this `step` 299 is already reported.\n",
      "\n",
      "c:\\Users\\salva\\OneDrive\\Documentos\\Python Projects\\trading-at-the-close\\.venv\\lib\\site-packages\\optuna\\trial\\_trial.py:494: UserWarning:\n",
      "\n",
      "The reported value is ignored because this `step` 99 is already reported.\n",
      "\n",
      "Best trial: 0. Best value: 6.4697:  14%|█▎        | 27/200 [16:26<1:00:15, 20.90s/it]\u001b[32m2023-10-12 16:43:10.321\u001b[0m | \u001b[1mINFO    \u001b[0m | \u001b[36m__main__\u001b[0m:\u001b[36mcross_validate\u001b[0m:\u001b[36m4\u001b[0m - \u001b[1mStarting evaluation...\u001b[0m\n",
      "\u001b[32m2023-10-12 16:43:10.321\u001b[0m | \u001b[1mINFO    \u001b[0m | \u001b[36m__main__\u001b[0m:\u001b[36mcross_validate\u001b[0m:\u001b[36m5\u001b[0m - \u001b[1m==============================\u001b[0m\n",
      "\u001b[32m2023-10-12 16:43:16.456\u001b[0m | \u001b[1mINFO    \u001b[0m | \u001b[36m__main__\u001b[0m:\u001b[36mcross_validate\u001b[0m:\u001b[36m17\u001b[0m - \u001b[1mFold 3: 6.0978 (took 84.41s)\u001b[0m\n",
      "\u001b[32m2023-10-12 16:43:29.957\u001b[0m | \u001b[1mINFO    \u001b[0m | \u001b[36m__main__\u001b[0m:\u001b[36mcross_validate\u001b[0m:\u001b[36m17\u001b[0m - \u001b[1mFold 2: 6.7670 (took 51.27s)\u001b[0m\n",
      "Best trial: 0. Best value: 6.4697:  14%|█▍        | 28/200 [16:49<1:01:44, 21.54s/it]\u001b[32m2023-10-12 16:43:33.313\u001b[0m | \u001b[1mINFO    \u001b[0m | \u001b[36m__main__\u001b[0m:\u001b[36mcross_validate\u001b[0m:\u001b[36m4\u001b[0m - \u001b[1mStarting evaluation...\u001b[0m\n",
      "\u001b[32m2023-10-12 16:43:33.314\u001b[0m | \u001b[1mINFO    \u001b[0m | \u001b[36m__main__\u001b[0m:\u001b[36mcross_validate\u001b[0m:\u001b[36m5\u001b[0m - \u001b[1m==============================\u001b[0m\n",
      "c:\\Users\\salva\\OneDrive\\Documentos\\Python Projects\\trading-at-the-close\\.venv\\lib\\site-packages\\optuna\\trial\\_trial.py:494: UserWarning:\n",
      "\n",
      "The reported value is ignored because this `step` 399 is already reported.\n",
      "\n",
      "c:\\Users\\salva\\OneDrive\\Documentos\\Python Projects\\trading-at-the-close\\.venv\\lib\\site-packages\\optuna\\trial\\_trial.py:494: UserWarning:\n",
      "\n",
      "The reported value is ignored because this `step` 99 is already reported.\n",
      "\n",
      "Best trial: 0. Best value: 6.4697:  14%|█▍        | 29/200 [17:14<1:04:42, 22.70s/it]\u001b[32m2023-10-12 16:43:58.758\u001b[0m | \u001b[1mINFO    \u001b[0m | \u001b[36m__main__\u001b[0m:\u001b[36mcross_validate\u001b[0m:\u001b[36m4\u001b[0m - \u001b[1mStarting evaluation...\u001b[0m\n",
      "\u001b[32m2023-10-12 16:43:58.758\u001b[0m | \u001b[1mINFO    \u001b[0m | \u001b[36m__main__\u001b[0m:\u001b[36mcross_validate\u001b[0m:\u001b[36m5\u001b[0m - \u001b[1m==============================\u001b[0m\n",
      "c:\\Users\\salva\\OneDrive\\Documentos\\Python Projects\\trading-at-the-close\\.venv\\lib\\site-packages\\optuna\\trial\\_trial.py:494: UserWarning:\n",
      "\n",
      "The reported value is ignored because this `step` 99 is already reported.\n",
      "\n",
      "Best trial: 0. Best value: 6.4697:  15%|█▌        | 30/200 [17:43<1:09:22, 24.49s/it]\u001b[32m2023-10-12 16:44:27.376\u001b[0m | \u001b[1mINFO    \u001b[0m | \u001b[36m__main__\u001b[0m:\u001b[36mcross_validate\u001b[0m:\u001b[36m17\u001b[0m - \u001b[1mFold 4: 6.3219 (took 99.39s)\u001b[0m\n",
      "\u001b[32m2023-10-12 16:44:27.426\u001b[0m | \u001b[1mINFO    \u001b[0m | \u001b[36m__main__\u001b[0m:\u001b[36mcross_validate\u001b[0m:\u001b[36m4\u001b[0m - \u001b[1mStarting evaluation...\u001b[0m\n",
      "\u001b[32m2023-10-12 16:44:27.427\u001b[0m | \u001b[1mINFO    \u001b[0m | \u001b[36m__main__\u001b[0m:\u001b[36mcross_validate\u001b[0m:\u001b[36m5\u001b[0m - \u001b[1m==============================\u001b[0m\n",
      "c:\\Users\\salva\\OneDrive\\Documentos\\Python Projects\\trading-at-the-close\\.venv\\lib\\site-packages\\optuna\\trial\\_trial.py:494: UserWarning:\n",
      "\n",
      "The reported value is ignored because this `step` 99 is already reported.\n",
      "\n",
      "c:\\Users\\salva\\OneDrive\\Documentos\\Python Projects\\trading-at-the-close\\.venv\\lib\\site-packages\\optuna\\trial\\_trial.py:494: UserWarning:\n",
      "\n",
      "The reported value is ignored because this `step` 499 is already reported.\n",
      "\n",
      "\u001b[32m2023-10-12 16:44:46.381\u001b[0m | \u001b[1mINFO    \u001b[0m | \u001b[36m__main__\u001b[0m:\u001b[36mcross_validate\u001b[0m:\u001b[36m17\u001b[0m - \u001b[1mFold 3: 6.0982 (took 62.72s)\u001b[0m\n",
      "Best trial: 0. Best value: 6.4697:  16%|█▌        | 31/200 [18:07<1:09:02, 24.51s/it]\u001b[32m2023-10-12 16:44:51.978\u001b[0m | \u001b[1mINFO    \u001b[0m | \u001b[36m__main__\u001b[0m:\u001b[36mcross_validate\u001b[0m:\u001b[36m4\u001b[0m - \u001b[1mStarting evaluation...\u001b[0m\n",
      "\u001b[32m2023-10-12 16:44:51.979\u001b[0m | \u001b[1mINFO    \u001b[0m | \u001b[36m__main__\u001b[0m:\u001b[36mcross_validate\u001b[0m:\u001b[36m5\u001b[0m - \u001b[1m==============================\u001b[0m\n",
      "Best trial: 0. Best value: 6.4697:  16%|█▌        | 32/200 [18:28<1:05:04, 23.24s/it]\u001b[32m2023-10-12 16:45:12.249\u001b[0m | \u001b[1mINFO    \u001b[0m | \u001b[36m__main__\u001b[0m:\u001b[36mcross_validate\u001b[0m:\u001b[36m4\u001b[0m - \u001b[1mStarting evaluation...\u001b[0m\n",
      "\u001b[32m2023-10-12 16:45:12.250\u001b[0m | \u001b[1mINFO    \u001b[0m | \u001b[36m__main__\u001b[0m:\u001b[36mcross_validate\u001b[0m:\u001b[36m5\u001b[0m - \u001b[1m==============================\u001b[0m\n",
      "c:\\Users\\salva\\OneDrive\\Documentos\\Python Projects\\trading-at-the-close\\.venv\\lib\\site-packages\\optuna\\trial\\_trial.py:494: UserWarning:\n",
      "\n",
      "The reported value is ignored because this `step` 199 is already reported.\n",
      "\n",
      "Best trial: 0. Best value: 6.4697:  16%|█▋        | 33/200 [18:47<1:01:11, 21.99s/it]\u001b[32m2023-10-12 16:45:31.293\u001b[0m | \u001b[1mINFO    \u001b[0m | \u001b[36m__main__\u001b[0m:\u001b[36mcross_validate\u001b[0m:\u001b[36m4\u001b[0m - \u001b[1mStarting evaluation...\u001b[0m\n",
      "\u001b[32m2023-10-12 16:45:31.294\u001b[0m | \u001b[1mINFO    \u001b[0m | \u001b[36m__main__\u001b[0m:\u001b[36mcross_validate\u001b[0m:\u001b[36m5\u001b[0m - \u001b[1m==============================\u001b[0m\n",
      "\u001b[32m2023-10-12 16:45:48.245\u001b[0m | \u001b[1mINFO    \u001b[0m | \u001b[36m__main__\u001b[0m:\u001b[36mcross_validate\u001b[0m:\u001b[36m17\u001b[0m - \u001b[1mFold 1: 7.2911 (took 13.15s)\u001b[0m\n",
      "\u001b[32m2023-10-12 16:45:54.360\u001b[0m | \u001b[1mINFO    \u001b[0m | \u001b[36m__main__\u001b[0m:\u001b[36mcross_validate\u001b[0m:\u001b[36m17\u001b[0m - \u001b[1mFold 4: 6.3195 (took 132.82s)\u001b[0m\n",
      "c:\\Users\\salva\\OneDrive\\Documentos\\Python Projects\\trading-at-the-close\\.venv\\lib\\site-packages\\optuna\\trial\\_trial.py:494: UserWarning:\n",
      "\n",
      "The reported value is ignored because this `step` 99 is already reported.\n",
      "\n",
      "c:\\Users\\salva\\OneDrive\\Documentos\\Python Projects\\trading-at-the-close\\.venv\\lib\\site-packages\\optuna\\trial\\_trial.py:494: UserWarning:\n",
      "\n",
      "The reported value is ignored because this `step` 99 is already reported.\n",
      "\n",
      "\u001b[32m2023-10-12 16:46:02.693\u001b[0m | \u001b[1mINFO    \u001b[0m | \u001b[36m__main__\u001b[0m:\u001b[36mcross_validate\u001b[0m:\u001b[36m17\u001b[0m - \u001b[1mFold 5: 5.8819 (took 328.05s)\u001b[0m\n",
      "\u001b[32m2023-10-12 16:46:02.695\u001b[0m | \u001b[1mINFO    \u001b[0m | \u001b[36m__main__\u001b[0m:\u001b[36mcross_validate\u001b[0m:\u001b[36m19\u001b[0m - \u001b[1m------------------------------\u001b[0m\n",
      "\u001b[32m2023-10-12 16:46:02.696\u001b[0m | \u001b[32m\u001b[1mSUCCESS \u001b[0m | \u001b[36m__main__\u001b[0m:\u001b[36mcross_validate\u001b[0m:\u001b[36m20\u001b[0m - \u001b[32m\u001b[1mAverage MAE = 6.4704 ± 0.50\u001b[0m\n",
      "\u001b[32m2023-10-12 16:46:02.696\u001b[0m | \u001b[1mINFO    \u001b[0m | \u001b[36m__main__\u001b[0m:\u001b[36mcross_validate\u001b[0m:\u001b[36m21\u001b[0m - \u001b[1m==============================\u001b[0m\n",
      "Best trial: 0. Best value: 6.4697:  17%|█▋        | 34/200 [19:18<1:08:58, 24.93s/it]\u001b[32m2023-10-12 16:46:03.114\u001b[0m | \u001b[1mINFO    \u001b[0m | \u001b[36m__main__\u001b[0m:\u001b[36mcross_validate\u001b[0m:\u001b[36m4\u001b[0m - \u001b[1mStarting evaluation...\u001b[0m\n",
      "\u001b[32m2023-10-12 16:46:03.115\u001b[0m | \u001b[1mINFO    \u001b[0m | \u001b[36m__main__\u001b[0m:\u001b[36mcross_validate\u001b[0m:\u001b[36m5\u001b[0m - \u001b[1m==============================\u001b[0m\n",
      "Best trial: 0. Best value: 6.4697:  18%|█▊        | 35/200 [19:40<1:06:09, 24.06s/it]\u001b[32m2023-10-12 16:46:25.011\u001b[0m | \u001b[1mINFO    \u001b[0m | \u001b[36m__main__\u001b[0m:\u001b[36mcross_validate\u001b[0m:\u001b[36m17\u001b[0m - \u001b[1mFold 2: 6.7702 (took 29.67s)\u001b[0m\n",
      "\u001b[32m2023-10-12 16:46:25.150\u001b[0m | \u001b[1mINFO    \u001b[0m | \u001b[36m__main__\u001b[0m:\u001b[36mcross_validate\u001b[0m:\u001b[36m4\u001b[0m - \u001b[1mStarting evaluation...\u001b[0m\n",
      "\u001b[32m2023-10-12 16:46:25.151\u001b[0m | \u001b[1mINFO    \u001b[0m | \u001b[36m__main__\u001b[0m:\u001b[36mcross_validate\u001b[0m:\u001b[36m5\u001b[0m - \u001b[1m==============================\u001b[0m\n",
      "\u001b[32m2023-10-12 16:46:32.973\u001b[0m | \u001b[1mINFO    \u001b[0m | \u001b[36m__main__\u001b[0m:\u001b[36mcross_validate\u001b[0m:\u001b[36m17\u001b[0m - \u001b[1mFold 4: 6.3213 (took 92.16s)\u001b[0m\n",
      "Best trial: 0. Best value: 6.4697:  18%|█▊        | 36/200 [19:59<1:01:02, 22.33s/it]\u001b[32m2023-10-12 16:46:43.439\u001b[0m | \u001b[1mINFO    \u001b[0m | \u001b[36m__main__\u001b[0m:\u001b[36mcross_validate\u001b[0m:\u001b[36m4\u001b[0m - \u001b[1mStarting evaluation...\u001b[0m\n",
      "\u001b[32m2023-10-12 16:46:43.446\u001b[0m | \u001b[1mINFO    \u001b[0m | \u001b[36m__main__\u001b[0m:\u001b[36mcross_validate\u001b[0m:\u001b[36m5\u001b[0m - \u001b[1m==============================\u001b[0m\n",
      "c:\\Users\\salva\\OneDrive\\Documentos\\Python Projects\\trading-at-the-close\\.venv\\lib\\site-packages\\optuna\\trial\\_trial.py:494: UserWarning:\n",
      "\n",
      "The reported value is ignored because this `step` 199 is already reported.\n",
      "\n",
      "Best trial: 0. Best value: 6.4697:  18%|█▊        | 37/200 [20:15<55:37, 20.48s/it]  \u001b[32m2023-10-12 16:46:59.579\u001b[0m | \u001b[1mINFO    \u001b[0m | \u001b[36m__main__\u001b[0m:\u001b[36mcross_validate\u001b[0m:\u001b[36m4\u001b[0m - \u001b[1mStarting evaluation...\u001b[0m\n",
      "\u001b[32m2023-10-12 16:46:59.580\u001b[0m | \u001b[1mINFO    \u001b[0m | \u001b[36m__main__\u001b[0m:\u001b[36mcross_validate\u001b[0m:\u001b[36m5\u001b[0m - \u001b[1m==============================\u001b[0m\n",
      "\u001b[32m2023-10-12 16:47:04.898\u001b[0m | \u001b[1mINFO    \u001b[0m | \u001b[36m__main__\u001b[0m:\u001b[36mcross_validate\u001b[0m:\u001b[36m17\u001b[0m - \u001b[1mFold 3: 6.1032 (took 34.95s)\u001b[0m\n",
      "Best trial: 0. Best value: 6.4697:  19%|█▉        | 38/200 [20:40<59:16, 21.95s/it]\u001b[32m2023-10-12 16:47:24.988\u001b[0m | \u001b[1mINFO    \u001b[0m | \u001b[36m__main__\u001b[0m:\u001b[36mcross_validate\u001b[0m:\u001b[36m4\u001b[0m - \u001b[1mStarting evaluation...\u001b[0m\n",
      "\u001b[32m2023-10-12 16:47:24.988\u001b[0m | \u001b[1mINFO    \u001b[0m | \u001b[36m__main__\u001b[0m:\u001b[36mcross_validate\u001b[0m:\u001b[36m5\u001b[0m - \u001b[1m==============================\u001b[0m\n",
      "c:\\Users\\salva\\OneDrive\\Documentos\\Python Projects\\trading-at-the-close\\.venv\\lib\\site-packages\\optuna\\trial\\_trial.py:494: UserWarning:\n",
      "\n",
      "The reported value is ignored because this `step` 99 is already reported.\n",
      "\n",
      "\u001b[32m2023-10-12 16:47:27.202\u001b[0m | \u001b[1mINFO    \u001b[0m | \u001b[36m__main__\u001b[0m:\u001b[36mcross_validate\u001b[0m:\u001b[36m17\u001b[0m - \u001b[1mFold 5: 5.8806 (took 154.52s)\u001b[0m\n",
      "\u001b[32m2023-10-12 16:47:27.202\u001b[0m | \u001b[1mINFO    \u001b[0m | \u001b[36m__main__\u001b[0m:\u001b[36mcross_validate\u001b[0m:\u001b[36m19\u001b[0m - \u001b[1m------------------------------\u001b[0m\n",
      "\u001b[32m2023-10-12 16:47:27.209\u001b[0m | \u001b[32m\u001b[1mSUCCESS \u001b[0m | \u001b[36m__main__\u001b[0m:\u001b[36mcross_validate\u001b[0m:\u001b[36m20\u001b[0m - \u001b[32m\u001b[1mAverage MAE = 6.4708 ± 0.50\u001b[0m\n",
      "\u001b[32m2023-10-12 16:47:27.209\u001b[0m | \u001b[1mINFO    \u001b[0m | \u001b[36m__main__\u001b[0m:\u001b[36mcross_validate\u001b[0m:\u001b[36m21\u001b[0m - \u001b[1m==============================\u001b[0m\n",
      "Best trial: 0. Best value: 6.4697:  20%|█▉        | 39/200 [20:43<43:22, 16.17s/it]\u001b[32m2023-10-12 16:47:27.634\u001b[0m | \u001b[1mINFO    \u001b[0m | \u001b[36m__main__\u001b[0m:\u001b[36mcross_validate\u001b[0m:\u001b[36m4\u001b[0m - \u001b[1mStarting evaluation...\u001b[0m\n",
      "\u001b[32m2023-10-12 16:47:27.639\u001b[0m | \u001b[1mINFO    \u001b[0m | \u001b[36m__main__\u001b[0m:\u001b[36mcross_validate\u001b[0m:\u001b[36m5\u001b[0m - \u001b[1m==============================\u001b[0m\n",
      "Best trial: 0. Best value: 6.4697:  20%|██        | 40/200 [21:04<46:41, 17.51s/it]\u001b[32m2023-10-12 16:47:48.273\u001b[0m | \u001b[1mINFO    \u001b[0m | \u001b[36m__main__\u001b[0m:\u001b[36mcross_validate\u001b[0m:\u001b[36m4\u001b[0m - \u001b[1mStarting evaluation...\u001b[0m\n",
      "\u001b[32m2023-10-12 16:47:48.273\u001b[0m | \u001b[1mINFO    \u001b[0m | \u001b[36m__main__\u001b[0m:\u001b[36mcross_validate\u001b[0m:\u001b[36m5\u001b[0m - \u001b[1m==============================\u001b[0m\n",
      "c:\\Users\\salva\\OneDrive\\Documentos\\Python Projects\\trading-at-the-close\\.venv\\lib\\site-packages\\optuna\\trial\\_trial.py:494: UserWarning:\n",
      "\n",
      "The reported value is ignored because this `step` 99 is already reported.\n",
      "\n",
      "\u001b[32m2023-10-12 16:47:50.084\u001b[0m | \u001b[1mINFO    \u001b[0m | \u001b[36m__main__\u001b[0m:\u001b[36mcross_validate\u001b[0m:\u001b[36m17\u001b[0m - \u001b[1mFold 4: 6.3219 (took 40.63s)\u001b[0m\n",
      "Best trial: 0. Best value: 6.4697:  20%|██        | 41/200 [21:06<34:42, 13.10s/it]\u001b[32m2023-10-12 16:47:51.107\u001b[0m | \u001b[1mINFO    \u001b[0m | \u001b[36m__main__\u001b[0m:\u001b[36mcross_validate\u001b[0m:\u001b[36m4\u001b[0m - \u001b[1mStarting evaluation...\u001b[0m\n",
      "\u001b[32m2023-10-12 16:47:51.108\u001b[0m | \u001b[1mINFO    \u001b[0m | \u001b[36m__main__\u001b[0m:\u001b[36mcross_validate\u001b[0m:\u001b[36m5\u001b[0m - \u001b[1m==============================\u001b[0m\n",
      "Best trial: 0. Best value: 6.4697:  21%|██        | 42/200 [21:24<38:11, 14.50s/it]\u001b[32m2023-10-12 16:48:08.862\u001b[0m | \u001b[1mINFO    \u001b[0m | \u001b[36m__main__\u001b[0m:\u001b[36mcross_validate\u001b[0m:\u001b[36m4\u001b[0m - \u001b[1mStarting evaluation...\u001b[0m\n",
      "\u001b[32m2023-10-12 16:48:08.862\u001b[0m | \u001b[1mINFO    \u001b[0m | \u001b[36m__main__\u001b[0m:\u001b[36mcross_validate\u001b[0m:\u001b[36m5\u001b[0m - \u001b[1m==============================\u001b[0m\n",
      "Best trial: 0. Best value: 6.4697:  22%|██▏       | 43/200 [21:32<32:41, 12.49s/it]\u001b[32m2023-10-12 16:48:16.728\u001b[0m | \u001b[1mINFO    \u001b[0m | \u001b[36m__main__\u001b[0m:\u001b[36mcross_validate\u001b[0m:\u001b[36m4\u001b[0m - \u001b[1mStarting evaluation...\u001b[0m\n",
      "\u001b[32m2023-10-12 16:48:16.729\u001b[0m | \u001b[1mINFO    \u001b[0m | \u001b[36m__main__\u001b[0m:\u001b[36mcross_validate\u001b[0m:\u001b[36m5\u001b[0m - \u001b[1m==============================\u001b[0m\n",
      "\u001b[32m2023-10-12 16:48:28.933\u001b[0m | \u001b[1mINFO    \u001b[0m | \u001b[36m__main__\u001b[0m:\u001b[36mcross_validate\u001b[0m:\u001b[36m17\u001b[0m - \u001b[1mFold 5: 5.8830 (took 99.87s)\u001b[0m\n",
      "\u001b[32m2023-10-12 16:48:28.933\u001b[0m | \u001b[1mINFO    \u001b[0m | \u001b[36m__main__\u001b[0m:\u001b[36mcross_validate\u001b[0m:\u001b[36m19\u001b[0m - \u001b[1m------------------------------\u001b[0m\n",
      "\u001b[32m2023-10-12 16:48:28.933\u001b[0m | \u001b[32m\u001b[1mSUCCESS \u001b[0m | \u001b[36m__main__\u001b[0m:\u001b[36mcross_validate\u001b[0m:\u001b[36m20\u001b[0m - \u001b[32m\u001b[1mAverage MAE = 6.4710 ± 0.50\u001b[0m\n",
      "\u001b[32m2023-10-12 16:48:28.948\u001b[0m | \u001b[1mINFO    \u001b[0m | \u001b[36m__main__\u001b[0m:\u001b[36mcross_validate\u001b[0m:\u001b[36m21\u001b[0m - \u001b[1m==============================\u001b[0m\n",
      "Best trial: 0. Best value: 6.4697:  22%|██▏       | 44/200 [21:45<32:40, 12.57s/it]\u001b[32m2023-10-12 16:48:29.482\u001b[0m | \u001b[1mINFO    \u001b[0m | \u001b[36m__main__\u001b[0m:\u001b[36mcross_validate\u001b[0m:\u001b[36m4\u001b[0m - \u001b[1mStarting evaluation...\u001b[0m\n",
      "\u001b[32m2023-10-12 16:48:29.482\u001b[0m | \u001b[1mINFO    \u001b[0m | \u001b[36m__main__\u001b[0m:\u001b[36mcross_validate\u001b[0m:\u001b[36m5\u001b[0m - \u001b[1m==============================\u001b[0m\n",
      "c:\\Users\\salva\\OneDrive\\Documentos\\Python Projects\\trading-at-the-close\\.venv\\lib\\site-packages\\optuna\\trial\\_trial.py:494: UserWarning:\n",
      "\n",
      "The reported value is ignored because this `step` 199 is already reported.\n",
      "\n",
      "Best trial: 0. Best value: 6.4697:  22%|██▎       | 45/200 [21:52<28:05, 10.87s/it]\u001b[32m2023-10-12 16:48:36.426\u001b[0m | \u001b[1mINFO    \u001b[0m | \u001b[36m__main__\u001b[0m:\u001b[36mcross_validate\u001b[0m:\u001b[36m4\u001b[0m - \u001b[1mStarting evaluation...\u001b[0m\n",
      "\u001b[32m2023-10-12 16:48:36.426\u001b[0m | \u001b[1mINFO    \u001b[0m | \u001b[36m__main__\u001b[0m:\u001b[36mcross_validate\u001b[0m:\u001b[36m5\u001b[0m - \u001b[1m==============================\u001b[0m\n",
      "Best trial: 0. Best value: 6.4697:  23%|██▎       | 46/200 [22:13<35:56, 14.00s/it]\u001b[32m2023-10-12 16:48:57.710\u001b[0m | \u001b[1mINFO    \u001b[0m | \u001b[36m__main__\u001b[0m:\u001b[36mcross_validate\u001b[0m:\u001b[36m4\u001b[0m - \u001b[1mStarting evaluation...\u001b[0m\n",
      "\u001b[32m2023-10-12 16:48:57.711\u001b[0m | \u001b[1mINFO    \u001b[0m | \u001b[36m__main__\u001b[0m:\u001b[36mcross_validate\u001b[0m:\u001b[36m5\u001b[0m - \u001b[1m==============================\u001b[0m\n",
      "Best trial: 0. Best value: 6.4697:  24%|██▎       | 47/200 [22:20<30:09, 11.82s/it]\u001b[32m2023-10-12 16:49:04.401\u001b[0m | \u001b[1mINFO    \u001b[0m | \u001b[36m__main__\u001b[0m:\u001b[36mcross_validate\u001b[0m:\u001b[36m4\u001b[0m - \u001b[1mStarting evaluation...\u001b[0m\n",
      "\u001b[32m2023-10-12 16:49:04.401\u001b[0m | \u001b[1mINFO    \u001b[0m | \u001b[36m__main__\u001b[0m:\u001b[36mcross_validate\u001b[0m:\u001b[36m5\u001b[0m - \u001b[1m==============================\u001b[0m\n",
      "\u001b[32m2023-10-12 16:49:06.755\u001b[0m | \u001b[1mINFO    \u001b[0m | \u001b[36m__main__\u001b[0m:\u001b[36mcross_validate\u001b[0m:\u001b[36m17\u001b[0m - \u001b[1mFold 5: 5.8867 (took 69.11s)\u001b[0m\n",
      "\u001b[32m2023-10-12 16:49:06.757\u001b[0m | \u001b[1mINFO    \u001b[0m | \u001b[36m__main__\u001b[0m:\u001b[36mcross_validate\u001b[0m:\u001b[36m19\u001b[0m - \u001b[1m------------------------------\u001b[0m\n",
      "\u001b[32m2023-10-12 16:49:06.758\u001b[0m | \u001b[32m\u001b[1mSUCCESS \u001b[0m | \u001b[36m__main__\u001b[0m:\u001b[36mcross_validate\u001b[0m:\u001b[36m20\u001b[0m - \u001b[32m\u001b[1mAverage MAE = 6.4746 ± 0.50\u001b[0m\n",
      "\u001b[32m2023-10-12 16:49:06.759\u001b[0m | \u001b[1mINFO    \u001b[0m | \u001b[36m__main__\u001b[0m:\u001b[36mcross_validate\u001b[0m:\u001b[36m21\u001b[0m - \u001b[1m==============================\u001b[0m\n",
      "Best trial: 0. Best value: 6.4697:  24%|██▍       | 48/200 [22:22<23:05,  9.12s/it]\u001b[32m2023-10-12 16:49:07.253\u001b[0m | \u001b[1mINFO    \u001b[0m | \u001b[36m__main__\u001b[0m:\u001b[36mcross_validate\u001b[0m:\u001b[36m4\u001b[0m - \u001b[1mStarting evaluation...\u001b[0m\n",
      "\u001b[32m2023-10-12 16:49:07.253\u001b[0m | \u001b[1mINFO    \u001b[0m | \u001b[36m__main__\u001b[0m:\u001b[36mcross_validate\u001b[0m:\u001b[36m5\u001b[0m - \u001b[1m==============================\u001b[0m\n",
      "\u001b[32m2023-10-12 16:49:20.440\u001b[0m | \u001b[1mINFO    \u001b[0m | \u001b[36m__main__\u001b[0m:\u001b[36mcross_validate\u001b[0m:\u001b[36m17\u001b[0m - \u001b[1mFold 1: 7.2863 (took 41.42s)\u001b[0m\n",
      "Best trial: 0. Best value: 6.4697:  24%|██▍       | 49/200 [22:40<29:36, 11.77s/it]\u001b[32m2023-10-12 16:49:25.185\u001b[0m | \u001b[1mINFO    \u001b[0m | \u001b[36m__main__\u001b[0m:\u001b[36mcross_validate\u001b[0m:\u001b[36m4\u001b[0m - \u001b[1mStarting evaluation...\u001b[0m\n",
      "\u001b[32m2023-10-12 16:49:25.185\u001b[0m | \u001b[1mINFO    \u001b[0m | \u001b[36m__main__\u001b[0m:\u001b[36mcross_validate\u001b[0m:\u001b[36m5\u001b[0m - \u001b[1m==============================\u001b[0m\n",
      "Best trial: 0. Best value: 6.4697:  25%|██▌       | 50/200 [22:41<21:03,  8.42s/it]\u001b[32m2023-10-12 16:49:25.826\u001b[0m | \u001b[1mINFO    \u001b[0m | \u001b[36m__main__\u001b[0m:\u001b[36mcross_validate\u001b[0m:\u001b[36m4\u001b[0m - \u001b[1mStarting evaluation...\u001b[0m\n",
      "\u001b[32m2023-10-12 16:49:25.827\u001b[0m | \u001b[1mINFO    \u001b[0m | \u001b[36m__main__\u001b[0m:\u001b[36mcross_validate\u001b[0m:\u001b[36m5\u001b[0m - \u001b[1m==============================\u001b[0m\n",
      "Best trial: 0. Best value: 6.4697:  26%|██▌       | 51/200 [22:48<20:05,  8.09s/it]\u001b[32m2023-10-12 16:49:33.154\u001b[0m | \u001b[1mINFO    \u001b[0m | \u001b[36m__main__\u001b[0m:\u001b[36mcross_validate\u001b[0m:\u001b[36m4\u001b[0m - \u001b[1mStarting evaluation...\u001b[0m\n",
      "\u001b[32m2023-10-12 16:49:33.155\u001b[0m | \u001b[1mINFO    \u001b[0m | \u001b[36m__main__\u001b[0m:\u001b[36mcross_validate\u001b[0m:\u001b[36m5\u001b[0m - \u001b[1m==============================\u001b[0m\n",
      "\u001b[32m2023-10-12 16:49:38.975\u001b[0m | \u001b[1mINFO    \u001b[0m | \u001b[36m__main__\u001b[0m:\u001b[36mcross_validate\u001b[0m:\u001b[36m17\u001b[0m - \u001b[1mFold 5: 5.8814 (took 191.22s)\u001b[0m\n",
      "\u001b[32m2023-10-12 16:49:38.975\u001b[0m | \u001b[1mINFO    \u001b[0m | \u001b[36m__main__\u001b[0m:\u001b[36mcross_validate\u001b[0m:\u001b[36m19\u001b[0m - \u001b[1m------------------------------\u001b[0m\n",
      "\u001b[32m2023-10-12 16:49:38.975\u001b[0m | \u001b[32m\u001b[1mSUCCESS \u001b[0m | \u001b[36m__main__\u001b[0m:\u001b[36mcross_validate\u001b[0m:\u001b[36m20\u001b[0m - \u001b[32m\u001b[1mAverage MAE = 6.4703 ± 0.50\u001b[0m\n",
      "\u001b[32m2023-10-12 16:49:38.975\u001b[0m | \u001b[1mINFO    \u001b[0m | \u001b[36m__main__\u001b[0m:\u001b[36mcross_validate\u001b[0m:\u001b[36m21\u001b[0m - \u001b[1m==============================\u001b[0m\n",
      "Best trial: 0. Best value: 6.4697:  26%|██▌       | 52/200 [22:55<18:39,  7.56s/it]\u001b[32m2023-10-12 16:49:39.458\u001b[0m | \u001b[1mINFO    \u001b[0m | \u001b[36m__main__\u001b[0m:\u001b[36mcross_validate\u001b[0m:\u001b[36m4\u001b[0m - \u001b[1mStarting evaluation...\u001b[0m\n",
      "\u001b[32m2023-10-12 16:49:39.458\u001b[0m | \u001b[1mINFO    \u001b[0m | \u001b[36m__main__\u001b[0m:\u001b[36mcross_validate\u001b[0m:\u001b[36m5\u001b[0m - \u001b[1m==============================\u001b[0m\n",
      "Best trial: 0. Best value: 6.4697:  26%|██▋       | 53/200 [23:04<19:57,  8.15s/it]\u001b[32m2023-10-12 16:49:48.997\u001b[0m | \u001b[1mINFO    \u001b[0m | \u001b[36m__main__\u001b[0m:\u001b[36mcross_validate\u001b[0m:\u001b[36m4\u001b[0m - \u001b[1mStarting evaluation...\u001b[0m\n",
      "\u001b[32m2023-10-12 16:49:48.997\u001b[0m | \u001b[1mINFO    \u001b[0m | \u001b[36m__main__\u001b[0m:\u001b[36mcross_validate\u001b[0m:\u001b[36m5\u001b[0m - \u001b[1m==============================\u001b[0m\n",
      "Best trial: 0. Best value: 6.4697:  27%|██▋       | 54/200 [23:05<14:43,  6.05s/it]\u001b[32m2023-10-12 16:49:50.191\u001b[0m | \u001b[1mINFO    \u001b[0m | \u001b[36m__main__\u001b[0m:\u001b[36mcross_validate\u001b[0m:\u001b[36m4\u001b[0m - \u001b[1mStarting evaluation...\u001b[0m\n",
      "\u001b[32m2023-10-12 16:49:50.195\u001b[0m | \u001b[1mINFO    \u001b[0m | \u001b[36m__main__\u001b[0m:\u001b[36mcross_validate\u001b[0m:\u001b[36m5\u001b[0m - \u001b[1m==============================\u001b[0m\n",
      "Best trial: 0. Best value: 6.4697:  28%|██▊       | 55/200 [23:17<18:22,  7.60s/it]\u001b[32m2023-10-12 16:50:01.441\u001b[0m | \u001b[1mINFO    \u001b[0m | \u001b[36m__main__\u001b[0m:\u001b[36mcross_validate\u001b[0m:\u001b[36m4\u001b[0m - \u001b[1mStarting evaluation...\u001b[0m\n",
      "\u001b[32m2023-10-12 16:50:01.441\u001b[0m | \u001b[1mINFO    \u001b[0m | \u001b[36m__main__\u001b[0m:\u001b[36mcross_validate\u001b[0m:\u001b[36m5\u001b[0m - \u001b[1m==============================\u001b[0m\n",
      "c:\\Users\\salva\\OneDrive\\Documentos\\Python Projects\\trading-at-the-close\\.venv\\lib\\site-packages\\optuna\\trial\\_trial.py:494: UserWarning:\n",
      "\n",
      "The reported value is ignored because this `step` 99 is already reported.\n",
      "\n",
      "Best trial: 0. Best value: 6.4697:  28%|██▊       | 56/200 [23:21<15:44,  6.56s/it]\u001b[32m2023-10-12 16:50:05.435\u001b[0m | \u001b[1mINFO    \u001b[0m | \u001b[36m__main__\u001b[0m:\u001b[36mcross_validate\u001b[0m:\u001b[36m4\u001b[0m - \u001b[1mStarting evaluation...\u001b[0m\n",
      "\u001b[32m2023-10-12 16:50:05.435\u001b[0m | \u001b[1mINFO    \u001b[0m | \u001b[36m__main__\u001b[0m:\u001b[36mcross_validate\u001b[0m:\u001b[36m5\u001b[0m - \u001b[1m==============================\u001b[0m\n",
      "Best trial: 0. Best value: 6.4697:  28%|██▊       | 57/200 [23:32<18:47,  7.89s/it]\u001b[32m2023-10-12 16:50:16.449\u001b[0m | \u001b[1mINFO    \u001b[0m | \u001b[36m__main__\u001b[0m:\u001b[36mcross_validate\u001b[0m:\u001b[36m4\u001b[0m - \u001b[1mStarting evaluation...\u001b[0m\n",
      "\u001b[32m2023-10-12 16:50:16.450\u001b[0m | \u001b[1mINFO    \u001b[0m | \u001b[36m__main__\u001b[0m:\u001b[36mcross_validate\u001b[0m:\u001b[36m5\u001b[0m - \u001b[1m==============================\u001b[0m\n",
      "Best trial: 0. Best value: 6.4697:  29%|██▉       | 58/200 [23:32<13:32,  5.72s/it]\u001b[32m2023-10-12 16:50:17.162\u001b[0m | \u001b[1mINFO    \u001b[0m | \u001b[36m__main__\u001b[0m:\u001b[36mcross_validate\u001b[0m:\u001b[36m4\u001b[0m - \u001b[1mStarting evaluation...\u001b[0m\n",
      "\u001b[32m2023-10-12 16:50:17.164\u001b[0m | \u001b[1mINFO    \u001b[0m | \u001b[36m__main__\u001b[0m:\u001b[36mcross_validate\u001b[0m:\u001b[36m5\u001b[0m - \u001b[1m==============================\u001b[0m\n",
      "Best trial: 0. Best value: 6.4697:  30%|██▉       | 59/200 [23:42<16:29,  7.02s/it]\u001b[32m2023-10-12 16:50:27.135\u001b[0m | \u001b[1mINFO    \u001b[0m | \u001b[36m__main__\u001b[0m:\u001b[36mcross_validate\u001b[0m:\u001b[36m4\u001b[0m - \u001b[1mStarting evaluation...\u001b[0m\n",
      "\u001b[32m2023-10-12 16:50:27.135\u001b[0m | \u001b[1mINFO    \u001b[0m | \u001b[36m__main__\u001b[0m:\u001b[36mcross_validate\u001b[0m:\u001b[36m5\u001b[0m - \u001b[1m==============================\u001b[0m\n",
      "Best trial: 0. Best value: 6.4697:  30%|███       | 60/200 [23:49<16:15,  6.97s/it]\u001b[32m2023-10-12 16:50:34.018\u001b[0m | \u001b[1mINFO    \u001b[0m | \u001b[36m__main__\u001b[0m:\u001b[36mcross_validate\u001b[0m:\u001b[36m4\u001b[0m - \u001b[1mStarting evaluation...\u001b[0m\n",
      "\u001b[32m2023-10-12 16:50:34.018\u001b[0m | \u001b[1mINFO    \u001b[0m | \u001b[36m__main__\u001b[0m:\u001b[36mcross_validate\u001b[0m:\u001b[36m5\u001b[0m - \u001b[1m==============================\u001b[0m\n",
      "Best trial: 0. Best value: 6.4697:  30%|███       | 61/200 [23:57<16:46,  7.24s/it]\u001b[32m2023-10-12 16:50:41.895\u001b[0m | \u001b[1mINFO    \u001b[0m | \u001b[36m__main__\u001b[0m:\u001b[36mcross_validate\u001b[0m:\u001b[36m4\u001b[0m - \u001b[1mStarting evaluation...\u001b[0m\n",
      "\u001b[32m2023-10-12 16:50:41.897\u001b[0m | \u001b[1mINFO    \u001b[0m | \u001b[36m__main__\u001b[0m:\u001b[36mcross_validate\u001b[0m:\u001b[36m5\u001b[0m - \u001b[1m==============================\u001b[0m\n",
      "Best trial: 0. Best value: 6.4697:  31%|███       | 62/200 [24:02<15:01,  6.53s/it]\u001b[32m2023-10-12 16:50:46.761\u001b[0m | \u001b[1mINFO    \u001b[0m | \u001b[36m__main__\u001b[0m:\u001b[36mcross_validate\u001b[0m:\u001b[36m4\u001b[0m - \u001b[1mStarting evaluation...\u001b[0m\n",
      "\u001b[32m2023-10-12 16:50:46.763\u001b[0m | \u001b[1mINFO    \u001b[0m | \u001b[36m__main__\u001b[0m:\u001b[36mcross_validate\u001b[0m:\u001b[36m5\u001b[0m - \u001b[1m==============================\u001b[0m\n",
      "Best trial: 0. Best value: 6.4697:  32%|███▏      | 63/200 [24:13<17:56,  7.85s/it]\u001b[32m2023-10-12 16:50:57.686\u001b[0m | \u001b[1mINFO    \u001b[0m | \u001b[36m__main__\u001b[0m:\u001b[36mcross_validate\u001b[0m:\u001b[36m4\u001b[0m - \u001b[1mStarting evaluation...\u001b[0m\n",
      "\u001b[32m2023-10-12 16:50:57.686\u001b[0m | \u001b[1mINFO    \u001b[0m | \u001b[36m__main__\u001b[0m:\u001b[36mcross_validate\u001b[0m:\u001b[36m5\u001b[0m - \u001b[1m==============================\u001b[0m\n",
      "Best trial: 0. Best value: 6.4697:  32%|███▏      | 64/200 [24:14<13:26,  5.93s/it]\u001b[32m2023-10-12 16:50:59.131\u001b[0m | \u001b[1mINFO    \u001b[0m | \u001b[36m__main__\u001b[0m:\u001b[36mcross_validate\u001b[0m:\u001b[36m4\u001b[0m - \u001b[1mStarting evaluation...\u001b[0m\n",
      "\u001b[32m2023-10-12 16:50:59.131\u001b[0m | \u001b[1mINFO    \u001b[0m | \u001b[36m__main__\u001b[0m:\u001b[36mcross_validate\u001b[0m:\u001b[36m5\u001b[0m - \u001b[1m==============================\u001b[0m\n",
      "Best trial: 0. Best value: 6.4697:  32%|███▎      | 65/200 [24:24<15:48,  7.03s/it]\u001b[32m2023-10-12 16:51:08.730\u001b[0m | \u001b[1mINFO    \u001b[0m | \u001b[36m__main__\u001b[0m:\u001b[36mcross_validate\u001b[0m:\u001b[36m4\u001b[0m - \u001b[1mStarting evaluation...\u001b[0m\n",
      "\u001b[32m2023-10-12 16:51:08.730\u001b[0m | \u001b[1mINFO    \u001b[0m | \u001b[36m__main__\u001b[0m:\u001b[36mcross_validate\u001b[0m:\u001b[36m5\u001b[0m - \u001b[1m==============================\u001b[0m\n",
      "Best trial: 0. Best value: 6.4697:  33%|███▎      | 66/200 [24:28<13:59,  6.27s/it]\u001b[32m2023-10-12 16:51:13.208\u001b[0m | \u001b[1mINFO    \u001b[0m | \u001b[36m__main__\u001b[0m:\u001b[36mcross_validate\u001b[0m:\u001b[36m4\u001b[0m - \u001b[1mStarting evaluation...\u001b[0m\n",
      "\u001b[32m2023-10-12 16:51:13.208\u001b[0m | \u001b[1mINFO    \u001b[0m | \u001b[36m__main__\u001b[0m:\u001b[36mcross_validate\u001b[0m:\u001b[36m5\u001b[0m - \u001b[1m==============================\u001b[0m\n",
      "\u001b[32m2023-10-12 16:51:20.436\u001b[0m | \u001b[1mINFO    \u001b[0m | \u001b[36m__main__\u001b[0m:\u001b[36mcross_validate\u001b[0m:\u001b[36m17\u001b[0m - \u001b[1mFold 2: 6.7661 (took 86.95s)\u001b[0m\n",
      "Best trial: 0. Best value: 6.4697:  34%|███▎      | 67/200 [24:39<16:53,  7.62s/it]\u001b[32m2023-10-12 16:51:24.026\u001b[0m | \u001b[1mINFO    \u001b[0m | \u001b[36m__main__\u001b[0m:\u001b[36mcross_validate\u001b[0m:\u001b[36m4\u001b[0m - \u001b[1mStarting evaluation...\u001b[0m\n",
      "\u001b[32m2023-10-12 16:51:24.026\u001b[0m | \u001b[1mINFO    \u001b[0m | \u001b[36m__main__\u001b[0m:\u001b[36mcross_validate\u001b[0m:\u001b[36m5\u001b[0m - \u001b[1m==============================\u001b[0m\n",
      "Best trial: 0. Best value: 6.4697:  34%|███▍      | 68/200 [24:41<13:09,  5.98s/it]\u001b[32m2023-10-12 16:51:26.153\u001b[0m | \u001b[1mINFO    \u001b[0m | \u001b[36m__main__\u001b[0m:\u001b[36mcross_validate\u001b[0m:\u001b[36m4\u001b[0m - \u001b[1mStarting evaluation...\u001b[0m\n",
      "\u001b[32m2023-10-12 16:51:26.158\u001b[0m | \u001b[1mINFO    \u001b[0m | \u001b[36m__main__\u001b[0m:\u001b[36mcross_validate\u001b[0m:\u001b[36m5\u001b[0m - \u001b[1m==============================\u001b[0m\n",
      "Best trial: 0. Best value: 6.4697:  34%|███▍      | 69/200 [24:49<13:48,  6.32s/it]\u001b[32m2023-10-12 16:51:33.255\u001b[0m | \u001b[1mINFO    \u001b[0m | \u001b[36m__main__\u001b[0m:\u001b[36mcross_validate\u001b[0m:\u001b[36m4\u001b[0m - \u001b[1mStarting evaluation...\u001b[0m\n",
      "\u001b[32m2023-10-12 16:51:33.255\u001b[0m | \u001b[1mINFO    \u001b[0m | \u001b[36m__main__\u001b[0m:\u001b[36mcross_validate\u001b[0m:\u001b[36m5\u001b[0m - \u001b[1m==============================\u001b[0m\n",
      "Best trial: 0. Best value: 6.4697:  35%|███▌      | 70/200 [24:57<15:08,  6.99s/it]\u001b[32m2023-10-12 16:51:41.803\u001b[0m | \u001b[1mINFO    \u001b[0m | \u001b[36m__main__\u001b[0m:\u001b[36mcross_validate\u001b[0m:\u001b[36m4\u001b[0m - \u001b[1mStarting evaluation...\u001b[0m\n",
      "\u001b[32m2023-10-12 16:51:41.803\u001b[0m | \u001b[1mINFO    \u001b[0m | \u001b[36m__main__\u001b[0m:\u001b[36mcross_validate\u001b[0m:\u001b[36m5\u001b[0m - \u001b[1m==============================\u001b[0m\n",
      "Best trial: 0. Best value: 6.4697:  36%|███▌      | 72/200 [25:05<10:50,  5.08s/it]\u001b[32m2023-10-12 16:51:49.672\u001b[0m | \u001b[1mINFO    \u001b[0m | \u001b[36m__main__\u001b[0m:\u001b[36mcross_validate\u001b[0m:\u001b[36m4\u001b[0m - \u001b[1mStarting evaluation...\u001b[0m\n",
      "\u001b[32m2023-10-12 16:51:49.674\u001b[0m | \u001b[1mINFO    \u001b[0m | \u001b[36m__main__\u001b[0m:\u001b[36mcross_validate\u001b[0m:\u001b[36m5\u001b[0m - \u001b[1m==============================\u001b[0m\n",
      "\u001b[32m2023-10-12 16:51:49.780\u001b[0m | \u001b[1mINFO    \u001b[0m | \u001b[36m__main__\u001b[0m:\u001b[36mcross_validate\u001b[0m:\u001b[36m4\u001b[0m - \u001b[1mStarting evaluation...\u001b[0m\n",
      "\u001b[32m2023-10-12 16:51:49.780\u001b[0m | \u001b[1mINFO    \u001b[0m | \u001b[36m__main__\u001b[0m:\u001b[36mcross_validate\u001b[0m:\u001b[36m5\u001b[0m - \u001b[1m==============================\u001b[0m\n",
      "Best trial: 0. Best value: 6.4697:  36%|███▋      | 73/200 [25:15<13:49,  6.53s/it]\u001b[32m2023-10-12 16:51:59.505\u001b[0m | \u001b[1mINFO    \u001b[0m | \u001b[36m__main__\u001b[0m:\u001b[36mcross_validate\u001b[0m:\u001b[36m4\u001b[0m - \u001b[1mStarting evaluation...\u001b[0m\n",
      "\u001b[32m2023-10-12 16:51:59.505\u001b[0m | \u001b[1mINFO    \u001b[0m | \u001b[36m__main__\u001b[0m:\u001b[36mcross_validate\u001b[0m:\u001b[36m5\u001b[0m - \u001b[1m==============================\u001b[0m\n",
      "Best trial: 0. Best value: 6.4697:  37%|███▋      | 74/200 [25:20<13:12,  6.29s/it]\u001b[32m2023-10-12 16:52:05.209\u001b[0m | \u001b[1mINFO    \u001b[0m | \u001b[36m__main__\u001b[0m:\u001b[36mcross_validate\u001b[0m:\u001b[36m4\u001b[0m - \u001b[1mStarting evaluation...\u001b[0m\n",
      "\u001b[32m2023-10-12 16:52:05.210\u001b[0m | \u001b[1mINFO    \u001b[0m | \u001b[36m__main__\u001b[0m:\u001b[36mcross_validate\u001b[0m:\u001b[36m5\u001b[0m - \u001b[1m==============================\u001b[0m\n",
      "Best trial: 0. Best value: 6.4697:  38%|███▊      | 75/200 [25:27<13:02,  6.26s/it]\u001b[32m2023-10-12 16:52:11.386\u001b[0m | \u001b[1mINFO    \u001b[0m | \u001b[36m__main__\u001b[0m:\u001b[36mcross_validate\u001b[0m:\u001b[36m4\u001b[0m - \u001b[1mStarting evaluation...\u001b[0m\n",
      "\u001b[32m2023-10-12 16:52:11.386\u001b[0m | \u001b[1mINFO    \u001b[0m | \u001b[36m__main__\u001b[0m:\u001b[36mcross_validate\u001b[0m:\u001b[36m5\u001b[0m - \u001b[1m==============================\u001b[0m\n",
      "\u001b[32m2023-10-12 16:52:12.176\u001b[0m | \u001b[1mINFO    \u001b[0m | \u001b[36m__main__\u001b[0m:\u001b[36mcross_validate\u001b[0m:\u001b[36m17\u001b[0m - \u001b[1mFold 1: 7.2885 (took 16.96s)\u001b[0m\n",
      "c:\\Users\\salva\\OneDrive\\Documentos\\Python Projects\\trading-at-the-close\\.venv\\lib\\site-packages\\optuna\\trial\\_trial.py:494: UserWarning:\n",
      "\n",
      "The reported value is ignored because this `step` 99 is already reported.\n",
      "\n",
      "Best trial: 0. Best value: 6.4697:  38%|███▊      | 76/200 [25:36<14:33,  7.05s/it]\u001b[32m2023-10-12 16:52:20.245\u001b[0m | \u001b[1mINFO    \u001b[0m | \u001b[36m__main__\u001b[0m:\u001b[36mcross_validate\u001b[0m:\u001b[36m4\u001b[0m - \u001b[1mStarting evaluation...\u001b[0m\n",
      "\u001b[32m2023-10-12 16:52:20.245\u001b[0m | \u001b[1mINFO    \u001b[0m | \u001b[36m__main__\u001b[0m:\u001b[36mcross_validate\u001b[0m:\u001b[36m5\u001b[0m - \u001b[1m==============================\u001b[0m\n",
      "Best trial: 0. Best value: 6.4697:  38%|███▊      | 77/200 [25:41<13:44,  6.70s/it]\u001b[32m2023-10-12 16:52:26.304\u001b[0m | \u001b[1mINFO    \u001b[0m | \u001b[36m__main__\u001b[0m:\u001b[36mcross_validate\u001b[0m:\u001b[36m4\u001b[0m - \u001b[1mStarting evaluation...\u001b[0m\n",
      "\u001b[32m2023-10-12 16:52:26.309\u001b[0m | \u001b[1mINFO    \u001b[0m | \u001b[36m__main__\u001b[0m:\u001b[36mcross_validate\u001b[0m:\u001b[36m5\u001b[0m - \u001b[1m==============================\u001b[0m\n",
      "Best trial: 0. Best value: 6.4697:  39%|███▉      | 78/200 [25:42<09:51,  4.85s/it]\u001b[32m2023-10-12 16:52:26.727\u001b[0m | \u001b[1mINFO    \u001b[0m | \u001b[36m__main__\u001b[0m:\u001b[36mcross_validate\u001b[0m:\u001b[36m4\u001b[0m - \u001b[1mStarting evaluation...\u001b[0m\n",
      "\u001b[32m2023-10-12 16:52:26.727\u001b[0m | \u001b[1mINFO    \u001b[0m | \u001b[36m__main__\u001b[0m:\u001b[36mcross_validate\u001b[0m:\u001b[36m5\u001b[0m - \u001b[1m==============================\u001b[0m\n",
      "Best trial: 0. Best value: 6.4697:  40%|███▉      | 79/200 [25:56<15:27,  7.66s/it]\u001b[32m2023-10-12 16:52:40.934\u001b[0m | \u001b[1mINFO    \u001b[0m | \u001b[36m__main__\u001b[0m:\u001b[36mcross_validate\u001b[0m:\u001b[36m4\u001b[0m - \u001b[1mStarting evaluation...\u001b[0m\n",
      "\u001b[32m2023-10-12 16:52:40.935\u001b[0m | \u001b[1mINFO    \u001b[0m | \u001b[36m__main__\u001b[0m:\u001b[36mcross_validate\u001b[0m:\u001b[36m5\u001b[0m - \u001b[1m==============================\u001b[0m\n",
      "Best trial: 0. Best value: 6.4697:  40%|████      | 80/200 [26:01<13:54,  6.96s/it]\u001b[32m2023-10-12 16:52:46.357\u001b[0m | \u001b[1mINFO    \u001b[0m | \u001b[36m__main__\u001b[0m:\u001b[36mcross_validate\u001b[0m:\u001b[36m4\u001b[0m - \u001b[1mStarting evaluation...\u001b[0m\n",
      "\u001b[32m2023-10-12 16:52:46.357\u001b[0m | \u001b[1mINFO    \u001b[0m | \u001b[36m__main__\u001b[0m:\u001b[36mcross_validate\u001b[0m:\u001b[36m5\u001b[0m - \u001b[1m==============================\u001b[0m\n",
      "Best trial: 0. Best value: 6.4697:  40%|████      | 81/200 [26:04<11:10,  5.64s/it]\u001b[32m2023-10-12 16:52:48.799\u001b[0m | \u001b[1mINFO    \u001b[0m | \u001b[36m__main__\u001b[0m:\u001b[36mcross_validate\u001b[0m:\u001b[36m4\u001b[0m - \u001b[1mStarting evaluation...\u001b[0m\n",
      "\u001b[32m2023-10-12 16:52:48.799\u001b[0m | \u001b[1mINFO    \u001b[0m | \u001b[36m__main__\u001b[0m:\u001b[36mcross_validate\u001b[0m:\u001b[36m5\u001b[0m - \u001b[1m==============================\u001b[0m\n",
      "Best trial: 0. Best value: 6.4697:  41%|████      | 82/200 [26:08<09:49,  4.99s/it]\u001b[32m2023-10-12 16:52:52.291\u001b[0m | \u001b[1mINFO    \u001b[0m | \u001b[36m__main__\u001b[0m:\u001b[36mcross_validate\u001b[0m:\u001b[36m4\u001b[0m - \u001b[1mStarting evaluation...\u001b[0m\n",
      "\u001b[32m2023-10-12 16:52:52.291\u001b[0m | \u001b[1mINFO    \u001b[0m | \u001b[36m__main__\u001b[0m:\u001b[36mcross_validate\u001b[0m:\u001b[36m5\u001b[0m - \u001b[1m==============================\u001b[0m\n",
      "\u001b[32m2023-10-12 16:53:03.270\u001b[0m | \u001b[1mINFO    \u001b[0m | \u001b[36m__main__\u001b[0m:\u001b[36mcross_validate\u001b[0m:\u001b[36m17\u001b[0m - \u001b[1mFold 3: 6.0974 (took 83.25s)\u001b[0m\n",
      "Best trial: 0. Best value: 6.4697:  42%|████▏     | 83/200 [26:22<15:17,  7.84s/it]\u001b[32m2023-10-12 16:53:06.776\u001b[0m | \u001b[1mINFO    \u001b[0m | \u001b[36m__main__\u001b[0m:\u001b[36mcross_validate\u001b[0m:\u001b[36m4\u001b[0m - \u001b[1mStarting evaluation...\u001b[0m\n",
      "\u001b[32m2023-10-12 16:53:06.776\u001b[0m | \u001b[1mINFO    \u001b[0m | \u001b[36m__main__\u001b[0m:\u001b[36mcross_validate\u001b[0m:\u001b[36m5\u001b[0m - \u001b[1m==============================\u001b[0m\n",
      "\u001b[32m2023-10-12 16:53:11.444\u001b[0m | \u001b[1mINFO    \u001b[0m | \u001b[36m__main__\u001b[0m:\u001b[36mcross_validate\u001b[0m:\u001b[36m17\u001b[0m - \u001b[1mFold 1: 7.2921 (took 17.20s)\u001b[0m\n",
      "\u001b[32m2023-10-12 16:53:16.702\u001b[0m | \u001b[1mINFO    \u001b[0m | \u001b[36m__main__\u001b[0m:\u001b[36mcross_validate\u001b[0m:\u001b[36m17\u001b[0m - \u001b[1mFold 1: 7.2916 (took 18.57s)\u001b[0m\n",
      "\u001b[32m2023-10-12 16:53:31.150\u001b[0m | \u001b[1mINFO    \u001b[0m | \u001b[36m__main__\u001b[0m:\u001b[36mcross_validate\u001b[0m:\u001b[36m17\u001b[0m - \u001b[1mFold 1: 7.2937 (took 19.12s)\u001b[0m\n",
      "\u001b[32m2023-10-12 16:53:38.962\u001b[0m | \u001b[1mINFO    \u001b[0m | \u001b[36m__main__\u001b[0m:\u001b[36mcross_validate\u001b[0m:\u001b[36m17\u001b[0m - \u001b[1mFold 1: 7.2856 (took 35.12s)\u001b[0m\n",
      "\u001b[32m2023-10-12 16:53:50.051\u001b[0m | \u001b[1mINFO    \u001b[0m | \u001b[36m__main__\u001b[0m:\u001b[36mcross_validate\u001b[0m:\u001b[36m17\u001b[0m - \u001b[1mFold 2: 6.7720 (took 31.74s)\u001b[0m\n",
      "\u001b[32m2023-10-12 16:54:00.811\u001b[0m | \u001b[1mINFO    \u001b[0m | \u001b[36m__main__\u001b[0m:\u001b[36mcross_validate\u001b[0m:\u001b[36m17\u001b[0m - \u001b[1mFold 2: 6.7733 (took 35.84s)\u001b[0m\n",
      "\u001b[32m2023-10-12 16:54:12.650\u001b[0m | \u001b[1mINFO    \u001b[0m | \u001b[36m__main__\u001b[0m:\u001b[36mcross_validate\u001b[0m:\u001b[36m17\u001b[0m - \u001b[1mFold 2: 6.7714 (took 34.91s)\u001b[0m\n",
      "c:\\Users\\salva\\OneDrive\\Documentos\\Python Projects\\trading-at-the-close\\.venv\\lib\\site-packages\\optuna\\trial\\_trial.py:494: UserWarning:\n",
      "\n",
      "The reported value is ignored because this `step` 99 is already reported.\n",
      "\n",
      "c:\\Users\\salva\\OneDrive\\Documentos\\Python Projects\\trading-at-the-close\\.venv\\lib\\site-packages\\optuna\\trial\\_trial.py:494: UserWarning:\n",
      "\n",
      "The reported value is ignored because this `step` 99 is already reported.\n",
      "\n",
      "\u001b[32m2023-10-12 16:54:41.917\u001b[0m | \u001b[1mINFO    \u001b[0m | \u001b[36m__main__\u001b[0m:\u001b[36mcross_validate\u001b[0m:\u001b[36m17\u001b[0m - \u001b[1mFold 3: 6.1033 (took 45.76s)\u001b[0m\n",
      "\u001b[32m2023-10-12 16:54:48.127\u001b[0m | \u001b[1mINFO    \u001b[0m | \u001b[36m__main__\u001b[0m:\u001b[36mcross_validate\u001b[0m:\u001b[36m17\u001b[0m - \u001b[1mFold 3: 6.1031 (took 42.65s)\u001b[0m\n",
      "\u001b[32m2023-10-12 16:54:54.872\u001b[0m | \u001b[1mINFO    \u001b[0m | \u001b[36m__main__\u001b[0m:\u001b[36mcross_validate\u001b[0m:\u001b[36m17\u001b[0m - \u001b[1mFold 4: 6.3218 (took 95.71s)\u001b[0m\n",
      "\u001b[32m2023-10-12 16:54:56.417\u001b[0m | \u001b[1mINFO    \u001b[0m | \u001b[36m__main__\u001b[0m:\u001b[36mcross_validate\u001b[0m:\u001b[36m17\u001b[0m - \u001b[1mFold 2: 6.7661 (took 60.53s)\u001b[0m\n",
      "\u001b[32m2023-10-12 16:54:57.519\u001b[0m | \u001b[1mINFO    \u001b[0m | \u001b[36m__main__\u001b[0m:\u001b[36mcross_validate\u001b[0m:\u001b[36m17\u001b[0m - \u001b[1mFold 3: 6.1007 (took 40.47s)\u001b[0m\n",
      "Best trial: 0. Best value: 6.4697:  42%|████▏     | 83/200 [28:14<15:17,  7.84s/it]"
     ]
    },
    {
     "name": "stdout",
     "output_type": "stream",
     "text": [
      "[W 2023-10-12 16:54:58,227] Trial 87 failed with parameters: {'max_depth': 12, 'num_leaves': 896, 'device': 'cpu', 'verbose': -1, 'n_jobs': 1, 'random_state': 123, 'objective': 'mae', 'n_estimators': 750, 'boosting_type': 'gbdt', 'min_child_samples': 498, 'subsample': 0.8095290373019706, 'subsample_freq': 1, 'subsample_for_bin': 458379, 'colsample_bytree': 0.8039463346794586, 'reg_lambda': 1.2626537255042092, 'learning_rate': 0.10190031386305712, 'min_split_gain': 0.10500313986542953} because of the following error: MemoryError((3491928, 16), dtype('float64')).\n",
      "Traceback (most recent call last):\n",
      "  File \"c:\\Users\\salva\\OneDrive\\Documentos\\Python Projects\\trading-at-the-close\\.venv\\lib\\site-packages\\optuna\\study\\_optimize.py\", line 200, in _run_trial\n",
      "    value_or_values = func(trial)\n",
      "  File \"C:\\Users\\salva\\AppData\\Local\\Temp\\ipykernel_20240\\1671290876.py\", line 10, in objective_function\n",
      "    scores = cross_validate(model, x, y, cv=cv, callbacks=callbacks)\n",
      "  File \"C:\\Users\\salva\\AppData\\Local\\Temp\\ipykernel_20240\\646956930.py\", line 12, in cross_validate\n",
      "    model.fit(x_train, y_train, eval_set=[(x_val, y_val)], callbacks=callbacks)\n",
      "  File \"c:\\Users\\salva\\OneDrive\\Documentos\\Python Projects\\trading-at-the-close\\.venv\\lib\\site-packages\\lightgbm\\sklearn.py\", line 1049, in fit\n",
      "    super().fit(\n",
      "  File \"c:\\Users\\salva\\OneDrive\\Documentos\\Python Projects\\trading-at-the-close\\.venv\\lib\\site-packages\\lightgbm\\sklearn.py\", line 842, in fit\n",
      "    self._Booster = train(\n",
      "  File \"c:\\Users\\salva\\OneDrive\\Documentos\\Python Projects\\trading-at-the-close\\.venv\\lib\\site-packages\\lightgbm\\engine.py\", line 255, in train\n",
      "    booster = Booster(params=params, train_set=train_set)\n",
      "  File \"c:\\Users\\salva\\OneDrive\\Documentos\\Python Projects\\trading-at-the-close\\.venv\\lib\\site-packages\\lightgbm\\basic.py\", line 3200, in __init__\n",
      "    train_set.construct()\n",
      "  File \"c:\\Users\\salva\\OneDrive\\Documentos\\Python Projects\\trading-at-the-close\\.venv\\lib\\site-packages\\lightgbm\\basic.py\", line 2276, in construct\n",
      "    self._lazy_init(data=self.data, label=self.label, reference=None,\n",
      "  File \"c:\\Users\\salva\\OneDrive\\Documentos\\Python Projects\\trading-at-the-close\\.venv\\lib\\site-packages\\lightgbm\\basic.py\", line 1918, in _lazy_init\n",
      "    self.__init_from_np2d(data, params_str, ref_dataset)\n",
      "  File \"c:\\Users\\salva\\OneDrive\\Documentos\\Python Projects\\trading-at-the-close\\.venv\\lib\\site-packages\\lightgbm\\basic.py\", line 2049, in __init_from_np2d\n",
      "    data = np.array(mat.reshape(mat.size), dtype=mat.dtype, copy=False)\n",
      "numpy.core._exceptions._ArrayMemoryError: Unable to allocate 426. MiB for an array with shape (3491928, 16) and data type float64\n",
      "[W 2023-10-12 16:54:58,243] Trial 87 failed with value None.\n"
     ]
    },
    {
     "name": "stderr",
     "output_type": "stream",
     "text": [
      "\u001b[32m2023-10-12 16:55:36.641\u001b[0m | \u001b[1mINFO    \u001b[0m | \u001b[36m__main__\u001b[0m:\u001b[36mcross_validate\u001b[0m:\u001b[36m17\u001b[0m - \u001b[1mFold 4: 6.3278 (took 49.78s)\u001b[0m\n",
      "\u001b[32m2023-10-12 16:55:46.693\u001b[0m | \u001b[1mINFO    \u001b[0m | \u001b[36m__main__\u001b[0m:\u001b[36mcross_validate\u001b[0m:\u001b[36m17\u001b[0m - \u001b[1mFold 4: 6.3249 (took 53.03s)\u001b[0m\n",
      "\u001b[32m2023-10-12 16:55:57.185\u001b[0m | \u001b[1mINFO    \u001b[0m | \u001b[36m__main__\u001b[0m:\u001b[36mcross_validate\u001b[0m:\u001b[36m17\u001b[0m - \u001b[1mFold 3: 6.0993 (took 52.70s)\u001b[0m\n",
      "c:\\Users\\salva\\OneDrive\\Documentos\\Python Projects\\trading-at-the-close\\.venv\\lib\\site-packages\\optuna\\trial\\_trial.py:494: UserWarning:\n",
      "\n",
      "The reported value is ignored because this `step` 99 is already reported.\n",
      "\n",
      "\u001b[32m2023-10-12 16:56:44.749\u001b[0m | \u001b[1mINFO    \u001b[0m | \u001b[36m__main__\u001b[0m:\u001b[36mcross_validate\u001b[0m:\u001b[36m17\u001b[0m - \u001b[1mFold 5: 5.8856 (took 62.54s)\u001b[0m\n",
      "\u001b[32m2023-10-12 16:56:44.750\u001b[0m | \u001b[1mINFO    \u001b[0m | \u001b[36m__main__\u001b[0m:\u001b[36mcross_validate\u001b[0m:\u001b[36m19\u001b[0m - \u001b[1m------------------------------\u001b[0m\n",
      "\u001b[32m2023-10-12 16:56:44.751\u001b[0m | \u001b[32m\u001b[1mSUCCESS \u001b[0m | \u001b[36m__main__\u001b[0m:\u001b[36mcross_validate\u001b[0m:\u001b[36m20\u001b[0m - \u001b[32m\u001b[1mAverage MAE = 6.4762 ± 0.50\u001b[0m\n",
      "\u001b[32m2023-10-12 16:56:44.751\u001b[0m | \u001b[1mINFO    \u001b[0m | \u001b[36m__main__\u001b[0m:\u001b[36mcross_validate\u001b[0m:\u001b[36m21\u001b[0m - \u001b[1m==============================\u001b[0m\n",
      "Best trial: 0. Best value: 6.4697:  42%|████▏     | 84/200 [30:00<2:17:18, 71.02s/it]\u001b[32m2023-10-12 16:56:57.164\u001b[0m | \u001b[1mINFO    \u001b[0m | \u001b[36m__main__\u001b[0m:\u001b[36mcross_validate\u001b[0m:\u001b[36m17\u001b[0m - \u001b[1mFold 5: 5.8864 (took 64.71s)\u001b[0m\n",
      "\u001b[32m2023-10-12 16:56:57.165\u001b[0m | \u001b[1mINFO    \u001b[0m | \u001b[36m__main__\u001b[0m:\u001b[36mcross_validate\u001b[0m:\u001b[36m19\u001b[0m - \u001b[1m------------------------------\u001b[0m\n",
      "\u001b[32m2023-10-12 16:56:57.166\u001b[0m | \u001b[32m\u001b[1mSUCCESS \u001b[0m | \u001b[36m__main__\u001b[0m:\u001b[36mcross_validate\u001b[0m:\u001b[36m20\u001b[0m - \u001b[32m\u001b[1mAverage MAE = 6.4759 ± 0.50\u001b[0m\n",
      "\u001b[32m2023-10-12 16:56:57.166\u001b[0m | \u001b[1mINFO    \u001b[0m | \u001b[36m__main__\u001b[0m:\u001b[36mcross_validate\u001b[0m:\u001b[36m21\u001b[0m - \u001b[1m==============================\u001b[0m\n",
      "Best trial: 0. Best value: 6.4697:  42%|████▎     | 85/200 [30:13<1:42:25, 53.44s/it]c:\\Users\\salva\\OneDrive\\Documentos\\Python Projects\\trading-at-the-close\\.venv\\lib\\site-packages\\optuna\\trial\\_trial.py:494: UserWarning:\n",
      "\n",
      "The reported value is ignored because this `step` 99 is already reported.\n",
      "\n",
      "c:\\Users\\salva\\OneDrive\\Documentos\\Python Projects\\trading-at-the-close\\.venv\\lib\\site-packages\\optuna\\trial\\_trial.py:494: UserWarning:\n",
      "\n",
      "The reported value is ignored because this `step` 199 is already reported.\n",
      "\n",
      "\u001b[32m2023-10-12 16:57:17.973\u001b[0m | \u001b[1mINFO    \u001b[0m | \u001b[36m__main__\u001b[0m:\u001b[36mcross_validate\u001b[0m:\u001b[36m17\u001b[0m - \u001b[1mFold 4: 6.3203 (took 71.04s)\u001b[0m\n",
      "\u001b[32m2023-10-12 16:57:38.459\u001b[0m | \u001b[1mINFO    \u001b[0m | \u001b[36m__main__\u001b[0m:\u001b[36mcross_validate\u001b[0m:\u001b[36m17\u001b[0m - \u001b[1mFold 5: 5.8830 (took 141.06s)\u001b[0m\n",
      "\u001b[32m2023-10-12 16:57:38.460\u001b[0m | \u001b[1mINFO    \u001b[0m | \u001b[36m__main__\u001b[0m:\u001b[36mcross_validate\u001b[0m:\u001b[36m19\u001b[0m - \u001b[1m------------------------------\u001b[0m\n",
      "\u001b[32m2023-10-12 16:57:38.461\u001b[0m | \u001b[32m\u001b[1mSUCCESS \u001b[0m | \u001b[36m__main__\u001b[0m:\u001b[36mcross_validate\u001b[0m:\u001b[36m20\u001b[0m - \u001b[32m\u001b[1mAverage MAE = 6.4709 ± 0.50\u001b[0m\n",
      "\u001b[32m2023-10-12 16:57:38.461\u001b[0m | \u001b[1mINFO    \u001b[0m | \u001b[36m__main__\u001b[0m:\u001b[36mcross_validate\u001b[0m:\u001b[36m21\u001b[0m - \u001b[1m==============================\u001b[0m\n",
      "Best trial: 0. Best value: 6.4697:  43%|████▎     | 86/200 [30:54<1:34:35, 49.79s/it]c:\\Users\\salva\\OneDrive\\Documentos\\Python Projects\\trading-at-the-close\\.venv\\lib\\site-packages\\optuna\\trial\\_trial.py:494: UserWarning:\n",
      "\n",
      "The reported value is ignored because this `step` 99 is already reported.\n",
      "\n",
      "\u001b[32m2023-10-12 16:59:03.238\u001b[0m | \u001b[1mINFO    \u001b[0m | \u001b[36m__main__\u001b[0m:\u001b[36mcross_validate\u001b[0m:\u001b[36m17\u001b[0m - \u001b[1mFold 5: 5.8821 (took 91.49s)\u001b[0m\n",
      "\u001b[32m2023-10-12 16:59:03.239\u001b[0m | \u001b[1mINFO    \u001b[0m | \u001b[36m__main__\u001b[0m:\u001b[36mcross_validate\u001b[0m:\u001b[36m19\u001b[0m - \u001b[1m------------------------------\u001b[0m\n",
      "\u001b[32m2023-10-12 16:59:03.240\u001b[0m | \u001b[32m\u001b[1mSUCCESS \u001b[0m | \u001b[36m__main__\u001b[0m:\u001b[36mcross_validate\u001b[0m:\u001b[36m20\u001b[0m - \u001b[32m\u001b[1mAverage MAE = 6.4707 ± 0.50\u001b[0m\n",
      "\u001b[32m2023-10-12 16:59:03.241\u001b[0m | \u001b[1mINFO    \u001b[0m | \u001b[36m__main__\u001b[0m:\u001b[36mcross_validate\u001b[0m:\u001b[36m21\u001b[0m - \u001b[1m==============================\u001b[0m\n",
      "Best trial: 0. Best value: 6.4697:  44%|████▎     | 87/200 [32:19<41:59, 22.29s/it]  \n"
     ]
    },
    {
     "ename": "MemoryError",
     "evalue": "Unable to allocate 426. MiB for an array with shape (3491928, 16) and data type float64",
     "output_type": "error",
     "traceback": [
      "\u001b[1;31m---------------------------------------------------------------------------\u001b[0m",
      "\u001b[1;31mMemoryError\u001b[0m                               Traceback (most recent call last)",
      "\u001b[1;32mc:\\Users\\salva\\OneDrive\\Documentos\\Python Projects\\trading-at-the-close\\train.ipynb Cell 20\u001b[0m line \u001b[0;36m1\n\u001b[0;32m      <a href='vscode-notebook-cell:/c%3A/Users/salva/OneDrive/Documentos/Python%20Projects/trading-at-the-close/train.ipynb#X24sZmlsZQ%3D%3D?line=8'>9</a>\u001b[0m \u001b[39mif\u001b[39;00m CFG\u001b[39m.\u001b[39mHYPERTUNE:\n\u001b[0;32m     <a href='vscode-notebook-cell:/c%3A/Users/salva/OneDrive/Documentos/Python%20Projects/trading-at-the-close/train.ipynb#X24sZmlsZQ%3D%3D?line=9'>10</a>\u001b[0m     objective \u001b[39m=\u001b[39m get_objective_function(model_cls, param_space_func, X, Y, cv\u001b[39m=\u001b[39mTimeSeriesSplit(n_splits\u001b[39m=\u001b[39mCFG\u001b[39m.\u001b[39mN_FOLDS), callbacks_func\u001b[39m=\u001b[39mcallbacks_func)\n\u001b[1;32m---> <a href='vscode-notebook-cell:/c%3A/Users/salva/OneDrive/Documentos/Python%20Projects/trading-at-the-close/train.ipynb#X24sZmlsZQ%3D%3D?line=10'>11</a>\u001b[0m     study \u001b[39m=\u001b[39m run_optimization(objective, sampler\u001b[39m=\u001b[39;49mCFG\u001b[39m.\u001b[39;49mSAMPLER(), pruner\u001b[39m=\u001b[39;49mCFG\u001b[39m.\u001b[39;49mPRUNER(), n_trials\u001b[39m=\u001b[39;49mCFG\u001b[39m.\u001b[39;49mN_TRIALS, n_jobs\u001b[39m=\u001b[39;49mCFG\u001b[39m.\u001b[39;49mN_JOBS, best_trial\u001b[39m=\u001b[39;49mbest_trial)\n\u001b[0;32m     <a href='vscode-notebook-cell:/c%3A/Users/salva/OneDrive/Documentos/Python%20Projects/trading-at-the-close/train.ipynb#X24sZmlsZQ%3D%3D?line=11'>12</a>\u001b[0m     best_params \u001b[39m=\u001b[39m study\u001b[39m.\u001b[39mbest_params\n",
      "\u001b[1;32mc:\\Users\\salva\\OneDrive\\Documentos\\Python Projects\\trading-at-the-close\\train.ipynb Cell 20\u001b[0m line \u001b[0;36m4\n\u001b[0;32m     <a href='vscode-notebook-cell:/c%3A/Users/salva/OneDrive/Documentos/Python%20Projects/trading-at-the-close/train.ipynb#X24sZmlsZQ%3D%3D?line=37'>38</a>\u001b[0m         study\u001b[39m.\u001b[39menqueue_trial(best_trial)\n\u001b[0;32m     <a href='vscode-notebook-cell:/c%3A/Users/salva/OneDrive/Documentos/Python%20Projects/trading-at-the-close/train.ipynb#X24sZmlsZQ%3D%3D?line=39'>40</a>\u001b[0m     logger\u001b[39m.\u001b[39minfo(\u001b[39mf\u001b[39m\u001b[39m\"\u001b[39m\u001b[39mRunning hyperparameter search...\u001b[39m\u001b[39m\"\u001b[39m)\n\u001b[1;32m---> <a href='vscode-notebook-cell:/c%3A/Users/salva/OneDrive/Documentos/Python%20Projects/trading-at-the-close/train.ipynb#X24sZmlsZQ%3D%3D?line=40'>41</a>\u001b[0m     study\u001b[39m.\u001b[39;49moptimize(objective, n_trials\u001b[39m=\u001b[39;49mn_trials, n_jobs\u001b[39m=\u001b[39;49mn_jobs, show_progress_bar\u001b[39m=\u001b[39;49m\u001b[39mTrue\u001b[39;49;00m)\n\u001b[0;32m     <a href='vscode-notebook-cell:/c%3A/Users/salva/OneDrive/Documentos/Python%20Projects/trading-at-the-close/train.ipynb#X24sZmlsZQ%3D%3D?line=42'>43</a>\u001b[0m logger\u001b[39m.\u001b[39minfo(\u001b[39mf\u001b[39m\u001b[39m\"\u001b[39m\u001b[39mNumber of finished trials: \u001b[39m\u001b[39m{\u001b[39;00m\u001b[39mlen\u001b[39m(study\u001b[39m.\u001b[39mtrials)\u001b[39m}\u001b[39;00m\u001b[39m\"\u001b[39m)\n\u001b[0;32m     <a href='vscode-notebook-cell:/c%3A/Users/salva/OneDrive/Documentos/Python%20Projects/trading-at-the-close/train.ipynb#X24sZmlsZQ%3D%3D?line=43'>44</a>\u001b[0m logger\u001b[39m.\u001b[39msuccess(\u001b[39mf\u001b[39m\u001b[39m\"\u001b[39m\u001b[39mBest MAE: \u001b[39m\u001b[39m{\u001b[39;00mstudy\u001b[39m.\u001b[39mbest_value\u001b[39m:\u001b[39;00m\u001b[39m.4f\u001b[39m\u001b[39m}\u001b[39;00m\u001b[39m\"\u001b[39m)\n",
      "File \u001b[1;32mc:\\Users\\salva\\OneDrive\\Documentos\\Python Projects\\trading-at-the-close\\.venv\\lib\\site-packages\\optuna\\study\\study.py:442\u001b[0m, in \u001b[0;36mStudy.optimize\u001b[1;34m(self, func, n_trials, timeout, n_jobs, catch, callbacks, gc_after_trial, show_progress_bar)\u001b[0m\n\u001b[0;32m    339\u001b[0m \u001b[39mdef\u001b[39;00m \u001b[39moptimize\u001b[39m(\n\u001b[0;32m    340\u001b[0m     \u001b[39mself\u001b[39m,\n\u001b[0;32m    341\u001b[0m     func: ObjectiveFuncType,\n\u001b[1;32m   (...)\u001b[0m\n\u001b[0;32m    348\u001b[0m     show_progress_bar: \u001b[39mbool\u001b[39m \u001b[39m=\u001b[39m \u001b[39mFalse\u001b[39;00m,\n\u001b[0;32m    349\u001b[0m ) \u001b[39m-\u001b[39m\u001b[39m>\u001b[39m \u001b[39mNone\u001b[39;00m:\n\u001b[0;32m    350\u001b[0m \u001b[39m    \u001b[39m\u001b[39m\"\"\"Optimize an objective function.\u001b[39;00m\n\u001b[0;32m    351\u001b[0m \n\u001b[0;32m    352\u001b[0m \u001b[39m    Optimization is done by choosing a suitable set of hyperparameter values from a given\u001b[39;00m\n\u001b[1;32m   (...)\u001b[0m\n\u001b[0;32m    440\u001b[0m \u001b[39m            If nested invocation of this method occurs.\u001b[39;00m\n\u001b[0;32m    441\u001b[0m \u001b[39m    \"\"\"\u001b[39;00m\n\u001b[1;32m--> 442\u001b[0m     _optimize(\n\u001b[0;32m    443\u001b[0m         study\u001b[39m=\u001b[39;49m\u001b[39mself\u001b[39;49m,\n\u001b[0;32m    444\u001b[0m         func\u001b[39m=\u001b[39;49mfunc,\n\u001b[0;32m    445\u001b[0m         n_trials\u001b[39m=\u001b[39;49mn_trials,\n\u001b[0;32m    446\u001b[0m         timeout\u001b[39m=\u001b[39;49mtimeout,\n\u001b[0;32m    447\u001b[0m         n_jobs\u001b[39m=\u001b[39;49mn_jobs,\n\u001b[0;32m    448\u001b[0m         catch\u001b[39m=\u001b[39;49m\u001b[39mtuple\u001b[39;49m(catch) \u001b[39mif\u001b[39;49;00m \u001b[39misinstance\u001b[39;49m(catch, Iterable) \u001b[39melse\u001b[39;49;00m (catch,),\n\u001b[0;32m    449\u001b[0m         callbacks\u001b[39m=\u001b[39;49mcallbacks,\n\u001b[0;32m    450\u001b[0m         gc_after_trial\u001b[39m=\u001b[39;49mgc_after_trial,\n\u001b[0;32m    451\u001b[0m         show_progress_bar\u001b[39m=\u001b[39;49mshow_progress_bar,\n\u001b[0;32m    452\u001b[0m     )\n",
      "File \u001b[1;32mc:\\Users\\salva\\OneDrive\\Documentos\\Python Projects\\trading-at-the-close\\.venv\\lib\\site-packages\\optuna\\study\\_optimize.py:103\u001b[0m, in \u001b[0;36m_optimize\u001b[1;34m(study, func, n_trials, timeout, n_jobs, catch, callbacks, gc_after_trial, show_progress_bar)\u001b[0m\n\u001b[0;32m    101\u001b[0m                     \u001b[39m# Raise if exception occurred in executing the completed futures.\u001b[39;00m\n\u001b[0;32m    102\u001b[0m                     \u001b[39mfor\u001b[39;00m f \u001b[39min\u001b[39;00m completed:\n\u001b[1;32m--> 103\u001b[0m                         f\u001b[39m.\u001b[39;49mresult()\n\u001b[0;32m    105\u001b[0m                 futures\u001b[39m.\u001b[39madd(\n\u001b[0;32m    106\u001b[0m                     executor\u001b[39m.\u001b[39msubmit(\n\u001b[0;32m    107\u001b[0m                         _optimize_sequential,\n\u001b[1;32m   (...)\u001b[0m\n\u001b[0;32m    118\u001b[0m                     )\n\u001b[0;32m    119\u001b[0m                 )\n\u001b[0;32m    120\u001b[0m \u001b[39mfinally\u001b[39;00m:\n",
      "File \u001b[1;32mC:\\Program Files\\Python\\lib\\concurrent\\futures\\_base.py:439\u001b[0m, in \u001b[0;36mFuture.result\u001b[1;34m(self, timeout)\u001b[0m\n\u001b[0;32m    437\u001b[0m     \u001b[39mraise\u001b[39;00m CancelledError()\n\u001b[0;32m    438\u001b[0m \u001b[39melif\u001b[39;00m \u001b[39mself\u001b[39m\u001b[39m.\u001b[39m_state \u001b[39m==\u001b[39m FINISHED:\n\u001b[1;32m--> 439\u001b[0m     \u001b[39mreturn\u001b[39;00m \u001b[39mself\u001b[39;49m\u001b[39m.\u001b[39;49m__get_result()\n\u001b[0;32m    441\u001b[0m \u001b[39mself\u001b[39m\u001b[39m.\u001b[39m_condition\u001b[39m.\u001b[39mwait(timeout)\n\u001b[0;32m    443\u001b[0m \u001b[39mif\u001b[39;00m \u001b[39mself\u001b[39m\u001b[39m.\u001b[39m_state \u001b[39min\u001b[39;00m [CANCELLED, CANCELLED_AND_NOTIFIED]:\n",
      "File \u001b[1;32mC:\\Program Files\\Python\\lib\\concurrent\\futures\\_base.py:391\u001b[0m, in \u001b[0;36mFuture.__get_result\u001b[1;34m(self)\u001b[0m\n\u001b[0;32m    389\u001b[0m \u001b[39mif\u001b[39;00m \u001b[39mself\u001b[39m\u001b[39m.\u001b[39m_exception:\n\u001b[0;32m    390\u001b[0m     \u001b[39mtry\u001b[39;00m:\n\u001b[1;32m--> 391\u001b[0m         \u001b[39mraise\u001b[39;00m \u001b[39mself\u001b[39m\u001b[39m.\u001b[39m_exception\n\u001b[0;32m    392\u001b[0m     \u001b[39mfinally\u001b[39;00m:\n\u001b[0;32m    393\u001b[0m         \u001b[39m# Break a reference cycle with the exception in self._exception\u001b[39;00m\n\u001b[0;32m    394\u001b[0m         \u001b[39mself\u001b[39m \u001b[39m=\u001b[39m \u001b[39mNone\u001b[39;00m\n",
      "File \u001b[1;32mC:\\Program Files\\Python\\lib\\concurrent\\futures\\thread.py:58\u001b[0m, in \u001b[0;36m_WorkItem.run\u001b[1;34m(self)\u001b[0m\n\u001b[0;32m     55\u001b[0m     \u001b[39mreturn\u001b[39;00m\n\u001b[0;32m     57\u001b[0m \u001b[39mtry\u001b[39;00m:\n\u001b[1;32m---> 58\u001b[0m     result \u001b[39m=\u001b[39m \u001b[39mself\u001b[39m\u001b[39m.\u001b[39mfn(\u001b[39m*\u001b[39m\u001b[39mself\u001b[39m\u001b[39m.\u001b[39margs, \u001b[39m*\u001b[39m\u001b[39m*\u001b[39m\u001b[39mself\u001b[39m\u001b[39m.\u001b[39mkwargs)\n\u001b[0;32m     59\u001b[0m \u001b[39mexcept\u001b[39;00m \u001b[39mBaseException\u001b[39;00m \u001b[39mas\u001b[39;00m exc:\n\u001b[0;32m     60\u001b[0m     \u001b[39mself\u001b[39m\u001b[39m.\u001b[39mfuture\u001b[39m.\u001b[39mset_exception(exc)\n",
      "File \u001b[1;32mc:\\Users\\salva\\OneDrive\\Documentos\\Python Projects\\trading-at-the-close\\.venv\\lib\\site-packages\\optuna\\study\\_optimize.py:163\u001b[0m, in \u001b[0;36m_optimize_sequential\u001b[1;34m(study, func, n_trials, timeout, catch, callbacks, gc_after_trial, reseed_sampler_rng, time_start, progress_bar)\u001b[0m\n\u001b[0;32m    160\u001b[0m         \u001b[39mbreak\u001b[39;00m\n\u001b[0;32m    162\u001b[0m \u001b[39mtry\u001b[39;00m:\n\u001b[1;32m--> 163\u001b[0m     frozen_trial \u001b[39m=\u001b[39m _run_trial(study, func, catch)\n\u001b[0;32m    164\u001b[0m \u001b[39mfinally\u001b[39;00m:\n\u001b[0;32m    165\u001b[0m     \u001b[39m# The following line mitigates memory problems that can be occurred in some\u001b[39;00m\n\u001b[0;32m    166\u001b[0m     \u001b[39m# environments (e.g., services that use computing containers such as GitHub Actions).\u001b[39;00m\n\u001b[0;32m    167\u001b[0m     \u001b[39m# Please refer to the following PR for further details:\u001b[39;00m\n\u001b[0;32m    168\u001b[0m     \u001b[39m# https://github.com/optuna/optuna/pull/325.\u001b[39;00m\n\u001b[0;32m    169\u001b[0m     \u001b[39mif\u001b[39;00m gc_after_trial:\n",
      "File \u001b[1;32mc:\\Users\\salva\\OneDrive\\Documentos\\Python Projects\\trading-at-the-close\\.venv\\lib\\site-packages\\optuna\\study\\_optimize.py:251\u001b[0m, in \u001b[0;36m_run_trial\u001b[1;34m(study, func, catch)\u001b[0m\n\u001b[0;32m    244\u001b[0m         \u001b[39massert\u001b[39;00m \u001b[39mFalse\u001b[39;00m, \u001b[39m\"\u001b[39m\u001b[39mShould not reach.\u001b[39m\u001b[39m\"\u001b[39m\n\u001b[0;32m    246\u001b[0m \u001b[39mif\u001b[39;00m (\n\u001b[0;32m    247\u001b[0m     frozen_trial\u001b[39m.\u001b[39mstate \u001b[39m==\u001b[39m TrialState\u001b[39m.\u001b[39mFAIL\n\u001b[0;32m    248\u001b[0m     \u001b[39mand\u001b[39;00m func_err \u001b[39mis\u001b[39;00m \u001b[39mnot\u001b[39;00m \u001b[39mNone\u001b[39;00m\n\u001b[0;32m    249\u001b[0m     \u001b[39mand\u001b[39;00m \u001b[39mnot\u001b[39;00m \u001b[39misinstance\u001b[39m(func_err, catch)\n\u001b[0;32m    250\u001b[0m ):\n\u001b[1;32m--> 251\u001b[0m     \u001b[39mraise\u001b[39;00m func_err\n\u001b[0;32m    252\u001b[0m \u001b[39mreturn\u001b[39;00m frozen_trial\n",
      "File \u001b[1;32mc:\\Users\\salva\\OneDrive\\Documentos\\Python Projects\\trading-at-the-close\\.venv\\lib\\site-packages\\optuna\\study\\_optimize.py:200\u001b[0m, in \u001b[0;36m_run_trial\u001b[1;34m(study, func, catch)\u001b[0m\n\u001b[0;32m    198\u001b[0m \u001b[39mwith\u001b[39;00m get_heartbeat_thread(trial\u001b[39m.\u001b[39m_trial_id, study\u001b[39m.\u001b[39m_storage):\n\u001b[0;32m    199\u001b[0m     \u001b[39mtry\u001b[39;00m:\n\u001b[1;32m--> 200\u001b[0m         value_or_values \u001b[39m=\u001b[39m func(trial)\n\u001b[0;32m    201\u001b[0m     \u001b[39mexcept\u001b[39;00m exceptions\u001b[39m.\u001b[39mTrialPruned \u001b[39mas\u001b[39;00m e:\n\u001b[0;32m    202\u001b[0m         \u001b[39m# TODO(mamu): Handle multi-objective cases.\u001b[39;00m\n\u001b[0;32m    203\u001b[0m         state \u001b[39m=\u001b[39m TrialState\u001b[39m.\u001b[39mPRUNED\n",
      "\u001b[1;32mc:\\Users\\salva\\OneDrive\\Documentos\\Python Projects\\trading-at-the-close\\train.ipynb Cell 20\u001b[0m line \u001b[0;36m1\n\u001b[0;32m      <a href='vscode-notebook-cell:/c%3A/Users/salva/OneDrive/Documentos/Python%20Projects/trading-at-the-close/train.ipynb#X24sZmlsZQ%3D%3D?line=7'>8</a>\u001b[0m callbacks \u001b[39m=\u001b[39m callbacks_func(trial) \u001b[39mif\u001b[39;00m callbacks_func \u001b[39mis\u001b[39;00m \u001b[39mnot\u001b[39;00m \u001b[39mNone\u001b[39;00m \u001b[39melse\u001b[39;00m \u001b[39mNone\u001b[39;00m\n\u001b[0;32m      <a href='vscode-notebook-cell:/c%3A/Users/salva/OneDrive/Documentos/Python%20Projects/trading-at-the-close/train.ipynb#X24sZmlsZQ%3D%3D?line=8'>9</a>\u001b[0m model \u001b[39m=\u001b[39m model_cls(\u001b[39m*\u001b[39m\u001b[39m*\u001b[39mparam_space)    \n\u001b[1;32m---> <a href='vscode-notebook-cell:/c%3A/Users/salva/OneDrive/Documentos/Python%20Projects/trading-at-the-close/train.ipynb#X24sZmlsZQ%3D%3D?line=9'>10</a>\u001b[0m scores \u001b[39m=\u001b[39m cross_validate(model, x, y, cv\u001b[39m=\u001b[39;49mcv, callbacks\u001b[39m=\u001b[39;49mcallbacks)\n\u001b[0;32m     <a href='vscode-notebook-cell:/c%3A/Users/salva/OneDrive/Documentos/Python%20Projects/trading-at-the-close/train.ipynb#X24sZmlsZQ%3D%3D?line=10'>11</a>\u001b[0m \u001b[39mreturn\u001b[39;00m scores\u001b[39m.\u001b[39mmean()\n",
      "\u001b[1;32mc:\\Users\\salva\\OneDrive\\Documentos\\Python Projects\\trading-at-the-close\\train.ipynb Cell 20\u001b[0m line \u001b[0;36m1\n\u001b[0;32m      <a href='vscode-notebook-cell:/c%3A/Users/salva/OneDrive/Documentos/Python%20Projects/trading-at-the-close/train.ipynb#X24sZmlsZQ%3D%3D?line=8'>9</a>\u001b[0m y_train, y_val \u001b[39m=\u001b[39m y\u001b[39m.\u001b[39miloc[train_index], y\u001b[39m.\u001b[39miloc[val_index]\n\u001b[0;32m     <a href='vscode-notebook-cell:/c%3A/Users/salva/OneDrive/Documentos/Python%20Projects/trading-at-the-close/train.ipynb#X24sZmlsZQ%3D%3D?line=10'>11</a>\u001b[0m start \u001b[39m=\u001b[39m timer()\n\u001b[1;32m---> <a href='vscode-notebook-cell:/c%3A/Users/salva/OneDrive/Documentos/Python%20Projects/trading-at-the-close/train.ipynb#X24sZmlsZQ%3D%3D?line=11'>12</a>\u001b[0m model\u001b[39m.\u001b[39;49mfit(x_train, y_train, eval_set\u001b[39m=\u001b[39;49m[(x_val, y_val)], callbacks\u001b[39m=\u001b[39;49mcallbacks)\n\u001b[0;32m     <a href='vscode-notebook-cell:/c%3A/Users/salva/OneDrive/Documentos/Python%20Projects/trading-at-the-close/train.ipynb#X24sZmlsZQ%3D%3D?line=12'>13</a>\u001b[0m end \u001b[39m=\u001b[39m timer()\n\u001b[0;32m     <a href='vscode-notebook-cell:/c%3A/Users/salva/OneDrive/Documentos/Python%20Projects/trading-at-the-close/train.ipynb#X24sZmlsZQ%3D%3D?line=14'>15</a>\u001b[0m y_pred \u001b[39m=\u001b[39m model\u001b[39m.\u001b[39mpredict(x_val)\n",
      "File \u001b[1;32mc:\\Users\\salva\\OneDrive\\Documentos\\Python Projects\\trading-at-the-close\\.venv\\lib\\site-packages\\lightgbm\\sklearn.py:1049\u001b[0m, in \u001b[0;36mLGBMRegressor.fit\u001b[1;34m(self, X, y, sample_weight, init_score, eval_set, eval_names, eval_sample_weight, eval_init_score, eval_metric, feature_name, categorical_feature, callbacks, init_model)\u001b[0m\n\u001b[0;32m   1032\u001b[0m \u001b[39mdef\u001b[39;00m \u001b[39mfit\u001b[39m(  \u001b[39m# type: ignore[override]\u001b[39;00m\n\u001b[0;32m   1033\u001b[0m     \u001b[39mself\u001b[39m,\n\u001b[0;32m   1034\u001b[0m     X: _LGBM_ScikitMatrixLike,\n\u001b[1;32m   (...)\u001b[0m\n\u001b[0;32m   1046\u001b[0m     init_model: Optional[Union[\u001b[39mstr\u001b[39m, Path, Booster, LGBMModel]] \u001b[39m=\u001b[39m \u001b[39mNone\u001b[39;00m\n\u001b[0;32m   1047\u001b[0m ) \u001b[39m-\u001b[39m\u001b[39m>\u001b[39m \u001b[39m\"\u001b[39m\u001b[39mLGBMRegressor\u001b[39m\u001b[39m\"\u001b[39m:\n\u001b[0;32m   1048\u001b[0m \u001b[39m    \u001b[39m\u001b[39m\"\"\"Docstring is inherited from the LGBMModel.\"\"\"\u001b[39;00m\n\u001b[1;32m-> 1049\u001b[0m     \u001b[39msuper\u001b[39;49m()\u001b[39m.\u001b[39;49mfit(\n\u001b[0;32m   1050\u001b[0m         X,\n\u001b[0;32m   1051\u001b[0m         y,\n\u001b[0;32m   1052\u001b[0m         sample_weight\u001b[39m=\u001b[39;49msample_weight,\n\u001b[0;32m   1053\u001b[0m         init_score\u001b[39m=\u001b[39;49minit_score,\n\u001b[0;32m   1054\u001b[0m         eval_set\u001b[39m=\u001b[39;49meval_set,\n\u001b[0;32m   1055\u001b[0m         eval_names\u001b[39m=\u001b[39;49meval_names,\n\u001b[0;32m   1056\u001b[0m         eval_sample_weight\u001b[39m=\u001b[39;49meval_sample_weight,\n\u001b[0;32m   1057\u001b[0m         eval_init_score\u001b[39m=\u001b[39;49meval_init_score,\n\u001b[0;32m   1058\u001b[0m         eval_metric\u001b[39m=\u001b[39;49meval_metric,\n\u001b[0;32m   1059\u001b[0m         feature_name\u001b[39m=\u001b[39;49mfeature_name,\n\u001b[0;32m   1060\u001b[0m         categorical_feature\u001b[39m=\u001b[39;49mcategorical_feature,\n\u001b[0;32m   1061\u001b[0m         callbacks\u001b[39m=\u001b[39;49mcallbacks,\n\u001b[0;32m   1062\u001b[0m         init_model\u001b[39m=\u001b[39;49minit_model\n\u001b[0;32m   1063\u001b[0m     )\n\u001b[0;32m   1064\u001b[0m     \u001b[39mreturn\u001b[39;00m \u001b[39mself\u001b[39m\n",
      "File \u001b[1;32mc:\\Users\\salva\\OneDrive\\Documentos\\Python Projects\\trading-at-the-close\\.venv\\lib\\site-packages\\lightgbm\\sklearn.py:842\u001b[0m, in \u001b[0;36mLGBMModel.fit\u001b[1;34m(self, X, y, sample_weight, init_score, group, eval_set, eval_names, eval_sample_weight, eval_class_weight, eval_init_score, eval_group, eval_metric, feature_name, categorical_feature, callbacks, init_model)\u001b[0m\n\u001b[0;32m    839\u001b[0m evals_result: _EvalResultDict \u001b[39m=\u001b[39m {}\n\u001b[0;32m    840\u001b[0m callbacks\u001b[39m.\u001b[39mappend(record_evaluation(evals_result))\n\u001b[1;32m--> 842\u001b[0m \u001b[39mself\u001b[39m\u001b[39m.\u001b[39m_Booster \u001b[39m=\u001b[39m train(\n\u001b[0;32m    843\u001b[0m     params\u001b[39m=\u001b[39;49mparams,\n\u001b[0;32m    844\u001b[0m     train_set\u001b[39m=\u001b[39;49mtrain_set,\n\u001b[0;32m    845\u001b[0m     num_boost_round\u001b[39m=\u001b[39;49m\u001b[39mself\u001b[39;49m\u001b[39m.\u001b[39;49mn_estimators,\n\u001b[0;32m    846\u001b[0m     valid_sets\u001b[39m=\u001b[39;49mvalid_sets,\n\u001b[0;32m    847\u001b[0m     valid_names\u001b[39m=\u001b[39;49meval_names,\n\u001b[0;32m    848\u001b[0m     feval\u001b[39m=\u001b[39;49meval_metrics_callable,  \u001b[39m# type: ignore[arg-type]\u001b[39;49;00m\n\u001b[0;32m    849\u001b[0m     init_model\u001b[39m=\u001b[39;49minit_model,\n\u001b[0;32m    850\u001b[0m     feature_name\u001b[39m=\u001b[39;49mfeature_name,\n\u001b[0;32m    851\u001b[0m     callbacks\u001b[39m=\u001b[39;49mcallbacks\n\u001b[0;32m    852\u001b[0m )\n\u001b[0;32m    854\u001b[0m \u001b[39mself\u001b[39m\u001b[39m.\u001b[39m_evals_result \u001b[39m=\u001b[39m evals_result\n\u001b[0;32m    855\u001b[0m \u001b[39mself\u001b[39m\u001b[39m.\u001b[39m_best_iteration \u001b[39m=\u001b[39m \u001b[39mself\u001b[39m\u001b[39m.\u001b[39m_Booster\u001b[39m.\u001b[39mbest_iteration\n",
      "File \u001b[1;32mc:\\Users\\salva\\OneDrive\\Documentos\\Python Projects\\trading-at-the-close\\.venv\\lib\\site-packages\\lightgbm\\engine.py:255\u001b[0m, in \u001b[0;36mtrain\u001b[1;34m(params, train_set, num_boost_round, valid_sets, valid_names, feval, init_model, feature_name, categorical_feature, keep_training_booster, callbacks)\u001b[0m\n\u001b[0;32m    253\u001b[0m \u001b[39m# construct booster\u001b[39;00m\n\u001b[0;32m    254\u001b[0m \u001b[39mtry\u001b[39;00m:\n\u001b[1;32m--> 255\u001b[0m     booster \u001b[39m=\u001b[39m Booster(params\u001b[39m=\u001b[39;49mparams, train_set\u001b[39m=\u001b[39;49mtrain_set)\n\u001b[0;32m    256\u001b[0m     \u001b[39mif\u001b[39;00m is_valid_contain_train:\n\u001b[0;32m    257\u001b[0m         booster\u001b[39m.\u001b[39mset_train_data_name(train_data_name)\n",
      "File \u001b[1;32mc:\\Users\\salva\\OneDrive\\Documentos\\Python Projects\\trading-at-the-close\\.venv\\lib\\site-packages\\lightgbm\\basic.py:3200\u001b[0m, in \u001b[0;36mBooster.__init__\u001b[1;34m(self, params, train_set, model_file, model_str)\u001b[0m\n\u001b[0;32m   3193\u001b[0m     \u001b[39mself\u001b[39m\u001b[39m.\u001b[39mset_network(\n\u001b[0;32m   3194\u001b[0m         machines\u001b[39m=\u001b[39mmachines,\n\u001b[0;32m   3195\u001b[0m         local_listen_port\u001b[39m=\u001b[39mparams[\u001b[39m\"\u001b[39m\u001b[39mlocal_listen_port\u001b[39m\u001b[39m\"\u001b[39m],\n\u001b[0;32m   3196\u001b[0m         listen_time_out\u001b[39m=\u001b[39mparams\u001b[39m.\u001b[39mget(\u001b[39m\"\u001b[39m\u001b[39mtime_out\u001b[39m\u001b[39m\"\u001b[39m, \u001b[39m120\u001b[39m),\n\u001b[0;32m   3197\u001b[0m         num_machines\u001b[39m=\u001b[39mparams[\u001b[39m\"\u001b[39m\u001b[39mnum_machines\u001b[39m\u001b[39m\"\u001b[39m]\n\u001b[0;32m   3198\u001b[0m     )\n\u001b[0;32m   3199\u001b[0m \u001b[39m# construct booster object\u001b[39;00m\n\u001b[1;32m-> 3200\u001b[0m train_set\u001b[39m.\u001b[39;49mconstruct()\n\u001b[0;32m   3201\u001b[0m \u001b[39m# copy the parameters from train_set\u001b[39;00m\n\u001b[0;32m   3202\u001b[0m params\u001b[39m.\u001b[39mupdate(train_set\u001b[39m.\u001b[39mget_params())\n",
      "File \u001b[1;32mc:\\Users\\salva\\OneDrive\\Documentos\\Python Projects\\trading-at-the-close\\.venv\\lib\\site-packages\\lightgbm\\basic.py:2276\u001b[0m, in \u001b[0;36mDataset.construct\u001b[1;34m(self)\u001b[0m\n\u001b[0;32m   2269\u001b[0m             \u001b[39mself\u001b[39m\u001b[39m.\u001b[39m_set_init_score_by_predictor(\n\u001b[0;32m   2270\u001b[0m                 predictor\u001b[39m=\u001b[39m\u001b[39mself\u001b[39m\u001b[39m.\u001b[39m_predictor,\n\u001b[0;32m   2271\u001b[0m                 data\u001b[39m=\u001b[39m\u001b[39mself\u001b[39m\u001b[39m.\u001b[39mdata,\n\u001b[0;32m   2272\u001b[0m                 used_indices\u001b[39m=\u001b[39mused_indices\n\u001b[0;32m   2273\u001b[0m             )\n\u001b[0;32m   2274\u001b[0m \u001b[39melse\u001b[39;00m:\n\u001b[0;32m   2275\u001b[0m     \u001b[39m# create train\u001b[39;00m\n\u001b[1;32m-> 2276\u001b[0m     \u001b[39mself\u001b[39;49m\u001b[39m.\u001b[39;49m_lazy_init(data\u001b[39m=\u001b[39;49m\u001b[39mself\u001b[39;49m\u001b[39m.\u001b[39;49mdata, label\u001b[39m=\u001b[39;49m\u001b[39mself\u001b[39;49m\u001b[39m.\u001b[39;49mlabel, reference\u001b[39m=\u001b[39;49m\u001b[39mNone\u001b[39;49;00m,\n\u001b[0;32m   2277\u001b[0m                     weight\u001b[39m=\u001b[39;49m\u001b[39mself\u001b[39;49m\u001b[39m.\u001b[39;49mweight, group\u001b[39m=\u001b[39;49m\u001b[39mself\u001b[39;49m\u001b[39m.\u001b[39;49mgroup,\n\u001b[0;32m   2278\u001b[0m                     init_score\u001b[39m=\u001b[39;49m\u001b[39mself\u001b[39;49m\u001b[39m.\u001b[39;49minit_score, predictor\u001b[39m=\u001b[39;49m\u001b[39mself\u001b[39;49m\u001b[39m.\u001b[39;49m_predictor,\n\u001b[0;32m   2279\u001b[0m                     feature_name\u001b[39m=\u001b[39;49m\u001b[39mself\u001b[39;49m\u001b[39m.\u001b[39;49mfeature_name, categorical_feature\u001b[39m=\u001b[39;49m\u001b[39mself\u001b[39;49m\u001b[39m.\u001b[39;49mcategorical_feature,\n\u001b[0;32m   2280\u001b[0m                     params\u001b[39m=\u001b[39;49m\u001b[39mself\u001b[39;49m\u001b[39m.\u001b[39;49mparams, position\u001b[39m=\u001b[39;49m\u001b[39mself\u001b[39;49m\u001b[39m.\u001b[39;49mposition)\n\u001b[0;32m   2281\u001b[0m \u001b[39mif\u001b[39;00m \u001b[39mself\u001b[39m\u001b[39m.\u001b[39mfree_raw_data:\n\u001b[0;32m   2282\u001b[0m     \u001b[39mself\u001b[39m\u001b[39m.\u001b[39mdata \u001b[39m=\u001b[39m \u001b[39mNone\u001b[39;00m\n",
      "File \u001b[1;32mc:\\Users\\salva\\OneDrive\\Documentos\\Python Projects\\trading-at-the-close\\.venv\\lib\\site-packages\\lightgbm\\basic.py:1918\u001b[0m, in \u001b[0;36mDataset._lazy_init\u001b[1;34m(self, data, label, reference, weight, group, init_score, predictor, feature_name, categorical_feature, params, position)\u001b[0m\n\u001b[0;32m   1916\u001b[0m     \u001b[39mself\u001b[39m\u001b[39m.\u001b[39m__init_from_csc(data, params_str, ref_dataset)\n\u001b[0;32m   1917\u001b[0m \u001b[39melif\u001b[39;00m \u001b[39misinstance\u001b[39m(data, np\u001b[39m.\u001b[39mndarray):\n\u001b[1;32m-> 1918\u001b[0m     \u001b[39mself\u001b[39;49m\u001b[39m.\u001b[39;49m__init_from_np2d(data, params_str, ref_dataset)\n\u001b[0;32m   1919\u001b[0m \u001b[39melif\u001b[39;00m \u001b[39misinstance\u001b[39m(data, \u001b[39mlist\u001b[39m) \u001b[39mand\u001b[39;00m \u001b[39mlen\u001b[39m(data) \u001b[39m>\u001b[39m \u001b[39m0\u001b[39m:\n\u001b[0;32m   1920\u001b[0m     \u001b[39mif\u001b[39;00m \u001b[39mall\u001b[39m(\u001b[39misinstance\u001b[39m(x, np\u001b[39m.\u001b[39mndarray) \u001b[39mfor\u001b[39;00m x \u001b[39min\u001b[39;00m data):\n",
      "File \u001b[1;32mc:\\Users\\salva\\OneDrive\\Documentos\\Python Projects\\trading-at-the-close\\.venv\\lib\\site-packages\\lightgbm\\basic.py:2049\u001b[0m, in \u001b[0;36mDataset.__init_from_np2d\u001b[1;34m(self, mat, params_str, ref_dataset)\u001b[0m\n\u001b[0;32m   2047\u001b[0m \u001b[39mself\u001b[39m\u001b[39m.\u001b[39m_handle \u001b[39m=\u001b[39m ctypes\u001b[39m.\u001b[39mc_void_p()\n\u001b[0;32m   2048\u001b[0m \u001b[39mif\u001b[39;00m mat\u001b[39m.\u001b[39mdtype \u001b[39m==\u001b[39m np\u001b[39m.\u001b[39mfloat32 \u001b[39mor\u001b[39;00m mat\u001b[39m.\u001b[39mdtype \u001b[39m==\u001b[39m np\u001b[39m.\u001b[39mfloat64:\n\u001b[1;32m-> 2049\u001b[0m     data \u001b[39m=\u001b[39m np\u001b[39m.\u001b[39marray(mat\u001b[39m.\u001b[39;49mreshape(mat\u001b[39m.\u001b[39;49msize), dtype\u001b[39m=\u001b[39mmat\u001b[39m.\u001b[39mdtype, copy\u001b[39m=\u001b[39m\u001b[39mFalse\u001b[39;00m)\n\u001b[0;32m   2050\u001b[0m \u001b[39melse\u001b[39;00m:  \u001b[39m# change non-float data to float data, need to copy\u001b[39;00m\n\u001b[0;32m   2051\u001b[0m     data \u001b[39m=\u001b[39m np\u001b[39m.\u001b[39marray(mat\u001b[39m.\u001b[39mreshape(mat\u001b[39m.\u001b[39msize), dtype\u001b[39m=\u001b[39mnp\u001b[39m.\u001b[39mfloat32)\n",
      "\u001b[1;31mMemoryError\u001b[0m: Unable to allocate 426. MiB for an array with shape (3491928, 16) and data type float64"
     ]
    }
   ],
   "source": [
    "from utils.files import dump_json\n",
    "\n",
    "model_cls = CFG.MODEL\n",
    "model_cfg = MODEL_CFG[CFG.MODEL.__name__]\n",
    "param_space_func = model_cfg[\"param_space\"]\n",
    "callbacks_func = model_cfg[\"callbacks\"]\n",
    "best_trial = best_params if CFG.USE_BEST else None\n",
    "\n",
    "clear_output(wait=True) # clears output before rerunning optimization\n",
    "\n",
    "if CFG.HYPERTUNE:\n",
    "    objective = get_objective_function(model_cls, param_space_func, X, Y, cv=TimeSeriesSplit(n_splits=CFG.N_FOLDS), callbacks_func=callbacks_func)\n",
    "    study = run_optimization(objective, sampler=CFG.SAMPLER(), pruner=CFG.PRUNER(), n_trials=CFG.N_TRIALS, n_jobs=CFG.N_JOBS, best_trial=best_trial)\n",
    "    best_params = study.best_params\n",
    "    dump_json(CFG.JOB_PATH.joinpath(CFG.BEST_PARAMS), best_params, indent=4)"
   ]
  },
  {
   "cell_type": "markdown",
   "id": "96cf9c28",
   "metadata": {},
   "source": [
    "### Ploting Hyperparameter Tuning Results"
   ]
  },
  {
   "cell_type": "code",
   "execution_count": 12,
   "id": "9924b1e4",
   "metadata": {},
   "outputs": [
    {
     "data": {
      "application/vnd.plotly.v1+json": {
       "config": {
        "plotlyServerURL": "https://plot.ly"
       },
       "data": [
        {
         "mode": "markers",
         "name": "Objective Value",
         "type": "scatter",
         "x": [
          0,
          1,
          2,
          3,
          4,
          7,
          8,
          10,
          18,
          48,
          62,
          99,
          170,
          175
         ],
         "y": [
          6.47245546914661,
          6.475321279726721,
          6.470181930219589,
          6.470724078891321,
          6.473201365627537,
          6.469696114922702,
          6.471620978843153,
          6.471186441511041,
          6.473414710673632,
          6.473389391338261,
          6.4720468584216375,
          6.472795151411208,
          6.473476834450589,
          6.473193545113934
         ]
        },
        {
         "mode": "lines",
         "name": "Best Value",
         "type": "scatter",
         "x": [
          0,
          1,
          2,
          3,
          4,
          5,
          6,
          7,
          8,
          9,
          10,
          11,
          12,
          13,
          14,
          15,
          16,
          17,
          18,
          19,
          20,
          21,
          22,
          23,
          24,
          25,
          26,
          27,
          28,
          29,
          30,
          31,
          32,
          33,
          34,
          35,
          36,
          37,
          38,
          39,
          40,
          41,
          42,
          43,
          44,
          45,
          46,
          47,
          48,
          49,
          50,
          51,
          52,
          53,
          54,
          55,
          56,
          57,
          58,
          59,
          60,
          61,
          62,
          63,
          64,
          65,
          66,
          67,
          68,
          69,
          70,
          71,
          72,
          73,
          74,
          75,
          76,
          77,
          78,
          79,
          80,
          81,
          82,
          83,
          84,
          85,
          86,
          87,
          88,
          89,
          90,
          91,
          92,
          93,
          94,
          95,
          96,
          97,
          98,
          99,
          100,
          101,
          102,
          103,
          104,
          105,
          106,
          107,
          108,
          109,
          110,
          111,
          112,
          113,
          114,
          115,
          116,
          117,
          118,
          119,
          120,
          121,
          122,
          123,
          124,
          125,
          126,
          127,
          128,
          129,
          130,
          131,
          132,
          133,
          134,
          135,
          136,
          137,
          138,
          139,
          140,
          141,
          142,
          143,
          144,
          145,
          146,
          147,
          148,
          149,
          150,
          151,
          152,
          153,
          154,
          155,
          156,
          157,
          158,
          159,
          160,
          161,
          162,
          163,
          164,
          165,
          166,
          167,
          168,
          169,
          170,
          171,
          172,
          173,
          174,
          175,
          176,
          177,
          178,
          179,
          180,
          181,
          182,
          183,
          184,
          185,
          186,
          187,
          188,
          189,
          190,
          191,
          192,
          193,
          194,
          195,
          196,
          197,
          198,
          199
         ],
         "y": [
          6.47245546914661,
          6.47245546914661,
          6.470181930219589,
          6.470181930219589,
          6.470181930219589,
          6.470181930219589,
          6.470181930219589,
          6.469696114922702,
          6.469696114922702,
          6.469696114922702,
          6.469696114922702,
          6.469696114922702,
          6.469696114922702,
          6.469696114922702,
          6.469696114922702,
          6.469696114922702,
          6.469696114922702,
          6.469696114922702,
          6.469696114922702,
          6.469696114922702,
          6.469696114922702,
          6.469696114922702,
          6.469696114922702,
          6.469696114922702,
          6.469696114922702,
          6.469696114922702,
          6.469696114922702,
          6.469696114922702,
          6.469696114922702,
          6.469696114922702,
          6.469696114922702,
          6.469696114922702,
          6.469696114922702,
          6.469696114922702,
          6.469696114922702,
          6.469696114922702,
          6.469696114922702,
          6.469696114922702,
          6.469696114922702,
          6.469696114922702,
          6.469696114922702,
          6.469696114922702,
          6.469696114922702,
          6.469696114922702,
          6.469696114922702,
          6.469696114922702,
          6.469696114922702,
          6.469696114922702,
          6.469696114922702,
          6.469696114922702,
          6.469696114922702,
          6.469696114922702,
          6.469696114922702,
          6.469696114922702,
          6.469696114922702,
          6.469696114922702,
          6.469696114922702,
          6.469696114922702,
          6.469696114922702,
          6.469696114922702,
          6.469696114922702,
          6.469696114922702,
          6.469696114922702,
          6.469696114922702,
          6.469696114922702,
          6.469696114922702,
          6.469696114922702,
          6.469696114922702,
          6.469696114922702,
          6.469696114922702,
          6.469696114922702,
          6.469696114922702,
          6.469696114922702,
          6.469696114922702,
          6.469696114922702,
          6.469696114922702,
          6.469696114922702,
          6.469696114922702,
          6.469696114922702,
          6.469696114922702,
          6.469696114922702,
          6.469696114922702,
          6.469696114922702,
          6.469696114922702,
          6.469696114922702,
          6.469696114922702,
          6.469696114922702,
          6.469696114922702,
          6.469696114922702,
          6.469696114922702,
          6.469696114922702,
          6.469696114922702,
          6.469696114922702,
          6.469696114922702,
          6.469696114922702,
          6.469696114922702,
          6.469696114922702,
          6.469696114922702,
          6.469696114922702,
          6.469696114922702,
          6.469696114922702,
          6.469696114922702,
          6.469696114922702,
          6.469696114922702,
          6.469696114922702,
          6.469696114922702,
          6.469696114922702,
          6.469696114922702,
          6.469696114922702,
          6.469696114922702,
          6.469696114922702,
          6.469696114922702,
          6.469696114922702,
          6.469696114922702,
          6.469696114922702,
          6.469696114922702,
          6.469696114922702,
          6.469696114922702,
          6.469696114922702,
          6.469696114922702,
          6.469696114922702,
          6.469696114922702,
          6.469696114922702,
          6.469696114922702,
          6.469696114922702,
          6.469696114922702,
          6.469696114922702,
          6.469696114922702,
          6.469696114922702,
          6.469696114922702,
          6.469696114922702,
          6.469696114922702,
          6.469696114922702,
          6.469696114922702,
          6.469696114922702,
          6.469696114922702,
          6.469696114922702,
          6.469696114922702,
          6.469696114922702,
          6.469696114922702,
          6.469696114922702,
          6.469696114922702,
          6.469696114922702,
          6.469696114922702,
          6.469696114922702,
          6.469696114922702,
          6.469696114922702,
          6.469696114922702,
          6.469696114922702,
          6.469696114922702,
          6.469696114922702,
          6.469696114922702,
          6.469696114922702,
          6.469696114922702,
          6.469696114922702,
          6.469696114922702,
          6.469696114922702,
          6.469696114922702,
          6.469696114922702,
          6.469696114922702,
          6.469696114922702,
          6.469696114922702,
          6.469696114922702,
          6.469696114922702,
          6.469696114922702,
          6.469696114922702,
          6.469696114922702,
          6.469696114922702,
          6.469696114922702,
          6.469696114922702,
          6.469696114922702,
          6.469696114922702,
          6.469696114922702,
          6.469696114922702,
          6.469696114922702,
          6.469696114922702,
          6.469696114922702,
          6.469696114922702,
          6.469696114922702,
          6.469696114922702,
          6.469696114922702,
          6.469696114922702,
          6.469696114922702,
          6.469696114922702,
          6.469696114922702,
          6.469696114922702,
          6.469696114922702,
          6.469696114922702,
          6.469696114922702,
          6.469696114922702,
          6.469696114922702,
          6.469696114922702,
          6.469696114922702,
          6.469696114922702,
          6.469696114922702,
          6.469696114922702,
          6.469696114922702,
          6.469696114922702,
          6.469696114922702,
          6.469696114922702
         ]
        },
        {
         "marker": {
          "color": "#cccccc"
         },
         "mode": "markers",
         "name": "Infeasible Trial",
         "showlegend": false,
         "type": "scatter",
         "x": [],
         "y": []
        }
       ],
       "layout": {
        "template": {
         "data": {
          "bar": [
           {
            "error_x": {
             "color": "#2a3f5f"
            },
            "error_y": {
             "color": "#2a3f5f"
            },
            "marker": {
             "line": {
              "color": "#E5ECF6",
              "width": 0.5
             },
             "pattern": {
              "fillmode": "overlay",
              "size": 10,
              "solidity": 0.2
             }
            },
            "type": "bar"
           }
          ],
          "barpolar": [
           {
            "marker": {
             "line": {
              "color": "#E5ECF6",
              "width": 0.5
             },
             "pattern": {
              "fillmode": "overlay",
              "size": 10,
              "solidity": 0.2
             }
            },
            "type": "barpolar"
           }
          ],
          "carpet": [
           {
            "aaxis": {
             "endlinecolor": "#2a3f5f",
             "gridcolor": "white",
             "linecolor": "white",
             "minorgridcolor": "white",
             "startlinecolor": "#2a3f5f"
            },
            "baxis": {
             "endlinecolor": "#2a3f5f",
             "gridcolor": "white",
             "linecolor": "white",
             "minorgridcolor": "white",
             "startlinecolor": "#2a3f5f"
            },
            "type": "carpet"
           }
          ],
          "choropleth": [
           {
            "colorbar": {
             "outlinewidth": 0,
             "ticks": ""
            },
            "type": "choropleth"
           }
          ],
          "contour": [
           {
            "colorbar": {
             "outlinewidth": 0,
             "ticks": ""
            },
            "colorscale": [
             [
              0,
              "#0d0887"
             ],
             [
              0.1111111111111111,
              "#46039f"
             ],
             [
              0.2222222222222222,
              "#7201a8"
             ],
             [
              0.3333333333333333,
              "#9c179e"
             ],
             [
              0.4444444444444444,
              "#bd3786"
             ],
             [
              0.5555555555555556,
              "#d8576b"
             ],
             [
              0.6666666666666666,
              "#ed7953"
             ],
             [
              0.7777777777777778,
              "#fb9f3a"
             ],
             [
              0.8888888888888888,
              "#fdca26"
             ],
             [
              1,
              "#f0f921"
             ]
            ],
            "type": "contour"
           }
          ],
          "contourcarpet": [
           {
            "colorbar": {
             "outlinewidth": 0,
             "ticks": ""
            },
            "type": "contourcarpet"
           }
          ],
          "heatmap": [
           {
            "colorbar": {
             "outlinewidth": 0,
             "ticks": ""
            },
            "colorscale": [
             [
              0,
              "#0d0887"
             ],
             [
              0.1111111111111111,
              "#46039f"
             ],
             [
              0.2222222222222222,
              "#7201a8"
             ],
             [
              0.3333333333333333,
              "#9c179e"
             ],
             [
              0.4444444444444444,
              "#bd3786"
             ],
             [
              0.5555555555555556,
              "#d8576b"
             ],
             [
              0.6666666666666666,
              "#ed7953"
             ],
             [
              0.7777777777777778,
              "#fb9f3a"
             ],
             [
              0.8888888888888888,
              "#fdca26"
             ],
             [
              1,
              "#f0f921"
             ]
            ],
            "type": "heatmap"
           }
          ],
          "heatmapgl": [
           {
            "colorbar": {
             "outlinewidth": 0,
             "ticks": ""
            },
            "colorscale": [
             [
              0,
              "#0d0887"
             ],
             [
              0.1111111111111111,
              "#46039f"
             ],
             [
              0.2222222222222222,
              "#7201a8"
             ],
             [
              0.3333333333333333,
              "#9c179e"
             ],
             [
              0.4444444444444444,
              "#bd3786"
             ],
             [
              0.5555555555555556,
              "#d8576b"
             ],
             [
              0.6666666666666666,
              "#ed7953"
             ],
             [
              0.7777777777777778,
              "#fb9f3a"
             ],
             [
              0.8888888888888888,
              "#fdca26"
             ],
             [
              1,
              "#f0f921"
             ]
            ],
            "type": "heatmapgl"
           }
          ],
          "histogram": [
           {
            "marker": {
             "pattern": {
              "fillmode": "overlay",
              "size": 10,
              "solidity": 0.2
             }
            },
            "type": "histogram"
           }
          ],
          "histogram2d": [
           {
            "colorbar": {
             "outlinewidth": 0,
             "ticks": ""
            },
            "colorscale": [
             [
              0,
              "#0d0887"
             ],
             [
              0.1111111111111111,
              "#46039f"
             ],
             [
              0.2222222222222222,
              "#7201a8"
             ],
             [
              0.3333333333333333,
              "#9c179e"
             ],
             [
              0.4444444444444444,
              "#bd3786"
             ],
             [
              0.5555555555555556,
              "#d8576b"
             ],
             [
              0.6666666666666666,
              "#ed7953"
             ],
             [
              0.7777777777777778,
              "#fb9f3a"
             ],
             [
              0.8888888888888888,
              "#fdca26"
             ],
             [
              1,
              "#f0f921"
             ]
            ],
            "type": "histogram2d"
           }
          ],
          "histogram2dcontour": [
           {
            "colorbar": {
             "outlinewidth": 0,
             "ticks": ""
            },
            "colorscale": [
             [
              0,
              "#0d0887"
             ],
             [
              0.1111111111111111,
              "#46039f"
             ],
             [
              0.2222222222222222,
              "#7201a8"
             ],
             [
              0.3333333333333333,
              "#9c179e"
             ],
             [
              0.4444444444444444,
              "#bd3786"
             ],
             [
              0.5555555555555556,
              "#d8576b"
             ],
             [
              0.6666666666666666,
              "#ed7953"
             ],
             [
              0.7777777777777778,
              "#fb9f3a"
             ],
             [
              0.8888888888888888,
              "#fdca26"
             ],
             [
              1,
              "#f0f921"
             ]
            ],
            "type": "histogram2dcontour"
           }
          ],
          "mesh3d": [
           {
            "colorbar": {
             "outlinewidth": 0,
             "ticks": ""
            },
            "type": "mesh3d"
           }
          ],
          "parcoords": [
           {
            "line": {
             "colorbar": {
              "outlinewidth": 0,
              "ticks": ""
             }
            },
            "type": "parcoords"
           }
          ],
          "pie": [
           {
            "automargin": true,
            "type": "pie"
           }
          ],
          "scatter": [
           {
            "fillpattern": {
             "fillmode": "overlay",
             "size": 10,
             "solidity": 0.2
            },
            "type": "scatter"
           }
          ],
          "scatter3d": [
           {
            "line": {
             "colorbar": {
              "outlinewidth": 0,
              "ticks": ""
             }
            },
            "marker": {
             "colorbar": {
              "outlinewidth": 0,
              "ticks": ""
             }
            },
            "type": "scatter3d"
           }
          ],
          "scattercarpet": [
           {
            "marker": {
             "colorbar": {
              "outlinewidth": 0,
              "ticks": ""
             }
            },
            "type": "scattercarpet"
           }
          ],
          "scattergeo": [
           {
            "marker": {
             "colorbar": {
              "outlinewidth": 0,
              "ticks": ""
             }
            },
            "type": "scattergeo"
           }
          ],
          "scattergl": [
           {
            "marker": {
             "colorbar": {
              "outlinewidth": 0,
              "ticks": ""
             }
            },
            "type": "scattergl"
           }
          ],
          "scattermapbox": [
           {
            "marker": {
             "colorbar": {
              "outlinewidth": 0,
              "ticks": ""
             }
            },
            "type": "scattermapbox"
           }
          ],
          "scatterpolar": [
           {
            "marker": {
             "colorbar": {
              "outlinewidth": 0,
              "ticks": ""
             }
            },
            "type": "scatterpolar"
           }
          ],
          "scatterpolargl": [
           {
            "marker": {
             "colorbar": {
              "outlinewidth": 0,
              "ticks": ""
             }
            },
            "type": "scatterpolargl"
           }
          ],
          "scatterternary": [
           {
            "marker": {
             "colorbar": {
              "outlinewidth": 0,
              "ticks": ""
             }
            },
            "type": "scatterternary"
           }
          ],
          "surface": [
           {
            "colorbar": {
             "outlinewidth": 0,
             "ticks": ""
            },
            "colorscale": [
             [
              0,
              "#0d0887"
             ],
             [
              0.1111111111111111,
              "#46039f"
             ],
             [
              0.2222222222222222,
              "#7201a8"
             ],
             [
              0.3333333333333333,
              "#9c179e"
             ],
             [
              0.4444444444444444,
              "#bd3786"
             ],
             [
              0.5555555555555556,
              "#d8576b"
             ],
             [
              0.6666666666666666,
              "#ed7953"
             ],
             [
              0.7777777777777778,
              "#fb9f3a"
             ],
             [
              0.8888888888888888,
              "#fdca26"
             ],
             [
              1,
              "#f0f921"
             ]
            ],
            "type": "surface"
           }
          ],
          "table": [
           {
            "cells": {
             "fill": {
              "color": "#EBF0F8"
             },
             "line": {
              "color": "white"
             }
            },
            "header": {
             "fill": {
              "color": "#C8D4E3"
             },
             "line": {
              "color": "white"
             }
            },
            "type": "table"
           }
          ]
         },
         "layout": {
          "annotationdefaults": {
           "arrowcolor": "#2a3f5f",
           "arrowhead": 0,
           "arrowwidth": 1
          },
          "autotypenumbers": "strict",
          "coloraxis": {
           "colorbar": {
            "outlinewidth": 0,
            "ticks": ""
           }
          },
          "colorscale": {
           "diverging": [
            [
             0,
             "#8e0152"
            ],
            [
             0.1,
             "#c51b7d"
            ],
            [
             0.2,
             "#de77ae"
            ],
            [
             0.3,
             "#f1b6da"
            ],
            [
             0.4,
             "#fde0ef"
            ],
            [
             0.5,
             "#f7f7f7"
            ],
            [
             0.6,
             "#e6f5d0"
            ],
            [
             0.7,
             "#b8e186"
            ],
            [
             0.8,
             "#7fbc41"
            ],
            [
             0.9,
             "#4d9221"
            ],
            [
             1,
             "#276419"
            ]
           ],
           "sequential": [
            [
             0,
             "#0d0887"
            ],
            [
             0.1111111111111111,
             "#46039f"
            ],
            [
             0.2222222222222222,
             "#7201a8"
            ],
            [
             0.3333333333333333,
             "#9c179e"
            ],
            [
             0.4444444444444444,
             "#bd3786"
            ],
            [
             0.5555555555555556,
             "#d8576b"
            ],
            [
             0.6666666666666666,
             "#ed7953"
            ],
            [
             0.7777777777777778,
             "#fb9f3a"
            ],
            [
             0.8888888888888888,
             "#fdca26"
            ],
            [
             1,
             "#f0f921"
            ]
           ],
           "sequentialminus": [
            [
             0,
             "#0d0887"
            ],
            [
             0.1111111111111111,
             "#46039f"
            ],
            [
             0.2222222222222222,
             "#7201a8"
            ],
            [
             0.3333333333333333,
             "#9c179e"
            ],
            [
             0.4444444444444444,
             "#bd3786"
            ],
            [
             0.5555555555555556,
             "#d8576b"
            ],
            [
             0.6666666666666666,
             "#ed7953"
            ],
            [
             0.7777777777777778,
             "#fb9f3a"
            ],
            [
             0.8888888888888888,
             "#fdca26"
            ],
            [
             1,
             "#f0f921"
            ]
           ]
          },
          "colorway": [
           "#636efa",
           "#EF553B",
           "#00cc96",
           "#ab63fa",
           "#FFA15A",
           "#19d3f3",
           "#FF6692",
           "#B6E880",
           "#FF97FF",
           "#FECB52"
          ],
          "font": {
           "color": "#2a3f5f"
          },
          "geo": {
           "bgcolor": "white",
           "lakecolor": "white",
           "landcolor": "#E5ECF6",
           "showlakes": true,
           "showland": true,
           "subunitcolor": "white"
          },
          "hoverlabel": {
           "align": "left"
          },
          "hovermode": "closest",
          "mapbox": {
           "style": "light"
          },
          "paper_bgcolor": "white",
          "plot_bgcolor": "#E5ECF6",
          "polar": {
           "angularaxis": {
            "gridcolor": "white",
            "linecolor": "white",
            "ticks": ""
           },
           "bgcolor": "#E5ECF6",
           "radialaxis": {
            "gridcolor": "white",
            "linecolor": "white",
            "ticks": ""
           }
          },
          "scene": {
           "xaxis": {
            "backgroundcolor": "#E5ECF6",
            "gridcolor": "white",
            "gridwidth": 2,
            "linecolor": "white",
            "showbackground": true,
            "ticks": "",
            "zerolinecolor": "white"
           },
           "yaxis": {
            "backgroundcolor": "#E5ECF6",
            "gridcolor": "white",
            "gridwidth": 2,
            "linecolor": "white",
            "showbackground": true,
            "ticks": "",
            "zerolinecolor": "white"
           },
           "zaxis": {
            "backgroundcolor": "#E5ECF6",
            "gridcolor": "white",
            "gridwidth": 2,
            "linecolor": "white",
            "showbackground": true,
            "ticks": "",
            "zerolinecolor": "white"
           }
          },
          "shapedefaults": {
           "line": {
            "color": "#2a3f5f"
           }
          },
          "ternary": {
           "aaxis": {
            "gridcolor": "white",
            "linecolor": "white",
            "ticks": ""
           },
           "baxis": {
            "gridcolor": "white",
            "linecolor": "white",
            "ticks": ""
           },
           "bgcolor": "#E5ECF6",
           "caxis": {
            "gridcolor": "white",
            "linecolor": "white",
            "ticks": ""
           }
          },
          "title": {
           "x": 0.05
          },
          "xaxis": {
           "automargin": true,
           "gridcolor": "white",
           "linecolor": "white",
           "ticks": "",
           "title": {
            "standoff": 15
           },
           "zerolinecolor": "white",
           "zerolinewidth": 2
          },
          "yaxis": {
           "automargin": true,
           "gridcolor": "white",
           "linecolor": "white",
           "ticks": "",
           "title": {
            "standoff": 15
           },
           "zerolinecolor": "white",
           "zerolinewidth": 2
          }
         }
        },
        "title": {
         "text": "Optimization History Plot"
        },
        "xaxis": {
         "title": {
          "text": "Trial"
         }
        },
        "yaxis": {
         "title": {
          "text": "Objective Value"
         }
        }
       }
      }
     },
     "metadata": {},
     "output_type": "display_data"
    },
    {
     "data": {
      "application/vnd.plotly.v1+json": {
       "config": {
        "plotlyServerURL": "https://plot.ly"
       },
       "data": [
        {
         "cliponaxis": false,
         "hovertemplate": [
          "boosting_type (CategoricalDistribution): 0.0<extra></extra>",
          "device (CategoricalDistribution): 0.0<extra></extra>",
          "n_estimators (CategoricalDistribution): 0.0<extra></extra>",
          "n_jobs (CategoricalDistribution): 0.0<extra></extra>",
          "objective (CategoricalDistribution): 0.0<extra></extra>",
          "random_state (CategoricalDistribution): 0.0<extra></extra>",
          "subsample_freq (CategoricalDistribution): 0.0<extra></extra>",
          "verbose (CategoricalDistribution): 0.0<extra></extra>",
          "max_depth (IntDistribution): 0.004988627953283872<extra></extra>",
          "reg_lambda (FloatDistribution): 0.026641341635144578<extra></extra>",
          "subsample (FloatDistribution): 0.030303432315207608<extra></extra>",
          "min_child_samples (IntDistribution): 0.0367069833543271<extra></extra>",
          "colsample_bytree (FloatDistribution): 0.0548656246162332<extra></extra>",
          "subsample_for_bin (IntDistribution): 0.0577969839851805<extra></extra>",
          "learning_rate (FloatDistribution): 0.29405051450796343<extra></extra>",
          "min_split_gain (FloatDistribution): 0.4946464916326597<extra></extra>"
         ],
         "marker": {
          "color": "rgb(66,146,198)"
         },
         "orientation": "h",
         "text": [
          "<0.01",
          "<0.01",
          "<0.01",
          "<0.01",
          "<0.01",
          "<0.01",
          "<0.01",
          "<0.01",
          "<0.01",
          "0.03",
          "0.03",
          "0.04",
          "0.05",
          "0.06",
          "0.29",
          "0.49"
         ],
         "textposition": "outside",
         "type": "bar",
         "x": [
          0,
          0,
          0,
          0,
          0,
          0,
          0,
          0,
          0.004988627953283872,
          0.026641341635144578,
          0.030303432315207608,
          0.0367069833543271,
          0.0548656246162332,
          0.0577969839851805,
          0.29405051450796343,
          0.4946464916326597
         ],
         "y": [
          "boosting_type",
          "device",
          "n_estimators",
          "n_jobs",
          "objective",
          "random_state",
          "subsample_freq",
          "verbose",
          "max_depth",
          "reg_lambda",
          "subsample",
          "min_child_samples",
          "colsample_bytree",
          "subsample_for_bin",
          "learning_rate",
          "min_split_gain"
         ]
        }
       ],
       "layout": {
        "showlegend": false,
        "template": {
         "data": {
          "bar": [
           {
            "error_x": {
             "color": "#2a3f5f"
            },
            "error_y": {
             "color": "#2a3f5f"
            },
            "marker": {
             "line": {
              "color": "#E5ECF6",
              "width": 0.5
             },
             "pattern": {
              "fillmode": "overlay",
              "size": 10,
              "solidity": 0.2
             }
            },
            "type": "bar"
           }
          ],
          "barpolar": [
           {
            "marker": {
             "line": {
              "color": "#E5ECF6",
              "width": 0.5
             },
             "pattern": {
              "fillmode": "overlay",
              "size": 10,
              "solidity": 0.2
             }
            },
            "type": "barpolar"
           }
          ],
          "carpet": [
           {
            "aaxis": {
             "endlinecolor": "#2a3f5f",
             "gridcolor": "white",
             "linecolor": "white",
             "minorgridcolor": "white",
             "startlinecolor": "#2a3f5f"
            },
            "baxis": {
             "endlinecolor": "#2a3f5f",
             "gridcolor": "white",
             "linecolor": "white",
             "minorgridcolor": "white",
             "startlinecolor": "#2a3f5f"
            },
            "type": "carpet"
           }
          ],
          "choropleth": [
           {
            "colorbar": {
             "outlinewidth": 0,
             "ticks": ""
            },
            "type": "choropleth"
           }
          ],
          "contour": [
           {
            "colorbar": {
             "outlinewidth": 0,
             "ticks": ""
            },
            "colorscale": [
             [
              0,
              "#0d0887"
             ],
             [
              0.1111111111111111,
              "#46039f"
             ],
             [
              0.2222222222222222,
              "#7201a8"
             ],
             [
              0.3333333333333333,
              "#9c179e"
             ],
             [
              0.4444444444444444,
              "#bd3786"
             ],
             [
              0.5555555555555556,
              "#d8576b"
             ],
             [
              0.6666666666666666,
              "#ed7953"
             ],
             [
              0.7777777777777778,
              "#fb9f3a"
             ],
             [
              0.8888888888888888,
              "#fdca26"
             ],
             [
              1,
              "#f0f921"
             ]
            ],
            "type": "contour"
           }
          ],
          "contourcarpet": [
           {
            "colorbar": {
             "outlinewidth": 0,
             "ticks": ""
            },
            "type": "contourcarpet"
           }
          ],
          "heatmap": [
           {
            "colorbar": {
             "outlinewidth": 0,
             "ticks": ""
            },
            "colorscale": [
             [
              0,
              "#0d0887"
             ],
             [
              0.1111111111111111,
              "#46039f"
             ],
             [
              0.2222222222222222,
              "#7201a8"
             ],
             [
              0.3333333333333333,
              "#9c179e"
             ],
             [
              0.4444444444444444,
              "#bd3786"
             ],
             [
              0.5555555555555556,
              "#d8576b"
             ],
             [
              0.6666666666666666,
              "#ed7953"
             ],
             [
              0.7777777777777778,
              "#fb9f3a"
             ],
             [
              0.8888888888888888,
              "#fdca26"
             ],
             [
              1,
              "#f0f921"
             ]
            ],
            "type": "heatmap"
           }
          ],
          "heatmapgl": [
           {
            "colorbar": {
             "outlinewidth": 0,
             "ticks": ""
            },
            "colorscale": [
             [
              0,
              "#0d0887"
             ],
             [
              0.1111111111111111,
              "#46039f"
             ],
             [
              0.2222222222222222,
              "#7201a8"
             ],
             [
              0.3333333333333333,
              "#9c179e"
             ],
             [
              0.4444444444444444,
              "#bd3786"
             ],
             [
              0.5555555555555556,
              "#d8576b"
             ],
             [
              0.6666666666666666,
              "#ed7953"
             ],
             [
              0.7777777777777778,
              "#fb9f3a"
             ],
             [
              0.8888888888888888,
              "#fdca26"
             ],
             [
              1,
              "#f0f921"
             ]
            ],
            "type": "heatmapgl"
           }
          ],
          "histogram": [
           {
            "marker": {
             "pattern": {
              "fillmode": "overlay",
              "size": 10,
              "solidity": 0.2
             }
            },
            "type": "histogram"
           }
          ],
          "histogram2d": [
           {
            "colorbar": {
             "outlinewidth": 0,
             "ticks": ""
            },
            "colorscale": [
             [
              0,
              "#0d0887"
             ],
             [
              0.1111111111111111,
              "#46039f"
             ],
             [
              0.2222222222222222,
              "#7201a8"
             ],
             [
              0.3333333333333333,
              "#9c179e"
             ],
             [
              0.4444444444444444,
              "#bd3786"
             ],
             [
              0.5555555555555556,
              "#d8576b"
             ],
             [
              0.6666666666666666,
              "#ed7953"
             ],
             [
              0.7777777777777778,
              "#fb9f3a"
             ],
             [
              0.8888888888888888,
              "#fdca26"
             ],
             [
              1,
              "#f0f921"
             ]
            ],
            "type": "histogram2d"
           }
          ],
          "histogram2dcontour": [
           {
            "colorbar": {
             "outlinewidth": 0,
             "ticks": ""
            },
            "colorscale": [
             [
              0,
              "#0d0887"
             ],
             [
              0.1111111111111111,
              "#46039f"
             ],
             [
              0.2222222222222222,
              "#7201a8"
             ],
             [
              0.3333333333333333,
              "#9c179e"
             ],
             [
              0.4444444444444444,
              "#bd3786"
             ],
             [
              0.5555555555555556,
              "#d8576b"
             ],
             [
              0.6666666666666666,
              "#ed7953"
             ],
             [
              0.7777777777777778,
              "#fb9f3a"
             ],
             [
              0.8888888888888888,
              "#fdca26"
             ],
             [
              1,
              "#f0f921"
             ]
            ],
            "type": "histogram2dcontour"
           }
          ],
          "mesh3d": [
           {
            "colorbar": {
             "outlinewidth": 0,
             "ticks": ""
            },
            "type": "mesh3d"
           }
          ],
          "parcoords": [
           {
            "line": {
             "colorbar": {
              "outlinewidth": 0,
              "ticks": ""
             }
            },
            "type": "parcoords"
           }
          ],
          "pie": [
           {
            "automargin": true,
            "type": "pie"
           }
          ],
          "scatter": [
           {
            "fillpattern": {
             "fillmode": "overlay",
             "size": 10,
             "solidity": 0.2
            },
            "type": "scatter"
           }
          ],
          "scatter3d": [
           {
            "line": {
             "colorbar": {
              "outlinewidth": 0,
              "ticks": ""
             }
            },
            "marker": {
             "colorbar": {
              "outlinewidth": 0,
              "ticks": ""
             }
            },
            "type": "scatter3d"
           }
          ],
          "scattercarpet": [
           {
            "marker": {
             "colorbar": {
              "outlinewidth": 0,
              "ticks": ""
             }
            },
            "type": "scattercarpet"
           }
          ],
          "scattergeo": [
           {
            "marker": {
             "colorbar": {
              "outlinewidth": 0,
              "ticks": ""
             }
            },
            "type": "scattergeo"
           }
          ],
          "scattergl": [
           {
            "marker": {
             "colorbar": {
              "outlinewidth": 0,
              "ticks": ""
             }
            },
            "type": "scattergl"
           }
          ],
          "scattermapbox": [
           {
            "marker": {
             "colorbar": {
              "outlinewidth": 0,
              "ticks": ""
             }
            },
            "type": "scattermapbox"
           }
          ],
          "scatterpolar": [
           {
            "marker": {
             "colorbar": {
              "outlinewidth": 0,
              "ticks": ""
             }
            },
            "type": "scatterpolar"
           }
          ],
          "scatterpolargl": [
           {
            "marker": {
             "colorbar": {
              "outlinewidth": 0,
              "ticks": ""
             }
            },
            "type": "scatterpolargl"
           }
          ],
          "scatterternary": [
           {
            "marker": {
             "colorbar": {
              "outlinewidth": 0,
              "ticks": ""
             }
            },
            "type": "scatterternary"
           }
          ],
          "surface": [
           {
            "colorbar": {
             "outlinewidth": 0,
             "ticks": ""
            },
            "colorscale": [
             [
              0,
              "#0d0887"
             ],
             [
              0.1111111111111111,
              "#46039f"
             ],
             [
              0.2222222222222222,
              "#7201a8"
             ],
             [
              0.3333333333333333,
              "#9c179e"
             ],
             [
              0.4444444444444444,
              "#bd3786"
             ],
             [
              0.5555555555555556,
              "#d8576b"
             ],
             [
              0.6666666666666666,
              "#ed7953"
             ],
             [
              0.7777777777777778,
              "#fb9f3a"
             ],
             [
              0.8888888888888888,
              "#fdca26"
             ],
             [
              1,
              "#f0f921"
             ]
            ],
            "type": "surface"
           }
          ],
          "table": [
           {
            "cells": {
             "fill": {
              "color": "#EBF0F8"
             },
             "line": {
              "color": "white"
             }
            },
            "header": {
             "fill": {
              "color": "#C8D4E3"
             },
             "line": {
              "color": "white"
             }
            },
            "type": "table"
           }
          ]
         },
         "layout": {
          "annotationdefaults": {
           "arrowcolor": "#2a3f5f",
           "arrowhead": 0,
           "arrowwidth": 1
          },
          "autotypenumbers": "strict",
          "coloraxis": {
           "colorbar": {
            "outlinewidth": 0,
            "ticks": ""
           }
          },
          "colorscale": {
           "diverging": [
            [
             0,
             "#8e0152"
            ],
            [
             0.1,
             "#c51b7d"
            ],
            [
             0.2,
             "#de77ae"
            ],
            [
             0.3,
             "#f1b6da"
            ],
            [
             0.4,
             "#fde0ef"
            ],
            [
             0.5,
             "#f7f7f7"
            ],
            [
             0.6,
             "#e6f5d0"
            ],
            [
             0.7,
             "#b8e186"
            ],
            [
             0.8,
             "#7fbc41"
            ],
            [
             0.9,
             "#4d9221"
            ],
            [
             1,
             "#276419"
            ]
           ],
           "sequential": [
            [
             0,
             "#0d0887"
            ],
            [
             0.1111111111111111,
             "#46039f"
            ],
            [
             0.2222222222222222,
             "#7201a8"
            ],
            [
             0.3333333333333333,
             "#9c179e"
            ],
            [
             0.4444444444444444,
             "#bd3786"
            ],
            [
             0.5555555555555556,
             "#d8576b"
            ],
            [
             0.6666666666666666,
             "#ed7953"
            ],
            [
             0.7777777777777778,
             "#fb9f3a"
            ],
            [
             0.8888888888888888,
             "#fdca26"
            ],
            [
             1,
             "#f0f921"
            ]
           ],
           "sequentialminus": [
            [
             0,
             "#0d0887"
            ],
            [
             0.1111111111111111,
             "#46039f"
            ],
            [
             0.2222222222222222,
             "#7201a8"
            ],
            [
             0.3333333333333333,
             "#9c179e"
            ],
            [
             0.4444444444444444,
             "#bd3786"
            ],
            [
             0.5555555555555556,
             "#d8576b"
            ],
            [
             0.6666666666666666,
             "#ed7953"
            ],
            [
             0.7777777777777778,
             "#fb9f3a"
            ],
            [
             0.8888888888888888,
             "#fdca26"
            ],
            [
             1,
             "#f0f921"
            ]
           ]
          },
          "colorway": [
           "#636efa",
           "#EF553B",
           "#00cc96",
           "#ab63fa",
           "#FFA15A",
           "#19d3f3",
           "#FF6692",
           "#B6E880",
           "#FF97FF",
           "#FECB52"
          ],
          "font": {
           "color": "#2a3f5f"
          },
          "geo": {
           "bgcolor": "white",
           "lakecolor": "white",
           "landcolor": "#E5ECF6",
           "showlakes": true,
           "showland": true,
           "subunitcolor": "white"
          },
          "hoverlabel": {
           "align": "left"
          },
          "hovermode": "closest",
          "mapbox": {
           "style": "light"
          },
          "paper_bgcolor": "white",
          "plot_bgcolor": "#E5ECF6",
          "polar": {
           "angularaxis": {
            "gridcolor": "white",
            "linecolor": "white",
            "ticks": ""
           },
           "bgcolor": "#E5ECF6",
           "radialaxis": {
            "gridcolor": "white",
            "linecolor": "white",
            "ticks": ""
           }
          },
          "scene": {
           "xaxis": {
            "backgroundcolor": "#E5ECF6",
            "gridcolor": "white",
            "gridwidth": 2,
            "linecolor": "white",
            "showbackground": true,
            "ticks": "",
            "zerolinecolor": "white"
           },
           "yaxis": {
            "backgroundcolor": "#E5ECF6",
            "gridcolor": "white",
            "gridwidth": 2,
            "linecolor": "white",
            "showbackground": true,
            "ticks": "",
            "zerolinecolor": "white"
           },
           "zaxis": {
            "backgroundcolor": "#E5ECF6",
            "gridcolor": "white",
            "gridwidth": 2,
            "linecolor": "white",
            "showbackground": true,
            "ticks": "",
            "zerolinecolor": "white"
           }
          },
          "shapedefaults": {
           "line": {
            "color": "#2a3f5f"
           }
          },
          "ternary": {
           "aaxis": {
            "gridcolor": "white",
            "linecolor": "white",
            "ticks": ""
           },
           "baxis": {
            "gridcolor": "white",
            "linecolor": "white",
            "ticks": ""
           },
           "bgcolor": "#E5ECF6",
           "caxis": {
            "gridcolor": "white",
            "linecolor": "white",
            "ticks": ""
           }
          },
          "title": {
           "x": 0.05
          },
          "xaxis": {
           "automargin": true,
           "gridcolor": "white",
           "linecolor": "white",
           "ticks": "",
           "title": {
            "standoff": 15
           },
           "zerolinecolor": "white",
           "zerolinewidth": 2
          },
          "yaxis": {
           "automargin": true,
           "gridcolor": "white",
           "linecolor": "white",
           "ticks": "",
           "title": {
            "standoff": 15
           },
           "zerolinecolor": "white",
           "zerolinewidth": 2
          }
         }
        },
        "title": {
         "text": "Hyperparameter Importances"
        },
        "xaxis": {
         "title": {
          "text": "Importance for Objective Value"
         }
        },
        "yaxis": {
         "title": {
          "text": "Hyperparameter"
         }
        }
       }
      }
     },
     "metadata": {},
     "output_type": "display_data"
    },
    {
     "data": {
      "application/vnd.plotly.v1+json": {
       "config": {
        "plotlyServerURL": "https://plot.ly"
       },
       "data": [
        {
         "dimensions": [
          {
           "label": "Objective Value",
           "range": [
            6.469696114922702,
            6.475321279726721
           ],
           "values": [
            6.47245546914661,
            6.475321279726721,
            6.470181930219589,
            6.470724078891321,
            6.473201365627537,
            6.469696114922702,
            6.471620978843153,
            6.471186441511041,
            6.473414710673632,
            6.473389391338261,
            6.4720468584216375,
            6.472795151411208,
            6.473476834450589,
            6.473193545113934
           ]
          },
          {
           "label": "learning_rate",
           "range": [
            0.021768229194655014,
            0.10779217056606924
           ],
           "values": [
            0.05732785597663429,
            0.10779217056606924,
            0.021768229194655014,
            0.02778137887951919,
            0.06327323077434575,
            0.03262086125385036,
            0.06431334579262701,
            0.056031256320687235,
            0.07247737181442479,
            0.08020116155577008,
            0.06787582805906353,
            0.0794326068949192,
            0.08672832262662493,
            0.0826297298172622
           ]
          },
          {
           "label": "max_depth",
           "range": [
            8,
            12
           ],
           "values": [
            12,
            12,
            11,
            12,
            10,
            9,
            9,
            10,
            9,
            8,
            10,
            10,
            9,
            10
           ]
          },
          {
           "label": "min_child_samples",
           "range": [
            642,
            1629
           ],
           "values": [
            986,
            642,
            1512,
            1380,
            1121,
            811,
            1251,
            1009,
            1171,
            1629,
            1235,
            911,
            1519,
            1132
           ]
          },
          {
           "label": "min_split_gain",
           "range": [
            0.2976709975248467,
            2.9731843127661217
           ],
           "values": [
            1.759011971159949,
            1.3352358606224506,
            1.1264914200807143,
            0.2976709975248467,
            2.9731843127661217,
            1.0469185466422415,
            1.0132508240759344,
            0.31240296415723573,
            2.2013003711188346,
            1.2353876748349957,
            1.7720239673387992,
            2.508383836918641,
            1.3514494060925495,
            1.8792700180446291
           ]
          },
          {
           "label": "num_leaves",
           "range": [
            66,
            2704
           ],
           "values": [
            1536,
            2578,
            1431,
            2704,
            68,
            145,
            167,
            404,
            66,
            140,
            275,
            134,
            231,
            683
           ]
          }
         ],
         "labelangle": 30,
         "labelside": "bottom",
         "line": {
          "color": [
           6.47245546914661,
           6.475321279726721,
           6.470181930219589,
           6.470724078891321,
           6.473201365627537,
           6.469696114922702,
           6.471620978843153,
           6.471186441511041,
           6.473414710673632,
           6.473389391338261,
           6.4720468584216375,
           6.472795151411208,
           6.473476834450589,
           6.473193545113934
          ],
          "colorbar": {
           "title": {
            "text": "Objective Value"
           }
          },
          "colorscale": [
           [
            0,
            "rgb(247,251,255)"
           ],
           [
            0.125,
            "rgb(222,235,247)"
           ],
           [
            0.25,
            "rgb(198,219,239)"
           ],
           [
            0.375,
            "rgb(158,202,225)"
           ],
           [
            0.5,
            "rgb(107,174,214)"
           ],
           [
            0.625,
            "rgb(66,146,198)"
           ],
           [
            0.75,
            "rgb(33,113,181)"
           ],
           [
            0.875,
            "rgb(8,81,156)"
           ],
           [
            1,
            "rgb(8,48,107)"
           ]
          ],
          "reversescale": true,
          "showscale": true
         },
         "type": "parcoords"
        }
       ],
       "layout": {
        "template": {
         "data": {
          "bar": [
           {
            "error_x": {
             "color": "#2a3f5f"
            },
            "error_y": {
             "color": "#2a3f5f"
            },
            "marker": {
             "line": {
              "color": "#E5ECF6",
              "width": 0.5
             },
             "pattern": {
              "fillmode": "overlay",
              "size": 10,
              "solidity": 0.2
             }
            },
            "type": "bar"
           }
          ],
          "barpolar": [
           {
            "marker": {
             "line": {
              "color": "#E5ECF6",
              "width": 0.5
             },
             "pattern": {
              "fillmode": "overlay",
              "size": 10,
              "solidity": 0.2
             }
            },
            "type": "barpolar"
           }
          ],
          "carpet": [
           {
            "aaxis": {
             "endlinecolor": "#2a3f5f",
             "gridcolor": "white",
             "linecolor": "white",
             "minorgridcolor": "white",
             "startlinecolor": "#2a3f5f"
            },
            "baxis": {
             "endlinecolor": "#2a3f5f",
             "gridcolor": "white",
             "linecolor": "white",
             "minorgridcolor": "white",
             "startlinecolor": "#2a3f5f"
            },
            "type": "carpet"
           }
          ],
          "choropleth": [
           {
            "colorbar": {
             "outlinewidth": 0,
             "ticks": ""
            },
            "type": "choropleth"
           }
          ],
          "contour": [
           {
            "colorbar": {
             "outlinewidth": 0,
             "ticks": ""
            },
            "colorscale": [
             [
              0,
              "#0d0887"
             ],
             [
              0.1111111111111111,
              "#46039f"
             ],
             [
              0.2222222222222222,
              "#7201a8"
             ],
             [
              0.3333333333333333,
              "#9c179e"
             ],
             [
              0.4444444444444444,
              "#bd3786"
             ],
             [
              0.5555555555555556,
              "#d8576b"
             ],
             [
              0.6666666666666666,
              "#ed7953"
             ],
             [
              0.7777777777777778,
              "#fb9f3a"
             ],
             [
              0.8888888888888888,
              "#fdca26"
             ],
             [
              1,
              "#f0f921"
             ]
            ],
            "type": "contour"
           }
          ],
          "contourcarpet": [
           {
            "colorbar": {
             "outlinewidth": 0,
             "ticks": ""
            },
            "type": "contourcarpet"
           }
          ],
          "heatmap": [
           {
            "colorbar": {
             "outlinewidth": 0,
             "ticks": ""
            },
            "colorscale": [
             [
              0,
              "#0d0887"
             ],
             [
              0.1111111111111111,
              "#46039f"
             ],
             [
              0.2222222222222222,
              "#7201a8"
             ],
             [
              0.3333333333333333,
              "#9c179e"
             ],
             [
              0.4444444444444444,
              "#bd3786"
             ],
             [
              0.5555555555555556,
              "#d8576b"
             ],
             [
              0.6666666666666666,
              "#ed7953"
             ],
             [
              0.7777777777777778,
              "#fb9f3a"
             ],
             [
              0.8888888888888888,
              "#fdca26"
             ],
             [
              1,
              "#f0f921"
             ]
            ],
            "type": "heatmap"
           }
          ],
          "heatmapgl": [
           {
            "colorbar": {
             "outlinewidth": 0,
             "ticks": ""
            },
            "colorscale": [
             [
              0,
              "#0d0887"
             ],
             [
              0.1111111111111111,
              "#46039f"
             ],
             [
              0.2222222222222222,
              "#7201a8"
             ],
             [
              0.3333333333333333,
              "#9c179e"
             ],
             [
              0.4444444444444444,
              "#bd3786"
             ],
             [
              0.5555555555555556,
              "#d8576b"
             ],
             [
              0.6666666666666666,
              "#ed7953"
             ],
             [
              0.7777777777777778,
              "#fb9f3a"
             ],
             [
              0.8888888888888888,
              "#fdca26"
             ],
             [
              1,
              "#f0f921"
             ]
            ],
            "type": "heatmapgl"
           }
          ],
          "histogram": [
           {
            "marker": {
             "pattern": {
              "fillmode": "overlay",
              "size": 10,
              "solidity": 0.2
             }
            },
            "type": "histogram"
           }
          ],
          "histogram2d": [
           {
            "colorbar": {
             "outlinewidth": 0,
             "ticks": ""
            },
            "colorscale": [
             [
              0,
              "#0d0887"
             ],
             [
              0.1111111111111111,
              "#46039f"
             ],
             [
              0.2222222222222222,
              "#7201a8"
             ],
             [
              0.3333333333333333,
              "#9c179e"
             ],
             [
              0.4444444444444444,
              "#bd3786"
             ],
             [
              0.5555555555555556,
              "#d8576b"
             ],
             [
              0.6666666666666666,
              "#ed7953"
             ],
             [
              0.7777777777777778,
              "#fb9f3a"
             ],
             [
              0.8888888888888888,
              "#fdca26"
             ],
             [
              1,
              "#f0f921"
             ]
            ],
            "type": "histogram2d"
           }
          ],
          "histogram2dcontour": [
           {
            "colorbar": {
             "outlinewidth": 0,
             "ticks": ""
            },
            "colorscale": [
             [
              0,
              "#0d0887"
             ],
             [
              0.1111111111111111,
              "#46039f"
             ],
             [
              0.2222222222222222,
              "#7201a8"
             ],
             [
              0.3333333333333333,
              "#9c179e"
             ],
             [
              0.4444444444444444,
              "#bd3786"
             ],
             [
              0.5555555555555556,
              "#d8576b"
             ],
             [
              0.6666666666666666,
              "#ed7953"
             ],
             [
              0.7777777777777778,
              "#fb9f3a"
             ],
             [
              0.8888888888888888,
              "#fdca26"
             ],
             [
              1,
              "#f0f921"
             ]
            ],
            "type": "histogram2dcontour"
           }
          ],
          "mesh3d": [
           {
            "colorbar": {
             "outlinewidth": 0,
             "ticks": ""
            },
            "type": "mesh3d"
           }
          ],
          "parcoords": [
           {
            "line": {
             "colorbar": {
              "outlinewidth": 0,
              "ticks": ""
             }
            },
            "type": "parcoords"
           }
          ],
          "pie": [
           {
            "automargin": true,
            "type": "pie"
           }
          ],
          "scatter": [
           {
            "fillpattern": {
             "fillmode": "overlay",
             "size": 10,
             "solidity": 0.2
            },
            "type": "scatter"
           }
          ],
          "scatter3d": [
           {
            "line": {
             "colorbar": {
              "outlinewidth": 0,
              "ticks": ""
             }
            },
            "marker": {
             "colorbar": {
              "outlinewidth": 0,
              "ticks": ""
             }
            },
            "type": "scatter3d"
           }
          ],
          "scattercarpet": [
           {
            "marker": {
             "colorbar": {
              "outlinewidth": 0,
              "ticks": ""
             }
            },
            "type": "scattercarpet"
           }
          ],
          "scattergeo": [
           {
            "marker": {
             "colorbar": {
              "outlinewidth": 0,
              "ticks": ""
             }
            },
            "type": "scattergeo"
           }
          ],
          "scattergl": [
           {
            "marker": {
             "colorbar": {
              "outlinewidth": 0,
              "ticks": ""
             }
            },
            "type": "scattergl"
           }
          ],
          "scattermapbox": [
           {
            "marker": {
             "colorbar": {
              "outlinewidth": 0,
              "ticks": ""
             }
            },
            "type": "scattermapbox"
           }
          ],
          "scatterpolar": [
           {
            "marker": {
             "colorbar": {
              "outlinewidth": 0,
              "ticks": ""
             }
            },
            "type": "scatterpolar"
           }
          ],
          "scatterpolargl": [
           {
            "marker": {
             "colorbar": {
              "outlinewidth": 0,
              "ticks": ""
             }
            },
            "type": "scatterpolargl"
           }
          ],
          "scatterternary": [
           {
            "marker": {
             "colorbar": {
              "outlinewidth": 0,
              "ticks": ""
             }
            },
            "type": "scatterternary"
           }
          ],
          "surface": [
           {
            "colorbar": {
             "outlinewidth": 0,
             "ticks": ""
            },
            "colorscale": [
             [
              0,
              "#0d0887"
             ],
             [
              0.1111111111111111,
              "#46039f"
             ],
             [
              0.2222222222222222,
              "#7201a8"
             ],
             [
              0.3333333333333333,
              "#9c179e"
             ],
             [
              0.4444444444444444,
              "#bd3786"
             ],
             [
              0.5555555555555556,
              "#d8576b"
             ],
             [
              0.6666666666666666,
              "#ed7953"
             ],
             [
              0.7777777777777778,
              "#fb9f3a"
             ],
             [
              0.8888888888888888,
              "#fdca26"
             ],
             [
              1,
              "#f0f921"
             ]
            ],
            "type": "surface"
           }
          ],
          "table": [
           {
            "cells": {
             "fill": {
              "color": "#EBF0F8"
             },
             "line": {
              "color": "white"
             }
            },
            "header": {
             "fill": {
              "color": "#C8D4E3"
             },
             "line": {
              "color": "white"
             }
            },
            "type": "table"
           }
          ]
         },
         "layout": {
          "annotationdefaults": {
           "arrowcolor": "#2a3f5f",
           "arrowhead": 0,
           "arrowwidth": 1
          },
          "autotypenumbers": "strict",
          "coloraxis": {
           "colorbar": {
            "outlinewidth": 0,
            "ticks": ""
           }
          },
          "colorscale": {
           "diverging": [
            [
             0,
             "#8e0152"
            ],
            [
             0.1,
             "#c51b7d"
            ],
            [
             0.2,
             "#de77ae"
            ],
            [
             0.3,
             "#f1b6da"
            ],
            [
             0.4,
             "#fde0ef"
            ],
            [
             0.5,
             "#f7f7f7"
            ],
            [
             0.6,
             "#e6f5d0"
            ],
            [
             0.7,
             "#b8e186"
            ],
            [
             0.8,
             "#7fbc41"
            ],
            [
             0.9,
             "#4d9221"
            ],
            [
             1,
             "#276419"
            ]
           ],
           "sequential": [
            [
             0,
             "#0d0887"
            ],
            [
             0.1111111111111111,
             "#46039f"
            ],
            [
             0.2222222222222222,
             "#7201a8"
            ],
            [
             0.3333333333333333,
             "#9c179e"
            ],
            [
             0.4444444444444444,
             "#bd3786"
            ],
            [
             0.5555555555555556,
             "#d8576b"
            ],
            [
             0.6666666666666666,
             "#ed7953"
            ],
            [
             0.7777777777777778,
             "#fb9f3a"
            ],
            [
             0.8888888888888888,
             "#fdca26"
            ],
            [
             1,
             "#f0f921"
            ]
           ],
           "sequentialminus": [
            [
             0,
             "#0d0887"
            ],
            [
             0.1111111111111111,
             "#46039f"
            ],
            [
             0.2222222222222222,
             "#7201a8"
            ],
            [
             0.3333333333333333,
             "#9c179e"
            ],
            [
             0.4444444444444444,
             "#bd3786"
            ],
            [
             0.5555555555555556,
             "#d8576b"
            ],
            [
             0.6666666666666666,
             "#ed7953"
            ],
            [
             0.7777777777777778,
             "#fb9f3a"
            ],
            [
             0.8888888888888888,
             "#fdca26"
            ],
            [
             1,
             "#f0f921"
            ]
           ]
          },
          "colorway": [
           "#636efa",
           "#EF553B",
           "#00cc96",
           "#ab63fa",
           "#FFA15A",
           "#19d3f3",
           "#FF6692",
           "#B6E880",
           "#FF97FF",
           "#FECB52"
          ],
          "font": {
           "color": "#2a3f5f"
          },
          "geo": {
           "bgcolor": "white",
           "lakecolor": "white",
           "landcolor": "#E5ECF6",
           "showlakes": true,
           "showland": true,
           "subunitcolor": "white"
          },
          "hoverlabel": {
           "align": "left"
          },
          "hovermode": "closest",
          "mapbox": {
           "style": "light"
          },
          "paper_bgcolor": "white",
          "plot_bgcolor": "#E5ECF6",
          "polar": {
           "angularaxis": {
            "gridcolor": "white",
            "linecolor": "white",
            "ticks": ""
           },
           "bgcolor": "#E5ECF6",
           "radialaxis": {
            "gridcolor": "white",
            "linecolor": "white",
            "ticks": ""
           }
          },
          "scene": {
           "xaxis": {
            "backgroundcolor": "#E5ECF6",
            "gridcolor": "white",
            "gridwidth": 2,
            "linecolor": "white",
            "showbackground": true,
            "ticks": "",
            "zerolinecolor": "white"
           },
           "yaxis": {
            "backgroundcolor": "#E5ECF6",
            "gridcolor": "white",
            "gridwidth": 2,
            "linecolor": "white",
            "showbackground": true,
            "ticks": "",
            "zerolinecolor": "white"
           },
           "zaxis": {
            "backgroundcolor": "#E5ECF6",
            "gridcolor": "white",
            "gridwidth": 2,
            "linecolor": "white",
            "showbackground": true,
            "ticks": "",
            "zerolinecolor": "white"
           }
          },
          "shapedefaults": {
           "line": {
            "color": "#2a3f5f"
           }
          },
          "ternary": {
           "aaxis": {
            "gridcolor": "white",
            "linecolor": "white",
            "ticks": ""
           },
           "baxis": {
            "gridcolor": "white",
            "linecolor": "white",
            "ticks": ""
           },
           "bgcolor": "#E5ECF6",
           "caxis": {
            "gridcolor": "white",
            "linecolor": "white",
            "ticks": ""
           }
          },
          "title": {
           "x": 0.05
          },
          "xaxis": {
           "automargin": true,
           "gridcolor": "white",
           "linecolor": "white",
           "ticks": "",
           "title": {
            "standoff": 15
           },
           "zerolinecolor": "white",
           "zerolinewidth": 2
          },
          "yaxis": {
           "automargin": true,
           "gridcolor": "white",
           "linecolor": "white",
           "ticks": "",
           "title": {
            "standoff": 15
           },
           "zerolinecolor": "white",
           "zerolinewidth": 2
          }
         }
        },
        "title": {
         "text": "Parallel Coordinate Plot"
        }
       }
      }
     },
     "metadata": {},
     "output_type": "display_data"
    }
   ],
   "source": [
    "if CFG.HYPERTUNE:\n",
    "    plot_optimization_history(study).show()\n",
    "    if CFG.N_TRIALS > 1:\n",
    "        plot_param_importances(study).show()\n",
    "        plot_parallel_coordinate(study, params=[\"max_depth\", \"num_leaves\", \"learning_rate\", \"min_split_gain\", \"min_child_samples\"]).show()"
   ]
  },
  {
   "cell_type": "markdown",
   "id": "11eb35c6",
   "metadata": {
    "papermill": {
     "duration": 0.005694,
     "end_time": "2023-10-02T11:03:28.894504",
     "exception": false,
     "start_time": "2023-10-02T11:03:28.888810",
     "status": "completed"
    },
    "tags": []
   },
   "source": [
    "## Reevaluation and training\n",
    "--------------------"
   ]
  },
  {
   "cell_type": "markdown",
   "id": "fd940642",
   "metadata": {
    "papermill": {
     "duration": 0.006779,
     "end_time": "2023-10-02T11:03:28.930889",
     "exception": false,
     "start_time": "2023-10-02T11:03:28.924110",
     "status": "completed"
    },
    "tags": []
   },
   "source": [
    "### Validating the tuned parameters with cross validation"
   ]
  },
  {
   "cell_type": "code",
   "execution_count": 24,
   "id": "2b32ca52",
   "metadata": {
    "execution": {
     "iopub.execute_input": "2023-10-02T11:03:28.945951Z",
     "iopub.status.busy": "2023-10-02T11:03:28.945590Z",
     "iopub.status.idle": "2023-10-02T11:10:17.335766Z",
     "shell.execute_reply": "2023-10-02T11:10:17.334543Z"
    },
    "papermill": {
     "duration": 408.400866,
     "end_time": "2023-10-02T11:10:17.338582",
     "exception": false,
     "start_time": "2023-10-02T11:03:28.937716",
     "status": "completed"
    },
    "tags": []
   },
   "outputs": [
    {
     "name": "stderr",
     "output_type": "stream",
     "text": [
      "\u001b[32m2023-10-12 17:06:48.778\u001b[0m | \u001b[1mINFO    \u001b[0m | \u001b[36m__main__\u001b[0m:\u001b[36mcross_validate\u001b[0m:\u001b[36m4\u001b[0m - \u001b[1mStarting evaluation...\u001b[0m\n",
      "\u001b[32m2023-10-12 17:06:48.780\u001b[0m | \u001b[1mINFO    \u001b[0m | \u001b[36m__main__\u001b[0m:\u001b[36mcross_validate\u001b[0m:\u001b[36m5\u001b[0m - \u001b[1m==============================\u001b[0m\n",
      "\u001b[32m2023-10-12 17:09:50.497\u001b[0m | \u001b[1mINFO    \u001b[0m | \u001b[36m__main__\u001b[0m:\u001b[36mcross_validate\u001b[0m:\u001b[36m17\u001b[0m - \u001b[1mFold 1: 7.3059 (took 96.47s)\u001b[0m\n",
      "\u001b[32m2023-10-12 17:14:09.967\u001b[0m | \u001b[1mINFO    \u001b[0m | \u001b[36m__main__\u001b[0m:\u001b[36mcross_validate\u001b[0m:\u001b[36m17\u001b[0m - \u001b[1mFold 2: 6.7743 (took 164.78s)\u001b[0m\n",
      "\u001b[32m2023-10-12 17:19:14.518\u001b[0m | \u001b[1mINFO    \u001b[0m | \u001b[36m__main__\u001b[0m:\u001b[36mcross_validate\u001b[0m:\u001b[36m17\u001b[0m - \u001b[1mFold 3: 6.1135 (took 218.22s)\u001b[0m\n",
      "\u001b[32m2023-10-12 17:25:22.779\u001b[0m | \u001b[1mINFO    \u001b[0m | \u001b[36m__main__\u001b[0m:\u001b[36mcross_validate\u001b[0m:\u001b[36m17\u001b[0m - \u001b[1mFold 4: 6.3527 (took 279.22s)\u001b[0m\n",
      "\u001b[32m2023-10-12 17:32:40.077\u001b[0m | \u001b[1mINFO    \u001b[0m | \u001b[36m__main__\u001b[0m:\u001b[36mcross_validate\u001b[0m:\u001b[36m17\u001b[0m - \u001b[1mFold 5: 5.8963 (took 349.13s)\u001b[0m\n",
      "\u001b[32m2023-10-12 17:32:40.077\u001b[0m | \u001b[1mINFO    \u001b[0m | \u001b[36m__main__\u001b[0m:\u001b[36mcross_validate\u001b[0m:\u001b[36m19\u001b[0m - \u001b[1m------------------------------\u001b[0m\n",
      "\u001b[32m2023-10-12 17:32:40.077\u001b[0m | \u001b[32m\u001b[1mSUCCESS \u001b[0m | \u001b[36m__main__\u001b[0m:\u001b[36mcross_validate\u001b[0m:\u001b[36m20\u001b[0m - \u001b[32m\u001b[1mAverage MAE = 6.4885 ± 0.50\u001b[0m\n",
      "\u001b[32m2023-10-12 17:32:40.077\u001b[0m | \u001b[1mINFO    \u001b[0m | \u001b[36m__main__\u001b[0m:\u001b[36mcross_validate\u001b[0m:\u001b[36m21\u001b[0m - \u001b[1m==============================\u001b[0m\n"
     ]
    }
   ],
   "source": [
    "model = LGBMRegressor(**best_params)\n",
    "model.set_params(n_jobs=CFG.N_JOBS)\n",
    "scores = cross_validate(\n",
    "    model=model,\n",
    "    x=X,\n",
    "    y=Y,\n",
    "    scorer=mean_absolute_error,\n",
    "    cv=TimeSeriesSplit(n_splits=CFG.N_FOLDS)\n",
    ")"
   ]
  },
  {
   "cell_type": "markdown",
   "id": "4b4c1ed0",
   "metadata": {
    "papermill": {
     "duration": 0.005939,
     "end_time": "2023-10-02T11:10:17.351031",
     "exception": false,
     "start_time": "2023-10-02T11:10:17.345092",
     "status": "completed"
    },
    "tags": []
   },
   "source": [
    "### Retrain model on three different random states\n"
   ]
  },
  {
   "cell_type": "code",
   "execution_count": 38,
   "id": "dfa6bb4f",
   "metadata": {
    "execution": {
     "iopub.execute_input": "2023-10-02T11:10:17.365652Z",
     "iopub.status.busy": "2023-10-02T11:10:17.365253Z",
     "iopub.status.idle": "2023-10-02T11:17:32.819373Z",
     "shell.execute_reply": "2023-10-02T11:17:32.818236Z"
    },
    "papermill": {
     "duration": 435.46484,
     "end_time": "2023-10-02T11:17:32.822042",
     "exception": false,
     "start_time": "2023-10-02T11:10:17.357202",
     "status": "completed"
    },
    "tags": []
   },
   "outputs": [
    {
     "name": "stderr",
     "output_type": "stream",
     "text": [
      "\u001b[32m2023-10-12 17:57:11.945\u001b[0m | \u001b[1mINFO    \u001b[0m | \u001b[36m__main__\u001b[0m:\u001b[36m<module>\u001b[0m:\u001b[36m8\u001b[0m - \u001b[1mFitting model 0 with seed=397\u001b[0m\n"
     ]
    },
    {
     "name": "stdout",
     "output_type": "stream",
     "text": [
      "Training until validation scores don't improve for 25 rounds\n",
      "Early stopping, best iteration is:\n",
      "[263]\tvalid_0's l1: 5.86304\n"
     ]
    },
    {
     "name": "stderr",
     "output_type": "stream",
     "text": [
      "\u001b[32m2023-10-12 18:00:15.464\u001b[0m | \u001b[1mINFO    \u001b[0m | \u001b[36m__main__\u001b[0m:\u001b[36m<module>\u001b[0m:\u001b[36m8\u001b[0m - \u001b[1mFitting model 1 with seed=420\u001b[0m\n"
     ]
    },
    {
     "name": "stdout",
     "output_type": "stream",
     "text": [
      "Training until validation scores don't improve for 25 rounds\n",
      "Early stopping, best iteration is:\n",
      "[306]\tvalid_0's l1: 5.8643\n"
     ]
    },
    {
     "name": "stderr",
     "output_type": "stream",
     "text": [
      "\u001b[32m2023-10-12 18:03:49.055\u001b[0m | \u001b[1mINFO    \u001b[0m | \u001b[36m__main__\u001b[0m:\u001b[36m<module>\u001b[0m:\u001b[36m8\u001b[0m - \u001b[1mFitting model 2 with seed=682\u001b[0m\n"
     ]
    },
    {
     "name": "stdout",
     "output_type": "stream",
     "text": [
      "Training until validation scores don't improve for 25 rounds\n",
      "Early stopping, best iteration is:\n",
      "[252]\tvalid_0's l1: 5.86356\n"
     ]
    },
    {
     "name": "stderr",
     "output_type": "stream",
     "text": [
      "\u001b[32m2023-10-12 18:06:50.731\u001b[0m | \u001b[1mINFO    \u001b[0m | \u001b[36m__main__\u001b[0m:\u001b[36m<module>\u001b[0m:\u001b[36m8\u001b[0m - \u001b[1mFitting model 3 with seed=107\u001b[0m\n"
     ]
    },
    {
     "name": "stdout",
     "output_type": "stream",
     "text": [
      "Training until validation scores don't improve for 25 rounds\n",
      "Early stopping, best iteration is:\n",
      "[228]\tvalid_0's l1: 5.86465\n"
     ]
    },
    {
     "name": "stderr",
     "output_type": "stream",
     "text": [
      "\u001b[32m2023-10-12 18:09:30.361\u001b[0m | \u001b[1mINFO    \u001b[0m | \u001b[36m__main__\u001b[0m:\u001b[36m<module>\u001b[0m:\u001b[36m8\u001b[0m - \u001b[1mFitting model 4 with seed=640\u001b[0m\n"
     ]
    },
    {
     "name": "stdout",
     "output_type": "stream",
     "text": [
      "Training until validation scores don't improve for 25 rounds\n",
      "Early stopping, best iteration is:\n",
      "[289]\tvalid_0's l1: 5.86413\n"
     ]
    }
   ],
   "source": [
    "from utils.files import save_model\n",
    "\n",
    "val_size = 0.1\n",
    "\n",
    "rng = np.random.default_rng()\n",
    "seeds = rng.integers(low=0, high=1000, size=5)\n",
    "for i, seed in enumerate(seeds):\n",
    "    logger.info(f\"Fitting model {i} with seed={seed}\")\n",
    "\n",
    "    model = LGBMRegressor(**best_params)\n",
    "    model.set_params(random_state=seed)\n",
    "\n",
    "    # Train directly with all the data\n",
    "    if val_size < 0.01:\n",
    "        model.fit(X, Y)\n",
    "\n",
    "    # Strip the last part for validation\n",
    "    else:\n",
    "        X_train, X_val, y_train, y_val = train_test_split(X, Y, shuffle=False, test_size=0.1)\n",
    "        model.fit(X_train, y_train, eval_set=[(X_val, y_val)], callbacks=[lgb.early_stopping(25)])\n",
    "        y_pred = model.predict(X_val, num_iteration=model.best_iteration_)\n",
    "        score = mean_absolute_error(y_val, y_pred)\n",
    "    \n",
    "    model_path = CFG.JOB_PATH.joinpath(\"models\")\n",
    "    model_path.mkdir(exist_ok=True, parents=True)\n",
    "    save_model(model, file=model_path.joinpath(\"model-\" + str(i + 1).zfill(2) + \".pkl\"))"
   ]
  },
  {
   "cell_type": "code",
   "execution_count": 39,
   "id": "39d289fd",
   "metadata": {
    "execution": {
     "iopub.execute_input": "2023-10-02T11:17:32.839669Z",
     "iopub.status.busy": "2023-10-02T11:17:32.839008Z",
     "iopub.status.idle": "2023-10-02T11:17:33.361587Z",
     "shell.execute_reply": "2023-10-02T11:17:33.360396Z"
    },
    "papermill": {
     "duration": 0.535399,
     "end_time": "2023-10-02T11:17:33.365073",
     "exception": false,
     "start_time": "2023-10-02T11:17:32.829674",
     "status": "completed"
    },
    "tags": []
   },
   "outputs": [
    {
     "data": {
      "text/plain": [
       "<Axes: >"
      ]
     },
     "execution_count": 39,
     "metadata": {},
     "output_type": "execute_result"
    },
    {
     "data": {
      "image/png": "[encoded data removed]",
      "text/plain": [
       "<Figure size 640x480 with 1 Axes>"
      ]
     },
     "metadata": {},
     "output_type": "display_data"
    }
   ],
   "source": [
    "idx = np.argsort(model.feature_importances_)[::-1]\n",
    "sns.barplot(x=model.feature_importances_[idx], y=np.array(model.feature_name_)[idx], orient=\"horizontal\")"
   ]
  }
 ],
 "metadata": {
  "kernelspec": {
   "display_name": "Python 3",
   "language": "python",
   "name": "python3"
  },
  "language_info": {
   "codemirror_mode": {
    "name": "ipython",
    "version": 3
   },
   "file_extension": ".py",
   "mimetype": "text/x-python",
   "name": "python",
   "nbconvert_exporter": "python",
   "pygments_lexer": "ipython3",
   "version": "3.10.4"
  },
  "papermill": {
   "default_parameters": {},
   "duration": 896.353412,
   "end_time": "2023-10-02T11:17:34.919827",
   "environment_variables": {},
   "exception": null,
   "input_path": "__notebook__.ipynb",
   "output_path": "__notebook__.ipynb",
   "parameters": {},
   "start_time": "2023-10-02T11:02:38.566415",
   "version": "2.4.0"
  }
 },
 "nbformat": 4,
 "nbformat_minor": 5
}
