{
 "cells": [
  {
   "cell_type": "markdown",
   "id": "31d2d631",
   "metadata": {
    "papermill": {
     "duration": 0.005498,
     "end_time": "2023-10-02T11:02:42.336807",
     "exception": false,
     "start_time": "2023-10-02T11:02:42.331309",
     "status": "completed"
    },
    "tags": []
   },
   "source": [
    "# Trading at the Close - Hyperparameter Optimization\n",
    "-----------------------\n",
    "-----------------------\n"
   ]
  },
  {
   "cell_type": "markdown",
   "id": "81622a9b",
   "metadata": {},
   "source": [
    "This notebook is intended to be run after the preprocessing notebook. Provided that LGBM does a good job in fitting this dataset, we'll use the LGBMRegressor and Optuna to find good hyperparameters."
   ]
  },
  {
   "cell_type": "markdown",
   "id": "dff3c249",
   "metadata": {},
   "source": [
    "## Installs\n",
    "-------------"
   ]
  },
  {
   "cell_type": "code",
   "execution_count": 1,
   "id": "b2ea70dd",
   "metadata": {
    "_kg_hide-input": true,
    "_kg_hide-output": true,
    "execution": {
     "iopub.execute_input": "2023-10-02T11:02:42.349100Z",
     "iopub.status.busy": "2023-10-02T11:02:42.348671Z",
     "iopub.status.idle": "2023-10-02T11:02:55.509808Z",
     "shell.execute_reply": "2023-10-02T11:02:55.508203Z"
    },
    "papermill": {
     "duration": 13.170868,
     "end_time": "2023-10-02T11:02:55.512735",
     "exception": false,
     "start_time": "2023-10-02T11:02:42.341867",
     "status": "completed"
    },
    "tags": []
   },
   "outputs": [
    {
     "name": "stdout",
     "output_type": "stream",
     "text": [
      "Looking in indexes: https://pypi.org/simple, https://pypi.ngc.nvidia.com\n",
      "Requirement already satisfied: pandas>=2.1.1 in c:\\users\\salva\\onedrive\\documentos\\python projects\\trading-at-the-close\\.venv\\lib\\site-packages (from -r requirements.txt (line 1)) (2.1.1)\n",
      "Requirement already satisfied: seaborn>=0.13.0 in c:\\users\\salva\\onedrive\\documentos\\python projects\\trading-at-the-close\\.venv\\lib\\site-packages (from -r requirements.txt (line 2)) (0.13.0)\n",
      "Requirement already satisfied: numpy>=1.26.0 in c:\\users\\salva\\onedrive\\documentos\\python projects\\trading-at-the-close\\.venv\\lib\\site-packages (from -r requirements.txt (line 3)) (1.26.0)\n",
      "Requirement already satisfied: xgboost>=2.0.0 in c:\\users\\salva\\onedrive\\documentos\\python projects\\trading-at-the-close\\.venv\\lib\\site-packages (from -r requirements.txt (line 4)) (2.0.0)\n",
      "Requirement already satisfied: lightgbm>=4.1.0 in c:\\users\\salva\\onedrive\\documentos\\python projects\\trading-at-the-close\\.venv\\lib\\site-packages (from -r requirements.txt (line 5)) (4.1.0)\n",
      "Requirement already satisfied: catboost>=1.2.2 in c:\\users\\salva\\onedrive\\documentos\\python projects\\trading-at-the-close\\.venv\\lib\\site-packages (from -r requirements.txt (line 6)) (1.2.2)\n",
      "Requirement already satisfied: scikit-learn>=1.3.1 in c:\\users\\salva\\onedrive\\documentos\\python projects\\trading-at-the-close\\.venv\\lib\\site-packages (from -r requirements.txt (line 7)) (1.3.1)\n",
      "Requirement already satisfied: fastparquet>=2023.8.0 in c:\\users\\salva\\onedrive\\documentos\\python projects\\trading-at-the-close\\.venv\\lib\\site-packages (from -r requirements.txt (line 8)) (2023.8.0)\n",
      "Requirement already satisfied: ray[tune]>=2.7.0 in c:\\users\\salva\\onedrive\\documentos\\python projects\\trading-at-the-close\\.venv\\lib\\site-packages (from -r requirements.txt (line 9)) (2.7.0)\n",
      "Requirement already satisfied: optuna>=3.3.0 in c:\\users\\salva\\onedrive\\documentos\\python projects\\trading-at-the-close\\.venv\\lib\\site-packages (from -r requirements.txt (line 10)) (3.3.0)\n",
      "Requirement already satisfied: optuna-dashboard>=0.12.0 in c:\\users\\salva\\onedrive\\documentos\\python projects\\trading-at-the-close\\.venv\\lib\\site-packages (from -r requirements.txt (line 11)) (0.12.0)\n",
      "Requirement already satisfied: loguru>=0.7.2 in c:\\users\\salva\\onedrive\\documentos\\python projects\\trading-at-the-close\\.venv\\lib\\site-packages (from -r requirements.txt (line 12)) (0.7.2)\n",
      "Requirement already satisfied: nbformat>=5.9.2 in c:\\users\\salva\\onedrive\\documentos\\python projects\\trading-at-the-close\\.venv\\lib\\site-packages (from -r requirements.txt (line 13)) (5.9.2)\n",
      "Requirement already satisfied: python-dateutil>=2.8.2 in c:\\users\\salva\\onedrive\\documentos\\python projects\\trading-at-the-close\\.venv\\lib\\site-packages (from pandas>=2.1.1->-r requirements.txt (line 1)) (2.8.2)\n",
      "Requirement already satisfied: pytz>=2020.1 in c:\\users\\salva\\onedrive\\documentos\\python projects\\trading-at-the-close\\.venv\\lib\\site-packages (from pandas>=2.1.1->-r requirements.txt (line 1)) (2023.3.post1)\n",
      "Requirement already satisfied: tzdata>=2022.1 in c:\\users\\salva\\onedrive\\documentos\\python projects\\trading-at-the-close\\.venv\\lib\\site-packages (from pandas>=2.1.1->-r requirements.txt (line 1)) (2023.3)\n",
      "Requirement already satisfied: matplotlib!=3.6.1,>=3.3 in c:\\users\\salva\\onedrive\\documentos\\python projects\\trading-at-the-close\\.venv\\lib\\site-packages (from seaborn>=0.13.0->-r requirements.txt (line 2)) (3.8.0)\n",
      "Requirement already satisfied: scipy in c:\\users\\salva\\onedrive\\documentos\\python projects\\trading-at-the-close\\.venv\\lib\\site-packages (from xgboost>=2.0.0->-r requirements.txt (line 4)) (1.11.3)\n",
      "Requirement already satisfied: graphviz in c:\\users\\salva\\onedrive\\documentos\\python projects\\trading-at-the-close\\.venv\\lib\\site-packages (from catboost>=1.2.2->-r requirements.txt (line 6)) (0.20.1)\n",
      "Requirement already satisfied: plotly in c:\\users\\salva\\onedrive\\documentos\\python projects\\trading-at-the-close\\.venv\\lib\\site-packages (from catboost>=1.2.2->-r requirements.txt (line 6)) (5.17.0)\n",
      "Requirement already satisfied: six in c:\\users\\salva\\onedrive\\documentos\\python projects\\trading-at-the-close\\.venv\\lib\\site-packages (from catboost>=1.2.2->-r requirements.txt (line 6)) (1.16.0)\n",
      "Requirement already satisfied: joblib>=1.1.1 in c:\\users\\salva\\onedrive\\documentos\\python projects\\trading-at-the-close\\.venv\\lib\\site-packages (from scikit-learn>=1.3.1->-r requirements.txt (line 7)) (1.3.2)\n",
      "Requirement already satisfied: threadpoolctl>=2.0.0 in c:\\users\\salva\\onedrive\\documentos\\python projects\\trading-at-the-close\\.venv\\lib\\site-packages (from scikit-learn>=1.3.1->-r requirements.txt (line 7)) (3.2.0)\n",
      "Requirement already satisfied: cramjam>=2.3 in c:\\users\\salva\\onedrive\\documentos\\python projects\\trading-at-the-close\\.venv\\lib\\site-packages (from fastparquet>=2023.8.0->-r requirements.txt (line 8)) (2.7.0)\n",
      "Requirement already satisfied: fsspec in c:\\users\\salva\\onedrive\\documentos\\python projects\\trading-at-the-close\\.venv\\lib\\site-packages (from fastparquet>=2023.8.0->-r requirements.txt (line 8)) (2023.9.2)\n",
      "Requirement already satisfied: packaging in c:\\users\\salva\\onedrive\\documentos\\python projects\\trading-at-the-close\\.venv\\lib\\site-packages (from fastparquet>=2023.8.0->-r requirements.txt (line 8)) (23.1)\n",
      "Requirement already satisfied: click>=7.0 in c:\\users\\salva\\onedrive\\documentos\\python projects\\trading-at-the-close\\.venv\\lib\\site-packages (from ray[tune]>=2.7.0->-r requirements.txt (line 9)) (8.1.7)\n",
      "Requirement already satisfied: filelock in c:\\users\\salva\\onedrive\\documentos\\python projects\\trading-at-the-close\\.venv\\lib\\site-packages (from ray[tune]>=2.7.0->-r requirements.txt (line 9)) (3.12.4)\n",
      "Requirement already satisfied: jsonschema in c:\\users\\salva\\onedrive\\documentos\\python projects\\trading-at-the-close\\.venv\\lib\\site-packages (from ray[tune]>=2.7.0->-r requirements.txt (line 9)) (4.19.1)\n",
      "Requirement already satisfied: msgpack<2.0.0,>=1.0.0 in c:\\users\\salva\\onedrive\\documentos\\python projects\\trading-at-the-close\\.venv\\lib\\site-packages (from ray[tune]>=2.7.0->-r requirements.txt (line 9)) (1.0.7)\n",
      "Requirement already satisfied: protobuf!=3.19.5,>=3.15.3 in c:\\users\\salva\\onedrive\\documentos\\python projects\\trading-at-the-close\\.venv\\lib\\site-packages (from ray[tune]>=2.7.0->-r requirements.txt (line 9)) (4.24.3)\n",
      "Requirement already satisfied: pyyaml in c:\\users\\salva\\onedrive\\documentos\\python projects\\trading-at-the-close\\.venv\\lib\\site-packages (from ray[tune]>=2.7.0->-r requirements.txt (line 9)) (6.0.1)\n",
      "Requirement already satisfied: aiosignal in c:\\users\\salva\\onedrive\\documentos\\python projects\\trading-at-the-close\\.venv\\lib\\site-packages (from ray[tune]>=2.7.0->-r requirements.txt (line 9)) (1.3.1)\n",
      "Requirement already satisfied: frozenlist in c:\\users\\salva\\onedrive\\documentos\\python projects\\trading-at-the-close\\.venv\\lib\\site-packages (from ray[tune]>=2.7.0->-r requirements.txt (line 9)) (1.4.0)\n",
      "Requirement already satisfied: requests in c:\\users\\salva\\onedrive\\documentos\\python projects\\trading-at-the-close\\.venv\\lib\\site-packages (from ray[tune]>=2.7.0->-r requirements.txt (line 9)) (2.31.0)\n",
      "Requirement already satisfied: tensorboardX>=1.9 in c:\\users\\salva\\onedrive\\documentos\\python projects\\trading-at-the-close\\.venv\\lib\\site-packages (from ray[tune]>=2.7.0->-r requirements.txt (line 9)) (2.6.2.2)\n",
      "Requirement already satisfied: pyarrow<7.0.0,>=6.0.1 in c:\\users\\salva\\onedrive\\documentos\\python projects\\trading-at-the-close\\.venv\\lib\\site-packages (from ray[tune]>=2.7.0->-r requirements.txt (line 9)) (6.0.1)\n",
      "Requirement already satisfied: alembic>=1.5.0 in c:\\users\\salva\\onedrive\\documentos\\python projects\\trading-at-the-close\\.venv\\lib\\site-packages (from optuna>=3.3.0->-r requirements.txt (line 10)) (1.12.0)\n",
      "Requirement already satisfied: cmaes>=0.10.0 in c:\\users\\salva\\onedrive\\documentos\\python projects\\trading-at-the-close\\.venv\\lib\\site-packages (from optuna>=3.3.0->-r requirements.txt (line 10)) (0.10.0)\n",
      "Requirement already satisfied: colorlog in c:\\users\\salva\\onedrive\\documentos\\python projects\\trading-at-the-close\\.venv\\lib\\site-packages (from optuna>=3.3.0->-r requirements.txt (line 10)) (6.7.0)\n",
      "Requirement already satisfied: sqlalchemy>=1.3.0 in c:\\users\\salva\\onedrive\\documentos\\python projects\\trading-at-the-close\\.venv\\lib\\site-packages (from optuna>=3.3.0->-r requirements.txt (line 10)) (2.0.21)\n",
      "Requirement already satisfied: tqdm in c:\\users\\salva\\onedrive\\documentos\\python projects\\trading-at-the-close\\.venv\\lib\\site-packages (from optuna>=3.3.0->-r requirements.txt (line 10)) (4.66.1)\n",
      "Requirement already satisfied: bottle in c:\\users\\salva\\onedrive\\documentos\\python projects\\trading-at-the-close\\.venv\\lib\\site-packages (from optuna-dashboard>=0.12.0->-r requirements.txt (line 11)) (0.12.25)\n",
      "Requirement already satisfied: colorama>=0.3.4 in c:\\users\\salva\\onedrive\\documentos\\python projects\\trading-at-the-close\\.venv\\lib\\site-packages (from loguru>=0.7.2->-r requirements.txt (line 12)) (0.4.6)\n",
      "Requirement already satisfied: win32-setctime>=1.0.0 in c:\\users\\salva\\onedrive\\documentos\\python projects\\trading-at-the-close\\.venv\\lib\\site-packages (from loguru>=0.7.2->-r requirements.txt (line 12)) (1.1.0)\n",
      "Requirement already satisfied: fastjsonschema in c:\\users\\salva\\onedrive\\documentos\\python projects\\trading-at-the-close\\.venv\\lib\\site-packages (from nbformat>=5.9.2->-r requirements.txt (line 13)) (2.18.1)\n",
      "Requirement already satisfied: jupyter-core in c:\\users\\salva\\onedrive\\documentos\\python projects\\trading-at-the-close\\.venv\\lib\\site-packages (from nbformat>=5.9.2->-r requirements.txt (line 13)) (5.3.2)\n",
      "Requirement already satisfied: traitlets>=5.1 in c:\\users\\salva\\onedrive\\documentos\\python projects\\trading-at-the-close\\.venv\\lib\\site-packages (from nbformat>=5.9.2->-r requirements.txt (line 13)) (5.10.1)\n",
      "Requirement already satisfied: Mako in c:\\users\\salva\\onedrive\\documentos\\python projects\\trading-at-the-close\\.venv\\lib\\site-packages (from alembic>=1.5.0->optuna>=3.3.0->-r requirements.txt (line 10)) (1.2.4)\n",
      "Requirement already satisfied: typing-extensions>=4 in c:\\users\\salva\\onedrive\\documentos\\python projects\\trading-at-the-close\\.venv\\lib\\site-packages (from alembic>=1.5.0->optuna>=3.3.0->-r requirements.txt (line 10)) (4.8.0)\n",
      "Requirement already satisfied: attrs>=22.2.0 in c:\\users\\salva\\onedrive\\documentos\\python projects\\trading-at-the-close\\.venv\\lib\\site-packages (from jsonschema->ray[tune]>=2.7.0->-r requirements.txt (line 9)) (23.1.0)\n",
      "Requirement already satisfied: jsonschema-specifications>=2023.03.6 in c:\\users\\salva\\onedrive\\documentos\\python projects\\trading-at-the-close\\.venv\\lib\\site-packages (from jsonschema->ray[tune]>=2.7.0->-r requirements.txt (line 9)) (2023.7.1)\n",
      "Requirement already satisfied: referencing>=0.28.4 in c:\\users\\salva\\onedrive\\documentos\\python projects\\trading-at-the-close\\.venv\\lib\\site-packages (from jsonschema->ray[tune]>=2.7.0->-r requirements.txt (line 9)) (0.30.2)\n",
      "Requirement already satisfied: rpds-py>=0.7.1 in c:\\users\\salva\\onedrive\\documentos\\python projects\\trading-at-the-close\\.venv\\lib\\site-packages (from jsonschema->ray[tune]>=2.7.0->-r requirements.txt (line 9)) (0.10.3)\n",
      "Requirement already satisfied: contourpy>=1.0.1 in c:\\users\\salva\\onedrive\\documentos\\python projects\\trading-at-the-close\\.venv\\lib\\site-packages (from matplotlib!=3.6.1,>=3.3->seaborn>=0.13.0->-r requirements.txt (line 2)) (1.1.1)\n",
      "Requirement already satisfied: cycler>=0.10 in c:\\users\\salva\\onedrive\\documentos\\python projects\\trading-at-the-close\\.venv\\lib\\site-packages (from matplotlib!=3.6.1,>=3.3->seaborn>=0.13.0->-r requirements.txt (line 2)) (0.12.0)\n",
      "Requirement already satisfied: fonttools>=4.22.0 in c:\\users\\salva\\onedrive\\documentos\\python projects\\trading-at-the-close\\.venv\\lib\\site-packages (from matplotlib!=3.6.1,>=3.3->seaborn>=0.13.0->-r requirements.txt (line 2)) (4.43.0)\n",
      "Requirement already satisfied: kiwisolver>=1.0.1 in c:\\users\\salva\\onedrive\\documentos\\python projects\\trading-at-the-close\\.venv\\lib\\site-packages (from matplotlib!=3.6.1,>=3.3->seaborn>=0.13.0->-r requirements.txt (line 2)) (1.4.5)\n",
      "Requirement already satisfied: pillow>=6.2.0 in c:\\users\\salva\\onedrive\\documentos\\python projects\\trading-at-the-close\\.venv\\lib\\site-packages (from matplotlib!=3.6.1,>=3.3->seaborn>=0.13.0->-r requirements.txt (line 2)) (10.0.1)\n",
      "Requirement already satisfied: pyparsing>=2.3.1 in c:\\users\\salva\\onedrive\\documentos\\python projects\\trading-at-the-close\\.venv\\lib\\site-packages (from matplotlib!=3.6.1,>=3.3->seaborn>=0.13.0->-r requirements.txt (line 2)) (3.1.1)\n",
      "Requirement already satisfied: greenlet!=0.4.17 in c:\\users\\salva\\onedrive\\documentos\\python projects\\trading-at-the-close\\.venv\\lib\\site-packages (from sqlalchemy>=1.3.0->optuna>=3.3.0->-r requirements.txt (line 10)) (3.0.0)\n",
      "Requirement already satisfied: platformdirs>=2.5 in c:\\users\\salva\\onedrive\\documentos\\python projects\\trading-at-the-close\\.venv\\lib\\site-packages (from jupyter-core->nbformat>=5.9.2->-r requirements.txt (line 13)) (3.10.0)\n",
      "Requirement already satisfied: pywin32>=300 in c:\\users\\salva\\onedrive\\documentos\\python projects\\trading-at-the-close\\.venv\\lib\\site-packages (from jupyter-core->nbformat>=5.9.2->-r requirements.txt (line 13)) (306)\n",
      "Requirement already satisfied: tenacity>=6.2.0 in c:\\users\\salva\\onedrive\\documentos\\python projects\\trading-at-the-close\\.venv\\lib\\site-packages (from plotly->catboost>=1.2.2->-r requirements.txt (line 6)) (8.2.3)\n",
      "Requirement already satisfied: charset-normalizer<4,>=2 in c:\\users\\salva\\onedrive\\documentos\\python projects\\trading-at-the-close\\.venv\\lib\\site-packages (from requests->ray[tune]>=2.7.0->-r requirements.txt (line 9)) (3.2.0)\n",
      "Requirement already satisfied: idna<4,>=2.5 in c:\\users\\salva\\onedrive\\documentos\\python projects\\trading-at-the-close\\.venv\\lib\\site-packages (from requests->ray[tune]>=2.7.0->-r requirements.txt (line 9)) (3.4)\n",
      "Requirement already satisfied: urllib3<3,>=1.21.1 in c:\\users\\salva\\onedrive\\documentos\\python projects\\trading-at-the-close\\.venv\\lib\\site-packages (from requests->ray[tune]>=2.7.0->-r requirements.txt (line 9)) (2.0.5)\n",
      "Requirement already satisfied: certifi>=2017.4.17 in c:\\users\\salva\\onedrive\\documentos\\python projects\\trading-at-the-close\\.venv\\lib\\site-packages (from requests->ray[tune]>=2.7.0->-r requirements.txt (line 9)) (2023.7.22)\n",
      "Requirement already satisfied: MarkupSafe>=0.9.2 in c:\\users\\salva\\onedrive\\documentos\\python projects\\trading-at-the-close\\.venv\\lib\\site-packages (from Mako->alembic>=1.5.0->optuna>=3.3.0->-r requirements.txt (line 10)) (2.1.3)\n",
      "Note: you may need to restart the kernel to use updated packages.\n"
     ]
    }
   ],
   "source": [
    "%pip install -r requirements.txt"
   ]
  },
  {
   "cell_type": "code",
   "execution_count": 2,
   "id": "5a9c81ff",
   "metadata": {
    "_kg_hide-input": true,
    "execution": {
     "iopub.execute_input": "2023-10-02T11:02:55.526290Z",
     "iopub.status.busy": "2023-10-02T11:02:55.525205Z",
     "iopub.status.idle": "2023-10-02T11:03:02.125249Z",
     "shell.execute_reply": "2023-10-02T11:03:02.123885Z"
    },
    "papermill": {
     "duration": 6.609425,
     "end_time": "2023-10-02T11:03:02.127754",
     "exception": false,
     "start_time": "2023-10-02T11:02:55.518329",
     "status": "completed"
    },
    "tags": []
   },
   "outputs": [
    {
     "name": "stderr",
     "output_type": "stream",
     "text": [
      "c:\\Users\\salva\\OneDrive\\Documentos\\Python Projects\\trading-at-the-close\\.venv\\lib\\site-packages\\tqdm\\auto.py:21: TqdmWarning: IProgress not found. Please update jupyter and ipywidgets. See https://ipywidgets.readthedocs.io/en/stable/user_install.html\n",
      "  from .autonotebook import tqdm as notebook_tqdm\n"
     ]
    }
   ],
   "source": [
    "import sys\n",
    "import numpy as np\n",
    "from pathlib import Path\n",
    "from loguru import logger\n",
    "from pprint import pformat\n",
    "import pandas as pd\n",
    "import json\n",
    "from sklearn.model_selection import train_test_split, TimeSeriesSplit, KFold\n",
    "from sklearn.metrics import mean_absolute_error\n",
    "from lightgbm import LGBMRegressor\n",
    "import lightgbm as lgb\n",
    "import matplotlib.pyplot as plt\n",
    "import seaborn as sns\n",
    "from timeit import default_timer as timer\n",
    "from IPython.display import clear_output\n",
    "import optuna\n",
    "from optuna.samplers import TPESampler, CmaEsSampler\n",
    "from optuna.pruners import MedianPruner, HyperbandPruner\n",
    "from optuna.visualization import (\n",
    "    plot_optimization_history,\n",
    "    plot_param_importances,\n",
    "    plot_parallel_coordinate,\n",
    ")\n",
    "\n",
    "from utils.validation import TrainTestSplit\n",
    "\n",
    "optuna.logging.set_verbosity(optuna.logging.WARNING)\n",
    "sns.set_style(\"ticks\")"
   ]
  },
  {
   "cell_type": "code",
   "execution_count": 3,
   "id": "f2f12d73",
   "metadata": {},
   "outputs": [],
   "source": [
    "class CFG:\n",
    "    JOBS_PATH = Path(\".\", \"job_artifacts\")\n",
    "    JOB_NAME = \"optiver-tuning_lgbmregressor\"\n",
    "    TRAINING_PATH = Path(\".\", \"train_files\", \"train.csv\")\n",
    "    FEATURES_PATH = JOBS_PATH.joinpath(\"optiver-feature_selection-0009\")\n",
    "    FEATURES_NAME = \"feature_names.json\"\n",
    "    BEST_PARAMS = \"best_params.json\"\n",
    "    RANDOM_STATE = 42\n",
    "    USE_GPU = False\n",
    "    MODEL = LGBMRegressor\n",
    "    CROSSVAL = TrainTestSplit\n",
    "    SHUFFLE = True\n",
    "    SAMPLER = CmaEsSampler\n",
    "    PRUNER = HyperbandPruner\n",
    "    USE_BEST = False\n",
    "    JOB_PATH_BEST = JOBS_PATH.joinpath(\"optiver-tuning_lgbmregressor-0008\")\n",
    "    HYPERTUNE = True\n",
    "    PRELOAD_STUDY = False\n",
    "    TEST_SIZE = 45\n",
    "    N_FOLDS = 3\n",
    "    N_TRIALS = 50\n",
    "    N_JOBS = 3"
   ]
  },
  {
   "cell_type": "code",
   "execution_count": 4,
   "id": "d74a8e1e",
   "metadata": {},
   "outputs": [],
   "source": [
    "def lgbm_param_space(trial):\n",
    "    \"\"\"Returns the parameter space of a LGBMRegressor.\"\"\"\n",
    "    # num_leaves should be smaller than 2^{max_depth}\n",
    "    max_depth = trial.suggest_int(\"max_depth\", 5, 12)\n",
    "    num_leaves = trial.suggest_int(\"num_leaves\", 8, int((2**max_depth) * 0.75))\n",
    "    #num_leaves = trial.suggest_int(\"num_leaves\", 8, 64)\n",
    "\n",
    "    param_space = {\n",
    "        \"device\": trial.suggest_categorical(\"device\", [\"gpu\" if CFG.USE_GPU else \"cpu\"]),\n",
    "        \"verbose\": trial.suggest_categorical(\"verbose\", [-1]),\n",
    "        \"n_jobs\": trial.suggest_categorical(\"n_jobs\", [1]),\n",
    "        \"objective\": trial.suggest_categorical(\"objective\", [\"mae\"]),\n",
    "        \"n_estimators\": trial.suggest_categorical(\"n_estimators\", [750]), # automatically via early stopping\n",
    "        \"boosting_type\": trial.suggest_categorical(\"boosting_type\", [\"gbdt\"]),\n",
    "        \"subsample\": trial.suggest_float(\"subsample\", 0.5, 1.0),\n",
    "        \"min_child_samples\": trial.suggest_int(\"min_child_samples\", 1, 100),\n",
    "        \"colsample_bytree\": trial.suggest_float(\"colsample_bytree\", 0.4, 1.0),\n",
    "        \"reg_alpha\": trial.suggest_float(\"reg_alpha\", 1e-3, 10.0, log=True),\n",
    "        \"reg_lambda\": trial.suggest_float(\"reg_lambda\", 1e-3, 10.0, log=True),\n",
    "        \"learning_rate\": trial.suggest_float(\"learning_rate\", 0.01, 1.0, log=True),\n",
    "        \"num_leaves\": num_leaves,\n",
    "        \"max_depth\": max_depth\n",
    "    }\n",
    "\n",
    "    return param_space\n",
    "\n",
    "\n",
    "\n",
    "def lgbm_callbacks(trial):\n",
    "    \"\"\"Returns the callbacks for a LGBMRegressor.\"\"\"\n",
    "    optuna_prune = optuna.integration.LightGBMPruningCallback(trial, \"l1\", report_interval=100)\n",
    "    inner_early_stop = lgb.early_stopping(25, verbose=False)\n",
    "\n",
    "    return [inner_early_stop]\n",
    "    #return [optuna_prune, inner_early_stop]\n",
    "\n",
    "\n",
    "MODEL_CFG = {\n",
    "    LGBMRegressor.__name__ : {\n",
    "        \"param_space\": lgbm_param_space,\n",
    "        \"callbacks\": lgbm_callbacks\n",
    "    }\n",
    "}  "
   ]
  },
  {
   "cell_type": "code",
   "execution_count": 5,
   "id": "4b8288a3",
   "metadata": {},
   "outputs": [],
   "source": [
    "CFG.JOBS_PATH.mkdir(exist_ok=True, parents=True)\n",
    "\n",
    "for i in range(1, 10000):\n",
    "    CFG.JOB_PATH = CFG.JOBS_PATH.joinpath(CFG.JOB_NAME + \"-\" +  str(i).zfill(4))\n",
    "    try:\n",
    "        CFG.JOB_PATH.mkdir()\n",
    "        break\n",
    "    except:\n",
    "        continue"
   ]
  },
  {
   "cell_type": "markdown",
   "id": "65ac1e3e",
   "metadata": {
    "papermill": {
     "duration": 0.004759,
     "end_time": "2023-10-02T11:03:02.137906",
     "exception": false,
     "start_time": "2023-10-02T11:03:02.133147",
     "status": "completed"
    },
    "tags": []
   },
   "source": [
    "## Data Loading\n",
    "---------------\n",
    "\n",
    "In the next cell, we define code to load the data and to generate features with optional memory reduction. It uses functions that are written to file by running `%%writefile` in `preprocessing.ipynb`."
   ]
  },
  {
   "cell_type": "code",
   "execution_count": 6,
   "id": "9b85b6b1",
   "metadata": {
    "_kg_hide-input": true,
    "execution": {
     "iopub.execute_input": "2023-10-02T11:03:02.173881Z",
     "iopub.status.busy": "2023-10-02T11:03:02.173493Z",
     "iopub.status.idle": "2023-10-02T11:03:28.669708Z",
     "shell.execute_reply": "2023-10-02T11:03:28.667820Z"
    },
    "papermill": {
     "duration": 26.50526,
     "end_time": "2023-10-02T11:03:28.672058",
     "exception": false,
     "start_time": "2023-10-02T11:03:02.166798",
     "status": "completed"
    },
    "tags": []
   },
   "outputs": [
    {
     "name": "stderr",
     "output_type": "stream",
     "text": [
      "\u001b[32m2023-10-28 00:18:30.278\u001b[0m | \u001b[1mINFO    \u001b[0m | \u001b[36mutils.features\u001b[0m:\u001b[36mmake_features\u001b[0m:\u001b[36m25\u001b[0m - \u001b[1mCreating additional features...\u001b[0m\n",
      "\u001b[32m2023-10-28 00:19:14.616\u001b[0m | \u001b[1mINFO    \u001b[0m | \u001b[36mutils.features\u001b[0m:\u001b[36mmake_features\u001b[0m:\u001b[36m75\u001b[0m - \u001b[1mReducing data memory footprint...\u001b[0m\n",
      "\u001b[32m2023-10-28 00:19:14.626\u001b[0m | \u001b[1mINFO    \u001b[0m | \u001b[36mutils.compression\u001b[0m:\u001b[36mdowncast\u001b[0m:\u001b[36m16\u001b[0m - \u001b[1mMemory usage of dataframe is 3117.08 MB\u001b[0m\n",
      "\u001b[32m2023-10-28 00:19:39.789\u001b[0m | \u001b[1mINFO    \u001b[0m | \u001b[36mutils.compression\u001b[0m:\u001b[36mdowncast\u001b[0m:\u001b[36m25\u001b[0m - \u001b[1mMemory usage after optimization is: 2143.00 MB\u001b[0m\n",
      "\u001b[32m2023-10-28 00:19:39.791\u001b[0m | \u001b[1mINFO    \u001b[0m | \u001b[36mutils.compression\u001b[0m:\u001b[36mdowncast\u001b[0m:\u001b[36m27\u001b[0m - \u001b[1mDecreased by 31.25%\u001b[0m\n",
      "\u001b[32m2023-10-28 00:20:52.005\u001b[0m | \u001b[1mINFO    \u001b[0m | \u001b[36mutils.aggregations\u001b[0m:\u001b[36mapply_aggregations\u001b[0m:\u001b[36m127\u001b[0m - \u001b[1mApplying date-wise aggregations...\u001b[0m\n",
      "\u001b[32m2023-10-28 00:21:19.775\u001b[0m | \u001b[1mINFO    \u001b[0m | \u001b[36mutils.aggregations\u001b[0m:\u001b[36mapply_aggregations\u001b[0m:\u001b[36m135\u001b[0m - \u001b[1mReducing data memory footprint...\u001b[0m\n",
      "\u001b[32m2023-10-28 00:21:19.775\u001b[0m | \u001b[1mINFO    \u001b[0m | \u001b[36mutils.compression\u001b[0m:\u001b[36mdowncast\u001b[0m:\u001b[36m16\u001b[0m - \u001b[1mMemory usage of dataframe is 2742.43 MB\u001b[0m\n",
      "\u001b[32m2023-10-28 00:21:41.733\u001b[0m | \u001b[1mINFO    \u001b[0m | \u001b[36mutils.compression\u001b[0m:\u001b[36mdowncast\u001b[0m:\u001b[36m25\u001b[0m - \u001b[1mMemory usage after optimization is: 2502.66 MB\u001b[0m\n",
      "\u001b[32m2023-10-28 00:21:41.752\u001b[0m | \u001b[1mINFO    \u001b[0m | \u001b[36mutils.compression\u001b[0m:\u001b[36mdowncast\u001b[0m:\u001b[36m27\u001b[0m - \u001b[1mDecreased by 8.74%\u001b[0m\n",
      "c:\\Users\\salva\\OneDrive\\Documentos\\Python Projects\\trading-at-the-close\\utils\\features.py:90: PerformanceWarning: DataFrame is highly fragmented.  This is usually the result of calling `frame.insert` many times, which has poor performance.  Consider joining all columns at once using pd.concat(axis=1) instead. To get a de-fragmented frame, use `newframe = frame.copy()`\n",
      "  df[f\"ask_price_{i}\"] = df.groupby([\"stock_id\", \"date_id\"])[\"ask_price\"].shift(i)\n",
      "c:\\Users\\salva\\OneDrive\\Documentos\\Python Projects\\trading-at-the-close\\utils\\features.py:91: PerformanceWarning: DataFrame is highly fragmented.  This is usually the result of calling `frame.insert` many times, which has poor performance.  Consider joining all columns at once using pd.concat(axis=1) instead. To get a de-fragmented frame, use `newframe = frame.copy()`\n",
      "  df[f\"bid_price_{i}\"] = df.groupby([\"stock_id\", \"date_id\"])[\"bid_price\"].shift(i)\n",
      "c:\\Users\\salva\\OneDrive\\Documentos\\Python Projects\\trading-at-the-close\\utils\\features.py:89: PerformanceWarning: DataFrame is highly fragmented.  This is usually the result of calling `frame.insert` many times, which has poor performance.  Consider joining all columns at once using pd.concat(axis=1) instead. To get a de-fragmented frame, use `newframe = frame.copy()`\n",
      "  df[f\"wap_{i}\"] = df.groupby([\"stock_id\", \"date_id\"])[\"wap\"].shift(i)\n",
      "c:\\Users\\salva\\OneDrive\\Documentos\\Python Projects\\trading-at-the-close\\utils\\features.py:90: PerformanceWarning: DataFrame is highly fragmented.  This is usually the result of calling `frame.insert` many times, which has poor performance.  Consider joining all columns at once using pd.concat(axis=1) instead. To get a de-fragmented frame, use `newframe = frame.copy()`\n",
      "  df[f\"ask_price_{i}\"] = df.groupby([\"stock_id\", \"date_id\"])[\"ask_price\"].shift(i)\n",
      "c:\\Users\\salva\\OneDrive\\Documentos\\Python Projects\\trading-at-the-close\\utils\\features.py:91: PerformanceWarning: DataFrame is highly fragmented.  This is usually the result of calling `frame.insert` many times, which has poor performance.  Consider joining all columns at once using pd.concat(axis=1) instead. To get a de-fragmented frame, use `newframe = frame.copy()`\n",
      "  df[f\"bid_price_{i}\"] = df.groupby([\"stock_id\", \"date_id\"])[\"bid_price\"].shift(i)\n",
      "\u001b[32m2023-10-28 00:21:46.029\u001b[0m | \u001b[1mINFO    \u001b[0m | \u001b[36mutils.features\u001b[0m:\u001b[36mmake_rolling_features\u001b[0m:\u001b[36m121\u001b[0m - \u001b[1mReducing data memory footprint...\u001b[0m\n",
      "\u001b[32m2023-10-28 00:21:46.031\u001b[0m | \u001b[1mINFO    \u001b[0m | \u001b[36mutils.compression\u001b[0m:\u001b[36mdowncast\u001b[0m:\u001b[36m16\u001b[0m - \u001b[1mMemory usage of dataframe is 2742.43 MB\u001b[0m\n",
      "\u001b[32m2023-10-28 00:21:57.728\u001b[0m | \u001b[1mINFO    \u001b[0m | \u001b[36mutils.compression\u001b[0m:\u001b[36mdowncast\u001b[0m:\u001b[36m25\u001b[0m - \u001b[1mMemory usage after optimization is: 2742.43 MB\u001b[0m\n",
      "\u001b[32m2023-10-28 00:21:57.730\u001b[0m | \u001b[1mINFO    \u001b[0m | \u001b[36mutils.compression\u001b[0m:\u001b[36mdowncast\u001b[0m:\u001b[36m27\u001b[0m - \u001b[1mDecreased by 0.00%\u001b[0m\n",
      "\u001b[32m2023-10-28 00:21:57.733\u001b[0m | \u001b[1mINFO    \u001b[0m | \u001b[36mutils.features\u001b[0m:\u001b[36mselect_features\u001b[0m:\u001b[36m131\u001b[0m - \u001b[1mDropping unnecesary features...\u001b[0m\n",
      "\u001b[32m2023-10-28 00:21:59.443\u001b[0m | \u001b[1mINFO    \u001b[0m | \u001b[36mutils.cleaning\u001b[0m:\u001b[36mclean\u001b[0m:\u001b[36m16\u001b[0m - \u001b[1mCleaning dataset...\u001b[0m\n"
     ]
    }
   ],
   "source": [
    "from utils.features import make_features, select_features, make_rolling_features\n",
    "from utils.aggregations import aggregate, apply_aggregations\n",
    "from utils.cleaning import clean as clean_dataset\n",
    "from utils.files import read_json\n",
    "\n",
    "df = pd.read_csv(CFG.TRAINING_PATH)\n",
    "features = read_json(CFG.FEATURES_PATH.joinpath(CFG.FEATURES_NAME))\n",
    "selected_features = features[\"selected_features\"]\n",
    "stock_weights = features[\"stock_weights\"]\n",
    "\n",
    "# Get standard features\n",
    "df = make_features(df, reduce_memory=True)\n",
    "\n",
    "# Create aggregations\n",
    "_, aggregations = aggregate(df, stock_weights)\n",
    "df = apply_aggregations(df, aggregations_date=aggregations, reduce_memory=True)\n",
    "\n",
    "# Get rolling features\n",
    "df = make_rolling_features(df, reduce_memory=True)\n",
    "\n",
    "# Select features\n",
    "selected_features.extend([\"date_id\"])\n",
    "df = select_features(df, selected_features, reduce_memory=False)\n",
    "\n",
    "# Clean dataset\n",
    "clean_dataset(df)\n",
    "\n",
    "# Separate features from dependent variable\n",
    "date_id = df[\"date_id\"]\n",
    "df.drop(columns=[\"date_id\"], inplace=True)\n",
    "\n",
    "Y = df[\"target\"]\n",
    "X = df.drop(columns=[\"target\"], errors=\"ignore\")\n",
    "\n",
    "del df"
   ]
  },
  {
   "cell_type": "markdown",
   "id": "009f1820",
   "metadata": {
    "papermill": {
     "duration": 0.005141,
     "end_time": "2023-10-02T11:03:28.683009",
     "exception": false,
     "start_time": "2023-10-02T11:03:28.677868",
     "status": "completed"
    },
    "tags": []
   },
   "source": [
    "## Hyperparameter Optimization\n",
    "-----------------------------------"
   ]
  },
  {
   "cell_type": "markdown",
   "id": "713576cb",
   "metadata": {
    "papermill": {
     "duration": 0.005066,
     "end_time": "2023-10-02T11:03:28.693358",
     "exception": false,
     "start_time": "2023-10-02T11:03:28.688292",
     "status": "completed"
    },
    "tags": []
   },
   "source": [
    "### Setup the evaluation process\n",
    "\n",
    "We have many options, but we'll stick with cross-validation schemes even though these are more expensive to tune. This is because it yields more robust estimations of mean absolute error.\n"
   ]
  },
  {
   "cell_type": "code",
   "execution_count": 7,
   "id": "2c528e2f",
   "metadata": {},
   "outputs": [],
   "source": [
    "from utils.validation import cross_validate"
   ]
  },
  {
   "cell_type": "markdown",
   "id": "49156428",
   "metadata": {
    "papermill": {
     "duration": 0.005047,
     "end_time": "2023-10-02T11:03:28.771186",
     "exception": false,
     "start_time": "2023-10-02T11:03:28.766139",
     "status": "completed"
    },
    "tags": []
   },
   "source": [
    "### Optimization specifics\n",
    "\n",
    "We define a convenience function `run_optimization`, that starts the optimization process given a objective function.\n",
    "\n",
    "The objective function is returned by the `get_objective_function` method. Inside this method, the parameter space is defined using the optuna `trial` object."
   ]
  },
  {
   "cell_type": "code",
   "execution_count": 8,
   "id": "b32c3119",
   "metadata": {
    "execution": {
     "iopub.execute_input": "2023-10-02T11:03:28.784018Z",
     "iopub.status.busy": "2023-10-02T11:03:28.783557Z",
     "iopub.status.idle": "2023-10-02T11:03:28.791751Z",
     "shell.execute_reply": "2023-10-02T11:03:28.790263Z"
    },
    "papermill": {
     "duration": 0.017202,
     "end_time": "2023-10-02T11:03:28.793731",
     "exception": false,
     "start_time": "2023-10-02T11:03:28.776529",
     "status": "completed"
    },
    "tags": []
   },
   "outputs": [],
   "source": [
    "# Optimization runner\n",
    "def run_optimization(objective, n_trials=100, sampler=TPESampler(), pruner=MedianPruner(), n_jobs=1, best_trial=None):\n",
    "    \"\"\"Run the given objective with Optuna and return the study results.\"\"\"\n",
    "\n",
    "    study_name = \"optuna-study\"\n",
    "    storage = \"sqlite:///\" + str(CFG.JOB_PATH.joinpath(study_name)) + \".sqlite3\"\n",
    "    logger.info(f\"Creating study...\")\n",
    "\n",
    "\n",
    "    if CFG.PRELOAD_STUDY:\n",
    "        study = optuna.load_study(\n",
    "            study_name=study_name, \n",
    "            sampler=sampler,\n",
    "            pruner=pruner,\n",
    "            storage=storage\n",
    "        )\n",
    "\n",
    "    else:\n",
    "        try:\n",
    "            optuna.study.delete_study(\n",
    "                study_name=study_name,\n",
    "                storage=storage\n",
    "            )\n",
    "        except:\n",
    "            logger.warning(f\"Study does not exist...\")\n",
    "\n",
    "        study = optuna.create_study(\n",
    "            study_name=study_name, \n",
    "            direction=\"minimize\", \n",
    "            sampler=sampler,\n",
    "            pruner=pruner,\n",
    "            storage=storage\n",
    "        )\n",
    "\n",
    "    if best_trial is not None:\n",
    "        logger.info(\"Enqueuing previous best trial ...\")\n",
    "        study.enqueue_trial(best_trial)\n",
    "\n",
    "    logger.info(f\"Running hyperparameter search...\")\n",
    "    study.optimize(objective, n_trials=n_trials, n_jobs=n_jobs, show_progress_bar=True)\n",
    "\n",
    "    logger.info(f\"Number of finished trials: {len(study.trials)}\")\n",
    "    logger.success(f\"Best MAE: {study.best_value:.4f}\")\n",
    "\n",
    "    logger.info(\"Parameters: \")\n",
    "    logger.info(\"=\" * 10)\n",
    "    logger.success(pformat(study.best_params, indent=4))\n",
    "\n",
    "    logger.info(f\"Saving best parameters...\")\n",
    "    with open(\"best_params.json\", \"w\") as f:\n",
    "        json.dump(study.best_params, f)\n",
    "    return study"
   ]
  },
  {
   "cell_type": "code",
   "execution_count": 9,
   "id": "9a339cf1",
   "metadata": {
    "execution": {
     "iopub.execute_input": "2023-10-02T11:03:28.807356Z",
     "iopub.status.busy": "2023-10-02T11:03:28.806585Z",
     "iopub.status.idle": "2023-10-02T11:03:28.818648Z",
     "shell.execute_reply": "2023-10-02T11:03:28.816994Z"
    },
    "papermill": {
     "duration": 0.021943,
     "end_time": "2023-10-02T11:03:28.821250",
     "exception": false,
     "start_time": "2023-10-02T11:03:28.799307",
     "status": "completed"
    },
    "tags": []
   },
   "outputs": [],
   "source": [
    "def get_objective_function(model_cls, param_func, x, y, date_id, cv=TimeSeriesSplit(), callbacks_func=None, *args, **kwargs):\n",
    "    \"\"\"Returns the objective function for optuna.\"\"\"\n",
    "        \n",
    "    def objective_function(trial):\n",
    "        \"\"\"Optimizes a model with cross-validation.\"\"\"\n",
    "\n",
    "        param_space = param_func(trial)\n",
    "        callbacks = callbacks_func(trial) if callbacks_func is not None else None  \n",
    "        scores, _ = cross_validate(model_cls, param_space, x, y, date_id=date_id, cv=cv, callbacks=callbacks, *args, **kwargs)\n",
    "        return scores.mean()\n",
    "\n",
    "    return objective_function"
   ]
  },
  {
   "cell_type": "markdown",
   "id": "e9b5f453",
   "metadata": {
    "papermill": {
     "duration": 0.005598,
     "end_time": "2023-10-02T11:03:28.832703",
     "exception": false,
     "start_time": "2023-10-02T11:03:28.827105",
     "status": "completed"
    },
    "tags": []
   },
   "source": [
    "### Start the optimization\n",
    "\n",
    "We can set these variables here:\n",
    "1. `run_optimization`: Whether to run the optimization or use already computed ones.\n",
    "2. `n_trials`: How many trials we want to sample.\n",
    "3. `cv`: the Split object.\n",
    "4. `best_trial`: whether to reuse a previously tuned best trial for this optimization.\n",
    "\n",
    "*Warning*: `evaluation='cross_validate'` takes very long!"
   ]
  },
  {
   "cell_type": "code",
   "execution_count": 10,
   "id": "8bd50b4c",
   "metadata": {
    "_kg_hide-input": true,
    "execution": {
     "iopub.execute_input": "2023-10-02T11:03:28.846579Z",
     "iopub.status.busy": "2023-10-02T11:03:28.846193Z",
     "iopub.status.idle": "2023-10-02T11:03:28.853087Z",
     "shell.execute_reply": "2023-10-02T11:03:28.851631Z"
    },
    "papermill": {
     "duration": 0.01693,
     "end_time": "2023-10-02T11:03:28.855878",
     "exception": false,
     "start_time": "2023-10-02T11:03:28.838948",
     "status": "completed"
    },
    "tags": []
   },
   "outputs": [],
   "source": [
    "from utils.files import read_json\n",
    "\n",
    "if CFG.USE_BEST:\n",
    "    best_params = read_json(CFG.JOB_PATH_BEST.joinpath(CFG.BEST_PARAMS))"
   ]
  },
  {
   "cell_type": "code",
   "execution_count": 11,
   "id": "aaa20787",
   "metadata": {
    "execution": {
     "iopub.execute_input": "2023-10-02T11:03:28.870450Z",
     "iopub.status.busy": "2023-10-02T11:03:28.870104Z",
     "iopub.status.idle": "2023-10-02T11:03:28.878252Z",
     "shell.execute_reply": "2023-10-02T11:03:28.876766Z"
    },
    "papermill": {
     "duration": 0.019469,
     "end_time": "2023-10-02T11:03:28.881471",
     "exception": false,
     "start_time": "2023-10-02T11:03:28.862002",
     "status": "completed"
    },
    "tags": []
   },
   "outputs": [
    {
     "name": "stderr",
     "output_type": "stream",
     "text": [
      "\u001b[32m2023-10-28 00:22:05.115\u001b[0m | \u001b[1mINFO    \u001b[0m | \u001b[36m__main__\u001b[0m:\u001b[36mrun_optimization\u001b[0m:\u001b[36m7\u001b[0m - \u001b[1mCreating study...\u001b[0m\n",
      "\u001b[32m2023-10-28 00:22:05.575\u001b[0m | \u001b[33m\u001b[1mWARNING \u001b[0m | \u001b[36m__main__\u001b[0m:\u001b[36mrun_optimization\u001b[0m:\u001b[36m25\u001b[0m - \u001b[33m\u001b[1mStudy does not exist...\u001b[0m\n",
      "\u001b[32m2023-10-28 00:22:05.624\u001b[0m | \u001b[1mINFO    \u001b[0m | \u001b[36m__main__\u001b[0m:\u001b[36mrun_optimization\u001b[0m:\u001b[36m39\u001b[0m - \u001b[1mRunning hyperparameter search...\u001b[0m\n",
      "  0%|          | 0/50 [00:00<?, ?it/s]\u001b[32m2023-10-28 00:22:06.511\u001b[0m | \u001b[1mINFO    \u001b[0m | \u001b[36mutils.validation\u001b[0m:\u001b[36mcross_validate\u001b[0m:\u001b[36m79\u001b[0m - \u001b[1mStarting evaluation...\u001b[0m\n",
      "\u001b[32m2023-10-28 00:22:06.526\u001b[0m | \u001b[1mINFO    \u001b[0m | \u001b[36mutils.validation\u001b[0m:\u001b[36mcross_validate\u001b[0m:\u001b[36m80\u001b[0m - \u001b[1m==============================\u001b[0m\n",
      "\u001b[32m2023-10-28 00:22:06.558\u001b[0m | \u001b[1mINFO    \u001b[0m | \u001b[36mutils.validation\u001b[0m:\u001b[36mcross_validate\u001b[0m:\u001b[36m79\u001b[0m - \u001b[1mStarting evaluation...\u001b[0m\n",
      "\u001b[32m2023-10-28 00:22:06.558\u001b[0m | \u001b[1mINFO    \u001b[0m | \u001b[36mutils.validation\u001b[0m:\u001b[36mcross_validate\u001b[0m:\u001b[36m80\u001b[0m - \u001b[1m==============================\u001b[0m\n",
      "\u001b[32m2023-10-28 00:22:06.573\u001b[0m | \u001b[1mINFO    \u001b[0m | \u001b[36mutils.validation\u001b[0m:\u001b[36mcross_validate\u001b[0m:\u001b[36m79\u001b[0m - \u001b[1mStarting evaluation...\u001b[0m\n",
      "\u001b[32m2023-10-28 00:22:06.573\u001b[0m | \u001b[1mINFO    \u001b[0m | \u001b[36mutils.validation\u001b[0m:\u001b[36mcross_validate\u001b[0m:\u001b[36m80\u001b[0m - \u001b[1m==============================\u001b[0m\n",
      "\u001b[32m2023-10-28 00:22:11.934\u001b[0m | \u001b[1mINFO    \u001b[0m | \u001b[36mutils.validation\u001b[0m:\u001b[36mcross_validate\u001b[0m:\u001b[36m91\u001b[0m - \u001b[1mModel trained with seed 1847\u001b[0m\n",
      "\u001b[32m2023-10-28 00:22:11.934\u001b[0m | \u001b[1mINFO    \u001b[0m | \u001b[36mutils.validation\u001b[0m:\u001b[36mcross_validate\u001b[0m:\u001b[36m91\u001b[0m - \u001b[1mModel trained with seed 404\u001b[0m\n",
      "\u001b[32m2023-10-28 00:22:11.934\u001b[0m | \u001b[1mINFO    \u001b[0m | \u001b[36mutils.validation\u001b[0m:\u001b[36mcross_validate\u001b[0m:\u001b[36m91\u001b[0m - \u001b[1mModel trained with seed 7572\u001b[0m\n",
      "\u001b[32m2023-10-28 00:26:09.976\u001b[0m | \u001b[1mINFO    \u001b[0m | \u001b[36mutils.validation\u001b[0m:\u001b[36mcross_validate\u001b[0m:\u001b[36m103\u001b[0m - \u001b[1mFold 1: 5.8745 (took 236.91s)\u001b[0m\n",
      "\u001b[32m2023-10-28 00:26:23.811\u001b[0m | \u001b[1mINFO    \u001b[0m | \u001b[36mutils.validation\u001b[0m:\u001b[36mcross_validate\u001b[0m:\u001b[36m91\u001b[0m - \u001b[1mModel trained with seed 6643\u001b[0m\n",
      "\u001b[32m2023-10-28 00:28:09.315\u001b[0m | \u001b[1mINFO    \u001b[0m | \u001b[36mutils.validation\u001b[0m:\u001b[36mcross_validate\u001b[0m:\u001b[36m103\u001b[0m - \u001b[1mFold 2: 5.8755 (took 104.64s)\u001b[0m\n",
      "\u001b[32m2023-10-28 00:28:17.007\u001b[0m | \u001b[1mINFO    \u001b[0m | \u001b[36mutils.validation\u001b[0m:\u001b[36mcross_validate\u001b[0m:\u001b[36m91\u001b[0m - \u001b[1mModel trained with seed 9542\u001b[0m\n",
      "\u001b[32m2023-10-28 00:30:18.852\u001b[0m | \u001b[1mINFO    \u001b[0m | \u001b[36mutils.validation\u001b[0m:\u001b[36mcross_validate\u001b[0m:\u001b[36m103\u001b[0m - \u001b[1mFold 3: 5.8780 (took 120.50s)\u001b[0m\n",
      "\u001b[32m2023-10-28 00:30:18.876\u001b[0m | \u001b[1mINFO    \u001b[0m | \u001b[36mutils.validation\u001b[0m:\u001b[36mcross_validate\u001b[0m:\u001b[36m110\u001b[0m - \u001b[1m------------------------------\u001b[0m\n",
      "\u001b[32m2023-10-28 00:30:18.884\u001b[0m | \u001b[32m\u001b[1mSUCCESS \u001b[0m | \u001b[36mutils.validation\u001b[0m:\u001b[36mcross_validate\u001b[0m:\u001b[36m111\u001b[0m - \u001b[32m\u001b[1mAverage MAE = 5.8760 ± 0.00\u001b[0m\n",
      "\u001b[32m2023-10-28 00:30:18.892\u001b[0m | \u001b[1mINFO    \u001b[0m | \u001b[36mutils.validation\u001b[0m:\u001b[36mcross_validate\u001b[0m:\u001b[36m112\u001b[0m - \u001b[1m==============================\u001b[0m\n",
      "Best trial: 0. Best value: 5.87598:   2%|▏         | 1/50 [08:13<6:43:02, 493.52s/it]\u001b[32m2023-10-28 00:30:19.632\u001b[0m | \u001b[1mINFO    \u001b[0m | \u001b[36mutils.validation\u001b[0m:\u001b[36mcross_validate\u001b[0m:\u001b[36m79\u001b[0m - \u001b[1mStarting evaluation...\u001b[0m\n",
      "\u001b[32m2023-10-28 00:30:19.632\u001b[0m | \u001b[1mINFO    \u001b[0m | \u001b[36mutils.validation\u001b[0m:\u001b[36mcross_validate\u001b[0m:\u001b[36m80\u001b[0m - \u001b[1m==============================\u001b[0m\n",
      "\u001b[32m2023-10-28 00:30:29.411\u001b[0m | \u001b[1mINFO    \u001b[0m | \u001b[36mutils.validation\u001b[0m:\u001b[36mcross_validate\u001b[0m:\u001b[36m91\u001b[0m - \u001b[1mModel trained with seed 1847\u001b[0m\n",
      "\u001b[32m2023-10-28 00:31:18.855\u001b[0m | \u001b[1mINFO    \u001b[0m | \u001b[36mutils.validation\u001b[0m:\u001b[36mcross_validate\u001b[0m:\u001b[36m103\u001b[0m - \u001b[1mFold 1: 5.8469 (took 537.46s)\u001b[0m\n",
      "\u001b[32m2023-10-28 00:31:26.983\u001b[0m | \u001b[1mINFO    \u001b[0m | \u001b[36mutils.validation\u001b[0m:\u001b[36mcross_validate\u001b[0m:\u001b[36m91\u001b[0m - \u001b[1mModel trained with seed 404\u001b[0m\n",
      "\u001b[32m2023-10-28 00:38:08.552\u001b[0m | \u001b[1mINFO    \u001b[0m | \u001b[36mutils.validation\u001b[0m:\u001b[36mcross_validate\u001b[0m:\u001b[36m103\u001b[0m - \u001b[1mFold 2: 5.8486 (took 392.21s)\u001b[0m\n",
      "\u001b[32m2023-10-28 00:38:16.518\u001b[0m | \u001b[1mINFO    \u001b[0m | \u001b[36mutils.validation\u001b[0m:\u001b[36mcross_validate\u001b[0m:\u001b[36m91\u001b[0m - \u001b[1mModel trained with seed 7572\u001b[0m\n",
      "\u001b[32m2023-10-28 00:44:50.016\u001b[0m | \u001b[1mINFO    \u001b[0m | \u001b[36mutils.validation\u001b[0m:\u001b[36mcross_validate\u001b[0m:\u001b[36m103\u001b[0m - \u001b[1mFold 1: 5.8482 (took 838.18s)\u001b[0m\n",
      "\u001b[32m2023-10-28 00:44:57.825\u001b[0m | \u001b[1mINFO    \u001b[0m | \u001b[36mutils.validation\u001b[0m:\u001b[36mcross_validate\u001b[0m:\u001b[36m91\u001b[0m - \u001b[1mModel trained with seed 6643\u001b[0m\n",
      "\u001b[32m2023-10-28 00:45:10.351\u001b[0m | \u001b[1mINFO    \u001b[0m | \u001b[36mutils.validation\u001b[0m:\u001b[36mcross_validate\u001b[0m:\u001b[36m103\u001b[0m - \u001b[1mFold 3: 5.8462 (took 398.15s)\u001b[0m\n",
      "\u001b[32m2023-10-28 00:45:10.396\u001b[0m | \u001b[1mINFO    \u001b[0m | \u001b[36mutils.validation\u001b[0m:\u001b[36mcross_validate\u001b[0m:\u001b[36m110\u001b[0m - \u001b[1m------------------------------\u001b[0m\n",
      "\u001b[32m2023-10-28 00:45:10.403\u001b[0m | \u001b[32m\u001b[1mSUCCESS \u001b[0m | \u001b[36mutils.validation\u001b[0m:\u001b[36mcross_validate\u001b[0m:\u001b[36m111\u001b[0m - \u001b[32m\u001b[1mAverage MAE = 5.8472 ± 0.00\u001b[0m\n",
      "\u001b[32m2023-10-28 00:45:10.403\u001b[0m | \u001b[1mINFO    \u001b[0m | \u001b[36mutils.validation\u001b[0m:\u001b[36mcross_validate\u001b[0m:\u001b[36m112\u001b[0m - \u001b[1m==============================\u001b[0m\n",
      "Best trial: 1. Best value: 5.8472:   4%|▍         | 2/50 [23:05<9:42:22, 727.96s/it] \u001b[32m2023-10-28 00:45:11.685\u001b[0m | \u001b[1mINFO    \u001b[0m | \u001b[36mutils.validation\u001b[0m:\u001b[36mcross_validate\u001b[0m:\u001b[36m79\u001b[0m - \u001b[1mStarting evaluation...\u001b[0m\n",
      "\u001b[32m2023-10-28 00:45:11.685\u001b[0m | \u001b[1mINFO    \u001b[0m | \u001b[36mutils.validation\u001b[0m:\u001b[36mcross_validate\u001b[0m:\u001b[36m80\u001b[0m - \u001b[1m==============================\u001b[0m\n"
     ]
    },
    {
     "name": "stdout",
     "output_type": "stream",
     "text": [
      "[W 2023-10-28 00:45:11,552] The parameter 'num_leaves' in trial#4 is sampled independently by using `RandomSampler` instead of `CmaEsSampler` (optimization performance may be degraded). `CmaEsSampler` does not support dynamic search space or `CategoricalDistribution`. You can suppress this warning by setting `warn_independent_sampling` to `False` in the constructor of `CmaEsSampler`, if this independent sampling is intended behavior.\n"
     ]
    },
    {
     "name": "stderr",
     "output_type": "stream",
     "text": [
      "\u001b[32m2023-10-28 00:45:36.132\u001b[0m | \u001b[1mINFO    \u001b[0m | \u001b[36mutils.validation\u001b[0m:\u001b[36mcross_validate\u001b[0m:\u001b[36m91\u001b[0m - \u001b[1mModel trained with seed 1847\u001b[0m\n",
      "\u001b[32m2023-10-28 00:47:29.195\u001b[0m | \u001b[1mINFO    \u001b[0m | \u001b[36mutils.validation\u001b[0m:\u001b[36mcross_validate\u001b[0m:\u001b[36m103\u001b[0m - \u001b[1mFold 1: 5.8424 (took 1470.21s)\u001b[0m\n",
      "\u001b[32m2023-10-28 00:47:42.487\u001b[0m | \u001b[1mINFO    \u001b[0m | \u001b[36mutils.validation\u001b[0m:\u001b[36mcross_validate\u001b[0m:\u001b[36m91\u001b[0m - \u001b[1mModel trained with seed 404\u001b[0m\n",
      "\u001b[32m2023-10-28 00:50:56.531\u001b[0m | \u001b[1mINFO    \u001b[0m | \u001b[36mutils.validation\u001b[0m:\u001b[36mcross_validate\u001b[0m:\u001b[36m103\u001b[0m - \u001b[1mFold 1: 5.8511 (took 313.74s)\u001b[0m\n",
      "\u001b[32m2023-10-28 00:51:07.055\u001b[0m | \u001b[1mINFO    \u001b[0m | \u001b[36mutils.validation\u001b[0m:\u001b[36mcross_validate\u001b[0m:\u001b[36m91\u001b[0m - \u001b[1mModel trained with seed 7572\u001b[0m\n",
      "\u001b[32m2023-10-28 00:55:16.553\u001b[0m | \u001b[1mINFO    \u001b[0m | \u001b[36mutils.validation\u001b[0m:\u001b[36mcross_validate\u001b[0m:\u001b[36m103\u001b[0m - \u001b[1mFold 2: 5.8509 (took 243.51s)\u001b[0m\n",
      "\u001b[32m2023-10-28 00:55:26.838\u001b[0m | \u001b[1mINFO    \u001b[0m | \u001b[36mutils.validation\u001b[0m:\u001b[36mcross_validate\u001b[0m:\u001b[36m91\u001b[0m - \u001b[1mModel trained with seed 6643\u001b[0m\n",
      "\u001b[32m2023-10-28 00:59:30.095\u001b[0m | \u001b[1mINFO    \u001b[0m | \u001b[36mutils.validation\u001b[0m:\u001b[36mcross_validate\u001b[0m:\u001b[36m103\u001b[0m - \u001b[1mFold 3: 5.8508 (took 237.61s)\u001b[0m\n",
      "\u001b[32m2023-10-28 00:59:30.151\u001b[0m | \u001b[1mINFO    \u001b[0m | \u001b[36mutils.validation\u001b[0m:\u001b[36mcross_validate\u001b[0m:\u001b[36m110\u001b[0m - \u001b[1m------------------------------\u001b[0m\n",
      "\u001b[32m2023-10-28 00:59:30.158\u001b[0m | \u001b[32m\u001b[1mSUCCESS \u001b[0m | \u001b[36mutils.validation\u001b[0m:\u001b[36mcross_validate\u001b[0m:\u001b[36m111\u001b[0m - \u001b[32m\u001b[1mAverage MAE = 5.8509 ± 0.00\u001b[0m\n",
      "\u001b[32m2023-10-28 00:59:30.158\u001b[0m | \u001b[1mINFO    \u001b[0m | \u001b[36mutils.validation\u001b[0m:\u001b[36mcross_validate\u001b[0m:\u001b[36m112\u001b[0m - \u001b[1m==============================\u001b[0m\n",
      "Best trial: 1. Best value: 5.8472:   6%|▌         | 3/50 [37:24<10:17:10, 787.89s/it]\u001b[32m2023-10-28 00:59:30.816\u001b[0m | \u001b[1mINFO    \u001b[0m | \u001b[36mutils.validation\u001b[0m:\u001b[36mcross_validate\u001b[0m:\u001b[36m79\u001b[0m - \u001b[1mStarting evaluation...\u001b[0m\n",
      "\u001b[32m2023-10-28 00:59:30.816\u001b[0m | \u001b[1mINFO    \u001b[0m | \u001b[36mutils.validation\u001b[0m:\u001b[36mcross_validate\u001b[0m:\u001b[36m80\u001b[0m - \u001b[1m==============================\u001b[0m\n"
     ]
    },
    {
     "name": "stdout",
     "output_type": "stream",
     "text": [
      "[W 2023-10-28 00:59:30,716] The parameter 'num_leaves' in trial#5 is sampled independently by using `RandomSampler` instead of `CmaEsSampler` (optimization performance may be degraded). `CmaEsSampler` does not support dynamic search space or `CategoricalDistribution`. You can suppress this warning by setting `warn_independent_sampling` to `False` in the constructor of `CmaEsSampler`, if this independent sampling is intended behavior.\n"
     ]
    },
    {
     "name": "stderr",
     "output_type": "stream",
     "text": [
      "\u001b[32m2023-10-28 00:59:43.102\u001b[0m | \u001b[1mINFO    \u001b[0m | \u001b[36mutils.validation\u001b[0m:\u001b[36mcross_validate\u001b[0m:\u001b[36m91\u001b[0m - \u001b[1mModel trained with seed 1847\u001b[0m\n",
      "\u001b[32m2023-10-28 01:00:50.796\u001b[0m | \u001b[1mINFO    \u001b[0m | \u001b[36mutils.validation\u001b[0m:\u001b[36mcross_validate\u001b[0m:\u001b[36m103\u001b[0m - \u001b[1mFold 2: 5.8473 (took 930.91s)\u001b[0m\n",
      "\u001b[32m2023-10-28 01:01:01.071\u001b[0m | \u001b[1mINFO    \u001b[0m | \u001b[36mutils.validation\u001b[0m:\u001b[36mcross_validate\u001b[0m:\u001b[36m91\u001b[0m - \u001b[1mModel trained with seed 404\u001b[0m\n",
      "\u001b[32m2023-10-28 01:03:33.059\u001b[0m | \u001b[1mINFO    \u001b[0m | \u001b[36mutils.validation\u001b[0m:\u001b[36mcross_validate\u001b[0m:\u001b[36m103\u001b[0m - \u001b[1mFold 1: 5.8529 (took 225.81s)\u001b[0m\n",
      "\u001b[32m2023-10-28 01:03:43.516\u001b[0m | \u001b[1mINFO    \u001b[0m | \u001b[36mutils.validation\u001b[0m:\u001b[36mcross_validate\u001b[0m:\u001b[36m91\u001b[0m - \u001b[1mModel trained with seed 7572\u001b[0m\n",
      "\u001b[32m2023-10-28 01:07:16.645\u001b[0m | \u001b[1mINFO    \u001b[0m | \u001b[36mutils.validation\u001b[0m:\u001b[36mcross_validate\u001b[0m:\u001b[36m103\u001b[0m - \u001b[1mFold 2: 5.8496 (took 209.28s)\u001b[0m\n",
      "\u001b[32m2023-10-28 01:07:25.374\u001b[0m | \u001b[1mINFO    \u001b[0m | \u001b[36mutils.validation\u001b[0m:\u001b[36mcross_validate\u001b[0m:\u001b[36m91\u001b[0m - \u001b[1mModel trained with seed 6643\u001b[0m\n",
      "\u001b[32m2023-10-28 01:08:39.630\u001b[0m | \u001b[1mINFO    \u001b[0m | \u001b[36mutils.validation\u001b[0m:\u001b[36mcross_validate\u001b[0m:\u001b[36m103\u001b[0m - \u001b[1mFold 2: 5.8424 (took 1219.34s)\u001b[0m\n",
      "\u001b[32m2023-10-28 01:08:44.241\u001b[0m | \u001b[1mINFO    \u001b[0m | \u001b[36mutils.validation\u001b[0m:\u001b[36mcross_validate\u001b[0m:\u001b[36m91\u001b[0m - \u001b[1mModel trained with seed 9542\u001b[0m\n",
      "\u001b[32m2023-10-28 01:12:05.098\u001b[0m | \u001b[1mINFO    \u001b[0m | \u001b[36mutils.validation\u001b[0m:\u001b[36mcross_validate\u001b[0m:\u001b[36m103\u001b[0m - \u001b[1mFold 3: 5.8506 (took 273.23s)\u001b[0m\n",
      "\u001b[32m2023-10-28 01:12:05.152\u001b[0m | \u001b[1mINFO    \u001b[0m | \u001b[36mutils.validation\u001b[0m:\u001b[36mcross_validate\u001b[0m:\u001b[36m110\u001b[0m - \u001b[1m------------------------------\u001b[0m\n",
      "\u001b[32m2023-10-28 01:12:05.154\u001b[0m | \u001b[32m\u001b[1mSUCCESS \u001b[0m | \u001b[36mutils.validation\u001b[0m:\u001b[36mcross_validate\u001b[0m:\u001b[36m111\u001b[0m - \u001b[32m\u001b[1mAverage MAE = 5.8510 ± 0.00\u001b[0m\n",
      "\u001b[32m2023-10-28 01:12:05.154\u001b[0m | \u001b[1mINFO    \u001b[0m | \u001b[36mutils.validation\u001b[0m:\u001b[36mcross_validate\u001b[0m:\u001b[36m112\u001b[0m - \u001b[1m==============================\u001b[0m\n",
      "Best trial: 1. Best value: 5.8472:   8%|▊         | 4/50 [49:59<9:54:03, 774.86s/it] \u001b[32m2023-10-28 01:12:05.702\u001b[0m | \u001b[1mINFO    \u001b[0m | \u001b[36mutils.validation\u001b[0m:\u001b[36mcross_validate\u001b[0m:\u001b[36m79\u001b[0m - \u001b[1mStarting evaluation...\u001b[0m\n",
      "\u001b[32m2023-10-28 01:12:05.702\u001b[0m | \u001b[1mINFO    \u001b[0m | \u001b[36mutils.validation\u001b[0m:\u001b[36mcross_validate\u001b[0m:\u001b[36m80\u001b[0m - \u001b[1m==============================\u001b[0m\n"
     ]
    },
    {
     "name": "stdout",
     "output_type": "stream",
     "text": [
      "[W 2023-10-28 01:12:05,594] The parameter 'num_leaves' in trial#6 is sampled independently by using `RandomSampler` instead of `CmaEsSampler` (optimization performance may be degraded). `CmaEsSampler` does not support dynamic search space or `CategoricalDistribution`. You can suppress this warning by setting `warn_independent_sampling` to `False` in the constructor of `CmaEsSampler`, if this independent sampling is intended behavior.\n"
     ]
    },
    {
     "name": "stderr",
     "output_type": "stream",
     "text": [
      "\u001b[32m2023-10-28 01:12:19.502\u001b[0m | \u001b[1mINFO    \u001b[0m | \u001b[36mutils.validation\u001b[0m:\u001b[36mcross_validate\u001b[0m:\u001b[36m91\u001b[0m - \u001b[1mModel trained with seed 1847\u001b[0m\n",
      "\u001b[32m2023-10-28 01:13:42.696\u001b[0m | \u001b[1mINFO    \u001b[0m | \u001b[36mutils.validation\u001b[0m:\u001b[36mcross_validate\u001b[0m:\u001b[36m103\u001b[0m - \u001b[1mFold 3: 5.8491 (took 741.73s)\u001b[0m\n",
      "\u001b[32m2023-10-28 01:13:42.752\u001b[0m | \u001b[1mINFO    \u001b[0m | \u001b[36mutils.validation\u001b[0m:\u001b[36mcross_validate\u001b[0m:\u001b[36m110\u001b[0m - \u001b[1m------------------------------\u001b[0m\n",
      "\u001b[32m2023-10-28 01:13:42.752\u001b[0m | \u001b[32m\u001b[1mSUCCESS \u001b[0m | \u001b[36mutils.validation\u001b[0m:\u001b[36mcross_validate\u001b[0m:\u001b[36m111\u001b[0m - \u001b[32m\u001b[1mAverage MAE = 5.8482 ± 0.00\u001b[0m\n",
      "\u001b[32m2023-10-28 01:13:42.758\u001b[0m | \u001b[1mINFO    \u001b[0m | \u001b[36mutils.validation\u001b[0m:\u001b[36mcross_validate\u001b[0m:\u001b[36m112\u001b[0m - \u001b[1m==============================\u001b[0m\n",
      "Best trial: 1. Best value: 5.8472:  10%|█         | 5/50 [51:37<6:37:58, 530.64s/it]\u001b[32m2023-10-28 01:13:43.307\u001b[0m | \u001b[1mINFO    \u001b[0m | \u001b[36mutils.validation\u001b[0m:\u001b[36mcross_validate\u001b[0m:\u001b[36m79\u001b[0m - \u001b[1mStarting evaluation...\u001b[0m\n",
      "\u001b[32m2023-10-28 01:13:43.307\u001b[0m | \u001b[1mINFO    \u001b[0m | \u001b[36mutils.validation\u001b[0m:\u001b[36mcross_validate\u001b[0m:\u001b[36m80\u001b[0m - \u001b[1m==============================\u001b[0m\n"
     ]
    },
    {
     "name": "stdout",
     "output_type": "stream",
     "text": [
      "[W 2023-10-28 01:13:43,208] The parameter 'num_leaves' in trial#7 is sampled independently by using `RandomSampler` instead of `CmaEsSampler` (optimization performance may be degraded). `CmaEsSampler` does not support dynamic search space or `CategoricalDistribution`. You can suppress this warning by setting `warn_independent_sampling` to `False` in the constructor of `CmaEsSampler`, if this independent sampling is intended behavior.\n"
     ]
    },
    {
     "name": "stderr",
     "output_type": "stream",
     "text": [
      "\u001b[32m2023-10-28 01:13:55.495\u001b[0m | \u001b[1mINFO    \u001b[0m | \u001b[36mutils.validation\u001b[0m:\u001b[36mcross_validate\u001b[0m:\u001b[36m91\u001b[0m - \u001b[1mModel trained with seed 1847\u001b[0m\n",
      "\u001b[32m2023-10-28 01:19:16.299\u001b[0m | \u001b[1mINFO    \u001b[0m | \u001b[36mutils.validation\u001b[0m:\u001b[36mcross_validate\u001b[0m:\u001b[36m103\u001b[0m - \u001b[1mFold 1: 5.8469 (took 404.81s)\u001b[0m\n",
      "\u001b[32m2023-10-28 01:19:27.118\u001b[0m | \u001b[1mINFO    \u001b[0m | \u001b[36mutils.validation\u001b[0m:\u001b[36mcross_validate\u001b[0m:\u001b[36m91\u001b[0m - \u001b[1mModel trained with seed 404\u001b[0m\n",
      "\u001b[32m2023-10-28 01:21:38.042\u001b[0m | \u001b[1mINFO    \u001b[0m | \u001b[36mutils.validation\u001b[0m:\u001b[36mcross_validate\u001b[0m:\u001b[36m103\u001b[0m - \u001b[1mFold 1: 5.8492 (took 451.79s)\u001b[0m\n",
      "\u001b[32m2023-10-28 01:21:48.681\u001b[0m | \u001b[1mINFO    \u001b[0m | \u001b[36mutils.validation\u001b[0m:\u001b[36mcross_validate\u001b[0m:\u001b[36m91\u001b[0m - \u001b[1mModel trained with seed 7572\u001b[0m\n",
      "\u001b[32m2023-10-28 01:26:35.957\u001b[0m | \u001b[1mINFO    \u001b[0m | \u001b[36mutils.validation\u001b[0m:\u001b[36mcross_validate\u001b[0m:\u001b[36m103\u001b[0m - \u001b[1mFold 2: 5.8467 (took 415.72s)\u001b[0m\n",
      "\u001b[32m2023-10-28 01:26:46.617\u001b[0m | \u001b[1mINFO    \u001b[0m | \u001b[36mutils.validation\u001b[0m:\u001b[36mcross_validate\u001b[0m:\u001b[36m91\u001b[0m - \u001b[1mModel trained with seed 6643\u001b[0m\n",
      "\u001b[32m2023-10-28 01:27:46.915\u001b[0m | \u001b[1mINFO    \u001b[0m | \u001b[36mutils.validation\u001b[0m:\u001b[36mcross_validate\u001b[0m:\u001b[36m103\u001b[0m - \u001b[1mFold 3: 5.8434 (took 1111.93s)\u001b[0m\n",
      "\u001b[32m2023-10-28 01:27:46.915\u001b[0m | \u001b[1mINFO    \u001b[0m | \u001b[36mutils.validation\u001b[0m:\u001b[36mcross_validate\u001b[0m:\u001b[36m110\u001b[0m - \u001b[1m------------------------------\u001b[0m\n",
      "\u001b[32m2023-10-28 01:27:46.924\u001b[0m | \u001b[32m\u001b[1mSUCCESS \u001b[0m | \u001b[36mutils.validation\u001b[0m:\u001b[36mcross_validate\u001b[0m:\u001b[36m111\u001b[0m - \u001b[32m\u001b[1mAverage MAE = 5.8427 ± 0.00\u001b[0m\n",
      "\u001b[32m2023-10-28 01:27:46.927\u001b[0m | \u001b[1mINFO    \u001b[0m | \u001b[36mutils.validation\u001b[0m:\u001b[36mcross_validate\u001b[0m:\u001b[36m112\u001b[0m - \u001b[1m==============================\u001b[0m\n",
      "Best trial: 2. Best value: 5.84273:  12%|█▏        | 6/50 [1:05:41<7:47:23, 637.35s/it]\u001b[32m2023-10-28 01:27:47.847\u001b[0m | \u001b[1mINFO    \u001b[0m | \u001b[36mutils.validation\u001b[0m:\u001b[36mcross_validate\u001b[0m:\u001b[36m79\u001b[0m - \u001b[1mStarting evaluation...\u001b[0m\n",
      "\u001b[32m2023-10-28 01:27:47.847\u001b[0m | \u001b[1mINFO    \u001b[0m | \u001b[36mutils.validation\u001b[0m:\u001b[36mcross_validate\u001b[0m:\u001b[36m80\u001b[0m - \u001b[1m==============================\u001b[0m\n"
     ]
    },
    {
     "name": "stdout",
     "output_type": "stream",
     "text": [
      "[W 2023-10-28 01:27:47,720] The parameter 'num_leaves' in trial#8 is sampled independently by using `RandomSampler` instead of `CmaEsSampler` (optimization performance may be degraded). `CmaEsSampler` does not support dynamic search space or `CategoricalDistribution`. You can suppress this warning by setting `warn_independent_sampling` to `False` in the constructor of `CmaEsSampler`, if this independent sampling is intended behavior.\n"
     ]
    },
    {
     "name": "stderr",
     "output_type": "stream",
     "text": [
      "\u001b[32m2023-10-28 01:28:00.432\u001b[0m | \u001b[1mINFO    \u001b[0m | \u001b[36mutils.validation\u001b[0m:\u001b[36mcross_validate\u001b[0m:\u001b[36m91\u001b[0m - \u001b[1mModel trained with seed 1847\u001b[0m\n",
      "\u001b[32m2023-10-28 01:30:50.165\u001b[0m | \u001b[1mINFO    \u001b[0m | \u001b[36mutils.validation\u001b[0m:\u001b[36mcross_validate\u001b[0m:\u001b[36m103\u001b[0m - \u001b[1mFold 2: 5.8455 (took 527.29s)\u001b[0m\n",
      "\u001b[32m2023-10-28 01:31:01.095\u001b[0m | \u001b[1mINFO    \u001b[0m | \u001b[36mutils.validation\u001b[0m:\u001b[36mcross_validate\u001b[0m:\u001b[36m91\u001b[0m - \u001b[1mModel trained with seed 404\u001b[0m\n",
      "\u001b[32m2023-10-28 01:33:09.837\u001b[0m | \u001b[1mINFO    \u001b[0m | \u001b[36mutils.validation\u001b[0m:\u001b[36mcross_validate\u001b[0m:\u001b[36m103\u001b[0m - \u001b[1mFold 1: 5.8493 (took 303.80s)\u001b[0m\n",
      "\u001b[32m2023-10-28 01:33:20.518\u001b[0m | \u001b[1mINFO    \u001b[0m | \u001b[36mutils.validation\u001b[0m:\u001b[36mcross_validate\u001b[0m:\u001b[36m91\u001b[0m - \u001b[1mModel trained with seed 7572\u001b[0m\n",
      "\u001b[32m2023-10-28 01:33:47.677\u001b[0m | \u001b[1mINFO    \u001b[0m | \u001b[36mutils.validation\u001b[0m:\u001b[36mcross_validate\u001b[0m:\u001b[36m103\u001b[0m - \u001b[1mFold 3: 5.8483 (took 408.38s)\u001b[0m\n",
      "\u001b[32m2023-10-28 01:33:47.733\u001b[0m | \u001b[1mINFO    \u001b[0m | \u001b[36mutils.validation\u001b[0m:\u001b[36mcross_validate\u001b[0m:\u001b[36m110\u001b[0m - \u001b[1m------------------------------\u001b[0m\n",
      "\u001b[32m2023-10-28 01:33:47.739\u001b[0m | \u001b[32m\u001b[1mSUCCESS \u001b[0m | \u001b[36mutils.validation\u001b[0m:\u001b[36mcross_validate\u001b[0m:\u001b[36m111\u001b[0m - \u001b[32m\u001b[1mAverage MAE = 5.8473 ± 0.00\u001b[0m\n",
      "\u001b[32m2023-10-28 01:33:47.742\u001b[0m | \u001b[1mINFO    \u001b[0m | \u001b[36mutils.validation\u001b[0m:\u001b[36mcross_validate\u001b[0m:\u001b[36m112\u001b[0m - \u001b[1m==============================\u001b[0m\n",
      "Best trial: 2. Best value: 5.84273:  14%|█▍        | 7/50 [1:11:42<6:31:55, 546.86s/it]\u001b[32m2023-10-28 01:33:48.381\u001b[0m | \u001b[1mINFO    \u001b[0m | \u001b[36mutils.validation\u001b[0m:\u001b[36mcross_validate\u001b[0m:\u001b[36m79\u001b[0m - \u001b[1mStarting evaluation...\u001b[0m\n",
      "\u001b[32m2023-10-28 01:33:48.396\u001b[0m | \u001b[1mINFO    \u001b[0m | \u001b[36mutils.validation\u001b[0m:\u001b[36mcross_validate\u001b[0m:\u001b[36m80\u001b[0m - \u001b[1m==============================\u001b[0m\n"
     ]
    },
    {
     "name": "stdout",
     "output_type": "stream",
     "text": [
      "[W 2023-10-28 01:33:48,278] The parameter 'num_leaves' in trial#9 is sampled independently by using `RandomSampler` instead of `CmaEsSampler` (optimization performance may be degraded). `CmaEsSampler` does not support dynamic search space or `CategoricalDistribution`. You can suppress this warning by setting `warn_independent_sampling` to `False` in the constructor of `CmaEsSampler`, if this independent sampling is intended behavior.\n"
     ]
    },
    {
     "name": "stderr",
     "output_type": "stream",
     "text": [
      "\u001b[32m2023-10-28 01:34:01.869\u001b[0m | \u001b[1mINFO    \u001b[0m | \u001b[36mutils.validation\u001b[0m:\u001b[36mcross_validate\u001b[0m:\u001b[36m91\u001b[0m - \u001b[1mModel trained with seed 1847\u001b[0m\n",
      "\u001b[32m2023-10-28 01:39:00.872\u001b[0m | \u001b[1mINFO    \u001b[0m | \u001b[36mutils.validation\u001b[0m:\u001b[36mcross_validate\u001b[0m:\u001b[36m103\u001b[0m - \u001b[1mFold 3: 5.8458 (took 467.58s)\u001b[0m\n",
      "\u001b[32m2023-10-28 01:39:00.919\u001b[0m | \u001b[1mINFO    \u001b[0m | \u001b[36mutils.validation\u001b[0m:\u001b[36mcross_validate\u001b[0m:\u001b[36m110\u001b[0m - \u001b[1m------------------------------\u001b[0m\n",
      "\u001b[32m2023-10-28 01:39:00.929\u001b[0m | \u001b[32m\u001b[1mSUCCESS \u001b[0m | \u001b[36mutils.validation\u001b[0m:\u001b[36mcross_validate\u001b[0m:\u001b[36m111\u001b[0m - \u001b[32m\u001b[1mAverage MAE = 5.8469 ± 0.00\u001b[0m\n",
      "\u001b[32m2023-10-28 01:39:00.929\u001b[0m | \u001b[1mINFO    \u001b[0m | \u001b[36mutils.validation\u001b[0m:\u001b[36mcross_validate\u001b[0m:\u001b[36m112\u001b[0m - \u001b[1m==============================\u001b[0m\n",
      "Best trial: 2. Best value: 5.84273:  16%|█▌        | 8/50 [1:16:56<5:30:42, 472.44s/it]\u001b[32m2023-10-28 01:39:02.410\u001b[0m | \u001b[1mINFO    \u001b[0m | \u001b[36mutils.validation\u001b[0m:\u001b[36mcross_validate\u001b[0m:\u001b[36m79\u001b[0m - \u001b[1mStarting evaluation...\u001b[0m\n",
      "\u001b[32m2023-10-28 01:39:02.410\u001b[0m | \u001b[1mINFO    \u001b[0m | \u001b[36mutils.validation\u001b[0m:\u001b[36mcross_validate\u001b[0m:\u001b[36m80\u001b[0m - \u001b[1m==============================\u001b[0m\n"
     ]
    },
    {
     "name": "stdout",
     "output_type": "stream",
     "text": [
      "[W 2023-10-28 01:39:02,323] The parameter 'num_leaves' in trial#10 is sampled independently by using `RandomSampler` instead of `CmaEsSampler` (optimization performance may be degraded). `CmaEsSampler` does not support dynamic search space or `CategoricalDistribution`. You can suppress this warning by setting `warn_independent_sampling` to `False` in the constructor of `CmaEsSampler`, if this independent sampling is intended behavior.\n"
     ]
    },
    {
     "name": "stderr",
     "output_type": "stream",
     "text": [
      "\u001b[32m2023-10-28 01:39:15.675\u001b[0m | \u001b[1mINFO    \u001b[0m | \u001b[36mutils.validation\u001b[0m:\u001b[36mcross_validate\u001b[0m:\u001b[36m91\u001b[0m - \u001b[1mModel trained with seed 1847\u001b[0m\n",
      "\u001b[32m2023-10-28 01:39:21.432\u001b[0m | \u001b[1mINFO    \u001b[0m | \u001b[36mutils.validation\u001b[0m:\u001b[36mcross_validate\u001b[0m:\u001b[36m103\u001b[0m - \u001b[1mFold 2: 5.8462 (took 350.69s)\u001b[0m\n",
      "\u001b[32m2023-10-28 01:39:45.747\u001b[0m | \u001b[1mINFO    \u001b[0m | \u001b[36mutils.validation\u001b[0m:\u001b[36mcross_validate\u001b[0m:\u001b[36m91\u001b[0m - \u001b[1mModel trained with seed 404\u001b[0m\n",
      "\u001b[32m2023-10-28 01:45:44.190\u001b[0m | \u001b[1mINFO    \u001b[0m | \u001b[36mutils.validation\u001b[0m:\u001b[36mcross_validate\u001b[0m:\u001b[36m103\u001b[0m - \u001b[1mFold 3: 5.8488 (took 351.80s)\u001b[0m\n",
      "\u001b[32m2023-10-28 01:45:44.231\u001b[0m | \u001b[1mINFO    \u001b[0m | \u001b[36mutils.validation\u001b[0m:\u001b[36mcross_validate\u001b[0m:\u001b[36m110\u001b[0m - \u001b[1m------------------------------\u001b[0m\n",
      "\u001b[32m2023-10-28 01:45:44.237\u001b[0m | \u001b[32m\u001b[1mSUCCESS \u001b[0m | \u001b[36mutils.validation\u001b[0m:\u001b[36mcross_validate\u001b[0m:\u001b[36m111\u001b[0m - \u001b[32m\u001b[1mAverage MAE = 5.8481 ± 0.00\u001b[0m\n",
      "\u001b[32m2023-10-28 01:45:44.237\u001b[0m | \u001b[1mINFO    \u001b[0m | \u001b[36mutils.validation\u001b[0m:\u001b[36mcross_validate\u001b[0m:\u001b[36m112\u001b[0m - \u001b[1m==============================\u001b[0m\n",
      "Best trial: 2. Best value: 5.84273:  18%|█▊        | 9/50 [1:23:39<5:08:04, 450.85s/it]\u001b[32m2023-10-28 01:45:44.905\u001b[0m | \u001b[1mINFO    \u001b[0m | \u001b[36mutils.validation\u001b[0m:\u001b[36mcross_validate\u001b[0m:\u001b[36m79\u001b[0m - \u001b[1mStarting evaluation...\u001b[0m\n",
      "\u001b[32m2023-10-28 01:45:44.912\u001b[0m | \u001b[1mINFO    \u001b[0m | \u001b[36mutils.validation\u001b[0m:\u001b[36mcross_validate\u001b[0m:\u001b[36m80\u001b[0m - \u001b[1m==============================\u001b[0m\n"
     ]
    },
    {
     "name": "stdout",
     "output_type": "stream",
     "text": [
      "[W 2023-10-28 01:45:44,801] The parameter 'num_leaves' in trial#11 is sampled independently by using `RandomSampler` instead of `CmaEsSampler` (optimization performance may be degraded). `CmaEsSampler` does not support dynamic search space or `CategoricalDistribution`. You can suppress this warning by setting `warn_independent_sampling` to `False` in the constructor of `CmaEsSampler`, if this independent sampling is intended behavior.\n"
     ]
    },
    {
     "name": "stderr",
     "output_type": "stream",
     "text": [
      "\u001b[32m2023-10-28 01:45:58.036\u001b[0m | \u001b[1mINFO    \u001b[0m | \u001b[36mutils.validation\u001b[0m:\u001b[36mcross_validate\u001b[0m:\u001b[36m91\u001b[0m - \u001b[1mModel trained with seed 1847\u001b[0m\n",
      "\u001b[32m2023-10-28 01:46:19.259\u001b[0m | \u001b[1mINFO    \u001b[0m | \u001b[36mutils.validation\u001b[0m:\u001b[36mcross_validate\u001b[0m:\u001b[36m103\u001b[0m - \u001b[1mFold 1: 5.8430 (took 712.46s)\u001b[0m\n",
      "\u001b[32m2023-10-28 01:46:34.681\u001b[0m | \u001b[1mINFO    \u001b[0m | \u001b[36mutils.validation\u001b[0m:\u001b[36mcross_validate\u001b[0m:\u001b[36m91\u001b[0m - \u001b[1mModel trained with seed 404\u001b[0m\n",
      "\u001b[32m2023-10-28 01:48:26.640\u001b[0m | \u001b[1mINFO    \u001b[0m | \u001b[36mutils.validation\u001b[0m:\u001b[36mcross_validate\u001b[0m:\u001b[36m103\u001b[0m - \u001b[1mFold 1: 5.8548 (took 146.72s)\u001b[0m\n",
      "\u001b[32m2023-10-28 01:48:38.293\u001b[0m | \u001b[1mINFO    \u001b[0m | \u001b[36mutils.validation\u001b[0m:\u001b[36mcross_validate\u001b[0m:\u001b[36m91\u001b[0m - \u001b[1mModel trained with seed 7572\u001b[0m\n",
      "\u001b[32m2023-10-28 01:51:05.695\u001b[0m | \u001b[1mINFO    \u001b[0m | \u001b[36mutils.validation\u001b[0m:\u001b[36mcross_validate\u001b[0m:\u001b[36m103\u001b[0m - \u001b[1mFold 2: 5.8603 (took 145.30s)\u001b[0m\n",
      "\u001b[32m2023-10-28 01:51:16.341\u001b[0m | \u001b[1mINFO    \u001b[0m | \u001b[36mutils.validation\u001b[0m:\u001b[36mcross_validate\u001b[0m:\u001b[36m91\u001b[0m - \u001b[1mModel trained with seed 6643\u001b[0m\n",
      "\u001b[32m2023-10-28 01:53:43.867\u001b[0m | \u001b[1mINFO    \u001b[0m | \u001b[36mutils.validation\u001b[0m:\u001b[36mcross_validate\u001b[0m:\u001b[36m103\u001b[0m - \u001b[1mFold 3: 5.8560 (took 145.54s)\u001b[0m\n",
      "\u001b[32m2023-10-28 01:53:43.908\u001b[0m | \u001b[1mINFO    \u001b[0m | \u001b[36mutils.validation\u001b[0m:\u001b[36mcross_validate\u001b[0m:\u001b[36m110\u001b[0m - \u001b[1m------------------------------\u001b[0m\n",
      "\u001b[32m2023-10-28 01:53:43.914\u001b[0m | \u001b[32m\u001b[1mSUCCESS \u001b[0m | \u001b[36mutils.validation\u001b[0m:\u001b[36mcross_validate\u001b[0m:\u001b[36m111\u001b[0m - \u001b[32m\u001b[1mAverage MAE = 5.8570 ± 0.00\u001b[0m\n",
      "\u001b[32m2023-10-28 01:53:43.917\u001b[0m | \u001b[1mINFO    \u001b[0m | \u001b[36mutils.validation\u001b[0m:\u001b[36mcross_validate\u001b[0m:\u001b[36m112\u001b[0m - \u001b[1m==============================\u001b[0m\n",
      "Best trial: 2. Best value: 5.84273:  20%|██        | 10/50 [1:31:38<5:06:29, 459.74s/it]\u001b[32m2023-10-28 01:53:44.492\u001b[0m | \u001b[1mINFO    \u001b[0m | \u001b[36mutils.validation\u001b[0m:\u001b[36mcross_validate\u001b[0m:\u001b[36m79\u001b[0m - \u001b[1mStarting evaluation...\u001b[0m\n",
      "\u001b[32m2023-10-28 01:53:44.492\u001b[0m | \u001b[1mINFO    \u001b[0m | \u001b[36mutils.validation\u001b[0m:\u001b[36mcross_validate\u001b[0m:\u001b[36m80\u001b[0m - \u001b[1m==============================\u001b[0m\n"
     ]
    },
    {
     "name": "stdout",
     "output_type": "stream",
     "text": [
      "[W 2023-10-28 01:53:44,380] The parameter 'num_leaves' in trial#12 is sampled independently by using `RandomSampler` instead of `CmaEsSampler` (optimization performance may be degraded). `CmaEsSampler` does not support dynamic search space or `CategoricalDistribution`. You can suppress this warning by setting `warn_independent_sampling` to `False` in the constructor of `CmaEsSampler`, if this independent sampling is intended behavior.\n"
     ]
    },
    {
     "name": "stderr",
     "output_type": "stream",
     "text": [
      "\u001b[32m2023-10-28 01:53:53.262\u001b[0m | \u001b[1mINFO    \u001b[0m | \u001b[36mutils.validation\u001b[0m:\u001b[36mcross_validate\u001b[0m:\u001b[36m91\u001b[0m - \u001b[1mModel trained with seed 1847\u001b[0m\n",
      "\u001b[32m2023-10-28 02:00:58.493\u001b[0m | \u001b[1mINFO    \u001b[0m | \u001b[36mutils.validation\u001b[0m:\u001b[36mcross_validate\u001b[0m:\u001b[36m103\u001b[0m - \u001b[1mFold 2: 5.8420 (took 832.83s)\u001b[0m\n",
      "\u001b[32m2023-10-28 02:01:04.158\u001b[0m | \u001b[1mINFO    \u001b[0m | \u001b[36mutils.validation\u001b[0m:\u001b[36mcross_validate\u001b[0m:\u001b[36m103\u001b[0m - \u001b[1mFold 1: 5.8451 (took 418.82s)\u001b[0m\n",
      "\u001b[32m2023-10-28 02:01:05.259\u001b[0m | \u001b[1mINFO    \u001b[0m | \u001b[36mutils.validation\u001b[0m:\u001b[36mcross_validate\u001b[0m:\u001b[36m91\u001b[0m - \u001b[1mModel trained with seed 404\u001b[0m\n",
      "\u001b[32m2023-10-28 02:01:16.114\u001b[0m | \u001b[1mINFO    \u001b[0m | \u001b[36mutils.validation\u001b[0m:\u001b[36mcross_validate\u001b[0m:\u001b[36m91\u001b[0m - \u001b[1mModel trained with seed 7572\u001b[0m\n",
      "\u001b[32m2023-10-28 02:03:59.373\u001b[0m | \u001b[1mINFO    \u001b[0m | \u001b[36mutils.validation\u001b[0m:\u001b[36mcross_validate\u001b[0m:\u001b[36m103\u001b[0m - \u001b[1mFold 1: 5.8431 (took 1428.22s)\u001b[0m\n",
      "\u001b[32m2023-10-28 02:04:12.227\u001b[0m | \u001b[1mINFO    \u001b[0m | \u001b[36mutils.validation\u001b[0m:\u001b[36mcross_validate\u001b[0m:\u001b[36m91\u001b[0m - \u001b[1mModel trained with seed 6643\u001b[0m\n",
      "\u001b[32m2023-10-28 02:10:52.817\u001b[0m | \u001b[1mINFO    \u001b[0m | \u001b[36mutils.validation\u001b[0m:\u001b[36mcross_validate\u001b[0m:\u001b[36m103\u001b[0m - \u001b[1mFold 2: 5.8454 (took 561.51s)\u001b[0m\n",
      "\u001b[32m2023-10-28 02:11:02.329\u001b[0m | \u001b[1mINFO    \u001b[0m | \u001b[36mutils.validation\u001b[0m:\u001b[36mcross_validate\u001b[0m:\u001b[36m91\u001b[0m - \u001b[1mModel trained with seed 9542\u001b[0m\n",
      "\u001b[32m2023-10-28 02:16:45.218\u001b[0m | \u001b[1mINFO    \u001b[0m | \u001b[36mutils.validation\u001b[0m:\u001b[36mcross_validate\u001b[0m:\u001b[36m103\u001b[0m - \u001b[1mFold 3: 5.8420 (took 909.51s)\u001b[0m\n",
      "\u001b[32m2023-10-28 02:16:45.218\u001b[0m | \u001b[1mINFO    \u001b[0m | \u001b[36mutils.validation\u001b[0m:\u001b[36mcross_validate\u001b[0m:\u001b[36m110\u001b[0m - \u001b[1m------------------------------\u001b[0m\n",
      "\u001b[32m2023-10-28 02:16:45.218\u001b[0m | \u001b[32m\u001b[1mSUCCESS \u001b[0m | \u001b[36mutils.validation\u001b[0m:\u001b[36mcross_validate\u001b[0m:\u001b[36m111\u001b[0m - \u001b[32m\u001b[1mAverage MAE = 5.8423 ± 0.00\u001b[0m\n",
      "\u001b[32m2023-10-28 02:16:45.225\u001b[0m | \u001b[1mINFO    \u001b[0m | \u001b[36mutils.validation\u001b[0m:\u001b[36mcross_validate\u001b[0m:\u001b[36m112\u001b[0m - \u001b[1m==============================\u001b[0m\n",
      "Best trial: 9. Best value: 5.84232:  22%|██▏       | 11/50 [1:54:40<8:02:11, 741.82s/it]\u001b[32m2023-10-28 02:16:45.900\u001b[0m | \u001b[1mINFO    \u001b[0m | \u001b[36mutils.validation\u001b[0m:\u001b[36mcross_validate\u001b[0m:\u001b[36m79\u001b[0m - \u001b[1mStarting evaluation...\u001b[0m\n",
      "\u001b[32m2023-10-28 02:16:45.900\u001b[0m | \u001b[1mINFO    \u001b[0m | \u001b[36mutils.validation\u001b[0m:\u001b[36mcross_validate\u001b[0m:\u001b[36m80\u001b[0m - \u001b[1m==============================\u001b[0m\n"
     ]
    },
    {
     "name": "stdout",
     "output_type": "stream",
     "text": [
      "[W 2023-10-28 02:16:45,792] The parameter 'num_leaves' in trial#13 is sampled independently by using `RandomSampler` instead of `CmaEsSampler` (optimization performance may be degraded). `CmaEsSampler` does not support dynamic search space or `CategoricalDistribution`. You can suppress this warning by setting `warn_independent_sampling` to `False` in the constructor of `CmaEsSampler`, if this independent sampling is intended behavior.\n"
     ]
    },
    {
     "name": "stderr",
     "output_type": "stream",
     "text": [
      "\u001b[32m2023-10-28 02:16:58.739\u001b[0m | \u001b[1mINFO    \u001b[0m | \u001b[36mutils.validation\u001b[0m:\u001b[36mcross_validate\u001b[0m:\u001b[36m91\u001b[0m - \u001b[1mModel trained with seed 1847\u001b[0m\n",
      "\u001b[32m2023-10-28 02:19:23.350\u001b[0m | \u001b[1mINFO    \u001b[0m | \u001b[36mutils.validation\u001b[0m:\u001b[36mcross_validate\u001b[0m:\u001b[36m103\u001b[0m - \u001b[1mFold 3: 5.8437 (took 486.02s)\u001b[0m\n",
      "\u001b[32m2023-10-28 02:19:23.398\u001b[0m | \u001b[1mINFO    \u001b[0m | \u001b[36mutils.validation\u001b[0m:\u001b[36mcross_validate\u001b[0m:\u001b[36m110\u001b[0m - \u001b[1m------------------------------\u001b[0m\n",
      "\u001b[32m2023-10-28 02:19:23.404\u001b[0m | \u001b[32m\u001b[1mSUCCESS \u001b[0m | \u001b[36mutils.validation\u001b[0m:\u001b[36mcross_validate\u001b[0m:\u001b[36m111\u001b[0m - \u001b[32m\u001b[1mAverage MAE = 5.8447 ± 0.00\u001b[0m\n",
      "\u001b[32m2023-10-28 02:19:23.405\u001b[0m | \u001b[1mINFO    \u001b[0m | \u001b[36mutils.validation\u001b[0m:\u001b[36mcross_validate\u001b[0m:\u001b[36m112\u001b[0m - \u001b[1m==============================\u001b[0m\n",
      "Best trial: 9. Best value: 5.84232:  24%|██▍       | 12/50 [1:57:17<5:57:19, 564.20s/it]\u001b[32m2023-10-28 02:19:23.857\u001b[0m | \u001b[1mINFO    \u001b[0m | \u001b[36mutils.validation\u001b[0m:\u001b[36mcross_validate\u001b[0m:\u001b[36m79\u001b[0m - \u001b[1mStarting evaluation...\u001b[0m\n",
      "\u001b[32m2023-10-28 02:19:23.857\u001b[0m | \u001b[1mINFO    \u001b[0m | \u001b[36mutils.validation\u001b[0m:\u001b[36mcross_validate\u001b[0m:\u001b[36m80\u001b[0m - \u001b[1m==============================\u001b[0m\n"
     ]
    },
    {
     "name": "stdout",
     "output_type": "stream",
     "text": [
      "[W 2023-10-28 02:19:23,750] The parameter 'num_leaves' in trial#14 is sampled independently by using `RandomSampler` instead of `CmaEsSampler` (optimization performance may be degraded). `CmaEsSampler` does not support dynamic search space or `CategoricalDistribution`. You can suppress this warning by setting `warn_independent_sampling` to `False` in the constructor of `CmaEsSampler`, if this independent sampling is intended behavior.\n"
     ]
    },
    {
     "name": "stderr",
     "output_type": "stream",
     "text": [
      "\u001b[32m2023-10-28 02:19:36.279\u001b[0m | \u001b[1mINFO    \u001b[0m | \u001b[36mutils.validation\u001b[0m:\u001b[36mcross_validate\u001b[0m:\u001b[36m91\u001b[0m - \u001b[1mModel trained with seed 1847\u001b[0m\n",
      "\u001b[32m2023-10-28 02:21:33.398\u001b[0m | \u001b[1mINFO    \u001b[0m | \u001b[36mutils.validation\u001b[0m:\u001b[36mcross_validate\u001b[0m:\u001b[36m103\u001b[0m - \u001b[1mFold 1: 5.8469 (took 268.45s)\u001b[0m\n",
      "\u001b[32m2023-10-28 02:21:42.270\u001b[0m | \u001b[1mINFO    \u001b[0m | \u001b[36mutils.validation\u001b[0m:\u001b[36mcross_validate\u001b[0m:\u001b[36m91\u001b[0m - \u001b[1mModel trained with seed 404\u001b[0m\n",
      "\u001b[32m2023-10-28 02:26:38.279\u001b[0m | \u001b[1mINFO    \u001b[0m | \u001b[36mutils.validation\u001b[0m:\u001b[36mcross_validate\u001b[0m:\u001b[36m103\u001b[0m - \u001b[1mFold 2: 5.8471 (took 289.13s)\u001b[0m\n",
      "\u001b[32m2023-10-28 02:26:45.879\u001b[0m | \u001b[1mINFO    \u001b[0m | \u001b[36mutils.validation\u001b[0m:\u001b[36mcross_validate\u001b[0m:\u001b[36m91\u001b[0m - \u001b[1mModel trained with seed 7572\u001b[0m\n",
      "\u001b[32m2023-10-28 02:26:51.081\u001b[0m | \u001b[1mINFO    \u001b[0m | \u001b[36mutils.validation\u001b[0m:\u001b[36mcross_validate\u001b[0m:\u001b[36m103\u001b[0m - \u001b[1mFold 2: 5.8439 (took 1302.75s)\u001b[0m\n",
      "\u001b[32m2023-10-28 02:27:09.209\u001b[0m | \u001b[1mINFO    \u001b[0m | \u001b[36mutils.validation\u001b[0m:\u001b[36mcross_validate\u001b[0m:\u001b[36m91\u001b[0m - \u001b[1mModel trained with seed 6643\u001b[0m\n",
      "\u001b[32m2023-10-28 02:32:50.732\u001b[0m | \u001b[1mINFO    \u001b[0m | \u001b[36mutils.validation\u001b[0m:\u001b[36mcross_validate\u001b[0m:\u001b[36m103\u001b[0m - \u001b[1mFold 3: 5.8468 (took 358.00s)\u001b[0m\n",
      "\u001b[32m2023-10-28 02:32:50.783\u001b[0m | \u001b[1mINFO    \u001b[0m | \u001b[36mutils.validation\u001b[0m:\u001b[36mcross_validate\u001b[0m:\u001b[36m110\u001b[0m - \u001b[1m------------------------------\u001b[0m\n",
      "\u001b[32m2023-10-28 02:32:50.792\u001b[0m | \u001b[32m\u001b[1mSUCCESS \u001b[0m | \u001b[36mutils.validation\u001b[0m:\u001b[36mcross_validate\u001b[0m:\u001b[36m111\u001b[0m - \u001b[32m\u001b[1mAverage MAE = 5.8469 ± 0.00\u001b[0m\n",
      "\u001b[32m2023-10-28 02:32:50.796\u001b[0m | \u001b[1mINFO    \u001b[0m | \u001b[36mutils.validation\u001b[0m:\u001b[36mcross_validate\u001b[0m:\u001b[36m112\u001b[0m - \u001b[1m==============================\u001b[0m\n",
      "Best trial: 9. Best value: 5.84232:  26%|██▌       | 13/50 [2:10:45<6:33:24, 637.97s/it]\u001b[32m2023-10-28 02:32:51.630\u001b[0m | \u001b[1mINFO    \u001b[0m | \u001b[36mutils.validation\u001b[0m:\u001b[36mcross_validate\u001b[0m:\u001b[36m79\u001b[0m - \u001b[1mStarting evaluation...\u001b[0m\n",
      "\u001b[32m2023-10-28 02:32:51.630\u001b[0m | \u001b[1mINFO    \u001b[0m | \u001b[36mutils.validation\u001b[0m:\u001b[36mcross_validate\u001b[0m:\u001b[36m80\u001b[0m - \u001b[1m==============================\u001b[0m\n"
     ]
    },
    {
     "name": "stdout",
     "output_type": "stream",
     "text": [
      "[W 2023-10-28 02:32:51,522] The parameter 'num_leaves' in trial#15 is sampled independently by using `RandomSampler` instead of `CmaEsSampler` (optimization performance may be degraded). `CmaEsSampler` does not support dynamic search space or `CategoricalDistribution`. You can suppress this warning by setting `warn_independent_sampling` to `False` in the constructor of `CmaEsSampler`, if this independent sampling is intended behavior.\n"
     ]
    },
    {
     "name": "stderr",
     "output_type": "stream",
     "text": [
      "\u001b[32m2023-10-28 02:33:05.226\u001b[0m | \u001b[1mINFO    \u001b[0m | \u001b[36mutils.validation\u001b[0m:\u001b[36mcross_validate\u001b[0m:\u001b[36m91\u001b[0m - \u001b[1mModel trained with seed 1847\u001b[0m\n",
      "\u001b[32m2023-10-28 02:34:07.894\u001b[0m | \u001b[1mINFO    \u001b[0m | \u001b[36mutils.validation\u001b[0m:\u001b[36mcross_validate\u001b[0m:\u001b[36m103\u001b[0m - \u001b[1mFold 1: 5.8422 (took 844.05s)\u001b[0m\n",
      "\u001b[32m2023-10-28 02:34:17.907\u001b[0m | \u001b[1mINFO    \u001b[0m | \u001b[36mutils.validation\u001b[0m:\u001b[36mcross_validate\u001b[0m:\u001b[36m91\u001b[0m - \u001b[1mModel trained with seed 404\u001b[0m\n",
      "\u001b[32m2023-10-28 02:41:15.385\u001b[0m | \u001b[1mINFO    \u001b[0m | \u001b[36mutils.validation\u001b[0m:\u001b[36mcross_validate\u001b[0m:\u001b[36m103\u001b[0m - \u001b[1mFold 1: 5.8443 (took 477.98s)\u001b[0m\n",
      "\u001b[32m2023-10-28 02:41:26.170\u001b[0m | \u001b[1mINFO    \u001b[0m | \u001b[36mutils.validation\u001b[0m:\u001b[36mcross_validate\u001b[0m:\u001b[36m91\u001b[0m - \u001b[1mModel trained with seed 7572\u001b[0m\n",
      "\u001b[32m2023-10-28 02:47:53.613\u001b[0m | \u001b[1mINFO    \u001b[0m | \u001b[36mutils.validation\u001b[0m:\u001b[36mcross_validate\u001b[0m:\u001b[36m103\u001b[0m - \u001b[1mFold 2: 5.8428 (took 789.56s)\u001b[0m\n",
      "\u001b[32m2023-10-28 02:48:03.192\u001b[0m | \u001b[1mINFO    \u001b[0m | \u001b[36mutils.validation\u001b[0m:\u001b[36mcross_validate\u001b[0m:\u001b[36m91\u001b[0m - \u001b[1mModel trained with seed 6643\u001b[0m\n",
      "\u001b[32m2023-10-28 02:49:40.361\u001b[0m | \u001b[1mINFO    \u001b[0m | \u001b[36mutils.validation\u001b[0m:\u001b[36mcross_validate\u001b[0m:\u001b[36m103\u001b[0m - \u001b[1mFold 2: 5.8449 (took 481.64s)\u001b[0m\n",
      "\u001b[32m2023-10-28 02:49:52.784\u001b[0m | \u001b[1mINFO    \u001b[0m | \u001b[36mutils.validation\u001b[0m:\u001b[36mcross_validate\u001b[0m:\u001b[36m91\u001b[0m - \u001b[1mModel trained with seed 9542\u001b[0m\n",
      "\u001b[32m2023-10-28 02:50:47.413\u001b[0m | \u001b[1mINFO    \u001b[0m | \u001b[36mutils.validation\u001b[0m:\u001b[36mcross_validate\u001b[0m:\u001b[36m103\u001b[0m - \u001b[1mFold 3: 5.8439 (took 1357.02s)\u001b[0m\n",
      "\u001b[32m2023-10-28 02:50:47.467\u001b[0m | \u001b[1mINFO    \u001b[0m | \u001b[36mutils.validation\u001b[0m:\u001b[36mcross_validate\u001b[0m:\u001b[36m110\u001b[0m - \u001b[1m------------------------------\u001b[0m\n",
      "\u001b[32m2023-10-28 02:50:47.474\u001b[0m | \u001b[32m\u001b[1mSUCCESS \u001b[0m | \u001b[36mutils.validation\u001b[0m:\u001b[36mcross_validate\u001b[0m:\u001b[36m111\u001b[0m - \u001b[32m\u001b[1mAverage MAE = 5.8437 ± 0.00\u001b[0m\n",
      "\u001b[32m2023-10-28 02:50:47.475\u001b[0m | \u001b[1mINFO    \u001b[0m | \u001b[36mutils.validation\u001b[0m:\u001b[36mcross_validate\u001b[0m:\u001b[36m112\u001b[0m - \u001b[1m==============================\u001b[0m\n",
      "Best trial: 9. Best value: 5.84232:  28%|██▊       | 14/50 [2:28:42<7:42:17, 770.48s/it]\u001b[32m2023-10-28 02:50:48.295\u001b[0m | \u001b[1mINFO    \u001b[0m | \u001b[36mutils.validation\u001b[0m:\u001b[36mcross_validate\u001b[0m:\u001b[36m79\u001b[0m - \u001b[1mStarting evaluation...\u001b[0m\n",
      "\u001b[32m2023-10-28 02:50:48.295\u001b[0m | \u001b[1mINFO    \u001b[0m | \u001b[36mutils.validation\u001b[0m:\u001b[36mcross_validate\u001b[0m:\u001b[36m80\u001b[0m - \u001b[1m==============================\u001b[0m\n"
     ]
    },
    {
     "name": "stdout",
     "output_type": "stream",
     "text": [
      "[W 2023-10-28 02:50:48,174] The parameter 'num_leaves' in trial#16 is sampled independently by using `RandomSampler` instead of `CmaEsSampler` (optimization performance may be degraded). `CmaEsSampler` does not support dynamic search space or `CategoricalDistribution`. You can suppress this warning by setting `warn_independent_sampling` to `False` in the constructor of `CmaEsSampler`, if this independent sampling is intended behavior.\n"
     ]
    },
    {
     "name": "stderr",
     "output_type": "stream",
     "text": [
      "\u001b[32m2023-10-28 02:51:01.411\u001b[0m | \u001b[1mINFO    \u001b[0m | \u001b[36mutils.validation\u001b[0m:\u001b[36mcross_validate\u001b[0m:\u001b[36m91\u001b[0m - \u001b[1mModel trained with seed 1847\u001b[0m\n",
      "\u001b[32m2023-10-28 02:59:16.733\u001b[0m | \u001b[1mINFO    \u001b[0m | \u001b[36mutils.validation\u001b[0m:\u001b[36mcross_validate\u001b[0m:\u001b[36m103\u001b[0m - \u001b[1mFold 3: 5.8449 (took 547.94s)\u001b[0m\n",
      "\u001b[32m2023-10-28 02:59:16.782\u001b[0m | \u001b[1mINFO    \u001b[0m | \u001b[36mutils.validation\u001b[0m:\u001b[36mcross_validate\u001b[0m:\u001b[36m110\u001b[0m - \u001b[1m------------------------------\u001b[0m\n",
      "\u001b[32m2023-10-28 02:59:16.788\u001b[0m | \u001b[32m\u001b[1mSUCCESS \u001b[0m | \u001b[36mutils.validation\u001b[0m:\u001b[36mcross_validate\u001b[0m:\u001b[36m111\u001b[0m - \u001b[32m\u001b[1mAverage MAE = 5.8447 ± 0.00\u001b[0m\n",
      "\u001b[32m2023-10-28 02:59:16.790\u001b[0m | \u001b[1mINFO    \u001b[0m | \u001b[36mutils.validation\u001b[0m:\u001b[36mcross_validate\u001b[0m:\u001b[36m112\u001b[0m - \u001b[1m==============================\u001b[0m\n",
      "Best trial: 9. Best value: 5.84232:  30%|███       | 15/50 [2:37:11<6:43:28, 691.68s/it]\u001b[32m2023-10-28 02:59:17.298\u001b[0m | \u001b[1mINFO    \u001b[0m | \u001b[36mutils.validation\u001b[0m:\u001b[36mcross_validate\u001b[0m:\u001b[36m79\u001b[0m - \u001b[1mStarting evaluation...\u001b[0m\n",
      "\u001b[32m2023-10-28 02:59:17.298\u001b[0m | \u001b[1mINFO    \u001b[0m | \u001b[36mutils.validation\u001b[0m:\u001b[36mcross_validate\u001b[0m:\u001b[36m80\u001b[0m - \u001b[1m==============================\u001b[0m\n"
     ]
    },
    {
     "name": "stdout",
     "output_type": "stream",
     "text": [
      "[W 2023-10-28 02:59:17,209] The parameter 'num_leaves' in trial#17 is sampled independently by using `RandomSampler` instead of `CmaEsSampler` (optimization performance may be degraded). `CmaEsSampler` does not support dynamic search space or `CategoricalDistribution`. You can suppress this warning by setting `warn_independent_sampling` to `False` in the constructor of `CmaEsSampler`, if this independent sampling is intended behavior.\n"
     ]
    },
    {
     "name": "stderr",
     "output_type": "stream",
     "text": [
      "\u001b[32m2023-10-28 02:59:29.672\u001b[0m | \u001b[1mINFO    \u001b[0m | \u001b[36mutils.validation\u001b[0m:\u001b[36mcross_validate\u001b[0m:\u001b[36m91\u001b[0m - \u001b[1mModel trained with seed 1847\u001b[0m\n",
      "\u001b[32m2023-10-28 03:02:12.060\u001b[0m | \u001b[1mINFO    \u001b[0m | \u001b[36mutils.validation\u001b[0m:\u001b[36mcross_validate\u001b[0m:\u001b[36m103\u001b[0m - \u001b[1mFold 3: 5.8435 (took 821.29s)\u001b[0m\n",
      "\u001b[32m2023-10-28 03:02:12.115\u001b[0m | \u001b[1mINFO    \u001b[0m | \u001b[36mutils.validation\u001b[0m:\u001b[36mcross_validate\u001b[0m:\u001b[36m110\u001b[0m - \u001b[1m------------------------------\u001b[0m\n",
      "\u001b[32m2023-10-28 03:02:12.122\u001b[0m | \u001b[32m\u001b[1mSUCCESS \u001b[0m | \u001b[36mutils.validation\u001b[0m:\u001b[36mcross_validate\u001b[0m:\u001b[36m111\u001b[0m - \u001b[32m\u001b[1mAverage MAE = 5.8428 ± 0.00\u001b[0m\n",
      "\u001b[32m2023-10-28 03:02:12.124\u001b[0m | \u001b[1mINFO    \u001b[0m | \u001b[36mutils.validation\u001b[0m:\u001b[36mcross_validate\u001b[0m:\u001b[36m112\u001b[0m - \u001b[1m==============================\u001b[0m\n",
      "Best trial: 9. Best value: 5.84232:  32%|███▏      | 16/50 [2:40:06<5:03:53, 536.29s/it]\u001b[32m2023-10-28 03:02:12.767\u001b[0m | \u001b[1mINFO    \u001b[0m | \u001b[36mutils.validation\u001b[0m:\u001b[36mcross_validate\u001b[0m:\u001b[36m79\u001b[0m - \u001b[1mStarting evaluation...\u001b[0m\n",
      "\u001b[32m2023-10-28 03:02:12.767\u001b[0m | \u001b[1mINFO    \u001b[0m | \u001b[36mutils.validation\u001b[0m:\u001b[36mcross_validate\u001b[0m:\u001b[36m80\u001b[0m - \u001b[1m==============================\u001b[0m\n"
     ]
    },
    {
     "name": "stdout",
     "output_type": "stream",
     "text": [
      "[W 2023-10-28 03:02:12,663] The parameter 'num_leaves' in trial#18 is sampled independently by using `RandomSampler` instead of `CmaEsSampler` (optimization performance may be degraded). `CmaEsSampler` does not support dynamic search space or `CategoricalDistribution`. You can suppress this warning by setting `warn_independent_sampling` to `False` in the constructor of `CmaEsSampler`, if this independent sampling is intended behavior.\n"
     ]
    },
    {
     "name": "stderr",
     "output_type": "stream",
     "text": [
      "\u001b[32m2023-10-28 03:02:27.039\u001b[0m | \u001b[1mINFO    \u001b[0m | \u001b[36mutils.validation\u001b[0m:\u001b[36mcross_validate\u001b[0m:\u001b[36m91\u001b[0m - \u001b[1mModel trained with seed 1847\u001b[0m\n",
      "\u001b[32m2023-10-28 03:03:43.135\u001b[0m | \u001b[1mINFO    \u001b[0m | \u001b[36mutils.validation\u001b[0m:\u001b[36mcross_validate\u001b[0m:\u001b[36m103\u001b[0m - \u001b[1mFold 1: 5.8452 (took 737.07s)\u001b[0m\n",
      "\u001b[32m2023-10-28 03:03:53.634\u001b[0m | \u001b[1mINFO    \u001b[0m | \u001b[36mutils.validation\u001b[0m:\u001b[36mcross_validate\u001b[0m:\u001b[36m91\u001b[0m - \u001b[1mModel trained with seed 404\u001b[0m\n",
      "\u001b[32m2023-10-28 03:05:42.252\u001b[0m | \u001b[1mINFO    \u001b[0m | \u001b[36mutils.validation\u001b[0m:\u001b[36mcross_validate\u001b[0m:\u001b[36m103\u001b[0m - \u001b[1mFold 1: 5.8526 (took 191.59s)\u001b[0m\n",
      "\u001b[32m2023-10-28 03:05:53.567\u001b[0m | \u001b[1mINFO    \u001b[0m | \u001b[36mutils.validation\u001b[0m:\u001b[36mcross_validate\u001b[0m:\u001b[36m91\u001b[0m - \u001b[1mModel trained with seed 7572\u001b[0m\n",
      "\u001b[32m2023-10-28 03:07:26.905\u001b[0m | \u001b[1mINFO    \u001b[0m | \u001b[36mutils.validation\u001b[0m:\u001b[36mcross_validate\u001b[0m:\u001b[36m103\u001b[0m - \u001b[1mFold 1: 5.8536 (took 469.93s)\u001b[0m\n",
      "\u001b[32m2023-10-28 03:07:37.613\u001b[0m | \u001b[1mINFO    \u001b[0m | \u001b[36mutils.validation\u001b[0m:\u001b[36mcross_validate\u001b[0m:\u001b[36m91\u001b[0m - \u001b[1mModel trained with seed 6643\u001b[0m\n",
      "\u001b[32m2023-10-28 03:09:30.501\u001b[0m | \u001b[1mINFO    \u001b[0m | \u001b[36mutils.validation\u001b[0m:\u001b[36mcross_validate\u001b[0m:\u001b[36m103\u001b[0m - \u001b[1mFold 2: 5.8502 (took 212.30s)\u001b[0m\n",
      "\u001b[32m2023-10-28 03:09:41.481\u001b[0m | \u001b[1mINFO    \u001b[0m | \u001b[36mutils.validation\u001b[0m:\u001b[36mcross_validate\u001b[0m:\u001b[36m91\u001b[0m - \u001b[1mModel trained with seed 9542\u001b[0m\n",
      "\u001b[32m2023-10-28 03:13:09.868\u001b[0m | \u001b[1mINFO    \u001b[0m | \u001b[36mutils.validation\u001b[0m:\u001b[36mcross_validate\u001b[0m:\u001b[36m103\u001b[0m - \u001b[1mFold 3: 5.8493 (took 203.96s)\u001b[0m\n",
      "\u001b[32m2023-10-28 03:13:09.872\u001b[0m | \u001b[1mINFO    \u001b[0m | \u001b[36mutils.validation\u001b[0m:\u001b[36mcross_validate\u001b[0m:\u001b[36m110\u001b[0m - \u001b[1m------------------------------\u001b[0m\n",
      "\u001b[32m2023-10-28 03:13:09.874\u001b[0m | \u001b[32m\u001b[1mSUCCESS \u001b[0m | \u001b[36mutils.validation\u001b[0m:\u001b[36mcross_validate\u001b[0m:\u001b[36m111\u001b[0m - \u001b[32m\u001b[1mAverage MAE = 5.8507 ± 0.00\u001b[0m\n",
      "\u001b[32m2023-10-28 03:13:09.874\u001b[0m | \u001b[1mINFO    \u001b[0m | \u001b[36mutils.validation\u001b[0m:\u001b[36mcross_validate\u001b[0m:\u001b[36m112\u001b[0m - \u001b[1m==============================\u001b[0m\n",
      "Best trial: 9. Best value: 5.84232:  34%|███▍      | 17/50 [2:51:04<5:15:02, 572.82s/it]\u001b[32m2023-10-28 03:13:10.527\u001b[0m | \u001b[1mINFO    \u001b[0m | \u001b[36mutils.validation\u001b[0m:\u001b[36mcross_validate\u001b[0m:\u001b[36m79\u001b[0m - \u001b[1mStarting evaluation...\u001b[0m\n",
      "\u001b[32m2023-10-28 03:13:10.528\u001b[0m | \u001b[1mINFO    \u001b[0m | \u001b[36mutils.validation\u001b[0m:\u001b[36mcross_validate\u001b[0m:\u001b[36m80\u001b[0m - \u001b[1m==============================\u001b[0m\n"
     ]
    },
    {
     "name": "stdout",
     "output_type": "stream",
     "text": [
      "[W 2023-10-28 03:13:10,419] The parameter 'num_leaves' in trial#19 is sampled independently by using `RandomSampler` instead of `CmaEsSampler` (optimization performance may be degraded). `CmaEsSampler` does not support dynamic search space or `CategoricalDistribution`. You can suppress this warning by setting `warn_independent_sampling` to `False` in the constructor of `CmaEsSampler`, if this independent sampling is intended behavior.\n"
     ]
    },
    {
     "name": "stderr",
     "output_type": "stream",
     "text": [
      "\u001b[32m2023-10-28 03:13:22.367\u001b[0m | \u001b[1mINFO    \u001b[0m | \u001b[36mutils.validation\u001b[0m:\u001b[36mcross_validate\u001b[0m:\u001b[36m91\u001b[0m - \u001b[1mModel trained with seed 1847\u001b[0m\n",
      "\u001b[32m2023-10-28 03:19:00.265\u001b[0m | \u001b[1mINFO    \u001b[0m | \u001b[36mutils.validation\u001b[0m:\u001b[36mcross_validate\u001b[0m:\u001b[36m103\u001b[0m - \u001b[1mFold 2: 5.8428 (took 871.12s)\u001b[0m\n",
      "\u001b[32m2023-10-28 03:19:11.505\u001b[0m | \u001b[1mINFO    \u001b[0m | \u001b[36mutils.validation\u001b[0m:\u001b[36mcross_validate\u001b[0m:\u001b[36m91\u001b[0m - \u001b[1mModel trained with seed 404\u001b[0m\n",
      "\u001b[32m2023-10-28 03:19:12.900\u001b[0m | \u001b[1mINFO    \u001b[0m | \u001b[36mutils.validation\u001b[0m:\u001b[36mcross_validate\u001b[0m:\u001b[36m103\u001b[0m - \u001b[1mFold 2: 5.8526 (took 682.92s)\u001b[0m\n",
      "\u001b[32m2023-10-28 03:19:43.346\u001b[0m | \u001b[1mINFO    \u001b[0m | \u001b[36mutils.validation\u001b[0m:\u001b[36mcross_validate\u001b[0m:\u001b[36m91\u001b[0m - \u001b[1mModel trained with seed 7572\u001b[0m\n",
      "\u001b[32m2023-10-28 03:22:38.359\u001b[0m | \u001b[1mINFO    \u001b[0m | \u001b[36mutils.validation\u001b[0m:\u001b[36mcross_validate\u001b[0m:\u001b[36m103\u001b[0m - \u001b[1mFold 1: 5.8448 (took 540.94s)\u001b[0m\n",
      "\u001b[32m2023-10-28 03:22:51.792\u001b[0m | \u001b[1mINFO    \u001b[0m | \u001b[36mutils.validation\u001b[0m:\u001b[36mcross_validate\u001b[0m:\u001b[36m91\u001b[0m - \u001b[1mModel trained with seed 6643\u001b[0m\n",
      "\u001b[32m2023-10-28 03:29:02.663\u001b[0m | \u001b[1mINFO    \u001b[0m | \u001b[36mutils.validation\u001b[0m:\u001b[36mcross_validate\u001b[0m:\u001b[36m103\u001b[0m - \u001b[1mFold 3: 5.8527 (took 551.13s)\u001b[0m\n",
      "\u001b[32m2023-10-28 03:29:02.712\u001b[0m | \u001b[1mINFO    \u001b[0m | \u001b[36mutils.validation\u001b[0m:\u001b[36mcross_validate\u001b[0m:\u001b[36m110\u001b[0m - \u001b[1m------------------------------\u001b[0m\n",
      "\u001b[32m2023-10-28 03:29:02.721\u001b[0m | \u001b[32m\u001b[1mSUCCESS \u001b[0m | \u001b[36mutils.validation\u001b[0m:\u001b[36mcross_validate\u001b[0m:\u001b[36m111\u001b[0m - \u001b[32m\u001b[1mAverage MAE = 5.8530 ± 0.00\u001b[0m\n",
      "\u001b[32m2023-10-28 03:29:02.722\u001b[0m | \u001b[1mINFO    \u001b[0m | \u001b[36mutils.validation\u001b[0m:\u001b[36mcross_validate\u001b[0m:\u001b[36m112\u001b[0m - \u001b[1m==============================\u001b[0m\n",
      "Best trial: 9. Best value: 5.84232:  36%|███▌      | 18/50 [3:06:57<6:06:23, 686.99s/it]\u001b[32m2023-10-28 03:29:03.315\u001b[0m | \u001b[1mINFO    \u001b[0m | \u001b[36mutils.validation\u001b[0m:\u001b[36mcross_validate\u001b[0m:\u001b[36m79\u001b[0m - \u001b[1mStarting evaluation...\u001b[0m\n",
      "\u001b[32m2023-10-28 03:29:03.315\u001b[0m | \u001b[1mINFO    \u001b[0m | \u001b[36mutils.validation\u001b[0m:\u001b[36mcross_validate\u001b[0m:\u001b[36m80\u001b[0m - \u001b[1m==============================\u001b[0m\n"
     ]
    },
    {
     "name": "stdout",
     "output_type": "stream",
     "text": [
      "[W 2023-10-28 03:29:03,193] The parameter 'num_leaves' in trial#20 is sampled independently by using `RandomSampler` instead of `CmaEsSampler` (optimization performance may be degraded). `CmaEsSampler` does not support dynamic search space or `CategoricalDistribution`. You can suppress this warning by setting `warn_independent_sampling` to `False` in the constructor of `CmaEsSampler`, if this independent sampling is intended behavior.\n"
     ]
    },
    {
     "name": "stderr",
     "output_type": "stream",
     "text": [
      "\u001b[32m2023-10-28 03:29:17.719\u001b[0m | \u001b[1mINFO    \u001b[0m | \u001b[36mutils.validation\u001b[0m:\u001b[36mcross_validate\u001b[0m:\u001b[36m91\u001b[0m - \u001b[1mModel trained with seed 1847\u001b[0m\n",
      "\u001b[32m2023-10-28 03:30:38.393\u001b[0m | \u001b[1mINFO    \u001b[0m | \u001b[36mutils.validation\u001b[0m:\u001b[36mcross_validate\u001b[0m:\u001b[36m103\u001b[0m - \u001b[1mFold 2: 5.8467 (took 453.52s)\u001b[0m\n",
      "\u001b[32m2023-10-28 03:30:50.177\u001b[0m | \u001b[1mINFO    \u001b[0m | \u001b[36mutils.validation\u001b[0m:\u001b[36mcross_validate\u001b[0m:\u001b[36m91\u001b[0m - \u001b[1mModel trained with seed 404\u001b[0m\n",
      "\u001b[32m2023-10-28 03:38:19.697\u001b[0m | \u001b[1mINFO    \u001b[0m | \u001b[36mutils.validation\u001b[0m:\u001b[36mcross_validate\u001b[0m:\u001b[36m103\u001b[0m - \u001b[1mFold 3: 5.8428 (took 1112.28s)\u001b[0m\n",
      "\u001b[32m2023-10-28 03:38:19.751\u001b[0m | \u001b[1mINFO    \u001b[0m | \u001b[36mutils.validation\u001b[0m:\u001b[36mcross_validate\u001b[0m:\u001b[36m110\u001b[0m - \u001b[1m------------------------------\u001b[0m\n",
      "\u001b[32m2023-10-28 03:38:19.752\u001b[0m | \u001b[32m\u001b[1mSUCCESS \u001b[0m | \u001b[36mutils.validation\u001b[0m:\u001b[36mcross_validate\u001b[0m:\u001b[36m111\u001b[0m - \u001b[32m\u001b[1mAverage MAE = 5.8436 ± 0.00\u001b[0m\n",
      "\u001b[32m2023-10-28 03:38:19.759\u001b[0m | \u001b[1mINFO    \u001b[0m | \u001b[36mutils.validation\u001b[0m:\u001b[36mcross_validate\u001b[0m:\u001b[36m112\u001b[0m - \u001b[1m==============================\u001b[0m\n",
      "Best trial: 9. Best value: 5.84232:  38%|███▊      | 19/50 [3:16:14<5:34:47, 647.97s/it]\u001b[32m2023-10-28 03:38:20.364\u001b[0m | \u001b[1mINFO    \u001b[0m | \u001b[36mutils.validation\u001b[0m:\u001b[36mcross_validate\u001b[0m:\u001b[36m79\u001b[0m - \u001b[1mStarting evaluation...\u001b[0m\n",
      "\u001b[32m2023-10-28 03:38:20.364\u001b[0m | \u001b[1mINFO    \u001b[0m | \u001b[36mutils.validation\u001b[0m:\u001b[36mcross_validate\u001b[0m:\u001b[36m80\u001b[0m - \u001b[1m==============================\u001b[0m\n"
     ]
    },
    {
     "name": "stdout",
     "output_type": "stream",
     "text": [
      "[W 2023-10-28 03:38:20,260] The parameter 'num_leaves' in trial#21 is sampled independently by using `RandomSampler` instead of `CmaEsSampler` (optimization performance may be degraded). `CmaEsSampler` does not support dynamic search space or `CategoricalDistribution`. You can suppress this warning by setting `warn_independent_sampling` to `False` in the constructor of `CmaEsSampler`, if this independent sampling is intended behavior.\n"
     ]
    },
    {
     "name": "stderr",
     "output_type": "stream",
     "text": [
      "\u001b[32m2023-10-28 03:38:35.033\u001b[0m | \u001b[1mINFO    \u001b[0m | \u001b[36mutils.validation\u001b[0m:\u001b[36mcross_validate\u001b[0m:\u001b[36m91\u001b[0m - \u001b[1mModel trained with seed 1847\u001b[0m\n",
      "\u001b[32m2023-10-28 03:39:43.969\u001b[0m | \u001b[1mINFO    \u001b[0m | \u001b[36mutils.validation\u001b[0m:\u001b[36mcross_validate\u001b[0m:\u001b[36m103\u001b[0m - \u001b[1mFold 3: 5.8454 (took 518.43s)\u001b[0m\n",
      "\u001b[32m2023-10-28 03:39:44.015\u001b[0m | \u001b[1mINFO    \u001b[0m | \u001b[36mutils.validation\u001b[0m:\u001b[36mcross_validate\u001b[0m:\u001b[36m110\u001b[0m - \u001b[1m------------------------------\u001b[0m\n",
      "\u001b[32m2023-10-28 03:39:44.022\u001b[0m | \u001b[32m\u001b[1mSUCCESS \u001b[0m | \u001b[36mutils.validation\u001b[0m:\u001b[36mcross_validate\u001b[0m:\u001b[36m111\u001b[0m - \u001b[32m\u001b[1mAverage MAE = 5.8456 ± 0.00\u001b[0m\n",
      "\u001b[32m2023-10-28 03:39:44.024\u001b[0m | \u001b[1mINFO    \u001b[0m | \u001b[36mutils.validation\u001b[0m:\u001b[36mcross_validate\u001b[0m:\u001b[36m112\u001b[0m - \u001b[1m==============================\u001b[0m\n",
      "Best trial: 9. Best value: 5.84232:  40%|████      | 20/50 [3:17:38<3:59:21, 478.70s/it]\u001b[32m2023-10-28 03:39:44.564\u001b[0m | \u001b[1mINFO    \u001b[0m | \u001b[36mutils.validation\u001b[0m:\u001b[36mcross_validate\u001b[0m:\u001b[36m79\u001b[0m - \u001b[1mStarting evaluation...\u001b[0m\n",
      "\u001b[32m2023-10-28 03:39:44.564\u001b[0m | \u001b[1mINFO    \u001b[0m | \u001b[36mutils.validation\u001b[0m:\u001b[36mcross_validate\u001b[0m:\u001b[36m80\u001b[0m - \u001b[1m==============================\u001b[0m\n"
     ]
    },
    {
     "name": "stdout",
     "output_type": "stream",
     "text": [
      "[W 2023-10-28 03:39:44,446] The parameter 'num_leaves' in trial#22 is sampled independently by using `RandomSampler` instead of `CmaEsSampler` (optimization performance may be degraded). `CmaEsSampler` does not support dynamic search space or `CategoricalDistribution`. You can suppress this warning by setting `warn_independent_sampling` to `False` in the constructor of `CmaEsSampler`, if this independent sampling is intended behavior.\n"
     ]
    },
    {
     "name": "stderr",
     "output_type": "stream",
     "text": [
      "\u001b[32m2023-10-28 03:39:58.057\u001b[0m | \u001b[1mINFO    \u001b[0m | \u001b[36mutils.validation\u001b[0m:\u001b[36mcross_validate\u001b[0m:\u001b[36m91\u001b[0m - \u001b[1mModel trained with seed 1847\u001b[0m\n",
      "\u001b[32m2023-10-28 03:40:35.350\u001b[0m | \u001b[1mINFO    \u001b[0m | \u001b[36mutils.validation\u001b[0m:\u001b[36mcross_validate\u001b[0m:\u001b[36m103\u001b[0m - \u001b[1mFold 1: 5.8462 (took 661.18s)\u001b[0m\n",
      "\u001b[32m2023-10-28 03:40:47.439\u001b[0m | \u001b[1mINFO    \u001b[0m | \u001b[36mutils.validation\u001b[0m:\u001b[36mcross_validate\u001b[0m:\u001b[36m91\u001b[0m - \u001b[1mModel trained with seed 404\u001b[0m\n",
      "\u001b[32m2023-10-28 03:49:28.978\u001b[0m | \u001b[1mINFO    \u001b[0m | \u001b[36mutils.validation\u001b[0m:\u001b[36mcross_validate\u001b[0m:\u001b[36m103\u001b[0m - \u001b[1mFold 1: 5.8465 (took 637.35s)\u001b[0m\n",
      "\u001b[32m2023-10-28 03:49:40.267\u001b[0m | \u001b[1mINFO    \u001b[0m | \u001b[36mutils.validation\u001b[0m:\u001b[36mcross_validate\u001b[0m:\u001b[36m91\u001b[0m - \u001b[1mModel trained with seed 7572\u001b[0m\n",
      "\u001b[32m2023-10-28 03:49:45.320\u001b[0m | \u001b[1mINFO    \u001b[0m | \u001b[36mutils.validation\u001b[0m:\u001b[36mcross_validate\u001b[0m:\u001b[36m103\u001b[0m - \u001b[1mFold 2: 5.8488 (took 525.74s)\u001b[0m\n",
      "\u001b[32m2023-10-28 03:50:22.262\u001b[0m | \u001b[1mINFO    \u001b[0m | \u001b[36mutils.validation\u001b[0m:\u001b[36mcross_validate\u001b[0m:\u001b[36m91\u001b[0m - \u001b[1mModel trained with seed 6643\u001b[0m\n",
      "\u001b[32m2023-10-28 03:58:52.184\u001b[0m | \u001b[1mINFO    \u001b[0m | \u001b[36mutils.validation\u001b[0m:\u001b[36mcross_validate\u001b[0m:\u001b[36m103\u001b[0m - \u001b[1mFold 1: 5.8466 (took 1100.30s)\u001b[0m\n",
      "\u001b[32m2023-10-28 03:59:02.573\u001b[0m | \u001b[1mINFO    \u001b[0m | \u001b[36mutils.validation\u001b[0m:\u001b[36mcross_validate\u001b[0m:\u001b[36m91\u001b[0m - \u001b[1mModel trained with seed 9542\u001b[0m\n",
      "\u001b[32m2023-10-28 04:00:03.239\u001b[0m | \u001b[1mINFO    \u001b[0m | \u001b[36mutils.validation\u001b[0m:\u001b[36mcross_validate\u001b[0m:\u001b[36m103\u001b[0m - \u001b[1mFold 3: 5.8480 (took 568.69s)\u001b[0m\n",
      "\u001b[32m2023-10-28 04:00:03.287\u001b[0m | \u001b[1mINFO    \u001b[0m | \u001b[36mutils.validation\u001b[0m:\u001b[36mcross_validate\u001b[0m:\u001b[36m110\u001b[0m - \u001b[1m------------------------------\u001b[0m\n",
      "\u001b[32m2023-10-28 04:00:03.294\u001b[0m | \u001b[32m\u001b[1mSUCCESS \u001b[0m | \u001b[36mutils.validation\u001b[0m:\u001b[36mcross_validate\u001b[0m:\u001b[36m111\u001b[0m - \u001b[32m\u001b[1mAverage MAE = 5.8476 ± 0.00\u001b[0m\n",
      "\u001b[32m2023-10-28 04:00:03.294\u001b[0m | \u001b[1mINFO    \u001b[0m | \u001b[36mutils.validation\u001b[0m:\u001b[36mcross_validate\u001b[0m:\u001b[36m112\u001b[0m - \u001b[1m==============================\u001b[0m\n",
      "Best trial: 9. Best value: 5.84232:  42%|████▏     | 21/50 [3:37:57<5:38:49, 701.00s/it]\u001b[32m2023-10-28 04:00:03.879\u001b[0m | \u001b[1mINFO    \u001b[0m | \u001b[36mutils.validation\u001b[0m:\u001b[36mcross_validate\u001b[0m:\u001b[36m79\u001b[0m - \u001b[1mStarting evaluation...\u001b[0m\n",
      "\u001b[32m2023-10-28 04:00:03.879\u001b[0m | \u001b[1mINFO    \u001b[0m | \u001b[36mutils.validation\u001b[0m:\u001b[36mcross_validate\u001b[0m:\u001b[36m80\u001b[0m - \u001b[1m==============================\u001b[0m\n"
     ]
    },
    {
     "name": "stdout",
     "output_type": "stream",
     "text": [
      "[W 2023-10-28 04:00:03,759] The parameter 'num_leaves' in trial#23 is sampled independently by using `RandomSampler` instead of `CmaEsSampler` (optimization performance may be degraded). `CmaEsSampler` does not support dynamic search space or `CategoricalDistribution`. You can suppress this warning by setting `warn_independent_sampling` to `False` in the constructor of `CmaEsSampler`, if this independent sampling is intended behavior.\n"
     ]
    },
    {
     "name": "stderr",
     "output_type": "stream",
     "text": [
      "\u001b[32m2023-10-28 04:00:17.003\u001b[0m | \u001b[1mINFO    \u001b[0m | \u001b[36mutils.validation\u001b[0m:\u001b[36mcross_validate\u001b[0m:\u001b[36m91\u001b[0m - \u001b[1mModel trained with seed 1847\u001b[0m\n",
      "\u001b[32m2023-10-28 04:02:43.586\u001b[0m | \u001b[1mINFO    \u001b[0m | \u001b[36mutils.validation\u001b[0m:\u001b[36mcross_validate\u001b[0m:\u001b[36m103\u001b[0m - \u001b[1mFold 2: 5.8440 (took 762.16s)\u001b[0m\n",
      "\u001b[32m2023-10-28 04:02:54.051\u001b[0m | \u001b[1mINFO    \u001b[0m | \u001b[36mutils.validation\u001b[0m:\u001b[36mcross_validate\u001b[0m:\u001b[36m91\u001b[0m - \u001b[1mModel trained with seed 404\u001b[0m\n",
      "\u001b[32m2023-10-28 04:14:50.509\u001b[0m | \u001b[1mINFO    \u001b[0m | \u001b[36mutils.validation\u001b[0m:\u001b[36mcross_validate\u001b[0m:\u001b[36m103\u001b[0m - \u001b[1mFold 3: 5.8457 (took 697.92s)\u001b[0m\n",
      "\u001b[32m2023-10-28 04:14:50.554\u001b[0m | \u001b[1mINFO    \u001b[0m | \u001b[36mutils.validation\u001b[0m:\u001b[36mcross_validate\u001b[0m:\u001b[36m110\u001b[0m - \u001b[1m------------------------------\u001b[0m\n",
      "\u001b[32m2023-10-28 04:14:50.563\u001b[0m | \u001b[32m\u001b[1mSUCCESS \u001b[0m | \u001b[36mutils.validation\u001b[0m:\u001b[36mcross_validate\u001b[0m:\u001b[36m111\u001b[0m - \u001b[32m\u001b[1mAverage MAE = 5.8454 ± 0.00\u001b[0m\n",
      "\u001b[32m2023-10-28 04:14:50.563\u001b[0m | \u001b[1mINFO    \u001b[0m | \u001b[36mutils.validation\u001b[0m:\u001b[36mcross_validate\u001b[0m:\u001b[36m112\u001b[0m - \u001b[1m==============================\u001b[0m\n",
      "Best trial: 9. Best value: 5.84232:  44%|████▍     | 22/50 [3:52:45<5:53:12, 756.89s/it]\u001b[32m2023-10-28 04:14:51.060\u001b[0m | \u001b[1mINFO    \u001b[0m | \u001b[36mutils.validation\u001b[0m:\u001b[36mcross_validate\u001b[0m:\u001b[36m79\u001b[0m - \u001b[1mStarting evaluation...\u001b[0m\n",
      "\u001b[32m2023-10-28 04:14:51.060\u001b[0m | \u001b[1mINFO    \u001b[0m | \u001b[36mutils.validation\u001b[0m:\u001b[36mcross_validate\u001b[0m:\u001b[36m80\u001b[0m - \u001b[1m==============================\u001b[0m\n"
     ]
    },
    {
     "name": "stdout",
     "output_type": "stream",
     "text": [
      "[W 2023-10-28 04:14:50,949] The parameter 'num_leaves' in trial#24 is sampled independently by using `RandomSampler` instead of `CmaEsSampler` (optimization performance may be degraded). `CmaEsSampler` does not support dynamic search space or `CategoricalDistribution`. You can suppress this warning by setting `warn_independent_sampling` to `False` in the constructor of `CmaEsSampler`, if this independent sampling is intended behavior.\n"
     ]
    },
    {
     "name": "stderr",
     "output_type": "stream",
     "text": [
      "\u001b[32m2023-10-28 04:15:04.951\u001b[0m | \u001b[1mINFO    \u001b[0m | \u001b[36mutils.validation\u001b[0m:\u001b[36mcross_validate\u001b[0m:\u001b[36m91\u001b[0m - \u001b[1mModel trained with seed 1847\u001b[0m\n",
      "\u001b[32m2023-10-28 04:18:13.513\u001b[0m | \u001b[1mINFO    \u001b[0m | \u001b[36mutils.validation\u001b[0m:\u001b[36mcross_validate\u001b[0m:\u001b[36m103\u001b[0m - \u001b[1mFold 2: 5.8471 (took 1117.82s)\u001b[0m\n",
      "\u001b[32m2023-10-28 04:18:25.957\u001b[0m | \u001b[1mINFO    \u001b[0m | \u001b[36mutils.validation\u001b[0m:\u001b[36mcross_validate\u001b[0m:\u001b[36m91\u001b[0m - \u001b[1mModel trained with seed 404\u001b[0m\n",
      "\u001b[32m2023-10-28 04:24:31.414\u001b[0m | \u001b[1mINFO    \u001b[0m | \u001b[36mutils.validation\u001b[0m:\u001b[36mcross_validate\u001b[0m:\u001b[36m103\u001b[0m - \u001b[1mFold 1: 5.8418 (took 1395.96s)\u001b[0m\n",
      "\u001b[32m2023-10-28 04:24:43.473\u001b[0m | \u001b[1mINFO    \u001b[0m | \u001b[36mutils.validation\u001b[0m:\u001b[36mcross_validate\u001b[0m:\u001b[36m91\u001b[0m - \u001b[1mModel trained with seed 7572\u001b[0m\n",
      "\u001b[32m2023-10-28 04:37:19.235\u001b[0m | \u001b[1mINFO    \u001b[0m | \u001b[36mutils.validation\u001b[0m:\u001b[36mcross_validate\u001b[0m:\u001b[36m103\u001b[0m - \u001b[1mFold 3: 5.8468 (took 1100.76s)\u001b[0m\n",
      "\u001b[32m2023-10-28 04:37:19.278\u001b[0m | \u001b[1mINFO    \u001b[0m | \u001b[36mutils.validation\u001b[0m:\u001b[36mcross_validate\u001b[0m:\u001b[36m110\u001b[0m - \u001b[1m------------------------------\u001b[0m\n",
      "\u001b[32m2023-10-28 04:37:19.286\u001b[0m | \u001b[32m\u001b[1mSUCCESS \u001b[0m | \u001b[36mutils.validation\u001b[0m:\u001b[36mcross_validate\u001b[0m:\u001b[36m111\u001b[0m - \u001b[32m\u001b[1mAverage MAE = 5.8468 ± 0.00\u001b[0m\n",
      "\u001b[32m2023-10-28 04:37:19.286\u001b[0m | \u001b[1mINFO    \u001b[0m | \u001b[36mutils.validation\u001b[0m:\u001b[36mcross_validate\u001b[0m:\u001b[36m112\u001b[0m - \u001b[1m==============================\u001b[0m\n",
      "Best trial: 9. Best value: 5.84232:  46%|████▌     | 23/50 [4:15:13<7:00:31, 934.50s/it]\u001b[32m2023-10-28 04:37:19.848\u001b[0m | \u001b[1mINFO    \u001b[0m | \u001b[36mutils.validation\u001b[0m:\u001b[36mcross_validate\u001b[0m:\u001b[36m79\u001b[0m - \u001b[1mStarting evaluation...\u001b[0m\n",
      "\u001b[32m2023-10-28 04:37:19.848\u001b[0m | \u001b[1mINFO    \u001b[0m | \u001b[36mutils.validation\u001b[0m:\u001b[36mcross_validate\u001b[0m:\u001b[36m80\u001b[0m - \u001b[1m==============================\u001b[0m\n"
     ]
    },
    {
     "name": "stdout",
     "output_type": "stream",
     "text": [
      "[W 2023-10-28 04:37:19,736] The parameter 'num_leaves' in trial#25 is sampled independently by using `RandomSampler` instead of `CmaEsSampler` (optimization performance may be degraded). `CmaEsSampler` does not support dynamic search space or `CategoricalDistribution`. You can suppress this warning by setting `warn_independent_sampling` to `False` in the constructor of `CmaEsSampler`, if this independent sampling is intended behavior.\n"
     ]
    },
    {
     "name": "stderr",
     "output_type": "stream",
     "text": [
      "\u001b[32m2023-10-28 04:37:33.071\u001b[0m | \u001b[1mINFO    \u001b[0m | \u001b[36mutils.validation\u001b[0m:\u001b[36mcross_validate\u001b[0m:\u001b[36m91\u001b[0m - \u001b[1mModel trained with seed 1847\u001b[0m\n",
      "\u001b[32m2023-10-28 04:41:58.382\u001b[0m | \u001b[1mINFO    \u001b[0m | \u001b[36mutils.validation\u001b[0m:\u001b[36mcross_validate\u001b[0m:\u001b[36m103\u001b[0m - \u001b[1mFold 1: 5.8506 (took 261.21s)\u001b[0m\n",
      "\u001b[32m2023-10-28 04:42:03.611\u001b[0m | \u001b[1mINFO    \u001b[0m | \u001b[36mutils.validation\u001b[0m:\u001b[36mcross_validate\u001b[0m:\u001b[36m103\u001b[0m - \u001b[1mFold 1: 5.8410 (took 1563.15s)\u001b[0m\n",
      "\u001b[32m2023-10-28 04:42:08.284\u001b[0m | \u001b[1mINFO    \u001b[0m | \u001b[36mutils.validation\u001b[0m:\u001b[36mcross_validate\u001b[0m:\u001b[36m91\u001b[0m - \u001b[1mModel trained with seed 404\u001b[0m\n",
      "\u001b[32m2023-10-28 04:42:08.300\u001b[0m | \u001b[1mINFO    \u001b[0m | \u001b[36mutils.validation\u001b[0m:\u001b[36mcross_validate\u001b[0m:\u001b[36m91\u001b[0m - \u001b[1mModel trained with seed 7572\u001b[0m\n",
      "\u001b[32m2023-10-28 04:46:38.823\u001b[0m | \u001b[1mINFO    \u001b[0m | \u001b[36mutils.validation\u001b[0m:\u001b[36mcross_validate\u001b[0m:\u001b[36m103\u001b[0m - \u001b[1mFold 2: 5.8556 (took 267.79s)\u001b[0m\n",
      "\u001b[32m2023-10-28 04:46:52.418\u001b[0m | \u001b[1mINFO    \u001b[0m | \u001b[36mutils.validation\u001b[0m:\u001b[36mcross_validate\u001b[0m:\u001b[36m91\u001b[0m - \u001b[1mModel trained with seed 6643\u001b[0m\n",
      "\u001b[32m2023-10-28 04:50:17.496\u001b[0m | \u001b[1mINFO    \u001b[0m | \u001b[36mutils.validation\u001b[0m:\u001b[36mcross_validate\u001b[0m:\u001b[36m103\u001b[0m - \u001b[1mFold 2: 5.8410 (took 1474.10s)\u001b[0m\n",
      "\u001b[32m2023-10-28 04:50:21.144\u001b[0m | \u001b[1mINFO    \u001b[0m | \u001b[36mutils.validation\u001b[0m:\u001b[36mcross_validate\u001b[0m:\u001b[36m103\u001b[0m - \u001b[1mFold 3: 5.8518 (took 205.60s)\u001b[0m\n",
      "\u001b[32m2023-10-28 04:50:21.144\u001b[0m | \u001b[1mINFO    \u001b[0m | \u001b[36mutils.validation\u001b[0m:\u001b[36mcross_validate\u001b[0m:\u001b[36m110\u001b[0m - \u001b[1m------------------------------\u001b[0m\n",
      "\u001b[32m2023-10-28 04:50:21.144\u001b[0m | \u001b[32m\u001b[1mSUCCESS \u001b[0m | \u001b[36mutils.validation\u001b[0m:\u001b[36mcross_validate\u001b[0m:\u001b[36m111\u001b[0m - \u001b[32m\u001b[1mAverage MAE = 5.8527 ± 0.00\u001b[0m\n",
      "\u001b[32m2023-10-28 04:50:21.160\u001b[0m | \u001b[1mINFO    \u001b[0m | \u001b[36mutils.validation\u001b[0m:\u001b[36mcross_validate\u001b[0m:\u001b[36m112\u001b[0m - \u001b[1m==============================\u001b[0m\n",
      "Best trial: 9. Best value: 5.84232:  48%|████▊     | 24/50 [4:28:15<6:25:06, 888.72s/it]\u001b[32m2023-10-28 04:50:21.792\u001b[0m | \u001b[1mINFO    \u001b[0m | \u001b[36mutils.validation\u001b[0m:\u001b[36mcross_validate\u001b[0m:\u001b[36m79\u001b[0m - \u001b[1mStarting evaluation...\u001b[0m\n",
      "\u001b[32m2023-10-28 04:50:21.792\u001b[0m | \u001b[1mINFO    \u001b[0m | \u001b[36mutils.validation\u001b[0m:\u001b[36mcross_validate\u001b[0m:\u001b[36m80\u001b[0m - \u001b[1m==============================\u001b[0m\n"
     ]
    },
    {
     "name": "stdout",
     "output_type": "stream",
     "text": [
      "[W 2023-10-28 04:50:21,658] The parameter 'num_leaves' in trial#26 is sampled independently by using `RandomSampler` instead of `CmaEsSampler` (optimization performance may be degraded). `CmaEsSampler` does not support dynamic search space or `CategoricalDistribution`. You can suppress this warning by setting `warn_independent_sampling` to `False` in the constructor of `CmaEsSampler`, if this independent sampling is intended behavior.\n"
     ]
    },
    {
     "name": "stderr",
     "output_type": "stream",
     "text": [
      "\u001b[32m2023-10-28 04:50:28.429\u001b[0m | \u001b[1mINFO    \u001b[0m | \u001b[36mutils.validation\u001b[0m:\u001b[36mcross_validate\u001b[0m:\u001b[36m91\u001b[0m - \u001b[1mModel trained with seed 1847\u001b[0m\n",
      "\u001b[32m2023-10-28 04:50:30.948\u001b[0m | \u001b[1mINFO    \u001b[0m | \u001b[36mutils.validation\u001b[0m:\u001b[36mcross_validate\u001b[0m:\u001b[36m91\u001b[0m - \u001b[1mModel trained with seed 404\u001b[0m\n",
      "\u001b[32m2023-10-28 04:58:14.534\u001b[0m | \u001b[1mINFO    \u001b[0m | \u001b[36mutils.validation\u001b[0m:\u001b[36mcross_validate\u001b[0m:\u001b[36m103\u001b[0m - \u001b[1mFold 1: 5.8475 (took 453.48s)\u001b[0m\n",
      "\u001b[32m2023-10-28 04:58:28.153\u001b[0m | \u001b[1mINFO    \u001b[0m | \u001b[36mutils.validation\u001b[0m:\u001b[36mcross_validate\u001b[0m:\u001b[36m91\u001b[0m - \u001b[1mModel trained with seed 7572\u001b[0m\n",
      "\u001b[32m2023-10-28 05:08:10.901\u001b[0m | \u001b[1mINFO    \u001b[0m | \u001b[36mutils.validation\u001b[0m:\u001b[36mcross_validate\u001b[0m:\u001b[36m103\u001b[0m - \u001b[1mFold 2: 5.8431 (took 564.07s)\u001b[0m\n",
      "\u001b[32m2023-10-28 05:08:21.670\u001b[0m | \u001b[1mINFO    \u001b[0m | \u001b[36mutils.validation\u001b[0m:\u001b[36mcross_validate\u001b[0m:\u001b[36m91\u001b[0m - \u001b[1mModel trained with seed 6643\u001b[0m\n",
      "\u001b[32m2023-10-28 05:11:41.928\u001b[0m | \u001b[1mINFO    \u001b[0m | \u001b[36mutils.validation\u001b[0m:\u001b[36mcross_validate\u001b[0m:\u001b[36m103\u001b[0m - \u001b[1mFold 2: 5.8415 (took 1714.67s)\u001b[0m\n",
      "\u001b[32m2023-10-28 05:11:53.326\u001b[0m | \u001b[1mINFO    \u001b[0m | \u001b[36mutils.validation\u001b[0m:\u001b[36mcross_validate\u001b[0m:\u001b[36m91\u001b[0m - \u001b[1mModel trained with seed 9542\u001b[0m\n",
      "\u001b[32m2023-10-28 05:16:16.995\u001b[0m | \u001b[1mINFO    \u001b[0m | \u001b[36mutils.validation\u001b[0m:\u001b[36mcross_validate\u001b[0m:\u001b[36m103\u001b[0m - \u001b[1mFold 3: 5.8418 (took 1490.06s)\u001b[0m\n",
      "\u001b[32m2023-10-28 05:16:17.050\u001b[0m | \u001b[1mINFO    \u001b[0m | \u001b[36mutils.validation\u001b[0m:\u001b[36mcross_validate\u001b[0m:\u001b[36m110\u001b[0m - \u001b[1m------------------------------\u001b[0m\n",
      "\u001b[32m2023-10-28 05:16:17.050\u001b[0m | \u001b[32m\u001b[1mSUCCESS \u001b[0m | \u001b[36mutils.validation\u001b[0m:\u001b[36mcross_validate\u001b[0m:\u001b[36m111\u001b[0m - \u001b[32m\u001b[1mAverage MAE = 5.8415 ± 0.00\u001b[0m\n",
      "\u001b[32m2023-10-28 05:16:17.050\u001b[0m | \u001b[1mINFO    \u001b[0m | \u001b[36mutils.validation\u001b[0m:\u001b[36mcross_validate\u001b[0m:\u001b[36m112\u001b[0m - \u001b[1m==============================\u001b[0m\n",
      "Best trial: 23. Best value: 5.84153:  50%|█████     | 25/50 [4:54:11<7:33:43, 1088.95s/it]\u001b[32m2023-10-28 05:16:17.823\u001b[0m | \u001b[1mINFO    \u001b[0m | \u001b[36mutils.validation\u001b[0m:\u001b[36mcross_validate\u001b[0m:\u001b[36m79\u001b[0m - \u001b[1mStarting evaluation...\u001b[0m\n",
      "\u001b[32m2023-10-28 05:16:17.823\u001b[0m | \u001b[1mINFO    \u001b[0m | \u001b[36mutils.validation\u001b[0m:\u001b[36mcross_validate\u001b[0m:\u001b[36m80\u001b[0m - \u001b[1m==============================\u001b[0m\n"
     ]
    },
    {
     "name": "stdout",
     "output_type": "stream",
     "text": [
      "[W 2023-10-28 05:16:17,718] The parameter 'num_leaves' in trial#27 is sampled independently by using `RandomSampler` instead of `CmaEsSampler` (optimization performance may be degraded). `CmaEsSampler` does not support dynamic search space or `CategoricalDistribution`. You can suppress this warning by setting `warn_independent_sampling` to `False` in the constructor of `CmaEsSampler`, if this independent sampling is intended behavior.\n"
     ]
    },
    {
     "name": "stderr",
     "output_type": "stream",
     "text": [
      "\u001b[32m2023-10-28 05:16:31.869\u001b[0m | \u001b[1mINFO    \u001b[0m | \u001b[36mutils.validation\u001b[0m:\u001b[36mcross_validate\u001b[0m:\u001b[36m91\u001b[0m - \u001b[1mModel trained with seed 1847\u001b[0m\n",
      "\u001b[32m2023-10-28 05:16:44.867\u001b[0m | \u001b[1mINFO    \u001b[0m | \u001b[36mutils.validation\u001b[0m:\u001b[36mcross_validate\u001b[0m:\u001b[36m103\u001b[0m - \u001b[1mFold 3: 5.8450 (took 486.93s)\u001b[0m\n",
      "\u001b[32m2023-10-28 05:16:44.926\u001b[0m | \u001b[1mINFO    \u001b[0m | \u001b[36mutils.validation\u001b[0m:\u001b[36mcross_validate\u001b[0m:\u001b[36m110\u001b[0m - \u001b[1m------------------------------\u001b[0m\n",
      "\u001b[32m2023-10-28 05:16:44.931\u001b[0m | \u001b[32m\u001b[1mSUCCESS \u001b[0m | \u001b[36mutils.validation\u001b[0m:\u001b[36mcross_validate\u001b[0m:\u001b[36m111\u001b[0m - \u001b[32m\u001b[1mAverage MAE = 5.8452 ± 0.00\u001b[0m\n",
      "\u001b[32m2023-10-28 05:16:44.932\u001b[0m | \u001b[1mINFO    \u001b[0m | \u001b[36mutils.validation\u001b[0m:\u001b[36mcross_validate\u001b[0m:\u001b[36m112\u001b[0m - \u001b[1m==============================\u001b[0m\n",
      "Best trial: 23. Best value: 5.84153:  52%|█████▏    | 26/50 [4:54:39<5:08:15, 770.63s/it] \u001b[32m2023-10-28 05:16:45.839\u001b[0m | \u001b[1mINFO    \u001b[0m | \u001b[36mutils.validation\u001b[0m:\u001b[36mcross_validate\u001b[0m:\u001b[36m79\u001b[0m - \u001b[1mStarting evaluation...\u001b[0m\n",
      "\u001b[32m2023-10-28 05:16:45.839\u001b[0m | \u001b[1mINFO    \u001b[0m | \u001b[36mutils.validation\u001b[0m:\u001b[36mcross_validate\u001b[0m:\u001b[36m80\u001b[0m - \u001b[1m==============================\u001b[0m\n"
     ]
    },
    {
     "name": "stdout",
     "output_type": "stream",
     "text": [
      "[W 2023-10-28 05:16:45,736] The parameter 'num_leaves' in trial#28 is sampled independently by using `RandomSampler` instead of `CmaEsSampler` (optimization performance may be degraded). `CmaEsSampler` does not support dynamic search space or `CategoricalDistribution`. You can suppress this warning by setting `warn_independent_sampling` to `False` in the constructor of `CmaEsSampler`, if this independent sampling is intended behavior.\n"
     ]
    },
    {
     "name": "stderr",
     "output_type": "stream",
     "text": [
      "\u001b[32m2023-10-28 05:17:11.048\u001b[0m | \u001b[1mINFO    \u001b[0m | \u001b[36mutils.validation\u001b[0m:\u001b[36mcross_validate\u001b[0m:\u001b[36m91\u001b[0m - \u001b[1mModel trained with seed 1847\u001b[0m\n",
      "\u001b[32m2023-10-28 05:20:06.327\u001b[0m | \u001b[1mINFO    \u001b[0m | \u001b[36mutils.validation\u001b[0m:\u001b[36mcross_validate\u001b[0m:\u001b[36m103\u001b[0m - \u001b[1mFold 1: 5.8627 (took 173.29s)\u001b[0m\n",
      "\u001b[32m2023-10-28 05:20:17.306\u001b[0m | \u001b[1mINFO    \u001b[0m | \u001b[36mutils.validation\u001b[0m:\u001b[36mcross_validate\u001b[0m:\u001b[36m91\u001b[0m - \u001b[1mModel trained with seed 404\u001b[0m\n",
      "\u001b[32m2023-10-28 05:23:17.321\u001b[0m | \u001b[1mINFO    \u001b[0m | \u001b[36mutils.validation\u001b[0m:\u001b[36mcross_validate\u001b[0m:\u001b[36m103\u001b[0m - \u001b[1mFold 2: 5.8609 (took 177.89s)\u001b[0m\n",
      "\u001b[32m2023-10-28 05:23:26.064\u001b[0m | \u001b[1mINFO    \u001b[0m | \u001b[36mutils.validation\u001b[0m:\u001b[36mcross_validate\u001b[0m:\u001b[36m91\u001b[0m - \u001b[1mModel trained with seed 7572\u001b[0m\n",
      "\u001b[32m2023-10-28 05:26:44.756\u001b[0m | \u001b[1mINFO    \u001b[0m | \u001b[36mutils.validation\u001b[0m:\u001b[36mcross_validate\u001b[0m:\u001b[36m103\u001b[0m - \u001b[1mFold 3: 5.8606 (took 195.98s)\u001b[0m\n",
      "\u001b[32m2023-10-28 05:26:44.784\u001b[0m | \u001b[1mINFO    \u001b[0m | \u001b[36mutils.validation\u001b[0m:\u001b[36mcross_validate\u001b[0m:\u001b[36m110\u001b[0m - \u001b[1m------------------------------\u001b[0m\n",
      "\u001b[32m2023-10-28 05:26:44.792\u001b[0m | \u001b[32m\u001b[1mSUCCESS \u001b[0m | \u001b[36mutils.validation\u001b[0m:\u001b[36mcross_validate\u001b[0m:\u001b[36m111\u001b[0m - \u001b[32m\u001b[1mAverage MAE = 5.8614 ± 0.00\u001b[0m\n",
      "\u001b[32m2023-10-28 05:26:44.793\u001b[0m | \u001b[1mINFO    \u001b[0m | \u001b[36mutils.validation\u001b[0m:\u001b[36mcross_validate\u001b[0m:\u001b[36m112\u001b[0m - \u001b[1m==============================\u001b[0m\n",
      "Best trial: 23. Best value: 5.84153:  54%|█████▍    | 27/50 [5:04:39<4:35:43, 719.28s/it]\u001b[32m2023-10-28 05:26:45.268\u001b[0m | \u001b[1mINFO    \u001b[0m | \u001b[36mutils.validation\u001b[0m:\u001b[36mcross_validate\u001b[0m:\u001b[36m79\u001b[0m - \u001b[1mStarting evaluation...\u001b[0m\n",
      "\u001b[32m2023-10-28 05:26:45.268\u001b[0m | \u001b[1mINFO    \u001b[0m | \u001b[36mutils.validation\u001b[0m:\u001b[36mcross_validate\u001b[0m:\u001b[36m80\u001b[0m - \u001b[1m==============================\u001b[0m\n"
     ]
    },
    {
     "name": "stdout",
     "output_type": "stream",
     "text": [
      "[W 2023-10-28 05:26:45,169] The parameter 'num_leaves' in trial#29 is sampled independently by using `RandomSampler` instead of `CmaEsSampler` (optimization performance may be degraded). `CmaEsSampler` does not support dynamic search space or `CategoricalDistribution`. You can suppress this warning by setting `warn_independent_sampling` to `False` in the constructor of `CmaEsSampler`, if this independent sampling is intended behavior.\n"
     ]
    },
    {
     "name": "stderr",
     "output_type": "stream",
     "text": [
      "\u001b[32m2023-10-28 05:26:54.006\u001b[0m | \u001b[1mINFO    \u001b[0m | \u001b[36mutils.validation\u001b[0m:\u001b[36mcross_validate\u001b[0m:\u001b[36m91\u001b[0m - \u001b[1mModel trained with seed 1847\u001b[0m\n",
      "\u001b[32m2023-10-28 05:36:48.004\u001b[0m | \u001b[1mINFO    \u001b[0m | \u001b[36mutils.validation\u001b[0m:\u001b[36mcross_validate\u001b[0m:\u001b[36m103\u001b[0m - \u001b[1mFold 1: 5.8468 (took 1170.15s)\u001b[0m\n",
      "\u001b[32m2023-10-28 05:36:58.038\u001b[0m | \u001b[1mINFO    \u001b[0m | \u001b[36mutils.validation\u001b[0m:\u001b[36mcross_validate\u001b[0m:\u001b[36m91\u001b[0m - \u001b[1mModel trained with seed 404\u001b[0m\n",
      "\u001b[32m2023-10-28 05:38:16.199\u001b[0m | \u001b[1mINFO    \u001b[0m | \u001b[36mutils.validation\u001b[0m:\u001b[36mcross_validate\u001b[0m:\u001b[36m103\u001b[0m - \u001b[1mFold 3: 5.8418 (took 1526.21s)\u001b[0m\n",
      "\u001b[32m2023-10-28 05:38:16.254\u001b[0m | \u001b[1mINFO    \u001b[0m | \u001b[36mutils.validation\u001b[0m:\u001b[36mcross_validate\u001b[0m:\u001b[36m110\u001b[0m - \u001b[1m------------------------------\u001b[0m\n",
      "\u001b[32m2023-10-28 05:38:16.260\u001b[0m | \u001b[32m\u001b[1mSUCCESS \u001b[0m | \u001b[36mutils.validation\u001b[0m:\u001b[36mcross_validate\u001b[0m:\u001b[36m111\u001b[0m - \u001b[32m\u001b[1mAverage MAE = 5.8414 ± 0.00\u001b[0m\n",
      "\u001b[32m2023-10-28 05:38:16.260\u001b[0m | \u001b[1mINFO    \u001b[0m | \u001b[36mutils.validation\u001b[0m:\u001b[36mcross_validate\u001b[0m:\u001b[36m112\u001b[0m - \u001b[1m==============================\u001b[0m\n",
      "Best trial: 24. Best value: 5.8414:  56%|█████▌    | 28/50 [5:16:11<4:20:42, 711.03s/it] "
     ]
    },
    {
     "name": "stdout",
     "output_type": "stream",
     "text": [
      "[W 2023-10-28 05:38:17,087] The parameter 'num_leaves' in trial#30 is sampled independently by using `RandomSampler` instead of `CmaEsSampler` (optimization performance may be degraded). `CmaEsSampler` does not support dynamic search space or `CategoricalDistribution`. You can suppress this warning by setting `warn_independent_sampling` to `False` in the constructor of `CmaEsSampler`, if this independent sampling is intended behavior.\n"
     ]
    },
    {
     "name": "stderr",
     "output_type": "stream",
     "text": [
      "\u001b[32m2023-10-28 05:38:17.382\u001b[0m | \u001b[1mINFO    \u001b[0m | \u001b[36mutils.validation\u001b[0m:\u001b[36mcross_validate\u001b[0m:\u001b[36m79\u001b[0m - \u001b[1mStarting evaluation...\u001b[0m\n",
      "\u001b[32m2023-10-28 05:38:17.382\u001b[0m | \u001b[1mINFO    \u001b[0m | \u001b[36mutils.validation\u001b[0m:\u001b[36mcross_validate\u001b[0m:\u001b[36m80\u001b[0m - \u001b[1m==============================\u001b[0m\n",
      "\u001b[32m2023-10-28 05:38:32.250\u001b[0m | \u001b[1mINFO    \u001b[0m | \u001b[36mutils.validation\u001b[0m:\u001b[36mcross_validate\u001b[0m:\u001b[36m91\u001b[0m - \u001b[1mModel trained with seed 1847\u001b[0m\n",
      "\u001b[32m2023-10-28 05:49:49.137\u001b[0m | \u001b[1mINFO    \u001b[0m | \u001b[36mutils.validation\u001b[0m:\u001b[36mcross_validate\u001b[0m:\u001b[36m103\u001b[0m - \u001b[1mFold 1: 5.8432 (took 656.54s)\u001b[0m\n",
      "\u001b[32m2023-10-28 05:50:02.798\u001b[0m | \u001b[1mINFO    \u001b[0m | \u001b[36mutils.validation\u001b[0m:\u001b[36mcross_validate\u001b[0m:\u001b[36m91\u001b[0m - \u001b[1mModel trained with seed 404\u001b[0m\n",
      "\u001b[32m2023-10-28 05:50:20.359\u001b[0m | \u001b[1mINFO    \u001b[0m | \u001b[36mutils.validation\u001b[0m:\u001b[36mcross_validate\u001b[0m:\u001b[36m103\u001b[0m - \u001b[1mFold 1: 5.8452 (took 1329.15s)\u001b[0m\n",
      "\u001b[32m2023-10-28 05:50:39.693\u001b[0m | \u001b[1mINFO    \u001b[0m | \u001b[36mutils.validation\u001b[0m:\u001b[36mcross_validate\u001b[0m:\u001b[36m91\u001b[0m - \u001b[1mModel trained with seed 7572\u001b[0m\n",
      "\u001b[32m2023-10-28 06:00:50.684\u001b[0m | \u001b[1mINFO    \u001b[0m | \u001b[36mutils.validation\u001b[0m:\u001b[36mcross_validate\u001b[0m:\u001b[36m103\u001b[0m - \u001b[1mFold 2: 5.8471 (took 1387.38s)\u001b[0m\n",
      "\u001b[32m2023-10-28 06:01:02.610\u001b[0m | \u001b[1mINFO    \u001b[0m | \u001b[36mutils.validation\u001b[0m:\u001b[36mcross_validate\u001b[0m:\u001b[36m91\u001b[0m - \u001b[1mModel trained with seed 6643\u001b[0m\n",
      "\u001b[32m2023-10-28 06:02:24.850\u001b[0m | \u001b[1mINFO    \u001b[0m | \u001b[36mutils.validation\u001b[0m:\u001b[36mcross_validate\u001b[0m:\u001b[36m103\u001b[0m - \u001b[1mFold 2: 5.8425 (took 717.12s)\u001b[0m\n",
      "\u001b[32m2023-10-28 06:02:36.537\u001b[0m | \u001b[1mINFO    \u001b[0m | \u001b[36mutils.validation\u001b[0m:\u001b[36mcross_validate\u001b[0m:\u001b[36m91\u001b[0m - \u001b[1mModel trained with seed 9542\u001b[0m\n",
      "\u001b[32m2023-10-28 06:12:59.257\u001b[0m | \u001b[1mINFO    \u001b[0m | \u001b[36mutils.validation\u001b[0m:\u001b[36mcross_validate\u001b[0m:\u001b[36m103\u001b[0m - \u001b[1mFold 2: 5.8456 (took 1266.24s)\u001b[0m\n",
      "\u001b[32m2023-10-28 06:13:11.615\u001b[0m | \u001b[1mINFO    \u001b[0m | \u001b[36mutils.validation\u001b[0m:\u001b[36mcross_validate\u001b[0m:\u001b[36m91\u001b[0m - \u001b[1mModel trained with seed 2944\u001b[0m\n",
      "\u001b[32m2023-10-28 06:14:29.034\u001b[0m | \u001b[1mINFO    \u001b[0m | \u001b[36mutils.validation\u001b[0m:\u001b[36mcross_validate\u001b[0m:\u001b[36m103\u001b[0m - \u001b[1mFold 3: 5.8408 (took 688.48s)\u001b[0m\n",
      "\u001b[32m2023-10-28 06:14:29.067\u001b[0m | \u001b[1mINFO    \u001b[0m | \u001b[36mutils.validation\u001b[0m:\u001b[36mcross_validate\u001b[0m:\u001b[36m110\u001b[0m - \u001b[1m------------------------------\u001b[0m\n",
      "\u001b[32m2023-10-28 06:14:29.072\u001b[0m | \u001b[32m\u001b[1mSUCCESS \u001b[0m | \u001b[36mutils.validation\u001b[0m:\u001b[36mcross_validate\u001b[0m:\u001b[36m111\u001b[0m - \u001b[32m\u001b[1mAverage MAE = 5.8422 ± 0.00\u001b[0m\n",
      "\u001b[32m2023-10-28 06:14:29.074\u001b[0m | \u001b[1mINFO    \u001b[0m | \u001b[36mutils.validation\u001b[0m:\u001b[36mcross_validate\u001b[0m:\u001b[36m112\u001b[0m - \u001b[1m==============================\u001b[0m\n",
      "Best trial: 24. Best value: 5.8414:  58%|█████▊    | 29/50 [5:52:24<6:42:21, 1149.59s/it]"
     ]
    },
    {
     "name": "stdout",
     "output_type": "stream",
     "text": [
      "[W 2023-10-28 06:14:29,962] The parameter 'num_leaves' in trial#31 is sampled independently by using `RandomSampler` instead of `CmaEsSampler` (optimization performance may be degraded). `CmaEsSampler` does not support dynamic search space or `CategoricalDistribution`. You can suppress this warning by setting `warn_independent_sampling` to `False` in the constructor of `CmaEsSampler`, if this independent sampling is intended behavior.\n"
     ]
    },
    {
     "name": "stderr",
     "output_type": "stream",
     "text": [
      "\u001b[32m2023-10-28 06:14:30.217\u001b[0m | \u001b[1mINFO    \u001b[0m | \u001b[36mutils.validation\u001b[0m:\u001b[36mcross_validate\u001b[0m:\u001b[36m79\u001b[0m - \u001b[1mStarting evaluation...\u001b[0m\n",
      "\u001b[32m2023-10-28 06:14:30.219\u001b[0m | \u001b[1mINFO    \u001b[0m | \u001b[36mutils.validation\u001b[0m:\u001b[36mcross_validate\u001b[0m:\u001b[36m80\u001b[0m - \u001b[1m==============================\u001b[0m\n",
      "\u001b[32m2023-10-28 06:14:44.500\u001b[0m | \u001b[1mINFO    \u001b[0m | \u001b[36mutils.validation\u001b[0m:\u001b[36mcross_validate\u001b[0m:\u001b[36m91\u001b[0m - \u001b[1mModel trained with seed 1847\u001b[0m\n",
      "\u001b[32m2023-10-28 06:24:31.898\u001b[0m | \u001b[1mINFO    \u001b[0m | \u001b[36mutils.validation\u001b[0m:\u001b[36mcross_validate\u001b[0m:\u001b[36m103\u001b[0m - \u001b[1mFold 3: 5.8473 (took 1361.79s)\u001b[0m\n",
      "\u001b[32m2023-10-28 06:24:31.950\u001b[0m | \u001b[1mINFO    \u001b[0m | \u001b[36mutils.validation\u001b[0m:\u001b[36mcross_validate\u001b[0m:\u001b[36m110\u001b[0m - \u001b[1m------------------------------\u001b[0m\n",
      "\u001b[32m2023-10-28 06:24:31.953\u001b[0m | \u001b[32m\u001b[1mSUCCESS \u001b[0m | \u001b[36mutils.validation\u001b[0m:\u001b[36mcross_validate\u001b[0m:\u001b[36m111\u001b[0m - \u001b[32m\u001b[1mAverage MAE = 5.8471 ± 0.00\u001b[0m\n",
      "\u001b[32m2023-10-28 06:24:31.953\u001b[0m | \u001b[1mINFO    \u001b[0m | \u001b[36mutils.validation\u001b[0m:\u001b[36mcross_validate\u001b[0m:\u001b[36m112\u001b[0m - \u001b[1m==============================\u001b[0m\n",
      "Best trial: 24. Best value: 5.8414:  60%|██████    | 30/50 [6:02:26<5:28:30, 985.54s/it] \u001b[32m2023-10-28 06:24:32.695\u001b[0m | \u001b[1mINFO    \u001b[0m | \u001b[36mutils.validation\u001b[0m:\u001b[36mcross_validate\u001b[0m:\u001b[36m79\u001b[0m - \u001b[1mStarting evaluation...\u001b[0m\n",
      "\u001b[32m2023-10-28 06:24:32.695\u001b[0m | \u001b[1mINFO    \u001b[0m | \u001b[36mutils.validation\u001b[0m:\u001b[36mcross_validate\u001b[0m:\u001b[36m80\u001b[0m - \u001b[1m==============================\u001b[0m\n"
     ]
    },
    {
     "name": "stdout",
     "output_type": "stream",
     "text": [
      "[W 2023-10-28 06:24:32,590] The parameter 'num_leaves' in trial#32 is sampled independently by using `RandomSampler` instead of `CmaEsSampler` (optimization performance may be degraded). `CmaEsSampler` does not support dynamic search space or `CategoricalDistribution`. You can suppress this warning by setting `warn_independent_sampling` to `False` in the constructor of `CmaEsSampler`, if this independent sampling is intended behavior.\n"
     ]
    },
    {
     "name": "stderr",
     "output_type": "stream",
     "text": [
      "\u001b[32m2023-10-28 06:24:47.633\u001b[0m | \u001b[1mINFO    \u001b[0m | \u001b[36mutils.validation\u001b[0m:\u001b[36mcross_validate\u001b[0m:\u001b[36m91\u001b[0m - \u001b[1mModel trained with seed 1847\u001b[0m\n",
      "\u001b[32m2023-10-28 06:36:33.173\u001b[0m | \u001b[1mINFO    \u001b[0m | \u001b[36mutils.validation\u001b[0m:\u001b[36mcross_validate\u001b[0m:\u001b[36m103\u001b[0m - \u001b[1mFold 3: 5.8459 (took 1328.75s)\u001b[0m\n",
      "\u001b[32m2023-10-28 06:36:33.225\u001b[0m | \u001b[1mINFO    \u001b[0m | \u001b[36mutils.validation\u001b[0m:\u001b[36mcross_validate\u001b[0m:\u001b[36m110\u001b[0m - \u001b[1m------------------------------\u001b[0m\n",
      "\u001b[32m2023-10-28 06:36:33.230\u001b[0m | \u001b[32m\u001b[1mSUCCESS \u001b[0m | \u001b[36mutils.validation\u001b[0m:\u001b[36mcross_validate\u001b[0m:\u001b[36m111\u001b[0m - \u001b[32m\u001b[1mAverage MAE = 5.8455 ± 0.00\u001b[0m\n",
      "\u001b[32m2023-10-28 06:36:33.231\u001b[0m | \u001b[1mINFO    \u001b[0m | \u001b[36mutils.validation\u001b[0m:\u001b[36mcross_validate\u001b[0m:\u001b[36m112\u001b[0m - \u001b[1m==============================\u001b[0m\n",
      "Best trial: 24. Best value: 5.8414:  62%|██████▏   | 31/50 [6:14:28<4:47:00, 906.33s/it]\u001b[32m2023-10-28 06:36:34.210\u001b[0m | \u001b[1mINFO    \u001b[0m | \u001b[36mutils.validation\u001b[0m:\u001b[36mcross_validate\u001b[0m:\u001b[36m79\u001b[0m - \u001b[1mStarting evaluation...\u001b[0m\n",
      "\u001b[32m2023-10-28 06:36:34.210\u001b[0m | \u001b[1mINFO    \u001b[0m | \u001b[36mutils.validation\u001b[0m:\u001b[36mcross_validate\u001b[0m:\u001b[36m80\u001b[0m - \u001b[1m==============================\u001b[0m\n"
     ]
    },
    {
     "name": "stdout",
     "output_type": "stream",
     "text": [
      "[W 2023-10-28 06:36:34,105] The parameter 'num_leaves' in trial#33 is sampled independently by using `RandomSampler` instead of `CmaEsSampler` (optimization performance may be degraded). `CmaEsSampler` does not support dynamic search space or `CategoricalDistribution`. You can suppress this warning by setting `warn_independent_sampling` to `False` in the constructor of `CmaEsSampler`, if this independent sampling is intended behavior.\n"
     ]
    },
    {
     "name": "stderr",
     "output_type": "stream",
     "text": [
      "\u001b[32m2023-10-28 06:36:49.329\u001b[0m | \u001b[1mINFO    \u001b[0m | \u001b[36mutils.validation\u001b[0m:\u001b[36mcross_validate\u001b[0m:\u001b[36m91\u001b[0m - \u001b[1mModel trained with seed 1847\u001b[0m\n",
      "\u001b[32m2023-10-28 06:48:32.413\u001b[0m | \u001b[1mINFO    \u001b[0m | \u001b[36mutils.validation\u001b[0m:\u001b[36mcross_validate\u001b[0m:\u001b[36m103\u001b[0m - \u001b[1mFold 1: 5.8432 (took 1907.82s)\u001b[0m\n",
      "\u001b[32m2023-10-28 06:48:44.308\u001b[0m | \u001b[1mINFO    \u001b[0m | \u001b[36mutils.validation\u001b[0m:\u001b[36mcross_validate\u001b[0m:\u001b[36m91\u001b[0m - \u001b[1mModel trained with seed 404\u001b[0m\n",
      "\u001b[32m2023-10-28 06:52:30.238\u001b[0m | \u001b[1mINFO    \u001b[0m | \u001b[36mutils.validation\u001b[0m:\u001b[36mcross_validate\u001b[0m:\u001b[36m103\u001b[0m - \u001b[1mFold 1: 5.8421 (took 1590.55s)\u001b[0m\n",
      "\u001b[32m2023-10-28 06:52:43.363\u001b[0m | \u001b[1mINFO    \u001b[0m | \u001b[36mutils.validation\u001b[0m:\u001b[36mcross_validate\u001b[0m:\u001b[36m91\u001b[0m - \u001b[1mModel trained with seed 7572\u001b[0m\n",
      "\u001b[32m2023-10-28 06:57:38.331\u001b[0m | \u001b[1mINFO    \u001b[0m | \u001b[36mutils.validation\u001b[0m:\u001b[36mcross_validate\u001b[0m:\u001b[36m103\u001b[0m - \u001b[1mFold 1: 5.8426 (took 1197.10s)\u001b[0m\n",
      "\u001b[32m2023-10-28 06:57:50.585\u001b[0m | \u001b[1mINFO    \u001b[0m | \u001b[36mutils.validation\u001b[0m:\u001b[36mcross_validate\u001b[0m:\u001b[36m91\u001b[0m - \u001b[1mModel trained with seed 6643\u001b[0m\n",
      "\u001b[32m2023-10-28 07:17:42.697\u001b[0m | \u001b[1mINFO    \u001b[0m | \u001b[36mutils.validation\u001b[0m:\u001b[36mcross_validate\u001b[0m:\u001b[36m103\u001b[0m - \u001b[1mFold 2: 5.8418 (took 1145.27s)\u001b[0m\n",
      "\u001b[32m2023-10-28 07:17:54.413\u001b[0m | \u001b[1mINFO    \u001b[0m | \u001b[36mutils.validation\u001b[0m:\u001b[36mcross_validate\u001b[0m:\u001b[36m91\u001b[0m - \u001b[1mModel trained with seed 9542\u001b[0m\n",
      "\u001b[32m2023-10-28 07:20:37.453\u001b[0m | \u001b[1mINFO    \u001b[0m | \u001b[36mutils.validation\u001b[0m:\u001b[36mcross_validate\u001b[0m:\u001b[36m103\u001b[0m - \u001b[1mFold 2: 5.8419 (took 1597.29s)\u001b[0m\n",
      "\u001b[32m2023-10-28 07:20:49.496\u001b[0m | \u001b[1mINFO    \u001b[0m | \u001b[36mutils.validation\u001b[0m:\u001b[36mcross_validate\u001b[0m:\u001b[36m91\u001b[0m - \u001b[1mModel trained with seed 2944\u001b[0m\n",
      "\u001b[32m2023-10-28 07:22:30.832\u001b[0m | \u001b[1mINFO    \u001b[0m | \u001b[36mutils.validation\u001b[0m:\u001b[36mcross_validate\u001b[0m:\u001b[36m103\u001b[0m - \u001b[1mFold 2: 5.8437 (took 1889.86s)\u001b[0m\n",
      "\u001b[32m2023-10-28 07:22:42.218\u001b[0m | \u001b[1mINFO    \u001b[0m | \u001b[36mutils.validation\u001b[0m:\u001b[36mcross_validate\u001b[0m:\u001b[36m91\u001b[0m - \u001b[1mModel trained with seed 4845\u001b[0m\n",
      "\u001b[32m2023-10-28 07:38:08.429\u001b[0m | \u001b[1mINFO    \u001b[0m | \u001b[36mutils.validation\u001b[0m:\u001b[36mcross_validate\u001b[0m:\u001b[36m103\u001b[0m - \u001b[1mFold 3: 5.8422 (took 1165.56s)\u001b[0m\n",
      "\u001b[32m2023-10-28 07:38:08.473\u001b[0m | \u001b[1mINFO    \u001b[0m | \u001b[36mutils.validation\u001b[0m:\u001b[36mcross_validate\u001b[0m:\u001b[36m110\u001b[0m - \u001b[1m------------------------------\u001b[0m\n",
      "\u001b[32m2023-10-28 07:38:08.477\u001b[0m | \u001b[32m\u001b[1mSUCCESS \u001b[0m | \u001b[36mutils.validation\u001b[0m:\u001b[36mcross_validate\u001b[0m:\u001b[36m111\u001b[0m - \u001b[32m\u001b[1mAverage MAE = 5.8422 ± 0.00\u001b[0m\n",
      "\u001b[32m2023-10-28 07:38:08.477\u001b[0m | \u001b[1mINFO    \u001b[0m | \u001b[36mutils.validation\u001b[0m:\u001b[36mcross_validate\u001b[0m:\u001b[36m112\u001b[0m - \u001b[1m==============================\u001b[0m\n",
      "Best trial: 24. Best value: 5.8414:  64%|██████▍   | 32/50 [7:16:03<8:42:53, 1742.98s/it]\u001b[32m2023-10-28 07:38:09.379\u001b[0m | \u001b[1mINFO    \u001b[0m | \u001b[36mutils.validation\u001b[0m:\u001b[36mcross_validate\u001b[0m:\u001b[36m79\u001b[0m - \u001b[1mStarting evaluation...\u001b[0m\n",
      "\u001b[32m2023-10-28 07:38:09.379\u001b[0m | \u001b[1mINFO    \u001b[0m | \u001b[36mutils.validation\u001b[0m:\u001b[36mcross_validate\u001b[0m:\u001b[36m80\u001b[0m - \u001b[1m==============================\u001b[0m\n"
     ]
    },
    {
     "name": "stdout",
     "output_type": "stream",
     "text": [
      "[W 2023-10-28 07:38:09,269] The parameter 'num_leaves' in trial#34 is sampled independently by using `RandomSampler` instead of `CmaEsSampler` (optimization performance may be degraded). `CmaEsSampler` does not support dynamic search space or `CategoricalDistribution`. You can suppress this warning by setting `warn_independent_sampling` to `False` in the constructor of `CmaEsSampler`, if this independent sampling is intended behavior.\n"
     ]
    },
    {
     "name": "stderr",
     "output_type": "stream",
     "text": [
      "\u001b[32m2023-10-28 07:38:24.159\u001b[0m | \u001b[1mINFO    \u001b[0m | \u001b[36mutils.validation\u001b[0m:\u001b[36mcross_validate\u001b[0m:\u001b[36m91\u001b[0m - \u001b[1mModel trained with seed 1847\u001b[0m\n",
      "\u001b[32m2023-10-28 07:48:32.906\u001b[0m | \u001b[1mINFO    \u001b[0m | \u001b[36mutils.validation\u001b[0m:\u001b[36mcross_validate\u001b[0m:\u001b[36m103\u001b[0m - \u001b[1mFold 3: 5.8422 (took 1590.75s)\u001b[0m\n",
      "\u001b[32m2023-10-28 07:48:32.947\u001b[0m | \u001b[1mINFO    \u001b[0m | \u001b[36mutils.validation\u001b[0m:\u001b[36mcross_validate\u001b[0m:\u001b[36m110\u001b[0m - \u001b[1m------------------------------\u001b[0m\n",
      "\u001b[32m2023-10-28 07:48:32.949\u001b[0m | \u001b[32m\u001b[1mSUCCESS \u001b[0m | \u001b[36mutils.validation\u001b[0m:\u001b[36mcross_validate\u001b[0m:\u001b[36m111\u001b[0m - \u001b[32m\u001b[1mAverage MAE = 5.8421 ± 0.00\u001b[0m\n",
      "\u001b[32m2023-10-28 07:48:32.950\u001b[0m | \u001b[1mINFO    \u001b[0m | \u001b[36mutils.validation\u001b[0m:\u001b[36mcross_validate\u001b[0m:\u001b[36m112\u001b[0m - \u001b[1m==============================\u001b[0m\n",
      "Best trial: 24. Best value: 5.8414:  66%|██████▌   | 33/50 [7:26:27<6:38:46, 1407.43s/it]\u001b[32m2023-10-28 07:48:33.810\u001b[0m | \u001b[1mINFO    \u001b[0m | \u001b[36mutils.validation\u001b[0m:\u001b[36mcross_validate\u001b[0m:\u001b[36m79\u001b[0m - \u001b[1mStarting evaluation...\u001b[0m\n",
      "\u001b[32m2023-10-28 07:48:33.810\u001b[0m | \u001b[1mINFO    \u001b[0m | \u001b[36mutils.validation\u001b[0m:\u001b[36mcross_validate\u001b[0m:\u001b[36m80\u001b[0m - \u001b[1m==============================\u001b[0m\n"
     ]
    },
    {
     "name": "stdout",
     "output_type": "stream",
     "text": [
      "[W 2023-10-28 07:48:33,706] The parameter 'num_leaves' in trial#35 is sampled independently by using `RandomSampler` instead of `CmaEsSampler` (optimization performance may be degraded). `CmaEsSampler` does not support dynamic search space or `CategoricalDistribution`. You can suppress this warning by setting `warn_independent_sampling` to `False` in the constructor of `CmaEsSampler`, if this independent sampling is intended behavior.\n"
     ]
    },
    {
     "name": "stderr",
     "output_type": "stream",
     "text": [
      "\u001b[32m2023-10-28 07:48:47.970\u001b[0m | \u001b[1mINFO    \u001b[0m | \u001b[36mutils.validation\u001b[0m:\u001b[36mcross_validate\u001b[0m:\u001b[36m91\u001b[0m - \u001b[1mModel trained with seed 1847\u001b[0m\n",
      "\u001b[32m2023-10-28 07:50:38.269\u001b[0m | \u001b[1mINFO    \u001b[0m | \u001b[36mutils.validation\u001b[0m:\u001b[36mcross_validate\u001b[0m:\u001b[36m103\u001b[0m - \u001b[1mFold 1: 5.8431 (took 706.93s)\u001b[0m\n",
      "\u001b[32m2023-10-28 07:50:50.899\u001b[0m | \u001b[1mINFO    \u001b[0m | \u001b[36mutils.validation\u001b[0m:\u001b[36mcross_validate\u001b[0m:\u001b[36m91\u001b[0m - \u001b[1mModel trained with seed 404\u001b[0m\n",
      "\u001b[32m2023-10-28 07:54:59.926\u001b[0m | \u001b[1mINFO    \u001b[0m | \u001b[36mutils.validation\u001b[0m:\u001b[36mcross_validate\u001b[0m:\u001b[36m103\u001b[0m - \u001b[1mFold 1: 5.8452 (took 361.20s)\u001b[0m\n",
      "\u001b[32m2023-10-28 07:55:12.406\u001b[0m | \u001b[1mINFO    \u001b[0m | \u001b[36mutils.validation\u001b[0m:\u001b[36mcross_validate\u001b[0m:\u001b[36m91\u001b[0m - \u001b[1mModel trained with seed 7572\u001b[0m\n",
      "\u001b[32m2023-10-28 07:55:59.648\u001b[0m | \u001b[1mINFO    \u001b[0m | \u001b[36mutils.validation\u001b[0m:\u001b[36mcross_validate\u001b[0m:\u001b[36m103\u001b[0m - \u001b[1mFold 3: 5.8433 (took 1870.18s)\u001b[0m\n",
      "\u001b[32m2023-10-28 07:55:59.689\u001b[0m | \u001b[1mINFO    \u001b[0m | \u001b[36mutils.validation\u001b[0m:\u001b[36mcross_validate\u001b[0m:\u001b[36m110\u001b[0m - \u001b[1m------------------------------\u001b[0m\n",
      "\u001b[32m2023-10-28 07:55:59.695\u001b[0m | \u001b[32m\u001b[1mSUCCESS \u001b[0m | \u001b[36mutils.validation\u001b[0m:\u001b[36mcross_validate\u001b[0m:\u001b[36m111\u001b[0m - \u001b[32m\u001b[1mAverage MAE = 5.8434 ± 0.00\u001b[0m\n",
      "\u001b[32m2023-10-28 07:55:59.696\u001b[0m | \u001b[1mINFO    \u001b[0m | \u001b[36mutils.validation\u001b[0m:\u001b[36mcross_validate\u001b[0m:\u001b[36m112\u001b[0m - \u001b[1m==============================\u001b[0m\n",
      "Best trial: 24. Best value: 5.8414:  68%|██████▊   | 34/50 [7:33:55<4:58:30, 1119.43s/it]\u001b[32m2023-10-28 07:56:01.259\u001b[0m | \u001b[1mINFO    \u001b[0m | \u001b[36mutils.validation\u001b[0m:\u001b[36mcross_validate\u001b[0m:\u001b[36m79\u001b[0m - \u001b[1mStarting evaluation...\u001b[0m\n",
      "\u001b[32m2023-10-28 07:56:01.259\u001b[0m | \u001b[1mINFO    \u001b[0m | \u001b[36mutils.validation\u001b[0m:\u001b[36mcross_validate\u001b[0m:\u001b[36m80\u001b[0m - \u001b[1m==============================\u001b[0m\n"
     ]
    },
    {
     "name": "stdout",
     "output_type": "stream",
     "text": [
      "[W 2023-10-28 07:56:01,154] The parameter 'num_leaves' in trial#36 is sampled independently by using `RandomSampler` instead of `CmaEsSampler` (optimization performance may be degraded). `CmaEsSampler` does not support dynamic search space or `CategoricalDistribution`. You can suppress this warning by setting `warn_independent_sampling` to `False` in the constructor of `CmaEsSampler`, if this independent sampling is intended behavior.\n"
     ]
    },
    {
     "name": "stderr",
     "output_type": "stream",
     "text": [
      "\u001b[32m2023-10-28 07:56:15.245\u001b[0m | \u001b[1mINFO    \u001b[0m | \u001b[36mutils.validation\u001b[0m:\u001b[36mcross_validate\u001b[0m:\u001b[36m91\u001b[0m - \u001b[1mModel trained with seed 1847\u001b[0m\n",
      "\u001b[32m2023-10-28 08:01:05.180\u001b[0m | \u001b[1mINFO    \u001b[0m | \u001b[36mutils.validation\u001b[0m:\u001b[36mcross_validate\u001b[0m:\u001b[36m103\u001b[0m - \u001b[1mFold 2: 5.8479 (took 342.96s)\u001b[0m\n",
      "\u001b[32m2023-10-28 08:01:16.614\u001b[0m | \u001b[1mINFO    \u001b[0m | \u001b[36mutils.validation\u001b[0m:\u001b[36mcross_validate\u001b[0m:\u001b[36m91\u001b[0m - \u001b[1mModel trained with seed 404\u001b[0m\n",
      "\u001b[32m2023-10-28 08:01:53.228\u001b[0m | \u001b[1mINFO    \u001b[0m | \u001b[36mutils.validation\u001b[0m:\u001b[36mcross_validate\u001b[0m:\u001b[36m103\u001b[0m - \u001b[1mFold 2: 5.8438 (took 639.11s)\u001b[0m\n",
      "\u001b[32m2023-10-28 08:02:05.195\u001b[0m | \u001b[1mINFO    \u001b[0m | \u001b[36mutils.validation\u001b[0m:\u001b[36mcross_validate\u001b[0m:\u001b[36m91\u001b[0m - \u001b[1mModel trained with seed 7572\u001b[0m\n",
      "\u001b[32m2023-10-28 08:06:56.943\u001b[0m | \u001b[1mINFO    \u001b[0m | \u001b[36mutils.validation\u001b[0m:\u001b[36mcross_validate\u001b[0m:\u001b[36m103\u001b[0m - \u001b[1mFold 3: 5.8456 (took 330.92s)\u001b[0m\n",
      "\u001b[32m2023-10-28 08:06:56.977\u001b[0m | \u001b[1mINFO    \u001b[0m | \u001b[36mutils.validation\u001b[0m:\u001b[36mcross_validate\u001b[0m:\u001b[36m110\u001b[0m - \u001b[1m------------------------------\u001b[0m\n",
      "\u001b[32m2023-10-28 08:06:56.987\u001b[0m | \u001b[32m\u001b[1mSUCCESS \u001b[0m | \u001b[36mutils.validation\u001b[0m:\u001b[36mcross_validate\u001b[0m:\u001b[36m111\u001b[0m - \u001b[32m\u001b[1mAverage MAE = 5.8462 ± 0.00\u001b[0m\n",
      "\u001b[32m2023-10-28 08:06:56.988\u001b[0m | \u001b[1mINFO    \u001b[0m | \u001b[36mutils.validation\u001b[0m:\u001b[36mcross_validate\u001b[0m:\u001b[36m112\u001b[0m - \u001b[1m==============================\u001b[0m\n",
      "Best trial: 24. Best value: 5.8414:  70%|███████   | 35/50 [7:44:51<4:05:07, 980.51s/it] \u001b[32m2023-10-28 08:06:57.571\u001b[0m | \u001b[1mINFO    \u001b[0m | \u001b[36mutils.validation\u001b[0m:\u001b[36mcross_validate\u001b[0m:\u001b[36m79\u001b[0m - \u001b[1mStarting evaluation...\u001b[0m\n",
      "\u001b[32m2023-10-28 08:06:57.587\u001b[0m | \u001b[1mINFO    \u001b[0m | \u001b[36mutils.validation\u001b[0m:\u001b[36mcross_validate\u001b[0m:\u001b[36m80\u001b[0m - \u001b[1m==============================\u001b[0m\n"
     ]
    },
    {
     "name": "stdout",
     "output_type": "stream",
     "text": [
      "[W 2023-10-28 08:06:57,486] The parameter 'num_leaves' in trial#37 is sampled independently by using `RandomSampler` instead of `CmaEsSampler` (optimization performance may be degraded). `CmaEsSampler` does not support dynamic search space or `CategoricalDistribution`. You can suppress this warning by setting `warn_independent_sampling` to `False` in the constructor of `CmaEsSampler`, if this independent sampling is intended behavior.\n"
     ]
    },
    {
     "name": "stderr",
     "output_type": "stream",
     "text": [
      "\u001b[32m2023-10-28 08:07:10.744\u001b[0m | \u001b[1mINFO    \u001b[0m | \u001b[36mutils.validation\u001b[0m:\u001b[36mcross_validate\u001b[0m:\u001b[36m91\u001b[0m - \u001b[1mModel trained with seed 1847\u001b[0m\n",
      "\u001b[32m2023-10-28 08:07:13.909\u001b[0m | \u001b[1mINFO    \u001b[0m | \u001b[36mutils.validation\u001b[0m:\u001b[36mcross_validate\u001b[0m:\u001b[36m103\u001b[0m - \u001b[1mFold 1: 5.8436 (took 637.33s)\u001b[0m\n",
      "\u001b[32m2023-10-28 08:07:37.455\u001b[0m | \u001b[1mINFO    \u001b[0m | \u001b[36mutils.validation\u001b[0m:\u001b[36mcross_validate\u001b[0m:\u001b[36m91\u001b[0m - \u001b[1mModel trained with seed 404\u001b[0m\n",
      "\u001b[32m2023-10-28 08:15:06.919\u001b[0m | \u001b[1mINFO    \u001b[0m | \u001b[36mutils.validation\u001b[0m:\u001b[36mcross_validate\u001b[0m:\u001b[36m103\u001b[0m - \u001b[1mFold 3: 5.8425 (took 754.78s)\u001b[0m\n",
      "\u001b[32m2023-10-28 08:15:06.965\u001b[0m | \u001b[1mINFO    \u001b[0m | \u001b[36mutils.validation\u001b[0m:\u001b[36mcross_validate\u001b[0m:\u001b[36m110\u001b[0m - \u001b[1m------------------------------\u001b[0m\n",
      "\u001b[32m2023-10-28 08:15:06.969\u001b[0m | \u001b[32m\u001b[1mSUCCESS \u001b[0m | \u001b[36mutils.validation\u001b[0m:\u001b[36mcross_validate\u001b[0m:\u001b[36m111\u001b[0m - \u001b[32m\u001b[1mAverage MAE = 5.8431 ± 0.00\u001b[0m\n",
      "\u001b[32m2023-10-28 08:15:06.971\u001b[0m | \u001b[1mINFO    \u001b[0m | \u001b[36mutils.validation\u001b[0m:\u001b[36mcross_validate\u001b[0m:\u001b[36m112\u001b[0m - \u001b[1m==============================\u001b[0m\n",
      "Best trial: 24. Best value: 5.8414:  72%|███████▏  | 36/50 [7:53:01<3:14:27, 833.36s/it]\u001b[32m2023-10-28 08:15:07.636\u001b[0m | \u001b[1mINFO    \u001b[0m | \u001b[36mutils.validation\u001b[0m:\u001b[36mcross_validate\u001b[0m:\u001b[36m79\u001b[0m - \u001b[1mStarting evaluation...\u001b[0m\n",
      "\u001b[32m2023-10-28 08:15:07.636\u001b[0m | \u001b[1mINFO    \u001b[0m | \u001b[36mutils.validation\u001b[0m:\u001b[36mcross_validate\u001b[0m:\u001b[36m80\u001b[0m - \u001b[1m==============================\u001b[0m\n"
     ]
    },
    {
     "name": "stdout",
     "output_type": "stream",
     "text": [
      "[W 2023-10-28 08:15:07,518] The parameter 'num_leaves' in trial#38 is sampled independently by using `RandomSampler` instead of `CmaEsSampler` (optimization performance may be degraded). `CmaEsSampler` does not support dynamic search space or `CategoricalDistribution`. You can suppress this warning by setting `warn_independent_sampling` to `False` in the constructor of `CmaEsSampler`, if this independent sampling is intended behavior.\n"
     ]
    },
    {
     "name": "stderr",
     "output_type": "stream",
     "text": [
      "\u001b[32m2023-10-28 08:15:23.106\u001b[0m | \u001b[1mINFO    \u001b[0m | \u001b[36mutils.validation\u001b[0m:\u001b[36mcross_validate\u001b[0m:\u001b[36m91\u001b[0m - \u001b[1mModel trained with seed 1847\u001b[0m\n",
      "\u001b[32m2023-10-28 08:18:57.404\u001b[0m | \u001b[1mINFO    \u001b[0m | \u001b[36mutils.validation\u001b[0m:\u001b[36mcross_validate\u001b[0m:\u001b[36m103\u001b[0m - \u001b[1mFold 2: 5.8441 (took 661.57s)\u001b[0m\n",
      "\u001b[32m2023-10-28 08:19:09.549\u001b[0m | \u001b[1mINFO    \u001b[0m | \u001b[36mutils.validation\u001b[0m:\u001b[36mcross_validate\u001b[0m:\u001b[36m91\u001b[0m - \u001b[1mModel trained with seed 404\u001b[0m\n",
      "\u001b[32m2023-10-28 08:24:11.415\u001b[0m | \u001b[1mINFO    \u001b[0m | \u001b[36mutils.validation\u001b[0m:\u001b[36mcross_validate\u001b[0m:\u001b[36m103\u001b[0m - \u001b[1mFold 1: 5.8441 (took 989.07s)\u001b[0m\n",
      "\u001b[32m2023-10-28 08:24:24.014\u001b[0m | \u001b[1mINFO    \u001b[0m | \u001b[36mutils.validation\u001b[0m:\u001b[36mcross_validate\u001b[0m:\u001b[36m91\u001b[0m - \u001b[1mModel trained with seed 7572\u001b[0m\n",
      "\u001b[32m2023-10-28 08:29:18.214\u001b[0m | \u001b[1mINFO    \u001b[0m | \u001b[36mutils.validation\u001b[0m:\u001b[36mcross_validate\u001b[0m:\u001b[36m103\u001b[0m - \u001b[1mFold 1: 5.8421 (took 805.03s)\u001b[0m\n",
      "\u001b[32m2023-10-28 08:29:29.686\u001b[0m | \u001b[1mINFO    \u001b[0m | \u001b[36mutils.validation\u001b[0m:\u001b[36mcross_validate\u001b[0m:\u001b[36m91\u001b[0m - \u001b[1mModel trained with seed 6643\u001b[0m\n",
      "\u001b[32m2023-10-28 08:29:51.316\u001b[0m | \u001b[1mINFO    \u001b[0m | \u001b[36mutils.validation\u001b[0m:\u001b[36mcross_validate\u001b[0m:\u001b[36m103\u001b[0m - \u001b[1mFold 3: 5.8441 (took 620.59s)\u001b[0m\n",
      "\u001b[32m2023-10-28 08:29:51.477\u001b[0m | \u001b[1mINFO    \u001b[0m | \u001b[36mutils.validation\u001b[0m:\u001b[36mcross_validate\u001b[0m:\u001b[36m110\u001b[0m - \u001b[1m------------------------------\u001b[0m\n",
      "\u001b[32m2023-10-28 08:29:51.491\u001b[0m | \u001b[32m\u001b[1mSUCCESS \u001b[0m | \u001b[36mutils.validation\u001b[0m:\u001b[36mcross_validate\u001b[0m:\u001b[36m111\u001b[0m - \u001b[32m\u001b[1mAverage MAE = 5.8440 ± 0.00\u001b[0m\n",
      "\u001b[32m2023-10-28 08:29:51.493\u001b[0m | \u001b[1mINFO    \u001b[0m | \u001b[36mutils.validation\u001b[0m:\u001b[36mcross_validate\u001b[0m:\u001b[36m112\u001b[0m - \u001b[1m==============================\u001b[0m\n",
      "Best trial: 24. Best value: 5.8414:  74%|███████▍  | 37/50 [8:07:47<3:03:55, 848.91s/it]\u001b[32m2023-10-28 08:29:53.017\u001b[0m | \u001b[1mINFO    \u001b[0m | \u001b[36mutils.validation\u001b[0m:\u001b[36mcross_validate\u001b[0m:\u001b[36m79\u001b[0m - \u001b[1mStarting evaluation...\u001b[0m\n",
      "\u001b[32m2023-10-28 08:29:53.017\u001b[0m | \u001b[1mINFO    \u001b[0m | \u001b[36mutils.validation\u001b[0m:\u001b[36mcross_validate\u001b[0m:\u001b[36m80\u001b[0m - \u001b[1m==============================\u001b[0m\n"
     ]
    },
    {
     "name": "stdout",
     "output_type": "stream",
     "text": [
      "[W 2023-10-28 08:29:52,887] The parameter 'num_leaves' in trial#39 is sampled independently by using `RandomSampler` instead of `CmaEsSampler` (optimization performance may be degraded). `CmaEsSampler` does not support dynamic search space or `CategoricalDistribution`. You can suppress this warning by setting `warn_independent_sampling` to `False` in the constructor of `CmaEsSampler`, if this independent sampling is intended behavior.\n"
     ]
    },
    {
     "name": "stderr",
     "output_type": "stream",
     "text": [
      "\u001b[32m2023-10-28 08:30:17.456\u001b[0m | \u001b[1mINFO    \u001b[0m | \u001b[36mutils.validation\u001b[0m:\u001b[36mcross_validate\u001b[0m:\u001b[36m91\u001b[0m - \u001b[1mModel trained with seed 1847\u001b[0m\n",
      "\u001b[32m2023-10-28 08:39:56.310\u001b[0m | \u001b[1mINFO    \u001b[0m | \u001b[36mutils.validation\u001b[0m:\u001b[36mcross_validate\u001b[0m:\u001b[36m103\u001b[0m - \u001b[1mFold 2: 5.8414 (took 901.72s)\u001b[0m\n",
      "\u001b[32m2023-10-28 08:40:07.517\u001b[0m | \u001b[1mINFO    \u001b[0m | \u001b[36mutils.validation\u001b[0m:\u001b[36mcross_validate\u001b[0m:\u001b[36m91\u001b[0m - \u001b[1mModel trained with seed 404\u001b[0m\n",
      "\u001b[32m2023-10-28 08:46:13.585\u001b[0m | \u001b[1mINFO    \u001b[0m | \u001b[36mutils.validation\u001b[0m:\u001b[36mcross_validate\u001b[0m:\u001b[36m103\u001b[0m - \u001b[1mFold 2: 5.8414 (took 963.36s)\u001b[0m\n",
      "\u001b[32m2023-10-28 08:46:26.012\u001b[0m | \u001b[1mINFO    \u001b[0m | \u001b[36mutils.validation\u001b[0m:\u001b[36mcross_validate\u001b[0m:\u001b[36m91\u001b[0m - \u001b[1mModel trained with seed 7572\u001b[0m\n",
      "\u001b[32m2023-10-28 08:53:31.227\u001b[0m | \u001b[1mINFO    \u001b[0m | \u001b[36mutils.validation\u001b[0m:\u001b[36mcross_validate\u001b[0m:\u001b[36m103\u001b[0m - \u001b[1mFold 3: 5.8425 (took 781.29s)\u001b[0m\n",
      "\u001b[32m2023-10-28 08:53:31.266\u001b[0m | \u001b[1mINFO    \u001b[0m | \u001b[36mutils.validation\u001b[0m:\u001b[36mcross_validate\u001b[0m:\u001b[36m110\u001b[0m - \u001b[1m------------------------------\u001b[0m\n",
      "\u001b[32m2023-10-28 08:53:31.271\u001b[0m | \u001b[32m\u001b[1mSUCCESS \u001b[0m | \u001b[36mutils.validation\u001b[0m:\u001b[36mcross_validate\u001b[0m:\u001b[36m111\u001b[0m - \u001b[32m\u001b[1mAverage MAE = 5.8427 ± 0.00\u001b[0m\n",
      "\u001b[32m2023-10-28 08:53:31.273\u001b[0m | \u001b[1mINFO    \u001b[0m | \u001b[36mutils.validation\u001b[0m:\u001b[36mcross_validate\u001b[0m:\u001b[36m112\u001b[0m - \u001b[1m==============================\u001b[0m\n",
      "Best trial: 24. Best value: 5.8414:  76%|███████▌  | 38/50 [8:31:26<3:24:00, 1020.02s/it]\u001b[32m2023-10-28 08:53:32.118\u001b[0m | \u001b[1mINFO    \u001b[0m | \u001b[36mutils.validation\u001b[0m:\u001b[36mcross_validate\u001b[0m:\u001b[36m79\u001b[0m - \u001b[1mStarting evaluation...\u001b[0m\n",
      "\u001b[32m2023-10-28 08:53:32.118\u001b[0m | \u001b[1mINFO    \u001b[0m | \u001b[36mutils.validation\u001b[0m:\u001b[36mcross_validate\u001b[0m:\u001b[36m80\u001b[0m - \u001b[1m==============================\u001b[0m\n"
     ]
    },
    {
     "name": "stdout",
     "output_type": "stream",
     "text": [
      "[W 2023-10-28 08:53:32,006] The parameter 'num_leaves' in trial#40 is sampled independently by using `RandomSampler` instead of `CmaEsSampler` (optimization performance may be degraded). `CmaEsSampler` does not support dynamic search space or `CategoricalDistribution`. You can suppress this warning by setting `warn_independent_sampling` to `False` in the constructor of `CmaEsSampler`, if this independent sampling is intended behavior.\n"
     ]
    },
    {
     "name": "stderr",
     "output_type": "stream",
     "text": [
      "\u001b[32m2023-10-28 08:53:47.173\u001b[0m | \u001b[1mINFO    \u001b[0m | \u001b[36mutils.validation\u001b[0m:\u001b[36mcross_validate\u001b[0m:\u001b[36m91\u001b[0m - \u001b[1mModel trained with seed 1847\u001b[0m\n",
      "\u001b[32m2023-10-28 08:55:01.724\u001b[0m | \u001b[1mINFO    \u001b[0m | \u001b[36mutils.validation\u001b[0m:\u001b[36mcross_validate\u001b[0m:\u001b[36m103\u001b[0m - \u001b[1mFold 1: 5.8424 (took 1421.83s)\u001b[0m\n",
      "\u001b[32m2023-10-28 08:55:14.316\u001b[0m | \u001b[1mINFO    \u001b[0m | \u001b[36mutils.validation\u001b[0m:\u001b[36mcross_validate\u001b[0m:\u001b[36m91\u001b[0m - \u001b[1mModel trained with seed 404\u001b[0m\n",
      "\u001b[32m2023-10-28 08:59:20.916\u001b[0m | \u001b[1mINFO    \u001b[0m | \u001b[36mutils.validation\u001b[0m:\u001b[36mcross_validate\u001b[0m:\u001b[36m103\u001b[0m - \u001b[1mFold 1: 5.8463 (took 324.54s)\u001b[0m\n",
      "\u001b[32m2023-10-28 08:59:32.775\u001b[0m | \u001b[1mINFO    \u001b[0m | \u001b[36mutils.validation\u001b[0m:\u001b[36mcross_validate\u001b[0m:\u001b[36m91\u001b[0m - \u001b[1mModel trained with seed 7572\u001b[0m\n",
      "\u001b[32m2023-10-28 09:01:17.976\u001b[0m | \u001b[1mINFO    \u001b[0m | \u001b[36mutils.validation\u001b[0m:\u001b[36mcross_validate\u001b[0m:\u001b[36m103\u001b[0m - \u001b[1mFold 3: 5.8418 (took 857.77s)\u001b[0m\n",
      "\u001b[32m2023-10-28 09:01:17.984\u001b[0m | \u001b[1mINFO    \u001b[0m | \u001b[36mutils.validation\u001b[0m:\u001b[36mcross_validate\u001b[0m:\u001b[36m110\u001b[0m - \u001b[1m------------------------------\u001b[0m\n",
      "\u001b[32m2023-10-28 09:01:17.992\u001b[0m | \u001b[32m\u001b[1mSUCCESS \u001b[0m | \u001b[36mutils.validation\u001b[0m:\u001b[36mcross_validate\u001b[0m:\u001b[36m111\u001b[0m - \u001b[32m\u001b[1mAverage MAE = 5.8417 ± 0.00\u001b[0m\n",
      "\u001b[32m2023-10-28 09:01:17.993\u001b[0m | \u001b[1mINFO    \u001b[0m | \u001b[36mutils.validation\u001b[0m:\u001b[36mcross_validate\u001b[0m:\u001b[36m112\u001b[0m - \u001b[1m==============================\u001b[0m\n",
      "Best trial: 24. Best value: 5.8414:  78%|███████▊  | 39/50 [8:39:13<2:36:34, 854.06s/it] \u001b[32m2023-10-28 09:01:18.965\u001b[0m | \u001b[1mINFO    \u001b[0m | \u001b[36mutils.validation\u001b[0m:\u001b[36mcross_validate\u001b[0m:\u001b[36m79\u001b[0m - \u001b[1mStarting evaluation...\u001b[0m\n",
      "\u001b[32m2023-10-28 09:01:18.965\u001b[0m | \u001b[1mINFO    \u001b[0m | \u001b[36mutils.validation\u001b[0m:\u001b[36mcross_validate\u001b[0m:\u001b[36m80\u001b[0m - \u001b[1m==============================\u001b[0m\n"
     ]
    },
    {
     "name": "stdout",
     "output_type": "stream",
     "text": [
      "[W 2023-10-28 09:01:18,845] The parameter 'num_leaves' in trial#41 is sampled independently by using `RandomSampler` instead of `CmaEsSampler` (optimization performance may be degraded). `CmaEsSampler` does not support dynamic search space or `CategoricalDistribution`. You can suppress this warning by setting `warn_independent_sampling` to `False` in the constructor of `CmaEsSampler`, if this independent sampling is intended behavior.\n"
     ]
    },
    {
     "name": "stderr",
     "output_type": "stream",
     "text": [
      "\u001b[32m2023-10-28 09:01:32.678\u001b[0m | \u001b[1mINFO    \u001b[0m | \u001b[36mutils.validation\u001b[0m:\u001b[36mcross_validate\u001b[0m:\u001b[36m91\u001b[0m - \u001b[1mModel trained with seed 1847\u001b[0m\n",
      "\u001b[32m2023-10-28 09:06:13.039\u001b[0m | \u001b[1mINFO    \u001b[0m | \u001b[36mutils.validation\u001b[0m:\u001b[36mcross_validate\u001b[0m:\u001b[36m103\u001b[0m - \u001b[1mFold 2: 5.8448 (took 386.28s)\u001b[0m\n",
      "\u001b[32m2023-10-28 09:06:23.747\u001b[0m | \u001b[1mINFO    \u001b[0m | \u001b[36mutils.validation\u001b[0m:\u001b[36mcross_validate\u001b[0m:\u001b[36m91\u001b[0m - \u001b[1mModel trained with seed 404\u001b[0m\n",
      "\u001b[32m2023-10-28 09:12:29.064\u001b[0m | \u001b[1mINFO    \u001b[0m | \u001b[36mutils.validation\u001b[0m:\u001b[36mcross_validate\u001b[0m:\u001b[36m103\u001b[0m - \u001b[1mFold 3: 5.8471 (took 354.59s)\u001b[0m\n",
      "\u001b[32m2023-10-28 09:12:29.103\u001b[0m | \u001b[1mINFO    \u001b[0m | \u001b[36mutils.validation\u001b[0m:\u001b[36mcross_validate\u001b[0m:\u001b[36m110\u001b[0m - \u001b[1m------------------------------\u001b[0m\n",
      "\u001b[32m2023-10-28 09:12:29.107\u001b[0m | \u001b[32m\u001b[1mSUCCESS \u001b[0m | \u001b[36mutils.validation\u001b[0m:\u001b[36mcross_validate\u001b[0m:\u001b[36m111\u001b[0m - \u001b[32m\u001b[1mAverage MAE = 5.8461 ± 0.00\u001b[0m\n",
      "\u001b[32m2023-10-28 09:12:29.108\u001b[0m | \u001b[1mINFO    \u001b[0m | \u001b[36mutils.validation\u001b[0m:\u001b[36mcross_validate\u001b[0m:\u001b[36m112\u001b[0m - \u001b[1m==============================\u001b[0m\n",
      "Best trial: 24. Best value: 5.8414:  80%|████████  | 40/50 [8:50:23<2:13:10, 799.10s/it]\u001b[32m2023-10-28 09:12:29.764\u001b[0m | \u001b[1mINFO    \u001b[0m | \u001b[36mutils.validation\u001b[0m:\u001b[36mcross_validate\u001b[0m:\u001b[36m79\u001b[0m - \u001b[1mStarting evaluation...\u001b[0m\n",
      "\u001b[32m2023-10-28 09:12:29.764\u001b[0m | \u001b[1mINFO    \u001b[0m | \u001b[36mutils.validation\u001b[0m:\u001b[36mcross_validate\u001b[0m:\u001b[36m80\u001b[0m - \u001b[1m==============================\u001b[0m\n"
     ]
    },
    {
     "name": "stdout",
     "output_type": "stream",
     "text": [
      "[W 2023-10-28 09:12:29,661] The parameter 'num_leaves' in trial#42 is sampled independently by using `RandomSampler` instead of `CmaEsSampler` (optimization performance may be degraded). `CmaEsSampler` does not support dynamic search space or `CategoricalDistribution`. You can suppress this warning by setting `warn_independent_sampling` to `False` in the constructor of `CmaEsSampler`, if this independent sampling is intended behavior.\n"
     ]
    },
    {
     "name": "stderr",
     "output_type": "stream",
     "text": [
      "\u001b[32m2023-10-28 09:12:39.389\u001b[0m | \u001b[1mINFO    \u001b[0m | \u001b[36mutils.validation\u001b[0m:\u001b[36mcross_validate\u001b[0m:\u001b[36m91\u001b[0m - \u001b[1mModel trained with seed 1847\u001b[0m\n",
      "\u001b[32m2023-10-28 09:25:59.227\u001b[0m | \u001b[1mINFO    \u001b[0m | \u001b[36mutils.validation\u001b[0m:\u001b[36mcross_validate\u001b[0m:\u001b[36m103\u001b[0m - \u001b[1mFold 2: 5.8408 (took 1757.17s)\u001b[0m\n",
      "\u001b[32m2023-10-28 09:26:12.343\u001b[0m | \u001b[1mINFO    \u001b[0m | \u001b[36mutils.validation\u001b[0m:\u001b[36mcross_validate\u001b[0m:\u001b[36m91\u001b[0m - \u001b[1mModel trained with seed 404\u001b[0m\n",
      "\u001b[32m2023-10-28 09:27:01.853\u001b[0m | \u001b[1mINFO    \u001b[0m | \u001b[36mutils.validation\u001b[0m:\u001b[36mcross_validate\u001b[0m:\u001b[36m103\u001b[0m - \u001b[1mFold 1: 5.8413 (took 1454.60s)\u001b[0m\n",
      "\u001b[32m2023-10-28 09:27:15.811\u001b[0m | \u001b[1mINFO    \u001b[0m | \u001b[36mutils.validation\u001b[0m:\u001b[36mcross_validate\u001b[0m:\u001b[36m91\u001b[0m - \u001b[1mModel trained with seed 7572\u001b[0m\n",
      "\u001b[32m2023-10-28 09:34:40.955\u001b[0m | \u001b[1mINFO    \u001b[0m | \u001b[36mutils.validation\u001b[0m:\u001b[36mcross_validate\u001b[0m:\u001b[36m103\u001b[0m - \u001b[1mFold 1: 5.8447 (took 1271.23s)\u001b[0m\n",
      "\u001b[32m2023-10-28 09:34:53.097\u001b[0m | \u001b[1mINFO    \u001b[0m | \u001b[36mutils.validation\u001b[0m:\u001b[36mcross_validate\u001b[0m:\u001b[36m91\u001b[0m - \u001b[1mModel trained with seed 6643\u001b[0m\n",
      "\u001b[32m2023-10-28 09:53:30.854\u001b[0m | \u001b[1mINFO    \u001b[0m | \u001b[36mutils.validation\u001b[0m:\u001b[36mcross_validate\u001b[0m:\u001b[36m103\u001b[0m - \u001b[1mFold 2: 5.8411 (took 1503.80s)\u001b[0m\n",
      "\u001b[32m2023-10-28 09:53:43.600\u001b[0m | \u001b[1mINFO    \u001b[0m | \u001b[36mutils.validation\u001b[0m:\u001b[36mcross_validate\u001b[0m:\u001b[36m91\u001b[0m - \u001b[1mModel trained with seed 9542\u001b[0m\n",
      "\u001b[32m2023-10-28 09:57:13.944\u001b[0m | \u001b[1mINFO    \u001b[0m | \u001b[36mutils.validation\u001b[0m:\u001b[36mcross_validate\u001b[0m:\u001b[36m103\u001b[0m - \u001b[1mFold 2: 5.8441 (took 1290.37s)\u001b[0m\n",
      "\u001b[32m2023-10-28 09:57:16.880\u001b[0m | \u001b[1mINFO    \u001b[0m | \u001b[36mutils.validation\u001b[0m:\u001b[36mcross_validate\u001b[0m:\u001b[36m103\u001b[0m - \u001b[1mFold 3: 5.8408 (took 1774.54s)\u001b[0m\n",
      "\u001b[32m2023-10-28 09:57:16.895\u001b[0m | \u001b[1mINFO    \u001b[0m | \u001b[36mutils.validation\u001b[0m:\u001b[36mcross_validate\u001b[0m:\u001b[36m110\u001b[0m - \u001b[1m------------------------------\u001b[0m\n",
      "\u001b[32m2023-10-28 09:57:16.895\u001b[0m | \u001b[32m\u001b[1mSUCCESS \u001b[0m | \u001b[36mutils.validation\u001b[0m:\u001b[36mcross_validate\u001b[0m:\u001b[36m111\u001b[0m - \u001b[32m\u001b[1mAverage MAE = 5.8414 ± 0.00\u001b[0m\n",
      "\u001b[32m2023-10-28 09:57:16.895\u001b[0m | \u001b[1mINFO    \u001b[0m | \u001b[36mutils.validation\u001b[0m:\u001b[36mcross_validate\u001b[0m:\u001b[36m112\u001b[0m - \u001b[1m==============================\u001b[0m\n",
      "Best trial: 39. Best value: 5.84135:  82%|████████▏ | 41/50 [9:35:12<3:24:52, 1365.87s/it]\u001b[32m2023-10-28 09:57:18.098\u001b[0m | \u001b[1mINFO    \u001b[0m | \u001b[36mutils.validation\u001b[0m:\u001b[36mcross_validate\u001b[0m:\u001b[36m79\u001b[0m - \u001b[1mStarting evaluation...\u001b[0m\n",
      "\u001b[32m2023-10-28 09:57:18.098\u001b[0m | \u001b[1mINFO    \u001b[0m | \u001b[36mutils.validation\u001b[0m:\u001b[36mcross_validate\u001b[0m:\u001b[36m80\u001b[0m - \u001b[1m==============================\u001b[0m\n"
     ]
    },
    {
     "name": "stdout",
     "output_type": "stream",
     "text": [
      "[W 2023-10-28 09:57:17,994] The parameter 'num_leaves' in trial#43 is sampled independently by using `RandomSampler` instead of `CmaEsSampler` (optimization performance may be degraded). `CmaEsSampler` does not support dynamic search space or `CategoricalDistribution`. You can suppress this warning by setting `warn_independent_sampling` to `False` in the constructor of `CmaEsSampler`, if this independent sampling is intended behavior.\n"
     ]
    },
    {
     "name": "stderr",
     "output_type": "stream",
     "text": [
      "\u001b[32m2023-10-28 09:57:26.763\u001b[0m | \u001b[1mINFO    \u001b[0m | \u001b[36mutils.validation\u001b[0m:\u001b[36mcross_validate\u001b[0m:\u001b[36m91\u001b[0m - \u001b[1mModel trained with seed 1847\u001b[0m\n",
      "\u001b[32m2023-10-28 09:57:44.006\u001b[0m | \u001b[1mINFO    \u001b[0m | \u001b[36mutils.validation\u001b[0m:\u001b[36mcross_validate\u001b[0m:\u001b[36m91\u001b[0m - \u001b[1mModel trained with seed 404\u001b[0m\n",
      "\u001b[32m2023-10-28 10:14:46.855\u001b[0m | \u001b[1mINFO    \u001b[0m | \u001b[36mutils.validation\u001b[0m:\u001b[36mcross_validate\u001b[0m:\u001b[36m103\u001b[0m - \u001b[1mFold 1: 5.8417 (took 984.69s)\u001b[0m\n",
      "\u001b[32m2023-10-28 10:15:04.504\u001b[0m | \u001b[1mINFO    \u001b[0m | \u001b[36mutils.validation\u001b[0m:\u001b[36mcross_validate\u001b[0m:\u001b[36m91\u001b[0m - \u001b[1mModel trained with seed 7572\u001b[0m\n",
      "\u001b[32m2023-10-28 10:21:14.294\u001b[0m | \u001b[1mINFO    \u001b[0m | \u001b[36mutils.validation\u001b[0m:\u001b[36mcross_validate\u001b[0m:\u001b[36m103\u001b[0m - \u001b[1mFold 3: 5.8447 (took 1376.86s)\u001b[0m\n",
      "\u001b[32m2023-10-28 10:21:14.336\u001b[0m | \u001b[1mINFO    \u001b[0m | \u001b[36mutils.validation\u001b[0m:\u001b[36mcross_validate\u001b[0m:\u001b[36m110\u001b[0m - \u001b[1m------------------------------\u001b[0m\n",
      "\u001b[32m2023-10-28 10:21:14.336\u001b[0m | \u001b[32m\u001b[1mSUCCESS \u001b[0m | \u001b[36mutils.validation\u001b[0m:\u001b[36mcross_validate\u001b[0m:\u001b[36m111\u001b[0m - \u001b[32m\u001b[1mAverage MAE = 5.8445 ± 0.00\u001b[0m\n",
      "\u001b[32m2023-10-28 10:21:14.336\u001b[0m | \u001b[1mINFO    \u001b[0m | \u001b[36mutils.validation\u001b[0m:\u001b[36mcross_validate\u001b[0m:\u001b[36m112\u001b[0m - \u001b[1m==============================\u001b[0m\n",
      "Best trial: 39. Best value: 5.84135:  84%|████████▍ | 42/50 [9:59:09<3:04:57, 1387.20s/it]\u001b[32m2023-10-28 10:21:15.085\u001b[0m | \u001b[1mINFO    \u001b[0m | \u001b[36mutils.validation\u001b[0m:\u001b[36mcross_validate\u001b[0m:\u001b[36m79\u001b[0m - \u001b[1mStarting evaluation...\u001b[0m\n",
      "\u001b[32m2023-10-28 10:21:15.086\u001b[0m | \u001b[1mINFO    \u001b[0m | \u001b[36mutils.validation\u001b[0m:\u001b[36mcross_validate\u001b[0m:\u001b[36m80\u001b[0m - \u001b[1m==============================\u001b[0m\n"
     ]
    },
    {
     "name": "stdout",
     "output_type": "stream",
     "text": [
      "[W 2023-10-28 10:21:14,982] The parameter 'num_leaves' in trial#44 is sampled independently by using `RandomSampler` instead of `CmaEsSampler` (optimization performance may be degraded). `CmaEsSampler` does not support dynamic search space or `CategoricalDistribution`. You can suppress this warning by setting `warn_independent_sampling` to `False` in the constructor of `CmaEsSampler`, if this independent sampling is intended behavior.\n"
     ]
    },
    {
     "name": "stderr",
     "output_type": "stream",
     "text": [
      "\u001b[32m2023-10-28 10:21:30.697\u001b[0m | \u001b[1mINFO    \u001b[0m | \u001b[36mutils.validation\u001b[0m:\u001b[36mcross_validate\u001b[0m:\u001b[36m91\u001b[0m - \u001b[1mModel trained with seed 1847\u001b[0m\n",
      "\u001b[32m2023-10-28 10:22:43.107\u001b[0m | \u001b[1mINFO    \u001b[0m | \u001b[36mutils.validation\u001b[0m:\u001b[36mcross_validate\u001b[0m:\u001b[36m103\u001b[0m - \u001b[1mFold 3: 5.8405 (took 1664.09s)\u001b[0m\n",
      "\u001b[32m2023-10-28 10:22:43.148\u001b[0m | \u001b[1mINFO    \u001b[0m | \u001b[36mutils.validation\u001b[0m:\u001b[36mcross_validate\u001b[0m:\u001b[36m110\u001b[0m - \u001b[1m------------------------------\u001b[0m\n",
      "\u001b[32m2023-10-28 10:22:43.150\u001b[0m | \u001b[32m\u001b[1mSUCCESS \u001b[0m | \u001b[36mutils.validation\u001b[0m:\u001b[36mcross_validate\u001b[0m:\u001b[36m111\u001b[0m - \u001b[32m\u001b[1mAverage MAE = 5.8410 ± 0.00\u001b[0m\n",
      "\u001b[32m2023-10-28 10:22:43.151\u001b[0m | \u001b[1mINFO    \u001b[0m | \u001b[36mutils.validation\u001b[0m:\u001b[36mcross_validate\u001b[0m:\u001b[36m112\u001b[0m - \u001b[1m==============================\u001b[0m\n",
      "Best trial: 41. Best value: 5.84096:  86%|████████▌ | 43/50 [10:00:38<1:56:24, 997.77s/it] "
     ]
    },
    {
     "name": "stdout",
     "output_type": "stream",
     "text": [
      "[W 2023-10-28 10:22:44,151] The parameter 'num_leaves' in trial#45 is sampled independently by using `RandomSampler` instead of `CmaEsSampler` (optimization performance may be degraded). `CmaEsSampler` does not support dynamic search space or `CategoricalDistribution`. You can suppress this warning by setting `warn_independent_sampling` to `False` in the constructor of `CmaEsSampler`, if this independent sampling is intended behavior.\n"
     ]
    },
    {
     "name": "stderr",
     "output_type": "stream",
     "text": [
      "\u001b[32m2023-10-28 10:22:44.423\u001b[0m | \u001b[1mINFO    \u001b[0m | \u001b[36mutils.validation\u001b[0m:\u001b[36mcross_validate\u001b[0m:\u001b[36m79\u001b[0m - \u001b[1mStarting evaluation...\u001b[0m\n",
      "\u001b[32m2023-10-28 10:22:44.424\u001b[0m | \u001b[1mINFO    \u001b[0m | \u001b[36mutils.validation\u001b[0m:\u001b[36mcross_validate\u001b[0m:\u001b[36m80\u001b[0m - \u001b[1m==============================\u001b[0m\n",
      "\u001b[32m2023-10-28 10:23:00.634\u001b[0m | \u001b[1mINFO    \u001b[0m | \u001b[36mutils.validation\u001b[0m:\u001b[36mcross_validate\u001b[0m:\u001b[36m91\u001b[0m - \u001b[1mModel trained with seed 1847\u001b[0m\n",
      "\u001b[32m2023-10-28 10:30:54.812\u001b[0m | \u001b[1mINFO    \u001b[0m | \u001b[36mutils.validation\u001b[0m:\u001b[36mcross_validate\u001b[0m:\u001b[36m103\u001b[0m - \u001b[1mFold 2: 5.8424 (took 913.24s)\u001b[0m\n",
      "\u001b[32m2023-10-28 10:31:06.852\u001b[0m | \u001b[1mINFO    \u001b[0m | \u001b[36mutils.validation\u001b[0m:\u001b[36mcross_validate\u001b[0m:\u001b[36m91\u001b[0m - \u001b[1mModel trained with seed 404\u001b[0m\n",
      "\u001b[32m2023-10-28 10:40:28.185\u001b[0m | \u001b[1mINFO    \u001b[0m | \u001b[36mutils.validation\u001b[0m:\u001b[36mcross_validate\u001b[0m:\u001b[36m103\u001b[0m - \u001b[1mFold 1: 5.8515 (took 1010.28s)\u001b[0m\n",
      "\u001b[32m2023-10-28 10:40:39.836\u001b[0m | \u001b[1mINFO    \u001b[0m | \u001b[36mutils.validation\u001b[0m:\u001b[36mcross_validate\u001b[0m:\u001b[36m91\u001b[0m - \u001b[1mModel trained with seed 7572\u001b[0m\n",
      "\u001b[32m2023-10-28 10:42:07.858\u001b[0m | \u001b[1mINFO    \u001b[0m | \u001b[36mutils.validation\u001b[0m:\u001b[36mcross_validate\u001b[0m:\u001b[36m103\u001b[0m - \u001b[1mFold 1: 5.8424 (took 1195.69s)\u001b[0m\n",
      "\u001b[32m2023-10-28 10:42:20.729\u001b[0m | \u001b[1mINFO    \u001b[0m | \u001b[36mutils.validation\u001b[0m:\u001b[36mcross_validate\u001b[0m:\u001b[36m91\u001b[0m - \u001b[1mModel trained with seed 6643\u001b[0m\n",
      "\u001b[32m2023-10-28 10:47:02.649\u001b[0m | \u001b[1mINFO    \u001b[0m | \u001b[36mutils.validation\u001b[0m:\u001b[36mcross_validate\u001b[0m:\u001b[36m103\u001b[0m - \u001b[1mFold 3: 5.8417 (took 917.24s)\u001b[0m\n",
      "\u001b[32m2023-10-28 10:47:02.686\u001b[0m | \u001b[1mINFO    \u001b[0m | \u001b[36mutils.validation\u001b[0m:\u001b[36mcross_validate\u001b[0m:\u001b[36m110\u001b[0m - \u001b[1m------------------------------\u001b[0m\n",
      "\u001b[32m2023-10-28 10:47:02.692\u001b[0m | \u001b[32m\u001b[1mSUCCESS \u001b[0m | \u001b[36mutils.validation\u001b[0m:\u001b[36mcross_validate\u001b[0m:\u001b[36m111\u001b[0m - \u001b[32m\u001b[1mAverage MAE = 5.8419 ± 0.00\u001b[0m\n",
      "\u001b[32m2023-10-28 10:47:02.694\u001b[0m | \u001b[1mINFO    \u001b[0m | \u001b[36mutils.validation\u001b[0m:\u001b[36mcross_validate\u001b[0m:\u001b[36m112\u001b[0m - \u001b[1m==============================\u001b[0m\n",
      "Best trial: 41. Best value: 5.84096:  88%|████████▊ | 44/50 [10:24:57<1:53:37, 1136.28s/it]\u001b[32m2023-10-28 10:47:03.664\u001b[0m | \u001b[1mINFO    \u001b[0m | \u001b[36mutils.validation\u001b[0m:\u001b[36mcross_validate\u001b[0m:\u001b[36m79\u001b[0m - \u001b[1mStarting evaluation...\u001b[0m\n",
      "\u001b[32m2023-10-28 10:47:03.664\u001b[0m | \u001b[1mINFO    \u001b[0m | \u001b[36mutils.validation\u001b[0m:\u001b[36mcross_validate\u001b[0m:\u001b[36m80\u001b[0m - \u001b[1m==============================\u001b[0m\n"
     ]
    },
    {
     "name": "stdout",
     "output_type": "stream",
     "text": [
      "[W 2023-10-28 10:47:03,536] The parameter 'num_leaves' in trial#46 is sampled independently by using `RandomSampler` instead of `CmaEsSampler` (optimization performance may be degraded). `CmaEsSampler` does not support dynamic search space or `CategoricalDistribution`. You can suppress this warning by setting `warn_independent_sampling` to `False` in the constructor of `CmaEsSampler`, if this independent sampling is intended behavior.\n"
     ]
    },
    {
     "name": "stderr",
     "output_type": "stream",
     "text": [
      "\u001b[32m2023-10-28 10:47:18.016\u001b[0m | \u001b[1mINFO    \u001b[0m | \u001b[36mutils.validation\u001b[0m:\u001b[36mcross_validate\u001b[0m:\u001b[36m91\u001b[0m - \u001b[1mModel trained with seed 1847\u001b[0m\n",
      "\u001b[32m2023-10-28 10:58:15.514\u001b[0m | \u001b[1mINFO    \u001b[0m | \u001b[36mutils.validation\u001b[0m:\u001b[36mcross_validate\u001b[0m:\u001b[36m103\u001b[0m - \u001b[1mFold 2: 5.8522 (took 1016.58s)\u001b[0m\n",
      "\u001b[32m2023-10-28 10:58:28.368\u001b[0m | \u001b[1mINFO    \u001b[0m | \u001b[36mutils.validation\u001b[0m:\u001b[36mcross_validate\u001b[0m:\u001b[36m91\u001b[0m - \u001b[1mModel trained with seed 404\u001b[0m\n",
      "\u001b[32m2023-10-28 10:59:09.591\u001b[0m | \u001b[1mINFO    \u001b[0m | \u001b[36mutils.validation\u001b[0m:\u001b[36mcross_validate\u001b[0m:\u001b[36m103\u001b[0m - \u001b[1mFold 1: 5.8449 (took 687.90s)\u001b[0m\n",
      "\u001b[32m2023-10-28 10:59:36.705\u001b[0m | \u001b[1mINFO    \u001b[0m | \u001b[36mutils.validation\u001b[0m:\u001b[36mcross_validate\u001b[0m:\u001b[36m91\u001b[0m - \u001b[1mModel trained with seed 7572\u001b[0m\n",
      "\u001b[32m2023-10-28 11:04:38.095\u001b[0m | \u001b[1mINFO    \u001b[0m | \u001b[36mutils.validation\u001b[0m:\u001b[36mcross_validate\u001b[0m:\u001b[36m103\u001b[0m - \u001b[1mFold 2: 5.8420 (took 1293.19s)\u001b[0m\n",
      "\u001b[32m2023-10-28 11:04:50.325\u001b[0m | \u001b[1mINFO    \u001b[0m | \u001b[36mutils.validation\u001b[0m:\u001b[36mcross_validate\u001b[0m:\u001b[36m91\u001b[0m - \u001b[1mModel trained with seed 6643\u001b[0m\n",
      "\u001b[32m2023-10-28 11:12:31.533\u001b[0m | \u001b[1mINFO    \u001b[0m | \u001b[36mutils.validation\u001b[0m:\u001b[36mcross_validate\u001b[0m:\u001b[36m103\u001b[0m - \u001b[1mFold 2: 5.8432 (took 751.39s)\u001b[0m\n",
      "\u001b[32m2023-10-28 11:12:43.904\u001b[0m | \u001b[1mINFO    \u001b[0m | \u001b[36mutils.validation\u001b[0m:\u001b[36mcross_validate\u001b[0m:\u001b[36m91\u001b[0m - \u001b[1mModel trained with seed 9542\u001b[0m\n",
      "\u001b[32m2023-10-28 11:19:07.834\u001b[0m | \u001b[1mINFO    \u001b[0m | \u001b[36mutils.validation\u001b[0m:\u001b[36mcross_validate\u001b[0m:\u001b[36m103\u001b[0m - \u001b[1mFold 3: 5.8525 (took 1200.88s)\u001b[0m\n",
      "\u001b[32m2023-10-28 11:19:07.876\u001b[0m | \u001b[1mINFO    \u001b[0m | \u001b[36mutils.validation\u001b[0m:\u001b[36mcross_validate\u001b[0m:\u001b[36m110\u001b[0m - \u001b[1m------------------------------\u001b[0m\n",
      "\u001b[32m2023-10-28 11:19:07.878\u001b[0m | \u001b[32m\u001b[1mSUCCESS \u001b[0m | \u001b[36mutils.validation\u001b[0m:\u001b[36mcross_validate\u001b[0m:\u001b[36m111\u001b[0m - \u001b[32m\u001b[1mAverage MAE = 5.8521 ± 0.00\u001b[0m\n",
      "\u001b[32m2023-10-28 11:19:07.878\u001b[0m | \u001b[1mINFO    \u001b[0m | \u001b[36mutils.validation\u001b[0m:\u001b[36mcross_validate\u001b[0m:\u001b[36m112\u001b[0m - \u001b[1m==============================\u001b[0m\n",
      "Best trial: 41. Best value: 5.84096:  90%|█████████ | 45/50 [10:57:02<1:54:24, 1372.90s/it]\u001b[32m2023-10-28 11:19:08.669\u001b[0m | \u001b[1mINFO    \u001b[0m | \u001b[36mutils.validation\u001b[0m:\u001b[36mcross_validate\u001b[0m:\u001b[36m79\u001b[0m - \u001b[1mStarting evaluation...\u001b[0m\n",
      "\u001b[32m2023-10-28 11:19:08.669\u001b[0m | \u001b[1mINFO    \u001b[0m | \u001b[36mutils.validation\u001b[0m:\u001b[36mcross_validate\u001b[0m:\u001b[36m80\u001b[0m - \u001b[1m==============================\u001b[0m\n"
     ]
    },
    {
     "name": "stdout",
     "output_type": "stream",
     "text": [
      "[W 2023-10-28 11:19:08,561] The parameter 'num_leaves' in trial#47 is sampled independently by using `RandomSampler` instead of `CmaEsSampler` (optimization performance may be degraded). `CmaEsSampler` does not support dynamic search space or `CategoricalDistribution`. You can suppress this warning by setting `warn_independent_sampling` to `False` in the constructor of `CmaEsSampler`, if this independent sampling is intended behavior.\n"
     ]
    },
    {
     "name": "stderr",
     "output_type": "stream",
     "text": [
      "\u001b[32m2023-10-28 11:19:23.704\u001b[0m | \u001b[1mINFO    \u001b[0m | \u001b[36mutils.validation\u001b[0m:\u001b[36mcross_validate\u001b[0m:\u001b[36m91\u001b[0m - \u001b[1mModel trained with seed 1847\u001b[0m\n",
      "\u001b[32m2023-10-28 11:23:58.441\u001b[0m | \u001b[1mINFO    \u001b[0m | \u001b[36mutils.validation\u001b[0m:\u001b[36mcross_validate\u001b[0m:\u001b[36m103\u001b[0m - \u001b[1mFold 3: 5.8440 (took 653.97s)\u001b[0m\n",
      "\u001b[32m2023-10-28 11:23:58.481\u001b[0m | \u001b[1mINFO    \u001b[0m | \u001b[36mutils.validation\u001b[0m:\u001b[36mcross_validate\u001b[0m:\u001b[36m110\u001b[0m - \u001b[1m------------------------------\u001b[0m\n",
      "\u001b[32m2023-10-28 11:23:58.484\u001b[0m | \u001b[32m\u001b[1mSUCCESS \u001b[0m | \u001b[36mutils.validation\u001b[0m:\u001b[36mcross_validate\u001b[0m:\u001b[36m111\u001b[0m - \u001b[32m\u001b[1mAverage MAE = 5.8440 ± 0.00\u001b[0m\n",
      "\u001b[32m2023-10-28 11:23:58.485\u001b[0m | \u001b[1mINFO    \u001b[0m | \u001b[36mutils.validation\u001b[0m:\u001b[36mcross_validate\u001b[0m:\u001b[36m112\u001b[0m - \u001b[1m==============================\u001b[0m\n",
      "Best trial: 41. Best value: 5.84096:  92%|█████████▏| 46/50 [11:01:53<1:09:52, 1048.18s/it]\u001b[32m2023-10-28 11:23:59.153\u001b[0m | \u001b[1mINFO    \u001b[0m | \u001b[36mutils.validation\u001b[0m:\u001b[36mcross_validate\u001b[0m:\u001b[36m79\u001b[0m - \u001b[1mStarting evaluation...\u001b[0m\n",
      "\u001b[32m2023-10-28 11:23:59.153\u001b[0m | \u001b[1mINFO    \u001b[0m | \u001b[36mutils.validation\u001b[0m:\u001b[36mcross_validate\u001b[0m:\u001b[36m80\u001b[0m - \u001b[1m==============================\u001b[0m\n"
     ]
    },
    {
     "name": "stdout",
     "output_type": "stream",
     "text": [
      "[W 2023-10-28 11:23:59,053] The parameter 'num_leaves' in trial#48 is sampled independently by using `RandomSampler` instead of `CmaEsSampler` (optimization performance may be degraded). `CmaEsSampler` does not support dynamic search space or `CategoricalDistribution`. You can suppress this warning by setting `warn_independent_sampling` to `False` in the constructor of `CmaEsSampler`, if this independent sampling is intended behavior.\n"
     ]
    },
    {
     "name": "stderr",
     "output_type": "stream",
     "text": [
      "\u001b[32m2023-10-28 11:24:14.001\u001b[0m | \u001b[1mINFO    \u001b[0m | \u001b[36mutils.validation\u001b[0m:\u001b[36mcross_validate\u001b[0m:\u001b[36m91\u001b[0m - \u001b[1mModel trained with seed 1847\u001b[0m\n",
      "\u001b[32m2023-10-28 11:27:04.097\u001b[0m | \u001b[1mINFO    \u001b[0m | \u001b[36mutils.validation\u001b[0m:\u001b[36mcross_validate\u001b[0m:\u001b[36m103\u001b[0m - \u001b[1mFold 1: 5.8446 (took 447.66s)\u001b[0m\n",
      "\u001b[32m2023-10-28 11:27:12.437\u001b[0m | \u001b[1mINFO    \u001b[0m | \u001b[36mutils.validation\u001b[0m:\u001b[36mcross_validate\u001b[0m:\u001b[36m103\u001b[0m - \u001b[1mFold 3: 5.8420 (took 1298.55s)\u001b[0m\n",
      "\u001b[32m2023-10-28 11:27:12.437\u001b[0m | \u001b[1mINFO    \u001b[0m | \u001b[36mutils.validation\u001b[0m:\u001b[36mcross_validate\u001b[0m:\u001b[36m110\u001b[0m - \u001b[1m------------------------------\u001b[0m\n",
      "\u001b[32m2023-10-28 11:27:12.437\u001b[0m | \u001b[32m\u001b[1mSUCCESS \u001b[0m | \u001b[36mutils.validation\u001b[0m:\u001b[36mcross_validate\u001b[0m:\u001b[36m111\u001b[0m - \u001b[32m\u001b[1mAverage MAE = 5.8421 ± 0.00\u001b[0m\n",
      "\u001b[32m2023-10-28 11:27:12.437\u001b[0m | \u001b[1mINFO    \u001b[0m | \u001b[36mutils.validation\u001b[0m:\u001b[36mcross_validate\u001b[0m:\u001b[36m112\u001b[0m - \u001b[1m==============================\u001b[0m\n",
      "Best trial: 41. Best value: 5.84096:  94%|█████████▍| 47/50 [11:05:07<39:35, 791.96s/it]   \u001b[32m2023-10-28 11:27:13.250\u001b[0m | \u001b[1mINFO    \u001b[0m | \u001b[36mutils.validation\u001b[0m:\u001b[36mcross_validate\u001b[0m:\u001b[36m79\u001b[0m - \u001b[1mStarting evaluation...\u001b[0m\n",
      "\u001b[32m2023-10-28 11:27:13.250\u001b[0m | \u001b[1mINFO    \u001b[0m | \u001b[36mutils.validation\u001b[0m:\u001b[36mcross_validate\u001b[0m:\u001b[36m80\u001b[0m - \u001b[1m==============================\u001b[0m\n"
     ]
    },
    {
     "name": "stdout",
     "output_type": "stream",
     "text": [
      "[W 2023-10-28 11:27:13,134] The parameter 'num_leaves' in trial#49 is sampled independently by using `RandomSampler` instead of `CmaEsSampler` (optimization performance may be degraded). `CmaEsSampler` does not support dynamic search space or `CategoricalDistribution`. You can suppress this warning by setting `warn_independent_sampling` to `False` in the constructor of `CmaEsSampler`, if this independent sampling is intended behavior.\n"
     ]
    },
    {
     "name": "stderr",
     "output_type": "stream",
     "text": [
      "\u001b[32m2023-10-28 11:27:17.637\u001b[0m | \u001b[1mINFO    \u001b[0m | \u001b[36mutils.validation\u001b[0m:\u001b[36mcross_validate\u001b[0m:\u001b[36m91\u001b[0m - \u001b[1mModel trained with seed 1847\u001b[0m\n",
      "\u001b[32m2023-10-28 11:27:20.739\u001b[0m | \u001b[1mINFO    \u001b[0m | \u001b[36mutils.validation\u001b[0m:\u001b[36mcross_validate\u001b[0m:\u001b[36m91\u001b[0m - \u001b[1mModel trained with seed 404\u001b[0m\n",
      "\u001b[32m2023-10-28 11:36:14.485\u001b[0m | \u001b[1mINFO    \u001b[0m | \u001b[36mutils.validation\u001b[0m:\u001b[36mcross_validate\u001b[0m:\u001b[36m103\u001b[0m - \u001b[1mFold 2: 5.8446 (took 524.34s)\u001b[0m\n",
      "\u001b[32m2023-10-28 11:36:27.630\u001b[0m | \u001b[1mINFO    \u001b[0m | \u001b[36mutils.validation\u001b[0m:\u001b[36mcross_validate\u001b[0m:\u001b[36m91\u001b[0m - \u001b[1mModel trained with seed 7572\u001b[0m\n",
      "\u001b[32m2023-10-28 11:43:09.454\u001b[0m | \u001b[1mINFO    \u001b[0m | \u001b[36mutils.validation\u001b[0m:\u001b[36mcross_validate\u001b[0m:\u001b[36m103\u001b[0m - \u001b[1mFold 1: 5.8437 (took 925.20s)\u001b[0m\n",
      "\u001b[32m2023-10-28 11:43:20.125\u001b[0m | \u001b[1mINFO    \u001b[0m | \u001b[36mutils.validation\u001b[0m:\u001b[36mcross_validate\u001b[0m:\u001b[36m91\u001b[0m - \u001b[1mModel trained with seed 6643\u001b[0m\n",
      "\u001b[32m2023-10-28 11:43:22.993\u001b[0m | \u001b[1mINFO    \u001b[0m | \u001b[36mutils.validation\u001b[0m:\u001b[36mcross_validate\u001b[0m:\u001b[36m103\u001b[0m - \u001b[1mFold 3: 5.8453 (took 403.66s)\u001b[0m\n",
      "\u001b[32m2023-10-28 11:43:22.993\u001b[0m | \u001b[1mINFO    \u001b[0m | \u001b[36mutils.validation\u001b[0m:\u001b[36mcross_validate\u001b[0m:\u001b[36m110\u001b[0m - \u001b[1m------------------------------\u001b[0m\n",
      "\u001b[32m2023-10-28 11:43:23.008\u001b[0m | \u001b[32m\u001b[1mSUCCESS \u001b[0m | \u001b[36mutils.validation\u001b[0m:\u001b[36mcross_validate\u001b[0m:\u001b[36m111\u001b[0m - \u001b[32m\u001b[1mAverage MAE = 5.8448 ± 0.00\u001b[0m\n",
      "\u001b[32m2023-10-28 11:43:23.014\u001b[0m | \u001b[1mINFO    \u001b[0m | \u001b[36mutils.validation\u001b[0m:\u001b[36mcross_validate\u001b[0m:\u001b[36m112\u001b[0m - \u001b[1m==============================\u001b[0m\n",
      "Best trial: 41. Best value: 5.84096:  96%|█████████▌| 48/50 [11:21:17<28:11, 845.50s/it]\u001b[32m2023-10-28 11:50:00.030\u001b[0m | \u001b[1mINFO    \u001b[0m | \u001b[36mutils.validation\u001b[0m:\u001b[36mcross_validate\u001b[0m:\u001b[36m103\u001b[0m - \u001b[1mFold 1: 5.8404 (took 1479.54s)\u001b[0m\n",
      "\u001b[32m2023-10-28 11:50:08.837\u001b[0m | \u001b[1mINFO    \u001b[0m | \u001b[36mutils.validation\u001b[0m:\u001b[36mcross_validate\u001b[0m:\u001b[36m91\u001b[0m - \u001b[1mModel trained with seed 9542\u001b[0m\n",
      "\u001b[32m2023-10-28 11:57:49.921\u001b[0m | \u001b[1mINFO    \u001b[0m | \u001b[36mutils.validation\u001b[0m:\u001b[36mcross_validate\u001b[0m:\u001b[36m103\u001b[0m - \u001b[1mFold 2: 5.8423 (took 845.40s)\u001b[0m\n",
      "\u001b[32m2023-10-28 11:58:02.558\u001b[0m | \u001b[1mINFO    \u001b[0m | \u001b[36mutils.validation\u001b[0m:\u001b[36mcross_validate\u001b[0m:\u001b[36m91\u001b[0m - \u001b[1mModel trained with seed 2944\u001b[0m\n",
      "\u001b[32m2023-10-28 12:08:58.548\u001b[0m | \u001b[1mINFO    \u001b[0m | \u001b[36mutils.validation\u001b[0m:\u001b[36mcross_validate\u001b[0m:\u001b[36m103\u001b[0m - \u001b[1mFold 3: 5.8453 (took 638.59s)\u001b[0m\n",
      "\u001b[32m2023-10-28 12:08:58.585\u001b[0m | \u001b[1mINFO    \u001b[0m | \u001b[36mutils.validation\u001b[0m:\u001b[36mcross_validate\u001b[0m:\u001b[36m110\u001b[0m - \u001b[1m------------------------------\u001b[0m\n",
      "\u001b[32m2023-10-28 12:08:58.590\u001b[0m | \u001b[32m\u001b[1mSUCCESS \u001b[0m | \u001b[36mutils.validation\u001b[0m:\u001b[36mcross_validate\u001b[0m:\u001b[36m111\u001b[0m - \u001b[32m\u001b[1mAverage MAE = 5.8438 ± 0.00\u001b[0m\n",
      "\u001b[32m2023-10-28 12:08:58.591\u001b[0m | \u001b[1mINFO    \u001b[0m | \u001b[36mutils.validation\u001b[0m:\u001b[36mcross_validate\u001b[0m:\u001b[36m112\u001b[0m - \u001b[1m==============================\u001b[0m\n",
      "Best trial: 41. Best value: 5.84096:  98%|█████████▊| 49/50 [11:46:53<17:32, 1052.55s/it]\u001b[32m2023-10-28 12:13:29.708\u001b[0m | \u001b[1mINFO    \u001b[0m | \u001b[36mutils.validation\u001b[0m:\u001b[36mcross_validate\u001b[0m:\u001b[36m103\u001b[0m - \u001b[1mFold 2: 5.8408 (took 1343.18s)\u001b[0m\n",
      "\u001b[32m2023-10-28 12:13:40.715\u001b[0m | \u001b[1mINFO    \u001b[0m | \u001b[36mutils.validation\u001b[0m:\u001b[36mcross_validate\u001b[0m:\u001b[36m91\u001b[0m - \u001b[1mModel trained with seed 4845\u001b[0m\n",
      "\u001b[32m2023-10-28 12:35:59.338\u001b[0m | \u001b[1mINFO    \u001b[0m | \u001b[36mutils.validation\u001b[0m:\u001b[36mcross_validate\u001b[0m:\u001b[36m103\u001b[0m - \u001b[1mFold 3: 5.8407 (took 1281.27s)\u001b[0m\n",
      "\u001b[32m2023-10-28 12:35:59.386\u001b[0m | \u001b[1mINFO    \u001b[0m | \u001b[36mutils.validation\u001b[0m:\u001b[36mcross_validate\u001b[0m:\u001b[36m110\u001b[0m - \u001b[1m------------------------------\u001b[0m\n",
      "\u001b[32m2023-10-28 12:35:59.389\u001b[0m | \u001b[32m\u001b[1mSUCCESS \u001b[0m | \u001b[36mutils.validation\u001b[0m:\u001b[36mcross_validate\u001b[0m:\u001b[36m111\u001b[0m - \u001b[32m\u001b[1mAverage MAE = 5.8406 ± 0.00\u001b[0m\n",
      "\u001b[32m2023-10-28 12:35:59.390\u001b[0m | \u001b[1mINFO    \u001b[0m | \u001b[36mutils.validation\u001b[0m:\u001b[36mcross_validate\u001b[0m:\u001b[36m112\u001b[0m - \u001b[1m==============================\u001b[0m\n",
      "Best trial: 48. Best value: 5.84064: 100%|██████████| 50/50 [12:13:54<00:00, 880.68s/it] \n",
      "\u001b[32m2023-10-28 12:36:00.072\u001b[0m | \u001b[1mINFO    \u001b[0m | \u001b[36m__main__\u001b[0m:\u001b[36mrun_optimization\u001b[0m:\u001b[36m42\u001b[0m - \u001b[1mNumber of finished trials: 50\u001b[0m\n",
      "\u001b[32m2023-10-28 12:36:00.082\u001b[0m | \u001b[32m\u001b[1mSUCCESS \u001b[0m | \u001b[36m__main__\u001b[0m:\u001b[36mrun_optimization\u001b[0m:\u001b[36m43\u001b[0m - \u001b[32m\u001b[1mBest MAE: 5.8406\u001b[0m\n",
      "\u001b[32m2023-10-28 12:36:00.084\u001b[0m | \u001b[1mINFO    \u001b[0m | \u001b[36m__main__\u001b[0m:\u001b[36mrun_optimization\u001b[0m:\u001b[36m45\u001b[0m - \u001b[1mParameters: \u001b[0m\n",
      "\u001b[32m2023-10-28 12:36:00.085\u001b[0m | \u001b[1mINFO    \u001b[0m | \u001b[36m__main__\u001b[0m:\u001b[36mrun_optimization\u001b[0m:\u001b[36m46\u001b[0m - \u001b[1m==========\u001b[0m\n",
      "\u001b[32m2023-10-28 12:36:00.096\u001b[0m | \u001b[32m\u001b[1mSUCCESS \u001b[0m | \u001b[36m__main__\u001b[0m:\u001b[36mrun_optimization\u001b[0m:\u001b[36m47\u001b[0m - \u001b[32m\u001b[1m{   'boosting_type': 'gbdt',\n",
      "    'colsample_bytree': 0.6605652916348981,\n",
      "    'device': 'cpu',\n",
      "    'learning_rate': 0.02325401727630594,\n",
      "    'max_depth': 9,\n",
      "    'min_child_samples': 55,\n",
      "    'n_estimators': 750,\n",
      "    'n_jobs': 1,\n",
      "    'num_leaves': 319,\n",
      "    'objective': 'mae',\n",
      "    'reg_alpha': 1.0314284418220028,\n",
      "    'reg_lambda': 0.005619611631903648,\n",
      "    'subsample': 0.8275174151277973,\n",
      "    'verbose': -1}\u001b[0m\n",
      "\u001b[32m2023-10-28 12:36:00.097\u001b[0m | \u001b[1mINFO    \u001b[0m | \u001b[36m__main__\u001b[0m:\u001b[36mrun_optimization\u001b[0m:\u001b[36m49\u001b[0m - \u001b[1mSaving best parameters...\u001b[0m\n"
     ]
    }
   ],
   "source": [
    "from utils.files import dump_json\n",
    "\n",
    "model_cls = CFG.MODEL\n",
    "model_cfg = MODEL_CFG[CFG.MODEL.__name__]\n",
    "param_space_func = model_cfg[\"param_space\"]\n",
    "callbacks_func = model_cfg[\"callbacks\"]\n",
    "best_trial = best_params if CFG.USE_BEST else None\n",
    "\n",
    "clear_output(wait=True) # clears output before rerunning optimization\n",
    "\n",
    "if CFG.HYPERTUNE:\n",
    "    objective = get_objective_function(\n",
    "        model_cls, \n",
    "        param_space_func, \n",
    "        X, Y, \n",
    "        date_id=date_id,\n",
    "        cv=CFG.CROSSVAL(test_size=date_id.max() - CFG.TEST_SIZE, n_splits=CFG.N_FOLDS),\n",
    "        categorical_feature=[\"imbalance_buy_sell_flag\"],\n",
    "        callbacks_func=callbacks_func\n",
    "    )\n",
    "    study = run_optimization(\n",
    "        objective, \n",
    "        sampler=CFG.SAMPLER(), \n",
    "        pruner=CFG.PRUNER(), \n",
    "        n_trials=CFG.N_TRIALS, \n",
    "        n_jobs=CFG.N_JOBS, \n",
    "        best_trial=best_trial\n",
    "    )\n",
    "    best_params = study.best_params\n",
    "    dump_json(CFG.JOB_PATH.joinpath(CFG.BEST_PARAMS), best_params, indent=4)"
   ]
  },
  {
   "cell_type": "markdown",
   "id": "96cf9c28",
   "metadata": {},
   "source": [
    "### Ploting Hyperparameter Tuning Results"
   ]
  },
  {
   "cell_type": "code",
   "execution_count": 14,
   "id": "9924b1e4",
   "metadata": {},
   "outputs": [
    {
     "data": {
      "application/vnd.plotly.v1+json": {
       "config": {
        "plotlyServerURL": "https://plot.ly"
       },
       "data": [
        {
         "mode": "markers",
         "name": "Objective Value",
         "type": "scatter",
         "x": [
          0,
          1,
          2,
          3,
          4,
          5,
          6,
          7,
          8,
          9,
          10,
          11,
          12,
          13,
          14,
          15,
          16,
          17,
          18,
          19,
          20,
          21,
          22,
          23,
          24,
          25,
          26,
          27,
          28,
          29,
          30,
          31,
          32,
          33,
          34,
          35,
          36,
          37,
          38,
          39,
          40,
          41,
          42,
          43,
          44,
          45,
          46,
          47,
          48,
          49
         ],
         "y": [
          5.875982849324553,
          5.847199726832364,
          5.8427293171439745,
          5.848180619227425,
          5.850926248967838,
          5.851023717673417,
          5.847268360288546,
          5.846850388092886,
          5.848102808573557,
          5.8423235345072095,
          5.843660997508555,
          5.857039469459106,
          5.8447386678327184,
          5.846934314095921,
          5.842836353066716,
          5.844705468871062,
          5.843599948440427,
          5.852972575477146,
          5.850711007732549,
          5.845649903176317,
          5.847624823806463,
          5.8454256545433205,
          5.846827318146485,
          5.841527934953323,
          5.8414024958984045,
          5.852664977622106,
          5.845186164494603,
          5.847078138997337,
          5.861380936640145,
          5.8455492805531755,
          5.842166876144375,
          5.843386961734246,
          5.842063146923258,
          5.842188079927606,
          5.843111018145798,
          5.846241794556117,
          5.843975542682313,
          5.842676539794927,
          5.8417295918256675,
          5.841352460244103,
          5.846064596100622,
          5.84096271409917,
          5.844511132150351,
          5.841904132639392,
          5.842100160264439,
          5.852084096547362,
          5.844010664634595,
          5.844840677248912,
          5.840639364576689,
          5.843755359927077
         ]
        },
        {
         "mode": "lines",
         "name": "Best Value",
         "type": "scatter",
         "x": [
          0,
          1,
          2,
          3,
          4,
          5,
          6,
          7,
          8,
          9,
          10,
          11,
          12,
          13,
          14,
          15,
          16,
          17,
          18,
          19,
          20,
          21,
          22,
          23,
          24,
          25,
          26,
          27,
          28,
          29,
          30,
          31,
          32,
          33,
          34,
          35,
          36,
          37,
          38,
          39,
          40,
          41,
          42,
          43,
          44,
          45,
          46,
          47,
          48,
          49
         ],
         "y": [
          5.875982849324553,
          5.847199726832364,
          5.8427293171439745,
          5.8427293171439745,
          5.8427293171439745,
          5.8427293171439745,
          5.8427293171439745,
          5.8427293171439745,
          5.8427293171439745,
          5.8423235345072095,
          5.8423235345072095,
          5.8423235345072095,
          5.8423235345072095,
          5.8423235345072095,
          5.8423235345072095,
          5.8423235345072095,
          5.8423235345072095,
          5.8423235345072095,
          5.8423235345072095,
          5.8423235345072095,
          5.8423235345072095,
          5.8423235345072095,
          5.8423235345072095,
          5.841527934953323,
          5.8414024958984045,
          5.8414024958984045,
          5.8414024958984045,
          5.8414024958984045,
          5.8414024958984045,
          5.8414024958984045,
          5.8414024958984045,
          5.8414024958984045,
          5.8414024958984045,
          5.8414024958984045,
          5.8414024958984045,
          5.8414024958984045,
          5.8414024958984045,
          5.8414024958984045,
          5.8414024958984045,
          5.841352460244103,
          5.841352460244103,
          5.84096271409917,
          5.84096271409917,
          5.84096271409917,
          5.84096271409917,
          5.84096271409917,
          5.84096271409917,
          5.84096271409917,
          5.840639364576689,
          5.840639364576689
         ]
        },
        {
         "marker": {
          "color": "#cccccc"
         },
         "mode": "markers",
         "name": "Infeasible Trial",
         "showlegend": false,
         "type": "scatter",
         "x": [],
         "y": []
        }
       ],
       "layout": {
        "template": {
         "data": {
          "bar": [
           {
            "error_x": {
             "color": "#2a3f5f"
            },
            "error_y": {
             "color": "#2a3f5f"
            },
            "marker": {
             "line": {
              "color": "#E5ECF6",
              "width": 0.5
             },
             "pattern": {
              "fillmode": "overlay",
              "size": 10,
              "solidity": 0.2
             }
            },
            "type": "bar"
           }
          ],
          "barpolar": [
           {
            "marker": {
             "line": {
              "color": "#E5ECF6",
              "width": 0.5
             },
             "pattern": {
              "fillmode": "overlay",
              "size": 10,
              "solidity": 0.2
             }
            },
            "type": "barpolar"
           }
          ],
          "carpet": [
           {
            "aaxis": {
             "endlinecolor": "#2a3f5f",
             "gridcolor": "white",
             "linecolor": "white",
             "minorgridcolor": "white",
             "startlinecolor": "#2a3f5f"
            },
            "baxis": {
             "endlinecolor": "#2a3f5f",
             "gridcolor": "white",
             "linecolor": "white",
             "minorgridcolor": "white",
             "startlinecolor": "#2a3f5f"
            },
            "type": "carpet"
           }
          ],
          "choropleth": [
           {
            "colorbar": {
             "outlinewidth": 0,
             "ticks": ""
            },
            "type": "choropleth"
           }
          ],
          "contour": [
           {
            "colorbar": {
             "outlinewidth": 0,
             "ticks": ""
            },
            "colorscale": [
             [
              0,
              "#0d0887"
             ],
             [
              0.1111111111111111,
              "#46039f"
             ],
             [
              0.2222222222222222,
              "#7201a8"
             ],
             [
              0.3333333333333333,
              "#9c179e"
             ],
             [
              0.4444444444444444,
              "#bd3786"
             ],
             [
              0.5555555555555556,
              "#d8576b"
             ],
             [
              0.6666666666666666,
              "#ed7953"
             ],
             [
              0.7777777777777778,
              "#fb9f3a"
             ],
             [
              0.8888888888888888,
              "#fdca26"
             ],
             [
              1,
              "#f0f921"
             ]
            ],
            "type": "contour"
           }
          ],
          "contourcarpet": [
           {
            "colorbar": {
             "outlinewidth": 0,
             "ticks": ""
            },
            "type": "contourcarpet"
           }
          ],
          "heatmap": [
           {
            "colorbar": {
             "outlinewidth": 0,
             "ticks": ""
            },
            "colorscale": [
             [
              0,
              "#0d0887"
             ],
             [
              0.1111111111111111,
              "#46039f"
             ],
             [
              0.2222222222222222,
              "#7201a8"
             ],
             [
              0.3333333333333333,
              "#9c179e"
             ],
             [
              0.4444444444444444,
              "#bd3786"
             ],
             [
              0.5555555555555556,
              "#d8576b"
             ],
             [
              0.6666666666666666,
              "#ed7953"
             ],
             [
              0.7777777777777778,
              "#fb9f3a"
             ],
             [
              0.8888888888888888,
              "#fdca26"
             ],
             [
              1,
              "#f0f921"
             ]
            ],
            "type": "heatmap"
           }
          ],
          "heatmapgl": [
           {
            "colorbar": {
             "outlinewidth": 0,
             "ticks": ""
            },
            "colorscale": [
             [
              0,
              "#0d0887"
             ],
             [
              0.1111111111111111,
              "#46039f"
             ],
             [
              0.2222222222222222,
              "#7201a8"
             ],
             [
              0.3333333333333333,
              "#9c179e"
             ],
             [
              0.4444444444444444,
              "#bd3786"
             ],
             [
              0.5555555555555556,
              "#d8576b"
             ],
             [
              0.6666666666666666,
              "#ed7953"
             ],
             [
              0.7777777777777778,
              "#fb9f3a"
             ],
             [
              0.8888888888888888,
              "#fdca26"
             ],
             [
              1,
              "#f0f921"
             ]
            ],
            "type": "heatmapgl"
           }
          ],
          "histogram": [
           {
            "marker": {
             "pattern": {
              "fillmode": "overlay",
              "size": 10,
              "solidity": 0.2
             }
            },
            "type": "histogram"
           }
          ],
          "histogram2d": [
           {
            "colorbar": {
             "outlinewidth": 0,
             "ticks": ""
            },
            "colorscale": [
             [
              0,
              "#0d0887"
             ],
             [
              0.1111111111111111,
              "#46039f"
             ],
             [
              0.2222222222222222,
              "#7201a8"
             ],
             [
              0.3333333333333333,
              "#9c179e"
             ],
             [
              0.4444444444444444,
              "#bd3786"
             ],
             [
              0.5555555555555556,
              "#d8576b"
             ],
             [
              0.6666666666666666,
              "#ed7953"
             ],
             [
              0.7777777777777778,
              "#fb9f3a"
             ],
             [
              0.8888888888888888,
              "#fdca26"
             ],
             [
              1,
              "#f0f921"
             ]
            ],
            "type": "histogram2d"
           }
          ],
          "histogram2dcontour": [
           {
            "colorbar": {
             "outlinewidth": 0,
             "ticks": ""
            },
            "colorscale": [
             [
              0,
              "#0d0887"
             ],
             [
              0.1111111111111111,
              "#46039f"
             ],
             [
              0.2222222222222222,
              "#7201a8"
             ],
             [
              0.3333333333333333,
              "#9c179e"
             ],
             [
              0.4444444444444444,
              "#bd3786"
             ],
             [
              0.5555555555555556,
              "#d8576b"
             ],
             [
              0.6666666666666666,
              "#ed7953"
             ],
             [
              0.7777777777777778,
              "#fb9f3a"
             ],
             [
              0.8888888888888888,
              "#fdca26"
             ],
             [
              1,
              "#f0f921"
             ]
            ],
            "type": "histogram2dcontour"
           }
          ],
          "mesh3d": [
           {
            "colorbar": {
             "outlinewidth": 0,
             "ticks": ""
            },
            "type": "mesh3d"
           }
          ],
          "parcoords": [
           {
            "line": {
             "colorbar": {
              "outlinewidth": 0,
              "ticks": ""
             }
            },
            "type": "parcoords"
           }
          ],
          "pie": [
           {
            "automargin": true,
            "type": "pie"
           }
          ],
          "scatter": [
           {
            "fillpattern": {
             "fillmode": "overlay",
             "size": 10,
             "solidity": 0.2
            },
            "type": "scatter"
           }
          ],
          "scatter3d": [
           {
            "line": {
             "colorbar": {
              "outlinewidth": 0,
              "ticks": ""
             }
            },
            "marker": {
             "colorbar": {
              "outlinewidth": 0,
              "ticks": ""
             }
            },
            "type": "scatter3d"
           }
          ],
          "scattercarpet": [
           {
            "marker": {
             "colorbar": {
              "outlinewidth": 0,
              "ticks": ""
             }
            },
            "type": "scattercarpet"
           }
          ],
          "scattergeo": [
           {
            "marker": {
             "colorbar": {
              "outlinewidth": 0,
              "ticks": ""
             }
            },
            "type": "scattergeo"
           }
          ],
          "scattergl": [
           {
            "marker": {
             "colorbar": {
              "outlinewidth": 0,
              "ticks": ""
             }
            },
            "type": "scattergl"
           }
          ],
          "scattermapbox": [
           {
            "marker": {
             "colorbar": {
              "outlinewidth": 0,
              "ticks": ""
             }
            },
            "type": "scattermapbox"
           }
          ],
          "scatterpolar": [
           {
            "marker": {
             "colorbar": {
              "outlinewidth": 0,
              "ticks": ""
             }
            },
            "type": "scatterpolar"
           }
          ],
          "scatterpolargl": [
           {
            "marker": {
             "colorbar": {
              "outlinewidth": 0,
              "ticks": ""
             }
            },
            "type": "scatterpolargl"
           }
          ],
          "scatterternary": [
           {
            "marker": {
             "colorbar": {
              "outlinewidth": 0,
              "ticks": ""
             }
            },
            "type": "scatterternary"
           }
          ],
          "surface": [
           {
            "colorbar": {
             "outlinewidth": 0,
             "ticks": ""
            },
            "colorscale": [
             [
              0,
              "#0d0887"
             ],
             [
              0.1111111111111111,
              "#46039f"
             ],
             [
              0.2222222222222222,
              "#7201a8"
             ],
             [
              0.3333333333333333,
              "#9c179e"
             ],
             [
              0.4444444444444444,
              "#bd3786"
             ],
             [
              0.5555555555555556,
              "#d8576b"
             ],
             [
              0.6666666666666666,
              "#ed7953"
             ],
             [
              0.7777777777777778,
              "#fb9f3a"
             ],
             [
              0.8888888888888888,
              "#fdca26"
             ],
             [
              1,
              "#f0f921"
             ]
            ],
            "type": "surface"
           }
          ],
          "table": [
           {
            "cells": {
             "fill": {
              "color": "#EBF0F8"
             },
             "line": {
              "color": "white"
             }
            },
            "header": {
             "fill": {
              "color": "#C8D4E3"
             },
             "line": {
              "color": "white"
             }
            },
            "type": "table"
           }
          ]
         },
         "layout": {
          "annotationdefaults": {
           "arrowcolor": "#2a3f5f",
           "arrowhead": 0,
           "arrowwidth": 1
          },
          "autotypenumbers": "strict",
          "coloraxis": {
           "colorbar": {
            "outlinewidth": 0,
            "ticks": ""
           }
          },
          "colorscale": {
           "diverging": [
            [
             0,
             "#8e0152"
            ],
            [
             0.1,
             "#c51b7d"
            ],
            [
             0.2,
             "#de77ae"
            ],
            [
             0.3,
             "#f1b6da"
            ],
            [
             0.4,
             "#fde0ef"
            ],
            [
             0.5,
             "#f7f7f7"
            ],
            [
             0.6,
             "#e6f5d0"
            ],
            [
             0.7,
             "#b8e186"
            ],
            [
             0.8,
             "#7fbc41"
            ],
            [
             0.9,
             "#4d9221"
            ],
            [
             1,
             "#276419"
            ]
           ],
           "sequential": [
            [
             0,
             "#0d0887"
            ],
            [
             0.1111111111111111,
             "#46039f"
            ],
            [
             0.2222222222222222,
             "#7201a8"
            ],
            [
             0.3333333333333333,
             "#9c179e"
            ],
            [
             0.4444444444444444,
             "#bd3786"
            ],
            [
             0.5555555555555556,
             "#d8576b"
            ],
            [
             0.6666666666666666,
             "#ed7953"
            ],
            [
             0.7777777777777778,
             "#fb9f3a"
            ],
            [
             0.8888888888888888,
             "#fdca26"
            ],
            [
             1,
             "#f0f921"
            ]
           ],
           "sequentialminus": [
            [
             0,
             "#0d0887"
            ],
            [
             0.1111111111111111,
             "#46039f"
            ],
            [
             0.2222222222222222,
             "#7201a8"
            ],
            [
             0.3333333333333333,
             "#9c179e"
            ],
            [
             0.4444444444444444,
             "#bd3786"
            ],
            [
             0.5555555555555556,
             "#d8576b"
            ],
            [
             0.6666666666666666,
             "#ed7953"
            ],
            [
             0.7777777777777778,
             "#fb9f3a"
            ],
            [
             0.8888888888888888,
             "#fdca26"
            ],
            [
             1,
             "#f0f921"
            ]
           ]
          },
          "colorway": [
           "#636efa",
           "#EF553B",
           "#00cc96",
           "#ab63fa",
           "#FFA15A",
           "#19d3f3",
           "#FF6692",
           "#B6E880",
           "#FF97FF",
           "#FECB52"
          ],
          "font": {
           "color": "#2a3f5f"
          },
          "geo": {
           "bgcolor": "white",
           "lakecolor": "white",
           "landcolor": "#E5ECF6",
           "showlakes": true,
           "showland": true,
           "subunitcolor": "white"
          },
          "hoverlabel": {
           "align": "left"
          },
          "hovermode": "closest",
          "mapbox": {
           "style": "light"
          },
          "paper_bgcolor": "white",
          "plot_bgcolor": "#E5ECF6",
          "polar": {
           "angularaxis": {
            "gridcolor": "white",
            "linecolor": "white",
            "ticks": ""
           },
           "bgcolor": "#E5ECF6",
           "radialaxis": {
            "gridcolor": "white",
            "linecolor": "white",
            "ticks": ""
           }
          },
          "scene": {
           "xaxis": {
            "backgroundcolor": "#E5ECF6",
            "gridcolor": "white",
            "gridwidth": 2,
            "linecolor": "white",
            "showbackground": true,
            "ticks": "",
            "zerolinecolor": "white"
           },
           "yaxis": {
            "backgroundcolor": "#E5ECF6",
            "gridcolor": "white",
            "gridwidth": 2,
            "linecolor": "white",
            "showbackground": true,
            "ticks": "",
            "zerolinecolor": "white"
           },
           "zaxis": {
            "backgroundcolor": "#E5ECF6",
            "gridcolor": "white",
            "gridwidth": 2,
            "linecolor": "white",
            "showbackground": true,
            "ticks": "",
            "zerolinecolor": "white"
           }
          },
          "shapedefaults": {
           "line": {
            "color": "#2a3f5f"
           }
          },
          "ternary": {
           "aaxis": {
            "gridcolor": "white",
            "linecolor": "white",
            "ticks": ""
           },
           "baxis": {
            "gridcolor": "white",
            "linecolor": "white",
            "ticks": ""
           },
           "bgcolor": "#E5ECF6",
           "caxis": {
            "gridcolor": "white",
            "linecolor": "white",
            "ticks": ""
           }
          },
          "title": {
           "x": 0.05
          },
          "xaxis": {
           "automargin": true,
           "gridcolor": "white",
           "linecolor": "white",
           "ticks": "",
           "title": {
            "standoff": 15
           },
           "zerolinecolor": "white",
           "zerolinewidth": 2
          },
          "yaxis": {
           "automargin": true,
           "gridcolor": "white",
           "linecolor": "white",
           "ticks": "",
           "title": {
            "standoff": 15
           },
           "zerolinecolor": "white",
           "zerolinewidth": 2
          }
         }
        },
        "title": {
         "text": "Optimization History Plot"
        },
        "xaxis": {
         "title": {
          "text": "Trial"
         }
        },
        "yaxis": {
         "title": {
          "text": "Objective Value"
         }
        }
       }
      }
     },
     "metadata": {},
     "output_type": "display_data"
    },
    {
     "data": {
      "application/vnd.plotly.v1+json": {
       "config": {
        "plotlyServerURL": "https://plot.ly"
       },
       "data": [
        {
         "cliponaxis": false,
         "hovertemplate": [
          "boosting_type (CategoricalDistribution): 0.0<extra></extra>",
          "device (CategoricalDistribution): 0.0<extra></extra>",
          "n_estimators (CategoricalDistribution): 0.0<extra></extra>",
          "n_jobs (CategoricalDistribution): 0.0<extra></extra>",
          "objective (CategoricalDistribution): 0.0<extra></extra>",
          "verbose (CategoricalDistribution): 0.0<extra></extra>",
          "reg_lambda (FloatDistribution): 0.0014113433386142358<extra></extra>",
          "reg_alpha (FloatDistribution): 0.00243133937617464<extra></extra>",
          "min_child_samples (IntDistribution): 0.019586611988340878<extra></extra>",
          "colsample_bytree (FloatDistribution): 0.04675230220859802<extra></extra>",
          "subsample (FloatDistribution): 0.09267798128666141<extra></extra>",
          "max_depth (IntDistribution): 0.21091362534876607<extra></extra>",
          "learning_rate (FloatDistribution): 0.6262267964528447<extra></extra>"
         ],
         "marker": {
          "color": "rgb(66,146,198)"
         },
         "orientation": "h",
         "text": [
          "<0.01",
          "<0.01",
          "<0.01",
          "<0.01",
          "<0.01",
          "<0.01",
          "<0.01",
          "<0.01",
          "0.02",
          "0.05",
          "0.09",
          "0.21",
          "0.63"
         ],
         "textposition": "outside",
         "type": "bar",
         "x": [
          0,
          0,
          0,
          0,
          0,
          0,
          0.0014113433386142358,
          0.00243133937617464,
          0.019586611988340878,
          0.04675230220859802,
          0.09267798128666141,
          0.21091362534876607,
          0.6262267964528447
         ],
         "y": [
          "boosting_type",
          "device",
          "n_estimators",
          "n_jobs",
          "objective",
          "verbose",
          "reg_lambda",
          "reg_alpha",
          "min_child_samples",
          "colsample_bytree",
          "subsample",
          "max_depth",
          "learning_rate"
         ]
        }
       ],
       "layout": {
        "showlegend": false,
        "template": {
         "data": {
          "bar": [
           {
            "error_x": {
             "color": "#2a3f5f"
            },
            "error_y": {
             "color": "#2a3f5f"
            },
            "marker": {
             "line": {
              "color": "#E5ECF6",
              "width": 0.5
             },
             "pattern": {
              "fillmode": "overlay",
              "size": 10,
              "solidity": 0.2
             }
            },
            "type": "bar"
           }
          ],
          "barpolar": [
           {
            "marker": {
             "line": {
              "color": "#E5ECF6",
              "width": 0.5
             },
             "pattern": {
              "fillmode": "overlay",
              "size": 10,
              "solidity": 0.2
             }
            },
            "type": "barpolar"
           }
          ],
          "carpet": [
           {
            "aaxis": {
             "endlinecolor": "#2a3f5f",
             "gridcolor": "white",
             "linecolor": "white",
             "minorgridcolor": "white",
             "startlinecolor": "#2a3f5f"
            },
            "baxis": {
             "endlinecolor": "#2a3f5f",
             "gridcolor": "white",
             "linecolor": "white",
             "minorgridcolor": "white",
             "startlinecolor": "#2a3f5f"
            },
            "type": "carpet"
           }
          ],
          "choropleth": [
           {
            "colorbar": {
             "outlinewidth": 0,
             "ticks": ""
            },
            "type": "choropleth"
           }
          ],
          "contour": [
           {
            "colorbar": {
             "outlinewidth": 0,
             "ticks": ""
            },
            "colorscale": [
             [
              0,
              "#0d0887"
             ],
             [
              0.1111111111111111,
              "#46039f"
             ],
             [
              0.2222222222222222,
              "#7201a8"
             ],
             [
              0.3333333333333333,
              "#9c179e"
             ],
             [
              0.4444444444444444,
              "#bd3786"
             ],
             [
              0.5555555555555556,
              "#d8576b"
             ],
             [
              0.6666666666666666,
              "#ed7953"
             ],
             [
              0.7777777777777778,
              "#fb9f3a"
             ],
             [
              0.8888888888888888,
              "#fdca26"
             ],
             [
              1,
              "#f0f921"
             ]
            ],
            "type": "contour"
           }
          ],
          "contourcarpet": [
           {
            "colorbar": {
             "outlinewidth": 0,
             "ticks": ""
            },
            "type": "contourcarpet"
           }
          ],
          "heatmap": [
           {
            "colorbar": {
             "outlinewidth": 0,
             "ticks": ""
            },
            "colorscale": [
             [
              0,
              "#0d0887"
             ],
             [
              0.1111111111111111,
              "#46039f"
             ],
             [
              0.2222222222222222,
              "#7201a8"
             ],
             [
              0.3333333333333333,
              "#9c179e"
             ],
             [
              0.4444444444444444,
              "#bd3786"
             ],
             [
              0.5555555555555556,
              "#d8576b"
             ],
             [
              0.6666666666666666,
              "#ed7953"
             ],
             [
              0.7777777777777778,
              "#fb9f3a"
             ],
             [
              0.8888888888888888,
              "#fdca26"
             ],
             [
              1,
              "#f0f921"
             ]
            ],
            "type": "heatmap"
           }
          ],
          "heatmapgl": [
           {
            "colorbar": {
             "outlinewidth": 0,
             "ticks": ""
            },
            "colorscale": [
             [
              0,
              "#0d0887"
             ],
             [
              0.1111111111111111,
              "#46039f"
             ],
             [
              0.2222222222222222,
              "#7201a8"
             ],
             [
              0.3333333333333333,
              "#9c179e"
             ],
             [
              0.4444444444444444,
              "#bd3786"
             ],
             [
              0.5555555555555556,
              "#d8576b"
             ],
             [
              0.6666666666666666,
              "#ed7953"
             ],
             [
              0.7777777777777778,
              "#fb9f3a"
             ],
             [
              0.8888888888888888,
              "#fdca26"
             ],
             [
              1,
              "#f0f921"
             ]
            ],
            "type": "heatmapgl"
           }
          ],
          "histogram": [
           {
            "marker": {
             "pattern": {
              "fillmode": "overlay",
              "size": 10,
              "solidity": 0.2
             }
            },
            "type": "histogram"
           }
          ],
          "histogram2d": [
           {
            "colorbar": {
             "outlinewidth": 0,
             "ticks": ""
            },
            "colorscale": [
             [
              0,
              "#0d0887"
             ],
             [
              0.1111111111111111,
              "#46039f"
             ],
             [
              0.2222222222222222,
              "#7201a8"
             ],
             [
              0.3333333333333333,
              "#9c179e"
             ],
             [
              0.4444444444444444,
              "#bd3786"
             ],
             [
              0.5555555555555556,
              "#d8576b"
             ],
             [
              0.6666666666666666,
              "#ed7953"
             ],
             [
              0.7777777777777778,
              "#fb9f3a"
             ],
             [
              0.8888888888888888,
              "#fdca26"
             ],
             [
              1,
              "#f0f921"
             ]
            ],
            "type": "histogram2d"
           }
          ],
          "histogram2dcontour": [
           {
            "colorbar": {
             "outlinewidth": 0,
             "ticks": ""
            },
            "colorscale": [
             [
              0,
              "#0d0887"
             ],
             [
              0.1111111111111111,
              "#46039f"
             ],
             [
              0.2222222222222222,
              "#7201a8"
             ],
             [
              0.3333333333333333,
              "#9c179e"
             ],
             [
              0.4444444444444444,
              "#bd3786"
             ],
             [
              0.5555555555555556,
              "#d8576b"
             ],
             [
              0.6666666666666666,
              "#ed7953"
             ],
             [
              0.7777777777777778,
              "#fb9f3a"
             ],
             [
              0.8888888888888888,
              "#fdca26"
             ],
             [
              1,
              "#f0f921"
             ]
            ],
            "type": "histogram2dcontour"
           }
          ],
          "mesh3d": [
           {
            "colorbar": {
             "outlinewidth": 0,
             "ticks": ""
            },
            "type": "mesh3d"
           }
          ],
          "parcoords": [
           {
            "line": {
             "colorbar": {
              "outlinewidth": 0,
              "ticks": ""
             }
            },
            "type": "parcoords"
           }
          ],
          "pie": [
           {
            "automargin": true,
            "type": "pie"
           }
          ],
          "scatter": [
           {
            "fillpattern": {
             "fillmode": "overlay",
             "size": 10,
             "solidity": 0.2
            },
            "type": "scatter"
           }
          ],
          "scatter3d": [
           {
            "line": {
             "colorbar": {
              "outlinewidth": 0,
              "ticks": ""
             }
            },
            "marker": {
             "colorbar": {
              "outlinewidth": 0,
              "ticks": ""
             }
            },
            "type": "scatter3d"
           }
          ],
          "scattercarpet": [
           {
            "marker": {
             "colorbar": {
              "outlinewidth": 0,
              "ticks": ""
             }
            },
            "type": "scattercarpet"
           }
          ],
          "scattergeo": [
           {
            "marker": {
             "colorbar": {
              "outlinewidth": 0,
              "ticks": ""
             }
            },
            "type": "scattergeo"
           }
          ],
          "scattergl": [
           {
            "marker": {
             "colorbar": {
              "outlinewidth": 0,
              "ticks": ""
             }
            },
            "type": "scattergl"
           }
          ],
          "scattermapbox": [
           {
            "marker": {
             "colorbar": {
              "outlinewidth": 0,
              "ticks": ""
             }
            },
            "type": "scattermapbox"
           }
          ],
          "scatterpolar": [
           {
            "marker": {
             "colorbar": {
              "outlinewidth": 0,
              "ticks": ""
             }
            },
            "type": "scatterpolar"
           }
          ],
          "scatterpolargl": [
           {
            "marker": {
             "colorbar": {
              "outlinewidth": 0,
              "ticks": ""
             }
            },
            "type": "scatterpolargl"
           }
          ],
          "scatterternary": [
           {
            "marker": {
             "colorbar": {
              "outlinewidth": 0,
              "ticks": ""
             }
            },
            "type": "scatterternary"
           }
          ],
          "surface": [
           {
            "colorbar": {
             "outlinewidth": 0,
             "ticks": ""
            },
            "colorscale": [
             [
              0,
              "#0d0887"
             ],
             [
              0.1111111111111111,
              "#46039f"
             ],
             [
              0.2222222222222222,
              "#7201a8"
             ],
             [
              0.3333333333333333,
              "#9c179e"
             ],
             [
              0.4444444444444444,
              "#bd3786"
             ],
             [
              0.5555555555555556,
              "#d8576b"
             ],
             [
              0.6666666666666666,
              "#ed7953"
             ],
             [
              0.7777777777777778,
              "#fb9f3a"
             ],
             [
              0.8888888888888888,
              "#fdca26"
             ],
             [
              1,
              "#f0f921"
             ]
            ],
            "type": "surface"
           }
          ],
          "table": [
           {
            "cells": {
             "fill": {
              "color": "#EBF0F8"
             },
             "line": {
              "color": "white"
             }
            },
            "header": {
             "fill": {
              "color": "#C8D4E3"
             },
             "line": {
              "color": "white"
             }
            },
            "type": "table"
           }
          ]
         },
         "layout": {
          "annotationdefaults": {
           "arrowcolor": "#2a3f5f",
           "arrowhead": 0,
           "arrowwidth": 1
          },
          "autotypenumbers": "strict",
          "coloraxis": {
           "colorbar": {
            "outlinewidth": 0,
            "ticks": ""
           }
          },
          "colorscale": {
           "diverging": [
            [
             0,
             "#8e0152"
            ],
            [
             0.1,
             "#c51b7d"
            ],
            [
             0.2,
             "#de77ae"
            ],
            [
             0.3,
             "#f1b6da"
            ],
            [
             0.4,
             "#fde0ef"
            ],
            [
             0.5,
             "#f7f7f7"
            ],
            [
             0.6,
             "#e6f5d0"
            ],
            [
             0.7,
             "#b8e186"
            ],
            [
             0.8,
             "#7fbc41"
            ],
            [
             0.9,
             "#4d9221"
            ],
            [
             1,
             "#276419"
            ]
           ],
           "sequential": [
            [
             0,
             "#0d0887"
            ],
            [
             0.1111111111111111,
             "#46039f"
            ],
            [
             0.2222222222222222,
             "#7201a8"
            ],
            [
             0.3333333333333333,
             "#9c179e"
            ],
            [
             0.4444444444444444,
             "#bd3786"
            ],
            [
             0.5555555555555556,
             "#d8576b"
            ],
            [
             0.6666666666666666,
             "#ed7953"
            ],
            [
             0.7777777777777778,
             "#fb9f3a"
            ],
            [
             0.8888888888888888,
             "#fdca26"
            ],
            [
             1,
             "#f0f921"
            ]
           ],
           "sequentialminus": [
            [
             0,
             "#0d0887"
            ],
            [
             0.1111111111111111,
             "#46039f"
            ],
            [
             0.2222222222222222,
             "#7201a8"
            ],
            [
             0.3333333333333333,
             "#9c179e"
            ],
            [
             0.4444444444444444,
             "#bd3786"
            ],
            [
             0.5555555555555556,
             "#d8576b"
            ],
            [
             0.6666666666666666,
             "#ed7953"
            ],
            [
             0.7777777777777778,
             "#fb9f3a"
            ],
            [
             0.8888888888888888,
             "#fdca26"
            ],
            [
             1,
             "#f0f921"
            ]
           ]
          },
          "colorway": [
           "#636efa",
           "#EF553B",
           "#00cc96",
           "#ab63fa",
           "#FFA15A",
           "#19d3f3",
           "#FF6692",
           "#B6E880",
           "#FF97FF",
           "#FECB52"
          ],
          "font": {
           "color": "#2a3f5f"
          },
          "geo": {
           "bgcolor": "white",
           "lakecolor": "white",
           "landcolor": "#E5ECF6",
           "showlakes": true,
           "showland": true,
           "subunitcolor": "white"
          },
          "hoverlabel": {
           "align": "left"
          },
          "hovermode": "closest",
          "mapbox": {
           "style": "light"
          },
          "paper_bgcolor": "white",
          "plot_bgcolor": "#E5ECF6",
          "polar": {
           "angularaxis": {
            "gridcolor": "white",
            "linecolor": "white",
            "ticks": ""
           },
           "bgcolor": "#E5ECF6",
           "radialaxis": {
            "gridcolor": "white",
            "linecolor": "white",
            "ticks": ""
           }
          },
          "scene": {
           "xaxis": {
            "backgroundcolor": "#E5ECF6",
            "gridcolor": "white",
            "gridwidth": 2,
            "linecolor": "white",
            "showbackground": true,
            "ticks": "",
            "zerolinecolor": "white"
           },
           "yaxis": {
            "backgroundcolor": "#E5ECF6",
            "gridcolor": "white",
            "gridwidth": 2,
            "linecolor": "white",
            "showbackground": true,
            "ticks": "",
            "zerolinecolor": "white"
           },
           "zaxis": {
            "backgroundcolor": "#E5ECF6",
            "gridcolor": "white",
            "gridwidth": 2,
            "linecolor": "white",
            "showbackground": true,
            "ticks": "",
            "zerolinecolor": "white"
           }
          },
          "shapedefaults": {
           "line": {
            "color": "#2a3f5f"
           }
          },
          "ternary": {
           "aaxis": {
            "gridcolor": "white",
            "linecolor": "white",
            "ticks": ""
           },
           "baxis": {
            "gridcolor": "white",
            "linecolor": "white",
            "ticks": ""
           },
           "bgcolor": "#E5ECF6",
           "caxis": {
            "gridcolor": "white",
            "linecolor": "white",
            "ticks": ""
           }
          },
          "title": {
           "x": 0.05
          },
          "xaxis": {
           "automargin": true,
           "gridcolor": "white",
           "linecolor": "white",
           "ticks": "",
           "title": {
            "standoff": 15
           },
           "zerolinecolor": "white",
           "zerolinewidth": 2
          },
          "yaxis": {
           "automargin": true,
           "gridcolor": "white",
           "linecolor": "white",
           "ticks": "",
           "title": {
            "standoff": 15
           },
           "zerolinecolor": "white",
           "zerolinewidth": 2
          }
         }
        },
        "title": {
         "text": "Hyperparameter Importances"
        },
        "xaxis": {
         "title": {
          "text": "Importance for Objective Value"
         }
        },
        "yaxis": {
         "title": {
          "text": "Hyperparameter"
         }
        }
       }
      }
     },
     "metadata": {},
     "output_type": "display_data"
    },
    {
     "data": {
      "application/vnd.plotly.v1+json": {
       "config": {
        "plotlyServerURL": "https://plot.ly"
       },
       "data": [
        {
         "dimensions": [
          {
           "label": "Objective Value",
           "range": [
            5.840639364576689,
            5.875982849324553
           ],
           "values": [
            5.875982849324553,
            5.847199726832364,
            5.8427293171439745,
            5.848180619227425,
            5.850926248967838,
            5.851023717673417,
            5.847268360288546,
            5.846850388092886,
            5.848102808573557,
            5.8423235345072095,
            5.843660997508555,
            5.857039469459106,
            5.8447386678327184,
            5.846934314095921,
            5.842836353066716,
            5.844705468871062,
            5.843599948440427,
            5.852972575477146,
            5.850711007732549,
            5.845649903176317,
            5.847624823806463,
            5.8454256545433205,
            5.846827318146485,
            5.841527934953323,
            5.8414024958984045,
            5.852664977622106,
            5.845186164494603,
            5.847078138997337,
            5.861380936640145,
            5.8455492805531755,
            5.842166876144375,
            5.843386961734246,
            5.842063146923258,
            5.842188079927606,
            5.843111018145798,
            5.846241794556117,
            5.843975542682313,
            5.842676539794927,
            5.8417295918256675,
            5.841352460244103,
            5.846064596100622,
            5.84096271409917,
            5.844511132150351,
            5.841904132639392,
            5.842100160264439,
            5.852084096547362,
            5.844010664634595,
            5.844840677248912,
            5.840639364576689,
            5.843755359927077
           ]
          },
          {
           "label": "colsample_bytree",
           "range": [
            0.42034280832963294,
            0.9740573094154273
           ],
           "values": [
            0.6061612797423379,
            0.7493081419991371,
            0.9740573094154273,
            0.6660617605236815,
            0.6086959814179814,
            0.6898779836505998,
            0.6503825157439941,
            0.8835956900713356,
            0.8468192978346007,
            0.7604700703337752,
            0.6343517543270984,
            0.6249385282744128,
            0.7209966949481141,
            0.6908245481955049,
            0.7736143975073981,
            0.8362718390738356,
            0.5088938910944796,
            0.8910538762531246,
            0.5162997379028126,
            0.7709944700416316,
            0.7971210565530953,
            0.8634840902631155,
            0.7247353819245075,
            0.6808688479554422,
            0.8744914409542213,
            0.7352187207154801,
            0.7328433981052273,
            0.5834681152304446,
            0.7151188928539337,
            0.42034280832963294,
            0.6966407020278564,
            0.5443521337635518,
            0.6571956903329504,
            0.6116931497690754,
            0.6286508026311297,
            0.6270795704749877,
            0.7432689504668263,
            0.8852523027702249,
            0.6942874270638038,
            0.6795713903968956,
            0.5718206216281412,
            0.5894731800895575,
            0.6231032261779159,
            0.6891360516712535,
            0.7881385368979017,
            0.533520537682621,
            0.5813725463242687,
            0.5602676052553346,
            0.6605652916348981,
            0.8304477570630464
           ]
          },
          {
           "label": "learning_rate",
           "range": [
            -1.9894293588148855,
            -0.019484972793303013
           ],
           "ticktext": [
            "0.0102",
            "0.1",
            "0.956"
           ],
           "tickvals": [
            -1.9894293588148855,
            -1,
            -0.019484972793303013
           ],
           "values": [
            -0.019484972793303013,
            -1.0375870988701095,
            -1.4106250905788138,
            -1.2052490934256712,
            -0.8299282235426721,
            -0.7869464379369252,
            -1.0320400526200082,
            -0.9730442345043564,
            -0.8872198613366643,
            -1.2881169764127316,
            -1.6896425520242597,
            -0.56121422509606,
            -1.0807715020659387,
            -0.8846557378865235,
            -1.353046161519605,
            -1.0689268359690183,
            -1.436037777638132,
            -0.7963553518848209,
            -0.6962971111017197,
            -1.0611752770524523,
            -1.0436242252761714,
            -1.1377189582807625,
            -1.530801227243736,
            -1.671405148192962,
            -1.5891413048201355,
            -0.548131447964291,
            -1.085747240993306,
            -1.7357601372022646,
            -0.6285516307016632,
            -1.929498655812952,
            -1.2860127410403666,
            -1.9894293588148855,
            -1.79612587959147,
            -1.591430694677695,
            -1.2780254566807214,
            -0.9837355986982929,
            -1.296175613886029,
            -1.2703175456474698,
            -1.379348091385043,
            -1.691977578631377,
            -1.025971115838604,
            -1.7323041846847,
            -1.7106063821114779,
            -1.406727017093677,
            -1.522856868033217,
            -1.764655993618262,
            -1.2941996003126885,
            -1.0707655798643003,
            -1.6335020092161339,
            -1.3183574532880218
           ]
          },
          {
           "label": "max_depth",
           "range": [
            5,
            11
           ],
           "values": [
            5,
            10,
            10,
            6,
            10,
            9,
            10,
            7,
            9,
            9,
            8,
            10,
            9,
            9,
            9,
            9,
            10,
            6,
            8,
            8,
            8,
            7,
            8,
            9,
            9,
            8,
            8,
            8,
            11,
            9,
            9,
            11,
            9,
            8,
            9,
            8,
            10,
            10,
            10,
            11,
            9,
            10,
            8,
            9,
            10,
            7,
            9,
            8,
            9,
            9
           ]
          },
          {
           "label": "min_child_samples",
           "range": [
            13,
            100
           ],
           "values": [
            25,
            32,
            13,
            50,
            25,
            27,
            25,
            34,
            48,
            75,
            68,
            24,
            34,
            59,
            55,
            50,
            86,
            38,
            74,
            45,
            71,
            57,
            54,
            48,
            82,
            74,
            57,
            78,
            66,
            33,
            37,
            86,
            59,
            63,
            63,
            100,
            52,
            61,
            62,
            58,
            39,
            44,
            47,
            70,
            62,
            46,
            44,
            40,
            55,
            43
           ]
          },
          {
           "label": "num_leaves",
           "range": [
            8,
            1446
           ],
           "values": [
            21,
            582,
            542,
            18,
            330,
            384,
            600,
            92,
            296,
            372,
            134,
            373,
            175,
            105,
            324,
            312,
            56,
            8,
            191,
            162,
            20,
            60,
            35,
            247,
            270,
            27,
            167,
            68,
            1446,
            321,
            197,
            1123,
            344,
            117,
            153,
            108,
            181,
            671,
            491,
            1169,
            270,
            277,
            111,
            367,
            154,
            38,
            99,
            78,
            319,
            103
           ]
          }
         ],
         "labelangle": 30,
         "labelside": "bottom",
         "line": {
          "color": [
           5.875982849324553,
           5.847199726832364,
           5.8427293171439745,
           5.848180619227425,
           5.850926248967838,
           5.851023717673417,
           5.847268360288546,
           5.846850388092886,
           5.848102808573557,
           5.8423235345072095,
           5.843660997508555,
           5.857039469459106,
           5.8447386678327184,
           5.846934314095921,
           5.842836353066716,
           5.844705468871062,
           5.843599948440427,
           5.852972575477146,
           5.850711007732549,
           5.845649903176317,
           5.847624823806463,
           5.8454256545433205,
           5.846827318146485,
           5.841527934953323,
           5.8414024958984045,
           5.852664977622106,
           5.845186164494603,
           5.847078138997337,
           5.861380936640145,
           5.8455492805531755,
           5.842166876144375,
           5.843386961734246,
           5.842063146923258,
           5.842188079927606,
           5.843111018145798,
           5.846241794556117,
           5.843975542682313,
           5.842676539794927,
           5.8417295918256675,
           5.841352460244103,
           5.846064596100622,
           5.84096271409917,
           5.844511132150351,
           5.841904132639392,
           5.842100160264439,
           5.852084096547362,
           5.844010664634595,
           5.844840677248912,
           5.840639364576689,
           5.843755359927077
          ],
          "colorbar": {
           "title": {
            "text": "Objective Value"
           }
          },
          "colorscale": [
           [
            0,
            "rgb(247,251,255)"
           ],
           [
            0.125,
            "rgb(222,235,247)"
           ],
           [
            0.25,
            "rgb(198,219,239)"
           ],
           [
            0.375,
            "rgb(158,202,225)"
           ],
           [
            0.5,
            "rgb(107,174,214)"
           ],
           [
            0.625,
            "rgb(66,146,198)"
           ],
           [
            0.75,
            "rgb(33,113,181)"
           ],
           [
            0.875,
            "rgb(8,81,156)"
           ],
           [
            1,
            "rgb(8,48,107)"
           ]
          ],
          "reversescale": true,
          "showscale": true
         },
         "type": "parcoords"
        }
       ],
       "layout": {
        "template": {
         "data": {
          "bar": [
           {
            "error_x": {
             "color": "#2a3f5f"
            },
            "error_y": {
             "color": "#2a3f5f"
            },
            "marker": {
             "line": {
              "color": "#E5ECF6",
              "width": 0.5
             },
             "pattern": {
              "fillmode": "overlay",
              "size": 10,
              "solidity": 0.2
             }
            },
            "type": "bar"
           }
          ],
          "barpolar": [
           {
            "marker": {
             "line": {
              "color": "#E5ECF6",
              "width": 0.5
             },
             "pattern": {
              "fillmode": "overlay",
              "size": 10,
              "solidity": 0.2
             }
            },
            "type": "barpolar"
           }
          ],
          "carpet": [
           {
            "aaxis": {
             "endlinecolor": "#2a3f5f",
             "gridcolor": "white",
             "linecolor": "white",
             "minorgridcolor": "white",
             "startlinecolor": "#2a3f5f"
            },
            "baxis": {
             "endlinecolor": "#2a3f5f",
             "gridcolor": "white",
             "linecolor": "white",
             "minorgridcolor": "white",
             "startlinecolor": "#2a3f5f"
            },
            "type": "carpet"
           }
          ],
          "choropleth": [
           {
            "colorbar": {
             "outlinewidth": 0,
             "ticks": ""
            },
            "type": "choropleth"
           }
          ],
          "contour": [
           {
            "colorbar": {
             "outlinewidth": 0,
             "ticks": ""
            },
            "colorscale": [
             [
              0,
              "#0d0887"
             ],
             [
              0.1111111111111111,
              "#46039f"
             ],
             [
              0.2222222222222222,
              "#7201a8"
             ],
             [
              0.3333333333333333,
              "#9c179e"
             ],
             [
              0.4444444444444444,
              "#bd3786"
             ],
             [
              0.5555555555555556,
              "#d8576b"
             ],
             [
              0.6666666666666666,
              "#ed7953"
             ],
             [
              0.7777777777777778,
              "#fb9f3a"
             ],
             [
              0.8888888888888888,
              "#fdca26"
             ],
             [
              1,
              "#f0f921"
             ]
            ],
            "type": "contour"
           }
          ],
          "contourcarpet": [
           {
            "colorbar": {
             "outlinewidth": 0,
             "ticks": ""
            },
            "type": "contourcarpet"
           }
          ],
          "heatmap": [
           {
            "colorbar": {
             "outlinewidth": 0,
             "ticks": ""
            },
            "colorscale": [
             [
              0,
              "#0d0887"
             ],
             [
              0.1111111111111111,
              "#46039f"
             ],
             [
              0.2222222222222222,
              "#7201a8"
             ],
             [
              0.3333333333333333,
              "#9c179e"
             ],
             [
              0.4444444444444444,
              "#bd3786"
             ],
             [
              0.5555555555555556,
              "#d8576b"
             ],
             [
              0.6666666666666666,
              "#ed7953"
             ],
             [
              0.7777777777777778,
              "#fb9f3a"
             ],
             [
              0.8888888888888888,
              "#fdca26"
             ],
             [
              1,
              "#f0f921"
             ]
            ],
            "type": "heatmap"
           }
          ],
          "heatmapgl": [
           {
            "colorbar": {
             "outlinewidth": 0,
             "ticks": ""
            },
            "colorscale": [
             [
              0,
              "#0d0887"
             ],
             [
              0.1111111111111111,
              "#46039f"
             ],
             [
              0.2222222222222222,
              "#7201a8"
             ],
             [
              0.3333333333333333,
              "#9c179e"
             ],
             [
              0.4444444444444444,
              "#bd3786"
             ],
             [
              0.5555555555555556,
              "#d8576b"
             ],
             [
              0.6666666666666666,
              "#ed7953"
             ],
             [
              0.7777777777777778,
              "#fb9f3a"
             ],
             [
              0.8888888888888888,
              "#fdca26"
             ],
             [
              1,
              "#f0f921"
             ]
            ],
            "type": "heatmapgl"
           }
          ],
          "histogram": [
           {
            "marker": {
             "pattern": {
              "fillmode": "overlay",
              "size": 10,
              "solidity": 0.2
             }
            },
            "type": "histogram"
           }
          ],
          "histogram2d": [
           {
            "colorbar": {
             "outlinewidth": 0,
             "ticks": ""
            },
            "colorscale": [
             [
              0,
              "#0d0887"
             ],
             [
              0.1111111111111111,
              "#46039f"
             ],
             [
              0.2222222222222222,
              "#7201a8"
             ],
             [
              0.3333333333333333,
              "#9c179e"
             ],
             [
              0.4444444444444444,
              "#bd3786"
             ],
             [
              0.5555555555555556,
              "#d8576b"
             ],
             [
              0.6666666666666666,
              "#ed7953"
             ],
             [
              0.7777777777777778,
              "#fb9f3a"
             ],
             [
              0.8888888888888888,
              "#fdca26"
             ],
             [
              1,
              "#f0f921"
             ]
            ],
            "type": "histogram2d"
           }
          ],
          "histogram2dcontour": [
           {
            "colorbar": {
             "outlinewidth": 0,
             "ticks": ""
            },
            "colorscale": [
             [
              0,
              "#0d0887"
             ],
             [
              0.1111111111111111,
              "#46039f"
             ],
             [
              0.2222222222222222,
              "#7201a8"
             ],
             [
              0.3333333333333333,
              "#9c179e"
             ],
             [
              0.4444444444444444,
              "#bd3786"
             ],
             [
              0.5555555555555556,
              "#d8576b"
             ],
             [
              0.6666666666666666,
              "#ed7953"
             ],
             [
              0.7777777777777778,
              "#fb9f3a"
             ],
             [
              0.8888888888888888,
              "#fdca26"
             ],
             [
              1,
              "#f0f921"
             ]
            ],
            "type": "histogram2dcontour"
           }
          ],
          "mesh3d": [
           {
            "colorbar": {
             "outlinewidth": 0,
             "ticks": ""
            },
            "type": "mesh3d"
           }
          ],
          "parcoords": [
           {
            "line": {
             "colorbar": {
              "outlinewidth": 0,
              "ticks": ""
             }
            },
            "type": "parcoords"
           }
          ],
          "pie": [
           {
            "automargin": true,
            "type": "pie"
           }
          ],
          "scatter": [
           {
            "fillpattern": {
             "fillmode": "overlay",
             "size": 10,
             "solidity": 0.2
            },
            "type": "scatter"
           }
          ],
          "scatter3d": [
           {
            "line": {
             "colorbar": {
              "outlinewidth": 0,
              "ticks": ""
             }
            },
            "marker": {
             "colorbar": {
              "outlinewidth": 0,
              "ticks": ""
             }
            },
            "type": "scatter3d"
           }
          ],
          "scattercarpet": [
           {
            "marker": {
             "colorbar": {
              "outlinewidth": 0,
              "ticks": ""
             }
            },
            "type": "scattercarpet"
           }
          ],
          "scattergeo": [
           {
            "marker": {
             "colorbar": {
              "outlinewidth": 0,
              "ticks": ""
             }
            },
            "type": "scattergeo"
           }
          ],
          "scattergl": [
           {
            "marker": {
             "colorbar": {
              "outlinewidth": 0,
              "ticks": ""
             }
            },
            "type": "scattergl"
           }
          ],
          "scattermapbox": [
           {
            "marker": {
             "colorbar": {
              "outlinewidth": 0,
              "ticks": ""
             }
            },
            "type": "scattermapbox"
           }
          ],
          "scatterpolar": [
           {
            "marker": {
             "colorbar": {
              "outlinewidth": 0,
              "ticks": ""
             }
            },
            "type": "scatterpolar"
           }
          ],
          "scatterpolargl": [
           {
            "marker": {
             "colorbar": {
              "outlinewidth": 0,
              "ticks": ""
             }
            },
            "type": "scatterpolargl"
           }
          ],
          "scatterternary": [
           {
            "marker": {
             "colorbar": {
              "outlinewidth": 0,
              "ticks": ""
             }
            },
            "type": "scatterternary"
           }
          ],
          "surface": [
           {
            "colorbar": {
             "outlinewidth": 0,
             "ticks": ""
            },
            "colorscale": [
             [
              0,
              "#0d0887"
             ],
             [
              0.1111111111111111,
              "#46039f"
             ],
             [
              0.2222222222222222,
              "#7201a8"
             ],
             [
              0.3333333333333333,
              "#9c179e"
             ],
             [
              0.4444444444444444,
              "#bd3786"
             ],
             [
              0.5555555555555556,
              "#d8576b"
             ],
             [
              0.6666666666666666,
              "#ed7953"
             ],
             [
              0.7777777777777778,
              "#fb9f3a"
             ],
             [
              0.8888888888888888,
              "#fdca26"
             ],
             [
              1,
              "#f0f921"
             ]
            ],
            "type": "surface"
           }
          ],
          "table": [
           {
            "cells": {
             "fill": {
              "color": "#EBF0F8"
             },
             "line": {
              "color": "white"
             }
            },
            "header": {
             "fill": {
              "color": "#C8D4E3"
             },
             "line": {
              "color": "white"
             }
            },
            "type": "table"
           }
          ]
         },
         "layout": {
          "annotationdefaults": {
           "arrowcolor": "#2a3f5f",
           "arrowhead": 0,
           "arrowwidth": 1
          },
          "autotypenumbers": "strict",
          "coloraxis": {
           "colorbar": {
            "outlinewidth": 0,
            "ticks": ""
           }
          },
          "colorscale": {
           "diverging": [
            [
             0,
             "#8e0152"
            ],
            [
             0.1,
             "#c51b7d"
            ],
            [
             0.2,
             "#de77ae"
            ],
            [
             0.3,
             "#f1b6da"
            ],
            [
             0.4,
             "#fde0ef"
            ],
            [
             0.5,
             "#f7f7f7"
            ],
            [
             0.6,
             "#e6f5d0"
            ],
            [
             0.7,
             "#b8e186"
            ],
            [
             0.8,
             "#7fbc41"
            ],
            [
             0.9,
             "#4d9221"
            ],
            [
             1,
             "#276419"
            ]
           ],
           "sequential": [
            [
             0,
             "#0d0887"
            ],
            [
             0.1111111111111111,
             "#46039f"
            ],
            [
             0.2222222222222222,
             "#7201a8"
            ],
            [
             0.3333333333333333,
             "#9c179e"
            ],
            [
             0.4444444444444444,
             "#bd3786"
            ],
            [
             0.5555555555555556,
             "#d8576b"
            ],
            [
             0.6666666666666666,
             "#ed7953"
            ],
            [
             0.7777777777777778,
             "#fb9f3a"
            ],
            [
             0.8888888888888888,
             "#fdca26"
            ],
            [
             1,
             "#f0f921"
            ]
           ],
           "sequentialminus": [
            [
             0,
             "#0d0887"
            ],
            [
             0.1111111111111111,
             "#46039f"
            ],
            [
             0.2222222222222222,
             "#7201a8"
            ],
            [
             0.3333333333333333,
             "#9c179e"
            ],
            [
             0.4444444444444444,
             "#bd3786"
            ],
            [
             0.5555555555555556,
             "#d8576b"
            ],
            [
             0.6666666666666666,
             "#ed7953"
            ],
            [
             0.7777777777777778,
             "#fb9f3a"
            ],
            [
             0.8888888888888888,
             "#fdca26"
            ],
            [
             1,
             "#f0f921"
            ]
           ]
          },
          "colorway": [
           "#636efa",
           "#EF553B",
           "#00cc96",
           "#ab63fa",
           "#FFA15A",
           "#19d3f3",
           "#FF6692",
           "#B6E880",
           "#FF97FF",
           "#FECB52"
          ],
          "font": {
           "color": "#2a3f5f"
          },
          "geo": {
           "bgcolor": "white",
           "lakecolor": "white",
           "landcolor": "#E5ECF6",
           "showlakes": true,
           "showland": true,
           "subunitcolor": "white"
          },
          "hoverlabel": {
           "align": "left"
          },
          "hovermode": "closest",
          "mapbox": {
           "style": "light"
          },
          "paper_bgcolor": "white",
          "plot_bgcolor": "#E5ECF6",
          "polar": {
           "angularaxis": {
            "gridcolor": "white",
            "linecolor": "white",
            "ticks": ""
           },
           "bgcolor": "#E5ECF6",
           "radialaxis": {
            "gridcolor": "white",
            "linecolor": "white",
            "ticks": ""
           }
          },
          "scene": {
           "xaxis": {
            "backgroundcolor": "#E5ECF6",
            "gridcolor": "white",
            "gridwidth": 2,
            "linecolor": "white",
            "showbackground": true,
            "ticks": "",
            "zerolinecolor": "white"
           },
           "yaxis": {
            "backgroundcolor": "#E5ECF6",
            "gridcolor": "white",
            "gridwidth": 2,
            "linecolor": "white",
            "showbackground": true,
            "ticks": "",
            "zerolinecolor": "white"
           },
           "zaxis": {
            "backgroundcolor": "#E5ECF6",
            "gridcolor": "white",
            "gridwidth": 2,
            "linecolor": "white",
            "showbackground": true,
            "ticks": "",
            "zerolinecolor": "white"
           }
          },
          "shapedefaults": {
           "line": {
            "color": "#2a3f5f"
           }
          },
          "ternary": {
           "aaxis": {
            "gridcolor": "white",
            "linecolor": "white",
            "ticks": ""
           },
           "baxis": {
            "gridcolor": "white",
            "linecolor": "white",
            "ticks": ""
           },
           "bgcolor": "#E5ECF6",
           "caxis": {
            "gridcolor": "white",
            "linecolor": "white",
            "ticks": ""
           }
          },
          "title": {
           "x": 0.05
          },
          "xaxis": {
           "automargin": true,
           "gridcolor": "white",
           "linecolor": "white",
           "ticks": "",
           "title": {
            "standoff": 15
           },
           "zerolinecolor": "white",
           "zerolinewidth": 2
          },
          "yaxis": {
           "automargin": true,
           "gridcolor": "white",
           "linecolor": "white",
           "ticks": "",
           "title": {
            "standoff": 15
           },
           "zerolinecolor": "white",
           "zerolinewidth": 2
          }
         }
        },
        "title": {
         "text": "Parallel Coordinate Plot"
        }
       }
      }
     },
     "metadata": {},
     "output_type": "display_data"
    }
   ],
   "source": [
    "if CFG.HYPERTUNE:\n",
    "    plot_optimization_history(study).show()\n",
    "    if CFG.N_TRIALS > 1:\n",
    "        plot_param_importances(study).show()\n",
    "        plot_parallel_coordinate(\n",
    "            study, \n",
    "            params=[\"max_depth\", \"num_leaves\", \"learning_rate\", \"colsample_bytree\", \"min_child_samples\"]\n",
    "        ).show()"
   ]
  },
  {
   "cell_type": "markdown",
   "id": "11eb35c6",
   "metadata": {
    "papermill": {
     "duration": 0.005694,
     "end_time": "2023-10-02T11:03:28.894504",
     "exception": false,
     "start_time": "2023-10-02T11:03:28.888810",
     "status": "completed"
    },
    "tags": []
   },
   "source": [
    "## Reevaluation and training\n",
    "--------------------"
   ]
  },
  {
   "cell_type": "markdown",
   "id": "fd940642",
   "metadata": {
    "papermill": {
     "duration": 0.006779,
     "end_time": "2023-10-02T11:03:28.930889",
     "exception": false,
     "start_time": "2023-10-02T11:03:28.924110",
     "status": "completed"
    },
    "tags": []
   },
   "source": [
    "Reevaluation and Retraining of the Model on Different Random States"
   ]
  },
  {
   "cell_type": "code",
   "execution_count": 15,
   "id": "2b32ca52",
   "metadata": {
    "execution": {
     "iopub.execute_input": "2023-10-02T11:03:28.945951Z",
     "iopub.status.busy": "2023-10-02T11:03:28.945590Z",
     "iopub.status.idle": "2023-10-02T11:10:17.335766Z",
     "shell.execute_reply": "2023-10-02T11:10:17.334543Z"
    },
    "papermill": {
     "duration": 408.400866,
     "end_time": "2023-10-02T11:10:17.338582",
     "exception": false,
     "start_time": "2023-10-02T11:03:28.937716",
     "status": "completed"
    },
    "tags": []
   },
   "outputs": [
    {
     "name": "stderr",
     "output_type": "stream",
     "text": [
      "\u001b[32m2023-10-28 14:10:06.238\u001b[0m | \u001b[1mINFO    \u001b[0m | \u001b[36mutils.validation\u001b[0m:\u001b[36mcross_validate\u001b[0m:\u001b[36m79\u001b[0m - \u001b[1mStarting evaluation...\u001b[0m\n",
      "\u001b[32m2023-10-28 14:10:06.238\u001b[0m | \u001b[1mINFO    \u001b[0m | \u001b[36mutils.validation\u001b[0m:\u001b[36mcross_validate\u001b[0m:\u001b[36m80\u001b[0m - \u001b[1m==============================\u001b[0m\n",
      "\u001b[32m2023-10-28 14:10:17.207\u001b[0m | \u001b[1mINFO    \u001b[0m | \u001b[36mutils.validation\u001b[0m:\u001b[36mcross_validate\u001b[0m:\u001b[36m91\u001b[0m - \u001b[1mModel trained with seed 1847\u001b[0m\n"
     ]
    },
    {
     "name": "stdout",
     "output_type": "stream",
     "text": [
      "Training until validation scores don't improve for 25 rounds\n",
      "Did not meet early stopping. Best iteration is:\n",
      "[750]\tvalid_0's l1: 5.84041\n"
     ]
    },
    {
     "name": "stderr",
     "output_type": "stream",
     "text": [
      "\u001b[32m2023-10-28 14:30:57.136\u001b[0m | \u001b[1mINFO    \u001b[0m | \u001b[36mutils.validation\u001b[0m:\u001b[36mcross_validate\u001b[0m:\u001b[36m103\u001b[0m - \u001b[1mFold 1: 5.8404 (took 1182.84s)\u001b[0m\n",
      "\u001b[32m2023-10-28 14:31:07.275\u001b[0m | \u001b[1mINFO    \u001b[0m | \u001b[36mutils.validation\u001b[0m:\u001b[36mcross_validate\u001b[0m:\u001b[36m91\u001b[0m - \u001b[1mModel trained with seed 404\u001b[0m\n"
     ]
    },
    {
     "name": "stdout",
     "output_type": "stream",
     "text": [
      "Training until validation scores don't improve for 25 rounds\n",
      "Early stopping, best iteration is:\n",
      "[681]\tvalid_0's l1: 5.84148\n"
     ]
    },
    {
     "name": "stderr",
     "output_type": "stream",
     "text": [
      "\u001b[32m2023-10-28 14:51:29.612\u001b[0m | \u001b[1mINFO    \u001b[0m | \u001b[36mutils.validation\u001b[0m:\u001b[36mcross_validate\u001b[0m:\u001b[36m103\u001b[0m - \u001b[1mFold 2: 5.8415 (took 1169.62s)\u001b[0m\n",
      "\u001b[32m2023-10-28 14:51:39.207\u001b[0m | \u001b[1mINFO    \u001b[0m | \u001b[36mutils.validation\u001b[0m:\u001b[36mcross_validate\u001b[0m:\u001b[36m91\u001b[0m - \u001b[1mModel trained with seed 7572\u001b[0m\n"
     ]
    },
    {
     "name": "stdout",
     "output_type": "stream",
     "text": [
      "Training until validation scores don't improve for 25 rounds\n",
      "Did not meet early stopping. Best iteration is:\n",
      "[749]\tvalid_0's l1: 5.84086\n"
     ]
    },
    {
     "name": "stderr",
     "output_type": "stream",
     "text": [
      "\u001b[32m2023-10-28 15:12:59.396\u001b[0m | \u001b[1mINFO    \u001b[0m | \u001b[36mutils.validation\u001b[0m:\u001b[36mcross_validate\u001b[0m:\u001b[36m103\u001b[0m - \u001b[1mFold 3: 5.8409 (took 1221.80s)\u001b[0m\n",
      "\u001b[32m2023-10-28 15:13:01.112\u001b[0m | \u001b[1mINFO    \u001b[0m | \u001b[36mutils.validation\u001b[0m:\u001b[36mcross_validate\u001b[0m:\u001b[36m110\u001b[0m - \u001b[1m------------------------------\u001b[0m\n",
      "\u001b[32m2023-10-28 15:13:01.119\u001b[0m | \u001b[32m\u001b[1mSUCCESS \u001b[0m | \u001b[36mutils.validation\u001b[0m:\u001b[36mcross_validate\u001b[0m:\u001b[36m111\u001b[0m - \u001b[32m\u001b[1mAverage MAE = 5.8409 ± 0.00\u001b[0m\n",
      "\u001b[32m2023-10-28 15:13:01.119\u001b[0m | \u001b[1mINFO    \u001b[0m | \u001b[36mutils.validation\u001b[0m:\u001b[36mcross_validate\u001b[0m:\u001b[36m112\u001b[0m - \u001b[1m==============================\u001b[0m\n"
     ]
    }
   ],
   "source": [
    "scores, trained_models = cross_validate(\n",
    "    model_type=CFG.MODEL,\n",
    "    model_params=best_params,\n",
    "    x=X,\n",
    "    y=Y,\n",
    "    date_id=date_id,\n",
    "    scorer=mean_absolute_error,\n",
    "    cv=CFG.CROSSVAL(test_size=date_id.max() - CFG.TEST_SIZE, n_splits=CFG.N_FOLDS),\n",
    "    categorical_feature=[\"imbalance_buy_sell_flag\"],\n",
    "    callbacks=[lgb.early_stopping(25)],\n",
    "    job_path=CFG.JOB_PATH\n",
    ")"
   ]
  },
  {
   "cell_type": "code",
   "execution_count": null,
   "id": "dfa6bb4f",
   "metadata": {
    "execution": {
     "iopub.execute_input": "2023-10-02T11:10:17.365652Z",
     "iopub.status.busy": "2023-10-02T11:10:17.365253Z",
     "iopub.status.idle": "2023-10-02T11:17:32.819373Z",
     "shell.execute_reply": "2023-10-02T11:17:32.818236Z"
    },
    "papermill": {
     "duration": 435.46484,
     "end_time": "2023-10-02T11:17:32.822042",
     "exception": false,
     "start_time": "2023-10-02T11:10:17.357202",
     "status": "completed"
    },
    "tags": []
   },
   "outputs": [
    {
     "name": "stderr",
     "output_type": "stream",
     "text": [
      "\u001b[32m2023-10-15 15:49:01.660\u001b[0m | \u001b[1mINFO    \u001b[0m | \u001b[36m__main__\u001b[0m:\u001b[36m<module>\u001b[0m:\u001b[36m12\u001b[0m - \u001b[1mFitting model 0 with seed=538\u001b[0m\n"
     ]
    },
    {
     "name": "stdout",
     "output_type": "stream",
     "text": [
      "Training until validation scores don't improve for 25 rounds\n",
      "Early stopping, best iteration is:\n",
      "[523]\tvalid_0's l1: 5.86449\n"
     ]
    },
    {
     "name": "stderr",
     "output_type": "stream",
     "text": [
      "\u001b[32m2023-10-15 15:59:35.539\u001b[0m | \u001b[1mINFO    \u001b[0m | \u001b[36m__main__\u001b[0m:\u001b[36m<module>\u001b[0m:\u001b[36m12\u001b[0m - \u001b[1mFitting model 1 with seed=890\u001b[0m\n"
     ]
    },
    {
     "name": "stdout",
     "output_type": "stream",
     "text": [
      "Training until validation scores don't improve for 25 rounds\n",
      "Early stopping, best iteration is:\n",
      "[409]\tvalid_0's l1: 5.86495\n"
     ]
    },
    {
     "name": "stderr",
     "output_type": "stream",
     "text": [
      "\u001b[32m2023-10-15 16:08:27.024\u001b[0m | \u001b[1mINFO    \u001b[0m | \u001b[36m__main__\u001b[0m:\u001b[36m<module>\u001b[0m:\u001b[36m12\u001b[0m - \u001b[1mFitting model 2 with seed=92\u001b[0m\n"
     ]
    },
    {
     "name": "stdout",
     "output_type": "stream",
     "text": [
      "Training until validation scores don't improve for 25 rounds\n",
      "Early stopping, best iteration is:\n",
      "[658]\tvalid_0's l1: 5.86418\n"
     ]
    },
    {
     "name": "stderr",
     "output_type": "stream",
     "text": [
      "\u001b[32m2023-10-15 16:21:10.624\u001b[0m | \u001b[1mINFO    \u001b[0m | \u001b[36m__main__\u001b[0m:\u001b[36m<module>\u001b[0m:\u001b[36m12\u001b[0m - \u001b[1mFitting model 3 with seed=228\u001b[0m\n"
     ]
    },
    {
     "name": "stdout",
     "output_type": "stream",
     "text": [
      "Training until validation scores don't improve for 25 rounds\n",
      "Early stopping, best iteration is:\n",
      "[422]\tvalid_0's l1: 5.86486\n"
     ]
    },
    {
     "name": "stderr",
     "output_type": "stream",
     "text": [
      "\u001b[32m2023-10-15 16:30:20.781\u001b[0m | \u001b[1mINFO    \u001b[0m | \u001b[36m__main__\u001b[0m:\u001b[36m<module>\u001b[0m:\u001b[36m12\u001b[0m - \u001b[1mFitting model 4 with seed=683\u001b[0m\n"
     ]
    },
    {
     "name": "stdout",
     "output_type": "stream",
     "text": [
      "Training until validation scores don't improve for 25 rounds\n",
      "Early stopping, best iteration is:\n",
      "[551]\tvalid_0's l1: 5.86432\n"
     ]
    }
   ],
   "source": [
    "\"\"\"\n",
    "from utils.files import save_model\n",
    "\n",
    "val_size = 0.1\n",
    "n_estimators = 750 # Reduce number of estimators, specially if val size is 0\n",
    "\n",
    "rng = np.random.default_rng()\n",
    "seeds = rng.integers(low=0, high=1000, size=5)\n",
    "\n",
    "for i, seed in enumerate(seeds):\n",
    "    logger.info(f\"Fitting model {i} with seed={seed}\")\n",
    "\n",
    "    model = LGBMRegressor(**best_params)\n",
    "    model.set_params(random_state=seed, n_estimators=n_estimators)\n",
    "\n",
    "    # Train directly with all the data\n",
    "    if val_size < 0.01:\n",
    "        model.fit(X, Y)\n",
    "\n",
    "    # Strip the last part for validation\n",
    "    else:\n",
    "        X_train, X_val, y_train, y_val = train_test_split(X, Y, shuffle=False, test_size=val_size)\n",
    "        model.fit(X_train, y_train, eval_set=[(X_val, y_val)], callbacks=[lgb.early_stopping(25)])\n",
    "        y_pred = model.predict(X_val, num_iteration=model.best_iteration_)\n",
    "        score = mean_absolute_error(y_val, y_pred)\n",
    "    \n",
    "    model_path = CFG.JOB_PATH.joinpath(\"models\")\n",
    "    model_path.mkdir(exist_ok=True, parents=True)\n",
    "    save_model(model, file=model_path.joinpath(\"model-\" + str(i + 1).zfill(2) + \".pkl\"))\n",
    "\"\"\""
   ]
  },
  {
   "cell_type": "code",
   "execution_count": null,
   "id": "39d289fd",
   "metadata": {
    "execution": {
     "iopub.execute_input": "2023-10-02T11:17:32.839669Z",
     "iopub.status.busy": "2023-10-02T11:17:32.839008Z",
     "iopub.status.idle": "2023-10-02T11:17:33.361587Z",
     "shell.execute_reply": "2023-10-02T11:17:33.360396Z"
    },
    "papermill": {
     "duration": 0.535399,
     "end_time": "2023-10-02T11:17:33.365073",
     "exception": false,
     "start_time": "2023-10-02T11:17:32.829674",
     "status": "completed"
    },
    "tags": []
   },
   "outputs": [
    {
     "data": {
      "text/plain": [
       "<Axes: >"
      ]
     },
     "execution_count": 29,
     "metadata": {},
     "output_type": "execute_result"
    },
    {
     "data": {
      "image/png": "[encoded data removed]",
      "text/plain": [
       "<Figure size 640x480 with 1 Axes>"
      ]
     },
     "metadata": {},
     "output_type": "display_data"
    }
   ],
   "source": [
    "agreggated_feature_importances = (sum([model.booster_.feature_importance(importance_type=\"gain\") \\\n",
    "                                       for model in trained_models])/len(trained_models)).astype(np.int32)\n",
    "\n",
    "agreggated_feature_importances = pd.Series(agreggated_feature_importances, index=X.columns).sort_values(ascending=False)\n",
    "\n",
    "plt.figure(figsize=(10, 12))\n",
    "agreggated_feature_importances.plot(kind='barh')"
   ]
  }
 ],
 "metadata": {
  "kernelspec": {
   "display_name": "Python 3",
   "language": "python",
   "name": "python3"
  },
  "language_info": {
   "codemirror_mode": {
    "name": "ipython",
    "version": 3
   },
   "file_extension": ".py",
   "mimetype": "text/x-python",
   "name": "python",
   "nbconvert_exporter": "python",
   "pygments_lexer": "ipython3",
   "version": "3.10.4"
  },
  "papermill": {
   "default_parameters": {},
   "duration": 896.353412,
   "end_time": "2023-10-02T11:17:34.919827",
   "environment_variables": {},
   "exception": null,
   "input_path": "__notebook__.ipynb",
   "output_path": "__notebook__.ipynb",
   "parameters": {},
   "start_time": "2023-10-02T11:02:38.566415",
   "version": "2.4.0"
  }
 },
 "nbformat": 4,
 "nbformat_minor": 5
}
